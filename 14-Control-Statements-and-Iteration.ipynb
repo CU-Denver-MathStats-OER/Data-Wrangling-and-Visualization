{
  "nbformat": 4,
  "nbformat_minor": 0,
  "metadata": {
    "colab": {
      "provenance": [],
      "authorship_tag": "ABX9TyNxHI9GnproB3QLJ8F48Yr8"
    },
    "kernelspec": {
      "name": "ir",
      "display_name": "R"
    },
    "language_info": {
      "name": "R"
    }
  },
  "cells": [
    {
      "cell_type": "markdown",
      "source": [
        "[![Open In Colab](https://colab.research.google.com/assets/colab-badge.svg)](https://githubtocolab.com/CU-Denver-MathStats-OER/Data-Wrangling-and-Visualization/blob/main/14-Control-Statements-and-Iteration.ipynb)\n",
        "\n",
        "\n",
        "\n",
        "\n"
      ],
      "metadata": {
        "id": "WaUpDHKEpNrt"
      }
    },
    {
      "cell_type": "markdown",
      "source": [
        "# <a name=\"14-title\"><font size=\"6\">Module 14: Control Statements and Interation</font></a>\n",
        "\n",
        "---\n",
        "\n",
        "In this module we will discuss <font color=\"dodgerblue\">**control statements**</font>, <font color=\"dodgerblue\">**iteration**</font>, and <font color=\"dodgerblue\">**vectorized operations**</font>. These are fundamental tools used in R programming. A simple analysis will not need them, but as we analyze more complex data, these tools will be critical in completing our analyses.\n",
        "\n",
        "We start by loading and installing the necessary R packages in the code cells below."
      ],
      "metadata": {
        "id": "TyO8Rh7aOeOy"
      }
    },
    {
      "cell_type": "code",
      "source": [
        "# install permute package for jackal data\n",
        "# install microbenchmark to compare computation speeds\n",
        "install.packages(c(\"permute\", \"microbenchmark\"))"
      ],
      "metadata": {
        "id": "-XJvPVMGz-l-"
      },
      "execution_count": null,
      "outputs": []
    },
    {
      "cell_type": "code",
      "source": [
        "library(permute)\n",
        "library(tidyverse)  # we will use ggplot2\n",
        "library(microbenchmark)"
      ],
      "metadata": {
        "id": "0OYcDGyXz2rA"
      },
      "execution_count": null,
      "outputs": []
    },
    {
      "cell_type": "markdown",
      "metadata": {
        "id": "678b90ca-bb94-42b5-ba07-225595263268"
      },
      "source": [
        "# <a name=\"control\">Control Statements</a>\n",
        "\n",
        "---\n",
        "\n",
        "A <font color=\"dodgerblue\">**control statement**</font> is code that controls what is executed later in the program or script. The most well-known examples are **if-else** and **switch** statements.\n",
        "\n"
      ]
    },
    {
      "cell_type": "markdown",
      "source": [
        "## <a name=\"if\">`if`, `else if` and `else`</a>\n",
        "\n",
        "---\n",
        "\n",
        "The basic form of an `if` statement in R is as follows:\n",
        "\n",
        "```\n",
        "if (condition) {\n",
        "  true_action\n",
        "} else {\n",
        "  false_action\n",
        "}\n",
        "```\n",
        "\n",
        "If the condition is `TRUE`, `true_action` is evaluated; if the condition is `FALSE`, the optional `false_action` is evaluated. Typically the actions are compound statements contained within `{ }`.\n",
        "\n",
        "\n",
        "\n"
      ],
      "metadata": {
        "id": "2783e21kohTY"
      }
    },
    {
      "cell_type": "markdown",
      "source": [
        "## <a name=\"if-generation\">Example: Are They a Millenial?</a>\n",
        "\n",
        "---\n",
        "\n",
        "In the code cell below, we write an initial `if` statement to determine whether or not a person is a millennial given their birth year."
      ],
      "metadata": {
        "id": "JUvfoe04hTKJ"
      }
    },
    {
      "cell_type": "code",
      "execution_count": null,
      "metadata": {
        "id": "sqCSQ15thmWG"
      },
      "outputs": [],
      "source": [
        "year <- 1990"
      ]
    },
    {
      "cell_type": "code",
      "source": [
        "if (year >= 1981 & year <= 1996) {generation <- \"millennial\"}"
      ],
      "metadata": {
        "id": "_n0lVqZuiA5F"
      },
      "execution_count": null,
      "outputs": []
    },
    {
      "cell_type": "code",
      "source": [
        "generation"
      ],
      "metadata": {
        "colab": {
          "base_uri": "https://localhost:8080/",
          "height": 34
        },
        "id": "5SwQo_LZiNEq",
        "outputId": "6fd0a87c-9294-40e2-d42f-aff20bebefd1"
      },
      "execution_count": null,
      "outputs": [
        {
          "output_type": "display_data",
          "data": {
            "text/html": [
              "'millennial'"
            ],
            "text/markdown": "'millennial'",
            "text/latex": "'millennial'",
            "text/plain": [
              "[1] \"millennial\""
            ]
          },
          "metadata": {}
        }
      ]
    },
    {
      "cell_type": "code",
      "source": [
        "year <- 2000"
      ],
      "metadata": {
        "id": "szM00Kkhc_K9"
      },
      "execution_count": null,
      "outputs": []
    },
    {
      "cell_type": "code",
      "source": [
        "if (year >= 1981 & year <= 1996) {\n",
        "  generation <- \"millennial\"\n",
        "} else {\n",
        "  generation <- \"not a millennial\"\n",
        "}"
      ],
      "metadata": {
        "id": "Njg9-Z1diWaq"
      },
      "execution_count": null,
      "outputs": []
    },
    {
      "cell_type": "code",
      "source": [
        "generation"
      ],
      "metadata": {
        "colab": {
          "base_uri": "https://localhost:8080/",
          "height": 34
        },
        "outputId": "6deaab4b-ca3a-4395-b9ae-4f5a93c2c770",
        "id": "gJo1tUyYijph"
      },
      "execution_count": null,
      "outputs": [
        {
          "output_type": "display_data",
          "data": {
            "text/html": [
              "'not a millennial'"
            ],
            "text/markdown": "'not a millennial'",
            "text/latex": "'not a millennial'",
            "text/plain": [
              "[1] \"not a millennial\""
            ]
          },
          "metadata": {}
        }
      ]
    },
    {
      "cell_type": "code",
      "source": [
        "if (year >= 1981 & year <= 1996) {\n",
        "  generation <- \"millennial\"\n",
        "  diff <- year + 10000\n",
        "} else {\n",
        "  generation <- \"not a millennial\"\n",
        "  diff <- year + 20000\n",
        "}"
      ],
      "metadata": {
        "id": "V7InXlVciop4"
      },
      "execution_count": null,
      "outputs": []
    },
    {
      "cell_type": "code",
      "source": [
        "generation\n",
        "diff"
      ],
      "metadata": {
        "colab": {
          "base_uri": "https://localhost:8080/",
          "height": 52
        },
        "outputId": "1d99a937-cf2e-42fd-9d32-ab7413fdd045",
        "id": "ufwZMYiOi1V_"
      },
      "execution_count": null,
      "outputs": [
        {
          "output_type": "display_data",
          "data": {
            "text/html": [
              "'not a millennial'"
            ],
            "text/markdown": "'not a millennial'",
            "text/latex": "'not a millennial'",
            "text/plain": [
              "[1] \"not a millennial\""
            ]
          },
          "metadata": {}
        },
        {
          "output_type": "display_data",
          "data": {
            "text/html": [
              "22000"
            ],
            "text/markdown": "22000",
            "text/latex": "22000",
            "text/plain": [
              "[1] 22000"
            ]
          },
          "metadata": {}
        }
      ]
    },
    {
      "cell_type": "markdown",
      "source": [
        "## <a name=\"else-if\">Adding `else if` Conditions</a>\n",
        "\n",
        "---\n",
        "\n",
        "If-else statements in R rely on 3 statements: `if`, `else if`, `else`.\n",
        "\n",
        "-   The `if` statement can be used by itself.\n",
        "-   The `else` statement must be used in conjunction with the `if` function.\n",
        "-   `else if` must be used in conjunction with the `if` statement and should be used with an `else` statement (otherwise there may be cases that are left out).\n",
        "\n",
        "An `if` or `else if` statement is used to perform a sequence of commands when its argument is `TRUE`.\n",
        "\n",
        "An `else` statement is used to perform a sequence of commands when all previous control statement arguments are `FALSE` in a group of control statements.\n",
        "\n",
        "A set of `if`, `else if`, and `else` statements will having the following structure:\n",
        "\n",
        "```\n",
        "if (logical statement) {\n",
        "  # code to run if logical statement is true\n",
        "} else if (another logical statement) {\n",
        "  # code to run if another logical statement is true\n",
        "} else {\n",
        "  # code to run if none of the other logical statements were true\n",
        "}\n",
        "```\n",
        "\n",
        "- The curly braces, `{}`, are used to indicate the set of commands we want to execute if the logical statement is true.\n",
        "- The `else if` and `else` statements should be <font color=\"dodgerblue\">**one space after the `}`**</font> used to indicate the end if the previous `if` or `else if` statement.\n",
        "- It is common to indent the code within a control statement by one tab to make the code easier to read."
      ],
      "metadata": {
        "id": "IevPgF9XjZ1P"
      }
    },
    {
      "cell_type": "markdown",
      "source": [
        "### <a name=\"gen-class\">Generation Classifications</a>\n",
        "\n",
        "---\n",
        "\n",
        "According to the CareGivers of America at <https://caregiversofamerica.com/2022-generation-names-explained/>, here is a breakdown of birth years for seven recent generations.\n",
        "\n",
        "-   The Greatest Generation: born 1901-1927.\n",
        "-   The Silent Generation: born 1928-1945.\n",
        "-   The Baby Boomer Generation: born 1946-1964.\n",
        "-   Generation X: born 1965-1980.\n",
        "-   Millennials: born 1981-1996.\n",
        "-   Generation Z: born 1997-2012.\n",
        "-   Gen Alpha: born 2013 - 2025.\n",
        "\n",
        "Let's say we have a vector with the birth year of an individual and we wish to identify the individual's generation based on the dates above. We can do this using a sequence of control statements. For simplicity, we only use the last four generations (Millennials, Generation Z, Gen Alpha, and Other).\n"
      ],
      "metadata": {
        "id": "GFt_9TfMkYAq"
      }
    },
    {
      "cell_type": "code",
      "execution_count": null,
      "metadata": {
        "id": "9db61da9"
      },
      "outputs": [],
      "source": [
        "year <- 2000  # set a value for year"
      ]
    },
    {
      "cell_type": "code",
      "execution_count": null,
      "metadata": {
        "id": "T1oqDCkeh79L"
      },
      "outputs": [],
      "source": [
        "# categorize year as a generation\n",
        "if (year >= 1981 & year <= 1996) {\n",
        "  generation <- \"millennial\"\n",
        "} else if (year >= 1997 & year <= 2012) {\n",
        "  generation <- \"generation z\"\n",
        "} else if (year >= 2013 & year <= 2025) {\n",
        "  generation <- \"gen alpha\"\n",
        "} else {\n",
        "  generation <- \"other\"\n",
        "}"
      ]
    },
    {
      "cell_type": "code",
      "source": [
        "generation  # check the result"
      ],
      "metadata": {
        "colab": {
          "base_uri": "https://localhost:8080/",
          "height": 34
        },
        "id": "G-lLgGh7lvO-",
        "outputId": "174ae3d4-e113-407a-cbe3-e45d10168af6"
      },
      "execution_count": null,
      "outputs": [
        {
          "output_type": "display_data",
          "data": {
            "text/html": [
              "'generation z'"
            ],
            "text/markdown": "'generation z'",
            "text/latex": "'generation z'",
            "text/plain": [
              "[1] \"generation z\""
            ]
          },
          "metadata": {}
        }
      ]
    },
    {
      "cell_type": "markdown",
      "metadata": {
        "id": "1e8658eb-90d5-44c4-bc8f-c884a8cc0888"
      },
      "source": [
        "## <a name=\"function-gen\">Creating a Classification Function</a>\n",
        "\n",
        "---\n",
        "\n",
        "As expected, `generation` categorizes a person born in 2000 as being part of `\"generation z\"`. It would be even better if we made a function to do this categorization so that we can do the categorization for many different values of `year`. We create a function, `determine_generation`, that takes the argument `year` and returns the generation corresponding to that year."
      ]
    },
    {
      "cell_type": "code",
      "execution_count": null,
      "metadata": {
        "id": "f046228f"
      },
      "outputs": [],
      "source": [
        "determine_generation <- function(year) {\n",
        "  if (year >= 1981 & year <= 1996) {\n",
        "    generation <- \"millennial\"\n",
        "  } else if (year >= 1997 & year <= 2012) {\n",
        "    generation <- \"generation z\"\n",
        "  } else if (year >= 2013 & year <= 2025) {\n",
        "    generation <- \"gen alpha\"\n",
        "  } else {\n",
        "    generation <- \"other\"\n",
        "  }\n",
        "  return(generation)\n",
        "}"
      ]
    },
    {
      "cell_type": "markdown",
      "metadata": {
        "id": "28067ffe-2417-4d5d-82b0-460c8a7d49c0"
      },
      "source": [
        "We now use the function to determine the generation associated with the value 1985."
      ]
    },
    {
      "cell_type": "code",
      "execution_count": null,
      "metadata": {
        "id": "5cdbba03",
        "colab": {
          "base_uri": "https://localhost:8080/",
          "height": 34
        },
        "outputId": "5c0c0325-efdb-4443-a5d4-f3afe78b0cb7"
      },
      "outputs": [
        {
          "output_type": "display_data",
          "data": {
            "text/html": [
              "'millennial'"
            ],
            "text/markdown": "'millennial'",
            "text/latex": "'millennial'",
            "text/plain": [
              "[1] \"millennial\""
            ]
          },
          "metadata": {}
        }
      ],
      "source": [
        "determine_generation(1985)"
      ]
    },
    {
      "cell_type": "markdown",
      "metadata": {
        "id": "5fae1b5d-fd3f-4818-85be-9bc26dcf517c"
      },
      "source": [
        "The above example is trivial and unrealistic. E.g., our control statements won't work with a vector of inputs. Additionally, it doesn't handle cases like non-integer values very well (what generation is 1981.5?). However, it paints a picture of what can be done using control statements.\n",
        "\n"
      ]
    },
    {
      "cell_type": "markdown",
      "source": [
        "## <a name=\"quest1\">Question 1</a>\n",
        "\n",
        "---\n",
        "\n",
        "Create a function called `the_cure()` that classifies the day of the week based on lyrics from the song [\"Friday I'm in Love\"](https://music.youtube.com/watch?v=Dt7oMSOB7nw)<sup>1</sup> by the band The Cure.\n",
        "\n",
        "> **Monday** you can fall apart <br>\n",
        "> **Tuesday, Wednesday**, break my heart <br>\n",
        "> Oh, **Thursday** doesn't even start <br>\n",
        "> It's **Friday**, I'm in love <br>\n",
        "> **Saturday** wait <br>\n",
        "> And **Sunday** always comes too late\n",
        "\n",
        "<br>  \n",
        "\n",
        "<font size=2>1. Robert James Smith, Simon Gallup, Perry Bamonte, Boris Williams, and Porl Thompson (1992), \"Friday I'm in Love\", Wish. Fiction Records.</font>"
      ],
      "metadata": {
        "id": "wJq-dUkTmnN9"
      }
    },
    {
      "cell_type": "code",
      "execution_count": null,
      "metadata": {
        "id": "2XgmeP-fprhN"
      },
      "outputs": [],
      "source": [
        "# solution\n"
      ]
    },
    {
      "cell_type": "code",
      "source": [
        "# check code\n"
      ],
      "metadata": {
        "id": "J04jsCienQkK"
      },
      "execution_count": null,
      "outputs": []
    },
    {
      "cell_type": "markdown",
      "source": [
        "# <a name=\"switch\">The `switch()` Function</a>\n",
        "\n",
        "---\n",
        "\n",
        "The `switch` function is a compact way of evaluating a set of `if`, `else if`, and `else` statements when we need to change our action depending on a single value argument that can only take a small number of values.\n",
        "\n",
        "The `switch` function takes the following arguments:\n",
        "\n",
        "-   `EXPR`: a single value that evaluates to a number or character string.\n",
        "-   … A list of what to do based on the value of `EXPR`.\n",
        "\n"
      ],
      "metadata": {
        "id": "Kgl9k6PMlH3W"
      }
    },
    {
      "cell_type": "markdown",
      "source": [
        "## <a name=\"animal-switch\">Animal Example</a>\n",
        "\n",
        "---\n",
        "\n",
        "Let's create a function called `sound` that takes a single character value `animal` and returns the “sound” associated with that animal.\n",
        "\n",
        "- The `switch` function takes the value in `animal` and then decides what to do."
      ],
      "metadata": {
        "id": "B2oQrLNelDDE"
      }
    },
    {
      "cell_type": "code",
      "execution_count": null,
      "metadata": {
        "id": "302e4977"
      },
      "outputs": [],
      "source": [
        "sound <- function(animal) {\n",
        "  switch(animal,\n",
        "         \"dog\" = \"ruff\",\n",
        "         \"cat\" = \"meow\",\n",
        "         \"horse\" = \"neigh\",\n",
        "         \"frog\" = \"ribbit\",\n",
        "         \"cow\" = \"moo\",\n",
        "         \"duck\" = \"quack\",\n",
        "         \"rooster\" = \"keekarikee\",\n",
        "         \"coyote\" = \"yipp\",\n",
        "         \"donkey\" = \"hee-haw\",\n",
        "         \"we don't know what sound this animal makes\")\n",
        "}"
      ]
    },
    {
      "cell_type": "markdown",
      "metadata": {
        "id": "78c97d3f-4049-4d11-b517-7d6dbce96d70"
      },
      "source": [
        "-   If `animal` is `\"dog\"`, then the `switch` function returns `\"ruff\"`.\n",
        "-   If `animal` is `\"cat\"`, then the `switch` function returns `\"meow\"`.\n",
        "-   The last input to the `switch` argument in the above example is what we want to return if the value of `animal` doesn't match any of the previous choices.\n",
        "\n",
        "Let's use this function."
      ]
    },
    {
      "cell_type": "code",
      "execution_count": null,
      "metadata": {
        "id": "4d0e0a1b",
        "colab": {
          "base_uri": "https://localhost:8080/",
          "height": 34
        },
        "outputId": "325773b2-be2a-4ff3-ea53-d7cb26cb26f9"
      },
      "outputs": [
        {
          "output_type": "display_data",
          "data": {
            "text/html": [
              "'ruff'"
            ],
            "text/markdown": "'ruff'",
            "text/latex": "'ruff'",
            "text/plain": [
              "[1] \"ruff\""
            ]
          },
          "metadata": {}
        }
      ],
      "source": [
        "sound(\"dog\")"
      ]
    },
    {
      "cell_type": "code",
      "execution_count": null,
      "metadata": {
        "id": "c1aaec2e",
        "colab": {
          "base_uri": "https://localhost:8080/",
          "height": 34
        },
        "outputId": "da74328c-af16-4f07-c347-46f2172a774d"
      },
      "outputs": [
        {
          "output_type": "display_data",
          "data": {
            "text/html": [
              "'quack'"
            ],
            "text/markdown": "'quack'",
            "text/latex": "'quack'",
            "text/plain": [
              "[1] \"quack\""
            ]
          },
          "metadata": {}
        }
      ],
      "source": [
        "sound(\"duck\")"
      ]
    },
    {
      "cell_type": "code",
      "execution_count": null,
      "metadata": {
        "id": "c9ef46aa",
        "colab": {
          "base_uri": "https://localhost:8080/",
          "height": 34
        },
        "outputId": "ed635aa1-1ff7-4932-dda5-58aae1e5a2b0"
      },
      "outputs": [
        {
          "output_type": "display_data",
          "data": {
            "text/html": [
              "'we don\\'t know what sound this animal makes'"
            ],
            "text/markdown": "'we don\\'t know what sound this animal makes'",
            "text/latex": "'we don\\textbackslash{}'t know what sound this animal makes'",
            "text/plain": [
              "[1] \"we don't know what sound this animal makes\""
            ]
          },
          "metadata": {}
        }
      ],
      "source": [
        "sound(\"goose\")"
      ]
    },
    {
      "cell_type": "markdown",
      "source": [
        "## <a name=\"quest2\">Question 2</a>\n",
        "\n",
        "---\n",
        "\n",
        "Create a `switch()` function called `my_mood()` that classifies the day of the week based on lyrics from the song \"Friday I'm in Love\" by The Cure.\n",
        "\n",
        "> **Monday** you can fall apart <br>\n",
        "> **Tuesday, Wednesday**, break my heart <br>\n",
        "> Oh, **Thursday** doesn't even start <br>\n",
        "> It's **Friday**, I'm in love <br>\n",
        "> **Saturday** wait <br>\n",
        "> And **Sunday** always comes too late\n",
        "\n"
      ],
      "metadata": {
        "id": "ZlcOhk6-rPrp"
      }
    },
    {
      "cell_type": "code",
      "execution_count": null,
      "metadata": {
        "id": "wwsyveNgr0ng"
      },
      "outputs": [],
      "source": [
        "# solution\n"
      ]
    },
    {
      "cell_type": "code",
      "source": [
        "# check code\n"
      ],
      "metadata": {
        "id": "L10pKd-HsMP9"
      },
      "execution_count": null,
      "outputs": []
    },
    {
      "cell_type": "markdown",
      "metadata": {
        "id": "e4089728-271c-403c-a27e-7e03873600f2"
      },
      "source": [
        "# <a name=\"iterate\">Iteration</a>\n",
        "\n",
        "---\n",
        "\n",
        "<font color=\"dodgerblue\">**Iteration**</font> in programming is when we repeatedly (or iteratively) run the same code block until some condition is satisfied.\n",
        "\n",
        "The two *main* iteration approaches in R are <font color=\"dodgerblue\">`for`</font> and <font color=\"dodgerblue\">`while`</font> loops.\n",
        "\n",
        "There is also a `repeat` loop that repeatedly runs the same set of code until the `break` function is used.\n",
        "\n",
        "-   The `break` function is used to “break out” of the current iteration of the inner-most loop.\n",
        "-   The `next` function is used stop the current iteration and advance the looping index.\n",
        "\n",
        "The `repeat`, `break`, or `next` functions are not commonly used nor needed, so we will not be covering them in this module.\n"
      ]
    },
    {
      "cell_type": "markdown",
      "source": [
        "# <a name=\"for\">`for` loops</a>\n",
        "\n",
        "---\n",
        "\n",
        "`for` loops are useful if we know in advance the set of values that we want to iterate over. For example, we may want to perform an action for integer values running from 1 to 100.\n",
        "\n",
        "The basic syntax of a `for` loop is shown in the pseudo code below.\n",
        "\n",
        "```\n",
        "for (i in vector_of_values) {\n",
        "  # some code to run\n",
        "}\n",
        "```\n",
        "\n",
        "We have the following components of the `for` loop:\n",
        "\n",
        "-   The loop starts with `for`, which indicates that we want to perform a `for` loop.\n",
        "-   Inside parentheses after `for`, we have the iterator name, which is the name of the variable that our loop is changing.  \n",
        "  - In this example, we called the iterator `i`. Names like `i`, `j`, `k`, and `l` are commonly used, but we can use any name that won't conflict with other object in memory.\n",
        "-   After the iterator name, we use the syntax “`in`”, which indicates that our iterator will take the values in `vector_of_values`.\n",
        "-   `vector_of_values` is a vector containing the values the iterator can take as we progress through the loop.\n",
        "-   After the parenthesis, we use the curly braces `{}` to indicate the code we want to run in our loop.\n",
        "-   The `#some code to run` is the code we wish to execute in our loop.\n",
        "\n",
        "Here's what happens in a `for` loop:\n",
        "\n",
        "1.  The iterator takes the first value in `vector_of_values`.\n",
        "2.  Using that iterator value, the loop runs the code in the curly braces.\n",
        "3.  After that code runs, the `for` function will change the iterator to the next value in `vector_of_values`.\n",
        "4.  We repeat steps 2 and 3 until there are no more values in `vector_of_values`.\n",
        "5.  We exit the loop.\n",
        "\n",
        "Here's an example of a simple `for` loop that prints the current iterator value for the values 1, 2, and 3."
      ],
      "metadata": {
        "id": "SVWgO75ntyFb"
      }
    },
    {
      "cell_type": "code",
      "execution_count": null,
      "metadata": {
        "id": "0aa2b980",
        "colab": {
          "base_uri": "https://localhost:8080/"
        },
        "outputId": "aa3fe748-6f42-4df7-cfb5-27162436c080"
      },
      "outputs": [
        {
          "output_type": "stream",
          "name": "stderr",
          "text": [
            "The current iterator value is 1\n",
            "\n",
            "The current iterator value is 2\n",
            "\n",
            "The current iterator value is 3\n",
            "\n"
          ]
        }
      ],
      "source": [
        "for (i in 1:3) {\n",
        "  message(\"The current iterator value is \", i)\n",
        "}"
      ]
    },
    {
      "cell_type": "markdown",
      "metadata": {
        "id": "ddd77e93-7b3b-415b-bcca-cd42638d6839"
      },
      "source": [
        "The `message` function prints a diagnostic message to the screen. Notice that the `message` function can combine text and numeric values into a single message. We have to manually include spaces in the text.\n",
        "\n",
        "Here is a loop that takes a character string of animal names and returns the sound made by the animal. We use the `sound` function we previously created."
      ]
    },
    {
      "cell_type": "code",
      "execution_count": null,
      "metadata": {
        "id": "091fccc7",
        "colab": {
          "base_uri": "https://localhost:8080/"
        },
        "outputId": "b7e4833f-fc22-4b7c-bddc-3723b643b48e"
      },
      "outputs": [
        {
          "output_type": "stream",
          "name": "stderr",
          "text": [
            "The dog makes the sound ruff.\n",
            "\n",
            "The cat makes the sound meow.\n",
            "\n",
            "The coyote makes the sound yipp.\n",
            "\n"
          ]
        }
      ],
      "source": [
        "for (animal in c(\"dog\", \"cat\", \"coyote\")) {\n",
        "  current_sound <- sound(animal)\n",
        "  message(\"The \", animal, \" makes the sound \", current_sound, \".\")\n",
        "}"
      ]
    },
    {
      "cell_type": "markdown",
      "source": [
        "## <a name=\"bootstrap\">Example: Bootstrap Distributions</a>\n",
        "\n",
        "---\n",
        "\n",
        "<font color=\"dodgerblue\">**Bootstrapping**</font> is the process of generating many different random samples from one random sample to obtain an estimate for a population parameter. For each randomly selected resample, we calculate a statistic of interest. Then we construct a new distribution of bootstrap statistics that approximates a sampling distribution for some sample statistic (such as a mean, proportion, variance, and others). We can use bootstrapping with any sample, even small ones. We can bootstrap any statistic. Thus, bootstrapping provides a robust method for performing statistical inference that we can adapt to many different situations in statistics and data science.\n",
        "\n"
      ],
      "metadata": {
        "id": "fjXuOG31u1uR"
      }
    },
    {
      "cell_type": "markdown",
      "source": [
        "#### <a name=\"16boot-steps\">A Bootstrapping Algorithm</a>\n",
        "\n",
        "---\n",
        "\n",
        "Given an original sample of size $n$ from a population:\n",
        "\n",
        "1.  Draw a  <font color=\"dodgerblue\">**bootstrap resample**</font> of the same size, $n$, with replacement from the original sample.\n",
        "2.  Compute the relevant statistic (mean, proportion, max, variance, etc) of that sample.\n",
        "3.  Repeat this many times (say $100,\\!000$ times).\n",
        "\n",
        "-   A distribution of statistics from the bootstrap samples is called a  <font color=\"dodgerblue\">**bootstrap distribution**</font>.\n",
        "-   A bootstrap distribution gives an *approximation* for the sampling distribution.\n",
        "-   We can inspect the center, spread and shape of the bootstrap distribution and do statistical inference.\n",
        "\n"
      ],
      "metadata": {
        "id": "TCg-s3UWFjUz"
      }
    },
    {
      "cell_type": "markdown",
      "source": [
        "### <a name=\"quest3\">Question 3</a>\n",
        "\n",
        "---\n",
        "\n",
        "Consider a random sample of 4 golden jackal mandible lengths (in mm):\n",
        "\n",
        "$$120, 107, 110, \\mbox{ and } 116.$$\n",
        "\n",
        "Which of the following could be a possible\n",
        "bootstrap resample? Explain why or why not.\n",
        "\n",
        "<br>\n",
        "\n",
        "a. 120, 107, 116 <br>\n",
        "b. 110, 110, 110, 110 <br>\n",
        "c. 120, 107, 110, 116 <br>\n",
        "d. 120, 107, 110, 116, 120 <br>\n",
        "e. 110, 130, 120, 107 <br>\n",
        "\n",
        "<br>"
      ],
      "metadata": {
        "id": "_-uTsJfvFk4x"
      }
    },
    {
      "cell_type": "markdown",
      "source": [
        "#### <a name=\"sol3\">Solution to Question 3</a>\n",
        "\n",
        "---\n",
        "\n",
        "##### Part a\n",
        "\n",
        "\n",
        "\n",
        "<br>\n",
        "\n",
        "##### Part b\n",
        "\n",
        "\n",
        "\n",
        "<br>\n",
        "\n",
        "##### Part c\n",
        "\n",
        "\n",
        "\n",
        "<br>\n",
        "\n",
        "\n",
        "##### Part d\n",
        "\n",
        "\n",
        "\n",
        "<br>\n",
        "\n",
        "##### Part e\n",
        "\n",
        "\n",
        "<br>  \n"
      ],
      "metadata": {
        "id": "3JBpgqgVNRzn"
      }
    },
    {
      "cell_type": "markdown",
      "source": [
        "### <a name=\"16monte\">Monte Carlo Methods</a>\n",
        "\n",
        "---\n",
        "\n",
        "<font color=\"dodgerblue\">**Monte Carlo methods**</font> are computational algorithms that rely on repeated random sampling. A bootstrap distribution is one example of a Monte Carlo method. A bootstrap distribution theoretically would contain the sample statistics from *all possible bootstrap resamples*. If we pick an initial sample size $n$, then there exists a total of $n^n$ possible bootstrap resamples. In the case of $n=20$, we have $20^{20} \\approx 1.049 \\times 10^{26}$ possible resamples. If we ignore the ordering in which we pick the sample, when $n=20$, we have a total of $68,\\!923,\\!264,\\!410$ (almost 69 billion!) distinct bootstrap\n",
        "resamples.\n",
        "\n",
        "For small samples, we could write out all possible bootstrap resamples. For larger values of $n$ (and we see $n=20$ is already extremely large), it is really not practical or feasible to generate all possible bootstrap resamples while avoiding duplicates. Instead, we use Monte Carlo methods to repeatedly pick random samples that we use to approximate a sampling distribution. The Monte Carlo method of\n",
        "generating many (but necessarily all) bootstrap resamples introduces additional uncertainty and variability into the analysis. The more bootstrap resamples we choose, the less uncertainty we have.\n",
        "\n",
        "-   By default, we will create $N =100,\\!000 = 10^5$ bootstrap resamples.\n",
        "-   In some cases (very large $n$), we may choose a smaller number of resamples for the sake of time.\n",
        "-   For typically bootstrapping, it is recommended to use at least $N=10,\\!000$ bootstrap resamples.\n",
        "\n",
        "Monte Carlo methods were first explored by the Polish mathematician Stanislow Ulam in the 1940s while working on the initial development of nuclear weapons at Los Alamos National Lab in New Mexico. The research\n",
        "required evaluating extremely challenging integrals. Ulam devised a numerical algorithm based on resampling to approximate the integrals. The method was later named “Monte Carlo”, a gambling region in Monaco,\n",
        "due to the randomness involved in the computations.\n",
        "\n"
      ],
      "metadata": {
        "id": "DNtqAYajFslF"
      }
    },
    {
      "cell_type": "markdown",
      "source": [
        "### <a name=\"16jackal\">Case Study: Golden Jackal Mandible Length</a>\n",
        "\n",
        "---\n",
        "\n",
        "<figure>\n",
        "<img\n",
        "src=\"https://upload.wikimedia.org/wikipedia/commons/5/5e/Golden_jackal_-_portrait.jpg\"\n",
        "alt=\"Golden Jackal Portrait\" width = \"45%\"/> &nbsp;&nbsp;&nbsp;&nbsp;&nbsp;&nbsp;&nbsp;&nbsp;\n",
        "<img\n",
        "src=\"https://upload.wikimedia.org/wikipedia/commons/4/40/Grey_wolf_%26_golden_jackal_mandibles.jpg\"\n",
        "alt=\"Wolf and Jackal Mandible Bones\" width = \"35%\"/>\n",
        "<figcaption aria-hidden=\"true\">\n",
        "Left Credit:  Вых Пыхманн, <a href=\"https://creativecommons.org/licenses/by-sa/3.0\">CC BY-SA 3.0</a>, via Wikimedia Commons <br> Right Credit: Mariomassone, <a href=\"https://creativecommons.org/licenses/by-sa/4.0\">CC BY-SA 4.0</a>, via Wikimedia Commons\n",
        "</figcaption>\n",
        "</figure>\n",
        "\n",
        "A zoologist would like to answer the following question:\n",
        "\n",
        "> What is the average mandible (jaw) length of all golden jackals (Canis aureus)?\n",
        "\n",
        "\n",
        "The data frame<sup>2</sup> `jackal` in the `permute` package contains a sample of $n=20$ mandibles from male and female golden jackals. For each of the 20 observations, two variables are recorded:\n",
        "\n",
        "-   `Length` is the length of the mandible in millimeters (mm).\n",
        "-   `Sex` is a categorical variable with two levels: `Male` and `Female`.\n",
        "\n",
        "<br>\n",
        "\n",
        "<font size=\"2\"> 2.  Manly, B.F.J. (2007) *Randomization, bootstrap and Monte Carlo methods in biology*. Third Edition. Chapman & Hall/CRC, Boca Raton.</font>\n"
      ],
      "metadata": {
        "id": "tbmf08HmFYZt"
      }
    },
    {
      "cell_type": "code",
      "source": [
        "# run only if you need to install and load permute\n",
        "#install.packages(\"permute\")  # installing permute package\n",
        "#library(permute)  # loading permute package"
      ],
      "metadata": {
        "id": "cJzELm8_CHn6"
      },
      "execution_count": null,
      "outputs": []
    },
    {
      "cell_type": "markdown",
      "metadata": {
        "id": "037d2e54-158a-4f91-bb94-dd0ea443eaa6"
      },
      "source": [
        "#### <a name=\"16sum-jackal\">Summarizing and Storing the Data</a>\n",
        "\n",
        "---\n",
        "\n",
        "In the code cell below we load the `jackal` data from the `permute` package and provide a numerical summary of the two variables in the sample."
      ]
    },
    {
      "cell_type": "code",
      "execution_count": null,
      "metadata": {
        "id": "af6672bb-c3d7-40c6-b690-531ed61392fe",
        "colab": {
          "base_uri": "https://localhost:8080/",
          "height": 138
        },
        "outputId": "22420768-f418-487a-cdb2-3da807211127"
      },
      "outputs": [
        {
          "output_type": "display_data",
          "data": {
            "text/plain": [
              "     Length          Sex    \n",
              " Min.   :105.0   Male  :10  \n",
              " 1st Qu.:107.8   Female:10  \n",
              " Median :111.0              \n",
              " Mean   :111.0              \n",
              " 3rd Qu.:113.2              \n",
              " Max.   :120.0              "
            ]
          },
          "metadata": {}
        }
      ],
      "source": [
        "data(jackal)  # load jackal data\n",
        "summary(jackal)  # numerical summary of each variable"
      ]
    },
    {
      "cell_type": "markdown",
      "metadata": {
        "id": "84966967-5e07-474c-bd70-b79d02dbbd52"
      },
      "source": [
        "The code cell below displays the distribution of mandible lengths\n",
        "separately for males and females."
      ]
    },
    {
      "cell_type": "code",
      "source": [
        "plot(Length ~ Sex, data = jackal,\n",
        "     col = c(\"dodgerblue\", \"mediumseagreen\"),\n",
        "     main = \"Mandible Length of Golden Jackals\",\n",
        "     ylab = \"Length (in mm)\",\n",
        "     cex.lab=1.5, cex.axis=1.5, cex.main=1.5)"
      ],
      "metadata": {
        "colab": {
          "base_uri": "https://localhost:8080/",
          "height": 437
        },
        "id": "IH0C6s4t0K6r",
        "outputId": "7110add8-f147-466e-b705-1057bb82d181"
      },
      "execution_count": null,
      "outputs": [
        {
          "output_type": "display_data",
          "data": {
            "text/plain": [
              "Plot with title “Mandible Length of Golden Jackals”"
            ],
            "image/png": "[encoded data removed]"
          },
          "metadata": {
            "image/png": {
              "width": 420,
              "height": 420
            }
          }
        }
      ]
    },
    {
      "cell_type": "markdown",
      "metadata": {
        "id": "2821e6c4-30c9-439e-8102-b9982004abcf"
      },
      "source": [
        "We will be analyzing mandible lengths for both adult male and female golden jackals. In the code cell below, we save the $n=20$ mandible lengths to a vector called `jaw_sample`."
      ]
    },
    {
      "cell_type": "code",
      "execution_count": null,
      "metadata": {
        "id": "a06111ef-269b-4e93-a2d6-3ae3885b23e0",
        "colab": {
          "base_uri": "https://localhost:8080/",
          "height": 34
        },
        "outputId": "859a5dea-64cf-47d0-dcaf-2ab01837ccf1"
      },
      "outputs": [
        {
          "output_type": "display_data",
          "data": {
            "text/html": [
              "<style>\n",
              ".list-inline {list-style: none; margin:0; padding: 0}\n",
              ".list-inline>li {display: inline-block}\n",
              ".list-inline>li:not(:last-child)::after {content: \"\\00b7\"; padding: 0 .5ex}\n",
              "</style>\n",
              "<ol class=list-inline><li>120</li><li>107</li><li>110</li><li>116</li><li>114</li><li>111</li><li>113</li><li>117</li><li>114</li><li>112</li><li>110</li><li>111</li><li>107</li><li>108</li><li>110</li><li>105</li><li>107</li><li>106</li><li>111</li><li>111</li></ol>\n"
            ],
            "text/markdown": "1. 120\n2. 107\n3. 110\n4. 116\n5. 114\n6. 111\n7. 113\n8. 117\n9. 114\n10. 112\n11. 110\n12. 111\n13. 107\n14. 108\n15. 110\n16. 105\n17. 107\n18. 106\n19. 111\n20. 111\n\n\n",
            "text/latex": "\\begin{enumerate*}\n\\item 120\n\\item 107\n\\item 110\n\\item 116\n\\item 114\n\\item 111\n\\item 113\n\\item 117\n\\item 114\n\\item 112\n\\item 110\n\\item 111\n\\item 107\n\\item 108\n\\item 110\n\\item 105\n\\item 107\n\\item 106\n\\item 111\n\\item 111\n\\end{enumerate*}\n",
            "text/plain": [
              " [1] 120 107 110 116 114 111 113 117 114 112 110 111 107 108 110 105 107 106 111\n",
              "[20] 111"
            ]
          },
          "metadata": {}
        }
      ],
      "source": [
        "jaw_sample <- jackal$Length  # store mandible lengths to vector\n",
        "jaw_sample  # print sample to screen"
      ]
    },
    {
      "cell_type": "markdown",
      "source": [
        "### <a name=\"16jackal-boot\">Creating a Bootstrap Distribution with a `for` Loop</a>\n",
        "\n",
        "---\n",
        "\n",
        "Let’s return to our statistical question:\n",
        "\n",
        "> What is the average mandible (jaw) length of all golden jackals?\n",
        "\n",
        "We have already picked one random sample of $n=20$ adult golden jackals. The mandible lengths of our sample are stored in the vector `jaw_sample`.\n",
        "\n",
        "Based on the sample, a good estimate for the population mean is the sample mean, $\\mu \\approx \\bar{x} = 111$ mm.\n",
        "\n",
        "- This estimate has some uncertainty since different samples generally lead in a different estimates.\n",
        "- We more often give interval estimates to build in some margin of error (MoE):\n",
        "\n",
        "$$\\mu \\approx  111 \\text{ mm } \\pm \\text{MoE}$$\n",
        "\n",
        "- **How can we approximate the margin of error from a single sample?**\n",
        "  - In some cases, we have an underlying theoretical model for the sampling distribution (for example the Central Limit Theorem).\n",
        "  - We can always approximate a sampling distribution by bootstrapping."
      ],
      "metadata": {
        "id": "DJKjPWspFufl"
      }
    },
    {
      "cell_type": "code",
      "source": [
        "mean(jaw_sample)\n",
        "sd(jaw_sample)"
      ],
      "metadata": {
        "colab": {
          "base_uri": "https://localhost:8080/",
          "height": 52
        },
        "id": "6W9IzW9vy1ak",
        "outputId": "b4797b2f-a496-4e91-8e70-18d25e2db6d5"
      },
      "execution_count": null,
      "outputs": [
        {
          "output_type": "display_data",
          "data": {
            "text/html": [
              "111"
            ],
            "text/markdown": "111",
            "text/latex": "111",
            "text/plain": [
              "[1] 111"
            ]
          },
          "metadata": {}
        },
        {
          "output_type": "display_data",
          "data": {
            "text/html": [
              "3.87977210399623"
            ],
            "text/markdown": "3.87977210399623",
            "text/latex": "3.87977210399623",
            "text/plain": [
              "[1] 3.879772"
            ]
          },
          "metadata": {}
        }
      ]
    },
    {
      "cell_type": "markdown",
      "source": [
        "#### <a name=\"16jackal-pick\">Step 1: Pick a Bootstrap Resample</a>\n",
        "\n",
        "---\n",
        "\n",
        "We use the `sample()` function in R to pick a random sample of values out of the values in `jaw_sample`.\n",
        "\n",
        "-   Notice the resample has size $n=20$, the same as the original sample.\n",
        "-   We use the option `replace = TRUE` since we want to sample with replacement.\n",
        "-   Running the code cell below creates one bootstrap resample stored in `temp_samp`."
      ],
      "metadata": {
        "id": "eVu-UbDiFwY0"
      }
    },
    {
      "cell_type": "code",
      "execution_count": null,
      "metadata": {
        "id": "1fb7d57b-bd8b-471c-bff8-9c71bc28f2a9",
        "colab": {
          "base_uri": "https://localhost:8080/",
          "height": 34
        },
        "outputId": "011eac67-14ea-4dff-ce29-b5d18e8c4af5"
      },
      "outputs": [
        {
          "output_type": "display_data",
          "data": {
            "text/html": [
              "<style>\n",
              ".list-inline {list-style: none; margin:0; padding: 0}\n",
              ".list-inline>li {display: inline-block}\n",
              ".list-inline>li:not(:last-child)::after {content: \"\\00b7\"; padding: 0 .5ex}\n",
              "</style>\n",
              "<ol class=list-inline><li>114</li><li>108</li><li>107</li><li>110</li><li>110</li><li>114</li><li>110</li><li>110</li><li>107</li><li>111</li><li>107</li><li>108</li><li>111</li><li>120</li><li>107</li><li>111</li><li>105</li><li>112</li><li>110</li><li>111</li></ol>\n"
            ],
            "text/markdown": "1. 114\n2. 108\n3. 107\n4. 110\n5. 110\n6. 114\n7. 110\n8. 110\n9. 107\n10. 111\n11. 107\n12. 108\n13. 111\n14. 120\n15. 107\n16. 111\n17. 105\n18. 112\n19. 110\n20. 111\n\n\n",
            "text/latex": "\\begin{enumerate*}\n\\item 114\n\\item 108\n\\item 107\n\\item 110\n\\item 110\n\\item 114\n\\item 110\n\\item 110\n\\item 107\n\\item 111\n\\item 107\n\\item 108\n\\item 111\n\\item 120\n\\item 107\n\\item 111\n\\item 105\n\\item 112\n\\item 110\n\\item 111\n\\end{enumerate*}\n",
            "text/plain": [
              " [1] 114 108 107 110 110 114 110 110 107 111 107 108 111 120 107 111 105 112 110\n",
              "[20] 111"
            ]
          },
          "metadata": {}
        }
      ],
      "source": [
        "set.seed(101)  # fix the randomization for reproducible code\n",
        "\n",
        "temp_samp <- sample(jaw_sample, size=20, replace = TRUE)  # sample with replacement\n",
        "temp_samp  # print sample to screen"
      ]
    },
    {
      "cell_type": "markdown",
      "metadata": {
        "id": "081322b2-e566-4ccb-bb6c-fb7bf13de26d"
      },
      "source": [
        "#### <a name=\"16jackal-stat\">Step 2: Calculate Statistic(s) from the Bootstrap Sample</a>\n",
        "\n",
        "---\n",
        "\n",
        "In the golden jackal mandible length example, we want to use information\n",
        "about the distribution of sample means to estimate a population mean.\n",
        "Thus, we calculate the mean of the bootstrap resample `temp_samp` that\n",
        "we picked in the previous code cell."
      ]
    },
    {
      "cell_type": "code",
      "execution_count": null,
      "metadata": {
        "id": "2a819656-7c8b-4609-9068-b2358f835958",
        "colab": {
          "base_uri": "https://localhost:8080/",
          "height": 34
        },
        "outputId": "5d35e498-a31e-403c-a80d-5fc72579742c"
      },
      "outputs": [
        {
          "output_type": "display_data",
          "data": {
            "text/html": [
              "110.15"
            ],
            "text/markdown": "110.15",
            "text/latex": "110.15",
            "text/plain": [
              "[1] 110.15"
            ]
          },
          "metadata": {}
        }
      ],
      "source": [
        "mean(temp_samp)  # mean of bootstrap resample"
      ]
    },
    {
      "cell_type": "markdown",
      "metadata": {
        "id": "a2530739-ae2a-4e91-a631-5a24f60733a6"
      },
      "source": [
        "#### <a name=\"16jackal-repeat\">Step 3: Repeat Over and Over Again</a>\n",
        "\n",
        "---\n",
        "\n",
        "In the code cell below, we repeat steps 1 and 2 over and over again. The\n",
        "sample means we calculate from each bootstrap resample are stored in a\n",
        "vector named `boot_dist`. Run the code cell below to generate a\n",
        "bootstrap distribution for the sample mean.\n",
        "\n",
        "-   A  <font color=\"tomato\">solid red line</font> marks the location of the  <font color=\"tomato\">sample mean from the original sample</font>.\n",
        "\n",
        "<br>\n",
        "\n",
        "<font size=2>2. Ali Louei Monfared, “Macro-Anatomical Investigation of the Skull of Golden Jackal (Canis aureus) and its Clinical Application during Regional Anesthesia”, *Global Veterinaria* 10 (5): 547-550, 2013.</font>"
      ]
    },
    {
      "cell_type": "code",
      "execution_count": null,
      "metadata": {
        "id": "feb0a530-ea9e-4161-bf02-fff56c12856f"
      },
      "outputs": [],
      "source": [
        "set.seed(012)  # fix the randomization for reproducible code\n",
        "\n",
        "N <- 10^5  # number of bootstrap samples is 100,000\n",
        "boot_dist <- numeric(N)  # create vector to store bootstrap means\n",
        "\n",
        "# for loop that creates bootstrap dist\n",
        "for (i in 1:N)\n",
        "{\n",
        "  x <- sample(jaw_sample, 20, replace = TRUE)  # pick a bootstrap resample\n",
        "  boot_dist[i] <- mean(x)  # compute mean of bootstrap resample\n",
        "}"
      ]
    },
    {
      "cell_type": "code",
      "source": [
        "# store in data frame to use with ggplot2\n",
        "df <- data.frame(samp_mean = boot_dist)"
      ],
      "metadata": {
        "id": "CHeuVfqI2LMi"
      },
      "execution_count": null,
      "outputs": []
    },
    {
      "cell_type": "code",
      "source": [
        "# histogram representing bootstrap distribution\n",
        "ggplot(df, aes(x = samp_mean)) +\n",
        "  # create histogram to display bootstrap dist\n",
        "  geom_histogram(\n",
        "    fill = \"gray\",\n",
        "    color = \"black\",\n",
        "    bins = 30\n",
        "  ) +\n",
        "  # add vertical reference lines\n",
        "  geom_vline(\n",
        "    xintercept = mean(jaw_sample),\n",
        "    linetype = \"dashed\",\n",
        "    col = \"firebrick2\",\n",
        "    linewidth = 1\n",
        "  ) +\n",
        "  # customize labels\n",
        "  labs(\n",
        "    title = \"Bootstrap Distribution for Sample Mean (n=20)\",\n",
        "    x = \"x-bar, mandible length sample mean (in mm)\",\n",
        "    y = \"Count\",\n",
        "  ) +\n",
        "  # customize layout\n",
        "  theme_bw() +\n",
        "  theme(\n",
        "    panel.grid.minor = element_blank(),  # remove minor gridlines\n",
        "    text = element_text(size=16)  # increase font size\n",
        "  )"
      ],
      "metadata": {
        "colab": {
          "base_uri": "https://localhost:8080/",
          "height": 437
        },
        "id": "hB6fZ2mf14jj",
        "outputId": "6f4678b2-c672-4be0-feeb-53fd03da5064"
      },
      "execution_count": null,
      "outputs": [
        {
          "output_type": "display_data",
          "data": {
            "text/plain": [
              "plot without title"
            ],
            "image/png": "[encoded data removed]"
          },
          "metadata": {
            "image/png": {
              "width": 420,
              "height": 420
            }
          }
        }
      ]
    },
    {
      "cell_type": "markdown",
      "metadata": {
        "id": "ab81e7cd-6960-4c7c-9c1d-3d4c39b47ac8"
      },
      "source": [
        "### <a name=\"quest4\">Question 4</a>\n",
        "\n",
        "---\n",
        "\n",
        "What are the mean and standard error of the bootstrap distribution? Use the code below to compute each value."
      ]
    },
    {
      "cell_type": "code",
      "execution_count": null,
      "metadata": {
        "id": "6a1515a8-0a7d-4a08-beda-1be265c6c184"
      },
      "outputs": [],
      "source": [
        "# calculate mean of bootstrap dist\n",
        "\n",
        "\n",
        "# calculate bootstrap standard error\n"
      ]
    },
    {
      "cell_type": "markdown",
      "metadata": {
        "id": "d97f50f4-3fbf-42ac-959c-3ba2b02c6103"
      },
      "source": [
        "#### <a name=\"sol4\">Solution to Question 4</a>\n",
        "\n",
        "---\n",
        "\n",
        "<br>  \n",
        "\n",
        "\n",
        "<br>\n",
        "\n"
      ]
    },
    {
      "cell_type": "markdown",
      "source": [
        "### <a name=\"17ci-95\">A 95% Bootstrap Percentile Confidence Interval</a>\n",
        "\n",
        "---\n",
        "\n",
        "The interval between the $2.5$ and $97.5$ percentiles (or $0.025$ and $0.975$ quantiles) of the bootstrap distribution of a statistic is a <font color=\"dodgerblue\">**95% bootstrap percentile confidence interval**</font> for the corresponding parameter.\n",
        "\n",
        "\n",
        "<center>\n",
        "<figure>\n",
        "<img\n",
        "src=\"https://upload.wikimedia.org/wikipedia/commons/e/e9/17fig-boot-ci.png\"\n",
        "alt=\"A 95% Bootstrap Percentile Confidence Interval\" width = \"50%\"/>\n",
        "<figcaption aria-hidden=\"true\">\n",
        "Credit: Adam Spiegler, <a href=\"https://creativecommons.org/licenses/by-sa/4.0\">CC BY-SA 4.0</a>\n",
        "</figcaption>\n",
        "</figure>\n",
        "</center>\n",
        "\n",
        "-   If most of the sample statistics are located in a certain interval of the bootstrap distribution, it seems plausible the true value of the parameter is in this interval!\n",
        "-   We are 95% confident that the interval contains the actual value of the population parameter since 95% of the bootstrap resamples are inside this interval.\n",
        "-   <font color=\"dodgerblue\">**Confidence interval estimates give a range of plausible values for an unknown parameter.**</font>\n",
        "\n",
        "When we interpret the practical meaning of a confidence interval, we attach the uncertainty of the estimate to the interval (which is uncertain) and not the parameter we are estimating (which is unknown but fixed).\n",
        "\n",
        "> There is a 95% chance the interval estimate contains the population parameter.\n",
        "\n"
      ],
      "metadata": {
        "id": "hepEr3KkX4sX"
      }
    },
    {
      "cell_type": "markdown",
      "source": [
        "### <a name=\"quest5\">Question 5</a>\n",
        "\n",
        "---\n",
        "\n",
        "In the first code cell below, use bootstrap sample means stored in `boot_dist` to find a 95% bootstrap confidence interval for the mean mandible length of all golden jackals.\n",
        "\n",
        "In the second code cell, add dashed, blue vertical lines to indicate the cutoffs in a histogram representing the bootstrap distribution for the mean.\n",
        "\n",
        "Finally, give a practical interpretation of the 95% bootstrap confidence interval in the text cell below the code cells.\n",
        "\n",
        "<br>  \n",
        "\n",
        "<font color=\"mediumseagreen\">*Hint*: Recall the `quantile()` function in R. Run the command `?quantile` for a refresher!</a>\n"
      ],
      "metadata": {
        "id": "wPSUqvCT1AkW"
      }
    },
    {
      "cell_type": "code",
      "source": [
        "# compute cutoffs for a 95% bootstrap confidence interval\n"
      ],
      "metadata": {
        "id": "r_kGI7J28dLM"
      },
      "execution_count": null,
      "outputs": []
    },
    {
      "cell_type": "code",
      "source": [
        "# add two verticals lines to original plot\n",
        "ggplot(df, aes(x = samp_mean)) +\n",
        "  # create histogram to display bootstrap dist\n",
        "  geom_histogram(\n",
        "    fill = \"gray\",\n",
        "    color = \"black\",\n",
        "    bins = 30\n",
        "  ) +\n",
        "  # add vertical reference line\n",
        "  geom_vline(\n",
        "    xintercept = mean(jaw_sample),\n",
        "    linetype = \"dashed\",\n",
        "    col = \"firebrick2\",\n",
        "    linewidth = 1\n",
        "  ) +\n",
        "  # customize labels\n",
        "  labs(\n",
        "    title = \"Bootstrap Distribution for Sample Mean (n=20)\",\n",
        "    x = \"x-bar, mandible length sample mean (in mm)\",\n",
        "    y = \"Count\",\n",
        "  ) +\n",
        "  # customize layout\n",
        "  theme_bw() +\n",
        "  theme(\n",
        "    panel.grid.minor = element_blank(),  # remove minor gridlines\n",
        "    text = element_text(size=16)  # increase font size\n",
        "  )"
      ],
      "metadata": {
        "id": "S_VHfdMW83Sx"
      },
      "execution_count": null,
      "outputs": []
    },
    {
      "cell_type": "markdown",
      "source": [
        "#### <a name=\"sol5\">Solution to Question 5</a>\n",
        "\n",
        "---\n",
        "\n",
        "Informal: The interval from 109.4 mm to 112.7 mm gives the plausible range of values for the mean mandible length of all golden jackals.\n",
        "\n",
        "<br>\n",
        "\n",
        "More formal: There is a 95% chance the interval from 109.4 mm to 112.7 mm contains the mean mandible length of all golden jackals."
      ],
      "metadata": {
        "id": "0eJUASBX9_1S"
      }
    },
    {
      "cell_type": "markdown",
      "source": [
        "## <a name=\"quest6\">Question 6</a>\n",
        "\n",
        "---\n",
        "\n",
        "Construct a 90% bootstrap confidence for the standard deviation of the mandible the length of all golden jackals. Include a plot of the bootstrap distribution for the standard deviation marking the endpoints of the bootstrap confidence interval."
      ],
      "metadata": {
        "id": "fzm9ZK0Gkbi_"
      }
    },
    {
      "cell_type": "code",
      "source": [
        "# compute cutoffs for 90% confidence interval for sd\n"
      ],
      "metadata": {
        "id": "m4Tyc42VlCOD"
      },
      "execution_count": null,
      "outputs": []
    },
    {
      "cell_type": "code",
      "source": [
        "# create plot\n",
        "\n"
      ],
      "metadata": {
        "id": "hbulIFvCrjkn"
      },
      "execution_count": null,
      "outputs": []
    },
    {
      "cell_type": "markdown",
      "source": [
        "## <a name=\"quest7\">Question 7</a>\n",
        "\n",
        "---\n",
        "\n",
        "Create function named `boot_ci()` that takes four arguments as inputs:\n",
        "\n",
        "- `samp`, a vector of values from a sample.\n",
        "- `stat`, a statistical function (i.e. `mean`, `sd`, `median`, etc.)\n",
        "- `level`, a confidence level (as a decimal).\n",
        "- `N`, the number of bootstrap resamples to include.\n",
        "  - This is an optional argument with default set to `N = 10^5`.\n",
        "\n",
        "and generates a bootstrap confidence interval. Then use `boot_ci` to check your answer from [Question 6](#quest6).\n"
      ],
      "metadata": {
        "id": "Vu0Oqb6VlDsr"
      }
    },
    {
      "cell_type": "code",
      "source": [
        "# create boot_ci function\n"
      ],
      "metadata": {
        "id": "_ZiSvPjElDsr"
      },
      "execution_count": null,
      "outputs": []
    },
    {
      "cell_type": "code",
      "source": [
        "# check previous result\n",
        "set.seed(012)  # fix the randomization for reproducible code\n"
      ],
      "metadata": {
        "id": "KU6ODdpOn14L"
      },
      "execution_count": null,
      "outputs": []
    },
    {
      "cell_type": "markdown",
      "metadata": {
        "id": "0480361b-7cd2-4841-a69c-93cce13b2502"
      },
      "source": [
        "## <a name=\"kkn\">Example: K Nearest Neighbors</font>\n",
        "\n",
        "---\n",
        "\n",
        "\n",
        "\n",
        "<figure>\n",
        "<img\n",
        "src=\"https://upload.wikimedia.org/wikipedia/commons/thumb/c/cb/Flores_de_%C3%8Dris.png/512px-Flores_de_%C3%8Dris.png?20230708171909\"\n",
        "alt=\"Species of Iris Flower\" width = \"60%\"/>\n",
        "<figcaption aria-hidden=\"true\">\n",
        "Credit:  Diego Mariano, <a href=\"https://creativecommons.org/licenses/by-sa/4.0\">CC BY-SA 4.0</a>, via Wikimedia Commons</figcaption>\n",
        "</figure>\n",
        "\n",
        "We now use a `for` loop to determine the <font color=\"dodgerblue\">**K nearest neighbors**</font> (or <font color=\"dodgerblue\">**KNN**</font>)of a set of locations. For each location, we determine the K locations that are nearest to the current location. These K locations are the nearest neighbors of the current location.\n",
        "\n",
        "We will use the `iris` data frame which we can access in `base` R without loading any special package. The documentation states:\n",
        "\n",
        "> This famous (Fisher's or Anderson's) iris data set gives the measurements in centimeters of the variables sepal length and width and petal length and width, respectively, for 50 flowers from each of 3 species of iris.  The species are *Iris setosa*, *versicolor*, and *virginica*.\n",
        "\n",
        "- In the first two code cells below we load the `iris` data frame and view the first 5 rows."
      ]
    },
    {
      "cell_type": "code",
      "source": [
        "data(\"iris\")\n",
        "head(iris)"
      ],
      "metadata": {
        "colab": {
          "base_uri": "https://localhost:8080/",
          "height": 286
        },
        "id": "dBPSSQ3__ov-",
        "outputId": "4fec2a13-be57-4fd2-abed-7023397e9b14"
      },
      "execution_count": null,
      "outputs": [
        {
          "output_type": "display_data",
          "data": {
            "text/html": [
              "<table class=\"dataframe\">\n",
              "<caption>A data.frame: 6 × 5</caption>\n",
              "<thead>\n",
              "\t<tr><th></th><th scope=col>Sepal.Length</th><th scope=col>Sepal.Width</th><th scope=col>Petal.Length</th><th scope=col>Petal.Width</th><th scope=col>Species</th></tr>\n",
              "\t<tr><th></th><th scope=col>&lt;dbl&gt;</th><th scope=col>&lt;dbl&gt;</th><th scope=col>&lt;dbl&gt;</th><th scope=col>&lt;dbl&gt;</th><th scope=col>&lt;fct&gt;</th></tr>\n",
              "</thead>\n",
              "<tbody>\n",
              "\t<tr><th scope=row>1</th><td>5.1</td><td>3.5</td><td>1.4</td><td>0.2</td><td>setosa</td></tr>\n",
              "\t<tr><th scope=row>2</th><td>4.9</td><td>3.0</td><td>1.4</td><td>0.2</td><td>setosa</td></tr>\n",
              "\t<tr><th scope=row>3</th><td>4.7</td><td>3.2</td><td>1.3</td><td>0.2</td><td>setosa</td></tr>\n",
              "\t<tr><th scope=row>4</th><td>4.6</td><td>3.1</td><td>1.5</td><td>0.2</td><td>setosa</td></tr>\n",
              "\t<tr><th scope=row>5</th><td>5.0</td><td>3.6</td><td>1.4</td><td>0.2</td><td>setosa</td></tr>\n",
              "\t<tr><th scope=row>6</th><td>5.4</td><td>3.9</td><td>1.7</td><td>0.4</td><td>setosa</td></tr>\n",
              "</tbody>\n",
              "</table>\n"
            ],
            "text/markdown": "\nA data.frame: 6 × 5\n\n| <!--/--> | Sepal.Length &lt;dbl&gt; | Sepal.Width &lt;dbl&gt; | Petal.Length &lt;dbl&gt; | Petal.Width &lt;dbl&gt; | Species &lt;fct&gt; |\n|---|---|---|---|---|---|\n| 1 | 5.1 | 3.5 | 1.4 | 0.2 | setosa |\n| 2 | 4.9 | 3.0 | 1.4 | 0.2 | setosa |\n| 3 | 4.7 | 3.2 | 1.3 | 0.2 | setosa |\n| 4 | 4.6 | 3.1 | 1.5 | 0.2 | setosa |\n| 5 | 5.0 | 3.6 | 1.4 | 0.2 | setosa |\n| 6 | 5.4 | 3.9 | 1.7 | 0.4 | setosa |\n\n",
            "text/latex": "A data.frame: 6 × 5\n\\begin{tabular}{r|lllll}\n  & Sepal.Length & Sepal.Width & Petal.Length & Petal.Width & Species\\\\\n  & <dbl> & <dbl> & <dbl> & <dbl> & <fct>\\\\\n\\hline\n\t1 & 5.1 & 3.5 & 1.4 & 0.2 & setosa\\\\\n\t2 & 4.9 & 3.0 & 1.4 & 0.2 & setosa\\\\\n\t3 & 4.7 & 3.2 & 1.3 & 0.2 & setosa\\\\\n\t4 & 4.6 & 3.1 & 1.5 & 0.2 & setosa\\\\\n\t5 & 5.0 & 3.6 & 1.4 & 0.2 & setosa\\\\\n\t6 & 5.4 & 3.9 & 1.7 & 0.4 & setosa\\\\\n\\end{tabular}\n",
            "text/plain": [
              "  Sepal.Length Sepal.Width Petal.Length Petal.Width Species\n",
              "1 5.1          3.5         1.4          0.2         setosa \n",
              "2 4.9          3.0         1.4          0.2         setosa \n",
              "3 4.7          3.2         1.3          0.2         setosa \n",
              "4 4.6          3.1         1.5          0.2         setosa \n",
              "5 5.0          3.6         1.4          0.2         setosa \n",
              "6 5.4          3.9         1.7          0.4         setosa "
            ]
          },
          "metadata": {}
        }
      ]
    },
    {
      "cell_type": "markdown",
      "source": [
        "### <a name=\"viz-iris\">Visualizing Clusters in the `iris` Data</a>\n",
        "\n",
        "---\n",
        "\n",
        "In the code cell below, we create a scatter plot to compare the `Petal.Length` and `Petal.Width` variables, distinguishing each point based on the species of the iris.\n"
      ],
      "metadata": {
        "id": "mp-grYcOBjD7"
      }
    },
    {
      "cell_type": "code",
      "source": [
        "ggplot(iris, aes(x = Petal.Width, y = Petal.Length, col = Species, shape = Species)) +\n",
        "  geom_point(size = 3) +\n",
        "  scale_colour_viridis_d() +\n",
        "  theme_bw()"
      ],
      "metadata": {
        "colab": {
          "base_uri": "https://localhost:8080/",
          "height": 437
        },
        "outputId": "f33df848-54bd-4e67-f907-7014a8d3f2e2",
        "id": "sh6snl86BuF7"
      },
      "execution_count": null,
      "outputs": [
        {
          "output_type": "display_data",
          "data": {
            "text/plain": [
              "plot without title"
            ],
            "image/png": "[encoded data removed]"
          },
          "metadata": {
            "image/png": {
              "width": 420,
              "height": 420
            }
          }
        }
      ]
    },
    {
      "cell_type": "markdown",
      "source": [
        "### <a name=\"wrangle-iris\">Wrangling the `iris` Data</a>\n",
        "\n",
        "---\n",
        "\n",
        "We will restrict our analysis to `Petal.Length` (column 3) and `Petal.Width` (column 4) measurements of the petals of each observation in the `iris` data set. In the code cell below, we:\n",
        "\n",
        "-  Create a subset `iris_petal` that includes only these two columns for all 150 observations, and\n",
        "- Scale values so we weigh both features equally in our analysis.\n",
        "\n",
        "\n"
      ],
      "metadata": {
        "id": "Vm3bH9jFB_yu"
      }
    },
    {
      "cell_type": "code",
      "source": [
        "iris_petal <- scale(iris[, 3:4])\n",
        "head(iris_petal)"
      ],
      "metadata": {
        "colab": {
          "base_uri": "https://localhost:8080/",
          "height": 255
        },
        "id": "cb6sR-RV_5Cq",
        "outputId": "89fb0d46-baa6-48a5-d1fe-de24df8a6581"
      },
      "execution_count": 2,
      "outputs": [
        {
          "output_type": "display_data",
          "data": {
            "text/html": [
              "<table class=\"dataframe\">\n",
              "<caption>A matrix: 6 × 2 of type dbl</caption>\n",
              "<thead>\n",
              "\t<tr><th scope=col>Petal.Length</th><th scope=col>Petal.Width</th></tr>\n",
              "</thead>\n",
              "<tbody>\n",
              "\t<tr><td>-1.335752</td><td>-1.311052</td></tr>\n",
              "\t<tr><td>-1.335752</td><td>-1.311052</td></tr>\n",
              "\t<tr><td>-1.392399</td><td>-1.311052</td></tr>\n",
              "\t<tr><td>-1.279104</td><td>-1.311052</td></tr>\n",
              "\t<tr><td>-1.335752</td><td>-1.311052</td></tr>\n",
              "\t<tr><td>-1.165809</td><td>-1.048667</td></tr>\n",
              "</tbody>\n",
              "</table>\n"
            ],
            "text/markdown": "\nA matrix: 6 × 2 of type dbl\n\n| Petal.Length | Petal.Width |\n|---|---|\n| -1.335752 | -1.311052 |\n| -1.335752 | -1.311052 |\n| -1.392399 | -1.311052 |\n| -1.279104 | -1.311052 |\n| -1.335752 | -1.311052 |\n| -1.165809 | -1.048667 |\n\n",
            "text/latex": "A matrix: 6 × 2 of type dbl\n\\begin{tabular}{ll}\n Petal.Length & Petal.Width\\\\\n\\hline\n\t -1.335752 & -1.311052\\\\\n\t -1.335752 & -1.311052\\\\\n\t -1.392399 & -1.311052\\\\\n\t -1.279104 & -1.311052\\\\\n\t -1.335752 & -1.311052\\\\\n\t -1.165809 & -1.048667\\\\\n\\end{tabular}\n",
            "text/plain": [
              "     Petal.Length Petal.Width\n",
              "[1,] -1.335752    -1.311052  \n",
              "[2,] -1.335752    -1.311052  \n",
              "[3,] -1.392399    -1.311052  \n",
              "[4,] -1.279104    -1.311052  \n",
              "[5,] -1.335752    -1.311052  \n",
              "[6,] -1.165809    -1.048667  "
            ]
          },
          "metadata": {}
        }
      ]
    },
    {
      "cell_type": "markdown",
      "metadata": {
        "id": "87317c06-8509-42b6-b04f-cb73cbece129"
      },
      "source": [
        "### <a name=\"nn3\">Finding the 3 Nearest Neighbors</a>\n",
        "\n",
        "---\n",
        "\n",
        "We will determine the 3 nearest neighbors of each of the $n=150$ observations in `iris_petal` using a `for` loop. We will store our results in a `list` with $n=150$ elements.\n",
        "\n",
        "- Each element of the `list` will be a `numeric` `vector` of length 3 indicating the 3 nearest neighbors of the current location.\n",
        "- We could store this in a `matrix` for efficiency, but we use a `list` to get broader exposure to the R programming language.\n",
        "\n",
        "We start by creating `nnlist`, which is the `list` that will store the nearest neighbors for each location. We can create an empty vector using the `vector` function, specifying `mode = \"list\"`, then indicating the length of the `list`."
      ]
    },
    {
      "cell_type": "code",
      "execution_count": 3,
      "metadata": {
        "id": "8023eba4"
      },
      "outputs": [],
      "source": [
        "nnlist <- vector(mode = \"list\", length = nrow(iris_petal))"
      ]
    },
    {
      "cell_type": "markdown",
      "metadata": {
        "id": "ef098371-d31b-4e43-8344-580e331953a3"
      },
      "source": [
        "Why did we specify `length = nrow(iris_petal)` instead of `length = 150`? This allows us to adapt our code to a new set of locations that may not be the same size.\n",
        "\n",
        "- *It is wise not to “hard code” values (like the size of a `matrix` or `list` or even the values for a loop) into our code to make it easier to use the code for a new setting.*\n",
        "\n",
        "To find the nearest neighbors of each location, we need to find the distances between locations.\n",
        "\n",
        "The `dist` function can be used to determine the distances between the coordinates contained in a `matrix` object. The function can compute many kinds of distance, but the default is `\"euclidean\"`, which is what we need. By default, the `dist` function doesn't return the diagonal elements of the distance matrix nor the upper diagonal elements. A trick to get the complete distance matrix is to use the `as.matrix` function on the object returned by the `dist` function. The value contained in row `i` and column `j` of the distance matrix is the distance between the $i$th location and the $j$th location.\n",
        "\n",
        "With all that being said, we compute the distance matrix for the locations in `coords`."
      ]
    },
    {
      "cell_type": "code",
      "execution_count": 4,
      "metadata": {
        "id": "80da4cbe"
      },
      "outputs": [],
      "source": [
        "d <- as.matrix(dist(iris_petal))"
      ]
    },
    {
      "cell_type": "markdown",
      "metadata": {
        "id": "d06ea623-b342-4c27-aedd-f860c5a69abc"
      },
      "source": [
        "This matrix is too big to look at easily. However, from the code below, we can see that the distance between the 3rd and 17th observations is $0.262385$."
      ]
    },
    {
      "cell_type": "code",
      "execution_count": 5,
      "metadata": {
        "id": "38cdae46",
        "colab": {
          "base_uri": "https://localhost:8080/",
          "height": 34
        },
        "outputId": "14352d6a-a706-4866-8d78-66fa89c3acc8"
      },
      "outputs": [
        {
          "output_type": "display_data",
          "data": {
            "text/html": [
              "0.262385353209833"
            ],
            "text/markdown": "0.262385353209833",
            "text/latex": "0.262385353209833",
            "text/plain": [
              "[1] 0.2623854"
            ]
          },
          "metadata": {}
        }
      ],
      "source": [
        "d[3, 17]"
      ]
    },
    {
      "cell_type": "markdown",
      "metadata": {
        "id": "2592f6ee-4a44-436b-a0ee-25ed867863f6"
      },
      "source": [
        "How do we find the locations nearest the current location? We need to find the locations that have the smallest distance from the current location. The easiest way to do this in R is using the `order` function.\n",
        "\n",
        "The `order` function takes a vector of values and indicates which positions of the vector contain the smallest values, in ascending order. The `decreasing` argument of `order` can be changed to `TRUE` to order the values in descending order.\n",
        "\n",
        "Here's a quick example that uses the `order` functions to order the values of a `numeric` `vector` from smallest to largest."
      ]
    },
    {
      "cell_type": "code",
      "execution_count": 6,
      "metadata": {
        "id": "1a5aa017",
        "colab": {
          "base_uri": "https://localhost:8080/",
          "height": 34
        },
        "outputId": "c517ef5f-799b-470a-d98f-1b06de29c857"
      },
      "outputs": [
        {
          "output_type": "display_data",
          "data": {
            "text/html": [
              "<style>\n",
              ".list-inline {list-style: none; margin:0; padding: 0}\n",
              ".list-inline>li {display: inline-block}\n",
              ".list-inline>li:not(:last-child)::after {content: \"\\00b7\"; padding: 0 .5ex}\n",
              "</style>\n",
              "<ol class=list-inline><li>2</li><li>3</li><li>4</li><li>1</li></ol>\n"
            ],
            "text/markdown": "1. 2\n2. 3\n3. 4\n4. 1\n\n\n",
            "text/latex": "\\begin{enumerate*}\n\\item 2\n\\item 3\n\\item 4\n\\item 1\n\\end{enumerate*}\n",
            "text/plain": [
              "[1] 2 3 4 1"
            ]
          },
          "metadata": {}
        }
      ],
      "source": [
        "order(c(5, 1, 2, 4))"
      ]
    },
    {
      "cell_type": "markdown",
      "metadata": {
        "id": "f835ed3b-96ff-44ff-8710-9411fb0b639b"
      },
      "source": [
        "The second element of the vector we gave to `order` has the smallest value. The third element has the second smallest value. The fourth element has the next smallest value. The first element has the largest value.\n",
        "\n",
        "We can use the `order` function to order the distances associated with each location. Let's do this for the first flower in `iris_petal`. We pass the vector of distances between the first location and all other locations (including itself) to the `order` function. This vector of distances is simply the first row of `d`."
      ]
    },
    {
      "cell_type": "code",
      "execution_count": 7,
      "metadata": {
        "id": "927f181f",
        "colab": {
          "base_uri": "https://localhost:8080/",
          "height": 104
        },
        "outputId": "1952aa8a-451d-4b76-f9b6-143c5bf97def"
      },
      "outputs": [
        {
          "output_type": "display_data",
          "data": {
            "text/html": [
              "<style>\n",
              ".list-inline {list-style: none; margin:0; padding: 0}\n",
              ".list-inline>li {display: inline-block}\n",
              ".list-inline>li:not(:last-child)::after {content: \"\\00b7\"; padding: 0 .5ex}\n",
              "</style>\n",
              "<ol class=list-inline><li>1</li><li>2</li><li>5</li><li>9</li><li>29</li><li>34</li><li>48</li><li>50</li><li>4</li><li>8</li><li>11</li><li>28</li><li>35</li><li>40</li><li>49</li><li>3</li><li>37</li><li>39</li><li>43</li><li>15</li><li>36</li><li>12</li><li>26</li><li>30</li><li>31</li><li>47</li><li>13</li><li>38</li><li>7</li><li>18</li><li>46</li><li>10</li><li>33</li><li>20</li><li>41</li><li>42</li><li>21</li><li>14</li><li>19</li><li>23</li><li>16</li><li>22</li><li>32</li><li>17</li><li>25</li><li>27</li><li>6</li><li>45</li><li>24</li><li>44</li><li>99</li><li>58</li><li>94</li><li>61</li><li>80</li><li>82</li><li>81</li><li>63</li><li>70</li><li>68</li><li>65</li><li>83</li><li>93</li><li>96</li><li>54</li><li>72</li><li>90</li><li>89</li><li>100</li><li>60</li><li>95</li><li>97</li><li>91</li><li>75</li><li>98</li><li>88</li><li>56</li><li>74</li><li>66</li><li>76</li><li>59</li><li>62</li><li>92</li><li>51</li><li>64</li><li>52</li><li>67</li><li>69</li><li>79</li><li>85</li><li>77</li><li>55</li><li>87</li><li>86</li><li>53</li><li>73</li><li>57</li><li>107</li><li>120</li><li>134</li><li>84</li><li>78</li><li>71</li><li>127</li><li>139</li><li>135</li><li>124</li><li>128</li><li>150</li><li>147</li><li>102</li><li>143</li><li>122</li><li>130</li><li>114</li><li>117</li><li>138</li><li>112</li><li>111</li><li>104</li><li>148</li><li>109</li><li>126</li><li>140</li><li>113</li><li>129</li><li>142</li><li>131</li><li>108</li><li>125</li><li>146</li><li>116</li><li>133</li><li>103</li><li>115</li><li>149</li><li>105</li><li>121</li><li>132</li><li>137</li><li>141</li><li>144</li><li>123</li><li>136</li><li>106</li><li>145</li><li>101</li><li>118</li><li>110</li><li>119</li></ol>\n"
            ],
            "text/markdown": "1. 1\n2. 2\n3. 5\n4. 9\n5. 29\n6. 34\n7. 48\n8. 50\n9. 4\n10. 8\n11. 11\n12. 28\n13. 35\n14. 40\n15. 49\n16. 3\n17. 37\n18. 39\n19. 43\n20. 15\n21. 36\n22. 12\n23. 26\n24. 30\n25. 31\n26. 47\n27. 13\n28. 38\n29. 7\n30. 18\n31. 46\n32. 10\n33. 33\n34. 20\n35. 41\n36. 42\n37. 21\n38. 14\n39. 19\n40. 23\n41. 16\n42. 22\n43. 32\n44. 17\n45. 25\n46. 27\n47. 6\n48. 45\n49. 24\n50. 44\n51. 99\n52. 58\n53. 94\n54. 61\n55. 80\n56. 82\n57. 81\n58. 63\n59. 70\n60. 68\n61. 65\n62. 83\n63. 93\n64. 96\n65. 54\n66. 72\n67. 90\n68. 89\n69. 100\n70. 60\n71. 95\n72. 97\n73. 91\n74. 75\n75. 98\n76. 88\n77. 56\n78. 74\n79. 66\n80. 76\n81. 59\n82. 62\n83. 92\n84. 51\n85. 64\n86. 52\n87. 67\n88. 69\n89. 79\n90. 85\n91. 77\n92. 55\n93. 87\n94. 86\n95. 53\n96. 73\n97. 57\n98. 107\n99. 120\n100. 134\n101. 84\n102. 78\n103. 71\n104. 127\n105. 139\n106. 135\n107. 124\n108. 128\n109. 150\n110. 147\n111. 102\n112. 143\n113. 122\n114. 130\n115. 114\n116. 117\n117. 138\n118. 112\n119. 111\n120. 104\n121. 148\n122. 109\n123. 126\n124. 140\n125. 113\n126. 129\n127. 142\n128. 131\n129. 108\n130. 125\n131. 146\n132. 116\n133. 133\n134. 103\n135. 115\n136. 149\n137. 105\n138. 121\n139. 132\n140. 137\n141. 141\n142. 144\n143. 123\n144. 136\n145. 106\n146. 145\n147. 101\n148. 118\n149. 110\n150. 119\n\n\n",
            "text/latex": "\\begin{enumerate*}\n\\item 1\n\\item 2\n\\item 5\n\\item 9\n\\item 29\n\\item 34\n\\item 48\n\\item 50\n\\item 4\n\\item 8\n\\item 11\n\\item 28\n\\item 35\n\\item 40\n\\item 49\n\\item 3\n\\item 37\n\\item 39\n\\item 43\n\\item 15\n\\item 36\n\\item 12\n\\item 26\n\\item 30\n\\item 31\n\\item 47\n\\item 13\n\\item 38\n\\item 7\n\\item 18\n\\item 46\n\\item 10\n\\item 33\n\\item 20\n\\item 41\n\\item 42\n\\item 21\n\\item 14\n\\item 19\n\\item 23\n\\item 16\n\\item 22\n\\item 32\n\\item 17\n\\item 25\n\\item 27\n\\item 6\n\\item 45\n\\item 24\n\\item 44\n\\item 99\n\\item 58\n\\item 94\n\\item 61\n\\item 80\n\\item 82\n\\item 81\n\\item 63\n\\item 70\n\\item 68\n\\item 65\n\\item 83\n\\item 93\n\\item 96\n\\item 54\n\\item 72\n\\item 90\n\\item 89\n\\item 100\n\\item 60\n\\item 95\n\\item 97\n\\item 91\n\\item 75\n\\item 98\n\\item 88\n\\item 56\n\\item 74\n\\item 66\n\\item 76\n\\item 59\n\\item 62\n\\item 92\n\\item 51\n\\item 64\n\\item 52\n\\item 67\n\\item 69\n\\item 79\n\\item 85\n\\item 77\n\\item 55\n\\item 87\n\\item 86\n\\item 53\n\\item 73\n\\item 57\n\\item 107\n\\item 120\n\\item 134\n\\item 84\n\\item 78\n\\item 71\n\\item 127\n\\item 139\n\\item 135\n\\item 124\n\\item 128\n\\item 150\n\\item 147\n\\item 102\n\\item 143\n\\item 122\n\\item 130\n\\item 114\n\\item 117\n\\item 138\n\\item 112\n\\item 111\n\\item 104\n\\item 148\n\\item 109\n\\item 126\n\\item 140\n\\item 113\n\\item 129\n\\item 142\n\\item 131\n\\item 108\n\\item 125\n\\item 146\n\\item 116\n\\item 133\n\\item 103\n\\item 115\n\\item 149\n\\item 105\n\\item 121\n\\item 132\n\\item 137\n\\item 141\n\\item 144\n\\item 123\n\\item 136\n\\item 106\n\\item 145\n\\item 101\n\\item 118\n\\item 110\n\\item 119\n\\end{enumerate*}\n",
            "text/plain": [
              "  [1]   1   2   5   9  29  34  48  50   4   8  11  28  35  40  49   3  37  39\n",
              " [19]  43  15  36  12  26  30  31  47  13  38   7  18  46  10  33  20  41  42\n",
              " [37]  21  14  19  23  16  22  32  17  25  27   6  45  24  44  99  58  94  61\n",
              " [55]  80  82  81  63  70  68  65  83  93  96  54  72  90  89 100  60  95  97\n",
              " [73]  91  75  98  88  56  74  66  76  59  62  92  51  64  52  67  69  79  85\n",
              " [91]  77  55  87  86  53  73  57 107 120 134  84  78  71 127 139 135 124 128\n",
              "[109] 150 147 102 143 122 130 114 117 138 112 111 104 148 109 126 140 113 129\n",
              "[127] 142 131 108 125 146 116 133 103 115 149 105 121 132 137 141 144 123 136\n",
              "[145] 106 145 101 118 110 119"
            ]
          },
          "metadata": {}
        }
      ],
      "source": [
        "order(d[1,])"
      ]
    },
    {
      "cell_type": "code",
      "source": [
        "order(d[2,])"
      ],
      "metadata": {
        "id": "iTTKblhtFRGp"
      },
      "execution_count": null,
      "outputs": []
    },
    {
      "cell_type": "code",
      "source": [
        "order(d[3,])"
      ],
      "metadata": {
        "id": "T2CpyAKWFUl6"
      },
      "execution_count": null,
      "outputs": []
    },
    {
      "cell_type": "markdown",
      "metadata": {
        "id": "1486fa3f-af57-4ed6-9eec-8c4a4451e14c"
      },
      "source": [
        "Unsurprisingly, the first location is “closest” to itself. The next closest location is location 2. The next location after that is location 5, then 9, then 29, and so on. A K nearest neighbors algorithm doesn't usually allow a location to be its own neighbor. So, in our case, **we want to select the second through fourth elements of the ordered distances**. We can do that using the code below."
      ]
    },
    {
      "cell_type": "code",
      "execution_count": 8,
      "metadata": {
        "id": "64a34aea",
        "colab": {
          "base_uri": "https://localhost:8080/",
          "height": 34
        },
        "outputId": "8777e2a3-dabc-4b31-df3e-685b7d2702e0"
      },
      "outputs": [
        {
          "output_type": "display_data",
          "data": {
            "text/html": [
              "<style>\n",
              ".list-inline {list-style: none; margin:0; padding: 0}\n",
              ".list-inline>li {display: inline-block}\n",
              ".list-inline>li:not(:last-child)::after {content: \"\\00b7\"; padding: 0 .5ex}\n",
              "</style>\n",
              "<ol class=list-inline><li>2</li><li>5</li><li>9</li></ol>\n"
            ],
            "text/markdown": "1. 2\n2. 5\n3. 9\n\n\n",
            "text/latex": "\\begin{enumerate*}\n\\item 2\n\\item 5\n\\item 9\n\\end{enumerate*}\n",
            "text/plain": [
              "[1] 2 5 9"
            ]
          },
          "metadata": {}
        }
      ],
      "source": [
        "od1 <- order(d[1,])\n",
        "od1[2:4]"
      ]
    },
    {
      "cell_type": "markdown",
      "metadata": {
        "id": "5555768a-f1cc-46c4-a38e-3b1b06a5265d"
      },
      "source": [
        "Now, we will use a loop to repeat this process for all locations in `coords`. For each location we will order the distances, determine the indices of the 3 nearest neighbors, and then place the nearest neighbor indices in the appropriate elements of `nnlist`."
      ]
    },
    {
      "cell_type": "code",
      "execution_count": 9,
      "metadata": {
        "id": "194fa898"
      },
      "outputs": [],
      "source": [
        "for (i in 1:length(nnlist)) {\n",
        "  # order the distances associated with the ith location\n",
        "  odi <- order(d[i, ])\n",
        "  # extract the 3 nearest neighbors for observation i\n",
        "  # (not including the location itself)\n",
        "  nni <- odi[2:4]\n",
        "  # put the nn of observation i in the ith position of nnlist\n",
        "  nnlist[[i]] <- nni\n",
        "}"
      ]
    },
    {
      "cell_type": "markdown",
      "metadata": {
        "id": "c7fde65a-1f24-4960-98b7-369dbae29548"
      },
      "source": [
        "We look at the first 3 elements of `nnlist`."
      ]
    },
    {
      "cell_type": "code",
      "execution_count": 10,
      "metadata": {
        "id": "c3a6c60c",
        "colab": {
          "base_uri": "https://localhost:8080/",
          "height": 97
        },
        "outputId": "fdabb668-989e-4a63-9219-75b8b54a9a54"
      },
      "outputs": [
        {
          "output_type": "display_data",
          "data": {
            "text/html": [
              "<ol>\n",
              "\t<li><style>\n",
              ".list-inline {list-style: none; margin:0; padding: 0}\n",
              ".list-inline>li {display: inline-block}\n",
              ".list-inline>li:not(:last-child)::after {content: \"\\00b7\"; padding: 0 .5ex}\n",
              "</style>\n",
              "<ol class=list-inline><li>2</li><li>5</li><li>9</li></ol>\n",
              "</li>\n",
              "\t<li><style>\n",
              ".list-inline {list-style: none; margin:0; padding: 0}\n",
              ".list-inline>li {display: inline-block}\n",
              ".list-inline>li:not(:last-child)::after {content: \"\\00b7\"; padding: 0 .5ex}\n",
              "</style>\n",
              "<ol class=list-inline><li>2</li><li>5</li><li>9</li></ol>\n",
              "</li>\n",
              "\t<li><style>\n",
              ".list-inline {list-style: none; margin:0; padding: 0}\n",
              ".list-inline>li {display: inline-block}\n",
              ".list-inline>li:not(:last-child)::after {content: \"\\00b7\"; padding: 0 .5ex}\n",
              "</style>\n",
              "<ol class=list-inline><li>37</li><li>39</li><li>43</li></ol>\n",
              "</li>\n",
              "</ol>\n"
            ],
            "text/markdown": "1. 1. 2\n2. 5\n3. 9\n\n\n\n2. 1. 2\n2. 5\n3. 9\n\n\n\n3. 1. 37\n2. 39\n3. 43\n\n\n\n\n\n",
            "text/latex": "\\begin{enumerate}\n\\item \\begin{enumerate*}\n\\item 2\n\\item 5\n\\item 9\n\\end{enumerate*}\n\n\\item \\begin{enumerate*}\n\\item 2\n\\item 5\n\\item 9\n\\end{enumerate*}\n\n\\item \\begin{enumerate*}\n\\item 37\n\\item 39\n\\item 43\n\\end{enumerate*}\n\n\\end{enumerate}\n",
            "text/plain": [
              "[[1]]\n",
              "[1] 2 5 9\n",
              "\n",
              "[[2]]\n",
              "[1] 2 5 9\n",
              "\n",
              "[[3]]\n",
              "[1] 37 39 43\n"
            ]
          },
          "metadata": {}
        }
      ],
      "source": [
        "nnlist[1:3]"
      ]
    },
    {
      "cell_type": "markdown",
      "metadata": {
        "id": "a290552b-b0f0-414b-9b65-ed518fcc1070"
      },
      "source": [
        "Observations 1 and 2 have the same standardized values for `Petal.Length` and `Petal.Wdith`, thus the nearest neighbors of the second flower includes the second flower itself. We should find:\n",
        "\n",
        "- The nearest neighbors of the first location are locations 2, 5, and 9.\n",
        "- The nearest neighbors of the second location are locations <font color=\"red\">1</font>, 5, and 9.\n",
        "- The nearest neighbors of the third location are locations 37, 39, and 43.\n",
        "\n",
        "We modify the code below to include an `if-else` statement to identify and correct these instances."
      ]
    },
    {
      "cell_type": "code",
      "execution_count": 11,
      "metadata": {
        "id": "NzVaXkx1Fu3N"
      },
      "outputs": [],
      "source": [
        "for (i in 1:length(nnlist)) {\n",
        "  # order the distances associated with the ith location\n",
        "  odi <- order(d[i, ])\n",
        "  # extract the 3 nearest neighbors for observation i\n",
        "  # (not including the location itself)\n",
        "  if (odi[1] != i) {\n",
        "      nni <- odi[c(1, 3:4)]\n",
        "  } else {\n",
        "  nni <- odi[2:4]\n",
        "  }\n",
        "  # put the nn of observation i in the ith position of nnlist\n",
        "  nnlist[[i]] <- nni\n",
        "}"
      ]
    },
    {
      "cell_type": "code",
      "source": [
        "nnlist[1:3]"
      ],
      "metadata": {
        "colab": {
          "base_uri": "https://localhost:8080/",
          "height": 97
        },
        "id": "Mmynnq0rG3Om",
        "outputId": "5b09b320-3803-4681-8af4-374aa8b576cc"
      },
      "execution_count": 12,
      "outputs": [
        {
          "output_type": "display_data",
          "data": {
            "text/html": [
              "<ol>\n",
              "\t<li><style>\n",
              ".list-inline {list-style: none; margin:0; padding: 0}\n",
              ".list-inline>li {display: inline-block}\n",
              ".list-inline>li:not(:last-child)::after {content: \"\\00b7\"; padding: 0 .5ex}\n",
              "</style>\n",
              "<ol class=list-inline><li>2</li><li>5</li><li>9</li></ol>\n",
              "</li>\n",
              "\t<li><style>\n",
              ".list-inline {list-style: none; margin:0; padding: 0}\n",
              ".list-inline>li {display: inline-block}\n",
              ".list-inline>li:not(:last-child)::after {content: \"\\00b7\"; padding: 0 .5ex}\n",
              "</style>\n",
              "<ol class=list-inline><li>1</li><li>5</li><li>9</li></ol>\n",
              "</li>\n",
              "\t<li><style>\n",
              ".list-inline {list-style: none; margin:0; padding: 0}\n",
              ".list-inline>li {display: inline-block}\n",
              ".list-inline>li:not(:last-child)::after {content: \"\\00b7\"; padding: 0 .5ex}\n",
              "</style>\n",
              "<ol class=list-inline><li>37</li><li>39</li><li>43</li></ol>\n",
              "</li>\n",
              "</ol>\n"
            ],
            "text/markdown": "1. 1. 2\n2. 5\n3. 9\n\n\n\n2. 1. 1\n2. 5\n3. 9\n\n\n\n3. 1. 37\n2. 39\n3. 43\n\n\n\n\n\n",
            "text/latex": "\\begin{enumerate}\n\\item \\begin{enumerate*}\n\\item 2\n\\item 5\n\\item 9\n\\end{enumerate*}\n\n\\item \\begin{enumerate*}\n\\item 1\n\\item 5\n\\item 9\n\\end{enumerate*}\n\n\\item \\begin{enumerate*}\n\\item 37\n\\item 39\n\\item 43\n\\end{enumerate*}\n\n\\end{enumerate}\n",
            "text/plain": [
              "[[1]]\n",
              "[1] 2 5 9\n",
              "\n",
              "[[2]]\n",
              "[1] 1 5 9\n",
              "\n",
              "[[3]]\n",
              "[1] 37 39 43\n"
            ]
          },
          "metadata": {}
        }
      ]
    },
    {
      "cell_type": "markdown",
      "source": [
        "## <a name=\"nested\">Nested `for` Loops</a>\n",
        "\n",
        "---\n",
        "\n",
        "A <font color=\"dodgerblue\">**nested**</font> `for` loop is one that uses one or more `for` loops inside of another `for` loop. Here is some pseudo code to illustrate a nested `for` loop.\n",
        "\n",
        "```\n",
        "for (i in i_vector) {\n",
        "  # some code\n",
        "  for (j in j_vector) {\n",
        "    # some code\n",
        "    for (k in k_vector) {\n",
        "      # some code\n",
        "    }\n",
        "    # some code\n",
        "  }\n",
        "  # some code\n",
        "}\n",
        "```\n",
        "\n",
        "The pseudo code above has 3 loops. The outermost loop is iterating over `i`, the second loop is iterating over `j`, and the innermost loop is iterating over `k`, while .\n",
        "\n",
        "The innermost loop iterates the fastest. This is because for each value if `i` and `j`, we iterate `k` through all the values in `k_vector`. The second loop iterates the second fastest because it iterates through all the values in the `j_vector` for a single value of `i`, but not as fast as innermost loop, which will have iterated `k` through the all the values in `k_vector` `length(j_vector)` times!\n",
        "\n",
        "<font color=\"dodgerblue\">It is helpful to use proper formatting to make the code easier to process. Make sure to indent the code inside a `for` loop to indicate that it is run inside a certain `for` loop.</font>\n",
        "\n",
        "We will use a double loop to compute the distance matrix of a set of coordinates.\n",
        "\n",
        "Recall that if $(x_i, y_i)$ and $(x_j, y_j)$ are two points, then the Euclidean distance between them is computed as\n",
        "\n",
        "<a name=\"eq-dij\"></a>\n",
        "$$\n",
        "d_{i,j} = \\sqrt{(x_i - x_j)^2 + (y_i - y_j)^2}.\n",
        " \\qquad(1)$$\n",
        "\n",
        "Let's create a small set of 5 coordinates."
      ],
      "metadata": {
        "id": "kwH_9SjMFwNR"
      }
    },
    {
      "cell_type": "code",
      "execution_count": null,
      "metadata": {
        "id": "07ff9740",
        "colab": {
          "base_uri": "https://localhost:8080/",
          "height": 261
        },
        "outputId": "7b7faafd-f8f0-44be-d0c2-4ddf8c9c3266"
      },
      "outputs": [
        {
          "output_type": "display_data",
          "data": {
            "text/html": [
              "<table class=\"dataframe\">\n",
              "<caption>A matrix: 5 × 2 of type dbl</caption>\n",
              "<tbody>\n",
              "\t<tr><td>1</td><td>9</td></tr>\n",
              "\t<tr><td>4</td><td>4</td></tr>\n",
              "\t<tr><td>2</td><td>3</td></tr>\n",
              "\t<tr><td>5</td><td>2</td></tr>\n",
              "\t<tr><td>3</td><td>1</td></tr>\n",
              "</tbody>\n",
              "</table>\n"
            ],
            "text/markdown": "\nA matrix: 5 × 2 of type dbl\n\n| 1 | 9 |\n| 4 | 4 |\n| 2 | 3 |\n| 5 | 2 |\n| 3 | 1 |\n\n",
            "text/latex": "A matrix: 5 × 2 of type dbl\n\\begin{tabular}{ll}\n\t 1 & 9\\\\\n\t 4 & 4\\\\\n\t 2 & 3\\\\\n\t 5 & 2\\\\\n\t 3 & 1\\\\\n\\end{tabular}\n",
            "text/plain": [
              "     [,1] [,2]\n",
              "[1,] 1    9   \n",
              "[2,] 4    4   \n",
              "[3,] 2    3   \n",
              "[4,] 5    2   \n",
              "[5,] 3    1   "
            ]
          },
          "metadata": {}
        }
      ],
      "source": [
        "coords <- cbind(c(1, 4, 2, 5, 3), c(9, 4, 3, 2, 1))\n",
        "coords"
      ]
    },
    {
      "cell_type": "markdown",
      "metadata": {
        "id": "04d23ade-6ab6-4fdd-b0fd-d3a295972479"
      },
      "source": [
        "Each row of `coords` represents a location. For each row of `coords`, we need to iterate over all the locations of `coords`. For each combination of locations, we need to use the distance equation [(1)](#eq-dij) to compute the distance between the locations.\n",
        "\n",
        "- We first create a matrix, `d`, to store the distances we compute in our loop.\n",
        "- Then we create a nested `for` loop to compute and store each distance."
      ]
    },
    {
      "cell_type": "code",
      "execution_count": null,
      "metadata": {
        "id": "2831c56e"
      },
      "outputs": [],
      "source": [
        "# create matrix container to store distances\n",
        "d <- matrix(nrow = nrow(coords), ncol = nrow(coords))"
      ]
    },
    {
      "cell_type": "markdown",
      "metadata": {
        "id": "32c6abfa-547d-441b-9b72-3f8abbae6fc2"
      },
      "source": [
        "We now compute the distances for all pairs of locations."
      ]
    },
    {
      "cell_type": "code",
      "execution_count": null,
      "metadata": {
        "id": "ded7214a",
        "colab": {
          "base_uri": "https://localhost:8080/",
          "height": 191
        },
        "outputId": "0b313613-4aee-40cd-dcf9-0d72b0855a84"
      },
      "outputs": [
        {
          "output_type": "display_data",
          "data": {
            "text/html": [
              "<table class=\"dataframe\">\n",
              "<caption>A matrix: 5 × 5 of type dbl</caption>\n",
              "<tbody>\n",
              "\t<tr><td>0.000000</td><td>5.830952</td><td>6.082763</td><td>8.062258</td><td>8.246211</td></tr>\n",
              "\t<tr><td>5.830952</td><td>0.000000</td><td>2.236068</td><td>2.236068</td><td>3.162278</td></tr>\n",
              "\t<tr><td>6.082763</td><td>2.236068</td><td>0.000000</td><td>3.162278</td><td>2.236068</td></tr>\n",
              "\t<tr><td>8.062258</td><td>2.236068</td><td>3.162278</td><td>0.000000</td><td>2.236068</td></tr>\n",
              "\t<tr><td>8.246211</td><td>3.162278</td><td>2.236068</td><td>2.236068</td><td>0.000000</td></tr>\n",
              "</tbody>\n",
              "</table>\n"
            ],
            "text/markdown": "\nA matrix: 5 × 5 of type dbl\n\n| 0.000000 | 5.830952 | 6.082763 | 8.062258 | 8.246211 |\n| 5.830952 | 0.000000 | 2.236068 | 2.236068 | 3.162278 |\n| 6.082763 | 2.236068 | 0.000000 | 3.162278 | 2.236068 |\n| 8.062258 | 2.236068 | 3.162278 | 0.000000 | 2.236068 |\n| 8.246211 | 3.162278 | 2.236068 | 2.236068 | 0.000000 |\n\n",
            "text/latex": "A matrix: 5 × 5 of type dbl\n\\begin{tabular}{lllll}\n\t 0.000000 & 5.830952 & 6.082763 & 8.062258 & 8.246211\\\\\n\t 5.830952 & 0.000000 & 2.236068 & 2.236068 & 3.162278\\\\\n\t 6.082763 & 2.236068 & 0.000000 & 3.162278 & 2.236068\\\\\n\t 8.062258 & 2.236068 & 3.162278 & 0.000000 & 2.236068\\\\\n\t 8.246211 & 3.162278 & 2.236068 & 2.236068 & 0.000000\\\\\n\\end{tabular}\n",
            "text/plain": [
              "     [,1]     [,2]     [,3]     [,4]     [,5]    \n",
              "[1,] 0.000000 5.830952 6.082763 8.062258 8.246211\n",
              "[2,] 5.830952 0.000000 2.236068 2.236068 3.162278\n",
              "[3,] 6.082763 2.236068 0.000000 3.162278 2.236068\n",
              "[4,] 8.062258 2.236068 3.162278 0.000000 2.236068\n",
              "[5,] 8.246211 3.162278 2.236068 2.236068 0.000000"
            ]
          },
          "metadata": {}
        }
      ],
      "source": [
        "# compute distances\n",
        "n <- nrow(coords)\n",
        "\n",
        "for (i in 1:n) {\n",
        "  for (j in 1:n) {\n",
        "    d[i, j] <- sqrt((coords[i, 1] - coords[j, 1])^2 + (coords[i, 2] - coords[j, 2])^2)\n",
        "  }\n",
        "}\n",
        "d # print d"
      ]
    },
    {
      "cell_type": "markdown",
      "metadata": {
        "id": "e9361477-afad-48d3-ba12-67500bc986cb"
      },
      "source": [
        "We can compare this to the output of the `dist` function to confirm that we have computed the distances correctly."
      ]
    },
    {
      "cell_type": "code",
      "execution_count": null,
      "metadata": {
        "id": "8f376768",
        "colab": {
          "base_uri": "https://localhost:8080/",
          "height": 223
        },
        "outputId": "c2b9d463-9a93-459e-a7cd-26413de225b8"
      },
      "outputs": [
        {
          "output_type": "display_data",
          "data": {
            "text/html": [
              "<table class=\"dataframe\">\n",
              "<caption>A matrix: 5 × 5 of type dbl</caption>\n",
              "<thead>\n",
              "\t<tr><th></th><th scope=col>1</th><th scope=col>2</th><th scope=col>3</th><th scope=col>4</th><th scope=col>5</th></tr>\n",
              "</thead>\n",
              "<tbody>\n",
              "\t<tr><th scope=row>1</th><td>0.000000</td><td>5.830952</td><td>6.082763</td><td>8.062258</td><td>8.246211</td></tr>\n",
              "\t<tr><th scope=row>2</th><td>5.830952</td><td>0.000000</td><td>2.236068</td><td>2.236068</td><td>3.162278</td></tr>\n",
              "\t<tr><th scope=row>3</th><td>6.082763</td><td>2.236068</td><td>0.000000</td><td>3.162278</td><td>2.236068</td></tr>\n",
              "\t<tr><th scope=row>4</th><td>8.062258</td><td>2.236068</td><td>3.162278</td><td>0.000000</td><td>2.236068</td></tr>\n",
              "\t<tr><th scope=row>5</th><td>8.246211</td><td>3.162278</td><td>2.236068</td><td>2.236068</td><td>0.000000</td></tr>\n",
              "</tbody>\n",
              "</table>\n"
            ],
            "text/markdown": "\nA matrix: 5 × 5 of type dbl\n\n| <!--/--> | 1 | 2 | 3 | 4 | 5 |\n|---|---|---|---|---|---|\n| 1 | 0.000000 | 5.830952 | 6.082763 | 8.062258 | 8.246211 |\n| 2 | 5.830952 | 0.000000 | 2.236068 | 2.236068 | 3.162278 |\n| 3 | 6.082763 | 2.236068 | 0.000000 | 3.162278 | 2.236068 |\n| 4 | 8.062258 | 2.236068 | 3.162278 | 0.000000 | 2.236068 |\n| 5 | 8.246211 | 3.162278 | 2.236068 | 2.236068 | 0.000000 |\n\n",
            "text/latex": "A matrix: 5 × 5 of type dbl\n\\begin{tabular}{r|lllll}\n  & 1 & 2 & 3 & 4 & 5\\\\\n\\hline\n\t1 & 0.000000 & 5.830952 & 6.082763 & 8.062258 & 8.246211\\\\\n\t2 & 5.830952 & 0.000000 & 2.236068 & 2.236068 & 3.162278\\\\\n\t3 & 6.082763 & 2.236068 & 0.000000 & 3.162278 & 2.236068\\\\\n\t4 & 8.062258 & 2.236068 & 3.162278 & 0.000000 & 2.236068\\\\\n\t5 & 8.246211 & 3.162278 & 2.236068 & 2.236068 & 0.000000\\\\\n\\end{tabular}\n",
            "text/plain": [
              "  1        2        3        4        5       \n",
              "1 0.000000 5.830952 6.082763 8.062258 8.246211\n",
              "2 5.830952 0.000000 2.236068 2.236068 3.162278\n",
              "3 6.082763 2.236068 0.000000 3.162278 2.236068\n",
              "4 8.062258 2.236068 3.162278 0.000000 2.236068\n",
              "5 8.246211 3.162278 2.236068 2.236068 0.000000"
            ]
          },
          "metadata": {}
        }
      ],
      "source": [
        "as.matrix(dist(coords))"
      ]
    },
    {
      "cell_type": "markdown",
      "metadata": {
        "id": "ae05e7d0-5af9-4956-a8d2-47478f7df9e1"
      },
      "source": [
        "# <a name=\"while\">`while` Loops</a>\n",
        "\n",
        "---\n",
        "\n",
        "A <font color=\"dodgerblue\">**`while`**</font> loop is a loop that repeats a set of actions while a condition is `TRUE`. The loop stops running when the provided condition is `FALSE`.\n",
        "\n",
        "A `while` loop can be used to do the same thing as a `for` loop but is better suited for situations for which we do not know how many times we need to iterate.\n",
        "\n",
        "A common use of a `while` loop is to iteratively improve an approximation one iteration at a time until the change in the approximation is smaller than some standard of precision.\n",
        "\n",
        "The basic syntax of a `while` loop is shown in the pseudo code below.\n",
        "\n",
        "```\n",
        "while (condition) {\n",
        "  # some code to run\n",
        "}\n",
        "```\n",
        "\n",
        "> We can read a `while` loop in the following way: While our condition is `TRUE`, run the following code.\n",
        "\n",
        "\n",
        "We have the following components of the `while` loop:\n",
        "\n",
        "-   The loop starts with `while`, which indicates that we want to implement a `while` loop.\n",
        "-   Inside the parentheses after `while`, we have a `condition`.\n",
        "-   If `condition` is `TRUE`, we run the code in between the curly braces.\n",
        "-   We then return to the `condition`. If `condition` is still `TRUE`, then we run the code in between the curly braces again.\n",
        "-   We keep repeating the previous step until `condition` is `FALSE`.\n",
        "\n",
        "\n",
        "Here's what happens in a `while` loop:\n",
        "\n",
        "1.  We check whether our condition is `TRUE`.\n",
        "2.  If the condition is `TRUE`, then we run the code in the curly braces. This code will perform some actions that should potentially have an impact on the condition.\n",
        "3.  We repeat steps 1 and 2 until our condition is `FALSE`.\n",
        "4.  We exit the loop.\n",
        "\n",
        "We provide a trivial example of a `while` loop that prints the current value of an iterator, `i`.\n",
        "\n",
        "-   We initially set `i` to `1`.\n",
        "-   The `while` loop runs as long as `i` is less than 4.\n",
        "-   We print the current value of `i` and then increment `i` (meaning we increase it by 1). - We repeat printing the current value of `i` until `i` is 4."
      ]
    },
    {
      "cell_type": "code",
      "execution_count": null,
      "metadata": {
        "id": "f57ac522",
        "colab": {
          "base_uri": "https://localhost:8080/"
        },
        "outputId": "6748aefb-c436-4155-ac7c-028ad701d722"
      },
      "outputs": [
        {
          "output_type": "stream",
          "name": "stderr",
          "text": [
            "The current iterator value is 1\n",
            "\n",
            "The current iterator value is 2\n",
            "\n",
            "The current iterator value is 3\n",
            "\n"
          ]
        }
      ],
      "source": [
        "# set iterator\n",
        "i <- 1\n",
        "while (i < 4) {\n",
        "  message(\"The current iterator value is \", i)\n",
        "  i <- i + 1\n",
        "}"
      ]
    },
    {
      "cell_type": "markdown",
      "metadata": {
        "id": "a61da19b-2525-41a6-9fa8-a16780fc9c1a"
      },
      "source": [
        "## <a name=\"inf-loop\">Caution: Infinite Loops</a>\n",
        "\n",
        "---\n",
        "\n",
        "`while` loops tend to be more dangerous than `for` loops because it is easy create an <font color=\"dodgerblue\">**infinite loop**</font> that never stops running.\n",
        "\n",
        "An infinite loop occurs when our `while` condition is always satisfied, so the loop keeps running indefinitely or until an error occurs (like running out of memory).\n",
        "\n",
        "If we want to crash our computer, we can run the following code:\n",
        "\n",
        "```\n",
        "i <- 2\n",
        "while (i > 0) {\n",
        "  i = i^2\n",
        "}\n",
        "```\n",
        "\n",
        "In the code above, we start by setting `i` equal to `2`. We then check whether `i` is more than 0. If it is more than 0 then we update `i` to be the current value of `i` squared. Our condition will always be `TRUE`, so we keep squaring the current value of `i` indefinitely.\n",
        "\n",
        "If we are stuck in an infinite loop, then:\n",
        "\n",
        "- In Colab we can click the STOP button, go to `Runtime -> Interrupt Execution`, or a use keyboard shortcut.\n",
        "\n",
        "- In RStudio or Posit Cloud:\n",
        "  - Sometimes, a STOP button is available in the Console.\n",
        "  -   Pressing `Ctrl + c` (PC) or `Cmd + c` (Mac) may stop a loop.\n",
        "  -   We can click “Session” in the Menu and then click “Interrupt R” to stop the code being executed.\n",
        "\n"
      ]
    },
    {
      "cell_type": "code",
      "source": [
        "# copy code from above and\n",
        "# practice stopping execution of an infinite loop\n"
      ],
      "metadata": {
        "id": "xMIfpdYwLwOO"
      },
      "execution_count": null,
      "outputs": []
    },
    {
      "cell_type": "markdown",
      "source": [
        "## <a name=\"bisec\">Example: Bisection</a>\n",
        "\n",
        "---\n",
        "\n",
        "The [**bisection method**](https://en.wikipedia.org/wiki/Bisection_method) is a method for finding the “zeros” or “roots” of a continuous function, i.e., where the function equals 0. The bisection method requires that we start the algorithm at two values such that the function has opposite signs for those values.\n",
        "\n",
        "Suppose we have a continuous function, $f(x)$. The bisection method is implemented in the following way:\n",
        "\n",
        "1.  Find two points, $a$ and $b$, such that $a < b$ and $f(a)f(b) < 0$.\n",
        "2.  Compute the average of $a$ and $b$, $m = (a + b)/2$\n",
        "3.  Determine whether $| f(m) | > \\epsilon$, where $\\epsilon$ is some very small positive number like 0.0001. If our condition is satisfied, perform the following steps:\n",
        "    -  If $f(m)f(a) < 0$, then a root exists between $a$ and $m$. Set $b = m$ and return to step 2.\n",
        "    -  Otherwise, a root exists between $m$ and $b$. Set $a = m$ and return to step 2.\n",
        "\n",
        "<font color=\"dodgerblue\">**When our condition is NOT satisfied, we exit the `while` loop, and we have found an (approximate) root of our function.**</font>\n",
        "\n"
      ],
      "metadata": {
        "id": "qanhQQrbLDD-"
      }
    },
    {
      "cell_type": "markdown",
      "source": [
        "### <a name=\"bisect-alg\">Defining an Bisection Function</a>\n",
        "\n",
        "---\n",
        "\n",
        "We now create a function, `bisect()`, that implements the bisection method. The function will take arguments:\n",
        "\n",
        "-   `lower`: The smaller starting value, $a$.\n",
        "-   `upper`: The upper starting value, $b$.\n",
        "-   `fun`: A continuous function $f(x)$ that (presumably) has zeros.\n",
        "-   `eps`: A tolerance value, $\\epsilon$. The value we choose for $\\epsilon$ indicates how close we must be to a true “zero”.\n",
        "  - The `eps` argument is optional.\n",
        "  - If no value for `eps` is specified, the default `eps = 0.0001` is used.\n",
        "\n",
        "We implement the bisection method below:\n",
        "\n",
        "1.  Start by checking whether `fun(lower) * fun(upper) > 0`. If this is `TRUE`, then then the bisection algorithm may fail and we might end up in an infinite loop! We use the `stop` function to exit the function with an error if we have bad starting values.\n",
        "2.  Compute `m` using the `lower` and `upper` values.\n",
        "3.  Check if `m` is a root. If it's not a root:<br>\n",
        "    a. Use a control statement to decide whether to update the `lower` or `upper` value to `m`. <br>\n",
        "    b.  Compute `m` using the `lower` and `upper` values. <br>\n",
        "    c.  Return so step 3. <br>\n",
        "4.  Return the final value of `m`, which is an (approximate) root of `fun`."
      ],
      "metadata": {
        "id": "ItMVx8Zgg5s6"
      }
    },
    {
      "cell_type": "code",
      "execution_count": null,
      "metadata": {
        "id": "78269381"
      },
      "outputs": [],
      "source": [
        "bisect <- function(lower, upper, fun, eps = 0.0001) {\n",
        "  # step 1: check if product of values is negative\n",
        "  if (fun(lower) * fun(upper) > 0) {\n",
        "    stop(\"\\nBig yikes!\",\n",
        "         \"\\nThose starting values are sus.\",\n",
        "         \"\\nYou need to update those values so that fun(lower) * fun(upper) < 0.\")\n",
        "  }\n",
        "  m <- (lower + upper)/2   # step 2: compute m\n",
        "  # step 3: determine if we're at (or really close to a root)\n",
        "  while (abs(fun(m)) > eps) { # step 3a\n",
        "    # step 3b: update value of m\n",
        "    if (fun(m) * fun(lower) < 0) {\n",
        "      upper <- m  # if the root is below m\n",
        "    } else {\n",
        "      lower <- m  # if the root is above m\n",
        "    }\n",
        "    # determine a new candidate for m\n",
        "    m <- (lower + upper)/2\n",
        "  }\n",
        "  # repeat step 3\n",
        "  return(m)\n",
        "}"
      ]
    },
    {
      "cell_type": "markdown",
      "metadata": {
        "id": "078a9788-6239-475a-93b3-9dd8334d292b"
      },
      "source": [
        "Consider the continuous polynomial function $$\n",
        "f(x) = (x - 3)(x + 1).\n",
        "$$\n",
        "\n",
        "From looking at this equation, we can easily verify that $f(x) = 0$ when $x = 3$ or $x = -1$.\n",
        "\n",
        "We create a function for $f(x)$ below."
      ]
    },
    {
      "cell_type": "code",
      "execution_count": null,
      "metadata": {
        "id": "be08a5b3"
      },
      "outputs": [],
      "source": [
        "f <- function(x) {\n",
        "  (x - 3) * (x + 1)\n",
        "}"
      ]
    },
    {
      "cell_type": "markdown",
      "metadata": {
        "id": "54b682e5-250a-4745-a8e6-2b946d53ea08"
      },
      "source": [
        "We now plot $f(x)$ for for a sequence of $x$ values between -2 and 4."
      ]
    },
    {
      "cell_type": "code",
      "execution_count": null,
      "metadata": {
        "id": "a3c0c1c4",
        "colab": {
          "base_uri": "https://localhost:8080/",
          "height": 437
        },
        "outputId": "df29ba0c-d77a-4f82-e550-d9dac4b03626"
      },
      "outputs": [
        {
          "output_type": "display_data",
          "data": {
            "text/plain": [
              "plot without title"
            ],
            "image/png": "[encoded data removed]"
          },
          "metadata": {
            "image/png": {
              "width": 420,
              "height": 420
            }
          }
        }
      ],
      "source": [
        "x_vals <- seq(-2, 4, len = 1000)\n",
        "plot(x_vals, f(x_vals), type = \"l\", xlab = \"x\", ylab = \"f(x)\")\n",
        "# blue line at the center of bootstrap dist\n",
        "abline(h=0, col = \"blue\", lwd = 2)"
      ]
    },
    {
      "cell_type": "markdown",
      "metadata": {
        "id": "5aeca70f-c1c4-422d-9510-f2c4d7dc37b8"
      },
      "source": [
        "We will try to find a root of `f` using `bisect` using starting values of `2` and `5`."
      ]
    },
    {
      "cell_type": "code",
      "execution_count": null,
      "metadata": {
        "id": "ecdbd3f3",
        "colab": {
          "base_uri": "https://localhost:8080/",
          "height": 34
        },
        "outputId": "4d725303-ebe6-49c4-9ed0-11d3a8d3d365"
      },
      "outputs": [
        {
          "output_type": "display_data",
          "data": {
            "text/html": [
              "2.99998474121094"
            ],
            "text/markdown": "2.99998474121094",
            "text/latex": "2.99998474121094",
            "text/plain": [
              "[1] 2.999985"
            ]
          },
          "metadata": {}
        }
      ],
      "source": [
        "bisect(lower = 2, upper = 5, fun = f)"
      ]
    },
    {
      "cell_type": "markdown",
      "metadata": {
        "id": "17aa23fa-ac30-4756-9fe1-296cdce10f7e"
      },
      "source": [
        "If we choose different starting values then we can find the other root of $f$."
      ]
    },
    {
      "cell_type": "code",
      "execution_count": null,
      "metadata": {
        "id": "70039122",
        "colab": {
          "base_uri": "https://localhost:8080/",
          "height": 34
        },
        "outputId": "3bf8e52e-7e17-4b06-e350-ecda9a65bdc3"
      },
      "outputs": [
        {
          "output_type": "display_data",
          "data": {
            "text/html": [
              "-1.00001525878906"
            ],
            "text/markdown": "-1.00001525878906",
            "text/latex": "-1.00001525878906",
            "text/plain": [
              "[1] -1.000015"
            ]
          },
          "metadata": {}
        }
      ],
      "source": [
        "bisect(lower = -2, upper = 1, fun = f)"
      ]
    },
    {
      "cell_type": "markdown",
      "metadata": {
        "id": "a7abd105-152c-4549-a91b-bcf6076fcbf7"
      },
      "source": [
        "What happens if we choose bad starting values?"
      ]
    },
    {
      "cell_type": "code",
      "execution_count": null,
      "metadata": {
        "id": "b78ed902",
        "colab": {
          "base_uri": "https://localhost:8080/",
          "height": 332
        },
        "outputId": "61e5f5b2-e54d-4c0d-efc1-6d0a83d32be5"
      },
      "outputs": [
        {
          "output_type": "error",
          "ename": "ERROR",
          "evalue": "Error in bisect(lower = -4, upper = 5, fun = f): \nBig yikes!\nThose starting values are sus.\nYou need to update those values so that fun(lower) * fun(upper) < 0.\n",
          "traceback": [
            "Error in bisect(lower = -4, upper = 5, fun = f): \nBig yikes!\nThose starting values are sus.\nYou need to update those values so that fun(lower) * fun(upper) < 0.\nTraceback:\n",
            "1. stop(\"\\nBig yikes!\", \"\\nThose starting values are sus.\", \"\\nYou need to update those values so that fun(lower) * fun(upper) < 0.\")",
            "2. .handleSimpleError(function (cnd) \n . {\n .     watcher$capture_plot_and_output()\n .     cnd <- sanitize_call(cnd)\n .     watcher$push(cnd)\n .     switch(on_error, continue = invokeRestart(\"eval_continue\"), \n .         stop = invokeRestart(\"eval_stop\"), error = NULL)\n . }, \"\\nBig yikes!\\nThose starting values are sus.\\nYou need to update those values so that fun(lower) * fun(upper) < 0.\", \n .     base::quote(bisect(lower = -4, upper = 5, fun = f)))"
          ]
        }
      ],
      "source": [
        "bisect(lower = -4, upper = 5, fun = f)"
      ]
    },
    {
      "cell_type": "markdown",
      "source": [
        "## <a name=\"quest8\">Question 8</a>\n",
        "\n",
        "\n",
        "---\n",
        "\n",
        "$\\pi$ is the ratio of a circle's circumference to its diameter. $\\pi$ is an irrational approximately equal to $\\color{dodgerblue}{3.1415926535}8979323846\\ldots$\n",
        "<br>\n",
        "\n",
        "Use the `bisect` function to approximate the value of $\\pi$ to 10 decimal places.\n",
        "\n",
        "<font color=\"mediumseagreen\">Hint: Can you think of a basic function that has $\\pi$ is a zero? The constant $\\pi$ is entered as `pi`.</font>"
      ],
      "metadata": {
        "id": "Pu7y-jzyu3br"
      }
    },
    {
      "cell_type": "code",
      "source": [
        "# create function\n"
      ],
      "metadata": {
        "id": "FXeLF0uGvYrD"
      },
      "execution_count": null,
      "outputs": []
    },
    {
      "cell_type": "code",
      "execution_count": null,
      "metadata": {
        "id": "Gp-26uppvWwb"
      },
      "outputs": [],
      "source": [
        "# use bisect to approximate pi\n"
      ]
    },
    {
      "cell_type": "markdown",
      "metadata": {
        "id": "904970c3-8c7c-43ff-bba4-b6b248670fc4"
      },
      "source": [
        "# <a name=\"loop-vec\">Loops Compared to Vectorization</a>\n",
        "\n",
        "---\n",
        "\n",
        "Loops in R are notoriously slow. When possible, we should prefer <font color=\"dodgerblue\">**vectorized**</font> operations over loops. A vectorized operation uses a fast, pre-compiled function to apply an operation to all elements of a vector, matrix, list, etc., without using a loop.\n",
        "\n"
      ]
    },
    {
      "cell_type": "markdown",
      "source": [
        "## <a name=\"loop-mean\">A Loop to Compute the Mean of a Numeric Vector</a>\n",
        "\n",
        "---\n",
        "\n",
        "Let's say we want to compute the mean of a sample of numeric values:\n",
        "\n",
        "$$\\bar{x} = \\frac{x_1 + x_2 + \\ldots + x_n}{n} = \\frac{\\sum_{i=1}^n x_i}{n}.$$\n",
        "\n",
        "\n",
        "We create a function, `mean_loop`, to compute the mean of a numeric vector. We describe our approach:\n",
        "\n",
        "-   The function takes, `x`, which we assume is a numeric vector.\n",
        "-   We calculate and store the size of vector `x` to `n`.\n",
        "-   We create a an object `my_sum` whose initial value is equal to 0.\n",
        "-   We create a `for` loop to iterate `i` over every element of `x`.\n",
        "  - For each value of `i`, we add `x[i]` to the previous value of `my_sum`.\n",
        "- After the loop is complete, we divide `my_sum` by `n` and assign the result to `my_mean` which is displayed on screen.\n"
      ],
      "metadata": {
        "id": "KYTgPDMA3uUA"
      }
    },
    {
      "cell_type": "code",
      "source": [
        "mean_loop <- function(x) {\n",
        "  n <- length(x)  # number of elements in sample\n",
        "  my_sum <- 0  # initialize the value of my_sum\n",
        "  for (i in 1:n) {\n",
        "    my_sum <- my_sum + x[i]  # add x_i to previous sum\n",
        "  }\n",
        "  my_mean <- my_sum / n  # divide sum by n\n",
        "  return(my_mean)\n",
        "}"
      ],
      "metadata": {
        "id": "Rh9PWEQYzbaD"
      },
      "execution_count": null,
      "outputs": []
    },
    {
      "cell_type": "code",
      "source": [
        "# apply mean_loop to compute mean petal length\n",
        "mean_loop(iris$Petal.Length)"
      ],
      "metadata": {
        "colab": {
          "base_uri": "https://localhost:8080/",
          "height": 34
        },
        "id": "UlvRG64A0hcW",
        "outputId": "20e40052-29f1-45e6-cbd7-74f12de7fed7"
      },
      "execution_count": null,
      "outputs": [
        {
          "output_type": "display_data",
          "data": {
            "text/html": [
              "3.758"
            ],
            "text/markdown": "3.758",
            "text/latex": "3.758",
            "text/plain": [
              "[1] 3.758"
            ]
          },
          "metadata": {}
        }
      ]
    },
    {
      "cell_type": "markdown",
      "metadata": {
        "id": "d7R8EDWK3dos"
      },
      "source": [
        "## <a name=\"vector-mean\">A Vectorized Approach for the Mean</a>\n",
        "\n",
        "---\n",
        "\n",
        "What is wrong with this function? Nothing, really. Except that it's slow compared to the equivalent vectorized version of this calculation.\n",
        "\n",
        "We can perform the same calculation as follows:\n",
        "- Apply the built-in function `sum()` to add all the values in a numeric vector.\n",
        "- Apply the built-in function `length()` that gives the number of elements stored in a vector.\n",
        "- The mean of a numeric vector `x` can therefore be computed with `sum(x) / length(x)`.\n"
      ]
    },
    {
      "cell_type": "code",
      "source": [
        "mean_vec <- function(x) {\n",
        "  return(sum(x) / length(x))\n",
        "}"
      ],
      "metadata": {
        "id": "L0DkS_mv0ua7"
      },
      "execution_count": null,
      "outputs": []
    },
    {
      "cell_type": "code",
      "source": [
        "mean_vec(iris$Petal.Length)"
      ],
      "metadata": {
        "colab": {
          "base_uri": "https://localhost:8080/",
          "height": 34
        },
        "id": "caJMtb_F5qI4",
        "outputId": "81d91666-8dc9-46e7-b0b8-30402b23ffe9"
      },
      "execution_count": null,
      "outputs": [
        {
          "output_type": "display_data",
          "data": {
            "text/html": [
              "3.758"
            ],
            "text/markdown": "3.758",
            "text/latex": "3.758",
            "text/plain": [
              "[1] 3.758"
            ]
          },
          "metadata": {}
        }
      ]
    },
    {
      "cell_type": "markdown",
      "source": [
        "## <a name=\"comp-speed\">Comparing Computational Speeds</a>\n",
        "\n",
        "---\n",
        "\n",
        "The `mean()` function is a vectorized version of a cumulative sum that relies on fast, pre-compiled code. We can see in the code cell below that it gives the same results as the previous functions `mean_loop()` and `mean_vec()`."
      ],
      "metadata": {
        "id": "tQQyRyqn5KAg"
      }
    },
    {
      "cell_type": "code",
      "source": [
        "# use mean function to check result\n",
        "mean(iris$Petal.Length)"
      ],
      "metadata": {
        "colab": {
          "base_uri": "https://localhost:8080/",
          "height": 34
        },
        "id": "eMdAs5uC0o_s",
        "outputId": "ba5f94f2-156e-405d-c7cf-34c935b43fd7"
      },
      "execution_count": null,
      "outputs": [
        {
          "output_type": "display_data",
          "data": {
            "text/html": [
              "3.758"
            ],
            "text/markdown": "3.758",
            "text/latex": "3.758",
            "text/plain": [
              "[1] 3.758"
            ]
          },
          "metadata": {}
        }
      ]
    },
    {
      "cell_type": "markdown",
      "metadata": {
        "id": "C8V3slFx3rSU"
      },
      "source": [
        "We use the `microbenchmark` function in the **microbenchmark** package (Mersmann 2023) to compare the timings of `mean_loop()` and `mean_vec()`. The `microbenchmark` function will run the provided functions 100 times, by default.\n",
        "\n",
        "-   We sample 1000 values from a standard normal distribution.,\n",
        "-   We use `microbenchmark` to time how long it takes to compute the cumulative sum of the sampled values using both cumulative sum functions. We repeat this timing 100 times for each function.\n",
        "-   We plot the results for comparison."
      ]
    },
    {
      "cell_type": "code",
      "execution_count": null,
      "metadata": {
        "colab": {
          "base_uri": "https://localhost:8080/"
        },
        "id": "CisjeVdn06bx",
        "outputId": "343d8102-1781-4ef0-fed0-3d8a2192a573"
      },
      "outputs": [
        {
          "output_type": "stream",
          "name": "stderr",
          "text": [
            "Installing package into ‘/usr/local/lib/R/site-library’\n",
            "(as ‘lib’ is unspecified)\n",
            "\n"
          ]
        }
      ],
      "source": [
        "# run only if you need to install and load microbenchmark\n",
        "#install.packages(\"microbenchmark\")\n",
        "#library(microbenchmark)"
      ]
    },
    {
      "cell_type": "code",
      "source": [
        "x <- iris$Petal.Length\n",
        "# compute the mean 100 times using each approach\n",
        "mean_timings <- microbenchmark(mean_loop(x), mean_vec(x), mean(x))\n",
        "plot(mean_timings, ylim=c(0,10000))"
      ],
      "metadata": {
        "colab": {
          "base_uri": "https://localhost:8080/",
          "height": 437
        },
        "id": "iyGM2fSo1Hzb",
        "outputId": "66006e56-a379-4207-d998-58062f3df5e4"
      },
      "execution_count": null,
      "outputs": [
        {
          "output_type": "display_data",
          "data": {
            "text/plain": [
              "plot without title"
            ],
            "image/png": "[encoded data removed]"
          },
          "metadata": {
            "image/png": {
              "width": 420,
              "height": 420
            }
          }
        }
      ]
    },
    {
      "cell_type": "markdown",
      "metadata": {
        "id": "c33496b9-3c8a-45b3-a7b1-df7a33fe4320"
      },
      "source": [
        "While the exact timing results will depend on the computer the timings are performed on, the plot above shows that the vectorized `mean_vec()` function is substantially faster than the the other two methods. The `mean()` function is slower than `mean_vec()` but faster than the `for` loop method used in `mean_loop()`.\n",
        "\n",
        "These results may seem trivial, but for large data sets where these operations are performed thousands or millions of times, vectorized operations can be many orders of magnitude faster than loops. The `iris` data frame has $n=150$ observations. Let's compare the results for a random vector we create that has $10,\\!000$ observations!\n",
        "\n"
      ]
    },
    {
      "cell_type": "code",
      "source": [
        "x <- rnorm(10000)\n",
        "# compute the mean 100 times using each approach\n",
        "mean_timings <- microbenchmark(mean_loop(x), mean_vec(x), mean(x))\n",
        "plot(mean_timings)"
      ],
      "metadata": {
        "colab": {
          "base_uri": "https://localhost:8080/",
          "height": 437
        },
        "outputId": "b6d8bf2d-6c91-4a08-fbe0-941e52b0ccff",
        "id": "aYybrrhC8alC"
      },
      "execution_count": null,
      "outputs": [
        {
          "output_type": "display_data",
          "data": {
            "text/plain": [
              "plot without title"
            ],
            "image/png": "[encoded data removed]"
          },
          "metadata": {
            "image/png": {
              "width": 420,
              "height": 420
            }
          }
        }
      ]
    },
    {
      "cell_type": "markdown",
      "source": [
        "## <a name=\"CC License\">Creative Commons License Information</a>\n",
        "---\n",
        "\n",
        "![Creative Commons\n",
        "License](https://i.creativecommons.org/l/by-nc-sa/4.0/88x31.png)\n",
        "\n",
        "Materials created by the [Department of Mathematical and Statistical Sciences at the University of Colorado Denver](https://github.com/CU-Denver-MathStats-OER/)\n",
        "and is licensed under a [Creative Commons\n",
        "Attribution-NonCommercial-ShareAlike 4.0 International\n",
        "License](http://creativecommons.org/licenses/by-nc-sa/4.0/)."
      ],
      "metadata": {
        "id": "WS8w_KQF5ym4"
      }
    }
  ]
}