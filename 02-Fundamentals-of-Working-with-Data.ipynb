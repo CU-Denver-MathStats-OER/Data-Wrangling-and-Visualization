{
  "nbformat": 4,
  "nbformat_minor": 0,
  "metadata": {
    "colab": {
      "provenance": [],
      "authorship_tag": "ABX9TyMy8NlNPpB1WgDan3ieQl9j"
    },
    "kernelspec": {
      "name": "ir",
      "display_name": "R"
    },
    "language_info": {
      "name": "R"
    }
  },
  "cells": [
    {
      "cell_type": "markdown",
      "source": [
        "[![Open In Colab](https://colab.research.google.com/assets/colab-badge.svg)](https://githubtocolab.com/CU-Denver-MathStats-OER/Data-Wrangling-and-Visualization/blob/main/02-Fundamentals-of-Working-with-Data.ipynb)\n",
        "\n"
      ],
      "metadata": {
        "id": "WaUpDHKEpNrt"
      }
    },
    {
      "cell_type": "markdown",
      "source": [
        "# <a name=\"02-title\"><font size=\"6\">Module 02: Fundamentals of Working with Data</font></a>\n",
        "\n",
        "---"
      ],
      "metadata": {
        "id": "TyO8Rh7aOeOy"
      }
    },
    {
      "cell_type": "markdown",
      "metadata": {
        "id": "Ef5BULWzE5FS"
      },
      "source": [
        "# <a name=\"structures\">Data Structures</a>\n",
        "---\n",
        "\n",
        "R operates on <font color=\"dodgerblue\">**data\n",
        "structures**</font>. A data structure is simply some sort of “container”\n",
        "that holds certain kinds of information\n",
        "\n",
        "R has 5 basic data structures:\n",
        "\n",
        "-   <font color=\"dodgerblue\">**vector**</font>: One dimensional object of a single data type.\n",
        "-   <font color=\"dodgerblue\">**matrix**</font>: Two dimensional object of a single data type.\n",
        "-   <font color=\"dodgerblue\">**array**</font>: $n$ dimensional object of a single data type.\n",
        "-   <font color=\"dodgerblue\">**data frame**</font>: Two dimensional object where each column can be a\n",
        "    different data type.\n",
        "-   <font color=\"dodgerblue\">**list**</font>: An object that contains elements of different types like (and possibly another list inside it).\n",
        "\n",
        "\n",
        "Note the following important distinction:\n",
        "\n",
        "- Vectors, matrices, and arrays are *homogeneous* objects that can only store a single data type at a time.\n",
        "- Data frames and lists can store *multiple* data types.\n",
        "\n",
        "<br>  \n",
        "\n",
        "[See R\n",
        "documentation](https://cran.r-project.org/doc/manuals/r-release/R-lang.html#List-objects)\n",
        "for more info on data structures.\n",
        "\n"
      ]
    },
    {
      "cell_type": "markdown",
      "source": [
        "# <a name=\"data-types\">Vectors</a>\n",
        "\n",
        "----\n",
        "\n",
        "A <font color=\"dodgerblue\">**vector**</font> is a\n",
        "single-dimensional set of data of the same type. R has 6 basic (atomic) [vector\n",
        "types](https://cran.r-project.org/doc/manuals/r-release/R-lang.html#Basic-types):\n",
        "\n",
        "1.  <font color=\"dodgerblue\">**character**</font>: collections of characters. E.g., `\"a\"`, `\"hello world!\"`\n",
        "2.  <font color=\"dodgerblue\">**double**</font>: decimal numbers. e.g., `1.2`, `1.0`\n",
        "3.  <font color=\"dodgerblue\">**integer**</font>: whole numbers. In R, you must add `L` to the end of a number to specify it as an integer. E.g., `1L` is an integer but `1` is a double.\n",
        "4.  <font color=\"dodgerblue\">**logical**</font>: Boolean values, `TRUE` and `FALSE`\n",
        "5.  <font color=\"dodgerblue\">**complex**</font>: complex numbers. E.g., `1+3i`\n",
        "6.  <font color=\"dodgerblue\">**raw**</font>: a type to hold raw bytes.\n"
      ],
      "metadata": {
        "id": "eRM4zlavtPSl"
      }
    },
    {
      "cell_type": "markdown",
      "source": [
        "## <a name=\"other\">Other Types</a>\n",
        "\n",
        "---\n",
        "\n",
        "There are other types of objects in R that are not *basic*. We will discuss a few this semester. The [R Project manual](https://cran.r-project.org/doc/manuals/r-release/R-lang.html#Basic-types) provides additional information about available types."
      ],
      "metadata": {
        "id": "cKOouc2S3o2V"
      }
    },
    {
      "cell_type": "markdown",
      "source": [
        "## <a name=\"create-vector\">The Combine Function `c()`: Creating Vectors from Scratch</a>\n",
        "---\n",
        "\n",
        "The most basic way to create a vector is the combine function `c()`. The following commands create vectors of type numeric, character, and logical, respectively."
      ],
      "metadata": {
        "id": "NmBgU3FMEczC"
      }
    },
    {
      "cell_type": "code",
      "execution_count": null,
      "metadata": {
        "id": "Rk6RcDk0EczC"
      },
      "outputs": [],
      "source": [
        "x1 <- c(1, 2, 5.3, 6, -2, 4)  # create a numeric (double) vector\n",
        "x2 <- c(\"one\", \"two\", \"three\")  # create a character vector\n",
        "x3 <- c(TRUE, TRUE, FALSE, TRUE)  # create a logical vector\n",
        "x4 <- c(TRUE, 3.4, \"hello\")  # create a list of different data types"
      ]
    },
    {
      "cell_type": "code",
      "source": [
        "# check the type of data structure of an object\n",
        "typeof(x1)\n",
        "typeof(x2)\n",
        "typeof(x3)\n",
        "typeof(x4)"
      ],
      "metadata": {
        "id": "RnPP-wqRC9qd"
      },
      "execution_count": null,
      "outputs": []
    },
    {
      "cell_type": "markdown",
      "metadata": {
        "id": "VGCLXJ2pEczD"
      },
      "source": [
        "## <a name=\"is-vector\">Checking Data Structures with `is.vector()` and `is.list()`</a>\n",
        "\n",
        "---\n",
        "\n",
        "We can check the data structure of an object using commands such as `is.vector()`, `is.list()`, `is.matrix()`, and so on."
      ]
    },
    {
      "cell_type": "code",
      "execution_count": null,
      "metadata": {
        "id": "O1Sa1u1cEczD"
      },
      "outputs": [],
      "source": [
        "is.list(x1)\n",
        "is.vector(x2)"
      ]
    },
    {
      "cell_type": "markdown",
      "source": [
        "## <a name=\"ques1\">Question 1</a>\n",
        "\n",
        "---\n",
        "\n",
        "What would the outputs of the commands `is.list(x4)` and `is.list(x4)` be? Without running the commands, enter your answer in the text cell below. Then check your answers by running the code cell below the solution text cell."
      ],
      "metadata": {
        "id": "42IYqyxp1lEE"
      }
    },
    {
      "cell_type": "markdown",
      "source": [
        "### <a name=\"ques1\">Solution to Question 1</a>\n",
        "\n",
        "---\n",
        "\n",
        "- The output of `is.list(x4)` is <mark>??</mark>.\n",
        "- The output of `is.vector(x4)` is <mark>??</mark>."
      ],
      "metadata": {
        "id": "yP1LrZ3N3Db9"
      }
    },
    {
      "cell_type": "code",
      "source": [
        "# Run code cell to check your answers\n",
        "is.list(x4)\n",
        "is.vector(x4)"
      ],
      "metadata": {
        "id": "aSI7-RbRDcQ5"
      },
      "execution_count": null,
      "outputs": []
    },
    {
      "cell_type": "markdown",
      "source": [
        "<font color=\"dodgerblue\">Note: In R, if you try to create a vector containing different data types (such as a logical value, a number, and a character), the entire vector will be automatically converted to characters by default, meaning all elements will be treated as strings.</font>"
      ],
      "metadata": {
        "id": "dDm8iynXQewJ"
      }
    },
    {
      "cell_type": "code",
      "source": [
        "x4"
      ],
      "metadata": {
        "id": "5wXi8yeKSZ0I"
      },
      "execution_count": null,
      "outputs": []
    },
    {
      "cell_type": "markdown",
      "source": [
        "## <a name=\"list\">Creating a List in R</a>\n",
        "\n",
        "---\n",
        "\n",
        "To create a list in R, we can use the `list()` function.\n"
      ],
      "metadata": {
        "id": "BAvbrjtLRA8n"
      }
    },
    {
      "cell_type": "code",
      "source": [
        "x5 <- list(TRUE, 3.4, \"hello\")  # create a list of different data types\n",
        "typeof(x5)\n",
        "is.list(x5)"
      ],
      "metadata": {
        "id": "Nzj-nQMrRGYS"
      },
      "execution_count": null,
      "outputs": []
    },
    {
      "cell_type": "markdown",
      "source": [
        "## <a name=\"pat-vec\">Creating Patterned Vectors</a>\n",
        "\n",
        "---\n",
        "\n",
        "R provides several functions for creating vectors with certain patterns.\n",
        "\n",
        "- The code `a:b` creates a vector of all integers from `a` to `b` (inclusive of both `a` and `b`).\n"
      ],
      "metadata": {
        "id": "_Q0fUxypEFez"
      }
    },
    {
      "cell_type": "code",
      "source": [
        "# creates vector of all integers\n",
        "# starting from 5 up to and including 11\n",
        "5:11"
      ],
      "metadata": {
        "id": "LZf2sSg8b_qD"
      },
      "execution_count": null,
      "outputs": []
    },
    {
      "cell_type": "markdown",
      "source": [
        "## <a name=\"vec-seq\">Creating Vectors with `seq()`</a>\n",
        "\n",
        "---\n",
        "\n",
        "The `seq()` (sequence) function is used to create an equidistant series of numeric values. The\n",
        "\n",
        "- `seq(from = 1, to = 10, by = 2)` creates a sequence of numbers from 1 to 10 in increments of 2\n",
        "   - Note the last element in the vector is the number 9 (not 10).\n",
        "   - The value `from`, `to`, or `by` can be a decimal or integer value.\n",
        "\n"
      ],
      "metadata": {
        "id": "nb7AR_TEb-tg"
      }
    },
    {
      "cell_type": "code",
      "source": [
        "seq(from = 1, to = 10, by = 2)"
      ],
      "metadata": {
        "id": "vakJUiaJZ85A"
      },
      "execution_count": null,
      "outputs": []
    },
    {
      "cell_type": "markdown",
      "source": [
        "- The names of the inputs (`from`, `to`, and `by`) is optional and typically not indicated to make the code more brief.\n",
        "\n",
        "- The ordering of the inputs is very important!"
      ],
      "metadata": {
        "id": "Wc2ZzCHFbFnK"
      }
    },
    {
      "cell_type": "code",
      "source": [
        "seq(1, 10, 2)"
      ],
      "metadata": {
        "id": "HRm3gxuObFJq"
      },
      "execution_count": null,
      "outputs": []
    },
    {
      "cell_type": "markdown",
      "source": [
        "\n",
        "- `seq(1, 10, len = 19)` creates a vector of 19 equally spaced numbers from 1 to 10 (inclusive of both 1 and 10).\n"
      ],
      "metadata": {
        "id": "kM1FZuqNZ79_"
      }
    },
    {
      "cell_type": "code",
      "source": [
        "seq(1, 10, len = 19)"
      ],
      "metadata": {
        "id": "ldTEIS0sc-0y"
      },
      "execution_count": null,
      "outputs": []
    },
    {
      "cell_type": "markdown",
      "source": [
        "## <a name=\"vec-rep\">Creating Vectors with `rep()`</a>\n",
        "\n",
        "---\n",
        "\n",
        "The `rep` (replicate) function can be used to create a vector by replicating values.\n",
        "Some examples:\n",
        "\n",
        "- `rep(1:3, times = 3)` replicates the sequence `1, 2, 3` three times in a row.\n",
        "- `rep(c(\"trt1\", \"trt2\", \"trt3\"), times = 1:3)` replicates `\"trt1\"` once, `\"trt2\"` twice, and `\"trt3\"` three times.\n",
        "- `rep(1:3, each = 3)` replicates each element of the sequence 1, 2, 3 three times.\n",
        "\n"
      ],
      "metadata": {
        "id": "_9cr3nqBc8eV"
      }
    },
    {
      "cell_type": "code",
      "source": [
        "v1 <- rep(1:3, times = 3)"
      ],
      "metadata": {
        "id": "iHg-OjqYeb45"
      },
      "execution_count": null,
      "outputs": []
    },
    {
      "cell_type": "code",
      "source": [
        "v2 <- rep(c(\"trt1\", \"trt2\", \"trt3\"), times = 1:3)"
      ],
      "metadata": {
        "id": "juriRFH-edeL"
      },
      "execution_count": null,
      "outputs": []
    },
    {
      "cell_type": "code",
      "source": [
        "v3 <- rep(1:3, each = 3)"
      ],
      "metadata": {
        "id": "9JGVuDUFec3o"
      },
      "execution_count": null,
      "outputs": []
    },
    {
      "cell_type": "code",
      "source": [
        "c(v2, v3)"
      ],
      "metadata": {
        "id": "QZVNOrEaed8C"
      },
      "execution_count": null,
      "outputs": []
    },
    {
      "cell_type": "markdown",
      "source": [
        "# <a name=\"02load\">Loading `storms` Data from the `dplyr` Package</a>\n",
        "---\n",
        "\n",
        "The `dplyr` package is perhaps one of the most useful R packages for\n",
        "<font color=\"dodgerblue\">**data wrangling**</font> and EDA. Data\n",
        "wrangling is generally the cleaning, reorganizing, and transforming data\n",
        "so it can be more easily analyzed. `dplyr` also contains data sets that\n",
        "we can use to practice our wrangling and visualization skills. In this\n",
        "lab, we will work with the data set called `storms`.\n",
        "\n",
        "-   See [official dplyr documentation](https://dplyr.tidyverse.org/articles/dplyr.html) for a comprehensive tutorial.\n",
        "-   **Run the code cell below to load the `dplyr` package.**"
      ],
      "metadata": {
        "id": "uHKSSqrH7IN3"
      }
    },
    {
      "cell_type": "code",
      "execution_count": null,
      "metadata": {
        "id": "f6594a42-04c5-4ec7-979e-46220a59d39f"
      },
      "outputs": [],
      "source": [
        "# loads dplyr package\n",
        "library(dplyr)"
      ]
    },
    {
      "cell_type": "markdown",
      "metadata": {
        "id": "33e8970d-c4a0-457a-8657-4da4029903a4"
      },
      "source": [
        "## <a name=\"02help\">Finding Help Documentation</a>\n",
        "---\n",
        "\n",
        "-   The code cell below opens a glossary tab of all (most?) functions and data in the package `dplyr`."
      ]
    },
    {
      "cell_type": "code",
      "execution_count": null,
      "metadata": {
        "id": "ef2741d4-68bb-4b57-9d26-996fbc867826"
      },
      "outputs": [],
      "source": [
        "# open glossary of dplyr functions\n",
        "help(package = \"dplyr\")"
      ]
    },
    {
      "cell_type": "markdown",
      "metadata": {
        "id": "6d93ba12-33c7-4e3f-a644-35e8fd26c816"
      },
      "source": [
        "-   The code cell below opens a help tab with information about the `storms` data set."
      ]
    },
    {
      "cell_type": "code",
      "execution_count": null,
      "metadata": {
        "id": "c59097fd-acd4-4e3b-97b8-fd9c2111556e"
      },
      "outputs": [],
      "source": [
        "# opens help tab with info about storms data set\n",
        "?storms"
      ]
    },
    {
      "cell_type": "markdown",
      "metadata": {
        "id": "d8dc448b-8d1e-4ea7-a3ee-722c9b9db451"
      },
      "source": [
        "# <a name=\"02structure\">The Structure of Data</a>\n",
        "---\n",
        "\n",
        "<font color=\"dodgerblue\">**Data frames**</font> are\n",
        "two-dimensional data objects and are the **fundamental** data structure used by most of R’s libraries of functions and data sets.\n",
        "\n",
        "-   Tabular data is <font color=\"dodgerblue\">**tidy**</font> if each row corresponds to a different observation and each column corresponds to a different variable.\n",
        "\n",
        "Each column of a data frame is a <font color=\"dodgerblue\">**variable**</font> (stored as a **vector**) of possibly different data types.\n",
        "\n",
        "-  If a variable is measured or counted by a number, it is called a <font color=\"dodgerblue\">**quantitative**</font> or <font color=\"dodgerblue\">**numerical**</font> variable.\n",
        "  -  Quantitative variables may be <font color=\"dodgerblue\">**discrete**</font> (integers) or <font color=\"dodgerblue\">**continuous**</font> (decimals).\n",
        "-  If a variable groups observations into different categories or rankings, it is a <font color=\"dodgerblue\">**qualitative**</font> or <font color=\"dodgerblue\">**categorical**</font> variable.\n",
        "  -   The different categories of a qualitative variable are called <font color=\"dodgerblue\">**levels**</font> or <font color=\"dodgerblue\">**classes**</font>.\n",
        "    -   Levels are typically labeled with descriptive character strings or integers.\n",
        "    -   Levels may or may not have an ordering.\n",
        "  - An <font color=\"dodgerblue\">**ordinal variable**</font> is when the levels of a categorical variable do have a specified order.\n"
      ]
    },
    {
      "cell_type": "markdown",
      "source": [
        "# <a name=\"02explore-storms\">Exploring Our Data</a>\n",
        "---\n",
        "\n",
        "Below are some common functions used to get a first introduction to our\n",
        "data:\n",
        "\n",
        "-   `summary(df)` gives numerical summary of all variables in data frame with generic name `df`.\n",
        "-   `glimpse(df)` gives a glimpse of the data frame `df`.\n",
        "-   `str(df)` summarizes the structure of all variables in data frame `df`\n",
        "-   `head(df)` view first 6 rows in data frame.\n",
        "-   `tail(df)` view last 6 rows in data frame.\n",
        "-   `View(df)` to view the full data frame.\n",
        "  -   <font color=\"tomato\">It typically is not recommended to include a `View()` command in your work</font> since that opens the entire data set.\n",
        "  -   The goal of EDA is to provide nice summaries of a data set so we do not need to look at all the raw data!\n",
        "\n"
      ],
      "metadata": {
        "id": "2bCaoVWj7rSu"
      }
    },
    {
      "cell_type": "markdown",
      "source": [
        "## <a name=\"quest2\">Question 2</a>\n",
        "---\n",
        "\n",
        "Let’s get to know the `storms` data set. Using some (or all) of the\n",
        "commands above, answer the following questions:\n",
        "\n",
        "-   How many observations are in data set `storms`?\n",
        "-   How many variables are `storms`?\n",
        "    -   Which variables are quantitative and which are categorical?\n",
        "    -   Which categorical variables have a ranking? Which do not?\n",
        "-   Hint: Avoid using the `View()` function. Instead, use `head()` or `tail()` if you want to get a sense of what the raw data looks like.\n",
        "\n",
        "<font color=\"dodgerblue\">**Experiment with some of the functions\n",
        "in the code cell below to answer the questions. Then type your answer in\n",
        "the space below.**</font>"
      ],
      "metadata": {
        "id": "tO6NgE1C7tCd"
      }
    },
    {
      "cell_type": "code",
      "execution_count": null,
      "metadata": {
        "id": "6ddf04e3-2384-42c1-8e86-0c8fc94d0cab"
      },
      "outputs": [],
      "source": [
        "summary(storms)  # summary of each variable in storms\n",
        "#head(storms)  # prints first 6 rows to screen\n",
        "#tail(storms)  # prints last 6 rows to screen\n",
        "#glimpse(storms)  # gives a glimpse of the data set\n",
        "#str(storms)   # summary of data structure"
      ]
    },
    {
      "cell_type": "markdown",
      "metadata": {
        "id": "d073616a-3477-4d67-8c24-fcea0917a70a"
      },
      "source": [
        "### <a name=\"sol2\">Solution to Question 2</a>\n",
        "---\n",
        "\n",
        "\n",
        "\n",
        "\n",
        "<br>  \n",
        "<br>  \n",
        "<br>  \n",
        "\n",
        "  \n",
        "\n"
      ]
    },
    {
      "cell_type": "markdown",
      "source": [
        "## <a name=\"quest3\">Question 3</a>\n",
        "---\n",
        "\n",
        "Does the `storms` data frame contain any <font color=\"dodgerblue\">**missing values**</font>? How can you tell? If so, why are there missing values?\n",
        "\n",
        "### <a name=\"02sol2\">Solution to Question 3</a>\n",
        "---\n",
        "\n",
        "\n",
        "\n",
        "<br>  \n",
        "<br>  \n",
        "<br>  \n",
        "  \n",
        "\n"
      ],
      "metadata": {
        "id": "HeY8dDrM8Tja"
      }
    },
    {
      "cell_type": "markdown",
      "source": [
        "## <a name=\"typeof\">Checking Data Type Using `typeof()`</a>\n",
        "\n",
        "---\n",
        "\n",
        "Sometimes we think an object is one data type, but it is actually being stored (and thus interpreted by R) as a different data type.\n",
        "\n",
        "- We might think `year` is being stored as an `integer` but is being stored as a `character`.\n",
        "- We might think `age` is being stored as an `integer` but it is being stored as a `decimal`.\n",
        "- We might think `race` is being stored as a `factor` but is being stored as a `character`.\n",
        "\n",
        "\n",
        "The `typeof()` function returns the R internal type storage mode of any object."
      ],
      "metadata": {
        "id": "N8ZZBeRztjd-"
      }
    },
    {
      "cell_type": "code",
      "execution_count": null,
      "metadata": {
        "id": "aaaeeedc-d19b-4b18-a818-78f3ac803029"
      },
      "outputs": [],
      "source": [
        "typeof(1.0)\n",
        "typeof(2)\n",
        "typeof(3L)\n",
        "typeof(\"hello\")\n",
        "typeof(TRUE)\n",
        "typeof(storms$status)\n",
        "typeof(storms$year)\n",
        "typeof(storms$name)"
      ]
    },
    {
      "cell_type": "markdown",
      "metadata": {
        "id": "e6a1f3c5-86b9-45a5-8976-5844edccdcc2"
      },
      "source": [
        "## <a name=\"02extract\">Extracting a Variable By Name with `$`</a>\n",
        "---\n",
        "\n",
        "In the command `typeof(storms$status)`, notice we refer to just the `status` variable of the `storms` data frame. <font color=\"dodgerblue\">**A variable from a data frame may be extracted using `$` and then specifying the name of the desired variable**.</font>\n",
        "\n",
        "-   First indicate the name of the data frame, `storms`.\n",
        "-   Followed by a dollar sign `$`.\n",
        "-   Then indicate the name of the variable, for example `wind`.\n",
        "-   The `storms$wind` is a vector that contains the wind speed of each storm."
      ]
    },
    {
      "cell_type": "markdown",
      "source": [
        "# <a name=\"intro-is-type\">Investigating Data Types with `is.` Functions</a>\n",
        "\n",
        "---\n",
        "\n",
        "\n",
        "An object `x` is `numeric` if it is of type `integer` or `double`.\n",
        "\n",
        "- We can use the `is.numeric(x)` function to test whether or not an object `x` is  numeric.\n",
        "- Similarly, the `is.character(x)` function checks whether or not object `x` is a character.\n",
        "- And so on.\n",
        "\n",
        "These functions return a logical value of either `TRUE` or `FALSE`.\n",
        "\n"
      ],
      "metadata": {
        "id": "-N5D-Oim8KMe"
      }
    },
    {
      "cell_type": "code",
      "execution_count": null,
      "metadata": {
        "id": "29468d99-bee7-4a9e-99cb-4489b56ea7c8"
      },
      "outputs": [],
      "source": [
        "is.numeric(storms$year)  # year is numeric\n",
        "is.numeric(storms$category)  # category is also numeric\n",
        "is.numeric(storms$name)  # name is not numeric\n",
        "is.character(storms$name)  # name is character string"
      ]
    },
    {
      "cell_type": "code",
      "execution_count": null,
      "metadata": {
        "id": "0ab9461f-7c45-41f6-8710-26c272d0e3ce"
      },
      "outputs": [],
      "source": [
        "is.numeric(storms$status)  # status is not numeric\n",
        "is.character(storms$status)  # status is not a character\n",
        "is.factor(storms$status)  # status is a factor which is categorical"
      ]
    },
    {
      "cell_type": "markdown",
      "source": [
        "## <a name=\"02decimal-integer\">Converting Decimals to Integers</a>\n",
        "---\n",
        "\n",
        "From the summary of the `storms` data set we first found above, we see\n",
        "that the variables `year` and `month` are being stored as `double`. These variables actually are integer values.\n",
        "\n",
        "We can convert another variable of one format into another format using\n",
        "`as.[new_datatype]()`\n",
        "\n",
        "-   For example, to convert to year to `integer`, we use `as.integer(storms$year)`.\n",
        "-   To convert a data type to character, we can use `as.character(x)`.\n",
        "-   To convert to a decimal (`double`), we can use `as.numeric(x)`"
      ],
      "metadata": {
        "id": "AUWbzlGV8zX6"
      }
    },
    {
      "cell_type": "code",
      "execution_count": null,
      "metadata": {
        "id": "10d5a68a-e070-41bf-9ee7-b1c8653e5a5e"
      },
      "outputs": [],
      "source": [
        "typeof(storms$year)\n",
        "typeof(storms$month)"
      ]
    },
    {
      "cell_type": "code",
      "source": [
        "storms$year <- as.integer(storms$year)\n",
        "storms$month <- as.integer(storms$month)"
      ],
      "metadata": {
        "id": "_c6PBIrPSzO_"
      },
      "execution_count": null,
      "outputs": []
    },
    {
      "cell_type": "code",
      "source": [
        "typeof(storms$year)\n",
        "typeof(storms$month)"
      ],
      "metadata": {
        "id": "6vAeB2NCS0oQ"
      },
      "execution_count": null,
      "outputs": []
    },
    {
      "cell_type": "markdown",
      "metadata": {
        "id": "62797f9e-6eae-4f92-9487-3fbc7523af0a"
      },
      "source": [
        "## <a name=\"02factor\">Converting to Categorical Data with `factor()`</a>\n",
        "---\n",
        "\n",
        "Sometimes we think a variable is one data type, but it is actually being stored (and thus interpreted by R) as a different data type. *One common issue is categorical data is stored as characters. We would like observations with the same values to be grouped together.* Instead of the `character` data type, <font color=\"dodgerblue\">**categorical data should be stored as a `factor`.**</font>\n",
        "\n",
        "- The `status` variable in `storms` is being properly stored as a `factor`.\n",
        "- The `category` variable in `storms` is NOT being stored as a `factor`.\n",
        "  - The `category` variable is being stored as a `numeric` since the classes are integers.\n",
        "\n"
      ]
    },
    {
      "cell_type": "code",
      "execution_count": null,
      "metadata": {
        "id": "0ffbd2e7-431e-4806-baf0-0a5ce857f87d"
      },
      "outputs": [],
      "source": [
        "summary(storms$category)"
      ]
    },
    {
      "cell_type": "code",
      "source": [
        "str(storms$category)"
      ],
      "metadata": {
        "id": "RMVBsQ_35chU"
      },
      "execution_count": null,
      "outputs": []
    },
    {
      "cell_type": "markdown",
      "metadata": {
        "id": "515767a2-035a-4472-972f-4b987a8723d1"
      },
      "source": [
        "The summary of `category` computes statistics such as mean and median. <font color=\"mediumseagreen\">**Typically with categorical data, we prefer to count how many observations are in each class of the variable.**</font> In the code cell below, we convert `category` to a factor.\n",
        "\n",
        "- The `factor()` function to converts the vector `storms$category`.\n",
        "- The result is stored back to `storms$category`.\n",
        "- Observe the changee to the resulting summary.\n"
      ]
    },
    {
      "cell_type": "code",
      "execution_count": null,
      "metadata": {
        "id": "b65bee76-b0ae-469a-9554-fd4d590aca67"
      },
      "outputs": [],
      "source": [
        "storms$category <- factor(storms$category)\n",
        "summary(storms$category)"
      ]
    },
    {
      "cell_type": "code",
      "source": [
        "str(storms$category)"
      ],
      "metadata": {
        "id": "CevAXeYX5ZZF"
      },
      "execution_count": null,
      "outputs": []
    },
    {
      "cell_type": "markdown",
      "metadata": {
        "id": "8427a0c9-f15a-45ba-9280-2adc4d744beb"
      },
      "source": [
        "# <a name=\"na\">Missing Data and `NA`</a>\n",
        "\n",
        "---\n",
        "\n",
        "A <font color=\"dodgerblue\">**missing value**</font> occurs when the value of something isn't known. R uses the special object `NA` to represent missing values. If you have a missing value, you should represent that value as `NA`. Note: The character string `\"NA\"` is not the same thing as `NA`.\n",
        "\n",
        "-   The `storms` data has properly coded 14,382 missing values for `category` since storms that are not hurricanes do not have a category.\n",
        "-   The `storms` data has properly coded 9,512 missing values for each of `tropicalstorm_force_diameter` and `hurricane_force_diameter` since these value only began being recorded in 2004.\n",
        "- Do not make the mistake of using `-99`, `0`,`\" \"`, `\"NA\"`, or anything other than `NA` to indicate a missing value.\n",
        "\n",
        "Depending on the context, R will automatically convert `NA` to `NA_character_`, `NA_integer_`, `NA_real_`, and `NA_complex_` as needed to represent missing values for `character`, `integer`, `double`, and `complex` values, respectively. There is no `NA` for the `raw` type.\n"
      ]
    },
    {
      "cell_type": "code",
      "source": [
        "head(storms)"
      ],
      "metadata": {
        "id": "AdORkZA72_1L"
      },
      "execution_count": null,
      "outputs": []
    },
    {
      "cell_type": "markdown",
      "source": [
        "# <a name=\"function\">Functions</a>\n",
        "\n",
        "---\n",
        "\n",
        "\n",
        "A function is an object that performs a certain action or set of actions based on object(s) it receives from its inputs. Functions usually take in some sort of data structure (value, vector, dataframe etc.) and return a result.\n",
        "\n",
        "- The inputs are called <font color=\"dodgerblue\">**arguments**</font> such as:\n",
        "  - The object (data structure) on which the function carries out a task.\n",
        "  - Specifications that alter the way the function operates (e.g. options) and stores a set of output(s).\n",
        "- The <font color=\"dodgerblue\">**defaults**</font> represent standard values and/or options that the author of the function specified as being appropriate for typical cases.\n",
        "- Help documentation often specifies available options and their corresponding defautls.\n"
      ],
      "metadata": {
        "id": "WhALT19FAqCt"
      }
    },
    {
      "cell_type": "markdown",
      "source": [
        "## <a name=\"func-dictionary\">A Dictionary of Useful Functions</a>\n",
        "\n",
        "---\n",
        "\n",
        "Below is a brief list of commonly used functions with vector inputs `x` and `y`:\n",
        "\n",
        "- `c(x, y)`: combine vectors `x` and `y` into a single vector\n",
        "- `length(x)`: return the number of elements in `x`\n",
        "- `sum(x)`: sum the elements in `x`\n",
        "- `mean(x)`: compute the mean of the elements in `x`\n",
        "- `median(x)`: compute the median of the elements in `x`\n",
        "- `min(x)`: compute the minimum value in `x`\n",
        "- `max(x)`: compute the maximum value in `x`\n",
        "- `quantile(x, probs = q)`: compute the $q^\\text{th}$ quantile of `x`\n",
        "- `fivenum(x)`: compute five number summary of `x`\n",
        "- `var(x)`: compute the sample variance of elements in `x`\n",
        "- `sd(x)`: compute the sample standard deviation of the elements in `x`\n",
        "- `range(x)`: determine the range (minimum and maximum) of the elements in `x`\n",
        "- `sqrt(x)`: compute the square root of each element in `x`\n",
        "- `log(x)`: compute the (natural) logarithm of the elements in `x`\n",
        "- `summary(x)`: provide a summary (that depends on the data type) of `x`"
      ],
      "metadata": {
        "id": "QAQa1f7ZCbsB"
      }
    },
    {
      "cell_type": "markdown",
      "source": [
        "# <a name=\"base-plot\">Plotting in Base R</a>\n",
        "\n",
        "---\n",
        "\n",
        "The plotting capabilities of R are one of its most powerful and attractive features. It is relatively simple to construct histograms, boxplots, barplots, scatter plots, etc.\n",
        "\n",
        "Some examples in `base` R:\n",
        "\n",
        "- A histogram can be created using the `hist()` function.\n",
        "- A boxplot can be created using the `boxplot()` function.\n",
        "- A barplot can be created using the `plot()` function.\n",
        "- Side-by-side boxplots can be created using the `boxplot()` or `plot()` functions.\n",
        "- A scatter plot can be created using the `plot()` function.\n",
        "\n",
        "See [An Overview of Plotting in Base R](https://aspiegler.github.io/Statistical-Theory/Overview-of-Plots.html) for further reading.\n",
        "\n"
      ],
      "metadata": {
        "id": "lUe6qzgZDyp1"
      }
    },
    {
      "cell_type": "markdown",
      "source": [
        "## <a name=\"one-cat\">Displaying One Categorical Variable: Barplot</a>\n",
        "\n",
        "---\n",
        "\n",
        "-   The `plot()` function is the most broadly used function for plotting different data types.\n",
        "-   The type of plot generated by `plot()` depends on the data type(s) and the number of variable(s) we input.\n",
        "    -   If we input one categorical variable that is stored as `factor`, we get a bar chart.\n",
        "    -   If we input one quantitative variable, the plot is typically not very useful.\n",
        "    -   If a categorical variable is stored incorrectly as quantitative, we do not get an appropriate plot.\n",
        "-   If we use `plot()` to display a categorical variable, the variable must be stored as a factor!\n",
        "    -   Recall we converted `category` to a `factor` in a previous code cell.\n",
        "    -   The variable `month` is a quantitative variable."
      ],
      "metadata": {
        "id": "aUdy4cmYFcQi"
      }
    },
    {
      "cell_type": "code",
      "source": [
        "?plot"
      ],
      "metadata": {
        "id": "itrmPAKoFKO3"
      },
      "execution_count": null,
      "outputs": []
    },
    {
      "cell_type": "code",
      "source": [
        "plot(storms$category,  # categorical data\n",
        "     main = \"Hurricanes by Category\",  # main title\n",
        "     xlab = \"Hurricane Category\",  # horizontal axis label\n",
        "     ylab = \"Frequency\",  # vertical axis label\n",
        "     col = \"steelblue\")  # fill color of bars)"
      ],
      "metadata": {
        "id": "oEM7LC6XFICd"
      },
      "execution_count": null,
      "outputs": []
    },
    {
      "cell_type": "code",
      "source": [
        "plot(storms$month,  # quantitative data\n",
        "     main = \"Not Number of Storms in Month\",  # main title\n",
        "     xlab = \"Index (Row of Observation)\",  # horizontal axis label\n",
        "     ylab = \"Month\")  # vertical axis label"
      ],
      "metadata": {
        "id": "DPlZ1UrxFLkS"
      },
      "execution_count": null,
      "outputs": []
    },
    {
      "cell_type": "code",
      "source": [
        "plot(factor(storms$month),  # quantitative data\n",
        "     main = \"Not Number of Storms in Month\",  # main title\n",
        "     xlab = \"Index (Row of Observation)\",  # horizontal axis label\n",
        "     ylab = \"Month\")  # vertical axis label"
      ],
      "metadata": {
        "id": "z6UbvTb5FM5u"
      },
      "execution_count": null,
      "outputs": []
    },
    {
      "cell_type": "code",
      "source": [
        "summary(storms$month)"
      ],
      "metadata": {
        "id": "NDqgg88gFW7W"
      },
      "execution_count": null,
      "outputs": []
    },
    {
      "cell_type": "code",
      "source": [
        "summary(factor(storms$month))"
      ],
      "metadata": {
        "id": "aGGB76wUVJJk"
      },
      "execution_count": null,
      "outputs": []
    },
    {
      "cell_type": "markdown",
      "source": [
        "## <a name=\"hist\">Displaying One Quantitative Variable: Histograms</a>\n",
        "\n",
        "---\n",
        "\n",
        "A  <font color=\"dodgerblue\">**histogram** </font> is special bar chart we use to display the distribution of values for a quantitative variable.\n",
        "\n",
        "-   We first group the values into different ranges of values called <font color=\"dodgerblue\">**bins** </font> of equal width.\n",
        "      -   Each bin range should have the same width.\n",
        "      -   The bins do not overlap.\n",
        "-   The height of the bars over each bin range is the number of values (or frequency) in each bin range.\n",
        "-   **By default, the counts are right closed.** For example, a wind value of 20 knots would be counted in the bin range 10-20 knots and not counted in the bin range 20-30 knots.\n",
        "-    <font color=\"dodgerblue\">**The R function `hist(x, [options])` creates a histogram.** </font>\n",
        "-   Run `?hist` for more information about the available options for customizing a histogram, some of which are illustrated in the code cell below.\n",
        "\n",
        "\n",
        "\n"
      ],
      "metadata": {
        "id": "diWeTOGSE0Kd"
      }
    },
    {
      "cell_type": "code",
      "source": [
        "?hist"
      ],
      "metadata": {
        "id": "Wg6MB5A3GcsE"
      },
      "execution_count": null,
      "outputs": []
    },
    {
      "cell_type": "code",
      "execution_count": null,
      "metadata": {
        "id": "c779cddb-c082-4ece-a7b4-400bdf7498ef"
      },
      "outputs": [],
      "source": [
        "# create a histogram\n",
        "hist(storms$wind,  # vector of values to plot\n",
        "     breaks = 15,  # number of bin ranges to use\n",
        "     xlab = \"wind speed (in knots)\",   # x-axis label\n",
        "     xlim = c(0,200),  # sets window for x-axis\n",
        "     ylab = \"Frequency\",  # y-axis label\n",
        "     ylim = c(0,5000),  # sets window for y-axis\n",
        "     main = \"Distribution of Storm Wind Speed\",  # main label\n",
        "     cex.lab=1.5, cex.axis=1.5, cex.main=1.5,  # increase font size\n",
        "     col = \"steelblue\")  # fill color of bars"
      ]
    },
    {
      "cell_type": "markdown",
      "source": [
        "## <a name=\"hist\">Boxplots</a>\n",
        "\n",
        "---\n",
        "\n",
        "\n"
      ],
      "metadata": {
        "id": "BNtcZmKyGe57"
      }
    },
    {
      "cell_type": "markdown",
      "source": [
        "### <a name=\"five-num\">Five Number Summary</a>\n",
        "\n",
        "---\n",
        "\n",
        "The  <font color=\"dodgerblue\">**five number summary** </font> of a data set,  $\\color{dodgerblue}{(\\mbox{min}, Q_1 , \\mbox{median}, Q_3, \\mbox{max})}$,\n",
        "provides a good description of the spread of the values since we know <font color=\"dodgerblue\">**25% of the values fall between each consecutive pair of values**</font>, where\n",
        "\n",
        "-   $\\color{dodgerblue}{\\mathbf{Q_1}}$ is the <font color=\"dodgerblue\">**first quartile** </font> or $25^{\\mbox{th}}$ percentile, `quantile(x, probs=0.25)`.\n",
        "-   $\\color{dodgerblue}{\\mathbf{Q_3}}$ is the <font color=\"dodgerblue\">**third quartile** </font> or $75^{\\mbox{th}}$ percentile, `quantile(x, probs=0.75)`.\n",
        "-   The  <font color=\"dodgerblue\">**Interquartile Range\n",
        "    (IQR)** </font>$\\color{dodgerblue}{=Q_3-Q_1}$.\n",
        "    - In R, use the function `IQR(x)`.\n",
        "\n",
        "In R, use the function `fivenum(x)` to compute the five number summary.\n",
        "\n",
        "\n"
      ],
      "metadata": {
        "id": "YruCfVUqJ46k"
      }
    },
    {
      "cell_type": "code",
      "source": [
        "min(storms$wind)\n",
        "quantile(storms$wind, probs=0.25)\n",
        "median(storms$wind)\n",
        "quantile(storms$wind, probs=0.75)\n",
        "max(storms$wind)"
      ],
      "metadata": {
        "id": "SN_iefG1GH7f"
      },
      "execution_count": null,
      "outputs": []
    },
    {
      "cell_type": "code",
      "source": [
        "fivenum(storms$wind)"
      ],
      "metadata": {
        "id": "tZvu1-_7GZZN"
      },
      "execution_count": null,
      "outputs": []
    },
    {
      "cell_type": "code",
      "source": [
        "summary(storms$wind)"
      ],
      "metadata": {
        "id": "t_x8xQwwGbfa"
      },
      "execution_count": null,
      "outputs": []
    },
    {
      "cell_type": "markdown",
      "source": [
        "### <a name=\"create-boxplot\">Creating Boxplots with `boxplot()`</a>\n",
        "\n",
        "---\n",
        "\n",
        "A boxplot is a visual representation of a five number summary. In R, we can use the built-in function `boxplot(x)` to create a boxplot of data stored in numeric vector `x`.\n",
        "\n",
        "- The left (or bottom) edge of the box is drawn at the value of $Q_1$.\n",
        "- The right (or top) edge of the box is drawn at the value of $Q_3$.\n",
        "- The median is indicated by a line inside the box.\n",
        "- The IQR is the width of the box.\n",
        "- Whiskers extend from each edge of the box to:\n",
        "  - Either the minimum and maximum values (if there are no outliers),\n",
        "  - Or the upper and lower fence if there are outliers.\n",
        "    -   Upper fence $=Q_3 + 1.5(\\mbox{IQR})$.\n",
        "    -   Lower fence $=Q_1 - 1.5(\\mbox{IQR})$.\n",
        "- Any values less than the lower fence are outliers marked by points.\n",
        "- Any values greater than the upper fence are outliers marked by points.\n"
      ],
      "metadata": {
        "id": "V0qRf5E6J9PE"
      }
    },
    {
      "cell_type": "code",
      "execution_count": null,
      "metadata": {
        "id": "8f83718b-8931-4ad2-b5a9-316b818ef592"
      },
      "outputs": [],
      "source": [
        "boxplot(storms$wind,  # data to plot\n",
        "        main = \"Wind Speeds of Storms\",  # main title\n",
        "        xlab = \"Wind Speed (in knots)\",  # x-axis label\n",
        "        xaxt='n',  # turn off default ticks on x-axis\n",
        "        cex.lab=1.75, cex.axis=1.75, cex.main=1.75,  # increase font size\n",
        "        horizontal = TRUE)  # align horizontally"
      ]
    },
    {
      "cell_type": "markdown",
      "source": [
        "## <a name=\"add-title-axis\">Adding Axes and Title with `axis` and `title`</a>\n",
        "\n",
        "---\n",
        "\n",
        "\n"
      ],
      "metadata": {
        "id": "LzTiLXV9yjGo"
      }
    },
    {
      "cell_type": "code",
      "source": [
        "boxplot(storms$wind,  # data to plot\n",
        "#        main = \"Wind Speeds of Storms\",  # commented out this option\n",
        "        xlab = \"Wind Speed (in knots)\",  # x-axis label\n",
        "        xaxt='n',  # turn off default ticks on x-axis\n",
        "        cex.lab=1.75, cex.axis=1.75, cex.main=1.75,  # increase font size\n",
        "        horizontal = TRUE)  # align horizontally\n",
        "axis(1, at = fivenum(storms$wind))  # add tickmarks at five number summary\n",
        "title(\"Wind Speeds of Storms\")  # another way to add a main title"
      ],
      "metadata": {
        "id": "dd8v7XZRyrSl"
      },
      "execution_count": null,
      "outputs": []
    },
    {
      "cell_type": "markdown",
      "source": [
        "## <a name=\"side-by-side\">Side-by-Side Boxplots</a>\n",
        "\n",
        "---\n",
        "\n",
        "When comparing the distribution of a quantitative variable (such as windspeed) for different classes of a categorical variable (such as storm status), we can compare side-by-side boxplots of the distribution of the quantiative variable for each class of the categorical variable using either the `boxplot()` or `plot()` functions.\n",
        "\n",
        "\n",
        "- If `x` is categorical and `y` is quantitative, `boxplot(y ~ x, data = [name])` creates side-by-side boxplots, one for each class of `x`.\n",
        "\n",
        "\n"
      ],
      "metadata": {
        "id": "MUgrcB2WMkkL"
      }
    },
    {
      "cell_type": "code",
      "source": [
        "boxplot(wind ~ status,\n",
        "        data = storms,  # side by side boxplots\n",
        "        las=2,  # option to rotate the labels on x-axis\n",
        "        col = topo.colors(9))  # using special color topo palette with 9 colors"
      ],
      "metadata": {
        "id": "LIXY_sUY-5FA"
      },
      "execution_count": null,
      "outputs": []
    },
    {
      "cell_type": "markdown",
      "source": [
        "- If `x` is categorical and `y` is quantitative, `plot(y ~ x, data = [name])` also creates side-by-side boxplots, one for each class of `x`."
      ],
      "metadata": {
        "id": "pQOJIO70FUnV"
      }
    },
    {
      "cell_type": "code",
      "source": [
        "plot(wind ~ status,\n",
        "     data = storms,  # side by side boxplots\n",
        "     las=2,  # option to rotate the labels on x-axis\n",
        "     col = topo.colors(9))  # using special color topo palette with 9 colors"
      ],
      "metadata": {
        "id": "ORAwz6TiMnpu"
      },
      "execution_count": null,
      "outputs": []
    },
    {
      "cell_type": "markdown",
      "source": [
        "## <a name=\"scatterplots\">Comparing Two Quantitative Variables: Scatter Plots</a>\n",
        "\n",
        "---\n",
        "\n",
        "\n",
        "If both `x` and `y` are quantitative variables, `plot(y ~ x, data = [name])` creates a <font color=\"dodgerblue\">**scatter plot**</font> (with the predictor variable `x` on the horizontal axis and the response variable `y` on the vertical axis).\n",
        "\n",
        "\n"
      ],
      "metadata": {
        "id": "JzDUmQAtMpBU"
      }
    },
    {
      "cell_type": "code",
      "execution_count": null,
      "metadata": {
        "id": "b015c95b-a434-4ca0-9657-5b402b8688bd"
      },
      "outputs": [],
      "source": [
        "plot(wind ~ pressure, data = storms)  # scatterplot"
      ]
    },
    {
      "cell_type": "markdown",
      "source": [
        "If the variables `x` and `y` are in a data frame named `df`, then the commands `plot(df$x, df$y)` and`plot(y ~ x, data = df)` will result in the same scatter plot."
      ],
      "metadata": {
        "id": "pup0govOAw0j"
      }
    },
    {
      "cell_type": "code",
      "source": [
        "plot(storms$pressure, storms$wind)  # generating the same scatterplot with different code"
      ],
      "metadata": {
        "id": "Qv-KymM6AYl_"
      },
      "execution_count": null,
      "outputs": []
    },
    {
      "cell_type": "markdown",
      "source": [
        "## <a name=\"quest4\">Question 4</a>\n",
        "\n",
        "---\n",
        "\n",
        "Create a side-by-side boxplot to display the distribution of pressures (`pressure`) for each of the five different hurricane categories (`category`)."
      ],
      "metadata": {
        "id": "Feqo5E8ZA5ox"
      }
    },
    {
      "cell_type": "markdown",
      "source": [
        "### <a name=\"Sol4\">Solution to Question 4</a>\n",
        "\n",
        "---\n",
        "\n",
        "<br>  \n"
      ],
      "metadata": {
        "id": "8gOk54jBE8v4"
      }
    },
    {
      "cell_type": "code",
      "source": [],
      "metadata": {
        "id": "VqrB_iN0BXQZ"
      },
      "execution_count": null,
      "outputs": []
    },
    {
      "cell_type": "markdown",
      "source": [
        "## <a name=\"CC License\">Creative Commons License Information</a>\n",
        "---\n",
        "\n",
        "![Creative Commons\n",
        "License](https://i.creativecommons.org/l/by-nc-sa/4.0/88x31.png)\n",
        "\n",
        "Materials created by the [Department of Mathematical and Statistical Sciences at the University of Colorado Denver](https://github.com/CU-Denver-MathStats-OER/)\n",
        "and is licensed under a [Creative Commons\n",
        "Attribution-NonCommercial-ShareAlike 4.0 International\n",
        "License](http://creativecommons.org/licenses/by-nc-sa/4.0/)."
      ],
      "metadata": {
        "id": "WS8w_KQF5ym4"
      }
    }
  ]
}