{
  "nbformat": 4,
  "nbformat_minor": 0,
  "metadata": {
    "colab": {
      "provenance": [],
      "authorship_tag": "ABX9TyM7Bnbv4uI7hixeURrwBxbk"
    },
    "kernelspec": {
      "name": "ir",
      "display_name": "R"
    },
    "language_info": {
      "name": "R"
    }
  },
  "cells": [
    {
      "cell_type": "markdown",
      "source": [
        "[![Open In Colab](https://colab.research.google.com/assets/colab-badge.svg)](https://githubtocolab.com/CU-Denver-MathStats-OER/Data-Wrangling-and-Visualization/blob/main/07-Data-Manipulation-with-dplyr.ipynb)\n",
        "\n"
      ],
      "metadata": {
        "id": "WaUpDHKEpNrt"
      }
    },
    {
      "cell_type": "markdown",
      "source": [
        "# <a name=\"07-title\"><font size=\"6\">Module 07: Data Manipulation with `dplyr`</font></a>\n",
        "\n",
        "---"
      ],
      "metadata": {
        "id": "TyO8Rh7aOeOy"
      }
    },
    {
      "cell_type": "markdown",
      "source": [
        "# <a name=\"tidyverse\">Welcome to the `tidyverse`!</a>\n",
        "\n",
        "---\n",
        "\n",
        "![The tidyverse logos](https://raw.githubusercontent.com/CU-Denver-MathStats-OER/Data-Wrangling-and-Visualization/main/Images/tidyverse.png)\n",
        "\n",
        "\n",
        "The [`tidyverse`](https://www.tidyverse.org/) is a [collection of packages](https://www.tidyverse.org/packages/) by [Hadley Wickham](https://blog.revolutionanalytics.com/2016/09/tidyverse.html) that \"share an underlying design philosophy, grammar, and data structures\" of tidy data.\n",
        "\n",
        "> The core tidyverse includes the packages that you're likely to use in everyday data analyses:\n",
        "\n",
        "\n",
        "- [`ggplot2`](https://ggplot2.tidyverse.org/): data visualization.\n",
        "- [`dplyr`](https://dplyr.tidyverse.org/): data wrangling and transformation.\n",
        "- [`tidyr`](https://tidyr.tidyverse.org/): arrange into tidy data.\n",
        "- [`readr`](https://readr.tidyverse.org/): importing tables and files from other aplications into R.\n",
        "- And others ...\n",
        "\n",
        "\n",
        "The `dplyr` package is a powerful package for restructuring and manipulating data frames. In this notebook, we will learn how to perform basic data frame manipulation using `dplyr`.\n",
        "\n",
        "\n"
      ],
      "metadata": {
        "id": "_VHMfIe4dqUa"
      }
    },
    {
      "cell_type": "markdown",
      "source": [
        "## <a name=\"load-tidyverse\">Loading `tidyverse` Packages</a>\n",
        "\n",
        "---\n",
        "\n",
        "We can load individual packages within the `tidyverse` one by one, or we can load all packages at once with the command `library(tidyverse)`.\n"
      ],
      "metadata": {
        "id": "Y3VleKYlqGJT"
      }
    },
    {
      "cell_type": "code",
      "source": [
        "library(tidyverse)"
      ],
      "metadata": {
        "colab": {
          "base_uri": "https://localhost:8080/"
        },
        "id": "4-40oKhmpkTB",
        "outputId": "2df0a6d8-cbfd-4547-f4db-983b48c6085c"
      },
      "execution_count": 1,
      "outputs": [
        {
          "output_type": "stream",
          "name": "stderr",
          "text": [
            "── \u001b[1mAttaching core tidyverse packages\u001b[22m ──────────────────────── tidyverse 2.0.0 ──\n",
            "\u001b[32m✔\u001b[39m \u001b[34mdplyr    \u001b[39m 1.1.4     \u001b[32m✔\u001b[39m \u001b[34mreadr    \u001b[39m 2.1.5\n",
            "\u001b[32m✔\u001b[39m \u001b[34mforcats  \u001b[39m 1.0.0     \u001b[32m✔\u001b[39m \u001b[34mstringr  \u001b[39m 1.5.1\n",
            "\u001b[32m✔\u001b[39m \u001b[34mggplot2  \u001b[39m 3.5.1     \u001b[32m✔\u001b[39m \u001b[34mtibble   \u001b[39m 3.2.1\n",
            "\u001b[32m✔\u001b[39m \u001b[34mlubridate\u001b[39m 1.9.4     \u001b[32m✔\u001b[39m \u001b[34mtidyr    \u001b[39m 1.3.1\n",
            "\u001b[32m✔\u001b[39m \u001b[34mpurrr    \u001b[39m 1.0.4     \n",
            "── \u001b[1mConflicts\u001b[22m ────────────────────────────────────────── tidyverse_conflicts() ──\n",
            "\u001b[31m✖\u001b[39m \u001b[34mdplyr\u001b[39m::\u001b[32mfilter()\u001b[39m masks \u001b[34mstats\u001b[39m::filter()\n",
            "\u001b[31m✖\u001b[39m \u001b[34mdplyr\u001b[39m::\u001b[32mlag()\u001b[39m    masks \u001b[34mstats\u001b[39m::lag()\n",
            "\u001b[36mℹ\u001b[39m Use the conflicted package (\u001b[3m\u001b[34m<http://conflicted.r-lib.org/>\u001b[39m\u001b[23m) to force all conflicts to become errors\n"
          ]
        }
      ]
    },
    {
      "cell_type": "markdown",
      "source": [
        "## <a name=\"quest1\">Question 1</a>\n",
        "\n",
        "---\n",
        "\n",
        "What other packages are part of the `tidyverse`?\n",
        "\n",
        "<br>\n",
        "\n"
      ],
      "metadata": {
        "id": "1aYo8EQkuxEM"
      }
    },
    {
      "cell_type": "markdown",
      "source": [
        "### <a name=\"sol1\">Solution to Question 1</a>\n",
        "\n",
        "---\n",
        "\n",
        "\n",
        "\n",
        "<br>  \n",
        "<br>  \n"
      ],
      "metadata": {
        "id": "csyU4uX8u4ps"
      }
    },
    {
      "cell_type": "markdown",
      "source": [
        "# <a name=\"tidy-data\">Tidy data</a>\n",
        "\n",
        "---\n",
        "\n",
        "<font color=\"dodgerblue\">**Tidy data**</font> is structured so that:\n",
        "\n",
        "1. Each variable is in a single column and no variables share a column.\n",
        "2. Each observation is in a single row.\n",
        "3. Each data value has its own cell.\n",
        "\n",
        "\n"
      ],
      "metadata": {
        "id": "Von13mJ_-Rxh"
      }
    },
    {
      "cell_type": "markdown",
      "source": [
        "## <a name=\"quest2\">Question 2</a>\n",
        "\n",
        "---\n",
        "\n",
        "The `tidyverse` package provides several data sets to illustrate the concept of tidy data.\n",
        "\n",
        "The data sets `table1`, `table2`, `table3`, `table4a`, `table4b`, and `table5` provide data about tuberculosis cases for various countries in different years. The variables provided include:\n",
        "\n",
        "- `country`: the name of the country\n",
        "- `year`: the year an observation was observed\n",
        "- `cases`: the number of tuberculosis cases observed in the specified year\n",
        "- `population`: the population of the country in the specified year\n",
        "- `rate`: the rate of disease observed in a country in a specified year (`cases/population`)\n",
        "- `1999`, `2000`: values of a variable observed for a country in that year\n",
        "\n",
        "<br>  \n",
        "\n"
      ],
      "metadata": {
        "id": "MuCHRfU1vjFh"
      }
    },
    {
      "cell_type": "markdown",
      "source": [
        "### <a name=\"quest2a\">Question 2a</a>\n",
        "\n",
        "---\n",
        "\n",
        "Run the code cell below and determine if the data in `table2` is tidy. If not, explain why not.\n",
        "\n",
        "<br>  \n"
      ],
      "metadata": {
        "id": "Y_HnKyLJzHrp"
      }
    },
    {
      "cell_type": "code",
      "source": [
        "table2"
      ],
      "metadata": {
        "colab": {
          "base_uri": "https://localhost:8080/",
          "height": 474
        },
        "id": "UagLYJuK_klt",
        "outputId": "84fb27d2-60ed-4e23-fb2e-d0cae44f02e7"
      },
      "execution_count": null,
      "outputs": [
        {
          "output_type": "display_data",
          "data": {
            "text/html": [
              "<table class=\"dataframe\">\n",
              "<caption>A tibble: 12 × 4</caption>\n",
              "<thead>\n",
              "\t<tr><th scope=col>country</th><th scope=col>year</th><th scope=col>type</th><th scope=col>count</th></tr>\n",
              "\t<tr><th scope=col>&lt;chr&gt;</th><th scope=col>&lt;dbl&gt;</th><th scope=col>&lt;chr&gt;</th><th scope=col>&lt;dbl&gt;</th></tr>\n",
              "</thead>\n",
              "<tbody>\n",
              "\t<tr><td>Afghanistan</td><td>1999</td><td>cases     </td><td>       745</td></tr>\n",
              "\t<tr><td>Afghanistan</td><td>1999</td><td>population</td><td>  19987071</td></tr>\n",
              "\t<tr><td>Afghanistan</td><td>2000</td><td>cases     </td><td>      2666</td></tr>\n",
              "\t<tr><td>Afghanistan</td><td>2000</td><td>population</td><td>  20595360</td></tr>\n",
              "\t<tr><td>Brazil     </td><td>1999</td><td>cases     </td><td>     37737</td></tr>\n",
              "\t<tr><td>Brazil     </td><td>1999</td><td>population</td><td> 172006362</td></tr>\n",
              "\t<tr><td>Brazil     </td><td>2000</td><td>cases     </td><td>     80488</td></tr>\n",
              "\t<tr><td>Brazil     </td><td>2000</td><td>population</td><td> 174504898</td></tr>\n",
              "\t<tr><td>China      </td><td>1999</td><td>cases     </td><td>    212258</td></tr>\n",
              "\t<tr><td>China      </td><td>1999</td><td>population</td><td>1272915272</td></tr>\n",
              "\t<tr><td>China      </td><td>2000</td><td>cases     </td><td>    213766</td></tr>\n",
              "\t<tr><td>China      </td><td>2000</td><td>population</td><td>1280428583</td></tr>\n",
              "</tbody>\n",
              "</table>\n"
            ],
            "text/markdown": "\nA tibble: 12 × 4\n\n| country &lt;chr&gt; | year &lt;dbl&gt; | type &lt;chr&gt; | count &lt;dbl&gt; |\n|---|---|---|---|\n| Afghanistan | 1999 | cases      |        745 |\n| Afghanistan | 1999 | population |   19987071 |\n| Afghanistan | 2000 | cases      |       2666 |\n| Afghanistan | 2000 | population |   20595360 |\n| Brazil      | 1999 | cases      |      37737 |\n| Brazil      | 1999 | population |  172006362 |\n| Brazil      | 2000 | cases      |      80488 |\n| Brazil      | 2000 | population |  174504898 |\n| China       | 1999 | cases      |     212258 |\n| China       | 1999 | population | 1272915272 |\n| China       | 2000 | cases      |     213766 |\n| China       | 2000 | population | 1280428583 |\n\n",
            "text/latex": "A tibble: 12 × 4\n\\begin{tabular}{llll}\n country & year & type & count\\\\\n <chr> & <dbl> & <chr> & <dbl>\\\\\n\\hline\n\t Afghanistan & 1999 & cases      &        745\\\\\n\t Afghanistan & 1999 & population &   19987071\\\\\n\t Afghanistan & 2000 & cases      &       2666\\\\\n\t Afghanistan & 2000 & population &   20595360\\\\\n\t Brazil      & 1999 & cases      &      37737\\\\\n\t Brazil      & 1999 & population &  172006362\\\\\n\t Brazil      & 2000 & cases      &      80488\\\\\n\t Brazil      & 2000 & population &  174504898\\\\\n\t China       & 1999 & cases      &     212258\\\\\n\t China       & 1999 & population & 1272915272\\\\\n\t China       & 2000 & cases      &     213766\\\\\n\t China       & 2000 & population & 1280428583\\\\\n\\end{tabular}\n",
            "text/plain": [
              "   country     year type       count     \n",
              "1  Afghanistan 1999 cases             745\n",
              "2  Afghanistan 1999 population   19987071\n",
              "3  Afghanistan 2000 cases            2666\n",
              "4  Afghanistan 2000 population   20595360\n",
              "5  Brazil      1999 cases           37737\n",
              "6  Brazil      1999 population  172006362\n",
              "7  Brazil      2000 cases           80488\n",
              "8  Brazil      2000 population  174504898\n",
              "9  China       1999 cases          212258\n",
              "10 China       1999 population 1272915272\n",
              "11 China       2000 cases          213766\n",
              "12 China       2000 population 1280428583"
            ]
          },
          "metadata": {}
        }
      ]
    },
    {
      "cell_type": "markdown",
      "source": [
        "#### <a name=\"sol2a\">Solution to Question 2a</a>\n",
        "\n",
        "---\n",
        "\n",
        "\n",
        "\n",
        "<br>  \n",
        "<br>  \n"
      ],
      "metadata": {
        "id": "vCB-vVbwxSoB"
      }
    },
    {
      "cell_type": "markdown",
      "source": [
        "### <a name=\"quest2b\">Question 2b</a>\n",
        "\n",
        "---\n",
        "\n",
        "Run the code cell below and determine if the data in `table3` is tidy. If not, explain why not.\n",
        "\n",
        "<br>  \n"
      ],
      "metadata": {
        "id": "7bBxvDXKzZgE"
      }
    },
    {
      "cell_type": "code",
      "source": [
        "table3"
      ],
      "metadata": {
        "colab": {
          "base_uri": "https://localhost:8080/",
          "height": 286
        },
        "id": "QLaTUF-x_uCI",
        "outputId": "c4ada7b0-c878-4411-edef-f7faf27c9160"
      },
      "execution_count": null,
      "outputs": [
        {
          "output_type": "display_data",
          "data": {
            "text/html": [
              "<table class=\"dataframe\">\n",
              "<caption>A tibble: 6 × 3</caption>\n",
              "<thead>\n",
              "\t<tr><th scope=col>country</th><th scope=col>year</th><th scope=col>rate</th></tr>\n",
              "\t<tr><th scope=col>&lt;chr&gt;</th><th scope=col>&lt;dbl&gt;</th><th scope=col>&lt;chr&gt;</th></tr>\n",
              "</thead>\n",
              "<tbody>\n",
              "\t<tr><td>Afghanistan</td><td>1999</td><td>745/19987071     </td></tr>\n",
              "\t<tr><td>Afghanistan</td><td>2000</td><td>2666/20595360    </td></tr>\n",
              "\t<tr><td>Brazil     </td><td>1999</td><td>37737/172006362  </td></tr>\n",
              "\t<tr><td>Brazil     </td><td>2000</td><td>80488/174504898  </td></tr>\n",
              "\t<tr><td>China      </td><td>1999</td><td>212258/1272915272</td></tr>\n",
              "\t<tr><td>China      </td><td>2000</td><td>213766/1280428583</td></tr>\n",
              "</tbody>\n",
              "</table>\n"
            ],
            "text/markdown": "\nA tibble: 6 × 3\n\n| country &lt;chr&gt; | year &lt;dbl&gt; | rate &lt;chr&gt; |\n|---|---|---|\n| Afghanistan | 1999 | 745/19987071      |\n| Afghanistan | 2000 | 2666/20595360     |\n| Brazil      | 1999 | 37737/172006362   |\n| Brazil      | 2000 | 80488/174504898   |\n| China       | 1999 | 212258/1272915272 |\n| China       | 2000 | 213766/1280428583 |\n\n",
            "text/latex": "A tibble: 6 × 3\n\\begin{tabular}{lll}\n country & year & rate\\\\\n <chr> & <dbl> & <chr>\\\\\n\\hline\n\t Afghanistan & 1999 & 745/19987071     \\\\\n\t Afghanistan & 2000 & 2666/20595360    \\\\\n\t Brazil      & 1999 & 37737/172006362  \\\\\n\t Brazil      & 2000 & 80488/174504898  \\\\\n\t China       & 1999 & 212258/1272915272\\\\\n\t China       & 2000 & 213766/1280428583\\\\\n\\end{tabular}\n",
            "text/plain": [
              "  country     year rate             \n",
              "1 Afghanistan 1999 745/19987071     \n",
              "2 Afghanistan 2000 2666/20595360    \n",
              "3 Brazil      1999 37737/172006362  \n",
              "4 Brazil      2000 80488/174504898  \n",
              "5 China       1999 212258/1272915272\n",
              "6 China       2000 213766/1280428583"
            ]
          },
          "metadata": {}
        }
      ]
    },
    {
      "cell_type": "markdown",
      "source": [
        "#### <a name=\"sol2b\">Solution to Question 2b</a>\n",
        "\n",
        "---\n",
        "\n",
        "\n",
        "\n",
        "<br>  \n",
        "<br>  \n"
      ],
      "metadata": {
        "id": "zvtQkGN9zImo"
      }
    },
    {
      "cell_type": "markdown",
      "source": [
        "## <a name=\"time-series\">Time Series Data</a>\n",
        "\n",
        "---\n",
        "\n",
        "Times series data are often stored in a non-tidy way. In that case, the values of a variable are stored in a time-related column (like day or year). Different variables may then be stored across multiple data frames!\n",
        "\n",
        "`table4a` and `table4b` in the `tidyr` package exhibit this type of non-tidyness. `table4a` provides the `cases` values for each `country` for each `year`. `table4b` provides the same thing for the `population` values.\n",
        "\n",
        "In these two tables, the values for `cases` and `population` are split across multiple columns. Specifically, the `cases` are split across columns by `year` (and similarly for `population`). Additionally, observations are not in a single row since the values of `cases` and `population` for each `country` for each `year` are not in a single row."
      ],
      "metadata": {
        "id": "Ui1DFhQY_s0k"
      }
    },
    {
      "cell_type": "code",
      "source": [
        "table4a"
      ],
      "metadata": {
        "colab": {
          "base_uri": "https://localhost:8080/",
          "height": 192
        },
        "id": "SKx04nCWABzz",
        "outputId": "5602d068-fa9c-4613-edd7-111a16095ba7"
      },
      "execution_count": null,
      "outputs": [
        {
          "output_type": "display_data",
          "data": {
            "text/html": [
              "<table class=\"dataframe\">\n",
              "<caption>A tibble: 3 × 3</caption>\n",
              "<thead>\n",
              "\t<tr><th scope=col>country</th><th scope=col>1999</th><th scope=col>2000</th></tr>\n",
              "\t<tr><th scope=col>&lt;chr&gt;</th><th scope=col>&lt;dbl&gt;</th><th scope=col>&lt;dbl&gt;</th></tr>\n",
              "</thead>\n",
              "<tbody>\n",
              "\t<tr><td>Afghanistan</td><td>   745</td><td>  2666</td></tr>\n",
              "\t<tr><td>Brazil     </td><td> 37737</td><td> 80488</td></tr>\n",
              "\t<tr><td>China      </td><td>212258</td><td>213766</td></tr>\n",
              "</tbody>\n",
              "</table>\n"
            ],
            "text/markdown": "\nA tibble: 3 × 3\n\n| country &lt;chr&gt; | 1999 &lt;dbl&gt; | 2000 &lt;dbl&gt; |\n|---|---|---|\n| Afghanistan |    745 |   2666 |\n| Brazil      |  37737 |  80488 |\n| China       | 212258 | 213766 |\n\n",
            "text/latex": "A tibble: 3 × 3\n\\begin{tabular}{lll}\n country & 1999 & 2000\\\\\n <chr> & <dbl> & <dbl>\\\\\n\\hline\n\t Afghanistan &    745 &   2666\\\\\n\t Brazil      &  37737 &  80488\\\\\n\t China       & 212258 & 213766\\\\\n\\end{tabular}\n",
            "text/plain": [
              "  country     1999   2000  \n",
              "1 Afghanistan    745   2666\n",
              "2 Brazil       37737  80488\n",
              "3 China       212258 213766"
            ]
          },
          "metadata": {}
        }
      ]
    },
    {
      "cell_type": "code",
      "source": [
        "table4b"
      ],
      "metadata": {
        "colab": {
          "base_uri": "https://localhost:8080/",
          "height": 192
        },
        "id": "7eA2eGxkAEOv",
        "outputId": "c09e60ff-df5d-40c7-ccc5-2dfe3146b108"
      },
      "execution_count": null,
      "outputs": [
        {
          "output_type": "display_data",
          "data": {
            "text/html": [
              "<table class=\"dataframe\">\n",
              "<caption>A tibble: 3 × 3</caption>\n",
              "<thead>\n",
              "\t<tr><th scope=col>country</th><th scope=col>1999</th><th scope=col>2000</th></tr>\n",
              "\t<tr><th scope=col>&lt;chr&gt;</th><th scope=col>&lt;dbl&gt;</th><th scope=col>&lt;dbl&gt;</th></tr>\n",
              "</thead>\n",
              "<tbody>\n",
              "\t<tr><td>Afghanistan</td><td>  19987071</td><td>  20595360</td></tr>\n",
              "\t<tr><td>Brazil     </td><td> 172006362</td><td> 174504898</td></tr>\n",
              "\t<tr><td>China      </td><td>1272915272</td><td>1280428583</td></tr>\n",
              "</tbody>\n",
              "</table>\n"
            ],
            "text/markdown": "\nA tibble: 3 × 3\n\n| country &lt;chr&gt; | 1999 &lt;dbl&gt; | 2000 &lt;dbl&gt; |\n|---|---|---|\n| Afghanistan |   19987071 |   20595360 |\n| Brazil      |  172006362 |  174504898 |\n| China       | 1272915272 | 1280428583 |\n\n",
            "text/latex": "A tibble: 3 × 3\n\\begin{tabular}{lll}\n country & 1999 & 2000\\\\\n <chr> & <dbl> & <dbl>\\\\\n\\hline\n\t Afghanistan &   19987071 &   20595360\\\\\n\t Brazil      &  172006362 &  174504898\\\\\n\t China       & 1272915272 & 1280428583\\\\\n\\end{tabular}\n",
            "text/plain": [
              "  country     1999       2000      \n",
              "1 Afghanistan   19987071   20595360\n",
              "2 Brazil       172006362  174504898\n",
              "3 China       1272915272 1280428583"
            ]
          },
          "metadata": {}
        }
      ]
    },
    {
      "cell_type": "markdown",
      "source": [
        "## <a name=\"a-good-one\">A Tidy Example</a>\n",
        "\n",
        "----\n",
        "\n"
      ],
      "metadata": {
        "id": "A1XgqpXvATJs"
      }
    },
    {
      "cell_type": "code",
      "source": [
        "table1"
      ],
      "metadata": {
        "colab": {
          "base_uri": "https://localhost:8080/",
          "height": 286
        },
        "id": "aLGtp5Ur_bMc",
        "outputId": "618622a8-11a6-43af-c6c5-52dc3f4603de"
      },
      "execution_count": null,
      "outputs": [
        {
          "output_type": "display_data",
          "data": {
            "text/html": [
              "<table class=\"dataframe\">\n",
              "<caption>A tibble: 6 × 4</caption>\n",
              "<thead>\n",
              "\t<tr><th scope=col>country</th><th scope=col>year</th><th scope=col>cases</th><th scope=col>population</th></tr>\n",
              "\t<tr><th scope=col>&lt;chr&gt;</th><th scope=col>&lt;dbl&gt;</th><th scope=col>&lt;dbl&gt;</th><th scope=col>&lt;dbl&gt;</th></tr>\n",
              "</thead>\n",
              "<tbody>\n",
              "\t<tr><td>Afghanistan</td><td>1999</td><td>   745</td><td>  19987071</td></tr>\n",
              "\t<tr><td>Afghanistan</td><td>2000</td><td>  2666</td><td>  20595360</td></tr>\n",
              "\t<tr><td>Brazil     </td><td>1999</td><td> 37737</td><td> 172006362</td></tr>\n",
              "\t<tr><td>Brazil     </td><td>2000</td><td> 80488</td><td> 174504898</td></tr>\n",
              "\t<tr><td>China      </td><td>1999</td><td>212258</td><td>1272915272</td></tr>\n",
              "\t<tr><td>China      </td><td>2000</td><td>213766</td><td>1280428583</td></tr>\n",
              "</tbody>\n",
              "</table>\n"
            ],
            "text/markdown": "\nA tibble: 6 × 4\n\n| country &lt;chr&gt; | year &lt;dbl&gt; | cases &lt;dbl&gt; | population &lt;dbl&gt; |\n|---|---|---|---|\n| Afghanistan | 1999 |    745 |   19987071 |\n| Afghanistan | 2000 |   2666 |   20595360 |\n| Brazil      | 1999 |  37737 |  172006362 |\n| Brazil      | 2000 |  80488 |  174504898 |\n| China       | 1999 | 212258 | 1272915272 |\n| China       | 2000 | 213766 | 1280428583 |\n\n",
            "text/latex": "A tibble: 6 × 4\n\\begin{tabular}{llll}\n country & year & cases & population\\\\\n <chr> & <dbl> & <dbl> & <dbl>\\\\\n\\hline\n\t Afghanistan & 1999 &    745 &   19987071\\\\\n\t Afghanistan & 2000 &   2666 &   20595360\\\\\n\t Brazil      & 1999 &  37737 &  172006362\\\\\n\t Brazil      & 2000 &  80488 &  174504898\\\\\n\t China       & 1999 & 212258 & 1272915272\\\\\n\t China       & 2000 & 213766 & 1280428583\\\\\n\\end{tabular}\n",
            "text/plain": [
              "  country     year cases  population\n",
              "1 Afghanistan 1999    745   19987071\n",
              "2 Afghanistan 2000   2666   20595360\n",
              "3 Brazil      1999  37737  172006362\n",
              "4 Brazil      2000  80488  174504898\n",
              "5 China       1999 212258 1272915272\n",
              "6 China       2000 213766 1280428583"
            ]
          },
          "metadata": {}
        }
      ]
    },
    {
      "cell_type": "markdown",
      "source": [
        "# <a name=\"dplyr\">The `dplyr` Package</a>\n",
        "\n",
        "---\n",
        "\n",
        "\n",
        "The [`dplyr`](https://dplyr.tidyverse.org/) package provides functions for the \"verbs\" (i.e., actions) related to common data frame manipulation tasks. Each verb performs a different task, but they all share the following structure:\n",
        "\n",
        "\n",
        "1. The first argument is always a data frame.\n",
        "\n",
        "2. The next arguments typically describe which columns to operate on using variable names **without quotes**.\n",
        "\n",
        "3. The output is a new data frame.\n",
        "\n",
        "<br>  \n",
        "\n",
        "The table below summarizes some of the most important verbs (functions) by the aspect of a data frame it manipulates.\n",
        "\n",
        "<br>  \n",
        "\n",
        "aspect | function | purpose\n",
        "---|---|---\n",
        "row | `filter` | selects rows based on a logical statement\n",
        "row | `slice` | select rows based on position or other property\n",
        "row | `arrange` | reorders the rows based on some property\n",
        "row | `group_by` | groups a collection of rows hierarchically based on one or more variables\n",
        "group of rows | `summarize` | produces a summarizing value or values for a group of rows\n",
        "column | `select` | selects columns based on a logical statement, column names, etc.\n",
        "column | `rename` | changes one or more column names\n",
        "column | `mutate` | changes an existing column or adds a new column\n",
        "column | `relocate` | reorders the columns\n",
        "\n",
        "<br>  \n",
        "\n",
        "Link to [cheatsheet](https://github.com/rstudio/cheatsheets/blob/main/data-transformation.pdf) for `dplyr`.\n",
        "\n",
        "<br>  \n"
      ],
      "metadata": {
        "id": "rTsMhNNp09y-"
      }
    },
    {
      "cell_type": "markdown",
      "source": [
        "# <a name=\"pipe\">The pipe</a>\n",
        "\n",
        "---\n",
        "\n",
        "The <font color=\"dodgerblue\">**pipe**</font>, `|>`, is a popular approach for \"piping\" an object into the first argument (usually) of another function.\n",
        "\n",
        "- The pipe was introduced by the `magrittr` package with `%>%`.\n",
        "  - `magrittr` is in the `tidyverse`, so you can use `%>%` or `|>` whenever you load the `tidyverse`.\n",
        "  - `|>` was added to R 4.1.0 in 2021 and works in base R and in the `tidyverse`.\n",
        "  - Note `%>%` does not work in base R which may affect reproducibility of code and ability to collaborate.\n",
        "- Because each verb does a single action, solving complex problems typically requires composing a sequence of actions together in a particular order.  \n",
        "- It is extremely popular in the `tidyverse` for stringing sequences of operations together in a readable way.\n",
        "\n",
        "We will learn about the pipe in the examples that follow (we need to learn actions before we can pipe them), but Wickham, Çetinkaya-Rundel, and Grolemund R briefly summarize the concept in for [R Data Science.](https://r4ds.hadley.nz/data-transform.html#dplyr-basics) as follows:\n",
        "\n",
        "> the pipe takes the thing on its left and passes it along to the function on its right so that `x |> f(y)` is equivalent to $f(x, y)$, and `x |> f(y) |> g(z)` is equivalent to $g(f(x, y), z)$. The easiest way to pronounce the pipe is “then”.\n",
        "\n",
        "<br>  \n",
        "\n",
        "\n"
      ],
      "metadata": {
        "id": "K9hbT-621Sm1"
      }
    },
    {
      "cell_type": "code",
      "source": [
        "data(package = \"dplyr\")"
      ],
      "metadata": {
        "id": "q7QaLSHdCWUO"
      },
      "execution_count": 4,
      "outputs": []
    },
    {
      "cell_type": "code",
      "source": [
        "?storms"
      ],
      "metadata": {
        "id": "WNKjd_GeCtkU"
      },
      "execution_count": 28,
      "outputs": []
    },
    {
      "cell_type": "code",
      "source": [
        "# glimpse function in dplyr shows all columns a data frame\n",
        "glimpse(storms)"
      ],
      "metadata": {
        "colab": {
          "base_uri": "https://localhost:8080/"
        },
        "id": "KbMbdLHbEIYU",
        "outputId": "781befa2-912e-4f77-9c50-fab8a9a238fd"
      },
      "execution_count": 16,
      "outputs": [
        {
          "output_type": "stream",
          "name": "stdout",
          "text": [
            "Rows: 19,537\n",
            "Columns: 13\n",
            "$ name                         \u001b[3m\u001b[90m<chr>\u001b[39m\u001b[23m \"Amy\", \"Amy\", \"Amy\", \"Amy\", \"Amy\", \"Amy\",…\n",
            "$ year                         \u001b[3m\u001b[90m<dbl>\u001b[39m\u001b[23m 1975, 1975, 1975, 1975, 1975, 1975, 1975,…\n",
            "$ month                        \u001b[3m\u001b[90m<dbl>\u001b[39m\u001b[23m 6, 6, 6, 6, 6, 6, 6, 6, 6, 6, 6, 6, 6, 6,…\n",
            "$ day                          \u001b[3m\u001b[90m<int>\u001b[39m\u001b[23m 27, 27, 27, 27, 28, 28, 28, 28, 29, 29, 2…\n",
            "$ hour                         \u001b[3m\u001b[90m<dbl>\u001b[39m\u001b[23m 0, 6, 12, 18, 0, 6, 12, 18, 0, 6, 12, 18,…\n",
            "$ lat                          \u001b[3m\u001b[90m<dbl>\u001b[39m\u001b[23m 27.5, 28.5, 29.5, 30.5, 31.5, 32.4, 33.3,…\n",
            "$ long                         \u001b[3m\u001b[90m<dbl>\u001b[39m\u001b[23m -79.0, -79.0, -79.0, -79.0, -78.8, -78.7,…\n",
            "$ status                       \u001b[3m\u001b[90m<fct>\u001b[39m\u001b[23m tropical depression, tropical depression,…\n",
            "$ category                     \u001b[3m\u001b[90m<dbl>\u001b[39m\u001b[23m \u001b[31mNA\u001b[39m, \u001b[31mNA\u001b[39m, \u001b[31mNA\u001b[39m, \u001b[31mNA\u001b[39m, \u001b[31mNA\u001b[39m, \u001b[31mNA\u001b[39m, \u001b[31mNA\u001b[39m, \u001b[31mNA\u001b[39m, \u001b[31mNA\u001b[39m, \u001b[31mNA\u001b[39m, \u001b[31mN\u001b[39m…\n",
            "$ wind                         \u001b[3m\u001b[90m<int>\u001b[39m\u001b[23m 25, 25, 25, 25, 25, 25, 25, 30, 35, 40, 4…\n",
            "$ pressure                     \u001b[3m\u001b[90m<int>\u001b[39m\u001b[23m 1013, 1013, 1013, 1013, 1012, 1012, 1011,…\n",
            "$ tropicalstorm_force_diameter \u001b[3m\u001b[90m<int>\u001b[39m\u001b[23m \u001b[31mNA\u001b[39m, \u001b[31mNA\u001b[39m, \u001b[31mNA\u001b[39m, \u001b[31mNA\u001b[39m, \u001b[31mNA\u001b[39m, \u001b[31mNA\u001b[39m, \u001b[31mNA\u001b[39m, \u001b[31mNA\u001b[39m, \u001b[31mNA\u001b[39m, \u001b[31mNA\u001b[39m, \u001b[31mN\u001b[39m…\n",
            "$ hurricane_force_diameter     \u001b[3m\u001b[90m<int>\u001b[39m\u001b[23m \u001b[31mNA\u001b[39m, \u001b[31mNA\u001b[39m, \u001b[31mNA\u001b[39m, \u001b[31mNA\u001b[39m, \u001b[31mNA\u001b[39m, \u001b[31mNA\u001b[39m, \u001b[31mNA\u001b[39m, \u001b[31mNA\u001b[39m, \u001b[31mNA\u001b[39m, \u001b[31mNA\u001b[39m, \u001b[31mN\u001b[39m…\n"
          ]
        }
      ]
    },
    {
      "cell_type": "markdown",
      "source": [
        "# <a name=\"tibbles\">Tibbles</a>\n",
        "\n",
        "---\n",
        "\n",
        "When the `dplyr` package interacts with a data frame, it usually produces a <font color=\"dodgerblue\">**tibble**</font>.\n",
        "\n",
        "- Tibbles comes from the [`tibble`](https://tibble.tidyverse.org/) package, which is automatically imported by `dplyr`.\n",
        "- A tibble is supposed to be a \"modern re-imagining\" of R's standard data frame (referred to as `data.frame` for clarity).\n",
        "- A tibble has class `tbl_df`.\n",
        "- A tibble is also a `data.frame`, but has different default behaviors.\n",
        "- Functions that take a `data.frame` as an input should also take a tibble as an input.\n",
        "\n",
        "<br>  \n"
      ],
      "metadata": {
        "id": "QDaPj9jeZQdQ"
      }
    },
    {
      "cell_type": "markdown",
      "source": [
        "# <a name=\"rows\">Row Actions</a>\n",
        "\n",
        "---\n"
      ],
      "metadata": {
        "id": "vSqWgNG-UNAc"
      }
    },
    {
      "cell_type": "markdown",
      "source": [
        "## <a name=\"filter\">`filter()`</a>\n",
        "\n",
        "---\n",
        "\n",
        "The `filter()` function filters out the rows of a data frame that do not meet the designated criteria. For example, we can `filter()` the rows of the `storms` data frame based on whether the `hurricane_force_diameter` variable is more than 240 nautical miles.\n",
        "\n",
        "\n",
        "- First, we try accomplishing this goal using indexing with logical statements.\n",
        "- Then, we use the `filter()` function to perform the same task.\n"
      ],
      "metadata": {
        "id": "7w8lNDfC15D_"
      }
    },
    {
      "cell_type": "code",
      "source": [
        "# slice all rows with hurrican force diameter greater than 240 miles\n",
        "storms[storms$hurricane_force_diameter > 240, ]"
      ],
      "metadata": {
        "id": "Bx2juUE0EGct"
      },
      "execution_count": null,
      "outputs": []
    },
    {
      "cell_type": "code",
      "source": [
        "# and remove rows with hurrican force diameter not equal to NA\n",
        "storms[storms$hurricane_force_diameter > 240 &\n",
        "       !is.na(storms$hurricane_force_diameter), ]"
      ],
      "metadata": {
        "colab": {
          "base_uri": "https://localhost:8080/",
          "height": 349
        },
        "id": "yRCtP8clFlOp",
        "outputId": "5898e6a3-c979-4bb5-eb8a-09dc14dc970d"
      },
      "execution_count": 25,
      "outputs": [
        {
          "output_type": "display_data",
          "data": {
            "text/html": [
              "<table class=\"dataframe\">\n",
              "<caption>A tibble: 8 × 13</caption>\n",
              "<thead>\n",
              "\t<tr><th scope=col>name</th><th scope=col>year</th><th scope=col>month</th><th scope=col>day</th><th scope=col>hour</th><th scope=col>lat</th><th scope=col>long</th><th scope=col>status</th><th scope=col>category</th><th scope=col>wind</th><th scope=col>pressure</th><th scope=col>tropicalstorm_force_diameter</th><th scope=col>hurricane_force_diameter</th></tr>\n",
              "\t<tr><th scope=col>&lt;chr&gt;</th><th scope=col>&lt;dbl&gt;</th><th scope=col>&lt;dbl&gt;</th><th scope=col>&lt;int&gt;</th><th scope=col>&lt;dbl&gt;</th><th scope=col>&lt;dbl&gt;</th><th scope=col>&lt;dbl&gt;</th><th scope=col>&lt;fct&gt;</th><th scope=col>&lt;dbl&gt;</th><th scope=col>&lt;int&gt;</th><th scope=col>&lt;int&gt;</th><th scope=col>&lt;int&gt;</th><th scope=col>&lt;int&gt;</th></tr>\n",
              "</thead>\n",
              "<tbody>\n",
              "\t<tr><td>Maria</td><td>2005</td><td> 9</td><td>11</td><td>12</td><td>52.0</td><td>-32.9</td><td>extratropical</td><td>NA</td><td>65</td><td>971</td><td>600</td><td>250</td></tr>\n",
              "\t<tr><td>Maria</td><td>2005</td><td> 9</td><td>11</td><td>18</td><td>54.0</td><td>-32.0</td><td>extratropical</td><td>NA</td><td>65</td><td>968</td><td>600</td><td>250</td></tr>\n",
              "\t<tr><td>Maria</td><td>2005</td><td> 9</td><td>12</td><td> 0</td><td>55.5</td><td>-31.0</td><td>extratropical</td><td>NA</td><td>65</td><td>962</td><td>600</td><td>250</td></tr>\n",
              "\t<tr><td>Maria</td><td>2005</td><td> 9</td><td>12</td><td> 6</td><td>57.0</td><td>-29.0</td><td>extratropical</td><td>NA</td><td>65</td><td>967</td><td>600</td><td>250</td></tr>\n",
              "\t<tr><td>Maria</td><td>2005</td><td> 9</td><td>12</td><td>12</td><td>58.5</td><td>-26.0</td><td>extratropical</td><td>NA</td><td>65</td><td>970</td><td>600</td><td>250</td></tr>\n",
              "\t<tr><td>Sandy</td><td>2012</td><td>10</td><td>29</td><td>18</td><td>38.3</td><td>-73.2</td><td>hurricane    </td><td> 1</td><td>80</td><td>940</td><td>840</td><td>300</td></tr>\n",
              "\t<tr><td>Sandy</td><td>2012</td><td>10</td><td>29</td><td>21</td><td>38.8</td><td>-74.0</td><td>extratropical</td><td>NA</td><td>75</td><td>943</td><td>840</td><td>300</td></tr>\n",
              "\t<tr><td>Alex </td><td>2016</td><td> 1</td><td>17</td><td> 0</td><td>57.0</td><td>-42.0</td><td>extratropical</td><td>NA</td><td>70</td><td>978</td><td>600</td><td>300</td></tr>\n",
              "</tbody>\n",
              "</table>\n"
            ],
            "text/markdown": "\nA tibble: 8 × 13\n\n| name &lt;chr&gt; | year &lt;dbl&gt; | month &lt;dbl&gt; | day &lt;int&gt; | hour &lt;dbl&gt; | lat &lt;dbl&gt; | long &lt;dbl&gt; | status &lt;fct&gt; | category &lt;dbl&gt; | wind &lt;int&gt; | pressure &lt;int&gt; | tropicalstorm_force_diameter &lt;int&gt; | hurricane_force_diameter &lt;int&gt; |\n|---|---|---|---|---|---|---|---|---|---|---|---|---|\n| Maria | 2005 |  9 | 11 | 12 | 52.0 | -32.9 | extratropical | NA | 65 | 971 | 600 | 250 |\n| Maria | 2005 |  9 | 11 | 18 | 54.0 | -32.0 | extratropical | NA | 65 | 968 | 600 | 250 |\n| Maria | 2005 |  9 | 12 |  0 | 55.5 | -31.0 | extratropical | NA | 65 | 962 | 600 | 250 |\n| Maria | 2005 |  9 | 12 |  6 | 57.0 | -29.0 | extratropical | NA | 65 | 967 | 600 | 250 |\n| Maria | 2005 |  9 | 12 | 12 | 58.5 | -26.0 | extratropical | NA | 65 | 970 | 600 | 250 |\n| Sandy | 2012 | 10 | 29 | 18 | 38.3 | -73.2 | hurricane     |  1 | 80 | 940 | 840 | 300 |\n| Sandy | 2012 | 10 | 29 | 21 | 38.8 | -74.0 | extratropical | NA | 75 | 943 | 840 | 300 |\n| Alex  | 2016 |  1 | 17 |  0 | 57.0 | -42.0 | extratropical | NA | 70 | 978 | 600 | 300 |\n\n",
            "text/latex": "A tibble: 8 × 13\n\\begin{tabular}{lllllllllllll}\n name & year & month & day & hour & lat & long & status & category & wind & pressure & tropicalstorm\\_force\\_diameter & hurricane\\_force\\_diameter\\\\\n <chr> & <dbl> & <dbl> & <int> & <dbl> & <dbl> & <dbl> & <fct> & <dbl> & <int> & <int> & <int> & <int>\\\\\n\\hline\n\t Maria & 2005 &  9 & 11 & 12 & 52.0 & -32.9 & extratropical & NA & 65 & 971 & 600 & 250\\\\\n\t Maria & 2005 &  9 & 11 & 18 & 54.0 & -32.0 & extratropical & NA & 65 & 968 & 600 & 250\\\\\n\t Maria & 2005 &  9 & 12 &  0 & 55.5 & -31.0 & extratropical & NA & 65 & 962 & 600 & 250\\\\\n\t Maria & 2005 &  9 & 12 &  6 & 57.0 & -29.0 & extratropical & NA & 65 & 967 & 600 & 250\\\\\n\t Maria & 2005 &  9 & 12 & 12 & 58.5 & -26.0 & extratropical & NA & 65 & 970 & 600 & 250\\\\\n\t Sandy & 2012 & 10 & 29 & 18 & 38.3 & -73.2 & hurricane     &  1 & 80 & 940 & 840 & 300\\\\\n\t Sandy & 2012 & 10 & 29 & 21 & 38.8 & -74.0 & extratropical & NA & 75 & 943 & 840 & 300\\\\\n\t Alex  & 2016 &  1 & 17 &  0 & 57.0 & -42.0 & extratropical & NA & 70 & 978 & 600 & 300\\\\\n\\end{tabular}\n",
            "text/plain": [
              "  name  year month day hour lat  long  status        category wind pressure\n",
              "1 Maria 2005  9    11  12   52.0 -32.9 extratropical NA       65   971     \n",
              "2 Maria 2005  9    11  18   54.0 -32.0 extratropical NA       65   968     \n",
              "3 Maria 2005  9    12   0   55.5 -31.0 extratropical NA       65   962     \n",
              "4 Maria 2005  9    12   6   57.0 -29.0 extratropical NA       65   967     \n",
              "5 Maria 2005  9    12  12   58.5 -26.0 extratropical NA       65   970     \n",
              "6 Sandy 2012 10    29  18   38.3 -73.2 hurricane      1       80   940     \n",
              "7 Sandy 2012 10    29  21   38.8 -74.0 extratropical NA       75   943     \n",
              "8 Alex  2016  1    17   0   57.0 -42.0 extratropical NA       70   978     \n",
              "  tropicalstorm_force_diameter hurricane_force_diameter\n",
              "1 600                          250                     \n",
              "2 600                          250                     \n",
              "3 600                          250                     \n",
              "4 600                          250                     \n",
              "5 600                          250                     \n",
              "6 840                          300                     \n",
              "7 840                          300                     \n",
              "8 600                          300                     "
            ]
          },
          "metadata": {}
        }
      ]
    },
    {
      "cell_type": "code",
      "source": [
        "# filtering rows with dplyr automatically ignores missing values\n",
        "filter(storms, hurricane_force_diameter > 240)"
      ],
      "metadata": {
        "colab": {
          "base_uri": "https://localhost:8080/",
          "height": 349
        },
        "id": "sT25E7qOF4Hh",
        "outputId": "f98d3e79-d86f-465b-b9c9-a1d52ad4571c"
      },
      "execution_count": 27,
      "outputs": [
        {
          "output_type": "display_data",
          "data": {
            "text/html": [
              "<table class=\"dataframe\">\n",
              "<caption>A tibble: 8 × 13</caption>\n",
              "<thead>\n",
              "\t<tr><th scope=col>name</th><th scope=col>year</th><th scope=col>month</th><th scope=col>day</th><th scope=col>hour</th><th scope=col>lat</th><th scope=col>long</th><th scope=col>status</th><th scope=col>category</th><th scope=col>wind</th><th scope=col>pressure</th><th scope=col>tropicalstorm_force_diameter</th><th scope=col>hurricane_force_diameter</th></tr>\n",
              "\t<tr><th scope=col>&lt;chr&gt;</th><th scope=col>&lt;dbl&gt;</th><th scope=col>&lt;dbl&gt;</th><th scope=col>&lt;int&gt;</th><th scope=col>&lt;dbl&gt;</th><th scope=col>&lt;dbl&gt;</th><th scope=col>&lt;dbl&gt;</th><th scope=col>&lt;fct&gt;</th><th scope=col>&lt;dbl&gt;</th><th scope=col>&lt;int&gt;</th><th scope=col>&lt;int&gt;</th><th scope=col>&lt;int&gt;</th><th scope=col>&lt;int&gt;</th></tr>\n",
              "</thead>\n",
              "<tbody>\n",
              "\t<tr><td>Maria</td><td>2005</td><td> 9</td><td>11</td><td>12</td><td>52.0</td><td>-32.9</td><td>extratropical</td><td>NA</td><td>65</td><td>971</td><td>600</td><td>250</td></tr>\n",
              "\t<tr><td>Maria</td><td>2005</td><td> 9</td><td>11</td><td>18</td><td>54.0</td><td>-32.0</td><td>extratropical</td><td>NA</td><td>65</td><td>968</td><td>600</td><td>250</td></tr>\n",
              "\t<tr><td>Maria</td><td>2005</td><td> 9</td><td>12</td><td> 0</td><td>55.5</td><td>-31.0</td><td>extratropical</td><td>NA</td><td>65</td><td>962</td><td>600</td><td>250</td></tr>\n",
              "\t<tr><td>Maria</td><td>2005</td><td> 9</td><td>12</td><td> 6</td><td>57.0</td><td>-29.0</td><td>extratropical</td><td>NA</td><td>65</td><td>967</td><td>600</td><td>250</td></tr>\n",
              "\t<tr><td>Maria</td><td>2005</td><td> 9</td><td>12</td><td>12</td><td>58.5</td><td>-26.0</td><td>extratropical</td><td>NA</td><td>65</td><td>970</td><td>600</td><td>250</td></tr>\n",
              "\t<tr><td>Sandy</td><td>2012</td><td>10</td><td>29</td><td>18</td><td>38.3</td><td>-73.2</td><td>hurricane    </td><td> 1</td><td>80</td><td>940</td><td>840</td><td>300</td></tr>\n",
              "\t<tr><td>Sandy</td><td>2012</td><td>10</td><td>29</td><td>21</td><td>38.8</td><td>-74.0</td><td>extratropical</td><td>NA</td><td>75</td><td>943</td><td>840</td><td>300</td></tr>\n",
              "\t<tr><td>Alex </td><td>2016</td><td> 1</td><td>17</td><td> 0</td><td>57.0</td><td>-42.0</td><td>extratropical</td><td>NA</td><td>70</td><td>978</td><td>600</td><td>300</td></tr>\n",
              "</tbody>\n",
              "</table>\n"
            ],
            "text/markdown": "\nA tibble: 8 × 13\n\n| name &lt;chr&gt; | year &lt;dbl&gt; | month &lt;dbl&gt; | day &lt;int&gt; | hour &lt;dbl&gt; | lat &lt;dbl&gt; | long &lt;dbl&gt; | status &lt;fct&gt; | category &lt;dbl&gt; | wind &lt;int&gt; | pressure &lt;int&gt; | tropicalstorm_force_diameter &lt;int&gt; | hurricane_force_diameter &lt;int&gt; |\n|---|---|---|---|---|---|---|---|---|---|---|---|---|\n| Maria | 2005 |  9 | 11 | 12 | 52.0 | -32.9 | extratropical | NA | 65 | 971 | 600 | 250 |\n| Maria | 2005 |  9 | 11 | 18 | 54.0 | -32.0 | extratropical | NA | 65 | 968 | 600 | 250 |\n| Maria | 2005 |  9 | 12 |  0 | 55.5 | -31.0 | extratropical | NA | 65 | 962 | 600 | 250 |\n| Maria | 2005 |  9 | 12 |  6 | 57.0 | -29.0 | extratropical | NA | 65 | 967 | 600 | 250 |\n| Maria | 2005 |  9 | 12 | 12 | 58.5 | -26.0 | extratropical | NA | 65 | 970 | 600 | 250 |\n| Sandy | 2012 | 10 | 29 | 18 | 38.3 | -73.2 | hurricane     |  1 | 80 | 940 | 840 | 300 |\n| Sandy | 2012 | 10 | 29 | 21 | 38.8 | -74.0 | extratropical | NA | 75 | 943 | 840 | 300 |\n| Alex  | 2016 |  1 | 17 |  0 | 57.0 | -42.0 | extratropical | NA | 70 | 978 | 600 | 300 |\n\n",
            "text/latex": "A tibble: 8 × 13\n\\begin{tabular}{lllllllllllll}\n name & year & month & day & hour & lat & long & status & category & wind & pressure & tropicalstorm\\_force\\_diameter & hurricane\\_force\\_diameter\\\\\n <chr> & <dbl> & <dbl> & <int> & <dbl> & <dbl> & <dbl> & <fct> & <dbl> & <int> & <int> & <int> & <int>\\\\\n\\hline\n\t Maria & 2005 &  9 & 11 & 12 & 52.0 & -32.9 & extratropical & NA & 65 & 971 & 600 & 250\\\\\n\t Maria & 2005 &  9 & 11 & 18 & 54.0 & -32.0 & extratropical & NA & 65 & 968 & 600 & 250\\\\\n\t Maria & 2005 &  9 & 12 &  0 & 55.5 & -31.0 & extratropical & NA & 65 & 962 & 600 & 250\\\\\n\t Maria & 2005 &  9 & 12 &  6 & 57.0 & -29.0 & extratropical & NA & 65 & 967 & 600 & 250\\\\\n\t Maria & 2005 &  9 & 12 & 12 & 58.5 & -26.0 & extratropical & NA & 65 & 970 & 600 & 250\\\\\n\t Sandy & 2012 & 10 & 29 & 18 & 38.3 & -73.2 & hurricane     &  1 & 80 & 940 & 840 & 300\\\\\n\t Sandy & 2012 & 10 & 29 & 21 & 38.8 & -74.0 & extratropical & NA & 75 & 943 & 840 & 300\\\\\n\t Alex  & 2016 &  1 & 17 &  0 & 57.0 & -42.0 & extratropical & NA & 70 & 978 & 600 & 300\\\\\n\\end{tabular}\n",
            "text/plain": [
              "  name  year month day hour lat  long  status        category wind pressure\n",
              "1 Maria 2005  9    11  12   52.0 -32.9 extratropical NA       65   971     \n",
              "2 Maria 2005  9    11  18   54.0 -32.0 extratropical NA       65   968     \n",
              "3 Maria 2005  9    12   0   55.5 -31.0 extratropical NA       65   962     \n",
              "4 Maria 2005  9    12   6   57.0 -29.0 extratropical NA       65   967     \n",
              "5 Maria 2005  9    12  12   58.5 -26.0 extratropical NA       65   970     \n",
              "6 Sandy 2012 10    29  18   38.3 -73.2 hurricane      1       80   940     \n",
              "7 Sandy 2012 10    29  21   38.8 -74.0 extratropical NA       75   943     \n",
              "8 Alex  2016  1    17   0   57.0 -42.0 extratropical NA       70   978     \n",
              "  tropicalstorm_force_diameter hurricane_force_diameter\n",
              "1 600                          250                     \n",
              "2 600                          250                     \n",
              "3 600                          250                     \n",
              "4 600                          250                     \n",
              "5 600                          250                     \n",
              "6 840                          300                     \n",
              "7 840                          300                     \n",
              "8 600                          300                     "
            ]
          },
          "metadata": {}
        }
      ]
    },
    {
      "cell_type": "markdown",
      "source": [
        "## <a name=\"quest3\">Question 3</a>\n",
        "\n",
        "---\n",
        "\n",
        "Modify the code in the previous cell to filter out all rows in `storms` that have a hurricane force diameter greater than 240 nautical miles using the `filter()` function and the pipe, `|>`.\n"
      ],
      "metadata": {
        "id": "PBCBg9PFHYsR"
      }
    },
    {
      "cell_type": "markdown",
      "source": [
        "### <a name=\"sol3\">Solution to Question 3</a>\n",
        "\n",
        "---\n",
        "\n",
        "\n",
        "<br>  \n"
      ],
      "metadata": {
        "id": "h4mSIIcWPzB2"
      }
    },
    {
      "cell_type": "code",
      "source": [],
      "metadata": {
        "id": "S4HXQywOP6r-"
      },
      "execution_count": null,
      "outputs": []
    },
    {
      "cell_type": "markdown",
      "source": [
        "## <a name=\"slice\">`slice()`</a>\n",
        "\n",
        "---\n",
        "\n",
        "\n",
        "The `slice()` function subsets rows of a data frame by index or with respect to other properties. To slice by row index, we can use the syntax `slice(data_name, a:b)`.\n"
      ],
      "metadata": {
        "id": "oMidB_py16Z2"
      }
    },
    {
      "cell_type": "markdown",
      "source": [
        "## <a name=\"quest4\">Question 4</a>\n",
        "\n",
        "---\n",
        "\n",
        "\n",
        "Subset rows 10-12 of `storms` using the following methods:\n",
        "\n",
        "- Indexing without using the `slice()` function at all.\n",
        "- Using the `slice()` function without the pipe.\n",
        "- Using the `slice()` function with the pipe.\n",
        "\n",
        "<br>  "
      ],
      "metadata": {
        "id": "us55ZzoBIR0V"
      }
    },
    {
      "cell_type": "markdown",
      "source": [
        "### <a name=\"sol4\">Solution to Question 4</a>\n",
        "\n",
        "---\n",
        "\n",
        "\n",
        "<br>  \n"
      ],
      "metadata": {
        "id": "c6isR45FPvb2"
      }
    },
    {
      "cell_type": "code",
      "source": [
        "# subset rows 10-12 by indexing\n"
      ],
      "metadata": {
        "id": "kKy7Nwl9Iz1f"
      },
      "execution_count": null,
      "outputs": []
    },
    {
      "cell_type": "code",
      "source": [
        "# subset rows 10-12 using slice() without the pipe\n"
      ],
      "metadata": {
        "id": "1ls8duY_I5jf"
      },
      "execution_count": null,
      "outputs": []
    },
    {
      "cell_type": "code",
      "source": [
        "# subset rows 10-12 using slice() with the pipe\n"
      ],
      "metadata": {
        "id": "Cp0FmOsJI8h1"
      },
      "execution_count": null,
      "outputs": []
    },
    {
      "cell_type": "markdown",
      "source": [
        "### <a name=\"other-slice\">Other Slice Functions</a>\n",
        "\n",
        "---\n",
        "\n",
        "\n",
        "- `slice_head(df, n = k)` subsets the first `k` rows of a data frame `df`.\n",
        "- `slice_tail(df, n = k)` subsets the last `k` rows of a data frame `df`.\n",
        "\n",
        "These is similar to the `head` and `tail` functions in base R.\n",
        "\n",
        "\n",
        "\n",
        "\n"
      ],
      "metadata": {
        "id": "NHhLH5HdIRJ2"
      }
    },
    {
      "cell_type": "code",
      "source": [
        "slice_head(storms, n = 3)  # subset first three rows of storms"
      ],
      "metadata": {
        "colab": {
          "base_uri": "https://localhost:8080/",
          "height": 192
        },
        "id": "N0UdSPz9KghT",
        "outputId": "4c287930-6d57-41ef-86d0-177d16d7dd49"
      },
      "execution_count": 101,
      "outputs": [
        {
          "output_type": "display_data",
          "data": {
            "text/html": [
              "<table class=\"dataframe\">\n",
              "<caption>A tibble: 3 × 13</caption>\n",
              "<thead>\n",
              "\t<tr><th scope=col>name</th><th scope=col>year</th><th scope=col>month</th><th scope=col>day</th><th scope=col>hour</th><th scope=col>lat</th><th scope=col>long</th><th scope=col>status</th><th scope=col>category</th><th scope=col>wind</th><th scope=col>pressure</th><th scope=col>tropicalstorm_force_diameter</th><th scope=col>hurricane_force_diameter</th></tr>\n",
              "\t<tr><th scope=col>&lt;chr&gt;</th><th scope=col>&lt;dbl&gt;</th><th scope=col>&lt;dbl&gt;</th><th scope=col>&lt;int&gt;</th><th scope=col>&lt;dbl&gt;</th><th scope=col>&lt;dbl&gt;</th><th scope=col>&lt;dbl&gt;</th><th scope=col>&lt;fct&gt;</th><th scope=col>&lt;dbl&gt;</th><th scope=col>&lt;int&gt;</th><th scope=col>&lt;int&gt;</th><th scope=col>&lt;int&gt;</th><th scope=col>&lt;int&gt;</th></tr>\n",
              "</thead>\n",
              "<tbody>\n",
              "\t<tr><td>Amy</td><td>1975</td><td>6</td><td>27</td><td> 0</td><td>27.5</td><td>-79</td><td>tropical depression</td><td>NA</td><td>25</td><td>1013</td><td>NA</td><td>NA</td></tr>\n",
              "\t<tr><td>Amy</td><td>1975</td><td>6</td><td>27</td><td> 6</td><td>28.5</td><td>-79</td><td>tropical depression</td><td>NA</td><td>25</td><td>1013</td><td>NA</td><td>NA</td></tr>\n",
              "\t<tr><td>Amy</td><td>1975</td><td>6</td><td>27</td><td>12</td><td>29.5</td><td>-79</td><td>tropical depression</td><td>NA</td><td>25</td><td>1013</td><td>NA</td><td>NA</td></tr>\n",
              "</tbody>\n",
              "</table>\n"
            ],
            "text/markdown": "\nA tibble: 3 × 13\n\n| name &lt;chr&gt; | year &lt;dbl&gt; | month &lt;dbl&gt; | day &lt;int&gt; | hour &lt;dbl&gt; | lat &lt;dbl&gt; | long &lt;dbl&gt; | status &lt;fct&gt; | category &lt;dbl&gt; | wind &lt;int&gt; | pressure &lt;int&gt; | tropicalstorm_force_diameter &lt;int&gt; | hurricane_force_diameter &lt;int&gt; |\n|---|---|---|---|---|---|---|---|---|---|---|---|---|\n| Amy | 1975 | 6 | 27 |  0 | 27.5 | -79 | tropical depression | NA | 25 | 1013 | NA | NA |\n| Amy | 1975 | 6 | 27 |  6 | 28.5 | -79 | tropical depression | NA | 25 | 1013 | NA | NA |\n| Amy | 1975 | 6 | 27 | 12 | 29.5 | -79 | tropical depression | NA | 25 | 1013 | NA | NA |\n\n",
            "text/latex": "A tibble: 3 × 13\n\\begin{tabular}{lllllllllllll}\n name & year & month & day & hour & lat & long & status & category & wind & pressure & tropicalstorm\\_force\\_diameter & hurricane\\_force\\_diameter\\\\\n <chr> & <dbl> & <dbl> & <int> & <dbl> & <dbl> & <dbl> & <fct> & <dbl> & <int> & <int> & <int> & <int>\\\\\n\\hline\n\t Amy & 1975 & 6 & 27 &  0 & 27.5 & -79 & tropical depression & NA & 25 & 1013 & NA & NA\\\\\n\t Amy & 1975 & 6 & 27 &  6 & 28.5 & -79 & tropical depression & NA & 25 & 1013 & NA & NA\\\\\n\t Amy & 1975 & 6 & 27 & 12 & 29.5 & -79 & tropical depression & NA & 25 & 1013 & NA & NA\\\\\n\\end{tabular}\n",
            "text/plain": [
              "  name year month day hour lat  long status              category wind pressure\n",
              "1 Amy  1975 6     27   0   27.5 -79  tropical depression NA       25   1013    \n",
              "2 Amy  1975 6     27   6   28.5 -79  tropical depression NA       25   1013    \n",
              "3 Amy  1975 6     27  12   29.5 -79  tropical depression NA       25   1013    \n",
              "  tropicalstorm_force_diameter hurricane_force_diameter\n",
              "1 NA                           NA                      \n",
              "2 NA                           NA                      \n",
              "3 NA                           NA                      "
            ]
          },
          "metadata": {}
        }
      ]
    },
    {
      "cell_type": "code",
      "source": [
        "storms |> slice_head(n = 3)  # subset first three rows with pipe"
      ],
      "metadata": {
        "colab": {
          "base_uri": "https://localhost:8080/",
          "height": 192
        },
        "id": "f_wjY_SJKldN",
        "outputId": "fd2e864c-7ad1-4d41-b381-c9ec3a1e7d3d"
      },
      "execution_count": 102,
      "outputs": [
        {
          "output_type": "display_data",
          "data": {
            "text/html": [
              "<table class=\"dataframe\">\n",
              "<caption>A tibble: 3 × 13</caption>\n",
              "<thead>\n",
              "\t<tr><th scope=col>name</th><th scope=col>year</th><th scope=col>month</th><th scope=col>day</th><th scope=col>hour</th><th scope=col>lat</th><th scope=col>long</th><th scope=col>status</th><th scope=col>category</th><th scope=col>wind</th><th scope=col>pressure</th><th scope=col>tropicalstorm_force_diameter</th><th scope=col>hurricane_force_diameter</th></tr>\n",
              "\t<tr><th scope=col>&lt;chr&gt;</th><th scope=col>&lt;dbl&gt;</th><th scope=col>&lt;dbl&gt;</th><th scope=col>&lt;int&gt;</th><th scope=col>&lt;dbl&gt;</th><th scope=col>&lt;dbl&gt;</th><th scope=col>&lt;dbl&gt;</th><th scope=col>&lt;fct&gt;</th><th scope=col>&lt;dbl&gt;</th><th scope=col>&lt;int&gt;</th><th scope=col>&lt;int&gt;</th><th scope=col>&lt;int&gt;</th><th scope=col>&lt;int&gt;</th></tr>\n",
              "</thead>\n",
              "<tbody>\n",
              "\t<tr><td>Amy</td><td>1975</td><td>6</td><td>27</td><td> 0</td><td>27.5</td><td>-79</td><td>tropical depression</td><td>NA</td><td>25</td><td>1013</td><td>NA</td><td>NA</td></tr>\n",
              "\t<tr><td>Amy</td><td>1975</td><td>6</td><td>27</td><td> 6</td><td>28.5</td><td>-79</td><td>tropical depression</td><td>NA</td><td>25</td><td>1013</td><td>NA</td><td>NA</td></tr>\n",
              "\t<tr><td>Amy</td><td>1975</td><td>6</td><td>27</td><td>12</td><td>29.5</td><td>-79</td><td>tropical depression</td><td>NA</td><td>25</td><td>1013</td><td>NA</td><td>NA</td></tr>\n",
              "</tbody>\n",
              "</table>\n"
            ],
            "text/markdown": "\nA tibble: 3 × 13\n\n| name &lt;chr&gt; | year &lt;dbl&gt; | month &lt;dbl&gt; | day &lt;int&gt; | hour &lt;dbl&gt; | lat &lt;dbl&gt; | long &lt;dbl&gt; | status &lt;fct&gt; | category &lt;dbl&gt; | wind &lt;int&gt; | pressure &lt;int&gt; | tropicalstorm_force_diameter &lt;int&gt; | hurricane_force_diameter &lt;int&gt; |\n|---|---|---|---|---|---|---|---|---|---|---|---|---|\n| Amy | 1975 | 6 | 27 |  0 | 27.5 | -79 | tropical depression | NA | 25 | 1013 | NA | NA |\n| Amy | 1975 | 6 | 27 |  6 | 28.5 | -79 | tropical depression | NA | 25 | 1013 | NA | NA |\n| Amy | 1975 | 6 | 27 | 12 | 29.5 | -79 | tropical depression | NA | 25 | 1013 | NA | NA |\n\n",
            "text/latex": "A tibble: 3 × 13\n\\begin{tabular}{lllllllllllll}\n name & year & month & day & hour & lat & long & status & category & wind & pressure & tropicalstorm\\_force\\_diameter & hurricane\\_force\\_diameter\\\\\n <chr> & <dbl> & <dbl> & <int> & <dbl> & <dbl> & <dbl> & <fct> & <dbl> & <int> & <int> & <int> & <int>\\\\\n\\hline\n\t Amy & 1975 & 6 & 27 &  0 & 27.5 & -79 & tropical depression & NA & 25 & 1013 & NA & NA\\\\\n\t Amy & 1975 & 6 & 27 &  6 & 28.5 & -79 & tropical depression & NA & 25 & 1013 & NA & NA\\\\\n\t Amy & 1975 & 6 & 27 & 12 & 29.5 & -79 & tropical depression & NA & 25 & 1013 & NA & NA\\\\\n\\end{tabular}\n",
            "text/plain": [
              "  name year month day hour lat  long status              category wind pressure\n",
              "1 Amy  1975 6     27   0   27.5 -79  tropical depression NA       25   1013    \n",
              "2 Amy  1975 6     27   6   28.5 -79  tropical depression NA       25   1013    \n",
              "3 Amy  1975 6     27  12   29.5 -79  tropical depression NA       25   1013    \n",
              "  tropicalstorm_force_diameter hurricane_force_diameter\n",
              "1 NA                           NA                      \n",
              "2 NA                           NA                      \n",
              "3 NA                           NA                      "
            ]
          },
          "metadata": {}
        }
      ]
    },
    {
      "cell_type": "code",
      "source": [
        "slice_tail(storms, n = 2)  # subset last two rows of storms"
      ],
      "metadata": {
        "colab": {
          "base_uri": "https://localhost:8080/",
          "height": 161
        },
        "id": "t7lM9T3gKidC",
        "outputId": "e453c770-a2bb-46e6-ad82-94aa9491e997"
      },
      "execution_count": 103,
      "outputs": [
        {
          "output_type": "display_data",
          "data": {
            "text/html": [
              "<table class=\"dataframe\">\n",
              "<caption>A tibble: 2 × 13</caption>\n",
              "<thead>\n",
              "\t<tr><th scope=col>name</th><th scope=col>year</th><th scope=col>month</th><th scope=col>day</th><th scope=col>hour</th><th scope=col>lat</th><th scope=col>long</th><th scope=col>status</th><th scope=col>category</th><th scope=col>wind</th><th scope=col>pressure</th><th scope=col>tropicalstorm_force_diameter</th><th scope=col>hurricane_force_diameter</th></tr>\n",
              "\t<tr><th scope=col>&lt;chr&gt;</th><th scope=col>&lt;dbl&gt;</th><th scope=col>&lt;dbl&gt;</th><th scope=col>&lt;int&gt;</th><th scope=col>&lt;dbl&gt;</th><th scope=col>&lt;dbl&gt;</th><th scope=col>&lt;dbl&gt;</th><th scope=col>&lt;fct&gt;</th><th scope=col>&lt;dbl&gt;</th><th scope=col>&lt;int&gt;</th><th scope=col>&lt;int&gt;</th><th scope=col>&lt;int&gt;</th><th scope=col>&lt;int&gt;</th></tr>\n",
              "</thead>\n",
              "<tbody>\n",
              "\t<tr><td>Nicole</td><td>2022</td><td>11</td><td>11</td><td>12</td><td>33.2</td><td>-84.6</td><td>tropical depression</td><td>NA</td><td>25</td><td> 999</td><td>0</td><td>0</td></tr>\n",
              "\t<tr><td>Nicole</td><td>2022</td><td>11</td><td>11</td><td>18</td><td>35.4</td><td>-83.8</td><td>other low          </td><td>NA</td><td>25</td><td>1000</td><td>0</td><td>0</td></tr>\n",
              "</tbody>\n",
              "</table>\n"
            ],
            "text/markdown": "\nA tibble: 2 × 13\n\n| name &lt;chr&gt; | year &lt;dbl&gt; | month &lt;dbl&gt; | day &lt;int&gt; | hour &lt;dbl&gt; | lat &lt;dbl&gt; | long &lt;dbl&gt; | status &lt;fct&gt; | category &lt;dbl&gt; | wind &lt;int&gt; | pressure &lt;int&gt; | tropicalstorm_force_diameter &lt;int&gt; | hurricane_force_diameter &lt;int&gt; |\n|---|---|---|---|---|---|---|---|---|---|---|---|---|\n| Nicole | 2022 | 11 | 11 | 12 | 33.2 | -84.6 | tropical depression | NA | 25 |  999 | 0 | 0 |\n| Nicole | 2022 | 11 | 11 | 18 | 35.4 | -83.8 | other low           | NA | 25 | 1000 | 0 | 0 |\n\n",
            "text/latex": "A tibble: 2 × 13\n\\begin{tabular}{lllllllllllll}\n name & year & month & day & hour & lat & long & status & category & wind & pressure & tropicalstorm\\_force\\_diameter & hurricane\\_force\\_diameter\\\\\n <chr> & <dbl> & <dbl> & <int> & <dbl> & <dbl> & <dbl> & <fct> & <dbl> & <int> & <int> & <int> & <int>\\\\\n\\hline\n\t Nicole & 2022 & 11 & 11 & 12 & 33.2 & -84.6 & tropical depression & NA & 25 &  999 & 0 & 0\\\\\n\t Nicole & 2022 & 11 & 11 & 18 & 35.4 & -83.8 & other low           & NA & 25 & 1000 & 0 & 0\\\\\n\\end{tabular}\n",
            "text/plain": [
              "  name   year month day hour lat  long  status              category wind\n",
              "1 Nicole 2022 11    11  12   33.2 -84.6 tropical depression NA       25  \n",
              "2 Nicole 2022 11    11  18   35.4 -83.8 other low           NA       25  \n",
              "  pressure tropicalstorm_force_diameter hurricane_force_diameter\n",
              "1  999     0                            0                       \n",
              "2 1000     0                            0                       "
            ]
          },
          "metadata": {}
        }
      ]
    },
    {
      "cell_type": "code",
      "source": [
        "storms |> slice_tail(n = 2)  # subset last two rows with pipe"
      ],
      "metadata": {
        "colab": {
          "base_uri": "https://localhost:8080/",
          "height": 161
        },
        "id": "fqzfR3y6Kmt-",
        "outputId": "efb23cc0-c221-4c8b-ed5e-7d4c435ad19d"
      },
      "execution_count": 104,
      "outputs": [
        {
          "output_type": "display_data",
          "data": {
            "text/html": [
              "<table class=\"dataframe\">\n",
              "<caption>A tibble: 2 × 13</caption>\n",
              "<thead>\n",
              "\t<tr><th scope=col>name</th><th scope=col>year</th><th scope=col>month</th><th scope=col>day</th><th scope=col>hour</th><th scope=col>lat</th><th scope=col>long</th><th scope=col>status</th><th scope=col>category</th><th scope=col>wind</th><th scope=col>pressure</th><th scope=col>tropicalstorm_force_diameter</th><th scope=col>hurricane_force_diameter</th></tr>\n",
              "\t<tr><th scope=col>&lt;chr&gt;</th><th scope=col>&lt;dbl&gt;</th><th scope=col>&lt;dbl&gt;</th><th scope=col>&lt;int&gt;</th><th scope=col>&lt;dbl&gt;</th><th scope=col>&lt;dbl&gt;</th><th scope=col>&lt;dbl&gt;</th><th scope=col>&lt;fct&gt;</th><th scope=col>&lt;dbl&gt;</th><th scope=col>&lt;int&gt;</th><th scope=col>&lt;int&gt;</th><th scope=col>&lt;int&gt;</th><th scope=col>&lt;int&gt;</th></tr>\n",
              "</thead>\n",
              "<tbody>\n",
              "\t<tr><td>Nicole</td><td>2022</td><td>11</td><td>11</td><td>12</td><td>33.2</td><td>-84.6</td><td>tropical depression</td><td>NA</td><td>25</td><td> 999</td><td>0</td><td>0</td></tr>\n",
              "\t<tr><td>Nicole</td><td>2022</td><td>11</td><td>11</td><td>18</td><td>35.4</td><td>-83.8</td><td>other low          </td><td>NA</td><td>25</td><td>1000</td><td>0</td><td>0</td></tr>\n",
              "</tbody>\n",
              "</table>\n"
            ],
            "text/markdown": "\nA tibble: 2 × 13\n\n| name &lt;chr&gt; | year &lt;dbl&gt; | month &lt;dbl&gt; | day &lt;int&gt; | hour &lt;dbl&gt; | lat &lt;dbl&gt; | long &lt;dbl&gt; | status &lt;fct&gt; | category &lt;dbl&gt; | wind &lt;int&gt; | pressure &lt;int&gt; | tropicalstorm_force_diameter &lt;int&gt; | hurricane_force_diameter &lt;int&gt; |\n|---|---|---|---|---|---|---|---|---|---|---|---|---|\n| Nicole | 2022 | 11 | 11 | 12 | 33.2 | -84.6 | tropical depression | NA | 25 |  999 | 0 | 0 |\n| Nicole | 2022 | 11 | 11 | 18 | 35.4 | -83.8 | other low           | NA | 25 | 1000 | 0 | 0 |\n\n",
            "text/latex": "A tibble: 2 × 13\n\\begin{tabular}{lllllllllllll}\n name & year & month & day & hour & lat & long & status & category & wind & pressure & tropicalstorm\\_force\\_diameter & hurricane\\_force\\_diameter\\\\\n <chr> & <dbl> & <dbl> & <int> & <dbl> & <dbl> & <dbl> & <fct> & <dbl> & <int> & <int> & <int> & <int>\\\\\n\\hline\n\t Nicole & 2022 & 11 & 11 & 12 & 33.2 & -84.6 & tropical depression & NA & 25 &  999 & 0 & 0\\\\\n\t Nicole & 2022 & 11 & 11 & 18 & 35.4 & -83.8 & other low           & NA & 25 & 1000 & 0 & 0\\\\\n\\end{tabular}\n",
            "text/plain": [
              "  name   year month day hour lat  long  status              category wind\n",
              "1 Nicole 2022 11    11  12   33.2 -84.6 tropical depression NA       25  \n",
              "2 Nicole 2022 11    11  18   35.4 -83.8 other low           NA       25  \n",
              "  pressure tropicalstorm_force_diameter hurricane_force_diameter\n",
              "1  999     0                            0                       \n",
              "2 1000     0                            0                       "
            ]
          },
          "metadata": {}
        }
      ]
    },
    {
      "cell_type": "markdown",
      "source": [
        "- `slice_max(df, var, n = k)` subsets the `k` rows of a data frame with the `k` largest values with respect to a specific variable named `var` of data frame `df`.\n",
        "- `slice_min(df, var, n = k)` subsets the `k` rows of a data frame with the `k` smallest values with respect to a specific variable named `var` of data frame `df`.\n",
        "- `slice_sample(df, n = k)` randomly selects `k` rows from data frame `df`. We can make results reproducible by fixing the randomization with the `set.seed()` function (which is a base R function).\n",
        "\n",
        "\n"
      ],
      "metadata": {
        "id": "FXTsKKsRLIYt"
      }
    },
    {
      "cell_type": "markdown",
      "source": [
        "## <a name=\"quest5\">Question 5</a>\n",
        "\n",
        "---\n",
        "\n",
        "\n",
        "Without running the code, type a comment in the code to explain what the code does. Then run the code cells to check your answer.\n",
        "\n",
        "<br>  \n",
        "\n"
      ],
      "metadata": {
        "id": "tQMUTd0uMfFc"
      }
    },
    {
      "cell_type": "markdown",
      "source": [
        "### <a name=\"sol5\">Solution to Question 5</a>\n",
        "\n",
        "---\n",
        "\n",
        "\n",
        "<br>  \n"
      ],
      "metadata": {
        "id": "xnZXQ14mPruM"
      }
    },
    {
      "cell_type": "code",
      "source": [
        "slice_max(storms, wind, n = 5)"
      ],
      "metadata": {
        "id": "4fN9YWzYM2S-"
      },
      "execution_count": null,
      "outputs": []
    },
    {
      "cell_type": "code",
      "source": [
        "storms |> slice_min(pressure, n = 2)"
      ],
      "metadata": {
        "id": "gqCmt3SnNIqw"
      },
      "execution_count": null,
      "outputs": []
    },
    {
      "cell_type": "code",
      "source": [
        "storms |>  slice_sample(n = 7)"
      ],
      "metadata": {
        "id": "CdZj7igoNUIR"
      },
      "execution_count": null,
      "outputs": []
    },
    {
      "cell_type": "markdown",
      "source": [
        "## <a name=\"arrange\">`arrange()`</a>\n",
        "\n",
        "---\n",
        "\n",
        "The `arrange()` function arranges or sorts the rows of a data frame with respect to a certain variable.\n",
        "\n",
        "- By default, the rows are ordered in ascending order.\n",
        "- The ordering can be done within groups if specified.\n",
        "\n",
        "In the code below, we arrange the rows of `storms` in ascending and then descending order, respectively, with respect to `wind`.\n",
        "\n"
      ],
      "metadata": {
        "id": "03cNCrEd1851"
      }
    },
    {
      "cell_type": "code",
      "source": [
        "# order rows of storms in ascending order by wind speed\n",
        "arrange(storms, wind)"
      ],
      "metadata": {
        "id": "B-_gPD5bOlLN"
      },
      "execution_count": null,
      "outputs": []
    },
    {
      "cell_type": "markdown",
      "source": [
        "### <a name=\"print-colab\">Viewing or Printing Tibbles and Data Frames</a>\n",
        "\n",
        "---\n",
        "\n",
        "\n",
        "When viewing a data frame or tibble as output from a code cell in Colab, by default the entire data frame is displayed if possible. If there are a lot of rows, then the first 30 rows and last 30 columns are displayed in a scrolling window which may not be very convenient since that is a lot of raw data to look at!\n",
        "\n",
        "If instead we use the `print()` function to display the data frame, then we get a condensed view that takes up less of the screen when displayed and is easier to read."
      ],
      "metadata": {
        "id": "xYA7aCqbYomV"
      }
    },
    {
      "cell_type": "code",
      "source": [
        "# print more concise output to screen\n",
        "print(arrange(storms, wind))"
      ],
      "metadata": {
        "colab": {
          "base_uri": "https://localhost:8080/"
        },
        "id": "8SEKnDdctUA5",
        "outputId": "98662197-5cea-4047-8020-c81f7444f7b9"
      },
      "execution_count": 29,
      "outputs": [
        {
          "output_type": "stream",
          "name": "stdout",
          "text": [
            "\u001b[90m# A tibble: 19,537 × 13\u001b[39m\n",
            "   name      year month   day  hour   lat  long status   category  wind pressure\n",
            "   \u001b[3m\u001b[90m<chr>\u001b[39m\u001b[23m    \u001b[3m\u001b[90m<dbl>\u001b[39m\u001b[23m \u001b[3m\u001b[90m<dbl>\u001b[39m\u001b[23m \u001b[3m\u001b[90m<int>\u001b[39m\u001b[23m \u001b[3m\u001b[90m<dbl>\u001b[39m\u001b[23m \u001b[3m\u001b[90m<dbl>\u001b[39m\u001b[23m \u001b[3m\u001b[90m<dbl>\u001b[39m\u001b[23m \u001b[3m\u001b[90m<fct>\u001b[39m\u001b[23m       \u001b[3m\u001b[90m<dbl>\u001b[39m\u001b[23m \u001b[3m\u001b[90m<int>\u001b[39m\u001b[23m    \u001b[3m\u001b[90m<int>\u001b[39m\u001b[23m\n",
            "\u001b[90m 1\u001b[39m Bonnie    \u001b[4m1\u001b[24m986     6    28     6  36.5 -\u001b[31m91\u001b[39m\u001b[31m.\u001b[39m\u001b[31m3\u001b[39m tropica…       \u001b[31mNA\u001b[39m    10     \u001b[4m1\u001b[24m013\n",
            "\u001b[90m 2\u001b[39m Bonnie    \u001b[4m1\u001b[24m986     6    28    12  37.2 -\u001b[31m90\u001b[39m   tropica…       \u001b[31mNA\u001b[39m    10     \u001b[4m1\u001b[24m012\n",
            "\u001b[90m 3\u001b[39m Charley   \u001b[4m1\u001b[24m986     8    13    12  30.1 -\u001b[31m84\u001b[39m   subtrop…       \u001b[31mNA\u001b[39m    10     \u001b[4m1\u001b[24m009\n",
            "\u001b[90m 4\u001b[39m Charley   \u001b[4m1\u001b[24m986     8    13    18  30.8 -\u001b[31m84\u001b[39m   subtrop…       \u001b[31mNA\u001b[39m    10     \u001b[4m1\u001b[24m012\n",
            "\u001b[90m 5\u001b[39m Charley   \u001b[4m1\u001b[24m986     8    14     0  31.4 -\u001b[31m83\u001b[39m\u001b[31m.\u001b[39m\u001b[31m6\u001b[39m subtrop…       \u001b[31mNA\u001b[39m    10     \u001b[4m1\u001b[24m013\n",
            "\u001b[90m 6\u001b[39m Charley   \u001b[4m1\u001b[24m986     8    14     6  32   -\u001b[31m83\u001b[39m\u001b[31m.\u001b[39m\u001b[31m1\u001b[39m subtrop…       \u001b[31mNA\u001b[39m    10     \u001b[4m1\u001b[24m014\n",
            "\u001b[90m 7\u001b[39m Charley   \u001b[4m1\u001b[24m986     8    14    12  32.5 -\u001b[31m82\u001b[39m\u001b[31m.\u001b[39m\u001b[31m5\u001b[39m subtrop…       \u001b[31mNA\u001b[39m    10     \u001b[4m1\u001b[24m015\n",
            "\u001b[90m 8\u001b[39m Charley   \u001b[4m1\u001b[24m986     8    14    18  32.4 -\u001b[31m82\u001b[39m   subtrop…       \u001b[31mNA\u001b[39m    10     \u001b[4m1\u001b[24m015\n",
            "\u001b[90m 9\u001b[39m AL031987  \u001b[4m1\u001b[24m987     8    16    18  30.9 -\u001b[31m83\u001b[39m\u001b[31m.\u001b[39m\u001b[31m2\u001b[39m tropica…       \u001b[31mNA\u001b[39m    10     \u001b[4m1\u001b[24m014\n",
            "\u001b[90m10\u001b[39m AL031987  \u001b[4m1\u001b[24m987     8    17     0  31.4 -\u001b[31m82\u001b[39m\u001b[31m.\u001b[39m\u001b[31m9\u001b[39m tropica…       \u001b[31mNA\u001b[39m    10     \u001b[4m1\u001b[24m015\n",
            "\u001b[90m# ℹ 19,527 more rows\u001b[39m\n",
            "\u001b[90m# ℹ 2 more variables: tropicalstorm_force_diameter <int>,\u001b[39m\n",
            "\u001b[90m#   hurricane_force_diameter <int>\u001b[39m\n"
          ]
        }
      ]
    },
    {
      "cell_type": "code",
      "source": [
        "# using pipes\n",
        "storms |> arrange(wind) |> print()"
      ],
      "metadata": {
        "colab": {
          "base_uri": "https://localhost:8080/"
        },
        "id": "XawaH1OXJ8D2",
        "outputId": "6119c853-22a3-4446-c113-dfaa071cb88e"
      },
      "execution_count": 80,
      "outputs": [
        {
          "output_type": "stream",
          "name": "stdout",
          "text": [
            "\u001b[90m# A tibble: 19,537 × 13\u001b[39m\n",
            "   name      year month   day  hour   lat  long status   category  wind pressure\n",
            "   \u001b[3m\u001b[90m<chr>\u001b[39m\u001b[23m    \u001b[3m\u001b[90m<dbl>\u001b[39m\u001b[23m \u001b[3m\u001b[90m<dbl>\u001b[39m\u001b[23m \u001b[3m\u001b[90m<int>\u001b[39m\u001b[23m \u001b[3m\u001b[90m<dbl>\u001b[39m\u001b[23m \u001b[3m\u001b[90m<dbl>\u001b[39m\u001b[23m \u001b[3m\u001b[90m<dbl>\u001b[39m\u001b[23m \u001b[3m\u001b[90m<fct>\u001b[39m\u001b[23m       \u001b[3m\u001b[90m<dbl>\u001b[39m\u001b[23m \u001b[3m\u001b[90m<int>\u001b[39m\u001b[23m    \u001b[3m\u001b[90m<int>\u001b[39m\u001b[23m\n",
            "\u001b[90m 1\u001b[39m Bonnie    \u001b[4m1\u001b[24m986     6    28     6  36.5 -\u001b[31m91\u001b[39m\u001b[31m.\u001b[39m\u001b[31m3\u001b[39m tropica…       \u001b[31mNA\u001b[39m    10     \u001b[4m1\u001b[24m013\n",
            "\u001b[90m 2\u001b[39m Bonnie    \u001b[4m1\u001b[24m986     6    28    12  37.2 -\u001b[31m90\u001b[39m   tropica…       \u001b[31mNA\u001b[39m    10     \u001b[4m1\u001b[24m012\n",
            "\u001b[90m 3\u001b[39m Charley   \u001b[4m1\u001b[24m986     8    13    12  30.1 -\u001b[31m84\u001b[39m   subtrop…       \u001b[31mNA\u001b[39m    10     \u001b[4m1\u001b[24m009\n",
            "\u001b[90m 4\u001b[39m Charley   \u001b[4m1\u001b[24m986     8    13    18  30.8 -\u001b[31m84\u001b[39m   subtrop…       \u001b[31mNA\u001b[39m    10     \u001b[4m1\u001b[24m012\n",
            "\u001b[90m 5\u001b[39m Charley   \u001b[4m1\u001b[24m986     8    14     0  31.4 -\u001b[31m83\u001b[39m\u001b[31m.\u001b[39m\u001b[31m6\u001b[39m subtrop…       \u001b[31mNA\u001b[39m    10     \u001b[4m1\u001b[24m013\n",
            "\u001b[90m 6\u001b[39m Charley   \u001b[4m1\u001b[24m986     8    14     6  32   -\u001b[31m83\u001b[39m\u001b[31m.\u001b[39m\u001b[31m1\u001b[39m subtrop…       \u001b[31mNA\u001b[39m    10     \u001b[4m1\u001b[24m014\n",
            "\u001b[90m 7\u001b[39m Charley   \u001b[4m1\u001b[24m986     8    14    12  32.5 -\u001b[31m82\u001b[39m\u001b[31m.\u001b[39m\u001b[31m5\u001b[39m subtrop…       \u001b[31mNA\u001b[39m    10     \u001b[4m1\u001b[24m015\n",
            "\u001b[90m 8\u001b[39m Charley   \u001b[4m1\u001b[24m986     8    14    18  32.4 -\u001b[31m82\u001b[39m   subtrop…       \u001b[31mNA\u001b[39m    10     \u001b[4m1\u001b[24m015\n",
            "\u001b[90m 9\u001b[39m AL031987  \u001b[4m1\u001b[24m987     8    16    18  30.9 -\u001b[31m83\u001b[39m\u001b[31m.\u001b[39m\u001b[31m2\u001b[39m tropica…       \u001b[31mNA\u001b[39m    10     \u001b[4m1\u001b[24m014\n",
            "\u001b[90m10\u001b[39m AL031987  \u001b[4m1\u001b[24m987     8    17     0  31.4 -\u001b[31m82\u001b[39m\u001b[31m.\u001b[39m\u001b[31m9\u001b[39m tropica…       \u001b[31mNA\u001b[39m    10     \u001b[4m1\u001b[24m015\n",
            "\u001b[90m# ℹ 19,527 more rows\u001b[39m\n",
            "\u001b[90m# ℹ 2 more variables: tropicalstorm_force_diameter <int>,\u001b[39m\n",
            "\u001b[90m#   hurricane_force_diameter <int>\u001b[39m\n"
          ]
        }
      ]
    },
    {
      "cell_type": "code",
      "source": [
        "storms |>\n",
        "  arrange(wind) |>\n",
        "  print(n = 15, width = Inf)  # print first 15 rows and all columns"
      ],
      "metadata": {
        "colab": {
          "base_uri": "https://localhost:8080/"
        },
        "id": "clGuH9RLtppk",
        "outputId": "d4f4e1e3-d4bd-487f-ac91-88275f55f607"
      },
      "execution_count": 81,
      "outputs": [
        {
          "output_type": "stream",
          "name": "stdout",
          "text": [
            "\u001b[90m# A tibble: 19,537 × 13\u001b[39m\n",
            "   name      year month   day  hour   lat  long status                 category\n",
            "   \u001b[3m\u001b[90m<chr>\u001b[39m\u001b[23m    \u001b[3m\u001b[90m<dbl>\u001b[39m\u001b[23m \u001b[3m\u001b[90m<dbl>\u001b[39m\u001b[23m \u001b[3m\u001b[90m<int>\u001b[39m\u001b[23m \u001b[3m\u001b[90m<dbl>\u001b[39m\u001b[23m \u001b[3m\u001b[90m<dbl>\u001b[39m\u001b[23m \u001b[3m\u001b[90m<dbl>\u001b[39m\u001b[23m \u001b[3m\u001b[90m<fct>\u001b[39m\u001b[23m                     \u001b[3m\u001b[90m<dbl>\u001b[39m\u001b[23m\n",
            "\u001b[90m 1\u001b[39m Bonnie    \u001b[4m1\u001b[24m986     6    28     6  36.5 -\u001b[31m91\u001b[39m\u001b[31m.\u001b[39m\u001b[31m3\u001b[39m tropical depression          \u001b[31mNA\u001b[39m\n",
            "\u001b[90m 2\u001b[39m Bonnie    \u001b[4m1\u001b[24m986     6    28    12  37.2 -\u001b[31m90\u001b[39m   tropical depression          \u001b[31mNA\u001b[39m\n",
            "\u001b[90m 3\u001b[39m Charley   \u001b[4m1\u001b[24m986     8    13    12  30.1 -\u001b[31m84\u001b[39m   subtropical depression       \u001b[31mNA\u001b[39m\n",
            "\u001b[90m 4\u001b[39m Charley   \u001b[4m1\u001b[24m986     8    13    18  30.8 -\u001b[31m84\u001b[39m   subtropical depression       \u001b[31mNA\u001b[39m\n",
            "\u001b[90m 5\u001b[39m Charley   \u001b[4m1\u001b[24m986     8    14     0  31.4 -\u001b[31m83\u001b[39m\u001b[31m.\u001b[39m\u001b[31m6\u001b[39m subtropical depression       \u001b[31mNA\u001b[39m\n",
            "\u001b[90m 6\u001b[39m Charley   \u001b[4m1\u001b[24m986     8    14     6  32   -\u001b[31m83\u001b[39m\u001b[31m.\u001b[39m\u001b[31m1\u001b[39m subtropical depression       \u001b[31mNA\u001b[39m\n",
            "\u001b[90m 7\u001b[39m Charley   \u001b[4m1\u001b[24m986     8    14    12  32.5 -\u001b[31m82\u001b[39m\u001b[31m.\u001b[39m\u001b[31m5\u001b[39m subtropical depression       \u001b[31mNA\u001b[39m\n",
            "\u001b[90m 8\u001b[39m Charley   \u001b[4m1\u001b[24m986     8    14    18  32.4 -\u001b[31m82\u001b[39m   subtropical depression       \u001b[31mNA\u001b[39m\n",
            "\u001b[90m 9\u001b[39m AL031987  \u001b[4m1\u001b[24m987     8    16    18  30.9 -\u001b[31m83\u001b[39m\u001b[31m.\u001b[39m\u001b[31m2\u001b[39m tropical depression          \u001b[31mNA\u001b[39m\n",
            "\u001b[90m10\u001b[39m AL031987  \u001b[4m1\u001b[24m987     8    17     0  31.4 -\u001b[31m82\u001b[39m\u001b[31m.\u001b[39m\u001b[31m9\u001b[39m tropical depression          \u001b[31mNA\u001b[39m\n",
            "\u001b[90m11\u001b[39m AL031987  \u001b[4m1\u001b[24m987     8    17     6  31.8 -\u001b[31m82\u001b[39m\u001b[31m.\u001b[39m\u001b[31m3\u001b[39m tropical depression          \u001b[31mNA\u001b[39m\n",
            "\u001b[90m12\u001b[39m Arlene    \u001b[4m1\u001b[24m987     8     8     0  34.3 -\u001b[31m77\u001b[39m\u001b[31m.\u001b[39m\u001b[31m5\u001b[39m other low                    \u001b[31mNA\u001b[39m\n",
            "\u001b[90m13\u001b[39m Arlene    \u001b[4m1\u001b[24m987     8     8     6  33.8 -\u001b[31m76\u001b[39m\u001b[31m.\u001b[39m\u001b[31m7\u001b[39m other low                    \u001b[31mNA\u001b[39m\n",
            "\u001b[90m14\u001b[39m Arlene    \u001b[4m1\u001b[24m987     8     8    12  33   -\u001b[31m76\u001b[39m   other low                    \u001b[31mNA\u001b[39m\n",
            "\u001b[90m15\u001b[39m Arlene    \u001b[4m1\u001b[24m987     8     8    18  32   -\u001b[31m75\u001b[39m\u001b[31m.\u001b[39m\u001b[31m6\u001b[39m other low                    \u001b[31mNA\u001b[39m\n",
            "    wind pressure tropicalstorm_force_diameter hurricane_force_diameter\n",
            "   \u001b[3m\u001b[90m<int>\u001b[39m\u001b[23m    \u001b[3m\u001b[90m<int>\u001b[39m\u001b[23m                        \u001b[3m\u001b[90m<int>\u001b[39m\u001b[23m                    \u001b[3m\u001b[90m<int>\u001b[39m\u001b[23m\n",
            "\u001b[90m 1\u001b[39m    10     \u001b[4m1\u001b[24m013                           \u001b[31mNA\u001b[39m                       \u001b[31mNA\u001b[39m\n",
            "\u001b[90m 2\u001b[39m    10     \u001b[4m1\u001b[24m012                           \u001b[31mNA\u001b[39m                       \u001b[31mNA\u001b[39m\n",
            "\u001b[90m 3\u001b[39m    10     \u001b[4m1\u001b[24m009                           \u001b[31mNA\u001b[39m                       \u001b[31mNA\u001b[39m\n",
            "\u001b[90m 4\u001b[39m    10     \u001b[4m1\u001b[24m012                           \u001b[31mNA\u001b[39m                       \u001b[31mNA\u001b[39m\n",
            "\u001b[90m 5\u001b[39m    10     \u001b[4m1\u001b[24m013                           \u001b[31mNA\u001b[39m                       \u001b[31mNA\u001b[39m\n",
            "\u001b[90m 6\u001b[39m    10     \u001b[4m1\u001b[24m014                           \u001b[31mNA\u001b[39m                       \u001b[31mNA\u001b[39m\n",
            "\u001b[90m 7\u001b[39m    10     \u001b[4m1\u001b[24m015                           \u001b[31mNA\u001b[39m                       \u001b[31mNA\u001b[39m\n",
            "\u001b[90m 8\u001b[39m    10     \u001b[4m1\u001b[24m015                           \u001b[31mNA\u001b[39m                       \u001b[31mNA\u001b[39m\n",
            "\u001b[90m 9\u001b[39m    10     \u001b[4m1\u001b[24m014                           \u001b[31mNA\u001b[39m                       \u001b[31mNA\u001b[39m\n",
            "\u001b[90m10\u001b[39m    10     \u001b[4m1\u001b[24m015                           \u001b[31mNA\u001b[39m                       \u001b[31mNA\u001b[39m\n",
            "\u001b[90m11\u001b[39m    10     \u001b[4m1\u001b[24m015                           \u001b[31mNA\u001b[39m                       \u001b[31mNA\u001b[39m\n",
            "\u001b[90m12\u001b[39m    10     \u001b[4m1\u001b[24m016                           \u001b[31mNA\u001b[39m                       \u001b[31mNA\u001b[39m\n",
            "\u001b[90m13\u001b[39m    10     \u001b[4m1\u001b[24m016                           \u001b[31mNA\u001b[39m                       \u001b[31mNA\u001b[39m\n",
            "\u001b[90m14\u001b[39m    10     \u001b[4m1\u001b[24m015                           \u001b[31mNA\u001b[39m                       \u001b[31mNA\u001b[39m\n",
            "\u001b[90m15\u001b[39m    10     \u001b[4m1\u001b[24m015                           \u001b[31mNA\u001b[39m                       \u001b[31mNA\u001b[39m\n",
            "\u001b[90m# ℹ 19,522 more rows\u001b[39m\n"
          ]
        }
      ]
    },
    {
      "cell_type": "markdown",
      "source": [
        "### <a name=\"desc\">`desc()`</a>\n",
        "\n",
        "\n",
        "---\n",
        "\n",
        "The `desc()` function can be used to arrange the rows in descending order.\n",
        "\n",
        "<br>  \n"
      ],
      "metadata": {
        "id": "1BYWSDAYuNrp"
      }
    },
    {
      "cell_type": "code",
      "source": [
        "arrange(storms, desc(wind)) |>  # order rows of storms in descending order by wind speed\n",
        "  print()"
      ],
      "metadata": {
        "colab": {
          "base_uri": "https://localhost:8080/"
        },
        "id": "PqDrQGq-OqPF",
        "outputId": "91cc2d35-0333-40e3-f50b-ea8f9093a917"
      },
      "execution_count": 82,
      "outputs": [
        {
          "output_type": "stream",
          "name": "stdout",
          "text": [
            "\u001b[90m# A tibble: 19,537 × 13\u001b[39m\n",
            "   name     year month   day  hour   lat  long status    category  wind pressure\n",
            "   \u001b[3m\u001b[90m<chr>\u001b[39m\u001b[23m   \u001b[3m\u001b[90m<dbl>\u001b[39m\u001b[23m \u001b[3m\u001b[90m<dbl>\u001b[39m\u001b[23m \u001b[3m\u001b[90m<int>\u001b[39m\u001b[23m \u001b[3m\u001b[90m<dbl>\u001b[39m\u001b[23m \u001b[3m\u001b[90m<dbl>\u001b[39m\u001b[23m \u001b[3m\u001b[90m<dbl>\u001b[39m\u001b[23m \u001b[3m\u001b[90m<fct>\u001b[39m\u001b[23m        \u001b[3m\u001b[90m<dbl>\u001b[39m\u001b[23m \u001b[3m\u001b[90m<int>\u001b[39m\u001b[23m    \u001b[3m\u001b[90m<int>\u001b[39m\u001b[23m\n",
            "\u001b[90m 1\u001b[39m Allen    \u001b[4m1\u001b[24m980     8     7    18  21.8 -\u001b[31m86\u001b[39m\u001b[31m.\u001b[39m\u001b[31m4\u001b[39m hurricane        5   165      899\n",
            "\u001b[90m 2\u001b[39m Gilbert  \u001b[4m1\u001b[24m988     9    14     0  19.7 -\u001b[31m83\u001b[39m\u001b[31m.\u001b[39m\u001b[31m8\u001b[39m hurricane        5   160      888\n",
            "\u001b[90m 3\u001b[39m Wilma    \u001b[4m2\u001b[24m005    10    19    12  17.3 -\u001b[31m82\u001b[39m\u001b[31m.\u001b[39m\u001b[31m8\u001b[39m hurricane        5   160      882\n",
            "\u001b[90m 4\u001b[39m Dorian   \u001b[4m2\u001b[24m019     9     1    16  26.5 -\u001b[31m77\u001b[39m   hurricane        5   160      910\n",
            "\u001b[90m 5\u001b[39m Dorian   \u001b[4m2\u001b[24m019     9     1    18  26.5 -\u001b[31m77\u001b[39m\u001b[31m.\u001b[39m\u001b[31m1\u001b[39m hurricane        5   160      910\n",
            "\u001b[90m 6\u001b[39m Allen    \u001b[4m1\u001b[24m980     8     5    12  15.9 -\u001b[31m70\u001b[39m\u001b[31m.\u001b[39m\u001b[31m5\u001b[39m hurricane        5   155      932\n",
            "\u001b[90m 7\u001b[39m Allen    \u001b[4m1\u001b[24m980     8     7    12  21   -\u001b[31m84\u001b[39m\u001b[31m.\u001b[39m\u001b[31m8\u001b[39m hurricane        5   155      910\n",
            "\u001b[90m 8\u001b[39m Allen    \u001b[4m1\u001b[24m980     8     8     0  22.2 -\u001b[31m87\u001b[39m\u001b[31m.\u001b[39m\u001b[31m9\u001b[39m hurricane        5   155      920\n",
            "\u001b[90m 9\u001b[39m Allen    \u001b[4m1\u001b[24m980     8     9     6  25   -\u001b[31m94\u001b[39m\u001b[31m.\u001b[39m\u001b[31m2\u001b[39m hurricane        5   155      909\n",
            "\u001b[90m10\u001b[39m Gilbert  \u001b[4m1\u001b[24m988     9    14     6  19.9 -\u001b[31m85\u001b[39m\u001b[31m.\u001b[39m\u001b[31m3\u001b[39m hurricane        5   155      889\n",
            "\u001b[90m# ℹ 19,527 more rows\u001b[39m\n",
            "\u001b[90m# ℹ 2 more variables: tropicalstorm_force_diameter <int>,\u001b[39m\n",
            "\u001b[90m#   hurricane_force_diameter <int>\u001b[39m\n"
          ]
        }
      ]
    },
    {
      "cell_type": "code",
      "source": [
        "storms |>\n",
        "  arrange(desc(wind)) |>  # order rows of storms in descending order by wind speed\n",
        "  print()"
      ],
      "metadata": {
        "colab": {
          "base_uri": "https://localhost:8080/"
        },
        "id": "jiiNYsz5PFrw",
        "outputId": "2f821201-3ff7-4628-982c-74d4d57de2ab"
      },
      "execution_count": 83,
      "outputs": [
        {
          "output_type": "stream",
          "name": "stdout",
          "text": [
            "\u001b[90m# A tibble: 19,537 × 13\u001b[39m\n",
            "   name     year month   day  hour   lat  long status    category  wind pressure\n",
            "   \u001b[3m\u001b[90m<chr>\u001b[39m\u001b[23m   \u001b[3m\u001b[90m<dbl>\u001b[39m\u001b[23m \u001b[3m\u001b[90m<dbl>\u001b[39m\u001b[23m \u001b[3m\u001b[90m<int>\u001b[39m\u001b[23m \u001b[3m\u001b[90m<dbl>\u001b[39m\u001b[23m \u001b[3m\u001b[90m<dbl>\u001b[39m\u001b[23m \u001b[3m\u001b[90m<dbl>\u001b[39m\u001b[23m \u001b[3m\u001b[90m<fct>\u001b[39m\u001b[23m        \u001b[3m\u001b[90m<dbl>\u001b[39m\u001b[23m \u001b[3m\u001b[90m<int>\u001b[39m\u001b[23m    \u001b[3m\u001b[90m<int>\u001b[39m\u001b[23m\n",
            "\u001b[90m 1\u001b[39m Allen    \u001b[4m1\u001b[24m980     8     7    18  21.8 -\u001b[31m86\u001b[39m\u001b[31m.\u001b[39m\u001b[31m4\u001b[39m hurricane        5   165      899\n",
            "\u001b[90m 2\u001b[39m Gilbert  \u001b[4m1\u001b[24m988     9    14     0  19.7 -\u001b[31m83\u001b[39m\u001b[31m.\u001b[39m\u001b[31m8\u001b[39m hurricane        5   160      888\n",
            "\u001b[90m 3\u001b[39m Wilma    \u001b[4m2\u001b[24m005    10    19    12  17.3 -\u001b[31m82\u001b[39m\u001b[31m.\u001b[39m\u001b[31m8\u001b[39m hurricane        5   160      882\n",
            "\u001b[90m 4\u001b[39m Dorian   \u001b[4m2\u001b[24m019     9     1    16  26.5 -\u001b[31m77\u001b[39m   hurricane        5   160      910\n",
            "\u001b[90m 5\u001b[39m Dorian   \u001b[4m2\u001b[24m019     9     1    18  26.5 -\u001b[31m77\u001b[39m\u001b[31m.\u001b[39m\u001b[31m1\u001b[39m hurricane        5   160      910\n",
            "\u001b[90m 6\u001b[39m Allen    \u001b[4m1\u001b[24m980     8     5    12  15.9 -\u001b[31m70\u001b[39m\u001b[31m.\u001b[39m\u001b[31m5\u001b[39m hurricane        5   155      932\n",
            "\u001b[90m 7\u001b[39m Allen    \u001b[4m1\u001b[24m980     8     7    12  21   -\u001b[31m84\u001b[39m\u001b[31m.\u001b[39m\u001b[31m8\u001b[39m hurricane        5   155      910\n",
            "\u001b[90m 8\u001b[39m Allen    \u001b[4m1\u001b[24m980     8     8     0  22.2 -\u001b[31m87\u001b[39m\u001b[31m.\u001b[39m\u001b[31m9\u001b[39m hurricane        5   155      920\n",
            "\u001b[90m 9\u001b[39m Allen    \u001b[4m1\u001b[24m980     8     9     6  25   -\u001b[31m94\u001b[39m\u001b[31m.\u001b[39m\u001b[31m2\u001b[39m hurricane        5   155      909\n",
            "\u001b[90m10\u001b[39m Gilbert  \u001b[4m1\u001b[24m988     9    14     6  19.9 -\u001b[31m85\u001b[39m\u001b[31m.\u001b[39m\u001b[31m3\u001b[39m hurricane        5   155      889\n",
            "\u001b[90m# ℹ 19,527 more rows\u001b[39m\n",
            "\u001b[90m# ℹ 2 more variables: tropicalstorm_force_diameter <int>,\u001b[39m\n",
            "\u001b[90m#   hurricane_force_diameter <int>\u001b[39m\n"
          ]
        }
      ]
    },
    {
      "cell_type": "code",
      "source": [
        "storms |>\n",
        "  arrange(desc(wind)) |>\n",
        "  slice_head(n = 10)"
      ],
      "metadata": {
        "colab": {
          "base_uri": "https://localhost:8080/",
          "height": 412
        },
        "id": "gG7yRIFi4ufr",
        "outputId": "5e4fe8a3-7944-4c36-a02d-e7c6e999d29b"
      },
      "execution_count": 84,
      "outputs": [
        {
          "output_type": "display_data",
          "data": {
            "text/html": [
              "<table class=\"dataframe\">\n",
              "<caption>A tibble: 10 × 13</caption>\n",
              "<thead>\n",
              "\t<tr><th scope=col>name</th><th scope=col>year</th><th scope=col>month</th><th scope=col>day</th><th scope=col>hour</th><th scope=col>lat</th><th scope=col>long</th><th scope=col>status</th><th scope=col>category</th><th scope=col>wind</th><th scope=col>pressure</th><th scope=col>tropicalstorm_force_diameter</th><th scope=col>hurricane_force_diameter</th></tr>\n",
              "\t<tr><th scope=col>&lt;chr&gt;</th><th scope=col>&lt;dbl&gt;</th><th scope=col>&lt;dbl&gt;</th><th scope=col>&lt;int&gt;</th><th scope=col>&lt;dbl&gt;</th><th scope=col>&lt;dbl&gt;</th><th scope=col>&lt;dbl&gt;</th><th scope=col>&lt;fct&gt;</th><th scope=col>&lt;dbl&gt;</th><th scope=col>&lt;int&gt;</th><th scope=col>&lt;int&gt;</th><th scope=col>&lt;int&gt;</th><th scope=col>&lt;int&gt;</th></tr>\n",
              "</thead>\n",
              "<tbody>\n",
              "\t<tr><td>Allen  </td><td>1980</td><td> 8</td><td> 7</td><td>18</td><td>21.8</td><td>-86.4</td><td>hurricane</td><td>5</td><td>165</td><td>899</td><td> NA</td><td>NA</td></tr>\n",
              "\t<tr><td>Gilbert</td><td>1988</td><td> 9</td><td>14</td><td> 0</td><td>19.7</td><td>-83.8</td><td>hurricane</td><td>5</td><td>160</td><td>888</td><td> NA</td><td>NA</td></tr>\n",
              "\t<tr><td>Wilma  </td><td>2005</td><td>10</td><td>19</td><td>12</td><td>17.3</td><td>-82.8</td><td>hurricane</td><td>5</td><td>160</td><td>882</td><td>265</td><td>65</td></tr>\n",
              "\t<tr><td>Dorian </td><td>2019</td><td> 9</td><td> 1</td><td>16</td><td>26.5</td><td>-77.0</td><td>hurricane</td><td>5</td><td>160</td><td>910</td><td>200</td><td>60</td></tr>\n",
              "\t<tr><td>Dorian </td><td>2019</td><td> 9</td><td> 1</td><td>18</td><td>26.5</td><td>-77.1</td><td>hurricane</td><td>5</td><td>160</td><td>910</td><td>210</td><td>60</td></tr>\n",
              "\t<tr><td>Allen  </td><td>1980</td><td> 8</td><td> 5</td><td>12</td><td>15.9</td><td>-70.5</td><td>hurricane</td><td>5</td><td>155</td><td>932</td><td> NA</td><td>NA</td></tr>\n",
              "\t<tr><td>Allen  </td><td>1980</td><td> 8</td><td> 7</td><td>12</td><td>21.0</td><td>-84.8</td><td>hurricane</td><td>5</td><td>155</td><td>910</td><td> NA</td><td>NA</td></tr>\n",
              "\t<tr><td>Allen  </td><td>1980</td><td> 8</td><td> 8</td><td> 0</td><td>22.2</td><td>-87.9</td><td>hurricane</td><td>5</td><td>155</td><td>920</td><td> NA</td><td>NA</td></tr>\n",
              "\t<tr><td>Allen  </td><td>1980</td><td> 8</td><td> 9</td><td> 6</td><td>25.0</td><td>-94.2</td><td>hurricane</td><td>5</td><td>155</td><td>909</td><td> NA</td><td>NA</td></tr>\n",
              "\t<tr><td>Gilbert</td><td>1988</td><td> 9</td><td>14</td><td> 6</td><td>19.9</td><td>-85.3</td><td>hurricane</td><td>5</td><td>155</td><td>889</td><td> NA</td><td>NA</td></tr>\n",
              "</tbody>\n",
              "</table>\n"
            ],
            "text/markdown": "\nA tibble: 10 × 13\n\n| name &lt;chr&gt; | year &lt;dbl&gt; | month &lt;dbl&gt; | day &lt;int&gt; | hour &lt;dbl&gt; | lat &lt;dbl&gt; | long &lt;dbl&gt; | status &lt;fct&gt; | category &lt;dbl&gt; | wind &lt;int&gt; | pressure &lt;int&gt; | tropicalstorm_force_diameter &lt;int&gt; | hurricane_force_diameter &lt;int&gt; |\n|---|---|---|---|---|---|---|---|---|---|---|---|---|\n| Allen   | 1980 |  8 |  7 | 18 | 21.8 | -86.4 | hurricane | 5 | 165 | 899 |  NA | NA |\n| Gilbert | 1988 |  9 | 14 |  0 | 19.7 | -83.8 | hurricane | 5 | 160 | 888 |  NA | NA |\n| Wilma   | 2005 | 10 | 19 | 12 | 17.3 | -82.8 | hurricane | 5 | 160 | 882 | 265 | 65 |\n| Dorian  | 2019 |  9 |  1 | 16 | 26.5 | -77.0 | hurricane | 5 | 160 | 910 | 200 | 60 |\n| Dorian  | 2019 |  9 |  1 | 18 | 26.5 | -77.1 | hurricane | 5 | 160 | 910 | 210 | 60 |\n| Allen   | 1980 |  8 |  5 | 12 | 15.9 | -70.5 | hurricane | 5 | 155 | 932 |  NA | NA |\n| Allen   | 1980 |  8 |  7 | 12 | 21.0 | -84.8 | hurricane | 5 | 155 | 910 |  NA | NA |\n| Allen   | 1980 |  8 |  8 |  0 | 22.2 | -87.9 | hurricane | 5 | 155 | 920 |  NA | NA |\n| Allen   | 1980 |  8 |  9 |  6 | 25.0 | -94.2 | hurricane | 5 | 155 | 909 |  NA | NA |\n| Gilbert | 1988 |  9 | 14 |  6 | 19.9 | -85.3 | hurricane | 5 | 155 | 889 |  NA | NA |\n\n",
            "text/latex": "A tibble: 10 × 13\n\\begin{tabular}{lllllllllllll}\n name & year & month & day & hour & lat & long & status & category & wind & pressure & tropicalstorm\\_force\\_diameter & hurricane\\_force\\_diameter\\\\\n <chr> & <dbl> & <dbl> & <int> & <dbl> & <dbl> & <dbl> & <fct> & <dbl> & <int> & <int> & <int> & <int>\\\\\n\\hline\n\t Allen   & 1980 &  8 &  7 & 18 & 21.8 & -86.4 & hurricane & 5 & 165 & 899 &  NA & NA\\\\\n\t Gilbert & 1988 &  9 & 14 &  0 & 19.7 & -83.8 & hurricane & 5 & 160 & 888 &  NA & NA\\\\\n\t Wilma   & 2005 & 10 & 19 & 12 & 17.3 & -82.8 & hurricane & 5 & 160 & 882 & 265 & 65\\\\\n\t Dorian  & 2019 &  9 &  1 & 16 & 26.5 & -77.0 & hurricane & 5 & 160 & 910 & 200 & 60\\\\\n\t Dorian  & 2019 &  9 &  1 & 18 & 26.5 & -77.1 & hurricane & 5 & 160 & 910 & 210 & 60\\\\\n\t Allen   & 1980 &  8 &  5 & 12 & 15.9 & -70.5 & hurricane & 5 & 155 & 932 &  NA & NA\\\\\n\t Allen   & 1980 &  8 &  7 & 12 & 21.0 & -84.8 & hurricane & 5 & 155 & 910 &  NA & NA\\\\\n\t Allen   & 1980 &  8 &  8 &  0 & 22.2 & -87.9 & hurricane & 5 & 155 & 920 &  NA & NA\\\\\n\t Allen   & 1980 &  8 &  9 &  6 & 25.0 & -94.2 & hurricane & 5 & 155 & 909 &  NA & NA\\\\\n\t Gilbert & 1988 &  9 & 14 &  6 & 19.9 & -85.3 & hurricane & 5 & 155 & 889 &  NA & NA\\\\\n\\end{tabular}\n",
            "text/plain": [
              "   name    year month day hour lat  long  status    category wind pressure\n",
              "1  Allen   1980  8     7  18   21.8 -86.4 hurricane 5        165  899     \n",
              "2  Gilbert 1988  9    14   0   19.7 -83.8 hurricane 5        160  888     \n",
              "3  Wilma   2005 10    19  12   17.3 -82.8 hurricane 5        160  882     \n",
              "4  Dorian  2019  9     1  16   26.5 -77.0 hurricane 5        160  910     \n",
              "5  Dorian  2019  9     1  18   26.5 -77.1 hurricane 5        160  910     \n",
              "6  Allen   1980  8     5  12   15.9 -70.5 hurricane 5        155  932     \n",
              "7  Allen   1980  8     7  12   21.0 -84.8 hurricane 5        155  910     \n",
              "8  Allen   1980  8     8   0   22.2 -87.9 hurricane 5        155  920     \n",
              "9  Allen   1980  8     9   6   25.0 -94.2 hurricane 5        155  909     \n",
              "10 Gilbert 1988  9    14   6   19.9 -85.3 hurricane 5        155  889     \n",
              "   tropicalstorm_force_diameter hurricane_force_diameter\n",
              "1   NA                          NA                      \n",
              "2   NA                          NA                      \n",
              "3  265                          65                      \n",
              "4  200                          60                      \n",
              "5  210                          60                      \n",
              "6   NA                          NA                      \n",
              "7   NA                          NA                      \n",
              "8   NA                          NA                      \n",
              "9   NA                          NA                      \n",
              "10  NA                          NA                      "
            ]
          },
          "metadata": {}
        }
      ]
    },
    {
      "cell_type": "markdown",
      "source": [
        "### <a name=\"slice-group\">Arranging `.by_group`</a>\n",
        "\n",
        "---\n",
        "\n",
        "\n",
        "The data frame can also be arranged within groups. In the code below, we perform the following actions:\n",
        "\n",
        "1. Go into the `storms` data frame.\n",
        "2. Group the data together by storm `status`,\n",
        "3. Slice rows 1 thru 3 from each `status` group.\n",
        "4. Store the result to `storms_slice`.\n",
        "\n",
        "We then sort the rows of `storms_slice` by `wind` within each group by setting `.by_group` to `TRUE`.\n",
        "\n",
        "<br>  \n",
        "\n",
        "\n",
        "\n"
      ],
      "metadata": {
        "id": "ngyvENSsOjPp"
      }
    },
    {
      "cell_type": "code",
      "source": [
        "storms_slice <- storms |>  # go into storms data frame\n",
        "                  group_by(status) |>  # group data together by status\n",
        "                  slice(1:3)  # slice rows 1-3 from each status group"
      ],
      "metadata": {
        "id": "HBIwB3hku6jA"
      },
      "execution_count": 72,
      "outputs": []
    },
    {
      "cell_type": "code",
      "source": [
        "# order storms_slice in ascending order by wind speed within each group\n",
        "arrange(storms_slice, wind, .by_group = TRUE)"
      ],
      "metadata": {
        "colab": {
          "base_uri": "https://localhost:8080/",
          "height": 945
        },
        "id": "ZHJv18ALGbBz",
        "outputId": "33ce48d6-78cf-4f07-bee8-c894dc03ebe3"
      },
      "execution_count": 73,
      "outputs": [
        {
          "output_type": "display_data",
          "data": {
            "text/html": [
              "<table class=\"dataframe\">\n",
              "<caption>A grouped_df: 27 × 13</caption>\n",
              "<thead>\n",
              "\t<tr><th scope=col>name</th><th scope=col>year</th><th scope=col>month</th><th scope=col>day</th><th scope=col>hour</th><th scope=col>lat</th><th scope=col>long</th><th scope=col>status</th><th scope=col>category</th><th scope=col>wind</th><th scope=col>pressure</th><th scope=col>tropicalstorm_force_diameter</th><th scope=col>hurricane_force_diameter</th></tr>\n",
              "\t<tr><th scope=col>&lt;chr&gt;</th><th scope=col>&lt;dbl&gt;</th><th scope=col>&lt;dbl&gt;</th><th scope=col>&lt;int&gt;</th><th scope=col>&lt;dbl&gt;</th><th scope=col>&lt;dbl&gt;</th><th scope=col>&lt;dbl&gt;</th><th scope=col>&lt;fct&gt;</th><th scope=col>&lt;dbl&gt;</th><th scope=col>&lt;int&gt;</th><th scope=col>&lt;int&gt;</th><th scope=col>&lt;int&gt;</th><th scope=col>&lt;int&gt;</th></tr>\n",
              "</thead>\n",
              "<tbody>\n",
              "\t<tr><td>Georges</td><td>1980</td><td> 9</td><td> 4</td><td> 6</td><td>22.1</td><td>-62.3</td><td>disturbance           </td><td>NA</td><td>20</td><td>1012</td><td>NA</td><td>NA</td></tr>\n",
              "\t<tr><td>Georges</td><td>1980</td><td> 9</td><td> 4</td><td>12</td><td>23.4</td><td>-63.6</td><td>disturbance           </td><td>NA</td><td>20</td><td>1013</td><td>NA</td><td>NA</td></tr>\n",
              "\t<tr><td>Georges</td><td>1980</td><td> 9</td><td> 4</td><td>18</td><td>24.8</td><td>-64.8</td><td>disturbance           </td><td>NA</td><td>20</td><td>1013</td><td>NA</td><td>NA</td></tr>\n",
              "\t<tr><td>Amy    </td><td>1975</td><td> 7</td><td> 4</td><td>12</td><td>47.0</td><td>-48.0</td><td>extratropical         </td><td>NA</td><td>45</td><td> 995</td><td>NA</td><td>NA</td></tr>\n",
              "\t<tr><td>Blanche</td><td>1975</td><td> 7</td><td>28</td><td>12</td><td>44.0</td><td>-65.2</td><td>extratropical         </td><td>NA</td><td>60</td><td> 988</td><td>NA</td><td>NA</td></tr>\n",
              "\t<tr><td>Blanche</td><td>1975</td><td> 7</td><td>28</td><td>18</td><td>47.2</td><td>-62.4</td><td>extratropical         </td><td>NA</td><td>60</td><td> 992</td><td>NA</td><td>NA</td></tr>\n",
              "\t<tr><td>Blanche</td><td>1975</td><td> 7</td><td>27</td><td> 6</td><td>35.9</td><td>-70.0</td><td>hurricane             </td><td> 1</td><td>65</td><td> 987</td><td>NA</td><td>NA</td></tr>\n",
              "\t<tr><td>Blanche</td><td>1975</td><td> 7</td><td>27</td><td>12</td><td>36.9</td><td>-69.0</td><td>hurricane             </td><td> 1</td><td>70</td><td> 984</td><td>NA</td><td>NA</td></tr>\n",
              "\t<tr><td>Blanche</td><td>1975</td><td> 7</td><td>27</td><td>18</td><td>37.9</td><td>-68.0</td><td>hurricane             </td><td> 1</td><td>75</td><td> 981</td><td>NA</td><td>NA</td></tr>\n",
              "\t<tr><td>Arlene </td><td>1987</td><td> 8</td><td> 8</td><td> 0</td><td>34.3</td><td>-77.5</td><td>other low             </td><td>NA</td><td>10</td><td>1016</td><td>NA</td><td>NA</td></tr>\n",
              "\t<tr><td>Arlene </td><td>1987</td><td> 8</td><td> 8</td><td> 6</td><td>33.8</td><td>-76.7</td><td>other low             </td><td>NA</td><td>10</td><td>1016</td><td>NA</td><td>NA</td></tr>\n",
              "\t<tr><td>Arlene </td><td>1987</td><td> 8</td><td> 8</td><td>12</td><td>33.0</td><td>-76.0</td><td>other low             </td><td>NA</td><td>10</td><td>1015</td><td>NA</td><td>NA</td></tr>\n",
              "\t<tr><td>Hallie </td><td>1975</td><td>10</td><td>24</td><td>18</td><td>29.1</td><td>-79.3</td><td>subtropical depression</td><td>NA</td><td>30</td><td>1006</td><td>NA</td><td>NA</td></tr>\n",
              "\t<tr><td>Hallie </td><td>1975</td><td>10</td><td>25</td><td> 0</td><td>28.8</td><td>-79.0</td><td>subtropical depression</td><td>NA</td><td>30</td><td>1006</td><td>NA</td><td>NA</td></tr>\n",
              "\t<tr><td>Hallie </td><td>1975</td><td>10</td><td>25</td><td> 6</td><td>29.4</td><td>-79.4</td><td>subtropical depression</td><td>NA</td><td>30</td><td>1006</td><td>NA</td><td>NA</td></tr>\n",
              "\t<tr><td>Doris  </td><td>1975</td><td> 8</td><td>28</td><td>12</td><td>33.3</td><td>-46.3</td><td>subtropical storm     </td><td>NA</td><td>35</td><td>1005</td><td>NA</td><td>NA</td></tr>\n",
              "\t<tr><td>Doris  </td><td>1975</td><td> 8</td><td>28</td><td>18</td><td>33.6</td><td>-47.5</td><td>subtropical storm     </td><td>NA</td><td>40</td><td>1005</td><td>NA</td><td>NA</td></tr>\n",
              "\t<tr><td>Doris  </td><td>1975</td><td> 8</td><td>29</td><td> 0</td><td>34.5</td><td>-48.1</td><td>subtropical storm     </td><td>NA</td><td>40</td><td>1005</td><td>NA</td><td>NA</td></tr>\n",
              "\t<tr><td>Amy    </td><td>1975</td><td> 6</td><td>27</td><td> 0</td><td>27.5</td><td>-79.0</td><td>tropical depression   </td><td>NA</td><td>25</td><td>1013</td><td>NA</td><td>NA</td></tr>\n",
              "\t<tr><td>Amy    </td><td>1975</td><td> 6</td><td>27</td><td> 6</td><td>28.5</td><td>-79.0</td><td>tropical depression   </td><td>NA</td><td>25</td><td>1013</td><td>NA</td><td>NA</td></tr>\n",
              "\t<tr><td>Amy    </td><td>1975</td><td> 6</td><td>27</td><td>12</td><td>29.5</td><td>-79.0</td><td>tropical depression   </td><td>NA</td><td>25</td><td>1013</td><td>NA</td><td>NA</td></tr>\n",
              "\t<tr><td>Amy    </td><td>1975</td><td> 6</td><td>29</td><td> 0</td><td>34.4</td><td>-75.8</td><td>tropical storm        </td><td>NA</td><td>35</td><td>1004</td><td>NA</td><td>NA</td></tr>\n",
              "\t<tr><td>Amy    </td><td>1975</td><td> 6</td><td>29</td><td> 6</td><td>34.0</td><td>-74.8</td><td>tropical storm        </td><td>NA</td><td>40</td><td>1002</td><td>NA</td><td>NA</td></tr>\n",
              "\t<tr><td>Amy    </td><td>1975</td><td> 6</td><td>29</td><td>12</td><td>33.8</td><td>-73.8</td><td>tropical storm        </td><td>NA</td><td>45</td><td>1000</td><td>NA</td><td>NA</td></tr>\n",
              "\t<tr><td>Helene </td><td>2000</td><td> 9</td><td>16</td><td>18</td><td>16.4</td><td>-58.0</td><td>tropical wave         </td><td>NA</td><td>30</td><td>1010</td><td>NA</td><td>NA</td></tr>\n",
              "\t<tr><td>Helene </td><td>2000</td><td> 9</td><td>17</td><td> 0</td><td>16.6</td><td>-59.9</td><td>tropical wave         </td><td>NA</td><td>30</td><td>1010</td><td>NA</td><td>NA</td></tr>\n",
              "\t<tr><td>Helene </td><td>2000</td><td> 9</td><td>17</td><td> 6</td><td>16.6</td><td>-61.7</td><td>tropical wave         </td><td>NA</td><td>30</td><td>1010</td><td>NA</td><td>NA</td></tr>\n",
              "</tbody>\n",
              "</table>\n"
            ],
            "text/markdown": "\nA grouped_df: 27 × 13\n\n| name &lt;chr&gt; | year &lt;dbl&gt; | month &lt;dbl&gt; | day &lt;int&gt; | hour &lt;dbl&gt; | lat &lt;dbl&gt; | long &lt;dbl&gt; | status &lt;fct&gt; | category &lt;dbl&gt; | wind &lt;int&gt; | pressure &lt;int&gt; | tropicalstorm_force_diameter &lt;int&gt; | hurricane_force_diameter &lt;int&gt; |\n|---|---|---|---|---|---|---|---|---|---|---|---|---|\n| Georges | 1980 |  9 |  4 |  6 | 22.1 | -62.3 | disturbance            | NA | 20 | 1012 | NA | NA |\n| Georges | 1980 |  9 |  4 | 12 | 23.4 | -63.6 | disturbance            | NA | 20 | 1013 | NA | NA |\n| Georges | 1980 |  9 |  4 | 18 | 24.8 | -64.8 | disturbance            | NA | 20 | 1013 | NA | NA |\n| Amy     | 1975 |  7 |  4 | 12 | 47.0 | -48.0 | extratropical          | NA | 45 |  995 | NA | NA |\n| Blanche | 1975 |  7 | 28 | 12 | 44.0 | -65.2 | extratropical          | NA | 60 |  988 | NA | NA |\n| Blanche | 1975 |  7 | 28 | 18 | 47.2 | -62.4 | extratropical          | NA | 60 |  992 | NA | NA |\n| Blanche | 1975 |  7 | 27 |  6 | 35.9 | -70.0 | hurricane              |  1 | 65 |  987 | NA | NA |\n| Blanche | 1975 |  7 | 27 | 12 | 36.9 | -69.0 | hurricane              |  1 | 70 |  984 | NA | NA |\n| Blanche | 1975 |  7 | 27 | 18 | 37.9 | -68.0 | hurricane              |  1 | 75 |  981 | NA | NA |\n| Arlene  | 1987 |  8 |  8 |  0 | 34.3 | -77.5 | other low              | NA | 10 | 1016 | NA | NA |\n| Arlene  | 1987 |  8 |  8 |  6 | 33.8 | -76.7 | other low              | NA | 10 | 1016 | NA | NA |\n| Arlene  | 1987 |  8 |  8 | 12 | 33.0 | -76.0 | other low              | NA | 10 | 1015 | NA | NA |\n| Hallie  | 1975 | 10 | 24 | 18 | 29.1 | -79.3 | subtropical depression | NA | 30 | 1006 | NA | NA |\n| Hallie  | 1975 | 10 | 25 |  0 | 28.8 | -79.0 | subtropical depression | NA | 30 | 1006 | NA | NA |\n| Hallie  | 1975 | 10 | 25 |  6 | 29.4 | -79.4 | subtropical depression | NA | 30 | 1006 | NA | NA |\n| Doris   | 1975 |  8 | 28 | 12 | 33.3 | -46.3 | subtropical storm      | NA | 35 | 1005 | NA | NA |\n| Doris   | 1975 |  8 | 28 | 18 | 33.6 | -47.5 | subtropical storm      | NA | 40 | 1005 | NA | NA |\n| Doris   | 1975 |  8 | 29 |  0 | 34.5 | -48.1 | subtropical storm      | NA | 40 | 1005 | NA | NA |\n| Amy     | 1975 |  6 | 27 |  0 | 27.5 | -79.0 | tropical depression    | NA | 25 | 1013 | NA | NA |\n| Amy     | 1975 |  6 | 27 |  6 | 28.5 | -79.0 | tropical depression    | NA | 25 | 1013 | NA | NA |\n| Amy     | 1975 |  6 | 27 | 12 | 29.5 | -79.0 | tropical depression    | NA | 25 | 1013 | NA | NA |\n| Amy     | 1975 |  6 | 29 |  0 | 34.4 | -75.8 | tropical storm         | NA | 35 | 1004 | NA | NA |\n| Amy     | 1975 |  6 | 29 |  6 | 34.0 | -74.8 | tropical storm         | NA | 40 | 1002 | NA | NA |\n| Amy     | 1975 |  6 | 29 | 12 | 33.8 | -73.8 | tropical storm         | NA | 45 | 1000 | NA | NA |\n| Helene  | 2000 |  9 | 16 | 18 | 16.4 | -58.0 | tropical wave          | NA | 30 | 1010 | NA | NA |\n| Helene  | 2000 |  9 | 17 |  0 | 16.6 | -59.9 | tropical wave          | NA | 30 | 1010 | NA | NA |\n| Helene  | 2000 |  9 | 17 |  6 | 16.6 | -61.7 | tropical wave          | NA | 30 | 1010 | NA | NA |\n\n",
            "text/latex": "A grouped\\_df: 27 × 13\n\\begin{tabular}{lllllllllllll}\n name & year & month & day & hour & lat & long & status & category & wind & pressure & tropicalstorm\\_force\\_diameter & hurricane\\_force\\_diameter\\\\\n <chr> & <dbl> & <dbl> & <int> & <dbl> & <dbl> & <dbl> & <fct> & <dbl> & <int> & <int> & <int> & <int>\\\\\n\\hline\n\t Georges & 1980 &  9 &  4 &  6 & 22.1 & -62.3 & disturbance            & NA & 20 & 1012 & NA & NA\\\\\n\t Georges & 1980 &  9 &  4 & 12 & 23.4 & -63.6 & disturbance            & NA & 20 & 1013 & NA & NA\\\\\n\t Georges & 1980 &  9 &  4 & 18 & 24.8 & -64.8 & disturbance            & NA & 20 & 1013 & NA & NA\\\\\n\t Amy     & 1975 &  7 &  4 & 12 & 47.0 & -48.0 & extratropical          & NA & 45 &  995 & NA & NA\\\\\n\t Blanche & 1975 &  7 & 28 & 12 & 44.0 & -65.2 & extratropical          & NA & 60 &  988 & NA & NA\\\\\n\t Blanche & 1975 &  7 & 28 & 18 & 47.2 & -62.4 & extratropical          & NA & 60 &  992 & NA & NA\\\\\n\t Blanche & 1975 &  7 & 27 &  6 & 35.9 & -70.0 & hurricane              &  1 & 65 &  987 & NA & NA\\\\\n\t Blanche & 1975 &  7 & 27 & 12 & 36.9 & -69.0 & hurricane              &  1 & 70 &  984 & NA & NA\\\\\n\t Blanche & 1975 &  7 & 27 & 18 & 37.9 & -68.0 & hurricane              &  1 & 75 &  981 & NA & NA\\\\\n\t Arlene  & 1987 &  8 &  8 &  0 & 34.3 & -77.5 & other low              & NA & 10 & 1016 & NA & NA\\\\\n\t Arlene  & 1987 &  8 &  8 &  6 & 33.8 & -76.7 & other low              & NA & 10 & 1016 & NA & NA\\\\\n\t Arlene  & 1987 &  8 &  8 & 12 & 33.0 & -76.0 & other low              & NA & 10 & 1015 & NA & NA\\\\\n\t Hallie  & 1975 & 10 & 24 & 18 & 29.1 & -79.3 & subtropical depression & NA & 30 & 1006 & NA & NA\\\\\n\t Hallie  & 1975 & 10 & 25 &  0 & 28.8 & -79.0 & subtropical depression & NA & 30 & 1006 & NA & NA\\\\\n\t Hallie  & 1975 & 10 & 25 &  6 & 29.4 & -79.4 & subtropical depression & NA & 30 & 1006 & NA & NA\\\\\n\t Doris   & 1975 &  8 & 28 & 12 & 33.3 & -46.3 & subtropical storm      & NA & 35 & 1005 & NA & NA\\\\\n\t Doris   & 1975 &  8 & 28 & 18 & 33.6 & -47.5 & subtropical storm      & NA & 40 & 1005 & NA & NA\\\\\n\t Doris   & 1975 &  8 & 29 &  0 & 34.5 & -48.1 & subtropical storm      & NA & 40 & 1005 & NA & NA\\\\\n\t Amy     & 1975 &  6 & 27 &  0 & 27.5 & -79.0 & tropical depression    & NA & 25 & 1013 & NA & NA\\\\\n\t Amy     & 1975 &  6 & 27 &  6 & 28.5 & -79.0 & tropical depression    & NA & 25 & 1013 & NA & NA\\\\\n\t Amy     & 1975 &  6 & 27 & 12 & 29.5 & -79.0 & tropical depression    & NA & 25 & 1013 & NA & NA\\\\\n\t Amy     & 1975 &  6 & 29 &  0 & 34.4 & -75.8 & tropical storm         & NA & 35 & 1004 & NA & NA\\\\\n\t Amy     & 1975 &  6 & 29 &  6 & 34.0 & -74.8 & tropical storm         & NA & 40 & 1002 & NA & NA\\\\\n\t Amy     & 1975 &  6 & 29 & 12 & 33.8 & -73.8 & tropical storm         & NA & 45 & 1000 & NA & NA\\\\\n\t Helene  & 2000 &  9 & 16 & 18 & 16.4 & -58.0 & tropical wave          & NA & 30 & 1010 & NA & NA\\\\\n\t Helene  & 2000 &  9 & 17 &  0 & 16.6 & -59.9 & tropical wave          & NA & 30 & 1010 & NA & NA\\\\\n\t Helene  & 2000 &  9 & 17 &  6 & 16.6 & -61.7 & tropical wave          & NA & 30 & 1010 & NA & NA\\\\\n\\end{tabular}\n",
            "text/plain": [
              "   name    year month day hour lat  long  status                 category wind\n",
              "1  Georges 1980  9     4   6   22.1 -62.3 disturbance            NA       20  \n",
              "2  Georges 1980  9     4  12   23.4 -63.6 disturbance            NA       20  \n",
              "3  Georges 1980  9     4  18   24.8 -64.8 disturbance            NA       20  \n",
              "4  Amy     1975  7     4  12   47.0 -48.0 extratropical          NA       45  \n",
              "5  Blanche 1975  7    28  12   44.0 -65.2 extratropical          NA       60  \n",
              "6  Blanche 1975  7    28  18   47.2 -62.4 extratropical          NA       60  \n",
              "7  Blanche 1975  7    27   6   35.9 -70.0 hurricane               1       65  \n",
              "8  Blanche 1975  7    27  12   36.9 -69.0 hurricane               1       70  \n",
              "9  Blanche 1975  7    27  18   37.9 -68.0 hurricane               1       75  \n",
              "10 Arlene  1987  8     8   0   34.3 -77.5 other low              NA       10  \n",
              "11 Arlene  1987  8     8   6   33.8 -76.7 other low              NA       10  \n",
              "12 Arlene  1987  8     8  12   33.0 -76.0 other low              NA       10  \n",
              "13 Hallie  1975 10    24  18   29.1 -79.3 subtropical depression NA       30  \n",
              "14 Hallie  1975 10    25   0   28.8 -79.0 subtropical depression NA       30  \n",
              "15 Hallie  1975 10    25   6   29.4 -79.4 subtropical depression NA       30  \n",
              "16 Doris   1975  8    28  12   33.3 -46.3 subtropical storm      NA       35  \n",
              "17 Doris   1975  8    28  18   33.6 -47.5 subtropical storm      NA       40  \n",
              "18 Doris   1975  8    29   0   34.5 -48.1 subtropical storm      NA       40  \n",
              "19 Amy     1975  6    27   0   27.5 -79.0 tropical depression    NA       25  \n",
              "20 Amy     1975  6    27   6   28.5 -79.0 tropical depression    NA       25  \n",
              "21 Amy     1975  6    27  12   29.5 -79.0 tropical depression    NA       25  \n",
              "22 Amy     1975  6    29   0   34.4 -75.8 tropical storm         NA       35  \n",
              "23 Amy     1975  6    29   6   34.0 -74.8 tropical storm         NA       40  \n",
              "24 Amy     1975  6    29  12   33.8 -73.8 tropical storm         NA       45  \n",
              "25 Helene  2000  9    16  18   16.4 -58.0 tropical wave          NA       30  \n",
              "26 Helene  2000  9    17   0   16.6 -59.9 tropical wave          NA       30  \n",
              "27 Helene  2000  9    17   6   16.6 -61.7 tropical wave          NA       30  \n",
              "   pressure tropicalstorm_force_diameter hurricane_force_diameter\n",
              "1  1012     NA                           NA                      \n",
              "2  1013     NA                           NA                      \n",
              "3  1013     NA                           NA                      \n",
              "4   995     NA                           NA                      \n",
              "5   988     NA                           NA                      \n",
              "6   992     NA                           NA                      \n",
              "7   987     NA                           NA                      \n",
              "8   984     NA                           NA                      \n",
              "9   981     NA                           NA                      \n",
              "10 1016     NA                           NA                      \n",
              "11 1016     NA                           NA                      \n",
              "12 1015     NA                           NA                      \n",
              "13 1006     NA                           NA                      \n",
              "14 1006     NA                           NA                      \n",
              "15 1006     NA                           NA                      \n",
              "16 1005     NA                           NA                      \n",
              "17 1005     NA                           NA                      \n",
              "18 1005     NA                           NA                      \n",
              "19 1013     NA                           NA                      \n",
              "20 1013     NA                           NA                      \n",
              "21 1013     NA                           NA                      \n",
              "22 1004     NA                           NA                      \n",
              "23 1002     NA                           NA                      \n",
              "24 1000     NA                           NA                      \n",
              "25 1010     NA                           NA                      \n",
              "26 1010     NA                           NA                      \n",
              "27 1010     NA                           NA                      "
            ]
          },
          "metadata": {}
        }
      ]
    },
    {
      "cell_type": "markdown",
      "source": [
        "# <a name=\"column\">Column Actions</a>\n",
        "\n",
        "---\n"
      ],
      "metadata": {
        "id": "wxAPnfFBUZJf"
      }
    },
    {
      "cell_type": "markdown",
      "source": [
        "## <a name=\"group-by\">`group_by()`</a>\n",
        "\n",
        "---\n",
        "\n",
        "\n",
        "The `group_by` function groups rows of a data frame with respect to one or more variables, which can then be manipulated in various ways. `group_by()` does not change the data itself but, we can see from the output that the data frame now has a different structure, namely it is now a grouped data frame. `group_by()` adds a grouped structure to the data frame, which affects the subsequent actions of verbs applied to the data.\n",
        "\n"
      ],
      "metadata": {
        "id": "BtbARMwt1_FW"
      }
    },
    {
      "cell_type": "code",
      "source": [
        "# this will print too much to screen\n",
        "group_by(storms, month)"
      ],
      "metadata": {
        "id": "iD0NkxKFK0HL"
      },
      "execution_count": null,
      "outputs": []
    },
    {
      "cell_type": "code",
      "source": [
        "storms |>\n",
        "  group_by(month) |>  # group storms data together by month\n",
        "  print(n = 20)  # print first 20 rows to screen"
      ],
      "metadata": {
        "colab": {
          "base_uri": "https://localhost:8080/"
        },
        "id": "AYxx2LR9V3Iz",
        "outputId": "0677ac18-902c-45c5-c07c-05c21623fd54"
      },
      "execution_count": 86,
      "outputs": [
        {
          "output_type": "stream",
          "name": "stdout",
          "text": [
            "\u001b[90m# A tibble: 19,537 × 13\u001b[39m\n",
            "\u001b[90m# Groups:   month [10]\u001b[39m\n",
            "   name   year month   day  hour   lat  long status      category  wind pressure\n",
            "   \u001b[3m\u001b[90m<chr>\u001b[39m\u001b[23m \u001b[3m\u001b[90m<dbl>\u001b[39m\u001b[23m \u001b[3m\u001b[90m<dbl>\u001b[39m\u001b[23m \u001b[3m\u001b[90m<int>\u001b[39m\u001b[23m \u001b[3m\u001b[90m<dbl>\u001b[39m\u001b[23m \u001b[3m\u001b[90m<dbl>\u001b[39m\u001b[23m \u001b[3m\u001b[90m<dbl>\u001b[39m\u001b[23m \u001b[3m\u001b[90m<fct>\u001b[39m\u001b[23m          \u001b[3m\u001b[90m<dbl>\u001b[39m\u001b[23m \u001b[3m\u001b[90m<int>\u001b[39m\u001b[23m    \u001b[3m\u001b[90m<int>\u001b[39m\u001b[23m\n",
            "\u001b[90m 1\u001b[39m Amy    \u001b[4m1\u001b[24m975     6    27     0  27.5 -\u001b[31m79\u001b[39m   tropical d…       \u001b[31mNA\u001b[39m    25     \u001b[4m1\u001b[24m013\n",
            "\u001b[90m 2\u001b[39m Amy    \u001b[4m1\u001b[24m975     6    27     6  28.5 -\u001b[31m79\u001b[39m   tropical d…       \u001b[31mNA\u001b[39m    25     \u001b[4m1\u001b[24m013\n",
            "\u001b[90m 3\u001b[39m Amy    \u001b[4m1\u001b[24m975     6    27    12  29.5 -\u001b[31m79\u001b[39m   tropical d…       \u001b[31mNA\u001b[39m    25     \u001b[4m1\u001b[24m013\n",
            "\u001b[90m 4\u001b[39m Amy    \u001b[4m1\u001b[24m975     6    27    18  30.5 -\u001b[31m79\u001b[39m   tropical d…       \u001b[31mNA\u001b[39m    25     \u001b[4m1\u001b[24m013\n",
            "\u001b[90m 5\u001b[39m Amy    \u001b[4m1\u001b[24m975     6    28     0  31.5 -\u001b[31m78\u001b[39m\u001b[31m.\u001b[39m\u001b[31m8\u001b[39m tropical d…       \u001b[31mNA\u001b[39m    25     \u001b[4m1\u001b[24m012\n",
            "\u001b[90m 6\u001b[39m Amy    \u001b[4m1\u001b[24m975     6    28     6  32.4 -\u001b[31m78\u001b[39m\u001b[31m.\u001b[39m\u001b[31m7\u001b[39m tropical d…       \u001b[31mNA\u001b[39m    25     \u001b[4m1\u001b[24m012\n",
            "\u001b[90m 7\u001b[39m Amy    \u001b[4m1\u001b[24m975     6    28    12  33.3 -\u001b[31m78\u001b[39m   tropical d…       \u001b[31mNA\u001b[39m    25     \u001b[4m1\u001b[24m011\n",
            "\u001b[90m 8\u001b[39m Amy    \u001b[4m1\u001b[24m975     6    28    18  34   -\u001b[31m77\u001b[39m   tropical d…       \u001b[31mNA\u001b[39m    30     \u001b[4m1\u001b[24m006\n",
            "\u001b[90m 9\u001b[39m Amy    \u001b[4m1\u001b[24m975     6    29     0  34.4 -\u001b[31m75\u001b[39m\u001b[31m.\u001b[39m\u001b[31m8\u001b[39m tropical s…       \u001b[31mNA\u001b[39m    35     \u001b[4m1\u001b[24m004\n",
            "\u001b[90m10\u001b[39m Amy    \u001b[4m1\u001b[24m975     6    29     6  34   -\u001b[31m74\u001b[39m\u001b[31m.\u001b[39m\u001b[31m8\u001b[39m tropical s…       \u001b[31mNA\u001b[39m    40     \u001b[4m1\u001b[24m002\n",
            "\u001b[90m11\u001b[39m Amy    \u001b[4m1\u001b[24m975     6    29    12  33.8 -\u001b[31m73\u001b[39m\u001b[31m.\u001b[39m\u001b[31m8\u001b[39m tropical s…       \u001b[31mNA\u001b[39m    45     \u001b[4m1\u001b[24m000\n",
            "\u001b[90m12\u001b[39m Amy    \u001b[4m1\u001b[24m975     6    29    18  33.8 -\u001b[31m72\u001b[39m\u001b[31m.\u001b[39m\u001b[31m8\u001b[39m tropical s…       \u001b[31mNA\u001b[39m    50      998\n",
            "\u001b[90m13\u001b[39m Amy    \u001b[4m1\u001b[24m975     6    30     0  34.3 -\u001b[31m71\u001b[39m\u001b[31m.\u001b[39m\u001b[31m6\u001b[39m tropical s…       \u001b[31mNA\u001b[39m    50      998\n",
            "\u001b[90m14\u001b[39m Amy    \u001b[4m1\u001b[24m975     6    30     6  35.6 -\u001b[31m70\u001b[39m\u001b[31m.\u001b[39m\u001b[31m8\u001b[39m tropical s…       \u001b[31mNA\u001b[39m    55      998\n",
            "\u001b[90m15\u001b[39m Amy    \u001b[4m1\u001b[24m975     6    30    12  35.9 -\u001b[31m70\u001b[39m\u001b[31m.\u001b[39m\u001b[31m5\u001b[39m tropical s…       \u001b[31mNA\u001b[39m    60      987\n",
            "\u001b[90m16\u001b[39m Amy    \u001b[4m1\u001b[24m975     6    30    18  36.2 -\u001b[31m70\u001b[39m\u001b[31m.\u001b[39m\u001b[31m2\u001b[39m tropical s…       \u001b[31mNA\u001b[39m    60      987\n",
            "\u001b[90m17\u001b[39m Amy    \u001b[4m1\u001b[24m975     7     1     0  36.2 -\u001b[31m69\u001b[39m\u001b[31m.\u001b[39m\u001b[31m8\u001b[39m tropical s…       \u001b[31mNA\u001b[39m    60      984\n",
            "\u001b[90m18\u001b[39m Amy    \u001b[4m1\u001b[24m975     7     1     6  36.2 -\u001b[31m69\u001b[39m\u001b[31m.\u001b[39m\u001b[31m4\u001b[39m tropical s…       \u001b[31mNA\u001b[39m    60      984\n",
            "\u001b[90m19\u001b[39m Amy    \u001b[4m1\u001b[24m975     7     1    12  36.2 -\u001b[31m68\u001b[39m\u001b[31m.\u001b[39m\u001b[31m3\u001b[39m tropical s…       \u001b[31mNA\u001b[39m    60      984\n",
            "\u001b[90m20\u001b[39m Amy    \u001b[4m1\u001b[24m975     7     1    18  36.7 -\u001b[31m67\u001b[39m\u001b[31m.\u001b[39m\u001b[31m2\u001b[39m tropical s…       \u001b[31mNA\u001b[39m    60      984\n",
            "\u001b[90m# ℹ 19,517 more rows\u001b[39m\n",
            "\u001b[90m# ℹ 2 more variables: tropicalstorm_force_diameter <int>,\u001b[39m\n",
            "\u001b[90m#   hurricane_force_diameter <int>\u001b[39m\n"
          ]
        }
      ]
    },
    {
      "cell_type": "markdown",
      "source": [
        "## <a name=\"summarize\">`summarize()`</a>\n",
        "\n",
        "---\n",
        "\n",
        "`group_by()` is often used in close connection with the `summarize()` function, which computes statistical summaries for (grouped) rows into a single value.\n",
        "\n",
        "- Since we now want to string several operation in a row, **the pipe is useful for stringing the commands together**.\n",
        "\n",
        "In the code below, we group the `storms` data with respect to `status` and `month` and summarize the various aspects of the grouped data (compute the mean, the median, and the number of observations in each group for `wind`.)\n",
        "\n",
        "- We create variables with designated names inside `summarize()`.\n",
        "- `n()` counts the number of observations in each grouping.\n",
        "- `na.rm` may be needed when computing statistics (not in this situation).\n",
        "\n",
        "\n",
        "\n"
      ],
      "metadata": {
        "id": "7mYFcLTrUv2D"
      }
    },
    {
      "cell_type": "code",
      "source": [
        "##############################################################\n",
        "# running this code cell prints too much output to the screen\n",
        "##############################################################\n",
        "storms |>  # read in storms data\n",
        "  group_by(status, month) |>  # group together data by status and month\n",
        "  summarize(mean_wind = mean(wind),  # compute mean wind speed of grouped data\n",
        "            median_wind =  median(wind),  # compute median wind speed of grouped data\n",
        "            count_wind = n())  # count number of observations in group"
      ],
      "metadata": {
        "id": "eCOAB-jYwXXV"
      },
      "execution_count": null,
      "outputs": []
    },
    {
      "cell_type": "code",
      "source": [
        "storms |>\n",
        "  group_by(status, month) |>\n",
        "  summarize(mean_wind = mean(wind),\n",
        "            median_wind =  median(wind),\n",
        "            count_wind = n()) |>\n",
        "  print(n=24)  # print 24 rows of condensed output"
      ],
      "metadata": {
        "colab": {
          "base_uri": "https://localhost:8080/"
        },
        "id": "JaR3m1whxO0-",
        "outputId": "48113c52-c8c6-4dbd-9afc-3da404be4ec4"
      },
      "execution_count": 88,
      "outputs": [
        {
          "output_type": "stream",
          "name": "stderr",
          "text": [
            "\u001b[1m\u001b[22m`summarise()` has grouped output by 'status'. You can override using the\n",
            "`.groups` argument.\n"
          ]
        },
        {
          "output_type": "stream",
          "name": "stdout",
          "text": [
            "\u001b[90m# A tibble: 75 × 5\u001b[39m\n",
            "\u001b[90m# Groups:   status [9]\u001b[39m\n",
            "   status        month mean_wind median_wind count_wind\n",
            "   \u001b[3m\u001b[90m<fct>\u001b[39m\u001b[23m         \u001b[3m\u001b[90m<dbl>\u001b[39m\u001b[23m     \u001b[3m\u001b[90m<dbl>\u001b[39m\u001b[23m       \u001b[3m\u001b[90m<dbl>\u001b[39m\u001b[23m      \u001b[3m\u001b[90m<int>\u001b[39m\u001b[23m\n",
            "\u001b[90m 1\u001b[39m disturbance       6      34.6        35           35\n",
            "\u001b[90m 2\u001b[39m disturbance       7      30.2        27.5         46\n",
            "\u001b[90m 3\u001b[39m disturbance       8      31          30           25\n",
            "\u001b[90m 4\u001b[39m disturbance       9      26.1        25           41\n",
            "\u001b[90m 5\u001b[39m disturbance      10      30.9        30           16\n",
            "\u001b[90m 6\u001b[39m disturbance      11      24.4        25            8\n",
            "\u001b[90m 7\u001b[39m extratropical     1      54.0        55           29\n",
            "\u001b[90m 8\u001b[39m extratropical     4      37.6        35           40\n",
            "\u001b[90m 9\u001b[39m extratropical     5      42.2        45           18\n",
            "\u001b[90m10\u001b[39m extratropical     6      35.7        35          130\n",
            "\u001b[90m11\u001b[39m extratropical     7      36.5        35          135\n",
            "\u001b[90m12\u001b[39m extratropical     8      36.3        35          275\n",
            "\u001b[90m13\u001b[39m extratropical     9      43.2        45          800\n",
            "\u001b[90m14\u001b[39m extratropical    10      41.9        40          527\n",
            "\u001b[90m15\u001b[39m extratropical    11      47.1        45          183\n",
            "\u001b[90m16\u001b[39m extratropical    12      43.9        42.5         14\n",
            "\u001b[90m17\u001b[39m hurricane         1      70          70            5\n",
            "\u001b[90m18\u001b[39m hurricane         6      70.3        70           18\n",
            "\u001b[90m19\u001b[39m hurricane         7      80.9        75          221\n",
            "\u001b[90m20\u001b[39m hurricane         8      86.1        80         \u001b[4m1\u001b[24m038\n",
            "\u001b[90m21\u001b[39m hurricane         9      88.8        85         \u001b[4m2\u001b[24m464\n",
            "\u001b[90m22\u001b[39m hurricane        10      84.7        75          803\n",
            "\u001b[90m23\u001b[39m hurricane        11      81.7        75          221\n",
            "\u001b[90m24\u001b[39m hurricane        12      68.2        70           33\n",
            "\u001b[90m# ℹ 51 more rows\u001b[39m\n"
          ]
        }
      ]
    },
    {
      "cell_type": "markdown",
      "source": [
        "## <a name=\"quest6\">Question 6</a>\n",
        "\n",
        "---\n",
        "\n",
        "Create a data frame called `yearly_wind` that gives the maximum, minimum, and mean storm wind speed for the storms in each year of the `storms` data frame. Then subset the 5 rows of `yearly_wind` with the largest maximum wind speeds.\n",
        "\n",
        "<br>  \n"
      ],
      "metadata": {
        "id": "2dttFt0SzjuQ"
      }
    },
    {
      "cell_type": "markdown",
      "source": [
        "### <a name=\"sol6\">Solution to Question 6</a>\n",
        "\n",
        "---\n",
        "\n",
        "\n",
        "<br>  \n"
      ],
      "metadata": {
        "id": "8e5wfR57PnWg"
      }
    },
    {
      "cell_type": "code",
      "source": [],
      "metadata": {
        "id": "54wnQpvWQBXo"
      },
      "execution_count": null,
      "outputs": []
    },
    {
      "cell_type": "markdown",
      "source": [
        "## <a name=\"select\">`select()`</a>\n",
        "\n",
        "---\n",
        "\n",
        "\n",
        "The `select` function can be used to select columns of a data frame. You can get pretty creative in how you select the columns (e.g., using string matching), but we only consider some simple examples.\n",
        "\n",
        "- We can select specific columns of a data frame by providing the column names.\n",
        "- We can select the columns of `storms` that end in `meter`.\n",
        "- Run `?select` to see help documentation and more complex examples.\n",
        "\n"
      ],
      "metadata": {
        "id": "pRigYM_w2Atu"
      }
    },
    {
      "cell_type": "code",
      "source": [
        "# select just the lat and long columns from storms\n",
        "# prints the full data frame to screen which is not desirable\n",
        "# we should print summarized or condensed output\n",
        "select(storms, lat, long)"
      ],
      "metadata": {
        "id": "tls2craQ3tcS"
      },
      "execution_count": null,
      "outputs": []
    },
    {
      "cell_type": "code",
      "source": [
        "storms |>  # read in storms data\n",
        "  select(lat, long) |>  # select lat and long columns\n",
        "  print(n = 10)  # print first 10 rows"
      ],
      "metadata": {
        "colab": {
          "base_uri": "https://localhost:8080/"
        },
        "id": "wrrtMfiC4PIS",
        "outputId": "2a75a7b7-7340-44f1-9fb1-ccaad6d67382"
      },
      "execution_count": 89,
      "outputs": [
        {
          "output_type": "stream",
          "name": "stdout",
          "text": [
            "\u001b[90m# A tibble: 19,537 × 2\u001b[39m\n",
            "     lat  long\n",
            "   \u001b[3m\u001b[90m<dbl>\u001b[39m\u001b[23m \u001b[3m\u001b[90m<dbl>\u001b[39m\u001b[23m\n",
            "\u001b[90m 1\u001b[39m  27.5 -\u001b[31m79\u001b[39m  \n",
            "\u001b[90m 2\u001b[39m  28.5 -\u001b[31m79\u001b[39m  \n",
            "\u001b[90m 3\u001b[39m  29.5 -\u001b[31m79\u001b[39m  \n",
            "\u001b[90m 4\u001b[39m  30.5 -\u001b[31m79\u001b[39m  \n",
            "\u001b[90m 5\u001b[39m  31.5 -\u001b[31m78\u001b[39m\u001b[31m.\u001b[39m\u001b[31m8\u001b[39m\n",
            "\u001b[90m 6\u001b[39m  32.4 -\u001b[31m78\u001b[39m\u001b[31m.\u001b[39m\u001b[31m7\u001b[39m\n",
            "\u001b[90m 7\u001b[39m  33.3 -\u001b[31m78\u001b[39m  \n",
            "\u001b[90m 8\u001b[39m  34   -\u001b[31m77\u001b[39m  \n",
            "\u001b[90m 9\u001b[39m  34.4 -\u001b[31m75\u001b[39m\u001b[31m.\u001b[39m\u001b[31m8\u001b[39m\n",
            "\u001b[90m10\u001b[39m  34   -\u001b[31m74\u001b[39m\u001b[31m.\u001b[39m\u001b[31m8\u001b[39m\n",
            "\u001b[90m# ℹ 19,527 more rows\u001b[39m\n"
          ]
        }
      ]
    },
    {
      "cell_type": "code",
      "source": [
        "storms |>  # read in storms data\n",
        "  select(ends_with(\"meter\")) |>  # select rows that end with string \"meter\"\n",
        "  slice_head(n = 10)  # subset the first 10 rows"
      ],
      "metadata": {
        "colab": {
          "base_uri": "https://localhost:8080/",
          "height": 412
        },
        "id": "KFby1rED4UzH",
        "outputId": "94d7fbf0-338b-4801-cf34-11d4fac69244"
      },
      "execution_count": 76,
      "outputs": [
        {
          "output_type": "display_data",
          "data": {
            "text/html": [
              "<table class=\"dataframe\">\n",
              "<caption>A tibble: 10 × 2</caption>\n",
              "<thead>\n",
              "\t<tr><th scope=col>tropicalstorm_force_diameter</th><th scope=col>hurricane_force_diameter</th></tr>\n",
              "\t<tr><th scope=col>&lt;int&gt;</th><th scope=col>&lt;int&gt;</th></tr>\n",
              "</thead>\n",
              "<tbody>\n",
              "\t<tr><td>NA</td><td>NA</td></tr>\n",
              "\t<tr><td>NA</td><td>NA</td></tr>\n",
              "\t<tr><td>NA</td><td>NA</td></tr>\n",
              "\t<tr><td>NA</td><td>NA</td></tr>\n",
              "\t<tr><td>NA</td><td>NA</td></tr>\n",
              "\t<tr><td>NA</td><td>NA</td></tr>\n",
              "\t<tr><td>NA</td><td>NA</td></tr>\n",
              "\t<tr><td>NA</td><td>NA</td></tr>\n",
              "\t<tr><td>NA</td><td>NA</td></tr>\n",
              "\t<tr><td>NA</td><td>NA</td></tr>\n",
              "</tbody>\n",
              "</table>\n"
            ],
            "text/markdown": "\nA tibble: 10 × 2\n\n| tropicalstorm_force_diameter &lt;int&gt; | hurricane_force_diameter &lt;int&gt; |\n|---|---|\n| NA | NA |\n| NA | NA |\n| NA | NA |\n| NA | NA |\n| NA | NA |\n| NA | NA |\n| NA | NA |\n| NA | NA |\n| NA | NA |\n| NA | NA |\n\n",
            "text/latex": "A tibble: 10 × 2\n\\begin{tabular}{ll}\n tropicalstorm\\_force\\_diameter & hurricane\\_force\\_diameter\\\\\n <int> & <int>\\\\\n\\hline\n\t NA & NA\\\\\n\t NA & NA\\\\\n\t NA & NA\\\\\n\t NA & NA\\\\\n\t NA & NA\\\\\n\t NA & NA\\\\\n\t NA & NA\\\\\n\t NA & NA\\\\\n\t NA & NA\\\\\n\t NA & NA\\\\\n\\end{tabular}\n",
            "text/plain": [
              "   tropicalstorm_force_diameter hurricane_force_diameter\n",
              "1  NA                           NA                      \n",
              "2  NA                           NA                      \n",
              "3  NA                           NA                      \n",
              "4  NA                           NA                      \n",
              "5  NA                           NA                      \n",
              "6  NA                           NA                      \n",
              "7  NA                           NA                      \n",
              "8  NA                           NA                      \n",
              "9  NA                           NA                      \n",
              "10 NA                           NA                      "
            ]
          },
          "metadata": {}
        }
      ]
    },
    {
      "cell_type": "markdown",
      "source": [
        "## <a name=\"rename\">`rename()`</a>\n",
        "\n",
        "---\n",
        "\n",
        "The `rename()` function renames the columns of a data frame.\n",
        "\n",
        "- The syntax is `new_name = old_name`.\n",
        "\n",
        "In the example below, we rename the `tropicalstorm_force_diameter` column to `trop_diameter` and `hurricane_force_diameter` to `hurr_diameter`.\n",
        "\n"
      ],
      "metadata": {
        "id": "6Nur6-vC2B5W"
      }
    },
    {
      "cell_type": "code",
      "source": [
        "# renaming columns using base R\n",
        "names(storms)\n",
        "# names(storms)[12:13] <- c(\"trop_diameter\", \"hurr_diameter\")"
      ],
      "metadata": {
        "colab": {
          "base_uri": "https://localhost:8080/",
          "height": 34
        },
        "id": "16C8VK5I6Fcz",
        "outputId": "b1fd0ead-67ce-4555-a11d-2674b0af6dce"
      },
      "execution_count": 61,
      "outputs": [
        {
          "output_type": "display_data",
          "data": {
            "text/html": [
              "<style>\n",
              ".list-inline {list-style: none; margin:0; padding: 0}\n",
              ".list-inline>li {display: inline-block}\n",
              ".list-inline>li:not(:last-child)::after {content: \"\\00b7\"; padding: 0 .5ex}\n",
              "</style>\n",
              "<ol class=list-inline><li>'name'</li><li>'year'</li><li>'month'</li><li>'day'</li><li>'hour'</li><li>'lat'</li><li>'long'</li><li>'status'</li><li>'category'</li><li>'wind'</li><li>'pressure'</li><li>'tropicalstorm_force_diameter'</li><li>'hurricane_force_diameter'</li></ol>\n"
            ],
            "text/markdown": "1. 'name'\n2. 'year'\n3. 'month'\n4. 'day'\n5. 'hour'\n6. 'lat'\n7. 'long'\n8. 'status'\n9. 'category'\n10. 'wind'\n11. 'pressure'\n12. 'tropicalstorm_force_diameter'\n13. 'hurricane_force_diameter'\n\n\n",
            "text/latex": "\\begin{enumerate*}\n\\item 'name'\n\\item 'year'\n\\item 'month'\n\\item 'day'\n\\item 'hour'\n\\item 'lat'\n\\item 'long'\n\\item 'status'\n\\item 'category'\n\\item 'wind'\n\\item 'pressure'\n\\item 'tropicalstorm\\_force\\_diameter'\n\\item 'hurricane\\_force\\_diameter'\n\\end{enumerate*}\n",
            "text/plain": [
              " [1] \"name\"                         \"year\"                        \n",
              " [3] \"month\"                        \"day\"                         \n",
              " [5] \"hour\"                         \"lat\"                         \n",
              " [7] \"long\"                         \"status\"                      \n",
              " [9] \"category\"                     \"wind\"                        \n",
              "[11] \"pressure\"                     \"tropicalstorm_force_diameter\"\n",
              "[13] \"hurricane_force_diameter\"    "
            ]
          },
          "metadata": {}
        }
      ]
    },
    {
      "cell_type": "code",
      "source": [
        "# renaming columns using dplyr\n",
        "# this prints too much output to screen (full data set)\n",
        "rename(storms, trop_diameter = tropicalstorm_force_diameter, hurr_diameter = hurricane_force_diameter)"
      ],
      "metadata": {
        "id": "YGODtWdx6JuS"
      },
      "execution_count": null,
      "outputs": []
    },
    {
      "cell_type": "code",
      "source": [
        "# renaming columns using dplyr\n",
        "storms |>\n",
        "  rename(trop_diameter = tropicalstorm_force_diameter,\n",
        "         hurr_diameter = hurricane_force_diameter) |>\n",
        "  glimpse()  # display glimpse of data frame to screen"
      ],
      "metadata": {
        "colab": {
          "base_uri": "https://localhost:8080/"
        },
        "id": "gAvCIY7VMDvL",
        "outputId": "99b81b4e-d8ac-4c6f-a4c1-4955d83ac6f7"
      },
      "execution_count": 96,
      "outputs": [
        {
          "output_type": "stream",
          "name": "stdout",
          "text": [
            "Rows: 19,537\n",
            "Columns: 13\n",
            "$ name          \u001b[3m\u001b[90m<chr>\u001b[39m\u001b[23m \"Amy\", \"Amy\", \"Amy\", \"Amy\", \"Amy\", \"Amy\", \"Amy\", \"Amy\", …\n",
            "$ year          \u001b[3m\u001b[90m<dbl>\u001b[39m\u001b[23m 1975, 1975, 1975, 1975, 1975, 1975, 1975, 1975, 1975, 19…\n",
            "$ month         \u001b[3m\u001b[90m<dbl>\u001b[39m\u001b[23m 6, 6, 6, 6, 6, 6, 6, 6, 6, 6, 6, 6, 6, 6, 6, 6, 7, 7, 7,…\n",
            "$ day           \u001b[3m\u001b[90m<int>\u001b[39m\u001b[23m 27, 27, 27, 27, 28, 28, 28, 28, 29, 29, 29, 29, 30, 30, …\n",
            "$ hour          \u001b[3m\u001b[90m<dbl>\u001b[39m\u001b[23m 0, 6, 12, 18, 0, 6, 12, 18, 0, 6, 12, 18, 0, 6, 12, 18, …\n",
            "$ lat           \u001b[3m\u001b[90m<dbl>\u001b[39m\u001b[23m 27.5, 28.5, 29.5, 30.5, 31.5, 32.4, 33.3, 34.0, 34.4, 34…\n",
            "$ long          \u001b[3m\u001b[90m<dbl>\u001b[39m\u001b[23m -79.0, -79.0, -79.0, -79.0, -78.8, -78.7, -78.0, -77.0, …\n",
            "$ status        \u001b[3m\u001b[90m<fct>\u001b[39m\u001b[23m tropical depression, tropical depression, tropical depre…\n",
            "$ category      \u001b[3m\u001b[90m<dbl>\u001b[39m\u001b[23m \u001b[31mNA\u001b[39m, \u001b[31mNA\u001b[39m, \u001b[31mNA\u001b[39m, \u001b[31mNA\u001b[39m, \u001b[31mNA\u001b[39m, \u001b[31mNA\u001b[39m, \u001b[31mNA\u001b[39m, \u001b[31mNA\u001b[39m, \u001b[31mNA\u001b[39m, \u001b[31mNA\u001b[39m, \u001b[31mNA\u001b[39m, \u001b[31mNA\u001b[39m, \u001b[31mNA\u001b[39m, \u001b[31mNA\u001b[39m, …\n",
            "$ wind          \u001b[3m\u001b[90m<int>\u001b[39m\u001b[23m 25, 25, 25, 25, 25, 25, 25, 30, 35, 40, 45, 50, 50, 55, …\n",
            "$ pressure      \u001b[3m\u001b[90m<int>\u001b[39m\u001b[23m 1013, 1013, 1013, 1013, 1012, 1012, 1011, 1006, 1004, 10…\n",
            "$ trop_diameter \u001b[3m\u001b[90m<int>\u001b[39m\u001b[23m \u001b[31mNA\u001b[39m, \u001b[31mNA\u001b[39m, \u001b[31mNA\u001b[39m, \u001b[31mNA\u001b[39m, \u001b[31mNA\u001b[39m, \u001b[31mNA\u001b[39m, \u001b[31mNA\u001b[39m, \u001b[31mNA\u001b[39m, \u001b[31mNA\u001b[39m, \u001b[31mNA\u001b[39m, \u001b[31mNA\u001b[39m, \u001b[31mNA\u001b[39m, \u001b[31mNA\u001b[39m, \u001b[31mNA\u001b[39m, …\n",
            "$ hurr_diameter \u001b[3m\u001b[90m<int>\u001b[39m\u001b[23m \u001b[31mNA\u001b[39m, \u001b[31mNA\u001b[39m, \u001b[31mNA\u001b[39m, \u001b[31mNA\u001b[39m, \u001b[31mNA\u001b[39m, \u001b[31mNA\u001b[39m, \u001b[31mNA\u001b[39m, \u001b[31mNA\u001b[39m, \u001b[31mNA\u001b[39m, \u001b[31mNA\u001b[39m, \u001b[31mNA\u001b[39m, \u001b[31mNA\u001b[39m, \u001b[31mNA\u001b[39m, \u001b[31mNA\u001b[39m, …\n"
          ]
        }
      ]
    },
    {
      "cell_type": "markdown",
      "source": [
        "## <a name=\"mutate\">`mutate()`</a>\n",
        "\n",
        "---\n",
        "\n",
        "\n",
        "The `mutate` function modifies an existing column or can create a new column from the existing columns.\n",
        "\n",
        "- To create a new column, the syntax is `new_column = function(existing_columns)`.\n",
        "- To modify an existing column, the syntax is `existing_column = function(existing_columns)`.\n",
        "  \n"
      ],
      "metadata": {
        "id": "65_6CS5f2FPc"
      }
    },
    {
      "cell_type": "markdown",
      "source": [
        "## <a name=\"quest7\">Question 7</a>\n",
        "\n",
        "---\n",
        "\n",
        "\n",
        "The variable `wind` in `storms` gives the storm's maximum sustained wind speed in knots. 1 knot is equal to $1.15078$ miles per hour. In the code cell below, tranform `wind` into a new variable named `wind_mph` that gives the storm's maximum sustained wind speed in miles per hour instead of knots. Then select the two wind columns (`wind` and `wind_mph`) and print the first 10 rows of those two columns.\n",
        "\n",
        "<br>  \n"
      ],
      "metadata": {
        "id": "njyfM_iE84YO"
      }
    },
    {
      "cell_type": "markdown",
      "source": [
        "### <a name=\"sol7\">Solution to Question 7</a>\n",
        "\n",
        "---\n",
        "\n",
        "\n",
        "<br>  \n"
      ],
      "metadata": {
        "id": "GcpoIUXZPdzz"
      }
    },
    {
      "cell_type": "code",
      "source": [],
      "metadata": {
        "id": "6ICpQH2qQDTL"
      },
      "execution_count": null,
      "outputs": []
    },
    {
      "cell_type": "markdown",
      "source": [
        "## <a name=\"relocate\">`relocate()`</a>\n",
        "\n",
        "---\n",
        "\n",
        "\n",
        "The `relocate` function moves one or more columns.\n",
        "\n",
        "- By default the column is moved to the front of the data frame.\n",
        "- The `.before` and `.after` arguments can be used to specify where the columns should be placed.\n"
      ],
      "metadata": {
        "id": "GYLimi4i2DW2"
      }
    },
    {
      "cell_type": "code",
      "execution_count": 98,
      "metadata": {
        "id": "mneDtRG0dgHj",
        "colab": {
          "base_uri": "https://localhost:8080/",
          "height": 255
        },
        "outputId": "93b21821-4768-4062-8ee8-03a2b31e9c40"
      },
      "outputs": [
        {
          "output_type": "display_data",
          "data": {
            "text/html": [
              "<table class=\"dataframe\">\n",
              "<caption>A tibble: 5 × 13</caption>\n",
              "<thead>\n",
              "\t<tr><th scope=col>pressure</th><th scope=col>name</th><th scope=col>year</th><th scope=col>month</th><th scope=col>day</th><th scope=col>hour</th><th scope=col>lat</th><th scope=col>long</th><th scope=col>status</th><th scope=col>category</th><th scope=col>wind</th><th scope=col>tropicalstorm_force_diameter</th><th scope=col>hurricane_force_diameter</th></tr>\n",
              "\t<tr><th scope=col>&lt;int&gt;</th><th scope=col>&lt;chr&gt;</th><th scope=col>&lt;dbl&gt;</th><th scope=col>&lt;dbl&gt;</th><th scope=col>&lt;int&gt;</th><th scope=col>&lt;dbl&gt;</th><th scope=col>&lt;dbl&gt;</th><th scope=col>&lt;dbl&gt;</th><th scope=col>&lt;fct&gt;</th><th scope=col>&lt;dbl&gt;</th><th scope=col>&lt;int&gt;</th><th scope=col>&lt;int&gt;</th><th scope=col>&lt;int&gt;</th></tr>\n",
              "</thead>\n",
              "<tbody>\n",
              "\t<tr><td>1013</td><td>Amy</td><td>1975</td><td>6</td><td>27</td><td> 0</td><td>27.5</td><td>-79.0</td><td>tropical depression</td><td>NA</td><td>25</td><td>NA</td><td>NA</td></tr>\n",
              "\t<tr><td>1013</td><td>Amy</td><td>1975</td><td>6</td><td>27</td><td> 6</td><td>28.5</td><td>-79.0</td><td>tropical depression</td><td>NA</td><td>25</td><td>NA</td><td>NA</td></tr>\n",
              "\t<tr><td>1013</td><td>Amy</td><td>1975</td><td>6</td><td>27</td><td>12</td><td>29.5</td><td>-79.0</td><td>tropical depression</td><td>NA</td><td>25</td><td>NA</td><td>NA</td></tr>\n",
              "\t<tr><td>1013</td><td>Amy</td><td>1975</td><td>6</td><td>27</td><td>18</td><td>30.5</td><td>-79.0</td><td>tropical depression</td><td>NA</td><td>25</td><td>NA</td><td>NA</td></tr>\n",
              "\t<tr><td>1012</td><td>Amy</td><td>1975</td><td>6</td><td>28</td><td> 0</td><td>31.5</td><td>-78.8</td><td>tropical depression</td><td>NA</td><td>25</td><td>NA</td><td>NA</td></tr>\n",
              "</tbody>\n",
              "</table>\n"
            ],
            "text/markdown": "\nA tibble: 5 × 13\n\n| pressure &lt;int&gt; | name &lt;chr&gt; | year &lt;dbl&gt; | month &lt;dbl&gt; | day &lt;int&gt; | hour &lt;dbl&gt; | lat &lt;dbl&gt; | long &lt;dbl&gt; | status &lt;fct&gt; | category &lt;dbl&gt; | wind &lt;int&gt; | tropicalstorm_force_diameter &lt;int&gt; | hurricane_force_diameter &lt;int&gt; |\n|---|---|---|---|---|---|---|---|---|---|---|---|---|\n| 1013 | Amy | 1975 | 6 | 27 |  0 | 27.5 | -79.0 | tropical depression | NA | 25 | NA | NA |\n| 1013 | Amy | 1975 | 6 | 27 |  6 | 28.5 | -79.0 | tropical depression | NA | 25 | NA | NA |\n| 1013 | Amy | 1975 | 6 | 27 | 12 | 29.5 | -79.0 | tropical depression | NA | 25 | NA | NA |\n| 1013 | Amy | 1975 | 6 | 27 | 18 | 30.5 | -79.0 | tropical depression | NA | 25 | NA | NA |\n| 1012 | Amy | 1975 | 6 | 28 |  0 | 31.5 | -78.8 | tropical depression | NA | 25 | NA | NA |\n\n",
            "text/latex": "A tibble: 5 × 13\n\\begin{tabular}{lllllllllllll}\n pressure & name & year & month & day & hour & lat & long & status & category & wind & tropicalstorm\\_force\\_diameter & hurricane\\_force\\_diameter\\\\\n <int> & <chr> & <dbl> & <dbl> & <int> & <dbl> & <dbl> & <dbl> & <fct> & <dbl> & <int> & <int> & <int>\\\\\n\\hline\n\t 1013 & Amy & 1975 & 6 & 27 &  0 & 27.5 & -79.0 & tropical depression & NA & 25 & NA & NA\\\\\n\t 1013 & Amy & 1975 & 6 & 27 &  6 & 28.5 & -79.0 & tropical depression & NA & 25 & NA & NA\\\\\n\t 1013 & Amy & 1975 & 6 & 27 & 12 & 29.5 & -79.0 & tropical depression & NA & 25 & NA & NA\\\\\n\t 1013 & Amy & 1975 & 6 & 27 & 18 & 30.5 & -79.0 & tropical depression & NA & 25 & NA & NA\\\\\n\t 1012 & Amy & 1975 & 6 & 28 &  0 & 31.5 & -78.8 & tropical depression & NA & 25 & NA & NA\\\\\n\\end{tabular}\n",
            "text/plain": [
              "  pressure name year month day hour lat  long  status              category\n",
              "1 1013     Amy  1975 6     27   0   27.5 -79.0 tropical depression NA      \n",
              "2 1013     Amy  1975 6     27   6   28.5 -79.0 tropical depression NA      \n",
              "3 1013     Amy  1975 6     27  12   29.5 -79.0 tropical depression NA      \n",
              "4 1013     Amy  1975 6     27  18   30.5 -79.0 tropical depression NA      \n",
              "5 1012     Amy  1975 6     28   0   31.5 -78.8 tropical depression NA      \n",
              "  wind tropicalstorm_force_diameter hurricane_force_diameter\n",
              "1 25   NA                           NA                      \n",
              "2 25   NA                           NA                      \n",
              "3 25   NA                           NA                      \n",
              "4 25   NA                           NA                      \n",
              "5 25   NA                           NA                      "
            ]
          },
          "metadata": {}
        }
      ],
      "source": [
        "# move pressure to first column\n",
        "storms |>\n",
        "  relocate(pressure) |>\n",
        "  slice_head(n = 5)"
      ]
    },
    {
      "cell_type": "code",
      "source": [
        "# move pressure and status to after wind column\n",
        "storms |>\n",
        "  relocate(pressure, status, .after = wind) |>\n",
        "  slice_head(n = 5)"
      ],
      "metadata": {
        "colab": {
          "base_uri": "https://localhost:8080/",
          "height": 255
        },
        "id": "tRJi2vvs-_oG",
        "outputId": "b120c8b3-32b2-40ca-f582-d9a8a7293467"
      },
      "execution_count": 99,
      "outputs": [
        {
          "output_type": "display_data",
          "data": {
            "text/html": [
              "<table class=\"dataframe\">\n",
              "<caption>A tibble: 5 × 13</caption>\n",
              "<thead>\n",
              "\t<tr><th scope=col>name</th><th scope=col>year</th><th scope=col>month</th><th scope=col>day</th><th scope=col>hour</th><th scope=col>lat</th><th scope=col>long</th><th scope=col>category</th><th scope=col>wind</th><th scope=col>pressure</th><th scope=col>status</th><th scope=col>tropicalstorm_force_diameter</th><th scope=col>hurricane_force_diameter</th></tr>\n",
              "\t<tr><th scope=col>&lt;chr&gt;</th><th scope=col>&lt;dbl&gt;</th><th scope=col>&lt;dbl&gt;</th><th scope=col>&lt;int&gt;</th><th scope=col>&lt;dbl&gt;</th><th scope=col>&lt;dbl&gt;</th><th scope=col>&lt;dbl&gt;</th><th scope=col>&lt;dbl&gt;</th><th scope=col>&lt;int&gt;</th><th scope=col>&lt;int&gt;</th><th scope=col>&lt;fct&gt;</th><th scope=col>&lt;int&gt;</th><th scope=col>&lt;int&gt;</th></tr>\n",
              "</thead>\n",
              "<tbody>\n",
              "\t<tr><td>Amy</td><td>1975</td><td>6</td><td>27</td><td> 0</td><td>27.5</td><td>-79.0</td><td>NA</td><td>25</td><td>1013</td><td>tropical depression</td><td>NA</td><td>NA</td></tr>\n",
              "\t<tr><td>Amy</td><td>1975</td><td>6</td><td>27</td><td> 6</td><td>28.5</td><td>-79.0</td><td>NA</td><td>25</td><td>1013</td><td>tropical depression</td><td>NA</td><td>NA</td></tr>\n",
              "\t<tr><td>Amy</td><td>1975</td><td>6</td><td>27</td><td>12</td><td>29.5</td><td>-79.0</td><td>NA</td><td>25</td><td>1013</td><td>tropical depression</td><td>NA</td><td>NA</td></tr>\n",
              "\t<tr><td>Amy</td><td>1975</td><td>6</td><td>27</td><td>18</td><td>30.5</td><td>-79.0</td><td>NA</td><td>25</td><td>1013</td><td>tropical depression</td><td>NA</td><td>NA</td></tr>\n",
              "\t<tr><td>Amy</td><td>1975</td><td>6</td><td>28</td><td> 0</td><td>31.5</td><td>-78.8</td><td>NA</td><td>25</td><td>1012</td><td>tropical depression</td><td>NA</td><td>NA</td></tr>\n",
              "</tbody>\n",
              "</table>\n"
            ],
            "text/markdown": "\nA tibble: 5 × 13\n\n| name &lt;chr&gt; | year &lt;dbl&gt; | month &lt;dbl&gt; | day &lt;int&gt; | hour &lt;dbl&gt; | lat &lt;dbl&gt; | long &lt;dbl&gt; | category &lt;dbl&gt; | wind &lt;int&gt; | pressure &lt;int&gt; | status &lt;fct&gt; | tropicalstorm_force_diameter &lt;int&gt; | hurricane_force_diameter &lt;int&gt; |\n|---|---|---|---|---|---|---|---|---|---|---|---|---|\n| Amy | 1975 | 6 | 27 |  0 | 27.5 | -79.0 | NA | 25 | 1013 | tropical depression | NA | NA |\n| Amy | 1975 | 6 | 27 |  6 | 28.5 | -79.0 | NA | 25 | 1013 | tropical depression | NA | NA |\n| Amy | 1975 | 6 | 27 | 12 | 29.5 | -79.0 | NA | 25 | 1013 | tropical depression | NA | NA |\n| Amy | 1975 | 6 | 27 | 18 | 30.5 | -79.0 | NA | 25 | 1013 | tropical depression | NA | NA |\n| Amy | 1975 | 6 | 28 |  0 | 31.5 | -78.8 | NA | 25 | 1012 | tropical depression | NA | NA |\n\n",
            "text/latex": "A tibble: 5 × 13\n\\begin{tabular}{lllllllllllll}\n name & year & month & day & hour & lat & long & category & wind & pressure & status & tropicalstorm\\_force\\_diameter & hurricane\\_force\\_diameter\\\\\n <chr> & <dbl> & <dbl> & <int> & <dbl> & <dbl> & <dbl> & <dbl> & <int> & <int> & <fct> & <int> & <int>\\\\\n\\hline\n\t Amy & 1975 & 6 & 27 &  0 & 27.5 & -79.0 & NA & 25 & 1013 & tropical depression & NA & NA\\\\\n\t Amy & 1975 & 6 & 27 &  6 & 28.5 & -79.0 & NA & 25 & 1013 & tropical depression & NA & NA\\\\\n\t Amy & 1975 & 6 & 27 & 12 & 29.5 & -79.0 & NA & 25 & 1013 & tropical depression & NA & NA\\\\\n\t Amy & 1975 & 6 & 27 & 18 & 30.5 & -79.0 & NA & 25 & 1013 & tropical depression & NA & NA\\\\\n\t Amy & 1975 & 6 & 28 &  0 & 31.5 & -78.8 & NA & 25 & 1012 & tropical depression & NA & NA\\\\\n\\end{tabular}\n",
            "text/plain": [
              "  name year month day hour lat  long  category wind pressure\n",
              "1 Amy  1975 6     27   0   27.5 -79.0 NA       25   1013    \n",
              "2 Amy  1975 6     27   6   28.5 -79.0 NA       25   1013    \n",
              "3 Amy  1975 6     27  12   29.5 -79.0 NA       25   1013    \n",
              "4 Amy  1975 6     27  18   30.5 -79.0 NA       25   1013    \n",
              "5 Amy  1975 6     28   0   31.5 -78.8 NA       25   1012    \n",
              "  status              tropicalstorm_force_diameter hurricane_force_diameter\n",
              "1 tropical depression NA                           NA                      \n",
              "2 tropical depression NA                           NA                      \n",
              "3 tropical depression NA                           NA                      \n",
              "4 tropical depression NA                           NA                      \n",
              "5 tropical depression NA                           NA                      "
            ]
          },
          "metadata": {}
        }
      ]
    },
    {
      "cell_type": "code",
      "source": [
        "# move all columns ending in `meter` to before the `status` column.\n",
        "storms |>\n",
        "  relocate(ends_with(\"meter\"), .before = status) |>\n",
        "  slice_head(n = 5)"
      ],
      "metadata": {
        "colab": {
          "base_uri": "https://localhost:8080/",
          "height": 255
        },
        "outputId": "3b440784-5d4f-4bba-8194-a06711e1f0a4",
        "id": "Kzwi1OUw_UV2"
      },
      "execution_count": 100,
      "outputs": [
        {
          "output_type": "display_data",
          "data": {
            "text/html": [
              "<table class=\"dataframe\">\n",
              "<caption>A tibble: 5 × 13</caption>\n",
              "<thead>\n",
              "\t<tr><th scope=col>name</th><th scope=col>year</th><th scope=col>month</th><th scope=col>day</th><th scope=col>hour</th><th scope=col>lat</th><th scope=col>long</th><th scope=col>tropicalstorm_force_diameter</th><th scope=col>hurricane_force_diameter</th><th scope=col>status</th><th scope=col>category</th><th scope=col>wind</th><th scope=col>pressure</th></tr>\n",
              "\t<tr><th scope=col>&lt;chr&gt;</th><th scope=col>&lt;dbl&gt;</th><th scope=col>&lt;dbl&gt;</th><th scope=col>&lt;int&gt;</th><th scope=col>&lt;dbl&gt;</th><th scope=col>&lt;dbl&gt;</th><th scope=col>&lt;dbl&gt;</th><th scope=col>&lt;int&gt;</th><th scope=col>&lt;int&gt;</th><th scope=col>&lt;fct&gt;</th><th scope=col>&lt;dbl&gt;</th><th scope=col>&lt;int&gt;</th><th scope=col>&lt;int&gt;</th></tr>\n",
              "</thead>\n",
              "<tbody>\n",
              "\t<tr><td>Amy</td><td>1975</td><td>6</td><td>27</td><td> 0</td><td>27.5</td><td>-79.0</td><td>NA</td><td>NA</td><td>tropical depression</td><td>NA</td><td>25</td><td>1013</td></tr>\n",
              "\t<tr><td>Amy</td><td>1975</td><td>6</td><td>27</td><td> 6</td><td>28.5</td><td>-79.0</td><td>NA</td><td>NA</td><td>tropical depression</td><td>NA</td><td>25</td><td>1013</td></tr>\n",
              "\t<tr><td>Amy</td><td>1975</td><td>6</td><td>27</td><td>12</td><td>29.5</td><td>-79.0</td><td>NA</td><td>NA</td><td>tropical depression</td><td>NA</td><td>25</td><td>1013</td></tr>\n",
              "\t<tr><td>Amy</td><td>1975</td><td>6</td><td>27</td><td>18</td><td>30.5</td><td>-79.0</td><td>NA</td><td>NA</td><td>tropical depression</td><td>NA</td><td>25</td><td>1013</td></tr>\n",
              "\t<tr><td>Amy</td><td>1975</td><td>6</td><td>28</td><td> 0</td><td>31.5</td><td>-78.8</td><td>NA</td><td>NA</td><td>tropical depression</td><td>NA</td><td>25</td><td>1012</td></tr>\n",
              "</tbody>\n",
              "</table>\n"
            ],
            "text/markdown": "\nA tibble: 5 × 13\n\n| name &lt;chr&gt; | year &lt;dbl&gt; | month &lt;dbl&gt; | day &lt;int&gt; | hour &lt;dbl&gt; | lat &lt;dbl&gt; | long &lt;dbl&gt; | tropicalstorm_force_diameter &lt;int&gt; | hurricane_force_diameter &lt;int&gt; | status &lt;fct&gt; | category &lt;dbl&gt; | wind &lt;int&gt; | pressure &lt;int&gt; |\n|---|---|---|---|---|---|---|---|---|---|---|---|---|\n| Amy | 1975 | 6 | 27 |  0 | 27.5 | -79.0 | NA | NA | tropical depression | NA | 25 | 1013 |\n| Amy | 1975 | 6 | 27 |  6 | 28.5 | -79.0 | NA | NA | tropical depression | NA | 25 | 1013 |\n| Amy | 1975 | 6 | 27 | 12 | 29.5 | -79.0 | NA | NA | tropical depression | NA | 25 | 1013 |\n| Amy | 1975 | 6 | 27 | 18 | 30.5 | -79.0 | NA | NA | tropical depression | NA | 25 | 1013 |\n| Amy | 1975 | 6 | 28 |  0 | 31.5 | -78.8 | NA | NA | tropical depression | NA | 25 | 1012 |\n\n",
            "text/latex": "A tibble: 5 × 13\n\\begin{tabular}{lllllllllllll}\n name & year & month & day & hour & lat & long & tropicalstorm\\_force\\_diameter & hurricane\\_force\\_diameter & status & category & wind & pressure\\\\\n <chr> & <dbl> & <dbl> & <int> & <dbl> & <dbl> & <dbl> & <int> & <int> & <fct> & <dbl> & <int> & <int>\\\\\n\\hline\n\t Amy & 1975 & 6 & 27 &  0 & 27.5 & -79.0 & NA & NA & tropical depression & NA & 25 & 1013\\\\\n\t Amy & 1975 & 6 & 27 &  6 & 28.5 & -79.0 & NA & NA & tropical depression & NA & 25 & 1013\\\\\n\t Amy & 1975 & 6 & 27 & 12 & 29.5 & -79.0 & NA & NA & tropical depression & NA & 25 & 1013\\\\\n\t Amy & 1975 & 6 & 27 & 18 & 30.5 & -79.0 & NA & NA & tropical depression & NA & 25 & 1013\\\\\n\t Amy & 1975 & 6 & 28 &  0 & 31.5 & -78.8 & NA & NA & tropical depression & NA & 25 & 1012\\\\\n\\end{tabular}\n",
            "text/plain": [
              "  name year month day hour lat  long  tropicalstorm_force_diameter\n",
              "1 Amy  1975 6     27   0   27.5 -79.0 NA                          \n",
              "2 Amy  1975 6     27   6   28.5 -79.0 NA                          \n",
              "3 Amy  1975 6     27  12   29.5 -79.0 NA                          \n",
              "4 Amy  1975 6     27  18   30.5 -79.0 NA                          \n",
              "5 Amy  1975 6     28   0   31.5 -78.8 NA                          \n",
              "  hurricane_force_diameter status              category wind pressure\n",
              "1 NA                       tropical depression NA       25   1013    \n",
              "2 NA                       tropical depression NA       25   1013    \n",
              "3 NA                       tropical depression NA       25   1013    \n",
              "4 NA                       tropical depression NA       25   1013    \n",
              "5 NA                       tropical depression NA       25   1012    "
            ]
          },
          "metadata": {}
        }
      ]
    },
    {
      "cell_type": "markdown",
      "source": [
        "## <a name=\"CC License\">Creative Commons License Information</a>\n",
        "---\n",
        "\n",
        "![Creative Commons\n",
        "License](https://i.creativecommons.org/l/by-nc-sa/4.0/88x31.png)\n",
        "\n",
        "Materials created by the [Department of Mathematical and Statistical Sciences at the University of Colorado Denver](https://github.com/CU-Denver-MathStats-OER/)\n",
        "and is licensed under a [Creative Commons\n",
        "Attribution-NonCommercial-ShareAlike 4.0 International\n",
        "License](http://creativecommons.org/licenses/by-nc-sa/4.0/)."
      ],
      "metadata": {
        "id": "WS8w_KQF5ym4"
      }
    }
  ]
}