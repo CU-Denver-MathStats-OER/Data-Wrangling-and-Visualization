{
  "nbformat": 4,
  "nbformat_minor": 0,
  "metadata": {
    "colab": {
      "provenance": [],
      "authorship_tag": "ABX9TyMCg2QAJbQwGbtGE06G7YVy"
    },
    "kernelspec": {
      "name": "ir",
      "display_name": "R"
    },
    "language_info": {
      "name": "R"
    }
  },
  "cells": [
    {
      "cell_type": "markdown",
      "source": [
        "[![Open In Colab](https://colab.research.google.com/assets/colab-badge.svg)](https://githubtocolab.com/CU-Denver-MathStats-OER/Data-Wrangling-and-Visualization/blob/main/01-Intro-to-R-and-Colab.ipynb)\n",
        "\n"
      ],
      "metadata": {
        "id": "WaUpDHKEpNrt"
      }
    },
    {
      "cell_type": "markdown",
      "source": [
        "# <a name=\"01-title\"><font size=\"6\">Introduction to R and Google Colaboratory</font></a>\n",
        "\n",
        "---"
      ],
      "metadata": {
        "id": "o17v0QRZomgK"
      }
    },
    {
      "cell_type": "markdown",
      "source": [
        "# <a name=\"01-intro\">Programming with R</a>\n",
        "\n",
        "---\n",
        "\n",
        "[R](https://www.r-project.org/about.html) is a programming language used largely for statistical computing, data wrangling and visualization.\n",
        "\n",
        "- It is modeled after the _S_ programming language.\n",
        "- It was introduced by Robert Gentleman and Robert Ihaka in 1993.\n",
        "\n",
        "\n",
        "The first stable version of R was released in 2000, and after all of this time, there is a large community of R users that have created many useful scripts, packages, and data sets that openly shared and updated.\n",
        "\n",
        "- <font color=\"dodgerblue\">**R is free and open source software**</font>.\n",
        "- R runs on Windows, Mac, Linux, and other types of computers.\n",
        "- R runs on cloud-based software such as [Google Colab](https://colab.research.google.com/) and [Posit Cloud](https://posit.cloud/).\n",
        "- R is an <font color=\"dodgerblue\">**interactive programming language**</font>.\n",
        "  - You type and execute a command in the Console for immediate feedback.\n",
        "  - In contrast, a compiled programming language compiles a program that is then executed.\n",
        "- R is highly extendable.\n",
        "  - Many user-created packages are available to extend the functionality beyond what is installed by default.\n",
        "  - Users can write their own functions and easily add software libraries to R.\n",
        "\n",
        "\n"
      ],
      "metadata": {
        "id": "NuTDX7yD_qfH"
      }
    },
    {
      "cell_type": "markdown",
      "source": [
        "# <a name=\"01-colab\">What is Google Colaboratory (Colab)?</a>\n",
        "\n",
        "---\n",
        "\n",
        "\n",
        "We will use the open source Google Colaboratory (or Colab) to interact, edit, and save interactive Jupyter notebooks where we'll play around with R to help us explore methods for wrangling and visualizing data. <font color=\"dodgerblue\">**You do not need to purchase or install any software for this course!**</font>\n",
        "\n",
        "\n",
        "- Jupyter, [https://jupyter.org/](https://jupyter.org/), is a free software used for coding and interactive computing.\n",
        "  - Jupyter notebooks are a dynamic environment to synthesize narrative text, executable R (and Python) code, visualizations, videos, and more.\n",
        "- Google Colaboratory (or Colab, [https://colab.research.google.com](https://colab.research.google.com)), is a free, cloud-based application used at universities, research labs, and companies around the world.\n",
        "  - You can open a Colab notebook in any web browser.\n",
        "  - A device with a connection and a web browser is the only requirement.\n",
        "- Below are several links to Google resources for getting started with Colab.\n",
        "  - Watch Google's [Introduction to Colab video](https://www.youtube.com/watch?v=inN8seMm7UI) to learn more.\n",
        "  - Open [Google's Welcome to Colab notebook](https://colab.research.google.com/?utm_source=scs-index).\n",
        "  - Open a [tutorial video on how to edit and run code cells in Colab](https://youtu.be/kbIy_8rVZYo)."
      ],
      "metadata": {
        "id": "dMnfpSOHfQVV"
      }
    },
    {
      "cell_type": "markdown",
      "source": [
        "## <a name=\"01-navigate\">Navigating a Colab Notebook</a>\n",
        "\n",
        "---\n",
        "\n",
        "\n",
        "This is an interactive document that contains two types of cells.\n",
        "\n",
        "- <font color=\"dodgerblue\">**Text cells**</font> are used for typing Markdown text (similar to Word).\n",
        "  - For example, this is a text cell!\n",
        "  - Double-click on an existing text cell to edit the text.\n",
        "- <font color=\"dodgerblue\">**Code cells**</font> are used to insert, edit, run, and view/store output of Python code.\n",
        "  - Click on a code cell to edit the code.\n",
        "  - Click the play button in the upper left corner of a code cell to run it.\n",
        "  - Or use the keyboard shortcut `Shift + Return/Enter` to run a code cell.\n",
        "- Run the code cell below to compute `731 * 123`.\n",
        "\n"
      ],
      "metadata": {
        "id": "69mQEwUkLh14"
      }
    },
    {
      "cell_type": "code",
      "source": [
        "731 * 123  # run to compute the product"
      ],
      "metadata": {
        "id": "Df9aO3T3_eqq"
      },
      "execution_count": null,
      "outputs": []
    },
    {
      "cell_type": "markdown",
      "source": [
        "<font color=\"dodgerblue\">To add a new text or code cell to a Colab notebook</font>, hover the pointer over the upper or lower border of an existing cell and:\n",
        "\n",
        "- Click the `+ Code` button to add a new code cell.\n",
        "- Click the `+ Text` button to add a new text cell.\n",
        "- We can also delete, reorder, and add comments to cells using the buttons in the upper right corner of an active cell.\n",
        "\n",
        "A <font color=\"dodgerblue\">Table of Contents</font> can be opened (and closed) along the left side of this window for quickly linking to other parts of this document.\n",
        "\n",
        "- Expand and collapse sections to improve navigating around longer documents.\n",
        "\n"
      ],
      "metadata": {
        "id": "0Tb1XTDB_dZi"
      }
    },
    {
      "cell_type": "markdown",
      "source": [
        "## <a name=\"01-save\">Saving Your Work to a Colab Notebook</a>\n",
        "\n",
        "---\n",
        "\n",
        "This notebook is a shared Colab notebook available for anyone to view. However, since everyone is sharing this notebook, you do not have permission to save changes to this shared Colab notebook. In order to save your work:\n",
        "\n",
        "1. You will need to set up a free Google Drive account. If you already have a Google Drive account, you are ready to go!\n",
        "2. Click the `Copy to Drive` button to the right of the `+ Code` and `+ Text` buttons on top of the notebook.\n",
        "3. Select from the menu `File/Save a Copy in Drive`.\n",
        "  - By default, the notebook will be saved in a folder named **Colab Notebooks** in your Drive.\n",
        "  - Feel free to rename and store the notebook wherever you like.\n"
      ],
      "metadata": {
        "id": "XQYAZYMYHani"
      }
    },
    {
      "cell_type": "markdown",
      "source": [
        "# <a name=\"workflow-basics\">Workflow Basics of Programming  in R</a>\n",
        "\n",
        "---\n",
        "\n",
        "Reading: See [Section 2](https://r4ds.hadley.nz/workflow-basics) of R for Data Science for more details."
      ],
      "metadata": {
        "id": "J0ugGK93te8E"
      }
    },
    {
      "cell_type": "markdown",
      "source": [
        "## <a name=\"01-run\">Running R Code Cells</a>\n",
        "\n",
        "---\n",
        "\n",
        "\n",
        "We can use R to do basic math calculations and display the result to the screen. To run the code, either:\n",
        "\n",
        "- Click the play button in the upper left corner of the code cell.\n",
        "- Or use the keyboard shortcut `Shift + Return/Enter`.\n",
        "\n",
        "If the code compiles without an error, a green check appears. If the code crashes, a red exclamation point appears along with an error message.\n"
      ],
      "metadata": {
        "id": "nLe16t6wLa0N"
      }
    },
    {
      "cell_type": "code",
      "source": [
        "sqrt(3 + 4)  # using R as a calculator"
      ],
      "metadata": {
        "id": "A56OIQVaLUeJ"
      },
      "execution_count": null,
      "outputs": []
    },
    {
      "cell_type": "code",
      "source": [
        "sqrt(3 - z)"
      ],
      "metadata": {
        "id": "n7lxRMZwunZd"
      },
      "execution_count": null,
      "outputs": []
    },
    {
      "cell_type": "markdown",
      "source": [
        "# <a name=\"assign\">Storing Output: Assignment of Objects</a>\n",
        "\n",
        "---\n",
        "\n",
        "You can create new <font color=\"dodgerblue\">**objects**</font> with the assignment operator `<-`.\n",
        "\n",
        "- <font color=\"tomato\">Caution: In R we use `<-` for the assignment operator, not the `=` character which used to set options inside functions.</font>"
      ],
      "metadata": {
        "id": "AUVXtGFXvOyW"
      }
    },
    {
      "cell_type": "code",
      "source": [
        "# create vector of integers from 1 to 9 with increments of 2\n",
        "x <- seq(1, 9, 2)"
      ],
      "metadata": {
        "id": "aSJHcP7vK5jd"
      },
      "execution_count": null,
      "outputs": []
    },
    {
      "cell_type": "markdown",
      "source": [
        "## <a name=\"printing\">Printing Output to Screen</a>\n",
        "\n",
        "---\n",
        "\n",
        "Although we do not see any output after running the previous code cell, the green check mark to the left of the play button indicates the code has successfully run.\n",
        "\n",
        "- We have stored the sequence of integers to vector `x`.\n",
        "- If we would like to see the value that is being stored in a `x`,  we need to instruct Python to **print the output to the screen**.\n",
        "- We can simply type the variable name `x` in a code cell to see the contents stored in `x`.\n",
        "\n"
      ],
      "metadata": {
        "id": "bWrxY2xrh25Y"
      }
    },
    {
      "cell_type": "markdown",
      "source": [
        "Note that the value of `x` is not printed, it's just stored. If you want to view the value, type `x` in the console."
      ],
      "metadata": {
        "id": "ANlC6H3Iwyk-"
      }
    },
    {
      "cell_type": "code",
      "source": [
        "x  # printing the output stored in x"
      ],
      "metadata": {
        "id": "VpbUU1Kgw9ed"
      },
      "execution_count": null,
      "outputs": []
    },
    {
      "cell_type": "code",
      "source": [
        "# performing multiple operations in one code cell\n",
        "x <- seq(1, 9, 2)\n",
        "x"
      ],
      "metadata": {
        "id": "gFDPOerbxFVY"
      },
      "execution_count": null,
      "outputs": []
    },
    {
      "cell_type": "markdown",
      "source": [
        "### <a name=\"asign-print\">Assigning and Printing with `( )`</a>\n",
        "\n",
        "---\n",
        "\n",
        "If we enclose a command in a pair rounded parentheses `( )`, then output of the command inside the parentheses will executed and printed to the screen."
      ],
      "metadata": {
        "id": "wXX6t2-cxQzS"
      }
    },
    {
      "cell_type": "code",
      "source": [
        "# enclosing command in parentheses assigns and prints to screen\n",
        "(x <- seq(1, 9, 2))"
      ],
      "metadata": {
        "id": "how01F4BxwJg"
      },
      "execution_count": null,
      "outputs": []
    },
    {
      "cell_type": "markdown",
      "source": [
        "There are multiple ways we can create the vector `x` and print the contents of vector `x` to the screen. When coding, there are often many different ways we can write code to perform the same tasks.\n",
        "\n",
        "- Sometimes we will opt to write code most efficiently.\n",
        "- Other times we will choose to write code that is easier to understand.\n",
        "- At times we will show multiple ways of performing the same task."
      ],
      "metadata": {
        "id": "wy6kf5XyyB3T"
      }
    },
    {
      "cell_type": "code",
      "source": [
        "mean(x)  # applying the mean() function to vector x"
      ],
      "metadata": {
        "id": "IR4zlnDDLPUO"
      },
      "execution_count": null,
      "outputs": []
    },
    {
      "cell_type": "markdown",
      "metadata": {
        "id": "brqQErt6NrrJ"
      },
      "source": [
        "# <a name=\"math-ops\">Mathematical Operations in R</a>\n",
        "\n",
        "---\n",
        "\n",
        "- Use `+`, `-`, `*`, and `/` to add, subtract, multiply, and divide, respectively.\n",
        "- Use a carat `^` or double asterisk `**` for the operation to raise to a power.\n",
        "- Parentheses are useful when applying multiple operations.\n",
        "- Spaces are cosmetic, but can help make the code easier. For example, `3 + 5`, `3+5`, `3+  5` are identical commands.\n"
      ]
    },
    {
      "cell_type": "markdown",
      "source": [
        "## <a name=\"01q1\">Question 1</a>\n",
        "\n",
        "---\n",
        "\n",
        "What will be displayed on screen after running the the code below.\n",
        "\n",
        "```\n",
        "y <- (3 * 2)^2\n",
        "```\n",
        "\n",
        "Without running the code, type your answer in the space below.\n",
        "\n"
      ],
      "metadata": {
        "id": "xFWEsvy4kCnD"
      }
    },
    {
      "cell_type": "markdown",
      "source": [
        "### <a name=\"01sol1\">Solution to Question 1</a>\n",
        "\n",
        "---\n",
        "\n",
        "\n",
        "\n",
        "<br>  \n",
        "<br>  \n"
      ],
      "metadata": {
        "id": "kZCY6Hz0lMI4"
      }
    },
    {
      "cell_type": "markdown",
      "source": [
        "## <a name=\"01q2\">Question 2</a>\n",
        "\n",
        "---\n",
        "\n",
        "Edit the code cell below so the output stored in `y` is displayed on screen.\n",
        "\n",
        "\n",
        "\n"
      ],
      "metadata": {
        "id": "vwL1ufszlT8V"
      }
    },
    {
      "cell_type": "markdown",
      "source": [
        "### <a name=\"01sol2\">Solution to Question 2</a>\n",
        "\n",
        "---\n",
        "\n",
        "Edit the code cell below.\n",
        "\n",
        "<br>  \n"
      ],
      "metadata": {
        "id": "FH_2NkpuliFL"
      }
    },
    {
      "cell_type": "code",
      "source": [
        "# Edit the code cell to display the result\n",
        "y <- (3 * 2)^2"
      ],
      "metadata": {
        "id": "g4L-1RHblnxb"
      },
      "execution_count": null,
      "outputs": []
    },
    {
      "cell_type": "markdown",
      "source": [
        "## <a name=\"comments\">Comments in R</a>\n",
        "\n",
        "---\n",
        "\n",
        "R will ignore any text after `#` for that line. This allows you to write <font color=\"dodgerblue\">**comments**</font>, text that is ignored by R but read by other humans. We'll sometimes include comments in examples explaining what's happening with the code. Comments typically are typed either:\n",
        "\n",
        "- A the start of new line to explain what the following line(s) of code do.\n",
        "- On the same line of as a command.\n",
        "  - After the command, type **two spaces**, then `#`, another space, and then type the comment.\n",
        "\n",
        "\n",
        "Comments help make your code more readable both to yourself and others and can help save people (including yourself) time when interpreting your code. Comments can be used to explain the how or what code is doing, but perhaps most useful is to explain *why*. Use comments to explain your overall plan of attack and record important insights."
      ],
      "metadata": {
        "id": "YZRAMAcVzicM"
      }
    },
    {
      "cell_type": "markdown",
      "source": [
        "## <a name=\"naming\">Naming Objects</a>\n",
        "\n",
        "---\n",
        "\n",
        "Object names:\n",
        "\n",
        "- Must start with a letter, and\n",
        "- Can only contain letters, numbers, `_`, and/or `.`.\n",
        "\n",
        "Object names should be descriptive but brief since each time we refer to the object we do not want to type a lot of characters. When we want to use multiple words to describe an object, we recommend using the `snake_case` method:\n",
        "\n",
        "- Use lowercase letters.\n",
        "- Separate words with the underscore character, `_`.\n",
        "- If needed, abbreviate longer words.\n"
      ],
      "metadata": {
        "id": "kgbzaDRr32aM"
      }
    },
    {
      "cell_type": "markdown",
      "source": [
        "## <a name=\"packages\">What Are Packages in R?</a>\n",
        "---\n",
        "\n",
        "R packages are a collection functions, sample data, and/or other code scripts. R installs a set of default packages during installation. In this case, we are working with R in a cloud using [Google Colaboratory](https://colab.research.google.com/).\n",
        "\n",
        "-   The files, code, and data associated to installed packages are saved in the cloud and not locally on your computer.\n",
        "-   Many R packages have already been installed in Google Colaboratory.\n",
        "\n",
        "**Run the code cell below to get a list of all default R packages\n",
        "available in Google Colaboratory.**"
      ],
      "metadata": {
        "id": "tZZdqlhBi1_Y"
      }
    },
    {
      "cell_type": "code",
      "execution_count": null,
      "metadata": {
        "id": "515a52fd-19cd-46c2-b471-228db763fc8f"
      },
      "outputs": [],
      "source": [
        "# See a list of installed default packages\n",
        "allpack <- installed.packages()\n",
        "rownames(allpack)"
      ]
    },
    {
      "cell_type": "markdown",
      "metadata": {
        "id": "3749c418-ee45-491c-86c6-b59179b027d1"
      },
      "source": [
        "## <a name=\"data\">What Data is Available in R?</a>\n",
        "---\n",
        "\n",
        "R has many available data sets that we can easily import, investigate, and apply statistical methods and analysis that we will discover this semester.\n",
        "\n",
        "-   Run the code cell below to get a list of all available data sets in all available packages in R.\n",
        "-   A tab should open on the right displaying a long list of data sets.\n",
        "-   We can close the tab in order to keep a larger working window."
      ]
    },
    {
      "cell_type": "code",
      "execution_count": null,
      "metadata": {
        "id": "5d2ddc93-2b1d-4139-9ac5-aa12d5e3f11b"
      },
      "outputs": [],
      "source": [
        "data(package = .packages(all.available = TRUE))"
      ]
    },
    {
      "cell_type": "markdown",
      "metadata": {
        "id": "20c364ae-4997-4621-a1c6-833cc66dcf82"
      },
      "source": [
        "## <a name=\"load-pack\">Loading Packages with the `library()` Command</a>\n",
        "---\n",
        "\n",
        "Each time we start or restart a new R session and want to access the library of functions and data in the package, we need to load the library of files in the package with the `library()` command.\n",
        "\n",
        "-   The `dplyr` package is already installed in Google Colaboratory\n",
        "-   We still need to use a `library()` command to load the package if we want to access data and functions in the package.\n",
        "-   If we do not run the code cell below, we will not be able to run the rest of the code cells in this document without receiving error messages.\n",
        "-   **Run the code cell below to load the `dplyr` package.**"
      ]
    },
    {
      "cell_type": "code",
      "execution_count": null,
      "metadata": {
        "id": "da6702b3-120e-43b9-bd24-3b73284c87f3"
      },
      "outputs": [],
      "source": [
        "library(dplyr)"
      ]
    },
    {
      "cell_type": "markdown",
      "metadata": {
        "id": "f2737f83-f8e7-4238-90b6-bee8d83429d1"
      },
      "source": [
        "### <a name=\"reload\">Caution: Reloading Packages When Restarting a Session</a>\n",
        "---\n",
        "\n",
        "If we take a break in our work, it is possible our R session will time out and close. <font color=\"tomato\">**Each time we restart an R session, we will need to rerun `library()` commands in order reload any packages we plan to use**</span>.\n",
        "\n",
        "The same caution applies to any objects, vectors, or data frames we create or edit in an R session. If a session times out, and we want to use an object `x` that we previously created, we will need to run the code cell(s) where object `x` is created again before we can refer back to `x` in the current session.\n",
        "\n"
      ]
    },
    {
      "cell_type": "markdown",
      "source": [
        "## <a name=\"help\">Finding Help Documentation</a>\n",
        "---\n",
        "\n",
        "As with learning any new skill, it is always useful to know where to find help. R has been in use since 2000, and there is a large, active community of users that share lots of helpful advice online. Certainly [Google](https://www.google.com/) or other search engines are a useful way to search and find help with R. Below are two additional websites useful for searching for help with R.\n",
        "\n",
        "-   The developers of R have [useful page where to find help](https://www.r-project.org/help.html).\n",
        "-   [Rseek](https://rseek.org/) is provided by Sasha Goodman at Stanford university. This engine lets you search several R related sites.\n",
        "\n",
        "We can also find help without opening a separate browser window or tab. The `?` help operator and `help()` function provide access to the help manuals for R functions, data sets, and other objects. Running a `?` or `help()` command in a code cell opens a side bar with a tab displaying the help documentation.\n",
        "\n",
        "-   For example, the package `dplyr` contains a data set called `storms`.\n",
        "-   Where is the data from, and what variables are in the data set?\n",
        "-   **Run the code cell below to access the help documentation for the `storms` data set.**\n",
        "    -   Resizing the tab in the side bar may help the documentation be more readable.\n",
        "    -   We can close the tab if we want to increase the size of our working window."
      ],
      "metadata": {
        "id": "7iKHN8QEi5r1"
      }
    },
    {
      "cell_type": "code",
      "execution_count": null,
      "metadata": {
        "id": "44284484-234e-4a1d-99b9-bfb3a7c8a090"
      },
      "outputs": [],
      "source": [
        "?storms"
      ]
    },
    {
      "cell_type": "markdown",
      "metadata": {
        "id": "0ca0e7c6-1aca-4eb4-9e2c-f5c3021db36f"
      },
      "source": [
        "## <a name=\"q3\">Question 3</a>\n",
        "---\n",
        "\n",
        "After reading the `storms` help documentation, answer the following\n",
        "questions:\n",
        "\n",
        "a.  What is the source of the data?\n",
        "\n",
        "b.  What variables are included in the data?\n",
        "\n",
        "c.  Over what period of time and how frequently are observations recorded?\n",
        "\n"
      ]
    },
    {
      "cell_type": "markdown",
      "source": [
        "### <a name=\"01sol3\">Solutions to Question 3</a>\n",
        "---\n",
        "\n",
        "\n",
        "a.\n",
        "\n",
        "\n",
        "\n",
        "\n",
        "<br>  \n",
        "<br>  \n",
        "\n",
        "b.\n",
        "\n",
        "\n",
        "\n",
        "<br>  \n",
        "<br>  \n",
        "\n",
        "\n",
        "c.\n",
        "\n",
        "\n",
        "<br>  \n",
        "<br>  "
      ],
      "metadata": {
        "id": "IbKbEjZQm3cu"
      }
    },
    {
      "cell_type": "markdown",
      "source": [
        "## <a name=\"01q4\">Question 4</a>\n",
        "---\n",
        "\n",
        "Insert a code cell and run the command `?hist` to see the help\n",
        "documentation for the histogram function.\n",
        "\n",
        "a.  What option can we use to add a main title to the histogram?\n",
        "\n",
        "b.  What option can we use to set the fill color for the bars of a histogram?\n",
        "\n"
      ],
      "metadata": {
        "id": "7yRLREkCi-Iv"
      }
    },
    {
      "cell_type": "markdown",
      "source": [
        "### <a name=\"01sol4\">Solution to Question 4</a>\n",
        "\n",
        "---\n",
        "\n",
        "a.\n",
        "\n",
        "\n",
        "\n",
        "\n",
        "<br>  \n",
        "<br>  \n",
        "\n",
        "b.\n",
        "\n",
        "\n",
        "\n",
        "<br>  \n",
        "<br>  \n",
        "  \n",
        "\n"
      ],
      "metadata": {
        "id": "t_e9IqoMmz6T"
      }
    },
    {
      "cell_type": "markdown",
      "source": [
        "## <a name=\"CC License\">Creative Commons License Information</a>\n",
        "---\n",
        "\n",
        "![Creative Commons\n",
        "License](https://i.creativecommons.org/l/by-nc-sa/4.0/88x31.png)\n",
        "\n",
        "Materials created by the [Department of Mathematical and Statistical Sciences at the University of Colorado Denver](https://github.com/CU-Denver-MathStats-OER/)\n",
        "and is licensed under a [Creative Commons\n",
        "Attribution-NonCommercial-ShareAlike 4.0 International\n",
        "License](http://creativecommons.org/licenses/by-nc-sa/4.0/)."
      ],
      "metadata": {
        "id": "0LUMgFshjsYa"
      }
    }
  ]
}