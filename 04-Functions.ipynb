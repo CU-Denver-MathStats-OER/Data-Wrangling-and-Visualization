{
  "cells": [
    {
      "cell_type": "markdown",
      "metadata": {
        "id": "TyO8Rh7aOeOy"
      },
      "source": [
        "# <a name=\"04-title\"><font size=\"6\">Module 04: Introduction to Functions</font></a>\n",
        "\n",
        "---"
      ]
    },
    {
      "cell_type": "markdown",
      "metadata": {
        "id": "WhALT19FAqCt"
      },
      "source": [
        "# <a name=\"function\">Functions</a>\n",
        "\n",
        "---\n",
        "\n",
        "\n",
        "A function is an object that performs a certain action or set of actions based on object(s) it receives from its inputs. Functions usually take in some sort of data structure (value(s), vector(s), dataframe(s), etc.) and return a result.\n",
        "\n",
        "- The inputs are called <font color=\"dodgerblue\">**arguments**</font> such as:\n",
        "  - The object (data structure) on which the function carries out a task.\n",
        "  - Specifications that alter the way the function operates (e.g. options) and stores a set of output(s).\n",
        "- The <font color=\"dodgerblue\">**defaults**</font> represent standard values and/or options that the author of the function specified as being appropriate for typical cases.\n",
        "- Help documentation often specifies available options and their corresponding defautls.\n"
      ]
    },
    {
      "cell_type": "markdown",
      "metadata": {
        "id": "QAQa1f7ZCbsB"
      },
      "source": [
        "## <a name=\"func-dictionary\">A Dictionary of Useful Functions</a>\n",
        "\n",
        "---\n",
        "\n",
        "Below is a brief list of commonly used functions some of which we have already been working with.\n",
        "\n",
        "- `c(x, y)`: combine vectors `x` and `y` into a single vector\n",
        "- `length(x)`: return the number of elements in `x`\n",
        "- `sum(x)`: sum the elements in `x`\n",
        "- `mean(x)`: compute the mean of the elements in `x`\n",
        "- `median(x)`: compute the median of the elements in `x`\n",
        "- `min(x)`: compute the minimum value in `x`\n",
        "- `max(x)`: compute the maximum value in `x`\n",
        "- `quantile(x, probs = q)`: compute the $q^\\text{th}$ quantile of `x`\n",
        "- `fivenum(x)`: compute five number summary of `x`\n",
        "- `var(x)`: compute the sample variance of elements in `x`\n",
        "- `sd(x)`: compute the sample standard deviation of the elements in `x`\n",
        "- `range(x)`: determine the range (minimum and maximum) of the elements in `x`\n",
        "- `sqrt(x)`: compute the square root of each element in `x`\n",
        "- `log(x)`: compute the (natural) logarithm of the elements in `x`\n",
        "- `summary(x)`: provide a summary (that depends on the data type) of `x`\n",
        "- `str(x)`: provide information about the structure of `x`. Usually, the class of the object and some information about its size."
      ]
    },
    {
      "cell_type": "code",
      "execution_count": null,
      "metadata": {
        "id": "pcefc8TJ7_zO",
        "vscode": {
          "languageId": "r"
        }
      },
      "outputs": [],
      "source": [
        "(z <- 1:10)"
      ]
    },
    {
      "cell_type": "code",
      "execution_count": null,
      "metadata": {
        "id": "tJmCkzAz8ILo",
        "vscode": {
          "languageId": "r"
        }
      },
      "outputs": [],
      "source": [
        "exp(z)"
      ]
    },
    {
      "cell_type": "code",
      "execution_count": null,
      "metadata": {
        "id": "7Me7YBXDZxaH",
        "vscode": {
          "languageId": "r"
        }
      },
      "outputs": [],
      "source": [
        "log(z)  # log(z) is the natural log, ln(z), not log base 10"
      ]
    },
    {
      "cell_type": "code",
      "execution_count": null,
      "metadata": {
        "id": "W6zNV8naZnfs",
        "vscode": {
          "languageId": "r"
        }
      },
      "outputs": [],
      "source": [
        "log(exp(z))"
      ]
    },
    {
      "cell_type": "code",
      "execution_count": null,
      "metadata": {
        "id": "phz88-_HZhbj",
        "vscode": {
          "languageId": "r"
        }
      },
      "outputs": [],
      "source": [
        "log10(10^z)  # use log10() for log base 10"
      ]
    },
    {
      "cell_type": "code",
      "execution_count": null,
      "metadata": {
        "id": "831dwml88QRO",
        "vscode": {
          "languageId": "r"
        }
      },
      "outputs": [],
      "source": [
        "y <- round(log(z), 1)\n",
        "y"
      ]
    },
    {
      "cell_type": "code",
      "execution_count": null,
      "metadata": {
        "id": "OUAQLm238RYx",
        "vscode": {
          "languageId": "r"
        }
      },
      "outputs": [],
      "source": [
        "median(y)"
      ]
    },
    {
      "cell_type": "code",
      "execution_count": null,
      "metadata": {
        "id": "7aYQ63EX8qS7",
        "vscode": {
          "languageId": "r"
        }
      },
      "outputs": [],
      "source": [
        "mean(y)"
      ]
    },
    {
      "cell_type": "code",
      "execution_count": null,
      "metadata": {
        "id": "zu0gOVEQ8yrw",
        "vscode": {
          "languageId": "r"
        }
      },
      "outputs": [],
      "source": [
        "sd(y)"
      ]
    },
    {
      "cell_type": "code",
      "execution_count": null,
      "metadata": {
        "id": "vKS3_DmcvHm6",
        "vscode": {
          "languageId": "r"
        }
      },
      "outputs": [],
      "source": [
        "str(airquality)"
      ]
    },
    {
      "cell_type": "code",
      "execution_count": null,
      "metadata": {
        "id": "AAf5imQAvP7s",
        "vscode": {
          "languageId": "r"
        }
      },
      "outputs": [],
      "source": [
        "# length of a data frame gives the number of columns\n",
        "length(airquality)"
      ]
    },
    {
      "cell_type": "code",
      "execution_count": null,
      "metadata": {
        "id": "K5xZdcyrvSsF",
        "vscode": {
          "languageId": "r"
        }
      },
      "outputs": [],
      "source": [
        "# length of a vector gives the elements\n",
        "length(airquality$Ozone)"
      ]
    },
    {
      "cell_type": "code",
      "execution_count": null,
      "metadata": {
        "id": "ySx6uNcbvro1",
        "vscode": {
          "languageId": "r"
        }
      },
      "outputs": [],
      "source": [
        "mean(airquality)"
      ]
    },
    {
      "cell_type": "code",
      "execution_count": null,
      "metadata": {
        "id": "gH8MVdXDvuaT",
        "vscode": {
          "languageId": "r"
        }
      },
      "outputs": [],
      "source": [
        "mean(airquality$Ozone)"
      ]
    },
    {
      "cell_type": "code",
      "execution_count": null,
      "metadata": {
        "id": "73ukoM56BHYy",
        "vscode": {
          "languageId": "r"
        }
      },
      "outputs": [],
      "source": [
        "mean(airquality$Day)"
      ]
    },
    {
      "cell_type": "markdown",
      "metadata": {
        "id": "wlVwr2OcKuw4"
      },
      "source": [
        "## <a name=\"funct-struc\">Checking Structure of Functions</a>\n",
        "\n",
        "---\n",
        "\n",
        "A function has type `closure`. Essentially this means function can access variables from the environment in which it was created. The function *closes over* its surrounding environment, allowing it to recall and use those variables when called later on. You can use the `is.function` function to determine whether an object is a function.\n",
        "\n"
      ]
    },
    {
      "cell_type": "code",
      "execution_count": null,
      "metadata": {
        "id": "S5FrPCgquESA",
        "vscode": {
          "languageId": "r"
        }
      },
      "outputs": [],
      "source": [
        "typeof(mean)"
      ]
    },
    {
      "cell_type": "code",
      "execution_count": null,
      "metadata": {
        "id": "-eKbN9fvuEIl",
        "vscode": {
          "languageId": "r"
        }
      },
      "outputs": [],
      "source": [
        "mode(mean)"
      ]
    },
    {
      "cell_type": "code",
      "execution_count": null,
      "metadata": {
        "id": "8-GrnYh5uD_L",
        "vscode": {
          "languageId": "r"
        }
      },
      "outputs": [],
      "source": [
        "is.function(mean)"
      ]
    },
    {
      "cell_type": "markdown",
      "metadata": {
        "id": "kJZ-mSWNHVR5"
      },
      "source": [
        "# <a name=\"stat-funct\">Functions Related to Statistical Distributions</a>\n",
        "\n",
        "---\n",
        "\n",
        "For a review of common statistical distributions in R, refer to the following Colab notebooks:\n",
        "\n",
        "- [Common discrete statistical distributions](https://colab.research.google.com/drive/1fGMPRSBRt5unIRhEomW4POyMAFzgN6OI?usp=sharing). In particular, distributions discussed are:\n",
        "  - Binominial distribution\n",
        "  - Geometric distribution\n",
        "  - Discrete uniform distribution\n",
        "  - Poisson distribution\n",
        "\n",
        "- [Common continuous statistical distributions](https://colab.research.google.com/drive/1vN_b_SzyJ6eu3NEf3oqQTOe3p7jEjjdo?usp=sharing). In particular, distributions discussed are:\n",
        "  - Normal distribution\n",
        "  - Continuous uniform distribution\n",
        "  - Exponential distribution\n",
        "  - Gamma distribution\n",
        "\n",
        "Suppose that a random variable $X$ has the `dist` distribution:\n",
        "\n",
        "-\t`p[dist](x, ...)`: returns the value of the cummulative distribution function (cdf) $F(x)$ evaluated at `x`. It gives the value of $F(x) = P(X \\leq x)$.\n",
        "\n",
        "-\t`q[dist](q, ...)`: returns the inverse cdf (or quantile function) of $X$ evaluated at $q$. It finds the value $x$ such that $P(X \\leq x) = q$ which is also $F^{-1}(q)$.\n",
        "\n",
        "- `d[dist](x, ...)`: returns the probability mass function (pmf)  or probability density function (pdf) for random variable $X$ (pmf if $X$ is disccrete and pdf if $X$ is continuous).\n",
        "\n",
        "  - If $X$ is discrete, `d[dist](x, ...)` $= p(x) = P(X = x)$.\n",
        "\n",
        "  - If $X$ is continuous, `d[dist](x, ...)` $= f(x)$ is the height of the pdf function.\n",
        "  \n",
        "- `r[dist](n, ...)`: returns a random sample (with replacement) of size `n` picked from distribution $X$.\n",
        "\n",
        "<br>  \n",
        "\n",
        "*Note: The `...` indicates that additional arguments describing the parameters of the distribution may be required.*\n",
        "\n",
        "\n",
        "\n"
      ]
    },
    {
      "cell_type": "markdown",
      "metadata": {
        "id": "1T-i03XnhziT"
      },
      "source": [
        "## <a name=\"quest1\">Question 1</a>\n",
        "\n",
        "---\n",
        "\n",
        "Let $X$ be the birth weight, in grams, of a randomly selected full-term baby.\n",
        "An article<sup>1</sup> suggests that $X$ is normally distributed with mean 3500 grams and standard deviation 600 grams.\n",
        "\n",
        "<br>\n",
        "\n",
        "<font size=\"2\">1. \"Fetal Growth Parameters and Birth Weight: Their Relationship to Neonatal Body Composition'\" (Ultrasound in Obstetrics and Gynecology, 2009: 441--446)</font>\n",
        "\n"
      ]
    },
    {
      "cell_type": "code",
      "execution_count": 1,
      "metadata": {
        "colab": {
          "base_uri": "https://localhost:8080/",
          "height": 437
        },
        "id": "juw7qp3E2xTt",
        "outputId": "2d5839a3-ec3b-43d7-9612-66c3d770b75a",
        "vscode": {
          "languageId": "r"
        }
      },
      "outputs": [
        {
          "data": {
            "image/png": "[encoded data removed]",
            "text/plain": [
              "plot without title"
            ]
          },
          "metadata": {
            "image/png": {
              "height": 420,
              "width": 420
            }
          },
          "output_type": "display_data"
        }
      ],
      "source": [
        "library(ggplot2)\n",
        "\n",
        "mux <- 3500\n",
        "sdx <- 600\n",
        "xmax <- mux + 4*sdx\n",
        "xmin <- mux - 4*sdx\n",
        "\n",
        "\n",
        "ggplot(NULL, aes(c(xmin, xmax))) +\n",
        "  geom_area(stat = \"function\",   fun = dnorm, args = list(mean = mux, sd = sdx),\n",
        "            color = \"black\", fill = \"steelblue\",\n",
        "            xlim = c(xmin, 4200)) +\n",
        "  geom_area(stat = \"function\",   fun = dnorm, args = list(mean = mux, sd = sdx),\n",
        "            color = \"black\", fill = NA,\n",
        "            xlim = c(4200, xmax)) +\n",
        "  labs(x = \"bwt\", y = \"Probability Density\") +\n",
        "  scale_x_continuous(breaks=c(mux-3*sdx, mux, 4200, mux+3*sdx)) +\n",
        "  geom_hline(yintercept=0) +\n",
        "  theme_bw() +\n",
        "  theme(axis.text.x=element_text(size=15), axis.text.y=element_text(size=15))"
      ]
    },
    {
      "cell_type": "markdown",
      "metadata": {
        "id": "rqvPyHCgFzUY"
      },
      "source": [
        "### <a name=\"quest1a\">Question 1a</a>\n",
        "\n",
        "---\n",
        "\n",
        "What is the probability that the weight of such a randomly selected newborn is less than or equal to 4200 g?\n",
        "\n",
        "\n",
        "<br>  \n",
        "\n",
        "#### <a name=\"sol1a\">Solution to Question 1a</a>\n",
        "\n",
        "---\n",
        "\n",
        "Use code cell below to help answer. Then type your answer in the this text cell. Enter your answer as a proportion rounded to four decimal places.\n",
        "\n",
        "<br>  \n",
        "\n",
        "$P(X \\leq  4200 ) = $ ??\n",
        "\n",
        "<br>  \n",
        "<br>  \n"
      ]
    },
    {
      "cell_type": "code",
      "execution_count": null,
      "metadata": {
        "id": "zMMEiNbI5Qau",
        "vscode": {
          "languageId": "r"
        }
      },
      "outputs": [],
      "source": []
    },
    {
      "cell_type": "markdown",
      "metadata": {
        "id": "a9OSAkjN4sRY"
      },
      "source": [
        "### <a name=\"quest1b\">Question 1b</a>\n",
        "\n",
        "---\n",
        "\n",
        "What is 90th percentile for birth weight (in grams) of a full-term baby?\n",
        "\n",
        "<br>  \n",
        "\n",
        "#### <a name=\"sol1b\">Solution to Question 1b</a>\n",
        "\n",
        "---\n",
        "\n",
        "Use code cell below to help answer. Then type your answer in the this text cell. Enter your answer in grams, rounded to one decmial place.\n",
        "\n",
        "<br>  \n",
        "\n",
        "The 90th percentile is ?? grams.\n",
        "\n",
        "<br>  \n",
        "<br>  \n"
      ]
    },
    {
      "cell_type": "code",
      "execution_count": null,
      "metadata": {
        "id": "EcUJCmigcIOH",
        "vscode": {
          "languageId": "r"
        }
      },
      "outputs": [],
      "source": []
    },
    {
      "cell_type": "markdown",
      "metadata": {
        "id": "2I1FmMW04tew"
      },
      "source": [
        "### <a name=\"quest1c\">Question 1c</a>\n",
        "\n",
        "---\n",
        "\n",
        "Pick a random sample of 20 birth weights from a population with $X \\sim N(3500, 600)$. Store the result to a vector named `bwt`.\n",
        "\n",
        "<br>  \n",
        "\n",
        "#### <a name=\"sol1c\">Solution to Question 1c</a>\n",
        "\n",
        "---\n",
        "\n",
        "Use the code cell below. There is no text to enter in this cell.\n",
        "\n",
        "<br>  "
      ]
    },
    {
      "cell_type": "code",
      "execution_count": null,
      "metadata": {
        "id": "rg-hTUSv7RM-",
        "vscode": {
          "languageId": "r"
        }
      },
      "outputs": [],
      "source": [
        "set.seed(5523)  # sets randomization seed for consistent output\n"
      ]
    },
    {
      "cell_type": "markdown",
      "metadata": {
        "id": "6fBV-C3_jW_z"
      },
      "source": [
        "# <a name=\"define-funct\">Defining Our Own Functions</a>\n",
        "\n",
        "---\n",
        "\n",
        "A function is essentially a sequence of commands executed based on certain arguments supplied to the function.\n",
        "\n",
        "In R, a function is defined using the general format:\n",
        "\n",
        "```\n",
        "myfunction <- function(arg1, arg2, arg3) {\n",
        "\tcode to execute\n",
        "}\n",
        "```\n",
        "\n",
        "In the example above,\n",
        "\n",
        "-  The name of the function is `myfunction`.\n",
        "-  There are three required inputs (or arguments) named `arg1`, `arg2`, and `arg3`.\n",
        "-  To use this function with `x1`, `x2`, and `x3` as inputs for `arg1`, `arg2`, and `arg3`, respectively, we enter `myfunction(x1, x2, x3)`.\n",
        "\n",
        "Let's create a function named `my_mean()` that returns the mean of the values stored in a vector `x`. Recall the mean is $\\bar{x}$ and is computed using the formula below where $n$ denotes the number of values in $x$:\n",
        "\n",
        "$$\\bar{x} = \\dfrac{x_1 + x_2 + \\ldots + x_n}{n} = \\dfrac{ \\sum_{i=1}^n x_i}{n}.$$\n",
        "\n",
        "\n",
        "\n",
        "\n",
        "\n"
      ]
    },
    {
      "cell_type": "code",
      "execution_count": null,
      "metadata": {
        "id": "EQkLVgFsjW_9",
        "vscode": {
          "languageId": "r"
        }
      },
      "outputs": [],
      "source": [
        "my_mean <- function(x) {\n",
        "  n <- length(x)  # compute number of elements in x\n",
        "\txbar <- sum(x) / n  # sum of x divided by n\n",
        "  xbar  # print xbar to screen\n",
        "}"
      ]
    },
    {
      "cell_type": "markdown",
      "metadata": {
        "id": "5dSKRT2JfxUV"
      },
      "source": [
        "## <a name=\"quest2\">Question 2</a>\n",
        "\n",
        "---\n",
        "\n",
        "In the first code cell below, use the function `my_mean()` to compute the mean of the random sample of $n=20$ birth birth weights stored to the vector `bwt` in [Question 1c](#quest1c).\n",
        "\n",
        "<br>\n",
        "\n",
        "In the second code cell, use the `mean()` function to compute the mean of the values stored in `bwt` and check to make sure the two functions return the same result.\n",
        "\n",
        "<br>  \n"
      ]
    },
    {
      "cell_type": "markdown",
      "metadata": {
        "id": "ULOyn3RKglNC"
      },
      "source": [
        "### <a name=\"sol3\">Solution to Question 2</a>\n",
        "\n",
        "---\n",
        "\n",
        "<br>  \n"
      ]
    },
    {
      "cell_type": "code",
      "execution_count": null,
      "metadata": {
        "id": "vNjhB3QDgkqu",
        "vscode": {
          "languageId": "r"
        }
      },
      "outputs": [],
      "source": [
        "my_mean(??)  # compute mean using my_mean"
      ]
    },
    {
      "cell_type": "code",
      "execution_count": null,
      "metadata": {
        "id": "JDEcDKKYgtUo",
        "vscode": {
          "languageId": "r"
        }
      },
      "outputs": [],
      "source": [
        "mean(??)  # compute mean using mean"
      ]
    },
    {
      "cell_type": "markdown",
      "metadata": {
        "id": "n_sYUOAoFYOB"
      },
      "source": [
        "## <a name=\"quest3\">Question 3</a>\n",
        "\n",
        "---\n",
        "\n",
        "\n",
        "Create a function named `my_density()` that returns the probability density of a normal random variable with mean `mu` and standard deviation `sigma` for a each value in vector `x`. Recall that the density function of a normal random variable is\n",
        "\n",
        "$$\n",
        "f(x) = \\frac{1}{\\sigma \\sqrt{2 \\pi}} e^{-\\frac{(x - \\mu)^2}{2 \\sigma^2}}.\n",
        "$$\n",
        "\n",
        "\n",
        "The function should have three arguments:\n",
        "\n",
        "- `x`: A vector of values to determine the density.\n",
        "- `mu`: The mean of the normal distribution.\n",
        "- `sigma`: The standard deviation of the normal distribution.\n",
        "\n",
        "<br>  \n",
        "\n",
        "*Hint: The number $\\pi$ is obtained in R by entering `pi`.*\n",
        "\n",
        "<br>  \n",
        "\n"
      ]
    },
    {
      "cell_type": "markdown",
      "metadata": {
        "id": "NUBLRhkxjW__"
      },
      "source": [
        "### <a name=\"sol3\">Solution to Question 3</a>\n",
        "\n",
        "---\n",
        "\n",
        "<br>  "
      ]
    },
    {
      "cell_type": "code",
      "execution_count": null,
      "metadata": {
        "id": "ME-ao8X6jW__",
        "vscode": {
          "languageId": "r"
        }
      },
      "outputs": [],
      "source": [
        "my_density <- ??"
      ]
    },
    {
      "cell_type": "markdown",
      "metadata": {
        "id": "TaPXkX-xhGFJ"
      },
      "source": [
        "## <a name=\"quest4\">Question 4</a>\n",
        "\n",
        "---\n",
        "\n",
        "In the first code cell below, use the function `my_density()` to compute the values of the corresponding pdf of the birth weight random variable $X \\sim N(3500, 600)$ from [Question 1](#quest1) at each value stored in the `bwt` vector created in [Question 1c](#quest1c).\n",
        "\n",
        "<br>\n",
        "\n",
        "In the second code cell, use the `dnorm()` function to compute the values of the corresponding pdf of the birth weight random variable $X \\sim N(3500, 600)$ at each value stored in the `bwt` and check to make sure the two functions return the same results.\n",
        "\n",
        "<br>  \n"
      ]
    },
    {
      "cell_type": "markdown",
      "metadata": {
        "id": "F0ZDIxtEhGFJ"
      },
      "source": [
        "### <a name=\"sol4\">Solution to Question 4</a>\n",
        "\n",
        "---\n",
        "\n",
        "<br>  \n"
      ]
    },
    {
      "cell_type": "code",
      "execution_count": null,
      "metadata": {
        "id": "9eKR5r1HhGFK",
        "vscode": {
          "languageId": "r"
        }
      },
      "outputs": [],
      "source": [
        "my_density(??)  # compute mean using my_density"
      ]
    },
    {
      "cell_type": "code",
      "execution_count": null,
      "metadata": {
        "id": "IjKjaF6JhGFK",
        "vscode": {
          "languageId": "r"
        }
      },
      "outputs": [],
      "source": [
        "dnorm(??)  # compute mean using dnorm"
      ]
    },
    {
      "cell_type": "markdown",
      "metadata": {
        "id": "V2iQjP5PjXAA"
      },
      "source": [
        "## <a name=\"funct-list\">Functions Returning a List of Results</a>\n",
        "\n",
        "---\n",
        "\n",
        "Let's do an example of a function that returns two pieces of information using a `list`. We haven't really talked about lists yet, but we will learn more about them later.\n",
        "\n",
        "In the code cell below, we create a function named `my_summary()` that returns the mean and standard deviation of a vector `x`.\n",
        "\n",
        "- The sole argument will be, `x`, a vector of numeric values.\n",
        "- There are two outputs printed to the screen:\n",
        "\t- The mean of `x` is stored to `m` and\n",
        "\t- The standard deviation of `x` is stored to `s`\n",
        "- Running `my_summary(x)` will display all outputs in the list on the screen.\n",
        "- Running `my_summary(x)$mmean` will display only the mean `m`.\n",
        "- Running `my_summary(x)$stdev` will display only the standard deviation `s`.\n"
      ]
    },
    {
      "cell_type": "code",
      "execution_count": null,
      "metadata": {
        "id": "hmbSOKHIjXAA",
        "vscode": {
          "languageId": "r"
        }
      },
      "outputs": [],
      "source": [
        "my_summary <- function(x) {\n",
        "\tm <- mean(x)  # compute the sample mean of x\n",
        "\ts <- sd(x)  # compute the sample sd of x\n",
        "\treturn(list(mmean = m, stdev = s))  # return a list with elements mmean and stdev\n",
        "}"
      ]
    },
    {
      "cell_type": "code",
      "execution_count": null,
      "metadata": {
        "id": "yMs4reIVjXAA",
        "vscode": {
          "languageId": "r"
        }
      },
      "outputs": [],
      "source": [
        "my_summary(bwt)  # displays all outputs"
      ]
    },
    {
      "cell_type": "code",
      "execution_count": null,
      "metadata": {
        "id": "SWHqYwvajXAA",
        "vscode": {
          "languageId": "r"
        }
      },
      "outputs": [],
      "source": [
        "my_summary(bwt)$mmean  # displays only output stored in mmean"
      ]
    },
    {
      "cell_type": "code",
      "execution_count": null,
      "metadata": {
        "id": "cJxsfAt2jXAA",
        "vscode": {
          "languageId": "r"
        }
      },
      "outputs": [],
      "source": [
        "my_summary(bwt)[[1]]  # displays 1st output in list"
      ]
    },
    {
      "cell_type": "code",
      "execution_count": null,
      "metadata": {
        "id": "F0BlFjS8jXAA",
        "vscode": {
          "languageId": "r"
        }
      },
      "outputs": [],
      "source": [
        "my_summary(bwt)$stdev  # displays only output stored in stdev"
      ]
    },
    {
      "cell_type": "code",
      "execution_count": null,
      "metadata": {
        "id": "gFFtcqKUjXAB",
        "vscode": {
          "languageId": "r"
        }
      },
      "outputs": [],
      "source": [
        "my_summary(bwt)[[2]]  # displays 2nd output in list"
      ]
    },
    {
      "cell_type": "markdown",
      "metadata": {
        "id": "WS8w_KQF5ym4"
      },
      "source": [
        "## <a name=\"CC License\">Creative Commons License Information</a>\n",
        "---\n",
        "\n",
        "![Creative Commons\n",
        "License](https://i.creativecommons.org/l/by-nc-sa/4.0/88x31.png)\n",
        "\n",
        "Materials created by the [Department of Mathematical and Statistical Sciences at the University of Colorado Denver](https://github.com/CU-Denver-MathStats-OER/)\n",
        "and is licensed under a [Creative Commons\n",
        "Attribution-NonCommercial-ShareAlike 4.0 International\n",
        "License](http://creativecommons.org/licenses/by-nc-sa/4.0/)."
      ]
    }
  ],
  "metadata": {
    "colab": {
      "authorship_tag": "ABX9TyN32r8zsRg4pg6qEY6pnhGj",
      "provenance": []
    },
    "kernelspec": {
      "display_name": "R",
      "name": "ir"
    },
    "language_info": {
      "name": "R"
    }
  },
  "nbformat": 4,
  "nbformat_minor": 0
}
