{
  "cells": [
    {
      "cell_type": "markdown",
      "metadata": {
        "id": "TyO8Rh7aOeOy"
      },
      "source": [
        "# <a name=\"03-title\"><font size=\"6\">Module 03: Creating and Slicing Data Frames</font></a>\n",
        "\n",
        "---"
      ]
    },
    {
      "cell_type": "markdown",
      "metadata": {
        "id": "d8dc448b-8d1e-4ea7-a3ee-722c9b9db451"
      },
      "source": [
        "# <a name=\"02structure\">The Structure of Data Frames</a>\n",
        "---\n",
        "\n",
        "Recall from [Module 02](https://githubtocolab.com/CU-Denver-MathStats-OER/Statistical-Theory/blob/main/Chap4/13-Estimation-MLE.ipynb) that <font color=\"dodgerblue\">**data frames**</font> are two-dimensional data objects and are the fundamental data structure used by most of R's libraries of functions and data sets. Tabular data is tidy if:\n",
        "\n",
        "- Each row corresponds to a different observation and\n",
        "- Each column corresponds to a different variable stored as a vector of possibly different data types.\n",
        "- Each column vector must be a single data type.\n",
        "\n"
      ]
    },
    {
      "cell_type": "markdown",
      "metadata": {
        "id": "S4C0uC-VHVRy"
      },
      "source": [
        "# <a name=\"create-df\">Creating Data Frames from Scratch</a>\n",
        "\n",
        "---\n",
        "\n",
        "Data frames are created by passing vectors into the `data.frame()` function.\n",
        "\n",
        "- First we assign each variable (column) to a separate vector.\n",
        "- Then we assign the variables to the data frame using the `data.frame()` function.\n",
        "\n",
        "Consider the following example:"
      ]
    },
    {
      "cell_type": "code",
      "execution_count": null,
      "metadata": {
        "id": "zeU6uYh6HVRy",
        "vscode": {
          "languageId": "r"
        }
      },
      "outputs": [],
      "source": [
        "# define the variables as separate vectors\n",
        "d <- c(2L, 4L, 6L, 8L)  # vector of integers (note 2L is the integer 2)\n",
        "e <- c(2, 2.1, 2.2, 2.3)  # vector of decimals (note 2 is a decimal)\n",
        "f <- c(\"red\", \"white\", \"blue\", NA)  # vector of characters with one missing value\n",
        "g <- c(TRUE, TRUE, TRUE, FALSE)  # vector of logicals\n",
        "\n",
        "# create a data frame named df with 4 columns\n",
        "df <- data.frame(d, e, f, g)\n",
        "\n",
        "# print the date frame df to screen\n",
        "df"
      ]
    },
    {
      "cell_type": "markdown",
      "metadata": {
        "id": "5wiyPbubHVRy"
      },
      "source": [
        "## <a name=\"name-col\">Naming Column Headers</a>\n",
        "\n",
        "---\n",
        "\n",
        "The columns of a data frame can be renamed using the `names()` function on the data frame."
      ]
    },
    {
      "cell_type": "code",
      "execution_count": null,
      "metadata": {
        "id": "b8ciDRlLHVRy",
        "vscode": {
          "languageId": "r"
        }
      },
      "outputs": [],
      "source": [
        "# name columns of data frame\n",
        "names(df) <- c(\"ID\", \"Measure\", \"Color\", \"Passed\")\n",
        "df"
      ]
    },
    {
      "cell_type": "markdown",
      "metadata": {
        "id": "sUKopelSHVRz"
      },
      "source": [
        "The columns of a data frame can be named when you are first creating the\n",
        "data frame by using `[new_name] = [orig_vec_name]` for each vector of\n",
        "data."
      ]
    },
    {
      "cell_type": "code",
      "execution_count": null,
      "metadata": {
        "id": "g0tFNj2nHVRz",
        "vscode": {
          "languageId": "r"
        }
      },
      "outputs": [],
      "source": [
        "# create data frame with better column names\n",
        "df2 <- data.frame(ID = d, Measure = e, Color = f, Passed = g)\n",
        "df2"
      ]
    },
    {
      "cell_type": "markdown",
      "metadata": {
        "id": "ID5AFiHrHVRz"
      },
      "source": [
        "## <a name=\"check-structure\">Checking Data Structure</a>\n",
        "---\n",
        "\n",
        "-   The `is.matrix(x)` function tests whether or not an object `x` is a matrix.\n",
        "-   The `is.vector(x)` function test whether `x` is a vector.\n",
        "-   The `is.data.frame(x)` function test whether `x` is a data frame."
      ]
    },
    {
      "cell_type": "code",
      "execution_count": null,
      "metadata": {
        "id": "P7dbqBAJHVRz",
        "vscode": {
          "languageId": "r"
        }
      },
      "outputs": [],
      "source": [
        "is.matrix(df)\n",
        "is.vector(df)\n",
        "is.data.frame(df)"
      ]
    },
    {
      "cell_type": "markdown",
      "metadata": {
        "id": "-Ngooz8vHVRz"
      },
      "source": [
        "# <a name=\"extract\">Extracting and Slicing Data Frames</a>\n",
        "---\n",
        "\n"
      ]
    },
    {
      "cell_type": "markdown",
      "metadata": {
        "id": "C7aFiKSPHVRz"
      },
      "source": [
        "## <a name=\"extract-name\">Extracting a Column By Name</a>\n",
        "---\n",
        "\n",
        "The column vectors of a data frame may be extracted using `$` and\n",
        "specifying the name of the desired vector.\n",
        "\n",
        "-   `df$Color` would access the `Color` column of data frame `df`."
      ]
    },
    {
      "cell_type": "code",
      "execution_count": null,
      "metadata": {
        "id": "lNKJi-rjHVR0",
        "vscode": {
          "languageId": "r"
        }
      },
      "outputs": [],
      "source": [
        "df$Color  # prints column of data frame df named Color"
      ]
    },
    {
      "cell_type": "markdown",
      "metadata": {
        "id": "1jWBulpZHVR0"
      },
      "source": [
        "## <a name=\"indexing\">Slicing Rows and Columns By Indexing</a>\n",
        "---\n",
        "\n",
        "Part of a data frame can also be extracted by thinking of at as a general matrix and specifying the desired rows or columns in square brackets `[ , ]` after the object name.\n",
        "\n",
        "- As with matrices, we first indicate the row indices we want to slice inside the square brackets, followed by a comma, and then we indicate the column indices.\n",
        "\n",
        "- For a continuous range of rows or columns, we use a semicolon.\n",
        "\n",
        "- For a non-continuous range of rows or columns, we enter the indices as a vector using the syntax `c(index1, index2, ...)`.\n",
        "\n",
        "-  <font color=\"dodgerblue\">**Note R starts with index 1 which is different from Python which indexes starting from 0.**</font>\n",
        "\n",
        "For example, if we had a data frame named `df`:\n",
        "\n",
        "-   `df[6, ]` would slice row 6 of `df` and include all columns.\n",
        "-   `df[3:8, ]` would slice all rows 3 thru 8 of `df` and include all columns.\n",
        "- `df[c(1, 5, 9), 4]` slice rows 1, 5 and 9 of `df` and keep only column 4 of those rows.\n",
        "-   `df[, c(1, 8)]` would keep all rows and slice only columns 1 and 8 of `df`.\n",
        "-   `df[1:4, 2:6]` would slice rows 1 thru 4 of columns 2 thru 6 of `df`."
      ]
    },
    {
      "cell_type": "code",
      "execution_count": null,
      "metadata": {
        "id": "PTbZaXWk0qHr",
        "vscode": {
          "languageId": "r"
        }
      },
      "outputs": [],
      "source": [
        "df"
      ]
    },
    {
      "cell_type": "code",
      "execution_count": null,
      "metadata": {
        "id": "GkmoV_WwOd-M",
        "vscode": {
          "languageId": "r"
        }
      },
      "outputs": [],
      "source": [
        "head(df)  # prints row indices to screen"
      ]
    },
    {
      "cell_type": "markdown",
      "metadata": {
        "id": "EJwXru16PJSE"
      },
      "source": [
        "## <a name=\"quest1\">Question 1</a>\n",
        "\n",
        "---\n",
        "\n",
        "Let data frame `df` be the data frame defined above. What would be the output of the following commands? Explain what the output would be in the text cell, then run the code cells below to check your work.\n",
        "\n",
        "<br>  \n",
        "\n",
        "a.  `df[2, ]`\n",
        "\n",
        "<br>  \n",
        "\n",
        "b.  `df[, 2]`\n",
        "\n",
        "<br>  \n",
        "\n",
        "c.  `df[1:2, c(1,3)]`\n",
        "\n",
        "<br>  "
      ]
    },
    {
      "cell_type": "markdown",
      "metadata": {
        "id": "S5i8KOlRQ3rs"
      },
      "source": [
        "### <a name=\"sol1\">Solution to Question 1</a>\n",
        "\n",
        "---\n",
        "\n",
        "Explain what the output would be in the text cell, then run the code cells below to check your work.\n",
        "\n",
        "<br>  \n",
        "\n",
        "a.  \n",
        "\n",
        "<br>  \n",
        "\n",
        "b.  \n",
        "\n",
        "<br>  \n",
        "\n",
        "c.  \n",
        "\n",
        "<br>  \n",
        "<br>  "
      ]
    },
    {
      "cell_type": "code",
      "execution_count": null,
      "metadata": {
        "id": "ACjsFU4NHVR0",
        "vscode": {
          "languageId": "r"
        }
      },
      "outputs": [],
      "source": [
        "df[2, ]"
      ]
    },
    {
      "cell_type": "code",
      "execution_count": null,
      "metadata": {
        "id": "nR7gUjR_HVR0",
        "vscode": {
          "languageId": "r"
        }
      },
      "outputs": [],
      "source": [
        "df[, 2]"
      ]
    },
    {
      "cell_type": "code",
      "execution_count": null,
      "metadata": {
        "id": "UualV5_KHVR0",
        "vscode": {
          "languageId": "r"
        }
      },
      "outputs": [],
      "source": [
        "df[1:2, c(1,3)]"
      ]
    },
    {
      "cell_type": "markdown",
      "metadata": {
        "id": "NZqjDQ38HVR0"
      },
      "source": [
        "### <a name=\"mult-names\">Extracting Multiple Columns by Name</a>\n",
        "\n",
        "----\n",
        "\n",
        "If you need to select multiple columns of a data frame by name, you can pass a character vector with column names in the column position of `[]`.\n",
        "\n",
        "-   `df[, c(\"ID\", \"Passed\")]` would extract the `ID` and `Passed` columns of `df`."
      ]
    },
    {
      "cell_type": "code",
      "execution_count": null,
      "metadata": {
        "id": "3PS-MRJbHVR1",
        "vscode": {
          "languageId": "r"
        }
      },
      "outputs": [],
      "source": [
        "df[, c(\"ID\", \"Color\", \"Passed\")]"
      ]
    },
    {
      "cell_type": "code",
      "execution_count": null,
      "metadata": {
        "id": "YPCs5Ya7HVR1",
        "vscode": {
          "languageId": "r"
        }
      },
      "outputs": [],
      "source": [
        "df[, c(1, 3, 4)]  # another way to pick columns 1, 3 and 4"
      ]
    },
    {
      "cell_type": "markdown",
      "metadata": {
        "id": "SMjVnv7oRnaH"
      },
      "source": [
        "## <a name=\"exclude\">Excluding Rows and/or Columns</a>\n",
        "\n",
        "---\n",
        "\n",
        "We can exclude rows or columns from a data frame using a minus sign `-`.\n",
        "\n",
        "For example, if we had a data frame named `df`:\n",
        "\n",
        "-   `df[-6, ]` would slice all rows and columns from `df` *except for row 6*.\n",
        "-   `df[, -c(3, 6, 11)]` would extract all rows and all columns from `df` *except for columns 3, 6, and 11*.\n",
        "-   `df[-c(2:4), -c(4:7)]` would extract all rows *except rows 2 thru 4* and all columns *except columns 4 thru 7* of `df`.\n"
      ]
    },
    {
      "cell_type": "code",
      "execution_count": null,
      "metadata": {
        "id": "cxmg769HHVR1",
        "vscode": {
          "languageId": "r"
        }
      },
      "outputs": [],
      "source": [
        "# another we to pick columns 1, 3 and 4\n",
        "df[, -2]  # exclude column 2"
      ]
    },
    {
      "cell_type": "code",
      "execution_count": null,
      "metadata": {
        "id": "Q9hgkvUsS59s",
        "vscode": {
          "languageId": "r"
        }
      },
      "outputs": [],
      "source": [
        "df[-c(1:2), ]  # exclued rows 1 thru 2"
      ]
    },
    {
      "cell_type": "markdown",
      "metadata": {
        "id": "qWmIphwzxaIX"
      },
      "source": [
        "# <a name=\"Extract-vec\">Extracting Parts of a Vector</a>\n",
        "\n",
        "---\n",
        "\n",
        "Similarly, subsets of the elements of a vector can be extracted by appending an index vector in square brackets `[]` to the name of the vector.\n",
        "\n",
        "- With vectors, we only need to specify one dimension, the positional index, inside the square brackets.\n",
        "\n"
      ]
    },
    {
      "cell_type": "markdown",
      "metadata": {
        "id": "1qzgTT_Sx031"
      },
      "source": [
        "## <a name=\"quest2\">Question 2</a>\n",
        "\n",
        "---\n",
        "\n",
        "Consider the vector `a` created by code cell below.\n"
      ]
    },
    {
      "cell_type": "code",
      "execution_count": null,
      "metadata": {
        "id": "kugCaT_6xvQN",
        "vscode": {
          "languageId": "r"
        }
      },
      "outputs": [],
      "source": [
        "# define a sequence 2, 4, ..., 16\n",
        "a <- seq(2, 16, by = 2)\n",
        "a"
      ]
    },
    {
      "cell_type": "markdown",
      "metadata": {
        "id": "oBIwUEMz2X54"
      },
      "source": [
        "### <a name=\"quest2a\">Question 2a</a>\n",
        "\n",
        "---\n",
        "\n",
        "Extract the 2nd, 4th, and 6th elements of the vector `a`."
      ]
    },
    {
      "cell_type": "code",
      "execution_count": null,
      "metadata": {
        "id": "HMPknM7e2ajt",
        "vscode": {
          "languageId": "r"
        }
      },
      "outputs": [],
      "source": []
    },
    {
      "cell_type": "markdown",
      "metadata": {
        "id": "GoZ_5G9wxuXP"
      },
      "source": [
        "### <a name=\"quest2b\">Question 2b</a>\n",
        "\n",
        "---\n",
        "\n",
        "Extract elements in `a` except the 2nd, 4th, and 6th using the minus (`-`) sign in method.\n",
        "\n"
      ]
    },
    {
      "cell_type": "code",
      "execution_count": null,
      "metadata": {
        "id": "UcIJnEpT2qBV",
        "vscode": {
          "languageId": "r"
        }
      },
      "outputs": [],
      "source": []
    },
    {
      "cell_type": "markdown",
      "metadata": {
        "id": "HNEu5M_r2pRA"
      },
      "source": [
        "### <a name=\"quest2c\">Question 2c</a>\n",
        "\n",
        "---\n",
        "\n",
        "Extract elements in `a` except elements 3 through 6 using the minus (`-`) sign in method.\n",
        "\n"
      ]
    },
    {
      "cell_type": "code",
      "execution_count": null,
      "metadata": {
        "id": "BoBaj_QO2qde",
        "vscode": {
          "languageId": "r"
        }
      },
      "outputs": [],
      "source": []
    },
    {
      "cell_type": "markdown",
      "metadata": {
        "id": "pIPk1WjvHVR1"
      },
      "source": [
        "# <a name=\"importing\">Importing an External File as a Data Frame</a>\n",
        "\n",
        "---\n",
        "\n",
        "The `read.table` function imports data from file into R as a data frame.\n",
        "\n",
        "Usage: `read.table(file, header = TRUE, sep = \",\")`\n",
        "\n",
        "-   `file` is the file path and name of the file you want to import into\n",
        "    R.\n",
        "    -   If you don’t know the file path, set `file = file.choose()` will\n",
        "        bring up a dialog box asking you to locate the file you want to\n",
        "        import.\n",
        "-   `header` specifies whether the data file has a header (variable\n",
        "    labels for each column of data in the first row of the data file).\n",
        "    -   If you don’t specify this option in R or use `header = FALSE`,\n",
        "        then R will assume the file doesn’t have any headings.\n",
        "    -   `header = TRUE` tells R to read in the data as a data frame with\n",
        "        column names taken from the first row of the data file.\n",
        "-   `sep` specifies the delimiter separating elements in the file.\n",
        "    -   If each column of data in the file is separated by a space, then\n",
        "        use `sep = \" \"`\n",
        "    -   If each column of data in the file is separated by a comma, then\n",
        "        use `sep = \",\"`\n",
        "    -   If each column of data in the file is separated by a tab, then\n",
        "        use `sep = \"\\t\"`.\n",
        "\n",
        "Here is an example reading a csv (comma separated file) with a header:"
      ]
    },
    {
      "cell_type": "code",
      "execution_count": null,
      "metadata": {
        "id": "UZ6Lf_H_HVR1",
        "vscode": {
          "languageId": "r"
        }
      },
      "outputs": [],
      "source": [
        "# import data as data frame\n",
        "bike_store <- read.table(file = \"https://raw.githubusercontent.com/CU-Denver-MathStats-OER/Statistical-Theory/main/Data/Transactions.csv\",\n",
        "                  header = TRUE,  # Keep column headers as names\n",
        "                  sep = \",\")  # comma as separator of columns"
      ]
    },
    {
      "cell_type": "code",
      "execution_count": null,
      "metadata": {
        "id": "Wkc04WztVVA6",
        "vscode": {
          "languageId": "r"
        }
      },
      "outputs": [],
      "source": [
        "str(bike_store)"
      ]
    },
    {
      "cell_type": "markdown",
      "metadata": {
        "id": "pTgMKsGKVjV6"
      },
      "source": [
        "## <a name=\"read-csv\">Loading .csv Files with `read.csv`</a>\n",
        "\n",
        "---\n",
        "\n",
        "If the data we are importing is stored in a comma separate file (.csv), then we can also use the function `read.csv()` to import the csv file into an R data frame."
      ]
    },
    {
      "cell_type": "code",
      "execution_count": null,
      "metadata": {
        "id": "aG1G26XKl8nh",
        "vscode": {
          "languageId": "r"
        }
      },
      "outputs": [],
      "source": [
        "# import data as data frame\n",
        "bike_store <- read.csv(file = \"https://raw.githubusercontent.com/CU-Denver-MathStats-OER/Statistical-Theory/main/Data/Transactions.csv\")"
      ]
    },
    {
      "cell_type": "code",
      "execution_count": null,
      "metadata": {
        "id": "dbxDmA7bmEVg",
        "vscode": {
          "languageId": "r"
        }
      },
      "outputs": [],
      "source": [
        "summary(bike_store)"
      ]
    },
    {
      "cell_type": "markdown",
      "metadata": {
        "id": "pY7Oyt5kWCiW"
      },
      "source": [
        "## <a name=\"clean-bike\">Cleaning the Bike Store Data</a>\n",
        "\n",
        "---\n",
        "\n",
        "- `na.omit()` removes all observations that have an `NA` value for at least one of the variables.\n",
        "- We convert categorical variables to factors using the `factor()` function.\n",
        "- We extract date from columns 6 thru 12 and will focus our analysis on data from those columns."
      ]
    },
    {
      "cell_type": "code",
      "execution_count": null,
      "metadata": {
        "id": "XGudLc_imJIT",
        "vscode": {
          "languageId": "r"
        }
      },
      "outputs": [],
      "source": [
        "# import data as data frame\n",
        "bike_store <- na.omit(bike_store)\n",
        "\n",
        "bike_store$order_status <- factor(bike_store$order_status)\n",
        "bike_store$brand <- factor(bike_store$brand)\n",
        "bike_store$product_line <- factor(bike_store$product_line)\n",
        "bike_store$product_class <- factor(bike_store$product_class)\n",
        "bike_store$product_size <- factor(bike_store$product_size)\n",
        "bike_clean <- bike_store[, c(6:12)]\n",
        "\n",
        "summary(bike_clean)"
      ]
    },
    {
      "cell_type": "markdown",
      "metadata": {
        "id": "91146QOCo4bU"
      },
      "source": [
        "## <a name=\"quest3\">Question 3</a>\n",
        "\n",
        "---\n",
        "\n",
        "Use indexing to slice rows 23 thru 28 and variables `brand`, `product_line` and `list_price` from the data frame `bike_clean` created in the previous code cell. Do not write the subsetted data over the data frame `bike_clean`. Simply print the extracted data to the screen and do not assign it to any object.\n",
        "\n",
        "<br>\n",
        "\n",
        "*Hint: Be sure you have run the previous code cells to load the original data frame `bike_store` and stored the cleaned data to `bike_clean` before solving this question.*"
      ]
    },
    {
      "cell_type": "code",
      "execution_count": null,
      "metadata": {
        "id": "BRGFNznMZRAb",
        "vscode": {
          "languageId": "r"
        }
      },
      "outputs": [],
      "source": [
        "bike_clean[??, ??]"
      ]
    },
    {
      "cell_type": "markdown",
      "metadata": {
        "id": "ukRw0VSrHVR2"
      },
      "source": [
        "# <a name=\"logical\">Logical Statements</a>\n",
        "\n",
        "---\n",
        "\n",
        "Sometimes we need to know if the elements of an object satisfy certain\n",
        "conditions. This can be determined using the logical operators `<`,\n",
        "`<=`, `>`, `>=`, `==`, `!=`.\n",
        "\n",
        "-   `<` means strictly less than.\n",
        "-   `<=` means less than or equal to.\n",
        "-   `>` means strictly greater than.\n",
        "-   `>=` means greater than or equal to\n",
        "-   `==` means equal to.\n",
        "-   `!=` means NOT equal to.\n",
        "\n",
        "\n",
        "\n",
        "\n",
        "Execute the following commands in R and see what you get."
      ]
    },
    {
      "cell_type": "code",
      "execution_count": null,
      "metadata": {
        "id": "HH0EK8bYHVR2",
        "vscode": {
          "languageId": "r"
        }
      },
      "outputs": [],
      "source": [
        "a <- seq(2, 16, by = 2) # creating the vector a\n",
        "a\n",
        "a > 10\n",
        "a <= 4\n",
        "a == 10\n",
        "a != 10"
      ]
    },
    {
      "cell_type": "markdown",
      "metadata": {
        "id": "2uLGgrwkHVR2"
      },
      "source": [
        "## <a name=\"and-or\">And and Or Statements</a>\n",
        "\n",
        "---\n",
        "\n",
        "More complicated logical statements can be made using `&` and `|`.\n",
        "\n",
        "-   `&` means “and”\n",
        "    -   Both statements must be true for `state1 & state2` to return\n",
        "        `TRUE`.\n",
        "-   `|` means “or”\n",
        "    -   Only one of the the two statements must be true for\n",
        "        `state1 | state2` to return `TRUE`.\n",
        "    -   If both statements are true in an “or” statement, the statement is also `TRUE`.\n",
        "\n",
        "Below is a summary of “and” and “or” logic:\n",
        "\n",
        "-   `TRUE & TRUE` returns `TRUE`\n",
        "-   `FALSE & TRUE` returns `FALSE`\n",
        "-   `FALSE & FALSE` returns `FALSE`\n",
        "-   `TRUE | TRUE` returns `TRUE`\n",
        "-   `FALSE | TRUE` returns `TRUE`\n",
        "-   `FALSE | FALSE` returns `FALSE`"
      ]
    },
    {
      "cell_type": "code",
      "execution_count": null,
      "metadata": {
        "id": "Sallpx7hHVR2",
        "vscode": {
          "languageId": "r"
        }
      },
      "outputs": [],
      "source": [
        "# relationship between logicals & (and), | (or)\n",
        "TRUE & TRUE\n",
        "FALSE & TRUE\n",
        "FALSE & FALSE\n",
        "TRUE | TRUE\n",
        "FALSE | TRUE\n",
        "FALSE | FALSE"
      ]
    },
    {
      "cell_type": "markdown",
      "metadata": {
        "id": "zHFRrQCMHVR2"
      },
      "source": [
        "We can execute the following commands in R and check the output."
      ]
    },
    {
      "cell_type": "code",
      "execution_count": null,
      "metadata": {
        "id": "Uqu22vdLHVR3",
        "vscode": {
          "languageId": "r"
        }
      },
      "outputs": [],
      "source": [
        "b <- 3  # b is equal to the number 3\n",
        "\n",
        "# complex logical statements\n",
        "(b > 6) & (b <= 10)  # FALSE and TRUE\n",
        "(b <= 4) | (b >= 12)  # TRUE or FALSE"
      ]
    },
    {
      "cell_type": "markdown",
      "metadata": {
        "id": "1Be-AbvAHVR3"
      },
      "source": [
        "## <a name=\"logic-index\">Logical Indexing</a>\n",
        "---\n",
        "\n",
        "We can use a logical statement as an index to extract certain entries from a vector or data frame. For example, if we want to to know the `order_status` (column 1), `brand` (column 2), `product_line` (column 3), and `list_price` (column 6) of all transactions that have a `list_price` greater than \\$2,090, then:\n",
        "\n",
        "-   We use a logical index for the row to extract just the rows that have a `list_price` value strictly greater than 2090.\n",
        "-   We indicate we want to keep just columns 1 thru 3, and 6 with the column index `c(1:3, 6)`.\n",
        "-   We store the results to a new data frame named `expensive`.\n",
        "-   Finally, we print the first 6 rows of our new data frame with the `head()` function to check the results."
      ]
    },
    {
      "cell_type": "code",
      "execution_count": null,
      "metadata": {
        "id": "ghLm9ZwKeziq",
        "vscode": {
          "languageId": "r"
        }
      },
      "outputs": [],
      "source": [
        "head(bike_clean)"
      ]
    },
    {
      "cell_type": "code",
      "execution_count": null,
      "metadata": {
        "id": "RoJqgwZNHVR3",
        "vscode": {
          "languageId": "r"
        }
      },
      "outputs": [],
      "source": [
        "expensive <- bike_clean[bike_clean$list_price > 2090, c(1:3, 6)]\n",
        "head(expensive)"
      ]
    },
    {
      "cell_type": "markdown",
      "metadata": {
        "id": "QUHO9njarI7v"
      },
      "source": [
        "## <a name=\"quest4\">Question 4</a>\n",
        "\n",
        "---\n",
        "\n",
        "Use logicals and indexing to create a new data frame from the `bike_clean` data frame that satisfies the given conditions.\n",
        "\n",
        "<br>  \n",
        "\n"
      ]
    },
    {
      "cell_type": "markdown",
      "metadata": {
        "id": "lq6Bdg9qbvfw"
      },
      "source": [
        "## <a name=\"quest4a\">Question 4a</a>\n",
        "\n",
        "---\n",
        "\n",
        "Contains all observations in the `bike_clean` data frame with `product_line` equal to `Road`. Assign the extracted data to a new data frame named `road_sales`.\n",
        "\n",
        "<br>  \n",
        "\n"
      ]
    },
    {
      "cell_type": "code",
      "execution_count": null,
      "metadata": {
        "id": "UjF-XeavcEVT",
        "vscode": {
          "languageId": "r"
        }
      },
      "outputs": [],
      "source": [
        "road_sales <- bike_clean[??, ??]\n",
        "head(road_sales)  # check first 6 rows"
      ]
    },
    {
      "cell_type": "markdown",
      "metadata": {
        "id": "wxRXNg_wblRm"
      },
      "source": [
        "## <a name=\"quest4b\">Question 4b</a>\n",
        "\n",
        "---\n",
        "\n",
        "Contains all observations in the `bike_clean` data frame with `list_price` that is stricly less than the average list price. Assign the extracted data to a new data frame named `below_ave`.\n",
        "\n",
        "<br>  \n"
      ]
    },
    {
      "cell_type": "code",
      "execution_count": null,
      "metadata": {
        "id": "DP8lsIT_boUb",
        "vscode": {
          "languageId": "r"
        }
      },
      "outputs": [],
      "source": [
        "below_ave <- bike_clean[??, ??]\n",
        "head(below_ave)  # check first 6 rows"
      ]
    },
    {
      "cell_type": "markdown",
      "metadata": {
        "id": "5SVpH15ebnDJ"
      },
      "source": [
        "## <a name=\"quest4c\">Question 4c</a>\n",
        "\n",
        "---\n",
        "\n",
        "\n",
        "Contains all observations in the `bike_clean` data frame with `list_price` that is stricly less than the average list price AND has a `product_line` equal to `Road`. Assign the extracted data to a new data frame named `both_conditions`.\n",
        "\n",
        "<br>  \n"
      ]
    },
    {
      "cell_type": "code",
      "execution_count": null,
      "metadata": {
        "id": "vszYx72wbn_t",
        "vscode": {
          "languageId": "r"
        }
      },
      "outputs": [],
      "source": [
        "both_conditions <- bike_clean[??, ??]\n",
        "head(both_conditions)  # check first 6 rows"
      ]
    },
    {
      "cell_type": "markdown",
      "metadata": {
        "id": "eTrLf7jOBdFF"
      },
      "source": [
        "# <a name=\"subset\">Slicing Data with the `subset()` Function</a>\n",
        "\n",
        "---\n",
        "\n",
        "As the name implies, the `subset()` function in base R is a really useful function for subsetting! We can open the help documentation with `?subset` to learn how to apply this function. Below are some examples of different ways we may want to subset the `bike_clean` data frame."
      ]
    },
    {
      "cell_type": "code",
      "execution_count": null,
      "metadata": {
        "id": "33777e72-e0ab-4205-82d9-5771639829ce",
        "vscode": {
          "languageId": "r"
        }
      },
      "outputs": [],
      "source": [
        "# keeps all variables for observations with product_line equal to Road\n",
        "road_ver1 <- subset(bike_clean,  # name of data frame\n",
        "                    product_line == \"Road\")  # logical condition\n",
        "\n",
        "# keeps only the list_price and product_line columns\n",
        "road_ver2 <- subset(bike_clean,  # name of data frame\n",
        "                    select = c(list_price, product_line),  # column(s) to select\n",
        "                    product_line == \"Road\")  # logical condition\n",
        "\n",
        "# stores object as a vector instead of a data frame\n",
        "road_ver3  <- subset(bike_clean,  # name of data frame\n",
        "                     select = list_price,  # column(s) to select\n",
        "                     product_line == \"Road\",  # logical condition\n",
        "                     drop = TRUE)  # store object as a vector not a data frame"
      ]
    },
    {
      "cell_type": "code",
      "execution_count": null,
      "metadata": {
        "id": "493eb710-82dd-4582-851d-d5016a1dea3a",
        "vscode": {
          "languageId": "r"
        }
      },
      "outputs": [],
      "source": [
        "# all variables of product_line equal to Road are selected\n",
        "head(road_ver1)"
      ]
    },
    {
      "cell_type": "code",
      "execution_count": null,
      "metadata": {
        "id": "cf4aeb62-fb74-4921-9a5b-ff68ae5c54b7",
        "vscode": {
          "languageId": "r"
        }
      },
      "outputs": [],
      "source": [
        "# just list_price and product_line columns are selected\n",
        "head(road_ver2)"
      ]
    },
    {
      "cell_type": "code",
      "execution_count": null,
      "metadata": {
        "id": "8ab3113b-b8a3-470f-9fdd-b6826cf58bd1",
        "vscode": {
          "languageId": "r"
        }
      },
      "outputs": [],
      "source": [
        "# list_price for product_line equal to Road stored in a vector\n",
        "head(road_ver3)"
      ]
    },
    {
      "cell_type": "code",
      "execution_count": null,
      "metadata": {
        "id": "K0rXD0mewbyf",
        "vscode": {
          "languageId": "r"
        }
      },
      "outputs": [],
      "source": [
        "#ave_price <- mean(bike_clean$list_price)  # compute and store mean list price\n",
        "\n",
        "road_below <- subset(bike_clean,  # data frame\n",
        "                    select = c(list_price, product_line),  # name(s) of selected variable(s)\n",
        "                    product_line == \"Road\" & list_price < ave_price)  # logical condition(s)\n",
        "\n",
        "head(road_below)"
      ]
    },
    {
      "cell_type": "markdown",
      "metadata": {
        "id": "0LUMgFshjsYa"
      },
      "source": [
        "## <a name=\"CC License\">Creative Commons License Information</a>\n",
        "---\n",
        "\n",
        "![Creative Commons\n",
        "License](https://i.creativecommons.org/l/by-nc-sa/4.0/88x31.png)\n",
        "\n",
        "Materials created by the [Department of Mathematical and Statistical Sciences at the University of Colorado Denver](https://github.com/CU-Denver-MathStats-OER/)\n",
        "and is licensed under a [Creative Commons\n",
        "Attribution-NonCommercial-ShareAlike 4.0 International\n",
        "License](http://creativecommons.org/licenses/by-nc-sa/4.0/)."
      ]
    }
  ],
  "metadata": {
    "colab": {
      "authorship_tag": "ABX9TyMAAx04934gIqQIO/tkz/kq",
      "provenance": []
    },
    "kernelspec": {
      "display_name": "R",
      "name": "ir"
    },
    "language_info": {
      "name": "R"
    }
  },
  "nbformat": 4,
  "nbformat_minor": 0
}
