{
  "nbformat": 4,
  "nbformat_minor": 0,
  "metadata": {
    "colab": {
      "provenance": [],
      "authorship_tag": "ABX9TyMB+rMFogilltYkaoc9e/H4"
    },
    "kernelspec": {
      "name": "ir",
      "display_name": "R"
    },
    "language_info": {
      "name": "R"
    }
  },
  "cells": [
    {
      "cell_type": "markdown",
      "source": [
        "[![Open In Colab](https://colab.research.google.com/assets/colab-badge.svg)](https://githubtocolab.com/CU-Denver-MathStats-OER/Data-Wrangling-and-Visualization/blob/main/08-Tidying-Data-with-tidyr.ipynb)\n",
        "\n",
        "\n",
        "\n",
        "\n"
      ],
      "metadata": {
        "id": "WaUpDHKEpNrt"
      }
    },
    {
      "cell_type": "markdown",
      "source": [
        "# <a name=\"08-title\"><font size=\"6\">Module 08: Tidying Data with `tidyr`</font></a>\n",
        "\n",
        "---"
      ],
      "metadata": {
        "id": "TyO8Rh7aOeOy"
      }
    },
    {
      "cell_type": "markdown",
      "source": [
        "# <a name=\"tidyr\">The `tidyr` Package</a>\n",
        "\n",
        "---\n",
        "\n",
        "\n",
        "![tidyr-logo](https://tidyr.tidyverse.org/logo.png)\n",
        "\n",
        "The goal of the [`tidyr`](https://tidyr.tidyverse.org/) package is to help create **tidy data** that is structured so that:\n",
        "\n",
        "1. Each variable is in a single column and no variables share a column.\n",
        "2. Each observation is in a single row.\n",
        "3. Each data value has its own cell.\n",
        "\n",
        "\n",
        "The guidelines for tidy data may seem clear and obvious by now.  Why do we need to worry about tidying data, isn't all data tidy? When or why would we ever encounter messy data out there in the \"real world\". **Unfortunately, most \"real\" data is messy and tidy.**\n",
        "\n",
        "- Data is often organized to make *data entry* easy and not typically with *data analysis* in mind.\n",
        "- For people that do not spent their time working with data, the princples of tidy data are not evident at all.\n",
        "\n",
        "<br>  \n",
        "\n"
      ],
      "metadata": {
        "id": "rTsMhNNp09y-"
      }
    },
    {
      "cell_type": "markdown",
      "source": [
        "## <a name=\"load-tidyverse\">Loading `tidyverse` Packages</a>\n",
        "\n",
        "---\n",
        "\n",
        "The [`tidyverse`](https://www.tidyverse.org/) is a [collection of packages](https://www.tidyverse.org/packages/) by [Hadley Wickham](https://blog.revolutionanalytics.com/2016/09/tidyverse.html) that \"share an underlying design philosophy, grammar, and data structures\" of tidy data. We can load individual packages within the `tidyverse` one by one, or we can load all packages at once with the command `library(tidyverse)`.\n",
        "\n",
        "- The `tidyr` package is one of the core `tidyverse` packages.\n",
        "- The `dplyr` and `ggplot2` packages are also`tidyverse` packages.\n"
      ],
      "metadata": {
        "id": "Y3VleKYlqGJT"
      }
    },
    {
      "cell_type": "code",
      "source": [
        "library(tidyverse)"
      ],
      "metadata": {
        "colab": {
          "base_uri": "https://localhost:8080/"
        },
        "id": "4-40oKhmpkTB",
        "outputId": "f184777f-e299-4a5e-b2e5-61b59c6af0cd"
      },
      "execution_count": 1,
      "outputs": [
        {
          "output_type": "stream",
          "name": "stderr",
          "text": [
            "── \u001b[1mAttaching core tidyverse packages\u001b[22m ──────────────────────── tidyverse 2.0.0 ──\n",
            "\u001b[32m✔\u001b[39m \u001b[34mdplyr    \u001b[39m 1.1.4     \u001b[32m✔\u001b[39m \u001b[34mreadr    \u001b[39m 2.1.5\n",
            "\u001b[32m✔\u001b[39m \u001b[34mforcats  \u001b[39m 1.0.0     \u001b[32m✔\u001b[39m \u001b[34mstringr  \u001b[39m 1.5.1\n",
            "\u001b[32m✔\u001b[39m \u001b[34mggplot2  \u001b[39m 3.5.1     \u001b[32m✔\u001b[39m \u001b[34mtibble   \u001b[39m 3.2.1\n",
            "\u001b[32m✔\u001b[39m \u001b[34mlubridate\u001b[39m 1.9.4     \u001b[32m✔\u001b[39m \u001b[34mtidyr    \u001b[39m 1.3.1\n",
            "\u001b[32m✔\u001b[39m \u001b[34mpurrr    \u001b[39m 1.0.4     \n",
            "── \u001b[1mConflicts\u001b[22m ────────────────────────────────────────── tidyverse_conflicts() ──\n",
            "\u001b[31m✖\u001b[39m \u001b[34mdplyr\u001b[39m::\u001b[32mfilter()\u001b[39m masks \u001b[34mstats\u001b[39m::filter()\n",
            "\u001b[31m✖\u001b[39m \u001b[34mdplyr\u001b[39m::\u001b[32mlag()\u001b[39m    masks \u001b[34mstats\u001b[39m::lag()\n",
            "\u001b[36mℹ\u001b[39m Use the conflicted package (\u001b[3m\u001b[34m<http://conflicted.r-lib.org/>\u001b[39m\u001b[23m) to force all conflicts to become errors\n"
          ]
        }
      ]
    },
    {
      "cell_type": "markdown",
      "source": [
        "# <a name=\"tibble\">Tibbles</a>\n",
        "\n",
        "---\n",
        "\n",
        "\n",
        "A <font color=\"dodgerblue\">**tibble**</font> is a fundamental structure in the `tidyverse` for interacting with most packages and functions. In the words of the developers of the [`tibble`](https://tibble.tidyverse.org/) package:\n",
        "\n",
        "> \"A <font color=\"dodgerblue\">**tibble**</font>, or `tbl_df`, is a modern reimagining of the data.frame, keeping what time has proven to be effective, and throwing out what is not.\"\n"
      ],
      "metadata": {
        "id": "A1cdCmbRVzPv"
      }
    },
    {
      "cell_type": "markdown",
      "source": [
        "## <a name=\"diff-tib-df\">Differences Between a `tibble` and a `data.frame`</a>\n",
        "\n",
        "---\n",
        "\n",
        "A tibble is *more or less* a `data.frame`. For example, typically functions, both inside and outside the `tidyverse`, that take a `data.frame` as an input also will take a tibble as an input. However, a tibble does generally have more restrictive behaviors than a `data.frame`.\n",
        "\n",
        "- Tibbles have an [enhanced `print()`](#enhanced-print) method which makes them easier to use with large datasets.\n",
        "- Tibbles do not allow for [partial matching of variable names](#part-match).\n",
        "- [Subsetting a tibble](#subset-tib) always produces a tibble.\n",
        "- Variables used to create a tibble must (generally) have the [same length](#var-length).\n",
        "\n"
      ],
      "metadata": {
        "id": "Wh0Wb6jhqm9F"
      }
    },
    {
      "cell_type": "markdown",
      "source": [
        "### <a name=\"enhanced-print\">Enhanced Print</a>\n",
        "\n",
        "---\n",
        "\n",
        "When viewing a data frame or tibble as output from a code cell in Colab, by default the entire data set is displayed if possible. If the data set is large, then the first 30 rows and last 30 columns are displayed in a scrolling window which may not be very convenient since that is a lot of raw data to look at!\n",
        "\n",
        "The `print()` function has enhanced capabilities when the input is a tibble compared to a `data.frame`.\n",
        "\n",
        "- Tibbles only print as many rows and columns as fit on one screen, supplemented by a summary of the remaining rows and columns.\n",
        "- Tibbles print the data type of each column.\n",
        "- We can specify the number of rows to print with the option `n`.\n",
        "- We can increase the column widths with the option `width`.\n",
        "\n"
      ],
      "metadata": {
        "id": "xYA7aCqbYomV"
      }
    },
    {
      "cell_type": "code",
      "source": [
        "# storms is a tibble which has class tbl_df\n",
        "# tibbles are also stored as a data.frame\n",
        "class(storms)"
      ],
      "metadata": {
        "colab": {
          "base_uri": "https://localhost:8080/",
          "height": 34
        },
        "id": "vhBrxdyck623",
        "outputId": "e94a773b-785b-492e-8cce-e84a7d071121"
      },
      "execution_count": 2,
      "outputs": [
        {
          "output_type": "display_data",
          "data": {
            "text/html": [
              "<style>\n",
              ".list-inline {list-style: none; margin:0; padding: 0}\n",
              ".list-inline>li {display: inline-block}\n",
              ".list-inline>li:not(:last-child)::after {content: \"\\00b7\"; padding: 0 .5ex}\n",
              "</style>\n",
              "<ol class=list-inline><li>'tbl_df'</li><li>'tbl'</li><li>'data.frame'</li></ol>\n"
            ],
            "text/markdown": "1. 'tbl_df'\n2. 'tbl'\n3. 'data.frame'\n\n\n",
            "text/latex": "\\begin{enumerate*}\n\\item 'tbl\\_df'\n\\item 'tbl'\n\\item 'data.frame'\n\\end{enumerate*}\n",
            "text/plain": [
              "[1] \"tbl_df\"     \"tbl\"        \"data.frame\""
            ]
          },
          "metadata": {}
        }
      ]
    },
    {
      "cell_type": "code",
      "source": [
        "storms_df <- as.data.frame(storms)  # convert to a data.frame\n",
        "class(storms_df)  # returns the class attribute as only data.frame"
      ],
      "metadata": {
        "colab": {
          "base_uri": "https://localhost:8080/",
          "height": 34
        },
        "id": "lm6xHiXPkhFG",
        "outputId": "8e0b66e5-8440-42bd-fd00-66dc4e09b8d0"
      },
      "execution_count": 3,
      "outputs": [
        {
          "output_type": "display_data",
          "data": {
            "text/html": [
              "'data.frame'"
            ],
            "text/markdown": "'data.frame'",
            "text/latex": "'data.frame'",
            "text/plain": [
              "[1] \"data.frame\""
            ]
          },
          "metadata": {}
        }
      ]
    },
    {
      "cell_type": "code",
      "source": [
        "# storms_df is a data.frame, not a tibble\n",
        "# the print() function prints all rows and columns\n",
        "# too ... much ... information!!!\n",
        "print(storms_df)"
      ],
      "metadata": {
        "id": "O3WUF5y9e1-R"
      },
      "execution_count": null,
      "outputs": []
    },
    {
      "cell_type": "code",
      "source": [
        "# in colab this prints first and last 30 rows and\n",
        "# we see some summary output on top\n",
        "# still ... too ... much ... information!!!\n",
        "storms_df"
      ],
      "metadata": {
        "id": "TF5LFxcsguda"
      },
      "execution_count": null,
      "outputs": []
    },
    {
      "cell_type": "code",
      "source": [
        "#storms <- as_tibble(storms_df)  # convert to a tibble\n",
        "class(storms)"
      ],
      "metadata": {
        "colab": {
          "base_uri": "https://localhost:8080/",
          "height": 34
        },
        "id": "9-xYcWHpgY2p",
        "outputId": "8bbe94f0-5d3c-4dfe-9e6d-940c65bb8863"
      },
      "execution_count": 6,
      "outputs": [
        {
          "output_type": "display_data",
          "data": {
            "text/html": [
              "<style>\n",
              ".list-inline {list-style: none; margin:0; padding: 0}\n",
              ".list-inline>li {display: inline-block}\n",
              ".list-inline>li:not(:last-child)::after {content: \"\\00b7\"; padding: 0 .5ex}\n",
              "</style>\n",
              "<ol class=list-inline><li>'tbl_df'</li><li>'tbl'</li><li>'data.frame'</li></ol>\n"
            ],
            "text/markdown": "1. 'tbl_df'\n2. 'tbl'\n3. 'data.frame'\n\n\n",
            "text/latex": "\\begin{enumerate*}\n\\item 'tbl\\_df'\n\\item 'tbl'\n\\item 'data.frame'\n\\end{enumerate*}\n",
            "text/plain": [
              "[1] \"tbl_df\"     \"tbl\"        \"data.frame\""
            ]
          },
          "metadata": {}
        }
      ]
    },
    {
      "cell_type": "code",
      "source": [
        "# enhanced print for a tibble\n",
        "#print(storms)\n",
        "print(storms, n = 5)\n",
        "#print(storms, n = 5, width = Inf)"
      ],
      "metadata": {
        "colab": {
          "base_uri": "https://localhost:8080/"
        },
        "id": "f8c7rXRYggzk",
        "outputId": "a8d4d515-ac9a-4b38-9051-9fe6b4dff696"
      },
      "execution_count": 7,
      "outputs": [
        {
          "output_type": "stream",
          "name": "stdout",
          "text": [
            "\u001b[90m# A tibble: 19,537 × 13\u001b[39m\n",
            "  name   year month   day  hour   lat  long status       category  wind pressure\n",
            "  \u001b[3m\u001b[90m<chr>\u001b[39m\u001b[23m \u001b[3m\u001b[90m<dbl>\u001b[39m\u001b[23m \u001b[3m\u001b[90m<dbl>\u001b[39m\u001b[23m \u001b[3m\u001b[90m<int>\u001b[39m\u001b[23m \u001b[3m\u001b[90m<dbl>\u001b[39m\u001b[23m \u001b[3m\u001b[90m<dbl>\u001b[39m\u001b[23m \u001b[3m\u001b[90m<dbl>\u001b[39m\u001b[23m \u001b[3m\u001b[90m<fct>\u001b[39m\u001b[23m           \u001b[3m\u001b[90m<dbl>\u001b[39m\u001b[23m \u001b[3m\u001b[90m<int>\u001b[39m\u001b[23m    \u001b[3m\u001b[90m<int>\u001b[39m\u001b[23m\n",
            "\u001b[90m1\u001b[39m Amy    \u001b[4m1\u001b[24m975     6    27     0  27.5 -\u001b[31m79\u001b[39m   tropical de…       \u001b[31mNA\u001b[39m    25     \u001b[4m1\u001b[24m013\n",
            "\u001b[90m2\u001b[39m Amy    \u001b[4m1\u001b[24m975     6    27     6  28.5 -\u001b[31m79\u001b[39m   tropical de…       \u001b[31mNA\u001b[39m    25     \u001b[4m1\u001b[24m013\n",
            "\u001b[90m3\u001b[39m Amy    \u001b[4m1\u001b[24m975     6    27    12  29.5 -\u001b[31m79\u001b[39m   tropical de…       \u001b[31mNA\u001b[39m    25     \u001b[4m1\u001b[24m013\n",
            "\u001b[90m4\u001b[39m Amy    \u001b[4m1\u001b[24m975     6    27    18  30.5 -\u001b[31m79\u001b[39m   tropical de…       \u001b[31mNA\u001b[39m    25     \u001b[4m1\u001b[24m013\n",
            "\u001b[90m5\u001b[39m Amy    \u001b[4m1\u001b[24m975     6    28     0  31.5 -\u001b[31m78\u001b[39m\u001b[31m.\u001b[39m\u001b[31m8\u001b[39m tropical de…       \u001b[31mNA\u001b[39m    25     \u001b[4m1\u001b[24m012\n",
            "\u001b[90m# ℹ 19,532 more rows\u001b[39m\n",
            "\u001b[90m# ℹ 2 more variables: tropicalstorm_force_diameter <int>,\u001b[39m\n",
            "\u001b[90m#   hurricane_force_diameter <int>\u001b[39m\n"
          ]
        }
      ]
    },
    {
      "cell_type": "markdown",
      "source": [
        "### <a name=\"part-match\">Partial Matching of Variable Names</a>\n",
        "\n",
        "---\n",
        "\n"
      ],
      "metadata": {
        "id": "3I1OoWm7kHvR"
      }
    },
    {
      "cell_type": "code",
      "source": [
        "# create data.frame\n",
        "dtf <- data.frame(numbers = 1:4, letters = letters[1:4])\n",
        "str(dtf)"
      ],
      "metadata": {
        "colab": {
          "base_uri": "https://localhost:8080/"
        },
        "id": "jcSvGa-QrC6u",
        "outputId": "28f6647d-09c1-4a30-ee5e-bf4eed4a4393"
      },
      "execution_count": 8,
      "outputs": [
        {
          "output_type": "stream",
          "name": "stdout",
          "text": [
            "'data.frame':\t4 obs. of  2 variables:\n",
            " $ numbers: int  1 2 3 4\n",
            " $ letters: chr  \"a\" \"b\" \"c\" \"d\"\n"
          ]
        }
      ]
    },
    {
      "cell_type": "code",
      "source": [
        "# partial matching of variable name\n",
        "# will still extract the column\n",
        "dtf$let"
      ],
      "metadata": {
        "colab": {
          "base_uri": "https://localhost:8080/",
          "height": 34
        },
        "id": "BNyUWCyfrHDr",
        "outputId": "51b7e1d2-1c53-4532-a2ea-835d4936d9b6"
      },
      "execution_count": 9,
      "outputs": [
        {
          "output_type": "display_data",
          "data": {
            "text/html": [
              "<style>\n",
              ".list-inline {list-style: none; margin:0; padding: 0}\n",
              ".list-inline>li {display: inline-block}\n",
              ".list-inline>li:not(:last-child)::after {content: \"\\00b7\"; padding: 0 .5ex}\n",
              "</style>\n",
              "<ol class=list-inline><li>'a'</li><li>'b'</li><li>'c'</li><li>'d'</li></ol>\n"
            ],
            "text/markdown": "1. 'a'\n2. 'b'\n3. 'c'\n4. 'd'\n\n\n",
            "text/latex": "\\begin{enumerate*}\n\\item 'a'\n\\item 'b'\n\\item 'c'\n\\item 'd'\n\\end{enumerate*}\n",
            "text/plain": [
              "[1] \"a\" \"b\" \"c\" \"d\""
            ]
          },
          "metadata": {}
        }
      ]
    },
    {
      "cell_type": "code",
      "source": [
        "# create tibble\n",
        "tbl <- tibble(numbers = 1:4, letters = letters[1:4])\n",
        "str(tbl)"
      ],
      "metadata": {
        "colab": {
          "base_uri": "https://localhost:8080/"
        },
        "id": "m4EvUtP2rWYJ",
        "outputId": "87470b9e-aba3-4e6e-c0c8-a170d923cbd0"
      },
      "execution_count": 10,
      "outputs": [
        {
          "output_type": "stream",
          "name": "stdout",
          "text": [
            "tibble [4 × 2] (S3: tbl_df/tbl/data.frame)\n",
            " $ numbers: int [1:4] 1 2 3 4\n",
            " $ letters: chr [1:4] \"a\" \"b\" \"c\" \"d\"\n"
          ]
        }
      ]
    },
    {
      "cell_type": "code",
      "source": [
        "# partial matching of variable name\n",
        "tbl$let"
      ],
      "metadata": {
        "colab": {
          "base_uri": "https://localhost:8080/",
          "height": 69
        },
        "id": "XQ3aS2urrZwa",
        "outputId": "f53f2487-4df0-4ec0-c718-f64a0d16dce7"
      },
      "execution_count": 11,
      "outputs": [
        {
          "output_type": "stream",
          "name": "stderr",
          "text": [
            "Warning message:\n",
            "“Unknown or uninitialised column: `let`.”\n"
          ]
        },
        {
          "output_type": "display_data",
          "data": {
            "text/plain": [
              "NULL"
            ]
          },
          "metadata": {}
        }
      ]
    },
    {
      "cell_type": "markdown",
      "source": [
        "### <a name=\"subset-tib\">Subset of a Tibble is Always a Tibble</a>\n",
        "\n",
        "---\n",
        "\n",
        "Subsetting a `data.frame` can return a vector, which can create edge-cases that results in a bug in your code!\n",
        "\n",
        "\n"
      ],
      "metadata": {
        "id": "00SaM_H3oO5Z"
      }
    },
    {
      "cell_type": "code",
      "source": [
        "# subset a single column from a data.frame and\n",
        "# the output is a vector\n",
        "dtf[ , c(\"letters\")]"
      ],
      "metadata": {
        "colab": {
          "base_uri": "https://localhost:8080/",
          "height": 34
        },
        "outputId": "37814218-3bea-48cf-b05f-8b43596d3962",
        "id": "8-_BNiX9oVA4"
      },
      "execution_count": 12,
      "outputs": [
        {
          "output_type": "display_data",
          "data": {
            "text/html": [
              "<style>\n",
              ".list-inline {list-style: none; margin:0; padding: 0}\n",
              ".list-inline>li {display: inline-block}\n",
              ".list-inline>li:not(:last-child)::after {content: \"\\00b7\"; padding: 0 .5ex}\n",
              "</style>\n",
              "<ol class=list-inline><li>'a'</li><li>'b'</li><li>'c'</li><li>'d'</li></ol>\n"
            ],
            "text/markdown": "1. 'a'\n2. 'b'\n3. 'c'\n4. 'd'\n\n\n",
            "text/latex": "\\begin{enumerate*}\n\\item 'a'\n\\item 'b'\n\\item 'c'\n\\item 'd'\n\\end{enumerate*}\n",
            "text/plain": [
              "[1] \"a\" \"b\" \"c\" \"d\""
            ]
          },
          "metadata": {}
        }
      ]
    },
    {
      "cell_type": "code",
      "source": [
        "# subset a single row from a data.frame and\n",
        "# the output is a data.frame\n",
        "dtf[1, ]"
      ],
      "metadata": {
        "colab": {
          "base_uri": "https://localhost:8080/",
          "height": 129
        },
        "id": "NXMaQvNYpCIw",
        "outputId": "924a07a7-5c08-4108-f896-ce93b778547c"
      },
      "execution_count": 13,
      "outputs": [
        {
          "output_type": "display_data",
          "data": {
            "text/html": [
              "<table class=\"dataframe\">\n",
              "<caption>A data.frame: 1 × 2</caption>\n",
              "<thead>\n",
              "\t<tr><th></th><th scope=col>numbers</th><th scope=col>letters</th></tr>\n",
              "\t<tr><th></th><th scope=col>&lt;int&gt;</th><th scope=col>&lt;chr&gt;</th></tr>\n",
              "</thead>\n",
              "<tbody>\n",
              "\t<tr><th scope=row>1</th><td>1</td><td>a</td></tr>\n",
              "</tbody>\n",
              "</table>\n"
            ],
            "text/markdown": "\nA data.frame: 1 × 2\n\n| <!--/--> | numbers &lt;int&gt; | letters &lt;chr&gt; |\n|---|---|---|\n| 1 | 1 | a |\n\n",
            "text/latex": "A data.frame: 1 × 2\n\\begin{tabular}{r|ll}\n  & numbers & letters\\\\\n  & <int> & <chr>\\\\\n\\hline\n\t1 & 1 & a\\\\\n\\end{tabular}\n",
            "text/plain": [
              "  numbers letters\n",
              "1 1       a      "
            ]
          },
          "metadata": {}
        }
      ]
    },
    {
      "cell_type": "code",
      "source": [
        "# subset of a data.frame is a vector\n",
        "dtf[1:2, c(\"letters\")]"
      ],
      "metadata": {
        "colab": {
          "base_uri": "https://localhost:8080/",
          "height": 34
        },
        "id": "MfBlO388oaim",
        "outputId": "e7fb9098-726e-4d96-b449-61bc4f33210b"
      },
      "execution_count": 14,
      "outputs": [
        {
          "output_type": "display_data",
          "data": {
            "text/html": [
              "<style>\n",
              ".list-inline {list-style: none; margin:0; padding: 0}\n",
              ".list-inline>li {display: inline-block}\n",
              ".list-inline>li:not(:last-child)::after {content: \"\\00b7\"; padding: 0 .5ex}\n",
              "</style>\n",
              "<ol class=list-inline><li>'a'</li><li>'b'</li></ol>\n"
            ],
            "text/markdown": "1. 'a'\n2. 'b'\n\n\n",
            "text/latex": "\\begin{enumerate*}\n\\item 'a'\n\\item 'b'\n\\end{enumerate*}\n",
            "text/plain": [
              "[1] \"a\" \"b\""
            ]
          },
          "metadata": {}
        }
      ]
    },
    {
      "cell_type": "code",
      "source": [
        "# subset of a data.frame is a data.frame\n",
        "dtf[1:2, 1:2]"
      ],
      "metadata": {
        "colab": {
          "base_uri": "https://localhost:8080/",
          "height": 161
        },
        "outputId": "fda3c414-90bd-4b46-aafa-d0e963aeedf8",
        "id": "ARix6sgAplld"
      },
      "execution_count": 15,
      "outputs": [
        {
          "output_type": "display_data",
          "data": {
            "text/html": [
              "<table class=\"dataframe\">\n",
              "<caption>A data.frame: 2 × 2</caption>\n",
              "<thead>\n",
              "\t<tr><th></th><th scope=col>numbers</th><th scope=col>letters</th></tr>\n",
              "\t<tr><th></th><th scope=col>&lt;int&gt;</th><th scope=col>&lt;chr&gt;</th></tr>\n",
              "</thead>\n",
              "<tbody>\n",
              "\t<tr><th scope=row>1</th><td>1</td><td>a</td></tr>\n",
              "\t<tr><th scope=row>2</th><td>2</td><td>b</td></tr>\n",
              "</tbody>\n",
              "</table>\n"
            ],
            "text/markdown": "\nA data.frame: 2 × 2\n\n| <!--/--> | numbers &lt;int&gt; | letters &lt;chr&gt; |\n|---|---|---|\n| 1 | 1 | a |\n| 2 | 2 | b |\n\n",
            "text/latex": "A data.frame: 2 × 2\n\\begin{tabular}{r|ll}\n  & numbers & letters\\\\\n  & <int> & <chr>\\\\\n\\hline\n\t1 & 1 & a\\\\\n\t2 & 2 & b\\\\\n\\end{tabular}\n",
            "text/plain": [
              "  numbers letters\n",
              "1 1       a      \n",
              "2 2       b      "
            ]
          },
          "metadata": {}
        }
      ]
    },
    {
      "cell_type": "code",
      "source": [
        "# subset of a tibble is a tibble\n",
        "#tbl[, c(\"letters\")]\n",
        "#tbl[1, ]\n",
        "#tbl[1:2, c(\"letters\")]\n",
        "tbl[1:2, 1:2]"
      ],
      "metadata": {
        "colab": {
          "base_uri": "https://localhost:8080/",
          "height": 161
        },
        "id": "wbOifQaDreaR",
        "outputId": "0e7387dc-eea3-465d-ee75-d4750de095c1"
      },
      "execution_count": 16,
      "outputs": [
        {
          "output_type": "display_data",
          "data": {
            "text/html": [
              "<table class=\"dataframe\">\n",
              "<caption>A tibble: 2 × 2</caption>\n",
              "<thead>\n",
              "\t<tr><th scope=col>numbers</th><th scope=col>letters</th></tr>\n",
              "\t<tr><th scope=col>&lt;int&gt;</th><th scope=col>&lt;chr&gt;</th></tr>\n",
              "</thead>\n",
              "<tbody>\n",
              "\t<tr><td>1</td><td>a</td></tr>\n",
              "\t<tr><td>2</td><td>b</td></tr>\n",
              "</tbody>\n",
              "</table>\n"
            ],
            "text/markdown": "\nA tibble: 2 × 2\n\n| numbers &lt;int&gt; | letters &lt;chr&gt; |\n|---|---|\n| 1 | a |\n| 2 | b |\n\n",
            "text/latex": "A tibble: 2 × 2\n\\begin{tabular}{ll}\n numbers & letters\\\\\n <int> & <chr>\\\\\n\\hline\n\t 1 & a\\\\\n\t 2 & b\\\\\n\\end{tabular}\n",
            "text/plain": [
              "  numbers letters\n",
              "1 1       a      \n",
              "2 2       b      "
            ]
          },
          "metadata": {}
        }
      ]
    },
    {
      "cell_type": "markdown",
      "source": [
        "### <a name=\"var-length\">Variable Length</a>\n",
        "\n",
        "---\n",
        "\n",
        "- Unlike a `data.frame`, tibbles don't generally \"recycle\" the values of a vector when creating a data frame.\n",
        "- Tibbles only recycle vectors of length 1, i.e., it will recycle a vector of length 1 so that the new variable has length matching the other variables."
      ],
      "metadata": {
        "id": "LR4YjXRdqTHL"
      }
    },
    {
      "cell_type": "code",
      "source": [
        "# add a new column to dtf\n",
        "dtf$newv <- 1:2\n",
        "# print dtf\n",
        "dtf"
      ],
      "metadata": {
        "colab": {
          "base_uri": "https://localhost:8080/",
          "height": 223
        },
        "id": "HbDn8kF7rUKq",
        "outputId": "8471c19f-f74a-43d4-f14c-be8bb1affb08"
      },
      "execution_count": 17,
      "outputs": [
        {
          "output_type": "display_data",
          "data": {
            "text/html": [
              "<table class=\"dataframe\">\n",
              "<caption>A data.frame: 4 × 3</caption>\n",
              "<thead>\n",
              "\t<tr><th scope=col>numbers</th><th scope=col>letters</th><th scope=col>newv</th></tr>\n",
              "\t<tr><th scope=col>&lt;int&gt;</th><th scope=col>&lt;chr&gt;</th><th scope=col>&lt;int&gt;</th></tr>\n",
              "</thead>\n",
              "<tbody>\n",
              "\t<tr><td>1</td><td>a</td><td>1</td></tr>\n",
              "\t<tr><td>2</td><td>b</td><td>2</td></tr>\n",
              "\t<tr><td>3</td><td>c</td><td>1</td></tr>\n",
              "\t<tr><td>4</td><td>d</td><td>2</td></tr>\n",
              "</tbody>\n",
              "</table>\n"
            ],
            "text/markdown": "\nA data.frame: 4 × 3\n\n| numbers &lt;int&gt; | letters &lt;chr&gt; | newv &lt;int&gt; |\n|---|---|---|\n| 1 | a | 1 |\n| 2 | b | 2 |\n| 3 | c | 1 |\n| 4 | d | 2 |\n\n",
            "text/latex": "A data.frame: 4 × 3\n\\begin{tabular}{lll}\n numbers & letters & newv\\\\\n <int> & <chr> & <int>\\\\\n\\hline\n\t 1 & a & 1\\\\\n\t 2 & b & 2\\\\\n\t 3 & c & 1\\\\\n\t 4 & d & 2\\\\\n\\end{tabular}\n",
            "text/plain": [
              "  numbers letters newv\n",
              "1 1       a       1   \n",
              "2 2       b       2   \n",
              "3 3       c       1   \n",
              "4 4       d       2   "
            ]
          },
          "metadata": {}
        }
      ]
    },
    {
      "cell_type": "code",
      "source": [
        "# add a new column to tbl of wrong length (not OK)\n",
        "tbl$newv <- 1:2"
      ],
      "metadata": {
        "id": "8OsrTZSKriQR"
      },
      "execution_count": null,
      "outputs": []
    },
    {
      "cell_type": "code",
      "source": [
        "# add a new column by recyclying a single value (OK)\n",
        "tbl$newv <- 1\n",
        "# add a new column with the same length as other columns (OK)\n",
        "#tbl$newv <- rep(1:2, times = 2)\n",
        "# print tbl\n",
        "tbl"
      ],
      "metadata": {
        "colab": {
          "base_uri": "https://localhost:8080/",
          "height": 223
        },
        "id": "pXjnZ2C0rj7b",
        "outputId": "9d03a72d-1c20-464e-a29d-fa634192dbde"
      },
      "execution_count": 20,
      "outputs": [
        {
          "output_type": "display_data",
          "data": {
            "text/html": [
              "<table class=\"dataframe\">\n",
              "<caption>A tibble: 4 × 3</caption>\n",
              "<thead>\n",
              "\t<tr><th scope=col>numbers</th><th scope=col>letters</th><th scope=col>newv</th></tr>\n",
              "\t<tr><th scope=col>&lt;int&gt;</th><th scope=col>&lt;chr&gt;</th><th scope=col>&lt;dbl&gt;</th></tr>\n",
              "</thead>\n",
              "<tbody>\n",
              "\t<tr><td>1</td><td>a</td><td>1</td></tr>\n",
              "\t<tr><td>2</td><td>b</td><td>1</td></tr>\n",
              "\t<tr><td>3</td><td>c</td><td>1</td></tr>\n",
              "\t<tr><td>4</td><td>d</td><td>1</td></tr>\n",
              "</tbody>\n",
              "</table>\n"
            ],
            "text/markdown": "\nA tibble: 4 × 3\n\n| numbers &lt;int&gt; | letters &lt;chr&gt; | newv &lt;dbl&gt; |\n|---|---|---|\n| 1 | a | 1 |\n| 2 | b | 1 |\n| 3 | c | 1 |\n| 4 | d | 1 |\n\n",
            "text/latex": "A tibble: 4 × 3\n\\begin{tabular}{lll}\n numbers & letters & newv\\\\\n <int> & <chr> & <dbl>\\\\\n\\hline\n\t 1 & a & 1\\\\\n\t 2 & b & 1\\\\\n\t 3 & c & 1\\\\\n\t 4 & d & 1\\\\\n\\end{tabular}\n",
            "text/plain": [
              "  numbers letters newv\n",
              "1 1       a       1   \n",
              "2 2       b       1   \n",
              "3 3       c       1   \n",
              "4 4       d       1   "
            ]
          },
          "metadata": {}
        }
      ]
    },
    {
      "cell_type": "markdown",
      "source": [
        "# <a name=\"main-tidy\">Tidying Data with `tidyr`</a>\n",
        "\n",
        "---\n",
        "\n",
        "Before we can tidy our data, **first we need to identify what are the underlying variables and observations of our data**.\n",
        "\n",
        "Next, tidying big data sets may require you to do seemingly odd steps such as gathering information from multiple columns into a single column (by adding more rows to the data set) and then spreading information from another column into multiple columns (and reducing the number of rows again).\n",
        "\n",
        "\n",
        "Here are some tips for tidying a data frame:\n",
        "\n",
        "1. Identify the ways in which your data are not tidy.\n",
        "2. Identify a single aspect of the data that you want to make tidy (or at least closer to being tidy).\n",
        "3. Tidy that single aspect of the data.\n",
        "4. Repeat steps 2 and 3 until the data are tidy\n",
        "5. If desired, combine the many tidying steps into a single command using the pipe, `|>`.\n",
        "\n"
      ],
      "metadata": {
        "id": "NUMcCSyuyO6A"
      }
    },
    {
      "cell_type": "markdown",
      "source": [
        "## <a name=\"length\">Lengthening Data Frames</a>\n",
        "\n",
        "---\n",
        "\n",
        "The `pivot_longer()` function gathers multiple columns into a single column. The resulting data frame will have:\n",
        "\n",
        "- More rows (longer) and\n",
        "- Fewer columns.\n",
        "\n",
        "\n",
        "The following arguments can be entered in the `pivot_longer()` function:\n",
        "\n",
        "\n",
        "- `data`: the data frame to pivot\n",
        "- `cols`: the columns from which to gather values\n",
        "- `names_to`: the column name for the column that the names of the gathered columns are placed\n",
        "- `values_to`: the name of the column to which the values are gathered\n",
        "\n",
        "\n"
      ],
      "metadata": {
        "id": "T_KTC4px2woj"
      }
    },
    {
      "cell_type": "code",
      "source": [
        "table4a"
      ],
      "metadata": {
        "colab": {
          "base_uri": "https://localhost:8080/",
          "height": 192
        },
        "id": "LXWPjMxi5ozT",
        "outputId": "16c4cd84-c4ff-480b-d717-ed5143d52064"
      },
      "execution_count": 21,
      "outputs": [
        {
          "output_type": "display_data",
          "data": {
            "text/html": [
              "<table class=\"dataframe\">\n",
              "<caption>A tibble: 3 × 3</caption>\n",
              "<thead>\n",
              "\t<tr><th scope=col>country</th><th scope=col>1999</th><th scope=col>2000</th></tr>\n",
              "\t<tr><th scope=col>&lt;chr&gt;</th><th scope=col>&lt;dbl&gt;</th><th scope=col>&lt;dbl&gt;</th></tr>\n",
              "</thead>\n",
              "<tbody>\n",
              "\t<tr><td>Afghanistan</td><td>   745</td><td>  2666</td></tr>\n",
              "\t<tr><td>Brazil     </td><td> 37737</td><td> 80488</td></tr>\n",
              "\t<tr><td>China      </td><td>212258</td><td>213766</td></tr>\n",
              "</tbody>\n",
              "</table>\n"
            ],
            "text/markdown": "\nA tibble: 3 × 3\n\n| country &lt;chr&gt; | 1999 &lt;dbl&gt; | 2000 &lt;dbl&gt; |\n|---|---|---|\n| Afghanistan |    745 |   2666 |\n| Brazil      |  37737 |  80488 |\n| China       | 212258 | 213766 |\n\n",
            "text/latex": "A tibble: 3 × 3\n\\begin{tabular}{lll}\n country & 1999 & 2000\\\\\n <chr> & <dbl> & <dbl>\\\\\n\\hline\n\t Afghanistan &    745 &   2666\\\\\n\t Brazil      &  37737 &  80488\\\\\n\t China       & 212258 & 213766\\\\\n\\end{tabular}\n",
            "text/plain": [
              "  country     1999   2000  \n",
              "1 Afghanistan    745   2666\n",
              "2 Brazil       37737  80488\n",
              "3 China       212258 213766"
            ]
          },
          "metadata": {}
        }
      ]
    },
    {
      "cell_type": "markdown",
      "source": [
        "### <a name=\"ex-len\">Example: Lengthenging Data</a>\n",
        "\n",
        "---\n",
        "\n",
        "- The variables are `year`, `country`, and `cases`.\n",
        " - We need to create a column for year.\n",
        " - Thus each country will have two rows (one for 1999 and one for 2000).\n",
        "- The result will have three columns and twice as many rows.\n",
        "\n",
        "\n",
        "| country | year | cases |\n",
        "|---------|------|-------|\n",
        "| Afghanistan | 1999 | 745 |\n",
        "| Afghanistan | 1999 | 2666 |\n",
        "\n",
        "<br>  \n",
        "\n",
        "To tidy `table4a`, we must lengthen it by combining columns `1999` and `2000`. We add a new column named `year` where we indicate from which original column the value is from. We combine the values from the `1999` and `2000` columns into a new column named `cases`.\n",
        "\n"
      ],
      "metadata": {
        "id": "KnK6ljd9y889"
      }
    },
    {
      "cell_type": "code",
      "source": [
        "pivot_longer(table4a,\n",
        "             c(\"1999\", \"2000\"),  # combine columns 1999 and 2000\n",
        "             names_to = \"year\",  # store variable names to column named year\n",
        "             values_to = \"cases\"  # store values to column named cases\n",
        ")"
      ],
      "metadata": {
        "colab": {
          "base_uri": "https://localhost:8080/",
          "height": 286
        },
        "id": "aV2lnXKR6AVH",
        "outputId": "a9111161-df4c-44f2-da52-fd265f461924"
      },
      "execution_count": 22,
      "outputs": [
        {
          "output_type": "display_data",
          "data": {
            "text/html": [
              "<table class=\"dataframe\">\n",
              "<caption>A tibble: 6 × 3</caption>\n",
              "<thead>\n",
              "\t<tr><th scope=col>country</th><th scope=col>year</th><th scope=col>cases</th></tr>\n",
              "\t<tr><th scope=col>&lt;chr&gt;</th><th scope=col>&lt;chr&gt;</th><th scope=col>&lt;dbl&gt;</th></tr>\n",
              "</thead>\n",
              "<tbody>\n",
              "\t<tr><td>Afghanistan</td><td>1999</td><td>   745</td></tr>\n",
              "\t<tr><td>Afghanistan</td><td>2000</td><td>  2666</td></tr>\n",
              "\t<tr><td>Brazil     </td><td>1999</td><td> 37737</td></tr>\n",
              "\t<tr><td>Brazil     </td><td>2000</td><td> 80488</td></tr>\n",
              "\t<tr><td>China      </td><td>1999</td><td>212258</td></tr>\n",
              "\t<tr><td>China      </td><td>2000</td><td>213766</td></tr>\n",
              "</tbody>\n",
              "</table>\n"
            ],
            "text/markdown": "\nA tibble: 6 × 3\n\n| country &lt;chr&gt; | year &lt;chr&gt; | cases &lt;dbl&gt; |\n|---|---|---|\n| Afghanistan | 1999 |    745 |\n| Afghanistan | 2000 |   2666 |\n| Brazil      | 1999 |  37737 |\n| Brazil      | 2000 |  80488 |\n| China       | 1999 | 212258 |\n| China       | 2000 | 213766 |\n\n",
            "text/latex": "A tibble: 6 × 3\n\\begin{tabular}{lll}\n country & year & cases\\\\\n <chr> & <chr> & <dbl>\\\\\n\\hline\n\t Afghanistan & 1999 &    745\\\\\n\t Afghanistan & 2000 &   2666\\\\\n\t Brazil      & 1999 &  37737\\\\\n\t Brazil      & 2000 &  80488\\\\\n\t China       & 1999 & 212258\\\\\n\t China       & 2000 & 213766\\\\\n\\end{tabular}\n",
            "text/plain": [
              "  country     year cases \n",
              "1 Afghanistan 1999    745\n",
              "2 Afghanistan 2000   2666\n",
              "3 Brazil      1999  37737\n",
              "4 Brazil      2000  80488\n",
              "5 China       1999 212258\n",
              "6 China       2000 213766"
            ]
          },
          "metadata": {}
        }
      ]
    },
    {
      "cell_type": "code",
      "source": [
        "table4a |>\n",
        "  pivot_longer(\n",
        "    c(\"1999\", \"2000\"),  # combine columns 1999 and 2000\n",
        "    names_to = \"year\",  # store variable names to column named year\n",
        "    values_to = \"cases\"  # store values to column named cases\n",
        "  )"
      ],
      "metadata": {
        "id": "MqG2oy4y5ssq"
      },
      "execution_count": null,
      "outputs": []
    },
    {
      "cell_type": "markdown",
      "source": [
        "## <a name=\"quest1\">Question 1</a>\n",
        "\n",
        "---\n",
        "\n",
        "Run the code cell below to display the data in `table4b`. Then use the `pivot_longer()` function to tidy the data and display the result to the screen.\n",
        "\n",
        "<br>  \n",
        "\n",
        "\n"
      ],
      "metadata": {
        "id": "2qMwHnpQ0VO_"
      }
    },
    {
      "cell_type": "code",
      "source": [
        "# we want to combine 1999 and 2000 into one column\n",
        "# create a column for year\n",
        "# thus each country will have two rows\n",
        "table4b"
      ],
      "metadata": {
        "colab": {
          "base_uri": "https://localhost:8080/",
          "height": 192
        },
        "id": "I325555P5rvv",
        "outputId": "5d486b5c-055c-493d-e5a6-6106c6170103"
      },
      "execution_count": 23,
      "outputs": [
        {
          "output_type": "display_data",
          "data": {
            "text/html": [
              "<table class=\"dataframe\">\n",
              "<caption>A tibble: 3 × 3</caption>\n",
              "<thead>\n",
              "\t<tr><th scope=col>country</th><th scope=col>1999</th><th scope=col>2000</th></tr>\n",
              "\t<tr><th scope=col>&lt;chr&gt;</th><th scope=col>&lt;dbl&gt;</th><th scope=col>&lt;dbl&gt;</th></tr>\n",
              "</thead>\n",
              "<tbody>\n",
              "\t<tr><td>Afghanistan</td><td>  19987071</td><td>  20595360</td></tr>\n",
              "\t<tr><td>Brazil     </td><td> 172006362</td><td> 174504898</td></tr>\n",
              "\t<tr><td>China      </td><td>1272915272</td><td>1280428583</td></tr>\n",
              "</tbody>\n",
              "</table>\n"
            ],
            "text/markdown": "\nA tibble: 3 × 3\n\n| country &lt;chr&gt; | 1999 &lt;dbl&gt; | 2000 &lt;dbl&gt; |\n|---|---|---|\n| Afghanistan |   19987071 |   20595360 |\n| Brazil      |  172006362 |  174504898 |\n| China       | 1272915272 | 1280428583 |\n\n",
            "text/latex": "A tibble: 3 × 3\n\\begin{tabular}{lll}\n country & 1999 & 2000\\\\\n <chr> & <dbl> & <dbl>\\\\\n\\hline\n\t Afghanistan &   19987071 &   20595360\\\\\n\t Brazil      &  172006362 &  174504898\\\\\n\t China       & 1272915272 & 1280428583\\\\\n\\end{tabular}\n",
            "text/plain": [
              "  country     1999       2000      \n",
              "1 Afghanistan   19987071   20595360\n",
              "2 Brazil       172006362  174504898\n",
              "3 China       1272915272 1280428583"
            ]
          },
          "metadata": {}
        }
      ]
    },
    {
      "cell_type": "markdown",
      "source": [
        "### <a name=\"sol1\">Solution to Question 1</a>\n",
        "\n",
        "---\n",
        "\n",
        "<br>  \n"
      ],
      "metadata": {
        "id": "RWb5xAsFHe__"
      }
    },
    {
      "cell_type": "code",
      "source": [],
      "metadata": {
        "id": "nu3b_6ri5rBu"
      },
      "execution_count": null,
      "outputs": []
    },
    {
      "cell_type": "markdown",
      "source": [
        "### <a name=\"len-pattern\">Lengthening: Data in Variable Names</a>\n",
        "\n",
        "---\n",
        "\n",
        "Consider a more complex situation with the larger `who2` data set from which the earlier tables are constructed. The data in `who2` is a \"subset of data from the [World Health Organization Global Tuberculosis Report](https://www.who.int/teams/global-tuberculosis-programme/data)\", and the data set has 7,240 observations and 60 variables.\n",
        "\n",
        "\n",
        "The columns `country` and `year` are clear. The other columns are named according to codes from the [World Health Organization](https://www.who.int/teams/global-tuberculosis-programme/data):\n",
        "\n",
        "> `[method_of_diagnosis]_[gender]_[age_group]`\n",
        "\n",
        "- The possible `method_of_diagnosis` are: `rel` = relapse, `sn` = negative pulmonary smear, `sp` = positive pulmonary smear, `ep` = extrapulmonary.\n",
        "\n",
        "- The possible `gender` in the data are: `f` = female, `m` = male.\n",
        "\n",
        "- The possible `age_group` in the data are: `014` = 0-14 yrs of age, `1524` = 15-24, `2534` = 25-34, `3544` = 35-44 years of age, `4554` = 45-54, `5564` = 55-64, `65` = 65 years or older.\n",
        "\n",
        "For example, the next column after `year` is `sp_m_014`, which corresponds to positive pulmonary smear for males 0 to 14 years old."
      ],
      "metadata": {
        "id": "aV6iYgqE4ztm"
      }
    },
    {
      "cell_type": "code",
      "source": [
        "?who2"
      ],
      "metadata": {
        "id": "kswuGfMk5SBO"
      },
      "execution_count": null,
      "outputs": []
    },
    {
      "cell_type": "code",
      "source": [
        "print(who2)"
      ],
      "metadata": {
        "colab": {
          "base_uri": "https://localhost:8080/"
        },
        "id": "_xZ_b53B54_6",
        "outputId": "72453e02-410f-461f-be08-74b4c72c6a77"
      },
      "execution_count": 24,
      "outputs": [
        {
          "output_type": "stream",
          "name": "stdout",
          "text": [
            "\u001b[90m# A tibble: 7,240 × 58\u001b[39m\n",
            "   country      year sp_m_014 sp_m_1524 sp_m_2534 sp_m_3544 sp_m_4554 sp_m_5564\n",
            "   \u001b[3m\u001b[90m<chr>\u001b[39m\u001b[23m       \u001b[3m\u001b[90m<dbl>\u001b[39m\u001b[23m    \u001b[3m\u001b[90m<dbl>\u001b[39m\u001b[23m     \u001b[3m\u001b[90m<dbl>\u001b[39m\u001b[23m     \u001b[3m\u001b[90m<dbl>\u001b[39m\u001b[23m     \u001b[3m\u001b[90m<dbl>\u001b[39m\u001b[23m     \u001b[3m\u001b[90m<dbl>\u001b[39m\u001b[23m     \u001b[3m\u001b[90m<dbl>\u001b[39m\u001b[23m\n",
            "\u001b[90m 1\u001b[39m Afghanistan  \u001b[4m1\u001b[24m980       \u001b[31mNA\u001b[39m        \u001b[31mNA\u001b[39m        \u001b[31mNA\u001b[39m        \u001b[31mNA\u001b[39m        \u001b[31mNA\u001b[39m        \u001b[31mNA\u001b[39m\n",
            "\u001b[90m 2\u001b[39m Afghanistan  \u001b[4m1\u001b[24m981       \u001b[31mNA\u001b[39m        \u001b[31mNA\u001b[39m        \u001b[31mNA\u001b[39m        \u001b[31mNA\u001b[39m        \u001b[31mNA\u001b[39m        \u001b[31mNA\u001b[39m\n",
            "\u001b[90m 3\u001b[39m Afghanistan  \u001b[4m1\u001b[24m982       \u001b[31mNA\u001b[39m        \u001b[31mNA\u001b[39m        \u001b[31mNA\u001b[39m        \u001b[31mNA\u001b[39m        \u001b[31mNA\u001b[39m        \u001b[31mNA\u001b[39m\n",
            "\u001b[90m 4\u001b[39m Afghanistan  \u001b[4m1\u001b[24m983       \u001b[31mNA\u001b[39m        \u001b[31mNA\u001b[39m        \u001b[31mNA\u001b[39m        \u001b[31mNA\u001b[39m        \u001b[31mNA\u001b[39m        \u001b[31mNA\u001b[39m\n",
            "\u001b[90m 5\u001b[39m Afghanistan  \u001b[4m1\u001b[24m984       \u001b[31mNA\u001b[39m        \u001b[31mNA\u001b[39m        \u001b[31mNA\u001b[39m        \u001b[31mNA\u001b[39m        \u001b[31mNA\u001b[39m        \u001b[31mNA\u001b[39m\n",
            "\u001b[90m 6\u001b[39m Afghanistan  \u001b[4m1\u001b[24m985       \u001b[31mNA\u001b[39m        \u001b[31mNA\u001b[39m        \u001b[31mNA\u001b[39m        \u001b[31mNA\u001b[39m        \u001b[31mNA\u001b[39m        \u001b[31mNA\u001b[39m\n",
            "\u001b[90m 7\u001b[39m Afghanistan  \u001b[4m1\u001b[24m986       \u001b[31mNA\u001b[39m        \u001b[31mNA\u001b[39m        \u001b[31mNA\u001b[39m        \u001b[31mNA\u001b[39m        \u001b[31mNA\u001b[39m        \u001b[31mNA\u001b[39m\n",
            "\u001b[90m 8\u001b[39m Afghanistan  \u001b[4m1\u001b[24m987       \u001b[31mNA\u001b[39m        \u001b[31mNA\u001b[39m        \u001b[31mNA\u001b[39m        \u001b[31mNA\u001b[39m        \u001b[31mNA\u001b[39m        \u001b[31mNA\u001b[39m\n",
            "\u001b[90m 9\u001b[39m Afghanistan  \u001b[4m1\u001b[24m988       \u001b[31mNA\u001b[39m        \u001b[31mNA\u001b[39m        \u001b[31mNA\u001b[39m        \u001b[31mNA\u001b[39m        \u001b[31mNA\u001b[39m        \u001b[31mNA\u001b[39m\n",
            "\u001b[90m10\u001b[39m Afghanistan  \u001b[4m1\u001b[24m989       \u001b[31mNA\u001b[39m        \u001b[31mNA\u001b[39m        \u001b[31mNA\u001b[39m        \u001b[31mNA\u001b[39m        \u001b[31mNA\u001b[39m        \u001b[31mNA\u001b[39m\n",
            "\u001b[90m# ℹ 7,230 more rows\u001b[39m\n",
            "\u001b[90m# ℹ 50 more variables: sp_m_65 <dbl>, sp_f_014 <dbl>, sp_f_1524 <dbl>,\u001b[39m\n",
            "\u001b[90m#   sp_f_2534 <dbl>, sp_f_3544 <dbl>, sp_f_4554 <dbl>, sp_f_5564 <dbl>,\u001b[39m\n",
            "\u001b[90m#   sp_f_65 <dbl>, sn_m_014 <dbl>, sn_m_1524 <dbl>, sn_m_2534 <dbl>,\u001b[39m\n",
            "\u001b[90m#   sn_m_3544 <dbl>, sn_m_4554 <dbl>, sn_m_5564 <dbl>, sn_m_65 <dbl>,\u001b[39m\n",
            "\u001b[90m#   sn_f_014 <dbl>, sn_f_1524 <dbl>, sn_f_2534 <dbl>, sn_f_3544 <dbl>,\u001b[39m\n",
            "\u001b[90m#   sn_f_4554 <dbl>, sn_f_5564 <dbl>, sn_f_65 <dbl>, ep_m_014 <dbl>, …\u001b[39m\n"
          ]
        }
      ]
    },
    {
      "cell_type": "markdown",
      "source": [
        "The variables in a tidy data frame could be:\n",
        "\n",
        "- `country`\n",
        "- `year`\n",
        "- `method`\n",
        "- `gender`\n",
        "- `age`\n",
        "- `cases`\n",
        "\n",
        "Every column, other than `country` and `year`, we want to split into four columns:\n",
        "\n",
        "- One column indicates the `method` from the first prefix.\n",
        "- After the first `_`, we get the class for `gender`.\n",
        "- After the next `_`, we get the class for `age`.\n",
        "- The values in the column give the number assigned to the `cases` column.\n",
        "\n",
        "We can add the `names_sep` argument to `pivot_longer()` to indicate a separator used to indicate each new column.\n",
        "\n"
      ],
      "metadata": {
        "id": "3_REf6JP88UR"
      }
    },
    {
      "cell_type": "code",
      "source": [
        "who2 |>\n",
        "  pivot_longer(\n",
        "    cols = !(country:year),  # do not gather country and year\n",
        "    names_to = c(\"method\", \"gender\", \"age\"),  # new column names\n",
        "    names_sep = \"_\",  # column separator\n",
        "    values_to = \"cases\"  # column name where values stored\n",
        "  ) |>\n",
        "  print()"
      ],
      "metadata": {
        "colab": {
          "base_uri": "https://localhost:8080/"
        },
        "id": "JHM6Smwf870-",
        "outputId": "bb43a5a7-0e9c-40e8-98c9-93dffd99bd8e"
      },
      "execution_count": 25,
      "outputs": [
        {
          "output_type": "stream",
          "name": "stdout",
          "text": [
            "\u001b[90m# A tibble: 405,440 × 6\u001b[39m\n",
            "   country      year method gender age   cases\n",
            "   \u001b[3m\u001b[90m<chr>\u001b[39m\u001b[23m       \u001b[3m\u001b[90m<dbl>\u001b[39m\u001b[23m \u001b[3m\u001b[90m<chr>\u001b[39m\u001b[23m  \u001b[3m\u001b[90m<chr>\u001b[39m\u001b[23m  \u001b[3m\u001b[90m<chr>\u001b[39m\u001b[23m \u001b[3m\u001b[90m<dbl>\u001b[39m\u001b[23m\n",
            "\u001b[90m 1\u001b[39m Afghanistan  \u001b[4m1\u001b[24m980 sp     m      014      \u001b[31mNA\u001b[39m\n",
            "\u001b[90m 2\u001b[39m Afghanistan  \u001b[4m1\u001b[24m980 sp     m      1524     \u001b[31mNA\u001b[39m\n",
            "\u001b[90m 3\u001b[39m Afghanistan  \u001b[4m1\u001b[24m980 sp     m      2534     \u001b[31mNA\u001b[39m\n",
            "\u001b[90m 4\u001b[39m Afghanistan  \u001b[4m1\u001b[24m980 sp     m      3544     \u001b[31mNA\u001b[39m\n",
            "\u001b[90m 5\u001b[39m Afghanistan  \u001b[4m1\u001b[24m980 sp     m      4554     \u001b[31mNA\u001b[39m\n",
            "\u001b[90m 6\u001b[39m Afghanistan  \u001b[4m1\u001b[24m980 sp     m      5564     \u001b[31mNA\u001b[39m\n",
            "\u001b[90m 7\u001b[39m Afghanistan  \u001b[4m1\u001b[24m980 sp     m      65       \u001b[31mNA\u001b[39m\n",
            "\u001b[90m 8\u001b[39m Afghanistan  \u001b[4m1\u001b[24m980 sp     f      014      \u001b[31mNA\u001b[39m\n",
            "\u001b[90m 9\u001b[39m Afghanistan  \u001b[4m1\u001b[24m980 sp     f      1524     \u001b[31mNA\u001b[39m\n",
            "\u001b[90m10\u001b[39m Afghanistan  \u001b[4m1\u001b[24m980 sp     f      2534     \u001b[31mNA\u001b[39m\n",
            "\u001b[90m# ℹ 405,430 more rows\u001b[39m\n"
          ]
        }
      ]
    },
    {
      "cell_type": "markdown",
      "source": [
        "## <a name=\"widen\">Widening Data Frames</a>\n",
        "\n",
        "---\n",
        "\n",
        "The `pivot_wider()` function spreads a column into multiple columns. The resulting data frame will have:\n",
        "\n",
        "- More columns (wider) and\n",
        "- Fewer rows.\n",
        "\n",
        "The following arguments can be entered in the `pivot_wider()` function:\n",
        "\n",
        "\n",
        "\n",
        "- `data`: the data frame to pivot\n",
        "- `names_from`: the column from which the names of the new columns will be taken\n",
        "- `values_from`: the column from which the values of the new columns will be taken\n",
        "\n"
      ],
      "metadata": {
        "id": "jSY-yZxX2vMx"
      }
    },
    {
      "cell_type": "code",
      "source": [
        "table2"
      ],
      "metadata": {
        "colab": {
          "base_uri": "https://localhost:8080/",
          "height": 474
        },
        "id": "bN_F0m6091Br",
        "outputId": "f663fa49-62c5-4dfa-e749-5a5a95a2f1e9"
      },
      "execution_count": 26,
      "outputs": [
        {
          "output_type": "display_data",
          "data": {
            "text/html": [
              "<table class=\"dataframe\">\n",
              "<caption>A tibble: 12 × 4</caption>\n",
              "<thead>\n",
              "\t<tr><th scope=col>country</th><th scope=col>year</th><th scope=col>type</th><th scope=col>count</th></tr>\n",
              "\t<tr><th scope=col>&lt;chr&gt;</th><th scope=col>&lt;dbl&gt;</th><th scope=col>&lt;chr&gt;</th><th scope=col>&lt;dbl&gt;</th></tr>\n",
              "</thead>\n",
              "<tbody>\n",
              "\t<tr><td>Afghanistan</td><td>1999</td><td>cases     </td><td>       745</td></tr>\n",
              "\t<tr><td>Afghanistan</td><td>1999</td><td>population</td><td>  19987071</td></tr>\n",
              "\t<tr><td>Afghanistan</td><td>2000</td><td>cases     </td><td>      2666</td></tr>\n",
              "\t<tr><td>Afghanistan</td><td>2000</td><td>population</td><td>  20595360</td></tr>\n",
              "\t<tr><td>Brazil     </td><td>1999</td><td>cases     </td><td>     37737</td></tr>\n",
              "\t<tr><td>Brazil     </td><td>1999</td><td>population</td><td> 172006362</td></tr>\n",
              "\t<tr><td>Brazil     </td><td>2000</td><td>cases     </td><td>     80488</td></tr>\n",
              "\t<tr><td>Brazil     </td><td>2000</td><td>population</td><td> 174504898</td></tr>\n",
              "\t<tr><td>China      </td><td>1999</td><td>cases     </td><td>    212258</td></tr>\n",
              "\t<tr><td>China      </td><td>1999</td><td>population</td><td>1272915272</td></tr>\n",
              "\t<tr><td>China      </td><td>2000</td><td>cases     </td><td>    213766</td></tr>\n",
              "\t<tr><td>China      </td><td>2000</td><td>population</td><td>1280428583</td></tr>\n",
              "</tbody>\n",
              "</table>\n"
            ],
            "text/markdown": "\nA tibble: 12 × 4\n\n| country &lt;chr&gt; | year &lt;dbl&gt; | type &lt;chr&gt; | count &lt;dbl&gt; |\n|---|---|---|---|\n| Afghanistan | 1999 | cases      |        745 |\n| Afghanistan | 1999 | population |   19987071 |\n| Afghanistan | 2000 | cases      |       2666 |\n| Afghanistan | 2000 | population |   20595360 |\n| Brazil      | 1999 | cases      |      37737 |\n| Brazil      | 1999 | population |  172006362 |\n| Brazil      | 2000 | cases      |      80488 |\n| Brazil      | 2000 | population |  174504898 |\n| China       | 1999 | cases      |     212258 |\n| China       | 1999 | population | 1272915272 |\n| China       | 2000 | cases      |     213766 |\n| China       | 2000 | population | 1280428583 |\n\n",
            "text/latex": "A tibble: 12 × 4\n\\begin{tabular}{llll}\n country & year & type & count\\\\\n <chr> & <dbl> & <chr> & <dbl>\\\\\n\\hline\n\t Afghanistan & 1999 & cases      &        745\\\\\n\t Afghanistan & 1999 & population &   19987071\\\\\n\t Afghanistan & 2000 & cases      &       2666\\\\\n\t Afghanistan & 2000 & population &   20595360\\\\\n\t Brazil      & 1999 & cases      &      37737\\\\\n\t Brazil      & 1999 & population &  172006362\\\\\n\t Brazil      & 2000 & cases      &      80488\\\\\n\t Brazil      & 2000 & population &  174504898\\\\\n\t China       & 1999 & cases      &     212258\\\\\n\t China       & 1999 & population & 1272915272\\\\\n\t China       & 2000 & cases      &     213766\\\\\n\t China       & 2000 & population & 1280428583\\\\\n\\end{tabular}\n",
            "text/plain": [
              "   country     year type       count     \n",
              "1  Afghanistan 1999 cases             745\n",
              "2  Afghanistan 1999 population   19987071\n",
              "3  Afghanistan 2000 cases            2666\n",
              "4  Afghanistan 2000 population   20595360\n",
              "5  Brazil      1999 cases           37737\n",
              "6  Brazil      1999 population  172006362\n",
              "7  Brazil      2000 cases           80488\n",
              "8  Brazil      2000 population  174504898\n",
              "9  China       1999 cases          212258\n",
              "10 China       1999 population 1272915272\n",
              "11 China       2000 cases          213766\n",
              "12 China       2000 population 1280428583"
            ]
          },
          "metadata": {}
        }
      ]
    },
    {
      "cell_type": "markdown",
      "source": [
        "### <a name=\"ex-wide\">Example: Widening Data</a>\n",
        "\n",
        "---\n",
        "\n",
        "\n",
        "- The variables are `year`, `country`, `cases`, and `population`.\n",
        "- The result will have four columns and half as many rows.\n",
        "\n",
        "\n",
        "To tidy `table2`, we must widen it. We need to take the new column names from the `type` column and the values from the `count` column.\n",
        "\n",
        "\n",
        "<br>  \n",
        "\n"
      ],
      "metadata": {
        "id": "ocdhw_LT0Qpz"
      }
    },
    {
      "cell_type": "code",
      "source": [
        "pivot_wider(table2,\n",
        "            names_from = type,  # get new column names from type\n",
        "            values_from = count  # get values from count column\n",
        ")"
      ],
      "metadata": {
        "colab": {
          "base_uri": "https://localhost:8080/",
          "height": 286
        },
        "id": "TTBkOUNy924x",
        "outputId": "22930301-7b72-4b50-b2bd-1defcaa29adf"
      },
      "execution_count": 27,
      "outputs": [
        {
          "output_type": "display_data",
          "data": {
            "text/html": [
              "<table class=\"dataframe\">\n",
              "<caption>A tibble: 6 × 4</caption>\n",
              "<thead>\n",
              "\t<tr><th scope=col>country</th><th scope=col>year</th><th scope=col>cases</th><th scope=col>population</th></tr>\n",
              "\t<tr><th scope=col>&lt;chr&gt;</th><th scope=col>&lt;dbl&gt;</th><th scope=col>&lt;dbl&gt;</th><th scope=col>&lt;dbl&gt;</th></tr>\n",
              "</thead>\n",
              "<tbody>\n",
              "\t<tr><td>Afghanistan</td><td>1999</td><td>   745</td><td>  19987071</td></tr>\n",
              "\t<tr><td>Afghanistan</td><td>2000</td><td>  2666</td><td>  20595360</td></tr>\n",
              "\t<tr><td>Brazil     </td><td>1999</td><td> 37737</td><td> 172006362</td></tr>\n",
              "\t<tr><td>Brazil     </td><td>2000</td><td> 80488</td><td> 174504898</td></tr>\n",
              "\t<tr><td>China      </td><td>1999</td><td>212258</td><td>1272915272</td></tr>\n",
              "\t<tr><td>China      </td><td>2000</td><td>213766</td><td>1280428583</td></tr>\n",
              "</tbody>\n",
              "</table>\n"
            ],
            "text/markdown": "\nA tibble: 6 × 4\n\n| country &lt;chr&gt; | year &lt;dbl&gt; | cases &lt;dbl&gt; | population &lt;dbl&gt; |\n|---|---|---|---|\n| Afghanistan | 1999 |    745 |   19987071 |\n| Afghanistan | 2000 |   2666 |   20595360 |\n| Brazil      | 1999 |  37737 |  172006362 |\n| Brazil      | 2000 |  80488 |  174504898 |\n| China       | 1999 | 212258 | 1272915272 |\n| China       | 2000 | 213766 | 1280428583 |\n\n",
            "text/latex": "A tibble: 6 × 4\n\\begin{tabular}{llll}\n country & year & cases & population\\\\\n <chr> & <dbl> & <dbl> & <dbl>\\\\\n\\hline\n\t Afghanistan & 1999 &    745 &   19987071\\\\\n\t Afghanistan & 2000 &   2666 &   20595360\\\\\n\t Brazil      & 1999 &  37737 &  172006362\\\\\n\t Brazil      & 2000 &  80488 &  174504898\\\\\n\t China       & 1999 & 212258 & 1272915272\\\\\n\t China       & 2000 & 213766 & 1280428583\\\\\n\\end{tabular}\n",
            "text/plain": [
              "  country     year cases  population\n",
              "1 Afghanistan 1999    745   19987071\n",
              "2 Afghanistan 2000   2666   20595360\n",
              "3 Brazil      1999  37737  172006362\n",
              "4 Brazil      2000  80488  174504898\n",
              "5 China       1999 212258 1272915272\n",
              "6 China       2000 213766 1280428583"
            ]
          },
          "metadata": {}
        }
      ]
    },
    {
      "cell_type": "code",
      "source": [
        "table2 |>\n",
        "  pivot_wider(\n",
        "    names_from = type,  # get new column names from type\n",
        "    values_from = count  # get values from count column\n",
        "  )"
      ],
      "metadata": {
        "id": "WlVGSt2a92O7"
      },
      "execution_count": null,
      "outputs": []
    },
    {
      "cell_type": "markdown",
      "source": [
        "# <a name=\"merge\">Merging and Joining Data Frames</a>\n",
        "\n",
        "---\n",
        "\n",
        "A common task a data analyst encounters is merging multiple data sets with some overlapping variables. For example, we may download tuberculosis data from the World Health Organization and download separate economic data from the World Bank, and then we may want to study possible associations between variables in both data sets.\n",
        "\n",
        "To illustrate this task, we consider the two smaller, tidy data frames we constructed earlier with tuberculosis and population data that we assig to  `tbl4a` and `tbl4b`, respectively, in the code cells below.\n",
        "\n",
        "The most streamlined solutions for this are to use the `base::merge` or `dplyr::*_join`functions to join the columns of the two data frames `by` their shared columns.\n",
        "\n",
        "\n"
      ],
      "metadata": {
        "id": "b12duWD92ydt"
      }
    },
    {
      "cell_type": "code",
      "source": [
        "tbl4a <- table4a |>\n",
        "  pivot_longer(\n",
        "    c(\"1999\", \"2000\"),  # combine columns 1999 and 2000\n",
        "    names_to = \"year\",  # store variable names to column named year\n",
        "    values_to = \"cases\"  # store values to column named cases\n",
        "  )\n",
        "print(tbl4a)"
      ],
      "metadata": {
        "colab": {
          "base_uri": "https://localhost:8080/"
        },
        "id": "FYOtkS7EBHrH",
        "outputId": "2b8bcf42-f6e3-42d5-d47c-206de8b3761c"
      },
      "execution_count": 28,
      "outputs": [
        {
          "output_type": "stream",
          "name": "stdout",
          "text": [
            "\u001b[90m# A tibble: 6 × 3\u001b[39m\n",
            "  country     year   cases\n",
            "  \u001b[3m\u001b[90m<chr>\u001b[39m\u001b[23m       \u001b[3m\u001b[90m<chr>\u001b[39m\u001b[23m  \u001b[3m\u001b[90m<dbl>\u001b[39m\u001b[23m\n",
            "\u001b[90m1\u001b[39m Afghanistan 1999     745\n",
            "\u001b[90m2\u001b[39m Afghanistan 2000    \u001b[4m2\u001b[24m666\n",
            "\u001b[90m3\u001b[39m Brazil      1999   \u001b[4m3\u001b[24m\u001b[4m7\u001b[24m737\n",
            "\u001b[90m4\u001b[39m Brazil      2000   \u001b[4m8\u001b[24m\u001b[4m0\u001b[24m488\n",
            "\u001b[90m5\u001b[39m China       1999  \u001b[4m2\u001b[24m\u001b[4m1\u001b[24m\u001b[4m2\u001b[24m258\n",
            "\u001b[90m6\u001b[39m China       2000  \u001b[4m2\u001b[24m\u001b[4m1\u001b[24m\u001b[4m3\u001b[24m766\n"
          ]
        }
      ]
    },
    {
      "cell_type": "code",
      "source": [
        "tbl4b <- table4b |>\n",
        "  pivot_longer(\n",
        "    c(\"1999\", \"2000\"),  # combine columns 1999 and 2000\n",
        "    names_to = \"year\",  # store variable names to column named year\n",
        "    values_to = \"population\"  # store values to column named population\n",
        "  )\n",
        "print(tbl4b)"
      ],
      "metadata": {
        "colab": {
          "base_uri": "https://localhost:8080/"
        },
        "id": "Fw234mc-BrwF",
        "outputId": "173418b5-6d26-4f93-b92e-9a59f4a6c341"
      },
      "execution_count": 29,
      "outputs": [
        {
          "output_type": "stream",
          "name": "stdout",
          "text": [
            "\u001b[90m# A tibble: 6 × 3\u001b[39m\n",
            "  country     year  population\n",
            "  \u001b[3m\u001b[90m<chr>\u001b[39m\u001b[23m       \u001b[3m\u001b[90m<chr>\u001b[39m\u001b[23m      \u001b[3m\u001b[90m<dbl>\u001b[39m\u001b[23m\n",
            "\u001b[90m1\u001b[39m Afghanistan 1999    19\u001b[4m9\u001b[24m\u001b[4m8\u001b[24m\u001b[4m7\u001b[24m071\n",
            "\u001b[90m2\u001b[39m Afghanistan 2000    20\u001b[4m5\u001b[24m\u001b[4m9\u001b[24m\u001b[4m5\u001b[24m360\n",
            "\u001b[90m3\u001b[39m Brazil      1999   172\u001b[4m0\u001b[24m\u001b[4m0\u001b[24m\u001b[4m6\u001b[24m362\n",
            "\u001b[90m4\u001b[39m Brazil      2000   174\u001b[4m5\u001b[24m\u001b[4m0\u001b[24m\u001b[4m4\u001b[24m898\n",
            "\u001b[90m5\u001b[39m China       1999  \u001b[4m1\u001b[24m272\u001b[4m9\u001b[24m\u001b[4m1\u001b[24m\u001b[4m5\u001b[24m272\n",
            "\u001b[90m6\u001b[39m China       2000  \u001b[4m1\u001b[24m280\u001b[4m4\u001b[24m\u001b[4m2\u001b[24m\u001b[4m8\u001b[24m583\n"
          ]
        }
      ]
    },
    {
      "cell_type": "markdown",
      "source": [
        "## <a name=\"merge-func\">`merge()`</a>\n",
        "\n",
        "---\n",
        "\n",
        "By default, the `merge` function determines the identical columns in both data frames and joins the rows horizontally (removing redundant information). Alternatively, you can specify columns `by` which to join the rows.\n",
        "\n",
        "We illustrate usage of the `merge` function below.\n",
        "\n",
        "- The `x` and `y` arguments are the data frames we want to merge.\n",
        "- The `by` argument indicates the shared columns we want to match the rows by.\n",
        "- There are some other fancy arguments you can use if there are matching columns in the data frames that have different names.\n",
        "\n",
        "Since `merge` is a **base** R function, the result is a `data.frame`.\n",
        "\n",
        "\n"
      ],
      "metadata": {
        "id": "y8wFFYGgBHDf"
      }
    },
    {
      "cell_type": "code",
      "source": [
        "merge(x = tbl4a, y = tbl4b)"
      ],
      "metadata": {
        "colab": {
          "base_uri": "https://localhost:8080/",
          "height": 286
        },
        "id": "jccJpJ2aDlSW",
        "outputId": "71bb656f-013e-445c-f408-6a26f0e0ce89"
      },
      "execution_count": 30,
      "outputs": [
        {
          "output_type": "display_data",
          "data": {
            "text/html": [
              "<table class=\"dataframe\">\n",
              "<caption>A data.frame: 6 × 4</caption>\n",
              "<thead>\n",
              "\t<tr><th scope=col>country</th><th scope=col>year</th><th scope=col>cases</th><th scope=col>population</th></tr>\n",
              "\t<tr><th scope=col>&lt;chr&gt;</th><th scope=col>&lt;chr&gt;</th><th scope=col>&lt;dbl&gt;</th><th scope=col>&lt;dbl&gt;</th></tr>\n",
              "</thead>\n",
              "<tbody>\n",
              "\t<tr><td>Afghanistan</td><td>1999</td><td>   745</td><td>  19987071</td></tr>\n",
              "\t<tr><td>Afghanistan</td><td>2000</td><td>  2666</td><td>  20595360</td></tr>\n",
              "\t<tr><td>Brazil     </td><td>1999</td><td> 37737</td><td> 172006362</td></tr>\n",
              "\t<tr><td>Brazil     </td><td>2000</td><td> 80488</td><td> 174504898</td></tr>\n",
              "\t<tr><td>China      </td><td>1999</td><td>212258</td><td>1272915272</td></tr>\n",
              "\t<tr><td>China      </td><td>2000</td><td>213766</td><td>1280428583</td></tr>\n",
              "</tbody>\n",
              "</table>\n"
            ],
            "text/markdown": "\nA data.frame: 6 × 4\n\n| country &lt;chr&gt; | year &lt;chr&gt; | cases &lt;dbl&gt; | population &lt;dbl&gt; |\n|---|---|---|---|\n| Afghanistan | 1999 |    745 |   19987071 |\n| Afghanistan | 2000 |   2666 |   20595360 |\n| Brazil      | 1999 |  37737 |  172006362 |\n| Brazil      | 2000 |  80488 |  174504898 |\n| China       | 1999 | 212258 | 1272915272 |\n| China       | 2000 | 213766 | 1280428583 |\n\n",
            "text/latex": "A data.frame: 6 × 4\n\\begin{tabular}{llll}\n country & year & cases & population\\\\\n <chr> & <chr> & <dbl> & <dbl>\\\\\n\\hline\n\t Afghanistan & 1999 &    745 &   19987071\\\\\n\t Afghanistan & 2000 &   2666 &   20595360\\\\\n\t Brazil      & 1999 &  37737 &  172006362\\\\\n\t Brazil      & 2000 &  80488 &  174504898\\\\\n\t China       & 1999 & 212258 & 1272915272\\\\\n\t China       & 2000 & 213766 & 1280428583\\\\\n\\end{tabular}\n",
            "text/plain": [
              "  country     year cases  population\n",
              "1 Afghanistan 1999    745   19987071\n",
              "2 Afghanistan 2000   2666   20595360\n",
              "3 Brazil      1999  37737  172006362\n",
              "4 Brazil      2000  80488  174504898\n",
              "5 China       1999 212258 1272915272\n",
              "6 China       2000 213766 1280428583"
            ]
          },
          "metadata": {}
        }
      ]
    },
    {
      "cell_type": "code",
      "source": [
        "merge(x = tbl4a, y = tbl4b, by = c(\"country\", \"year\"))"
      ],
      "metadata": {
        "id": "JFB-zKrDDoEK"
      },
      "execution_count": null,
      "outputs": []
    },
    {
      "cell_type": "markdown",
      "source": [
        "## <a name=\"use_join\">`*_join()`</a>\n",
        "\n",
        "---\n",
        "\n",
        "If we wish to stay within the `tidyverse` ecosystem, we can use one of the `*_join` functions in `dplyr`. These functions include `x`, `y`, and `by` arguments that work identically to those in the `merge` function.\n",
        "\n",
        "- `left_join` merges the rows of `y` that match the rows of `x` into `x`.\n",
        "- `right_join` merges the rows of `x` that match the rows of `y` into `y`.\n",
        "- `inner_join` merges the rows of `x` and `y` that are in both data frames.\n",
        "- `full_join` merges the rows of `x` and `y` that are in either data frame.\n",
        "- See `?inner_join` for more examples.\n",
        "\n",
        "In this example, since rows of the two data frames match exactly, then any of the joins produce identical results. We will use `full_join`, since anecdotally, it is the most common type of join used.\n"
      ],
      "metadata": {
        "id": "hf8-JgjKBFEa"
      }
    },
    {
      "cell_type": "code",
      "source": [
        "full_join(tbl4a, tbl4b)"
      ],
      "metadata": {
        "colab": {
          "base_uri": "https://localhost:8080/",
          "height": 303
        },
        "id": "u6UTS-y4EHBP",
        "outputId": "bf8f31f2-f41d-44a2-c128-0c372ca11ecd"
      },
      "execution_count": 31,
      "outputs": [
        {
          "output_type": "stream",
          "name": "stderr",
          "text": [
            "\u001b[1m\u001b[22mJoining with `by = join_by(country, year)`\n"
          ]
        },
        {
          "output_type": "display_data",
          "data": {
            "text/html": [
              "<table class=\"dataframe\">\n",
              "<caption>A tibble: 6 × 4</caption>\n",
              "<thead>\n",
              "\t<tr><th scope=col>country</th><th scope=col>year</th><th scope=col>cases</th><th scope=col>population</th></tr>\n",
              "\t<tr><th scope=col>&lt;chr&gt;</th><th scope=col>&lt;chr&gt;</th><th scope=col>&lt;dbl&gt;</th><th scope=col>&lt;dbl&gt;</th></tr>\n",
              "</thead>\n",
              "<tbody>\n",
              "\t<tr><td>Afghanistan</td><td>1999</td><td>   745</td><td>  19987071</td></tr>\n",
              "\t<tr><td>Afghanistan</td><td>2000</td><td>  2666</td><td>  20595360</td></tr>\n",
              "\t<tr><td>Brazil     </td><td>1999</td><td> 37737</td><td> 172006362</td></tr>\n",
              "\t<tr><td>Brazil     </td><td>2000</td><td> 80488</td><td> 174504898</td></tr>\n",
              "\t<tr><td>China      </td><td>1999</td><td>212258</td><td>1272915272</td></tr>\n",
              "\t<tr><td>China      </td><td>2000</td><td>213766</td><td>1280428583</td></tr>\n",
              "</tbody>\n",
              "</table>\n"
            ],
            "text/markdown": "\nA tibble: 6 × 4\n\n| country &lt;chr&gt; | year &lt;chr&gt; | cases &lt;dbl&gt; | population &lt;dbl&gt; |\n|---|---|---|---|\n| Afghanistan | 1999 |    745 |   19987071 |\n| Afghanistan | 2000 |   2666 |   20595360 |\n| Brazil      | 1999 |  37737 |  172006362 |\n| Brazil      | 2000 |  80488 |  174504898 |\n| China       | 1999 | 212258 | 1272915272 |\n| China       | 2000 | 213766 | 1280428583 |\n\n",
            "text/latex": "A tibble: 6 × 4\n\\begin{tabular}{llll}\n country & year & cases & population\\\\\n <chr> & <chr> & <dbl> & <dbl>\\\\\n\\hline\n\t Afghanistan & 1999 &    745 &   19987071\\\\\n\t Afghanistan & 2000 &   2666 &   20595360\\\\\n\t Brazil      & 1999 &  37737 &  172006362\\\\\n\t Brazil      & 2000 &  80488 &  174504898\\\\\n\t China       & 1999 & 212258 & 1272915272\\\\\n\t China       & 2000 & 213766 & 1280428583\\\\\n\\end{tabular}\n",
            "text/plain": [
              "  country     year cases  population\n",
              "1 Afghanistan 1999    745   19987071\n",
              "2 Afghanistan 2000   2666   20595360\n",
              "3 Brazil      1999  37737  172006362\n",
              "4 Brazil      2000  80488  174504898\n",
              "5 China       1999 212258 1272915272\n",
              "6 China       2000 213766 1280428583"
            ]
          },
          "metadata": {}
        }
      ]
    },
    {
      "cell_type": "markdown",
      "source": [
        "# <a name=\"separate\">Separating Columns</a>\n",
        "\n",
        "---\n",
        "\n",
        "\n",
        "The `rate` column of `table3` included both `cases` and `population`. We want to separate these values.\n",
        "\n"
      ],
      "metadata": {
        "id": "lessyJhd20uF"
      }
    },
    {
      "cell_type": "code",
      "source": [
        "table3"
      ],
      "metadata": {
        "colab": {
          "base_uri": "https://localhost:8080/",
          "height": 286
        },
        "id": "OilszQelEyVb",
        "outputId": "66bb9ee1-9ba5-4055-9ee3-f98bb0c38635"
      },
      "execution_count": 32,
      "outputs": [
        {
          "output_type": "display_data",
          "data": {
            "text/html": [
              "<table class=\"dataframe\">\n",
              "<caption>A tibble: 6 × 3</caption>\n",
              "<thead>\n",
              "\t<tr><th scope=col>country</th><th scope=col>year</th><th scope=col>rate</th></tr>\n",
              "\t<tr><th scope=col>&lt;chr&gt;</th><th scope=col>&lt;dbl&gt;</th><th scope=col>&lt;chr&gt;</th></tr>\n",
              "</thead>\n",
              "<tbody>\n",
              "\t<tr><td>Afghanistan</td><td>1999</td><td>745/19987071     </td></tr>\n",
              "\t<tr><td>Afghanistan</td><td>2000</td><td>2666/20595360    </td></tr>\n",
              "\t<tr><td>Brazil     </td><td>1999</td><td>37737/172006362  </td></tr>\n",
              "\t<tr><td>Brazil     </td><td>2000</td><td>80488/174504898  </td></tr>\n",
              "\t<tr><td>China      </td><td>1999</td><td>212258/1272915272</td></tr>\n",
              "\t<tr><td>China      </td><td>2000</td><td>213766/1280428583</td></tr>\n",
              "</tbody>\n",
              "</table>\n"
            ],
            "text/markdown": "\nA tibble: 6 × 3\n\n| country &lt;chr&gt; | year &lt;dbl&gt; | rate &lt;chr&gt; |\n|---|---|---|\n| Afghanistan | 1999 | 745/19987071      |\n| Afghanistan | 2000 | 2666/20595360     |\n| Brazil      | 1999 | 37737/172006362   |\n| Brazil      | 2000 | 80488/174504898   |\n| China       | 1999 | 212258/1272915272 |\n| China       | 2000 | 213766/1280428583 |\n\n",
            "text/latex": "A tibble: 6 × 3\n\\begin{tabular}{lll}\n country & year & rate\\\\\n <chr> & <dbl> & <chr>\\\\\n\\hline\n\t Afghanistan & 1999 & 745/19987071     \\\\\n\t Afghanistan & 2000 & 2666/20595360    \\\\\n\t Brazil      & 1999 & 37737/172006362  \\\\\n\t Brazil      & 2000 & 80488/174504898  \\\\\n\t China       & 1999 & 212258/1272915272\\\\\n\t China       & 2000 & 213766/1280428583\\\\\n\\end{tabular}\n",
            "text/plain": [
              "  country     year rate             \n",
              "1 Afghanistan 1999 745/19987071     \n",
              "2 Afghanistan 2000 2666/20595360    \n",
              "3 Brazil      1999 37737/172006362  \n",
              "4 Brazil      2000 80488/174504898  \n",
              "5 China       1999 212258/1272915272\n",
              "6 China       2000 213766/1280428583"
            ]
          },
          "metadata": {}
        }
      ]
    },
    {
      "cell_type": "markdown",
      "source": [
        "A column can be separated into multiple columns while retaining the same number of rows using the `separate()` function. Important arguments include:\n",
        "\n",
        "- `data`: the data frame to manipulate\n",
        "- `col` the column to separate\n",
        "- `into`: the names of the variables into which the column will be separated\n",
        "- `sep`: the character or position by which to separate `col`\n",
        "- `remove`: a logical value indicating whether `col` will be removed after separation. The default is `TRUE`.\n",
        "\n"
      ],
      "metadata": {
        "id": "kmntKetFExdq"
      }
    },
    {
      "cell_type": "code",
      "source": [
        "table3 |>\n",
        "  separate(\n",
        "    col = rate,  # separate the rate column\n",
        "    into = c(\"cases\", \"population\"),  # into two columns with these names\n",
        "    sep = \"/\"  # the character by which to separate the values in rate\n",
        "  )"
      ],
      "metadata": {
        "colab": {
          "base_uri": "https://localhost:8080/",
          "height": 286
        },
        "id": "6ZXBbAMsE8nE",
        "outputId": "5336b8c9-dbe3-44e2-81ca-2af7cb2e1544"
      },
      "execution_count": 33,
      "outputs": [
        {
          "output_type": "display_data",
          "data": {
            "text/html": [
              "<table class=\"dataframe\">\n",
              "<caption>A tibble: 6 × 4</caption>\n",
              "<thead>\n",
              "\t<tr><th scope=col>country</th><th scope=col>year</th><th scope=col>cases</th><th scope=col>population</th></tr>\n",
              "\t<tr><th scope=col>&lt;chr&gt;</th><th scope=col>&lt;dbl&gt;</th><th scope=col>&lt;chr&gt;</th><th scope=col>&lt;chr&gt;</th></tr>\n",
              "</thead>\n",
              "<tbody>\n",
              "\t<tr><td>Afghanistan</td><td>1999</td><td>745   </td><td>19987071  </td></tr>\n",
              "\t<tr><td>Afghanistan</td><td>2000</td><td>2666  </td><td>20595360  </td></tr>\n",
              "\t<tr><td>Brazil     </td><td>1999</td><td>37737 </td><td>172006362 </td></tr>\n",
              "\t<tr><td>Brazil     </td><td>2000</td><td>80488 </td><td>174504898 </td></tr>\n",
              "\t<tr><td>China      </td><td>1999</td><td>212258</td><td>1272915272</td></tr>\n",
              "\t<tr><td>China      </td><td>2000</td><td>213766</td><td>1280428583</td></tr>\n",
              "</tbody>\n",
              "</table>\n"
            ],
            "text/markdown": "\nA tibble: 6 × 4\n\n| country &lt;chr&gt; | year &lt;dbl&gt; | cases &lt;chr&gt; | population &lt;chr&gt; |\n|---|---|---|---|\n| Afghanistan | 1999 | 745    | 19987071   |\n| Afghanistan | 2000 | 2666   | 20595360   |\n| Brazil      | 1999 | 37737  | 172006362  |\n| Brazil      | 2000 | 80488  | 174504898  |\n| China       | 1999 | 212258 | 1272915272 |\n| China       | 2000 | 213766 | 1280428583 |\n\n",
            "text/latex": "A tibble: 6 × 4\n\\begin{tabular}{llll}\n country & year & cases & population\\\\\n <chr> & <dbl> & <chr> & <chr>\\\\\n\\hline\n\t Afghanistan & 1999 & 745    & 19987071  \\\\\n\t Afghanistan & 2000 & 2666   & 20595360  \\\\\n\t Brazil      & 1999 & 37737  & 172006362 \\\\\n\t Brazil      & 2000 & 80488  & 174504898 \\\\\n\t China       & 1999 & 212258 & 1272915272\\\\\n\t China       & 2000 & 213766 & 1280428583\\\\\n\\end{tabular}\n",
            "text/plain": [
              "  country     year cases  population\n",
              "1 Afghanistan 1999 745    19987071  \n",
              "2 Afghanistan 2000 2666   20595360  \n",
              "3 Brazil      1999 37737  172006362 \n",
              "4 Brazil      2000 80488  174504898 \n",
              "5 China       1999 212258 1272915272\n",
              "6 China       2000 213766 1280428583"
            ]
          },
          "metadata": {}
        }
      ]
    },
    {
      "cell_type": "markdown",
      "source": [
        "# <a name=\"unite\">Uniting Columns</a>\n",
        "\n",
        "---\n",
        "\n",
        "\n",
        "The `unite()` function unites multiple columns of a data frame while retaining the same number of rows. Important arguments include:\n",
        "\n",
        "- `data`: the data frame to manipulate\n",
        "- `col` the name of the new column for the united values\n",
        "- `...`: the columns to unite\n",
        "- `sep`: the delimiter to separate the values in the columns\n",
        "- `remove`: a logical value indicating whether the columns in `...` will be removed after unification. The default is `TRUE`.\n",
        "\n",
        "\n",
        "We use the `unite` function to unite the `century` and `year` columns of `table5`.\n",
        "\n"
      ],
      "metadata": {
        "id": "5KListLtEbOR"
      }
    },
    {
      "cell_type": "code",
      "source": [
        "# century and year should be united\n",
        "table5"
      ],
      "metadata": {
        "colab": {
          "base_uri": "https://localhost:8080/",
          "height": 286
        },
        "id": "70c3tyX2FaYK",
        "outputId": "9c3ffdf3-eacd-4e17-c165-254ae5b88c4c"
      },
      "execution_count": 34,
      "outputs": [
        {
          "output_type": "display_data",
          "data": {
            "text/html": [
              "<table class=\"dataframe\">\n",
              "<caption>A tibble: 6 × 4</caption>\n",
              "<thead>\n",
              "\t<tr><th scope=col>country</th><th scope=col>century</th><th scope=col>year</th><th scope=col>rate</th></tr>\n",
              "\t<tr><th scope=col>&lt;chr&gt;</th><th scope=col>&lt;chr&gt;</th><th scope=col>&lt;chr&gt;</th><th scope=col>&lt;chr&gt;</th></tr>\n",
              "</thead>\n",
              "<tbody>\n",
              "\t<tr><td>Afghanistan</td><td>19</td><td>99</td><td>745/19987071     </td></tr>\n",
              "\t<tr><td>Afghanistan</td><td>20</td><td>00</td><td>2666/20595360    </td></tr>\n",
              "\t<tr><td>Brazil     </td><td>19</td><td>99</td><td>37737/172006362  </td></tr>\n",
              "\t<tr><td>Brazil     </td><td>20</td><td>00</td><td>80488/174504898  </td></tr>\n",
              "\t<tr><td>China      </td><td>19</td><td>99</td><td>212258/1272915272</td></tr>\n",
              "\t<tr><td>China      </td><td>20</td><td>00</td><td>213766/1280428583</td></tr>\n",
              "</tbody>\n",
              "</table>\n"
            ],
            "text/markdown": "\nA tibble: 6 × 4\n\n| country &lt;chr&gt; | century &lt;chr&gt; | year &lt;chr&gt; | rate &lt;chr&gt; |\n|---|---|---|---|\n| Afghanistan | 19 | 99 | 745/19987071      |\n| Afghanistan | 20 | 00 | 2666/20595360     |\n| Brazil      | 19 | 99 | 37737/172006362   |\n| Brazil      | 20 | 00 | 80488/174504898   |\n| China       | 19 | 99 | 212258/1272915272 |\n| China       | 20 | 00 | 213766/1280428583 |\n\n",
            "text/latex": "A tibble: 6 × 4\n\\begin{tabular}{llll}\n country & century & year & rate\\\\\n <chr> & <chr> & <chr> & <chr>\\\\\n\\hline\n\t Afghanistan & 19 & 99 & 745/19987071     \\\\\n\t Afghanistan & 20 & 00 & 2666/20595360    \\\\\n\t Brazil      & 19 & 99 & 37737/172006362  \\\\\n\t Brazil      & 20 & 00 & 80488/174504898  \\\\\n\t China       & 19 & 99 & 212258/1272915272\\\\\n\t China       & 20 & 00 & 213766/1280428583\\\\\n\\end{tabular}\n",
            "text/plain": [
              "  country     century year rate             \n",
              "1 Afghanistan 19      99   745/19987071     \n",
              "2 Afghanistan 20      00   2666/20595360    \n",
              "3 Brazil      19      99   37737/172006362  \n",
              "4 Brazil      20      00   80488/174504898  \n",
              "5 China       19      99   212258/1272915272\n",
              "6 China       20      00   213766/1280428583"
            ]
          },
          "metadata": {}
        }
      ]
    },
    {
      "cell_type": "code",
      "source": [
        "table5 |>\n",
        "  unite(\n",
        "    col = \"year\", \"century\", \"year\",  # new_col, old_col1, old_col2, ...\n",
        "    sep = \"\"  # do not separate the joined values\n",
        "  )"
      ],
      "metadata": {
        "colab": {
          "base_uri": "https://localhost:8080/",
          "height": 286
        },
        "id": "FXVnUbPyFnBr",
        "outputId": "809bcde9-2bfe-49a6-d145-5ddf46e3d49b"
      },
      "execution_count": 35,
      "outputs": [
        {
          "output_type": "display_data",
          "data": {
            "text/html": [
              "<table class=\"dataframe\">\n",
              "<caption>A tibble: 6 × 3</caption>\n",
              "<thead>\n",
              "\t<tr><th scope=col>country</th><th scope=col>year</th><th scope=col>rate</th></tr>\n",
              "\t<tr><th scope=col>&lt;chr&gt;</th><th scope=col>&lt;chr&gt;</th><th scope=col>&lt;chr&gt;</th></tr>\n",
              "</thead>\n",
              "<tbody>\n",
              "\t<tr><td>Afghanistan</td><td>1999</td><td>745/19987071     </td></tr>\n",
              "\t<tr><td>Afghanistan</td><td>2000</td><td>2666/20595360    </td></tr>\n",
              "\t<tr><td>Brazil     </td><td>1999</td><td>37737/172006362  </td></tr>\n",
              "\t<tr><td>Brazil     </td><td>2000</td><td>80488/174504898  </td></tr>\n",
              "\t<tr><td>China      </td><td>1999</td><td>212258/1272915272</td></tr>\n",
              "\t<tr><td>China      </td><td>2000</td><td>213766/1280428583</td></tr>\n",
              "</tbody>\n",
              "</table>\n"
            ],
            "text/markdown": "\nA tibble: 6 × 3\n\n| country &lt;chr&gt; | year &lt;chr&gt; | rate &lt;chr&gt; |\n|---|---|---|\n| Afghanistan | 1999 | 745/19987071      |\n| Afghanistan | 2000 | 2666/20595360     |\n| Brazil      | 1999 | 37737/172006362   |\n| Brazil      | 2000 | 80488/174504898   |\n| China       | 1999 | 212258/1272915272 |\n| China       | 2000 | 213766/1280428583 |\n\n",
            "text/latex": "A tibble: 6 × 3\n\\begin{tabular}{lll}\n country & year & rate\\\\\n <chr> & <chr> & <chr>\\\\\n\\hline\n\t Afghanistan & 1999 & 745/19987071     \\\\\n\t Afghanistan & 2000 & 2666/20595360    \\\\\n\t Brazil      & 1999 & 37737/172006362  \\\\\n\t Brazil      & 2000 & 80488/174504898  \\\\\n\t China       & 1999 & 212258/1272915272\\\\\n\t China       & 2000 & 213766/1280428583\\\\\n\\end{tabular}\n",
            "text/plain": [
              "  country     year rate             \n",
              "1 Afghanistan 1999 745/19987071     \n",
              "2 Afghanistan 2000 2666/20595360    \n",
              "3 Brazil      1999 37737/172006362  \n",
              "4 Brazil      2000 80488/174504898  \n",
              "5 China       1999 212258/1272915272\n",
              "6 China       2000 213766/1280428583"
            ]
          },
          "metadata": {}
        }
      ]
    },
    {
      "cell_type": "markdown",
      "source": [
        "## <a name=\"quest2\">Question 2</a>\n",
        "\n",
        "---\n",
        "\n",
        "The output generated by the previous code cell is not tidy. Pipe together commands to represent the data in `table5` as tidy data.\n",
        "\n",
        "<br>  \n"
      ],
      "metadata": {
        "id": "dFKJPfrNGq8a"
      }
    },
    {
      "cell_type": "markdown",
      "source": [
        "### <a name=\"sol2\">Solution to Question 2</a>\n",
        "\n",
        "---\n",
        "\n",
        "<br>  \n"
      ],
      "metadata": {
        "id": "QwOQYdF_HXhd"
      }
    },
    {
      "cell_type": "code",
      "source": [],
      "metadata": {
        "id": "Xl7CDXohLmYz"
      },
      "execution_count": null,
      "outputs": []
    },
    {
      "cell_type": "markdown",
      "source": [
        "## <a name=\"CC License\">Creative Commons License Information</a>\n",
        "---\n",
        "\n",
        "![Creative Commons\n",
        "License](https://i.creativecommons.org/l/by-nc-sa/4.0/88x31.png)\n",
        "\n",
        "Materials created by the [Department of Mathematical and Statistical Sciences at the University of Colorado Denver](https://github.com/CU-Denver-MathStats-OER/)\n",
        "and is licensed under a [Creative Commons\n",
        "Attribution-NonCommercial-ShareAlike 4.0 International\n",
        "License](http://creativecommons.org/licenses/by-nc-sa/4.0/)."
      ],
      "metadata": {
        "id": "WS8w_KQF5ym4"
      }
    }
  ]
}