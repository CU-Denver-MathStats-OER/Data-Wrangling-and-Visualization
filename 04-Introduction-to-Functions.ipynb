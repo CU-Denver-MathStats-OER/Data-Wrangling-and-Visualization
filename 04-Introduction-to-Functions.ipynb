{
  "nbformat": 4,
  "nbformat_minor": 0,
  "metadata": {
    "colab": {
      "provenance": [],
      "authorship_tag": "ABX9TyOLwoCt4Py2yTONQcV+2mJd"
    },
    "kernelspec": {
      "name": "ir",
      "display_name": "R"
    },
    "language_info": {
      "name": "R"
    }
  },
  "cells": [
    {
      "cell_type": "markdown",
      "source": [
        "[![Open In Colab](https://colab.research.google.com/assets/colab-badge.svg)](https://githubtocolab.com/CU-Denver-MathStats-OER/Data-Wrangling-and-Visualization/blob/main/04-Introduction-to-Functions.ipynb)\n",
        "\n"
      ],
      "metadata": {
        "id": "WaUpDHKEpNrt"
      }
    },
    {
      "cell_type": "markdown",
      "source": [
        "# <a name=\"04-title\"><font size=\"6\">Module 04: Introduction to Functions</font></a>\n",
        "\n",
        "---"
      ],
      "metadata": {
        "id": "TyO8Rh7aOeOy"
      }
    },
    {
      "cell_type": "markdown",
      "source": [
        "# <a name=\"function\">Functions</a>\n",
        "\n",
        "---\n",
        "\n",
        "\n",
        "A function is an object that performs a certain action or set of actions based on object(s) it receives from its inputs. Functions usually take in some sort of data structure (value(s), vector(s), dataframe(s), etc.) and return a result.\n",
        "\n",
        "- The inputs are called <font color=\"dodgerblue\">**arguments**</font> such as:\n",
        "  - The object (data structure) on which the function carries out a task.\n",
        "  - Specifications that alter the way the function operates (e.g. options) and stores a set of output(s).\n",
        "- The <font color=\"dodgerblue\">**defaults**</font> represent standard values and/or options that the author of the function specified as being appropriate for typical cases.\n",
        "- Help documentation often specifies available options and their corresponding defautls.\n"
      ],
      "metadata": {
        "id": "WhALT19FAqCt"
      }
    },
    {
      "cell_type": "markdown",
      "source": [
        "## <a name=\"func-dictionary\">A Dictionary of Useful Functions</a>\n",
        "\n",
        "---\n",
        "\n",
        "Below is a brief list of commonly used functions some of which we have already been working with.\n",
        "\n",
        "- `c(x, y)`: combine vectors `x` and `y` into a single vector\n",
        "- `length(x)`: return the number of elements in `x`\n",
        "- `sum(x)`: sum the elements in `x`\n",
        "- `mean(x)`: compute the mean of the elements in `x`\n",
        "- `median(x)`: compute the median of the elements in `x`\n",
        "- `min(x)`: compute the minimum value in `x`\n",
        "- `max(x)`: compute the maximum value in `x`\n",
        "- `quantile(x, probs = q)`: compute the $q^\\text{th}$ quantile of `x`\n",
        "- `fivenum(x)`: compute five number summary of `x`\n",
        "- `var(x)`: compute the sample variance of elements in `x`\n",
        "- `sd(x)`: compute the sample standard deviation of the elements in `x`\n",
        "- `range(x)`: determine the range (minimum and maximum) of the elements in `x`\n",
        "- `sqrt(x)`: compute the square root of each element in `x`\n",
        "- `log(x)`: compute the (natural) logarithm of the elements in `x`\n",
        "- `summary(x)`: provide a summary (that depends on the data type) of `x`\n",
        "- `str(x)`: provide information about the structure of `x`. Usually, the class of the object and some information about its size."
      ],
      "metadata": {
        "id": "QAQa1f7ZCbsB"
      }
    },
    {
      "cell_type": "code",
      "source": [
        "(z <- 1:10)"
      ],
      "metadata": {
        "id": "pcefc8TJ7_zO"
      },
      "execution_count": null,
      "outputs": []
    },
    {
      "cell_type": "code",
      "source": [
        "exp(z)"
      ],
      "metadata": {
        "id": "tJmCkzAz8ILo"
      },
      "execution_count": null,
      "outputs": []
    },
    {
      "cell_type": "code",
      "source": [
        "log(z)"
      ],
      "metadata": {
        "id": "7Me7YBXDZxaH"
      },
      "execution_count": null,
      "outputs": []
    },
    {
      "cell_type": "code",
      "source": [
        "log(exp(z))"
      ],
      "metadata": {
        "id": "W6zNV8naZnfs"
      },
      "execution_count": null,
      "outputs": []
    },
    {
      "cell_type": "code",
      "source": [
        "log10(z)"
      ],
      "metadata": {
        "id": "phz88-_HZhbj"
      },
      "execution_count": null,
      "outputs": []
    },
    {
      "cell_type": "code",
      "source": [
        "y <- round(log(z), 1)\n",
        "y"
      ],
      "metadata": {
        "id": "831dwml88QRO"
      },
      "execution_count": null,
      "outputs": []
    },
    {
      "cell_type": "code",
      "source": [
        "median(y)"
      ],
      "metadata": {
        "id": "OUAQLm238RYx"
      },
      "execution_count": null,
      "outputs": []
    },
    {
      "cell_type": "code",
      "source": [
        "mean(y)"
      ],
      "metadata": {
        "id": "7aYQ63EX8qS7"
      },
      "execution_count": null,
      "outputs": []
    },
    {
      "cell_type": "code",
      "source": [
        "sd(y)"
      ],
      "metadata": {
        "id": "zu0gOVEQ8yrw"
      },
      "execution_count": null,
      "outputs": []
    },
    {
      "cell_type": "code",
      "source": [
        "str(airquality)"
      ],
      "metadata": {
        "id": "vKS3_DmcvHm6"
      },
      "execution_count": null,
      "outputs": []
    },
    {
      "cell_type": "code",
      "source": [
        "# length of a data frame gives the number of columns\n",
        "length(airquality)"
      ],
      "metadata": {
        "id": "AAf5imQAvP7s"
      },
      "execution_count": null,
      "outputs": []
    },
    {
      "cell_type": "code",
      "source": [
        "# length of a vector gives the elements\n",
        "length(airquality$Ozone)"
      ],
      "metadata": {
        "id": "K5xZdcyrvSsF"
      },
      "execution_count": null,
      "outputs": []
    },
    {
      "cell_type": "code",
      "source": [
        "mean(airquality)"
      ],
      "metadata": {
        "id": "ySx6uNcbvro1"
      },
      "execution_count": null,
      "outputs": []
    },
    {
      "cell_type": "code",
      "source": [
        "mean(airquality$Ozone)"
      ],
      "metadata": {
        "id": "gH8MVdXDvuaT"
      },
      "execution_count": null,
      "outputs": []
    },
    {
      "cell_type": "code",
      "source": [
        "clean_air <- na.omit(airquality)"
      ],
      "metadata": {
        "id": "7eMgOhwXvzrh"
      },
      "execution_count": null,
      "outputs": []
    },
    {
      "cell_type": "code",
      "source": [
        "mean(clean_air)"
      ],
      "metadata": {
        "id": "Ox5Uure7v4nH"
      },
      "execution_count": null,
      "outputs": []
    },
    {
      "cell_type": "code",
      "source": [
        "mean(clean_air$Ozone)"
      ],
      "metadata": {
        "id": "Zz7wT4IWv8zE"
      },
      "execution_count": null,
      "outputs": []
    },
    {
      "cell_type": "markdown",
      "source": [
        "## <a name=\"funct-struc\">Checking Structure of Functions</a>\n",
        "\n",
        "---\n",
        "\n",
        "A function has type `closure`. Essentially this means function can access variables from the environment in which it was created. The function *closes over* its surrounding environment, allowing it to recall and use those variables when called later on. You can use the `is.function` function to determine whether an object is a function.\n",
        "\n"
      ],
      "metadata": {
        "id": "wlVwr2OcKuw4"
      }
    },
    {
      "cell_type": "code",
      "source": [
        "typeof(mean)"
      ],
      "metadata": {
        "id": "S5FrPCgquESA"
      },
      "execution_count": null,
      "outputs": []
    },
    {
      "cell_type": "code",
      "source": [
        "mode(mean)"
      ],
      "metadata": {
        "id": "-eKbN9fvuEIl"
      },
      "execution_count": null,
      "outputs": []
    },
    {
      "cell_type": "code",
      "source": [
        "is.function(mean)"
      ],
      "metadata": {
        "id": "8-GrnYh5uD_L"
      },
      "execution_count": null,
      "outputs": []
    },
    {
      "cell_type": "markdown",
      "source": [
        "# <a name=\"stat-funct\">Functions Related to Statistical Distributions</a>\n",
        "\n",
        "---\n",
        "\n",
        "For a review of common statistical distributions in R, refer to the following Colab notebooks:\n",
        "\n",
        "- [Common discrete statistical distributions](https://colab.research.google.com/drive/1fGMPRSBRt5unIRhEomW4POyMAFzgN6OI?usp=sharing). In particular, distributions discussed are:\n",
        "  - Binominial distribution\n",
        "  - Geometric distribution\n",
        "  - Discrete uniform distribution\n",
        "  - Poisson distribution\n",
        "\n",
        "- [Common continuous statistical distributions](https://colab.research.google.com/drive/1vN_b_SzyJ6eu3NEf3oqQTOe3p7jEjjdo?usp=sharing). In particular, distributions discussed are:\n",
        "  - Normal distribution\n",
        "  - Continuous uniform distribution\n",
        "  - Exponential distribution\n",
        "  - Gamma distribution\n",
        "\n",
        "Suppose that a random variable $X$ has the `dist` distribution:\n",
        "\n",
        "-\t`p[dist](x, ...)`: returns the value of the cummulative distribution function (cdf) $F(x)$ evaluated at `x`. It gives the value of $F(x) = P(X \\leq x)$.\n",
        "\n",
        "-\t`q[dist](q, ...)`: returns the inverse cdf (or quantile function) of $X$ evaluated at $q$. It finds the value $x$ such that $P(X \\leq x) = q$ which is also $F^{-1}(q)$.\n",
        "\n",
        "- `d[dist](x, ...)`: returns the probability mass function (pmf)  or probability density function (pdf) for random variable $X$ (pmf if $X$ is disccrete and pdf if $X$ is continuous).\n",
        "\n",
        "  - If $X$ is discrete, `d[dist](x, ...)` $= p(x) = P(X = x)$.\n",
        "\n",
        "  - If $X$ is continuous, `d[dist](x, ...)` $= f(x)$ is the height of the pdf function.\n",
        "  \n",
        "- `r[dist](n, ...)`: returns a random sample (with replacement) of size `n` picked from distribution $X$.\n",
        "\n",
        "<br>  \n",
        "\n",
        "*Note: The `...` indicates that additional arguments describing the parameters of the distribution may be required.*\n",
        "\n",
        "\n",
        "\n"
      ],
      "metadata": {
        "id": "kJZ-mSWNHVR5"
      }
    },
    {
      "cell_type": "markdown",
      "source": [
        "## <a name=\"quest1\">Question 1</a>\n",
        "\n",
        "---\n",
        "\n",
        "Let $X$ be the birth weight, in grams, of a randomly selected full-term baby.\n",
        "An article<sup>1</sup> suggests that $X$ is normally distributed with mean 3500 grams and standard deviation 600 grams.\n",
        "\n",
        "<br>\n",
        "\n",
        "<font size=\"2\">1. \"Fetal Growth Parameters and Birth Weight: Their Relationship to Neonatal Body Composition'\" (Ultrasound in Obstetrics and Gynecology, 2009: 441--446)</font>\n",
        "\n"
      ],
      "metadata": {
        "id": "1T-i03XnhziT"
      }
    },
    {
      "cell_type": "code",
      "source": [
        "library(ggplot2)\n",
        "\n",
        "mux <- 3500\n",
        "sdx <- 600\n",
        "xmax <- mux + 4*sdx\n",
        "xmin <- mux - 4*sdx\n",
        "\n",
        "\n",
        "ggplot(NULL, aes(c(xmin, xmax))) +\n",
        "  geom_area(stat = \"function\",   fun = dnorm, args = list(mean = mux, sd = sdx),\n",
        "            color = \"black\", fill = \"steelblue\",\n",
        "            xlim = c(xmin, 4200)) +\n",
        "  geom_area(stat = \"function\",   fun = dnorm, args = list(mean = mux, sd = sdx),\n",
        "            color = \"black\", fill = NA,\n",
        "            xlim = c(4200, xmax)) +\n",
        "  labs(x = \"bwt\", y = \"Probability Density\") +\n",
        "  scale_x_continuous(breaks=c(mux-3*sdx, mux, 42000, mux+3*sdx)) +\n",
        "  geom_hline(yintercept=0) +\n",
        "  theme_bw() +\n",
        "  theme(axis.text.x=element_text(size=15), axis.text.y=element_text(size=15))"
      ],
      "metadata": {
        "id": "juw7qp3E2xTt"
      },
      "execution_count": null,
      "outputs": []
    },
    {
      "cell_type": "markdown",
      "source": [
        "### <a name=\"quest1a\">Question 1a</a>\n",
        "\n",
        "---\n",
        "\n",
        "What is the probability that the weight of such a randomly selected newborn is less than or equal to 4200 g?\n",
        "\n",
        "\n",
        "<br>  \n",
        "\n",
        "#### <a name=\"sol1a\">Solution to Question 1a</a>\n",
        "\n",
        "---\n",
        "\n",
        "Use code cell below to help answer. Then type your answer in the this text cell. Enter your answer as a proportion rounded to four decimal places.\n",
        "\n",
        "<br>  \n",
        "\n",
        "$P(X \\leq  4200 ) = $ ??\n",
        "\n",
        "<br>  \n",
        "<br>  \n"
      ],
      "metadata": {
        "id": "rqvPyHCgFzUY"
      }
    },
    {
      "cell_type": "code",
      "source": [],
      "metadata": {
        "id": "zMMEiNbI5Qau"
      },
      "execution_count": null,
      "outputs": []
    },
    {
      "cell_type": "markdown",
      "source": [
        "### <a name=\"quest1b\">Question 1b</a>\n",
        "\n",
        "---\n",
        "\n",
        "What is 90th percentile for birth weight (in grams) of a full-term baby?\n",
        "\n",
        "<br>  \n",
        "\n",
        "#### <a name=\"sol1b\">Solution to Question 1b</a>\n",
        "\n",
        "---\n",
        "\n",
        "Use code cell below to help answer. Then type your answer in the this text cell. Enter your answer in grams, rounded to one decmial place.\n",
        "\n",
        "<br>  \n",
        "\n",
        "The 90th percentile is ?? grams.\n",
        "\n",
        "<br>  \n",
        "<br>  \n"
      ],
      "metadata": {
        "id": "a9OSAkjN4sRY"
      }
    },
    {
      "cell_type": "code",
      "source": [],
      "metadata": {
        "id": "EcUJCmigcIOH"
      },
      "execution_count": null,
      "outputs": []
    },
    {
      "cell_type": "markdown",
      "source": [
        "### <a name=\"quest1c\">Question 1c</a>\n",
        "\n",
        "---\n",
        "\n",
        "Pick a random sample of 20 birth weights from a population with $X \\sim N(3500, 600)$. Store the result to a vector named `bwt`.\n",
        "\n",
        "<br>  \n",
        "\n",
        "#### <a name=\"sol1c\">Solution to Question 1c</a>\n",
        "\n",
        "---\n",
        "\n",
        "Use the code cell below. There is no text to enter in this cell.\n",
        "\n",
        "<br>  "
      ],
      "metadata": {
        "id": "2I1FmMW04tew"
      }
    },
    {
      "cell_type": "code",
      "source": [
        "set.seed(5523)  # sets randomization seed for consistent output\n"
      ],
      "metadata": {
        "id": "rg-hTUSv7RM-"
      },
      "execution_count": null,
      "outputs": []
    },
    {
      "cell_type": "markdown",
      "source": [
        "# <a name=\"define-funct\">Defining Our Own Functions</a>\n",
        "\n",
        "---\n",
        "\n",
        "A function is essentially a sequence of commands executed based on certain arguments supplied to the function.\n",
        "\n",
        "In R, a function is defined using the general format:\n",
        "\n",
        "```\n",
        "myfunction <- function(arg1, arg2, arg3) {\n",
        "\tcode to execute\n",
        "}\n",
        "```\n",
        "\n",
        "In the example above,\n",
        "\n",
        "-  The name of the function is `myfunction`.\n",
        "-  There are three required inputs (or arguments) named `arg1`, `arg2`, and `arg3`.\n",
        "-  To use this function with `x1`, `x2`, and `x3` as inputs for `arg1`, `arg2`, and `arg3`, respectively, we enter `myfunction(x1, x2, x3)`.\n",
        "\n",
        "Let's create a function named `my_mean()` that returns the mean of the values stored in a vector `x`. Recall the mean is $\\bar{x}$ and is computed using the formula below where $n$ denotes the number of values in $x$:\n",
        "\n",
        "$$\\bar{x} = \\dfrac{x_1 + x_2 + \\ldots x_n}{n} = \\dfrac{ \\sum_{i=1}^n x_i}{n}.$$\n",
        "\n",
        "\n",
        "\n",
        "\n",
        "\n"
      ],
      "metadata": {
        "id": "6fBV-C3_jW_z"
      }
    },
    {
      "cell_type": "code",
      "source": [
        "my_mean <- function(x) {\n",
        "  n <- length(x)  # compute number of elements in x\n",
        "\txbar <- sum(x) / n  # sum of x divided by n\n",
        "  xbar  # print xbar to screen\n",
        "}"
      ],
      "metadata": {
        "id": "EQkLVgFsjW_9"
      },
      "execution_count": null,
      "outputs": []
    },
    {
      "cell_type": "markdown",
      "source": [
        "## <a name=\"quest2\">Question 2</a>\n",
        "\n",
        "---\n",
        "\n",
        "In the first code cell below, use the function `my_mean()` to compute the mean of the random sample of $n=20$ birth birth weights stored to the vector `bwt` in [Question 1c](#quest1c).\n",
        "\n",
        "<br>\n",
        "\n",
        "In the second code cell, use the `mean()` function to compute the mean of the values stored in `bwt` and check to make sure the two functions return the same result.\n",
        "\n",
        "<br>  \n"
      ],
      "metadata": {
        "id": "5dSKRT2JfxUV"
      }
    },
    {
      "cell_type": "markdown",
      "source": [
        "### <a name=\"sol3\">Solution to Question 2</a>\n",
        "\n",
        "---\n",
        "\n",
        "<br>  \n"
      ],
      "metadata": {
        "id": "ULOyn3RKglNC"
      }
    },
    {
      "cell_type": "code",
      "source": [
        "my_mean(??)  # compute mean using my_mean"
      ],
      "metadata": {
        "id": "vNjhB3QDgkqu"
      },
      "execution_count": null,
      "outputs": []
    },
    {
      "cell_type": "code",
      "source": [
        "mean(??)  # compute mean using mean"
      ],
      "metadata": {
        "id": "JDEcDKKYgtUo"
      },
      "execution_count": null,
      "outputs": []
    },
    {
      "cell_type": "markdown",
      "source": [
        "## <a name=\"quest3\">Question 3</a>\n",
        "\n",
        "---\n",
        "\n",
        "\n",
        "Create a function named `my_density()` that returns the probability density of a normal random variable with mean `mu` and standard deviation `sigma` for a each value in vector `x`. Recall that the density function of a normal random variable is\n",
        "\n",
        "$$\n",
        "f(x) = \\frac{1}{\\sigma \\sqrt{2 \\pi}} e^{-\\frac{(x - \\mu)^2}{2 \\sigma^2}}.\n",
        "$$\n",
        "\n",
        "\n",
        "The function should have three arguments:\n",
        "\n",
        "- `x`: A vector of values to determine the density.\n",
        "- `mu`: The mean of the normal distribution.\n",
        "- `sigma`: The standard deviation of the normal distribution.\n",
        "\n",
        "<br>  \n",
        "\n",
        "*Hint: The number $\\pi$ is obtained in R by entering `pi`.*\n",
        "\n",
        "<br>  \n",
        "\n"
      ],
      "metadata": {
        "id": "n_sYUOAoFYOB"
      }
    },
    {
      "cell_type": "markdown",
      "source": [
        "### <a name=\"sol3\">Solution to Question 3</a>\n",
        "\n",
        "---\n",
        "\n",
        "<br>  "
      ],
      "metadata": {
        "id": "NUBLRhkxjW__"
      }
    },
    {
      "cell_type": "code",
      "source": [
        "my_density <- ??"
      ],
      "metadata": {
        "id": "ME-ao8X6jW__"
      },
      "execution_count": null,
      "outputs": []
    },
    {
      "cell_type": "markdown",
      "source": [
        "## <a name=\"quest4\">Question 4</a>\n",
        "\n",
        "---\n",
        "\n",
        "In the first code cell below, use the function `my_density()` to compute the values of the corresponding pdf of the birth weight random variable $X \\sim N(3500, 600)$ from [Question 1](#quest1) at each value stored in the `bwt` vector created in [Question 1c](#quest1c).\n",
        "\n",
        "<br>\n",
        "\n",
        "In the second code cell, use the `dnorm()` function to compute the values of the corresponding pdf of the birth weight random variable $X \\sim N(3500, 600)$ at each value stored in the `bwt` and check to make sure the two functions return the same results.\n",
        "\n",
        "<br>  \n"
      ],
      "metadata": {
        "id": "TaPXkX-xhGFJ"
      }
    },
    {
      "cell_type": "markdown",
      "source": [
        "### <a name=\"sol4\">Solution to Question 4</a>\n",
        "\n",
        "---\n",
        "\n",
        "<br>  \n"
      ],
      "metadata": {
        "id": "F0ZDIxtEhGFJ"
      }
    },
    {
      "cell_type": "code",
      "source": [
        "my_density(??)  # compute mean using my_density"
      ],
      "metadata": {
        "id": "9eKR5r1HhGFK"
      },
      "execution_count": null,
      "outputs": []
    },
    {
      "cell_type": "code",
      "source": [
        "dnorm(??)  # compute mean using dnorm"
      ],
      "metadata": {
        "id": "IjKjaF6JhGFK"
      },
      "execution_count": null,
      "outputs": []
    },
    {
      "cell_type": "markdown",
      "source": [
        "## <a name=\"funct-list\">Functions Returning a List of Results</a>\n",
        "\n",
        "---\n",
        "\n",
        "Let's do an example of a function that returns two pieces of information using a `list`. We haven't really talked about lists yet, but we will learn more about them later.\n",
        "\n",
        "In the code cell below, we create a function named `my_summary()` that returns the mean and standard deviation of a vector `x`.\n",
        "\n",
        "- The sole argument will be, `x`, a vector of numeric values.\n",
        "- There are two outputs printed to the screen:\n",
        "\t- The mean of `x` is stored to `m` and\n",
        "\t- The standard deviation of `x` is stored to `s`\n",
        "- Running `my_summary(x)` will display all outputs in the list on the screen.\n",
        "- Running `my_summary(x)$m` will display only the mean `m`.\n",
        "- Running `my_summary(x)$s` will display only the standard deviation `s`.\n"
      ],
      "metadata": {
        "id": "V2iQjP5PjXAA"
      }
    },
    {
      "cell_type": "code",
      "source": [
        "my_summary <- function(x) {\n",
        "\tm <- mean(x)  # compute the sample mean of x\n",
        "\ts <- sd(x)  # compute the sample sd of x\n",
        "\treturn(list(m = m, s = s))  # return a list with elements m and s\n",
        "}"
      ],
      "metadata": {
        "id": "hmbSOKHIjXAA"
      },
      "execution_count": null,
      "outputs": []
    },
    {
      "cell_type": "code",
      "source": [
        "my_summary(bwt)  # displays all outputs"
      ],
      "metadata": {
        "id": "yMs4reIVjXAA"
      },
      "execution_count": null,
      "outputs": []
    },
    {
      "cell_type": "code",
      "source": [
        "my_summary(bwt)$m  # displays only output stored in m"
      ],
      "metadata": {
        "id": "SWHqYwvajXAA"
      },
      "execution_count": null,
      "outputs": []
    },
    {
      "cell_type": "code",
      "source": [
        "my_summary(bwt)[[1]]  # displays 1st output in list"
      ],
      "metadata": {
        "id": "cJxsfAt2jXAA"
      },
      "execution_count": null,
      "outputs": []
    },
    {
      "cell_type": "code",
      "source": [
        "my_summary(bwt)$s  # displays only output stored in s"
      ],
      "metadata": {
        "id": "F0BlFjS8jXAA"
      },
      "execution_count": null,
      "outputs": []
    },
    {
      "cell_type": "code",
      "source": [
        "my_summary(bwt)[[2]]  # displays 2nd output in list"
      ],
      "metadata": {
        "id": "gFFtcqKUjXAB"
      },
      "execution_count": null,
      "outputs": []
    },
    {
      "cell_type": "markdown",
      "source": [
        "## <a name=\"CC License\">Creative Commons License Information</a>\n",
        "---\n",
        "\n",
        "![Creative Commons\n",
        "License](https://i.creativecommons.org/l/by-nc-sa/4.0/88x31.png)\n",
        "\n",
        "Materials created by the [Department of Mathematical and Statistical Sciences at the University of Colorado Denver](https://github.com/CU-Denver-MathStats-OER/)\n",
        "and is licensed under a [Creative Commons\n",
        "Attribution-NonCommercial-ShareAlike 4.0 International\n",
        "License](http://creativecommons.org/licenses/by-nc-sa/4.0/)."
      ],
      "metadata": {
        "id": "WS8w_KQF5ym4"
      }
    }
  ]
}