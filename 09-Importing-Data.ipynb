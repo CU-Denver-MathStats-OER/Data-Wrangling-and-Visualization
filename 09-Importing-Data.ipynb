{
  "nbformat": 4,
  "nbformat_minor": 0,
  "metadata": {
    "colab": {
      "provenance": [],
      "authorship_tag": "ABX9TyOUOyAvwM/ocGXChpsDGn6C"
    },
    "kernelspec": {
      "name": "ir",
      "display_name": "R"
    },
    "language_info": {
      "name": "R"
    }
  },
  "cells": [
    {
      "cell_type": "markdown",
      "source": [
        "[![Open In Colab](https://colab.research.google.com/assets/colab-badge.svg)](https://githubtocolab.com/CU-Denver-MathStats-OER/Data-Wrangling-and-Visualization/blob/main/09-Importing-Data.ipynb)\n",
        "\n",
        "\n",
        "\n",
        "\n"
      ],
      "metadata": {
        "id": "WaUpDHKEpNrt"
      }
    },
    {
      "cell_type": "markdown",
      "source": [
        "# <a name=\"08-title\"><font size=\"6\">Module 09: Importing Data</font></a>\n",
        "\n",
        "---"
      ],
      "metadata": {
        "id": "TyO8Rh7aOeOy"
      }
    },
    {
      "cell_type": "markdown",
      "source": [
        "# <a name=\"wrangle\">What is Data Wrangling?</a>\n",
        "\n",
        "---\n",
        "\n",
        "<img src=\"https://raw.githubusercontent.com/CU-Denver-MathStats-OER/Data-Wrangling-and-Visualization/main/Images/data-cycle.png\"  alt = \"The Data Cycle\" width=\"80%\">\n",
        "\n",
        "\n",
        "The past couple of modules we have been focusing on data manipulation and visualization with core `tidyverse` packages. In this module, we turn our attention to the <font color=\"dodgerblue\">**import**</font> stage which is typically the very first step in the <font color=\"dodgerblue\">**data wrangling**</font> process. We need some data in order to wrestle with it!\n",
        "\n",
        "Data wrangling is the process of importing messy, unrefined data and  massaging, guiding, and/or manipulating (in a good way) it to extract useful data that is neatly formatted in such a way for us to easily encode the data for further analysis.\n",
        "\n",
        "- Data wrangling requires us to be comfortable writing code.\n",
        "- Data wrangling requires us to work with different forms of data.\n",
        "  - It's important to be able to work not only with numbers but also with character strings, categorical variables, logical variables, regular expression, and dates\n",
        "-  Data wrangling requires a strong knowledge of the different structures to hold your datasets.\n",
        "- Minimizing duplication and writing simple and readable code is important to becoming an effective and efficient data analyst.\n",
        "\n"
      ],
      "metadata": {
        "id": "M5GSSpwOei4G"
      }
    },
    {
      "cell_type": "markdown",
      "source": [
        "# <a name=\"import\">The `readr` Package</a>\n",
        "\n",
        "---\n",
        "\n",
        "![The readr logos](https://readr.tidyverse.org/logo.png)\n",
        "\n",
        "\n",
        "We want to work with custom data that is interesting to us and not already available in an existing R package. This requires us to find or collect our own data, and then import or enter the external data into R. In this module, we will learn how to load files in R with the [`readr` package](https://readr.tidyverse.org/index.html), which is part of the core `tidyverse`.\n",
        "\n",
        "\n",
        "<br>  \n",
        "\n"
      ],
      "metadata": {
        "id": "rTsMhNNp09y-"
      }
    },
    {
      "cell_type": "markdown",
      "source": [
        "## <a name=\"load-tidyverse\">Loading `tidyverse` Packages</a>\n",
        "\n",
        "---\n",
        "\n",
        "The [`tidyverse`](https://www.tidyverse.org/) is a [collection of packages](https://www.tidyverse.org/packages/) by [Hadley Wickham](https://blog.revolutionanalytics.com/2016/09/tidyverse.html) that \"share an underlying design philosophy, grammar, and data structures\" of tidy data. We can load individual packages within the `tidyverse` one by one, or we can load all packages at once with the command `library(tidyverse)`.\n",
        "\n",
        "- The `readr` package is one of the core `tidyverse` packages.\n",
        "- The `dplyr`, `ggplot2`, and `tidyr` packages are also`tidyverse` packages.\n"
      ],
      "metadata": {
        "id": "Y3VleKYlqGJT"
      }
    },
    {
      "cell_type": "code",
      "source": [
        "library(tidyverse)"
      ],
      "metadata": {
        "colab": {
          "base_uri": "https://localhost:8080/"
        },
        "id": "4-40oKhmpkTB",
        "outputId": "b9c6b9c9-d0ad-4e99-9775-3a7cf40b73a2"
      },
      "execution_count": null,
      "outputs": [
        {
          "output_type": "stream",
          "name": "stderr",
          "text": [
            "── \u001b[1mAttaching core tidyverse packages\u001b[22m ──────────────────────── tidyverse 2.0.0 ──\n",
            "\u001b[32m✔\u001b[39m \u001b[34mdplyr    \u001b[39m 1.1.4     \u001b[32m✔\u001b[39m \u001b[34mreadr    \u001b[39m 2.1.5\n",
            "\u001b[32m✔\u001b[39m \u001b[34mforcats  \u001b[39m 1.0.0     \u001b[32m✔\u001b[39m \u001b[34mstringr  \u001b[39m 1.5.1\n",
            "\u001b[32m✔\u001b[39m \u001b[34mggplot2  \u001b[39m 3.5.1     \u001b[32m✔\u001b[39m \u001b[34mtibble   \u001b[39m 3.2.1\n",
            "\u001b[32m✔\u001b[39m \u001b[34mlubridate\u001b[39m 1.9.4     \u001b[32m✔\u001b[39m \u001b[34mtidyr    \u001b[39m 1.3.1\n",
            "\u001b[32m✔\u001b[39m \u001b[34mpurrr    \u001b[39m 1.0.4     \n",
            "── \u001b[1mConflicts\u001b[22m ────────────────────────────────────────── tidyverse_conflicts() ──\n",
            "\u001b[31m✖\u001b[39m \u001b[34mdplyr\u001b[39m::\u001b[32mfilter()\u001b[39m masks \u001b[34mstats\u001b[39m::filter()\n",
            "\u001b[31m✖\u001b[39m \u001b[34mdplyr\u001b[39m::\u001b[32mlag()\u001b[39m    masks \u001b[34mstats\u001b[39m::lag()\n",
            "\u001b[36mℹ\u001b[39m Use the conflicted package (\u001b[3m\u001b[34m<http://conflicted.r-lib.org/>\u001b[39m\u001b[23m) to force all conflicts to become errors\n"
          ]
        }
      ]
    },
    {
      "cell_type": "markdown",
      "source": [
        "## <a name=\"csv-file\">Comma-Separated Files</a>\n",
        "\n",
        "---\n",
        "\n",
        "One of the most universal and common file formats for storing files is [**comma-separated file (or CSV file)**](https://en.wikipedia.org/wiki/Comma-separated_values#:~:text=Comma%2Dseparated%20values%20(CSV),typically%20represents%20one%20data%20record.). CSV files:\n",
        "\n",
        "- Store data in plain text.\n",
        "- Use commas to separate adjacent cell values.\n",
        "- Use newlines to separate rows.\n",
        "\n",
        "Below are examples of CSV files:\n",
        "\n",
        "- Data from the top 100 songs in each year from 2000 to 2019: <https://raw.githubusercontent.com/CU-Denver-MathStats-OER/Statistical-Theory/main/Data/spotify-hits.csv>.\n",
        "\n",
        "- A much smaller data set stored in a CSV file that we will begin working with: <https://pos.it/r4ds-students-csv>.\n"
      ],
      "metadata": {
        "id": "kDbwE2AWLzaF"
      }
    },
    {
      "cell_type": "markdown",
      "source": [
        "# <a name=\"import-readr\">Importing CSV Files with `read_csv()`</a>\n",
        "\n",
        "---\n",
        "\n",
        "The `readr` package is a core `tidyverse` package. According to the developers of [`readr`](https://readr.tidyverse.org/index.html):\n",
        "\n",
        "> The goal of readr is to provide a fast and friendly way to read rectangular data from delimited files, such as comma-separated values (CSV) and tab-separated values (TSV). It is designed to parse many types of data found in the wild, while providing an informative problem report when parsing leads to unexpected results\n",
        "\n",
        "Compared to the equivalent `base` R functions such as `read.csv()` and `read.table()`, `readr` functions such as `read_csv()` and `read_table()`:\n",
        "\n",
        "-  Are much faster and efficient.\n",
        "-  Bring consistency to importing.\n",
        "-  Produce data frames in a tibble format.\n",
        "-  Have more flexible column specifications.\n",
        "\n",
        "We can run commands `?read_table` and `?read_csv` to access help documentation for more details.\n",
        "\n"
      ],
      "metadata": {
        "id": "lYcKcvxYHIm-"
      }
    },
    {
      "cell_type": "markdown",
      "source": [
        "## <a name=\"use-read-csv\">The `read_csv()` Function</a>\n",
        "\n",
        "---\n",
        "\n",
        "The function `read_csv()` from the `readr` package can be used to import a CSV file into R as a data frame that is stored as a tibble. The first argument in `read_csv()` is the path to the file.\n",
        "\n",
        "- If the file is stored locally on your computer, then we can type the location of the file in quotes.\n",
        "  - If working in Colab, then it works best if the file is stored in Google Drive.\n",
        "  - If working in RStudio or other software, we can store the file locally on our computer in any location.\n",
        "- If the file is saved online, then we can type the link address to the file in quotes.\n",
        "\n",
        "Run the code cell below to import the data frame with illustrative (fake) data<sup>1</sup>.\n",
        "\n",
        "<br>\n",
        "\n",
        "<font size=2>1. Data and examples below are motivated by examples from [Chapter 7 of R for Data Science (2e)](https://r4ds.hadley.nz/data-import.html) written by Hadley Wickham, Mine Çetinkaya-Rundel, and Garrett Grolemund.</font>\n",
        "\n",
        "\n"
      ],
      "metadata": {
        "id": "kBeyiSvZKX6x"
      }
    },
    {
      "cell_type": "code",
      "source": [
        "students <- read_csv(\"https://pos.it/r4ds-students-csv\")"
      ],
      "metadata": {
        "colab": {
          "base_uri": "https://localhost:8080/"
        },
        "id": "VIoyFIPZF4V9",
        "outputId": "67b48f81-6739-466b-93e1-3abf66c5891f"
      },
      "execution_count": null,
      "outputs": [
        {
          "output_type": "stream",
          "name": "stderr",
          "text": [
            "\u001b[1mRows: \u001b[22m\u001b[34m6\u001b[39m \u001b[1mColumns: \u001b[22m\u001b[34m5\u001b[39m\n",
            "\u001b[36m──\u001b[39m \u001b[1mColumn specification\u001b[22m \u001b[36m────────────────────────────────────────────────────────\u001b[39m\n",
            "\u001b[1mDelimiter:\u001b[22m \",\"\n",
            "\u001b[31mchr\u001b[39m (4): Full Name, favourite.food, mealPlan, AGE\n",
            "\u001b[32mdbl\u001b[39m (1): Student ID\n",
            "\n",
            "\u001b[36mℹ\u001b[39m Use `spec()` to retrieve the full column specification for this data.\n",
            "\u001b[36mℹ\u001b[39m Specify the column types or set `show_col_types = FALSE` to quiet this message.\n"
          ]
        }
      ]
    },
    {
      "cell_type": "markdown",
      "source": [
        "The message indicates:\n",
        "\n",
        "- the number of rows and columns of data,\n",
        "- the delimiter that was used,\n",
        "- the column specifications (names of columns organized by the type of data the column contains), and\n",
        "- some information about retrieving the full column specification and how to quiet this message.\n"
      ],
      "metadata": {
        "id": "lQxlqosqSYbb"
      }
    },
    {
      "cell_type": "code",
      "source": [
        "print(students)"
      ],
      "metadata": {
        "colab": {
          "base_uri": "https://localhost:8080/"
        },
        "id": "gM8bOeLLS-l3",
        "outputId": "cfeb04dc-87f2-47be-b94c-6afe04f41056"
      },
      "execution_count": null,
      "outputs": [
        {
          "output_type": "stream",
          "name": "stdout",
          "text": [
            "\u001b[90m# A tibble: 6 × 5\u001b[39m\n",
            "  `Student ID` `Full Name`      favourite.food     mealPlan            AGE  \n",
            "         \u001b[3m\u001b[90m<dbl>\u001b[39m\u001b[23m \u001b[3m\u001b[90m<chr>\u001b[39m\u001b[23m            \u001b[3m\u001b[90m<chr>\u001b[39m\u001b[23m              \u001b[3m\u001b[90m<chr>\u001b[39m\u001b[23m               \u001b[3m\u001b[90m<chr>\u001b[39m\u001b[23m\n",
            "\u001b[90m1\u001b[39m            1 Sunil Huffmann   Strawberry yoghurt Lunch only          4    \n",
            "\u001b[90m2\u001b[39m            2 Barclay Lynn     French fries       Lunch only          5    \n",
            "\u001b[90m3\u001b[39m            3 Jayendra Lyne    N/A                Breakfast and lunch 7    \n",
            "\u001b[90m4\u001b[39m            4 Leon Rossini     Anchovies          Lunch only          \u001b[31mNA\u001b[39m   \n",
            "\u001b[90m5\u001b[39m            5 Chidiegwu Dunkel Pizza              Breakfast and lunch five \n",
            "\u001b[90m6\u001b[39m            6 Güvenç Attila    Ice cream          Lunch only          6    \n"
          ]
        }
      ]
    },
    {
      "cell_type": "markdown",
      "source": [
        "## <a name=\"quest1\">Question 1</a>\n",
        "\n",
        "---\n",
        "\n",
        "Based on the output generated above, what are some issues with the data frame `students` that should be cleaned up so the data is tidy?\n"
      ],
      "metadata": {
        "id": "SWl1rIsZTpXh"
      }
    },
    {
      "cell_type": "markdown",
      "source": [
        "### <a name=\"sol1\">Solution to Question 1</a>\n",
        "\n",
        "---\n",
        "\n",
        "\n",
        "\n",
        "<br>  \n",
        "<br>  \n"
      ],
      "metadata": {
        "id": "RjK_yaISWGBA"
      }
    },
    {
      "cell_type": "markdown",
      "source": [
        "# <a name=\"base-read\">Importing csv Files with `base::read.csv()`</a>\n",
        "\n",
        "---\n",
        "\n",
        "The [`read.table()`](https://www.rdocumentation.org/packages/utils/versions/3.6.2/topics/read.table) is a multipurpose function in `base` R for importing data. The more focused functions [`read.csv()`](https://www.geeksforgeeks.org/read-contents-of-a-csv-file-in-r-programming-read-csv-function/) and [`read.delim()`](https://www.geeksforgeeks.org/how-to-use-read-delim-in-r/) have been adjusted (by setting options for the `read_table()` function accordingly) to import more specific file types.\n",
        "\n",
        "\n",
        "The `base` R function `read.csv()` has very similar syntax as the `tidyr` function `read_csv()`, namely the first argument (and only required argument) in `read.csv()` is the path to the file.\n",
        "\n",
        "- Run `?read.csv()` to access help documentation.\n",
        "- Notice the `tidyverse` function has an underscore `_` and the `base` R function has `.` between `read` and `csv`.\n",
        "\n"
      ],
      "metadata": {
        "id": "CXtKWIH4XllY"
      }
    },
    {
      "cell_type": "markdown",
      "source": [
        "## <a name=\"quest2\">Question 2</a>\n",
        "\n",
        "\n",
        "---\n",
        "\n",
        "Run the code cells below to load the same CSV file using the `base` R function `read.csv()`. Based on the output from the second code cell, do you notice any difference(s) in how the data was imported?"
      ],
      "metadata": {
        "id": "zCc2ErTmSmVA"
      }
    },
    {
      "cell_type": "code",
      "source": [
        "students_ver2 <- read.csv(\"https://pos.it/r4ds-students-csv\")"
      ],
      "metadata": {
        "id": "dLFU4WPVF_y2"
      },
      "execution_count": null,
      "outputs": []
    },
    {
      "cell_type": "code",
      "source": [
        "students_ver2"
      ],
      "metadata": {
        "colab": {
          "base_uri": "https://localhost:8080/",
          "height": 286
        },
        "id": "FNYAaTorTBvr",
        "outputId": "a4ec1b9a-8cd5-4be6-99f6-74cec33f37a3"
      },
      "execution_count": null,
      "outputs": [
        {
          "output_type": "display_data",
          "data": {
            "text/html": [
              "<table class=\"dataframe\">\n",
              "<caption>A data.frame: 6 × 5</caption>\n",
              "<thead>\n",
              "\t<tr><th scope=col>Student.ID</th><th scope=col>Full.Name</th><th scope=col>favourite.food</th><th scope=col>mealPlan</th><th scope=col>AGE</th></tr>\n",
              "\t<tr><th scope=col>&lt;int&gt;</th><th scope=col>&lt;chr&gt;</th><th scope=col>&lt;chr&gt;</th><th scope=col>&lt;chr&gt;</th><th scope=col>&lt;chr&gt;</th></tr>\n",
              "</thead>\n",
              "<tbody>\n",
              "\t<tr><td>1</td><td>Sunil Huffmann  </td><td>Strawberry yoghurt</td><td>Lunch only         </td><td>4   </td></tr>\n",
              "\t<tr><td>2</td><td>Barclay Lynn    </td><td>French fries      </td><td>Lunch only         </td><td>5   </td></tr>\n",
              "\t<tr><td>3</td><td>Jayendra Lyne   </td><td>N/A               </td><td>Breakfast and lunch</td><td>7   </td></tr>\n",
              "\t<tr><td>4</td><td>Leon Rossini    </td><td>Anchovies         </td><td>Lunch only         </td><td>    </td></tr>\n",
              "\t<tr><td>5</td><td>Chidiegwu Dunkel</td><td>Pizza             </td><td>Breakfast and lunch</td><td>five</td></tr>\n",
              "\t<tr><td>6</td><td>Güvenç Attila   </td><td>Ice cream         </td><td>Lunch only         </td><td>6   </td></tr>\n",
              "</tbody>\n",
              "</table>\n"
            ],
            "text/markdown": "\nA data.frame: 6 × 5\n\n| Student.ID &lt;int&gt; | Full.Name &lt;chr&gt; | favourite.food &lt;chr&gt; | mealPlan &lt;chr&gt; | AGE &lt;chr&gt; |\n|---|---|---|---|---|\n| 1 | Sunil Huffmann   | Strawberry yoghurt | Lunch only          | 4    |\n| 2 | Barclay Lynn     | French fries       | Lunch only          | 5    |\n| 3 | Jayendra Lyne    | N/A                | Breakfast and lunch | 7    |\n| 4 | Leon Rossini     | Anchovies          | Lunch only          | <!----> |\n| 5 | Chidiegwu Dunkel | Pizza              | Breakfast and lunch | five |\n| 6 | Güvenç Attila    | Ice cream          | Lunch only          | 6    |\n\n",
            "text/latex": "A data.frame: 6 × 5\n\\begin{tabular}{lllll}\n Student.ID & Full.Name & favourite.food & mealPlan & AGE\\\\\n <int> & <chr> & <chr> & <chr> & <chr>\\\\\n\\hline\n\t 1 & Sunil Huffmann   & Strawberry yoghurt & Lunch only          & 4   \\\\\n\t 2 & Barclay Lynn     & French fries       & Lunch only          & 5   \\\\\n\t 3 & Jayendra Lyne    & N/A                & Breakfast and lunch & 7   \\\\\n\t 4 & Leon Rossini     & Anchovies          & Lunch only          &     \\\\\n\t 5 & Chidiegwu Dunkel & Pizza              & Breakfast and lunch & five\\\\\n\t 6 & Güvenç Attila    & Ice cream          & Lunch only          & 6   \\\\\n\\end{tabular}\n",
            "text/plain": [
              "  Student.ID Full.Name        favourite.food     mealPlan            AGE \n",
              "1 1          Sunil Huffmann   Strawberry yoghurt Lunch only          4   \n",
              "2 2          Barclay Lynn     French fries       Lunch only          5   \n",
              "3 3          Jayendra Lyne    N/A                Breakfast and lunch 7   \n",
              "4 4          Leon Rossini     Anchovies          Lunch only              \n",
              "5 5          Chidiegwu Dunkel Pizza              Breakfast and lunch five\n",
              "6 6          Güvenç Attila    Ice cream          Lunch only          6   "
            ]
          },
          "metadata": {}
        }
      ]
    },
    {
      "cell_type": "markdown",
      "source": [
        "### <a name=\"sol2\">Solution to Question 2</a>\n",
        "\n",
        "---\n",
        "\n",
        "\n",
        "\n",
        "\n",
        "<br>  \n",
        "<br>  \n"
      ],
      "metadata": {
        "id": "xMkscZZ2pqg9"
      }
    },
    {
      "cell_type": "markdown",
      "source": [
        "# <a name=\"missing\">Coding Missing Values as `NA` on Import\n",
        "\n",
        "---\n",
        "\n",
        "\n",
        "After importing the data, the next step usually rquires transforming it in some way to make it easier for us to perform analysis on the data. One of the most common transformations is converting non-standard ways of coding missing values into proper `NA` values in R.\n",
        "\n",
        "- The argument `na` can be added to `read_csv()` to customize the strings that are read as `NA`.\n",
        "  - By default, `read_csv()` only recognizes empty strings (`\"\"`) and the character string `\"NA\"` as `NA`s.\n",
        "- The argument `na.strings` can be added to `read.csv()` to customize the strings that are read as `NA`.\n",
        "  - By default, `read.csv()` only recognizes the character string `\"NA\"` as `NA`s.\n",
        "\n",
        "\n",
        "We would also like to recognize the string `\"N/A\"` as a missing value when importing the data in `r4ds-students-csv`.\n",
        "\n"
      ],
      "metadata": {
        "id": "Q4QQpL6tGq1y"
      }
    },
    {
      "cell_type": "code",
      "source": [
        "students <- read_csv(\"https://pos.it/r4ds-students-csv\", na = c(\"\", \"N/A\"))\n",
        "print(students)"
      ],
      "metadata": {
        "colab": {
          "base_uri": "https://localhost:8080/"
        },
        "outputId": "3e07634b-0b00-4e6c-f601-c7bd5724106f",
        "id": "8QeM7b8BY29M"
      },
      "execution_count": null,
      "outputs": [
        {
          "output_type": "stream",
          "name": "stderr",
          "text": [
            "\u001b[1mRows: \u001b[22m\u001b[34m6\u001b[39m \u001b[1mColumns: \u001b[22m\u001b[34m5\u001b[39m\n",
            "\u001b[36m──\u001b[39m \u001b[1mColumn specification\u001b[22m \u001b[36m────────────────────────────────────────────────────────\u001b[39m\n",
            "\u001b[1mDelimiter:\u001b[22m \",\"\n",
            "\u001b[31mchr\u001b[39m (4): Full Name, favourite.food, mealPlan, AGE\n",
            "\u001b[32mdbl\u001b[39m (1): Student ID\n",
            "\n",
            "\u001b[36mℹ\u001b[39m Use `spec()` to retrieve the full column specification for this data.\n",
            "\u001b[36mℹ\u001b[39m Specify the column types or set `show_col_types = FALSE` to quiet this message.\n"
          ]
        },
        {
          "output_type": "stream",
          "name": "stdout",
          "text": [
            "\u001b[90m# A tibble: 6 × 5\u001b[39m\n",
            "  `Student ID` `Full Name`      favourite.food     mealPlan            AGE  \n",
            "         \u001b[3m\u001b[90m<dbl>\u001b[39m\u001b[23m \u001b[3m\u001b[90m<chr>\u001b[39m\u001b[23m            \u001b[3m\u001b[90m<chr>\u001b[39m\u001b[23m              \u001b[3m\u001b[90m<chr>\u001b[39m\u001b[23m               \u001b[3m\u001b[90m<chr>\u001b[39m\u001b[23m\n",
            "\u001b[90m1\u001b[39m            1 Sunil Huffmann   Strawberry yoghurt Lunch only          4    \n",
            "\u001b[90m2\u001b[39m            2 Barclay Lynn     French fries       Lunch only          5    \n",
            "\u001b[90m3\u001b[39m            3 Jayendra Lyne    \u001b[31mNA\u001b[39m                 Breakfast and lunch 7    \n",
            "\u001b[90m4\u001b[39m            4 Leon Rossini     Anchovies          Lunch only          \u001b[31mNA\u001b[39m   \n",
            "\u001b[90m5\u001b[39m            5 Chidiegwu Dunkel Pizza              Breakfast and lunch five \n",
            "\u001b[90m6\u001b[39m            6 Güvenç Attila    Ice cream          Lunch only          6    \n"
          ]
        }
      ]
    },
    {
      "cell_type": "code",
      "source": [
        "students_ver2 <- read.csv(\"https://pos.it/r4ds-students-csv\", na.strings = c(\"\", \"N/A\"))\n",
        "print(students_ver2)"
      ],
      "metadata": {
        "colab": {
          "base_uri": "https://localhost:8080/"
        },
        "outputId": "ccd0b1cc-5955-4480-87e4-4e20d61248cb",
        "id": "ia26xkR6aqDq"
      },
      "execution_count": null,
      "outputs": [
        {
          "output_type": "stream",
          "name": "stdout",
          "text": [
            "  Student.ID        Full.Name     favourite.food            mealPlan  AGE\n",
            "1          1   Sunil Huffmann Strawberry yoghurt          Lunch only    4\n",
            "2          2     Barclay Lynn       French fries          Lunch only    5\n",
            "3          3    Jayendra Lyne               <NA> Breakfast and lunch    7\n",
            "4          4     Leon Rossini          Anchovies          Lunch only <NA>\n",
            "5          5 Chidiegwu Dunkel              Pizza Breakfast and lunch five\n",
            "6          6    Güvenç Attila          Ice cream          Lunch only    6\n"
          ]
        }
      ]
    },
    {
      "cell_type": "code",
      "source": [
        "na_stuff <- c(\"N/A\", \"\", \"-999\", \"not available\", \"missing\", \"NA\")\n",
        "\n",
        "students <- read_csv(\"https://pos.it/r4ds-students-csv\", na = na_stuff)\n",
        "print(students)"
      ],
      "metadata": {
        "colab": {
          "base_uri": "https://localhost:8080/"
        },
        "id": "DjJYVyMZYQ-M",
        "outputId": "dd44492b-d1f8-444e-95ba-142a360f9fb4"
      },
      "execution_count": null,
      "outputs": [
        {
          "output_type": "stream",
          "name": "stderr",
          "text": [
            "\u001b[1mRows: \u001b[22m\u001b[34m6\u001b[39m \u001b[1mColumns: \u001b[22m\u001b[34m5\u001b[39m\n",
            "\u001b[36m──\u001b[39m \u001b[1mColumn specification\u001b[22m \u001b[36m────────────────────────────────────────────────────────\u001b[39m\n",
            "\u001b[1mDelimiter:\u001b[22m \",\"\n",
            "\u001b[31mchr\u001b[39m (4): Full Name, favourite.food, mealPlan, AGE\n",
            "\u001b[32mdbl\u001b[39m (1): Student ID\n",
            "\n",
            "\u001b[36mℹ\u001b[39m Use `spec()` to retrieve the full column specification for this data.\n",
            "\u001b[36mℹ\u001b[39m Specify the column types or set `show_col_types = FALSE` to quiet this message.\n"
          ]
        },
        {
          "output_type": "stream",
          "name": "stdout",
          "text": [
            "\u001b[90m# A tibble: 6 × 5\u001b[39m\n",
            "  `Student ID` `Full Name`      favourite.food     mealPlan            AGE  \n",
            "         \u001b[3m\u001b[90m<dbl>\u001b[39m\u001b[23m \u001b[3m\u001b[90m<chr>\u001b[39m\u001b[23m            \u001b[3m\u001b[90m<chr>\u001b[39m\u001b[23m              \u001b[3m\u001b[90m<chr>\u001b[39m\u001b[23m               \u001b[3m\u001b[90m<chr>\u001b[39m\u001b[23m\n",
            "\u001b[90m1\u001b[39m            1 Sunil Huffmann   Strawberry yoghurt Lunch only          4    \n",
            "\u001b[90m2\u001b[39m            2 Barclay Lynn     French fries       Lunch only          5    \n",
            "\u001b[90m3\u001b[39m            3 Jayendra Lyne    \u001b[31mNA\u001b[39m                 Breakfast and lunch 7    \n",
            "\u001b[90m4\u001b[39m            4 Leon Rossini     Anchovies          Lunch only          \u001b[31mNA\u001b[39m   \n",
            "\u001b[90m5\u001b[39m            5 Chidiegwu Dunkel Pizza              Breakfast and lunch five \n",
            "\u001b[90m6\u001b[39m            6 Güvenç Attila    Ice cream          Lunch only          6    \n"
          ]
        }
      ]
    },
    {
      "cell_type": "markdown",
      "source": [
        "# <a name=\"col-names\">Columns Names</a>\n",
        "\n",
        "---\n",
        "\n",
        "By default both `read_csv()` and `read.csv()` assume the first row of the imported file contains the column names and not data related to an observation.\n",
        "\n",
        "- The option `col_names = TRUE` is the default for `read_csv()`.\n",
        "- The option `col.names = TRUE` is the default for `read.csv()`.\n",
        "\n",
        "By default, column names are defined from the values in each column of the first row. In the case of `r4ds-students-csv`, when the column names are imported using `read_csv()`:\n",
        "\n",
        "- `Student ID` and `Full Name` columns are surrounded by backticks since they have a space.\n",
        "  - These are **non-syntactic** names.\n",
        "  - R's rules for variable names typically forbids spaces.\n",
        "  - To refer to these variables in our code, we would need to surround them with backticks.\n",
        "- The other column names (`favourite.food`, `mealPlan`, and `AGE`) are allowable variable names in R, but they do not follow `snake_case` properties."
      ],
      "metadata": {
        "id": "jI4861-1ZQRA"
      }
    },
    {
      "cell_type": "code",
      "source": [
        "# column names with spaces are problematic\n",
        "summary(students$Full Name)"
      ],
      "metadata": {
        "colab": {
          "base_uri": "https://localhost:8080/",
          "height": 126
        },
        "id": "nHL8MyfHlFx-",
        "outputId": "bf93f6c6-ce81-48ea-8671-87927141f1d3"
      },
      "execution_count": null,
      "outputs": [
        {
          "output_type": "error",
          "ename": "ERROR",
          "evalue": "Error in parse(text = input): <text>:2:23: unexpected symbol\n1: # column names with spaces are problematic\n2: summary(students$Full Name\n                         ^\n",
          "traceback": [
            "Error in parse(text = input): <text>:2:23: unexpected symbol\n1: # column names with spaces are problematic\n2: summary(students$Full Name\n                         ^\nTraceback:\n"
          ]
        }
      ]
    },
    {
      "cell_type": "code",
      "source": [
        "# need to write them inside ` `\n",
        "summary(students$`Full Name`)"
      ],
      "metadata": {
        "colab": {
          "base_uri": "https://localhost:8080/",
          "height": 53
        },
        "id": "EVj9xWrElKbv",
        "outputId": "b5810dde-7c11-4a38-d9ef-02bf7da1a903"
      },
      "execution_count": null,
      "outputs": [
        {
          "output_type": "display_data",
          "data": {
            "text/plain": [
              "   Length     Class      Mode \n",
              "        6 character character "
            ]
          },
          "metadata": {}
        }
      ]
    },
    {
      "cell_type": "markdown",
      "source": [
        "## <a name=\"rename-dplyr\">Renaming Columns After Import</a>\n",
        "\n",
        "---\n",
        "\n",
        "We can import the file into R with the default column names and then update the column names using functions such as `dplyr::rename`."
      ],
      "metadata": {
        "id": "cGA3j2fjlcpB"
      }
    },
    {
      "cell_type": "code",
      "source": [
        "students |>\n",
        "  rename(\n",
        "    student_id = `Student ID`,  # rename first column\n",
        "    full_name = `Full Name`,  # rename second column\n",
        "    favorite_food = favourite.food, # rename third column\n",
        "    meal_plan = mealPlan,  # rename fourth column\n",
        "    age = AGE  # rename last column\n",
        "  )"
      ],
      "metadata": {
        "colab": {
          "base_uri": "https://localhost:8080/",
          "height": 286
        },
        "id": "xgaDfud0ZOpo",
        "outputId": "93676a50-3cb6-4ddc-a29b-812daa9f79cd"
      },
      "execution_count": null,
      "outputs": [
        {
          "output_type": "display_data",
          "data": {
            "text/html": [
              "<table class=\"dataframe\">\n",
              "<caption>A spec_tbl_df: 6 × 5</caption>\n",
              "<thead>\n",
              "\t<tr><th scope=col>student_id</th><th scope=col>full_name</th><th scope=col>favorite_food</th><th scope=col>meal_plan</th><th scope=col>age</th></tr>\n",
              "\t<tr><th scope=col>&lt;dbl&gt;</th><th scope=col>&lt;chr&gt;</th><th scope=col>&lt;chr&gt;</th><th scope=col>&lt;chr&gt;</th><th scope=col>&lt;chr&gt;</th></tr>\n",
              "</thead>\n",
              "<tbody>\n",
              "\t<tr><td>1</td><td>Sunil Huffmann  </td><td>Strawberry yoghurt</td><td>Lunch only         </td><td>4   </td></tr>\n",
              "\t<tr><td>2</td><td>Barclay Lynn    </td><td>French fries      </td><td>Lunch only         </td><td>5   </td></tr>\n",
              "\t<tr><td>3</td><td>Jayendra Lyne   </td><td>NA                </td><td>Breakfast and lunch</td><td>7   </td></tr>\n",
              "\t<tr><td>4</td><td>Leon Rossini    </td><td>Anchovies         </td><td>Lunch only         </td><td>NA  </td></tr>\n",
              "\t<tr><td>5</td><td>Chidiegwu Dunkel</td><td>Pizza             </td><td>Breakfast and lunch</td><td>five</td></tr>\n",
              "\t<tr><td>6</td><td>Güvenç Attila   </td><td>Ice cream         </td><td>Lunch only         </td><td>6   </td></tr>\n",
              "</tbody>\n",
              "</table>\n"
            ],
            "text/markdown": "\nA spec_tbl_df: 6 × 5\n\n| student_id &lt;dbl&gt; | full_name &lt;chr&gt; | favorite_food &lt;chr&gt; | meal_plan &lt;chr&gt; | age &lt;chr&gt; |\n|---|---|---|---|---|\n| 1 | Sunil Huffmann   | Strawberry yoghurt | Lunch only          | 4    |\n| 2 | Barclay Lynn     | French fries       | Lunch only          | 5    |\n| 3 | Jayendra Lyne    | NA                 | Breakfast and lunch | 7    |\n| 4 | Leon Rossini     | Anchovies          | Lunch only          | NA   |\n| 5 | Chidiegwu Dunkel | Pizza              | Breakfast and lunch | five |\n| 6 | Güvenç Attila    | Ice cream          | Lunch only          | 6    |\n\n",
            "text/latex": "A spec\\_tbl\\_df: 6 × 5\n\\begin{tabular}{lllll}\n student\\_id & full\\_name & favorite\\_food & meal\\_plan & age\\\\\n <dbl> & <chr> & <chr> & <chr> & <chr>\\\\\n\\hline\n\t 1 & Sunil Huffmann   & Strawberry yoghurt & Lunch only          & 4   \\\\\n\t 2 & Barclay Lynn     & French fries       & Lunch only          & 5   \\\\\n\t 3 & Jayendra Lyne    & NA                 & Breakfast and lunch & 7   \\\\\n\t 4 & Leon Rossini     & Anchovies          & Lunch only          & NA  \\\\\n\t 5 & Chidiegwu Dunkel & Pizza              & Breakfast and lunch & five\\\\\n\t 6 & Güvenç Attila    & Ice cream          & Lunch only          & 6   \\\\\n\\end{tabular}\n",
            "text/plain": [
              "  student_id full_name        favorite_food      meal_plan           age \n",
              "1 1          Sunil Huffmann   Strawberry yoghurt Lunch only          4   \n",
              "2 2          Barclay Lynn     French fries       Lunch only          5   \n",
              "3 3          Jayendra Lyne    NA                 Breakfast and lunch 7   \n",
              "4 4          Leon Rossini     Anchovies          Lunch only          NA  \n",
              "5 5          Chidiegwu Dunkel Pizza              Breakfast and lunch five\n",
              "6 6          Güvenç Attila    Ice cream          Lunch only          6   "
            ]
          },
          "metadata": {}
        }
      ]
    },
    {
      "cell_type": "markdown",
      "source": [
        "### <a name=\"janitor\">Renaming with `janitor::clean_names`</a>\n",
        "\n",
        "---\n",
        "\n",
        "The [`janitor`](https://cran.r-project.org/web/packages/janitor/index.html) package contains useful functions for data cleaning. According to their documentation:\n",
        "\n",
        "\n",
        "> The main janitor functions can: perfectly format data.frame column names; provide quick counts of variable combinations (i.e., frequency tables and crosstabs); and explore duplicate records.\n",
        "\n",
        "The `janitor` package is not a core package in the `tidyverse`, but it does work well within the pipe `|>` workflow.\n",
        "\n",
        "- The `janitor` package is not installed in Colab, so we need to first install the package.\n",
        "- Then we load the package with `library(janitor)`."
      ],
      "metadata": {
        "id": "gRks56XZnSug"
      }
    },
    {
      "cell_type": "code",
      "source": [
        "install.packages(\"janitor\")"
      ],
      "metadata": {
        "colab": {
          "base_uri": "https://localhost:8080/"
        },
        "id": "WY31IoxxbIyZ",
        "outputId": "9599a436-01c3-48b5-ed40-50a22f33b266"
      },
      "execution_count": null,
      "outputs": [
        {
          "output_type": "stream",
          "name": "stderr",
          "text": [
            "Installing package into ‘/usr/local/lib/R/site-library’\n",
            "(as ‘lib’ is unspecified)\n",
            "\n"
          ]
        }
      ]
    },
    {
      "cell_type": "code",
      "source": [
        "library(janitor)"
      ],
      "metadata": {
        "colab": {
          "base_uri": "https://localhost:8080/"
        },
        "id": "OUlLDaogaahX",
        "outputId": "70012cfd-7cfe-4369-e8b6-ea809a3df593"
      },
      "execution_count": null,
      "outputs": [
        {
          "output_type": "stream",
          "name": "stderr",
          "text": [
            "\n",
            "Attaching package: ‘janitor’\n",
            "\n",
            "\n",
            "The following objects are masked from ‘package:stats’:\n",
            "\n",
            "    chisq.test, fisher.test\n",
            "\n",
            "\n"
          ]
        }
      ]
    },
    {
      "cell_type": "code",
      "source": [
        "students <- read_csv(\"https://pos.it/r4ds-students-csv\", na = c(\"\", \"N/A\"))\n",
        "print(students)"
      ],
      "metadata": {
        "id": "M_BntSZYbW-I",
        "outputId": "580f5688-a5b1-482f-888a-b35049694342",
        "colab": {
          "base_uri": "https://localhost:8080/"
        }
      },
      "execution_count": null,
      "outputs": [
        {
          "output_type": "stream",
          "name": "stderr",
          "text": [
            "\u001b[1mRows: \u001b[22m\u001b[34m6\u001b[39m \u001b[1mColumns: \u001b[22m\u001b[34m5\u001b[39m\n",
            "\u001b[36m──\u001b[39m \u001b[1mColumn specification\u001b[22m \u001b[36m────────────────────────────────────────────────────────\u001b[39m\n",
            "\u001b[1mDelimiter:\u001b[22m \",\"\n",
            "\u001b[31mchr\u001b[39m (4): Full Name, favourite.food, mealPlan, AGE\n",
            "\u001b[32mdbl\u001b[39m (1): Student ID\n",
            "\n",
            "\u001b[36mℹ\u001b[39m Use `spec()` to retrieve the full column specification for this data.\n",
            "\u001b[36mℹ\u001b[39m Specify the column types or set `show_col_types = FALSE` to quiet this message.\n"
          ]
        },
        {
          "output_type": "stream",
          "name": "stdout",
          "text": [
            "\u001b[90m# A tibble: 6 × 5\u001b[39m\n",
            "  `Student ID` `Full Name`      favourite.food     mealPlan            AGE  \n",
            "         \u001b[3m\u001b[90m<dbl>\u001b[39m\u001b[23m \u001b[3m\u001b[90m<chr>\u001b[39m\u001b[23m            \u001b[3m\u001b[90m<chr>\u001b[39m\u001b[23m              \u001b[3m\u001b[90m<chr>\u001b[39m\u001b[23m               \u001b[3m\u001b[90m<chr>\u001b[39m\u001b[23m\n",
            "\u001b[90m1\u001b[39m            1 Sunil Huffmann   Strawberry yoghurt Lunch only          4    \n",
            "\u001b[90m2\u001b[39m            2 Barclay Lynn     French fries       Lunch only          5    \n",
            "\u001b[90m3\u001b[39m            3 Jayendra Lyne    \u001b[31mNA\u001b[39m                 Breakfast and lunch 7    \n",
            "\u001b[90m4\u001b[39m            4 Leon Rossini     Anchovies          Lunch only          \u001b[31mNA\u001b[39m   \n",
            "\u001b[90m5\u001b[39m            5 Chidiegwu Dunkel Pizza              Breakfast and lunch five \n",
            "\u001b[90m6\u001b[39m            6 Güvenç Attila    Ice cream          Lunch only          6    \n"
          ]
        }
      ]
    },
    {
      "cell_type": "code",
      "source": [
        "students <- students |> clean_names()\n",
        "print(students)"
      ],
      "metadata": {
        "colab": {
          "base_uri": "https://localhost:8080/"
        },
        "id": "S1QeNB9EbOOg",
        "outputId": "0f4170c6-6e6e-422d-cdb1-84d1e8782c9c"
      },
      "execution_count": null,
      "outputs": [
        {
          "output_type": "stream",
          "name": "stdout",
          "text": [
            "\u001b[90m# A tibble: 6 × 5\u001b[39m\n",
            "  student_id full_name        favourite_food     meal_plan           age  \n",
            "       \u001b[3m\u001b[90m<dbl>\u001b[39m\u001b[23m \u001b[3m\u001b[90m<chr>\u001b[39m\u001b[23m            \u001b[3m\u001b[90m<chr>\u001b[39m\u001b[23m              \u001b[3m\u001b[90m<chr>\u001b[39m\u001b[23m               \u001b[3m\u001b[90m<chr>\u001b[39m\u001b[23m\n",
            "\u001b[90m1\u001b[39m          1 Sunil Huffmann   Strawberry yoghurt Lunch only          4    \n",
            "\u001b[90m2\u001b[39m          2 Barclay Lynn     French fries       Lunch only          5    \n",
            "\u001b[90m3\u001b[39m          3 Jayendra Lyne    \u001b[31mNA\u001b[39m                 Breakfast and lunch 7    \n",
            "\u001b[90m4\u001b[39m          4 Leon Rossini     Anchovies          Lunch only          \u001b[31mNA\u001b[39m   \n",
            "\u001b[90m5\u001b[39m          5 Chidiegwu Dunkel Pizza              Breakfast and lunch five \n",
            "\u001b[90m6\u001b[39m          6 Güvenç Attila    Ice cream          Lunch only          6    \n"
          ]
        }
      ]
    },
    {
      "cell_type": "markdown",
      "source": [
        "## <a name=\"rename-readr\">Naming Columns in `read_csv`</a>\n",
        "\n",
        "---\n",
        "\n",
        "\n",
        "We can customize the column names during the import with `read_csv`.\n",
        "\n",
        "- If the imported CSV file does not have any column headers, then we can set the column names with the `col_names` argument.\n",
        "- If the imported CSV file has column headers that we want to ignore and rename, then:\n",
        "  - We can ignore the first row in the CSV with `skip` argument.\n",
        "  - Then define new column names with the `col_names` argument.\n"
      ],
      "metadata": {
        "id": "iz40THq4ntIm"
      }
    },
    {
      "cell_type": "code",
      "source": [
        "students <- read_csv(\"https://pos.it/r4ds-students-csv\",\n",
        "  na = c(\"N/A\", \"\"),\n",
        "  skip = 1,  # remove header row\n",
        "  col_names = c(\"student_id\", \"full_name\", \"favourite_food\", \"meal_plan\", \"age\")\n",
        "  )\n",
        "print(students)"
      ],
      "metadata": {
        "colab": {
          "base_uri": "https://localhost:8080/"
        },
        "id": "WMGsYHwnZkI6",
        "outputId": "3a2000f8-8e6c-4e00-a59d-e7108e80e96d"
      },
      "execution_count": null,
      "outputs": [
        {
          "output_type": "stream",
          "name": "stderr",
          "text": [
            "\u001b[1mRows: \u001b[22m\u001b[34m6\u001b[39m \u001b[1mColumns: \u001b[22m\u001b[34m5\u001b[39m\n",
            "\u001b[36m──\u001b[39m \u001b[1mColumn specification\u001b[22m \u001b[36m────────────────────────────────────────────────────────\u001b[39m\n",
            "\u001b[1mDelimiter:\u001b[22m \",\"\n",
            "\u001b[31mchr\u001b[39m (4): full_name, favourite_food, meal_plan, age\n",
            "\u001b[32mdbl\u001b[39m (1): student_id\n",
            "\n",
            "\u001b[36mℹ\u001b[39m Use `spec()` to retrieve the full column specification for this data.\n",
            "\u001b[36mℹ\u001b[39m Specify the column types or set `show_col_types = FALSE` to quiet this message.\n"
          ]
        },
        {
          "output_type": "stream",
          "name": "stdout",
          "text": [
            "\u001b[90m# A tibble: 6 × 5\u001b[39m\n",
            "  student_id full_name        favourite_food     meal_plan           age  \n",
            "       \u001b[3m\u001b[90m<dbl>\u001b[39m\u001b[23m \u001b[3m\u001b[90m<chr>\u001b[39m\u001b[23m            \u001b[3m\u001b[90m<chr>\u001b[39m\u001b[23m              \u001b[3m\u001b[90m<chr>\u001b[39m\u001b[23m               \u001b[3m\u001b[90m<chr>\u001b[39m\u001b[23m\n",
            "\u001b[90m1\u001b[39m          1 Sunil Huffmann   Strawberry yoghurt Lunch only          4    \n",
            "\u001b[90m2\u001b[39m          2 Barclay Lynn     French fries       Lunch only          5    \n",
            "\u001b[90m3\u001b[39m          3 Jayendra Lyne    \u001b[31mNA\u001b[39m                 Breakfast and lunch 7    \n",
            "\u001b[90m4\u001b[39m          4 Leon Rossini     Anchovies          Lunch only          \u001b[31mNA\u001b[39m   \n",
            "\u001b[90m5\u001b[39m          5 Chidiegwu Dunkel Pizza              Breakfast and lunch five \n",
            "\u001b[90m6\u001b[39m          6 Güvenç Attila    Ice cream          Lunch only          6    \n"
          ]
        }
      ]
    },
    {
      "cell_type": "markdown",
      "source": [
        "The arguments are very similar using `base::read.csv`. Typically change the underscore `_` to a `.` in the name of the argument."
      ],
      "metadata": {
        "id": "gwxoUH-MpKQn"
      }
    },
    {
      "cell_type": "code",
      "source": [
        "new_names <- c(\"student_id\", \"full_name\", \"favourite_food\", \"meal_plan\", \"age\")\n",
        "\n",
        "students_ver2 <- read.csv(\"https://pos.it/r4ds-students-csv\",\n",
        "  na.strings = c(\"N/A\", \"\"),\n",
        "#  skip = 1,  # remove header row should NOT be used with read.cvs\n",
        "  col.names = new_names  # rename columns\n",
        "  )\n",
        "\n",
        "print(students_ver2)"
      ],
      "metadata": {
        "colab": {
          "base_uri": "https://localhost:8080/"
        },
        "outputId": "c8215ddb-b290-4c3b-fa67-cdac468dca96",
        "id": "rv4SKbYMorQQ"
      },
      "execution_count": null,
      "outputs": [
        {
          "output_type": "stream",
          "name": "stdout",
          "text": [
            "  student_id        full_name favourite_food           meal_plan  age\n",
            "1          2     Barclay Lynn   French fries          Lunch only    5\n",
            "2          3    Jayendra Lyne           <NA> Breakfast and lunch    7\n",
            "3          4     Leon Rossini      Anchovies          Lunch only <NA>\n",
            "4          5 Chidiegwu Dunkel          Pizza Breakfast and lunch five\n",
            "5          6    Güvenç Attila      Ice cream          Lunch only    6\n"
          ]
        }
      ]
    },
    {
      "cell_type": "markdown",
      "source": [
        "# <a name=\"finish-clean\">Final Tidying</a>\n",
        "\n",
        "---\n",
        "\n",
        "The tibble generated by `read_csv()` now stored in `students` has variables with the data types:\n",
        "\n",
        "- `student_id` is a `double` (decimal).\n",
        "- `full_name`, `favourite_food`, `meal_plan`, and `age` are all `character`.\n",
        "\n",
        "\n"
      ],
      "metadata": {
        "id": "hfOHgYcPn61N"
      }
    },
    {
      "cell_type": "markdown",
      "source": [
        "## <a name=\"quest3\">Question 3</a>\n",
        "\n",
        "\n",
        "---\n",
        "\n",
        "Which of the variables currently stored in `students` should be converted to a different data type?\n",
        "\n",
        "In the code cell below, convert the variable(s) using `base` R functions such as `as.double`, `as.character`, `as.integer` and/or `factor`.\n",
        "\n",
        "- Store the new data frame back to a data frame with the same name, `students`.\n",
        "- Print the updated date frame to the screen and confirm the variables have been properly converted."
      ],
      "metadata": {
        "id": "szyfVN3EqZhb"
      }
    },
    {
      "cell_type": "code",
      "source": [
        "# solution to question 3\n"
      ],
      "metadata": {
        "id": "Il8rARZyeZTu"
      },
      "execution_count": null,
      "outputs": []
    },
    {
      "cell_type": "markdown",
      "source": [
        "## <a name=\"if-else\">Updating Values with `dplyr::if_else()`</a>\n",
        "\n",
        "---\n",
        "\n",
        "The `dplyr` package contains the `if_else()` function which has three arguments.\n",
        "\n",
        "```\n",
        "if_else(condition, true, false)\n",
        "```\n",
        "\n",
        "1. The first `condition` argument test should be a logical vector.\n",
        "2. The result will contain the value of the second argument, `true`, when result of the test is `TRUE`.\n",
        "3. The value of the third argument, `false`, when the result of the test is `FALSE`.\n",
        "\n",
        "\n"
      ],
      "metadata": {
        "id": "l5GMgDcUsXks"
      }
    },
    {
      "cell_type": "markdown",
      "source": [
        "## <a name=\"quest4\">Question 4</a>\n",
        "\n",
        "\n",
        "---\n",
        "\n",
        "Consider the almost tidy `students` data that is printed to the screen after running the first code cell below. Then, without running the command, first determine what would be the output of the following command:\n",
        "\n",
        "```\n",
        "if_else(students$meal_plan == \"Breakfast and lunch\", \"Both\", \"One meal\")\n",
        "```\n",
        "\n",
        "Type an explanation of what the output would be in the text cell below. Then run code cell after the text cell to check your work.\n",
        "\n",
        "<br>  \n"
      ],
      "metadata": {
        "id": "yhPCMBohtbmS"
      }
    },
    {
      "cell_type": "code",
      "source": [
        "# run first to see the data frame students\n",
        "print(students)"
      ],
      "metadata": {
        "colab": {
          "base_uri": "https://localhost:8080/"
        },
        "id": "Sohq63QIuZQF",
        "outputId": "411ce720-6f4d-4f03-e3b7-aaa549de8586"
      },
      "execution_count": null,
      "outputs": [
        {
          "output_type": "stream",
          "name": "stdout",
          "text": [
            "\u001b[90m# A tibble: 6 × 5\u001b[39m\n",
            "  student_id full_name        favourite_food     meal_plan           age  \n",
            "       \u001b[3m\u001b[90m<int>\u001b[39m\u001b[23m \u001b[3m\u001b[90m<chr>\u001b[39m\u001b[23m            \u001b[3m\u001b[90m<chr>\u001b[39m\u001b[23m              \u001b[3m\u001b[90m<fct>\u001b[39m\u001b[23m               \u001b[3m\u001b[90m<chr>\u001b[39m\u001b[23m\n",
            "\u001b[90m1\u001b[39m          1 Sunil Huffmann   Strawberry yoghurt Lunch only          4    \n",
            "\u001b[90m2\u001b[39m          2 Barclay Lynn     French fries       Lunch only          5    \n",
            "\u001b[90m3\u001b[39m          3 Jayendra Lyne    \u001b[31mNA\u001b[39m                 Breakfast and lunch 7    \n",
            "\u001b[90m4\u001b[39m          4 Leon Rossini     Anchovies          Lunch only          \u001b[31mNA\u001b[39m   \n",
            "\u001b[90m5\u001b[39m          5 Chidiegwu Dunkel Pizza              Breakfast and lunch five \n",
            "\u001b[90m6\u001b[39m          6 Güvenç Attila    Ice cream          Lunch only          6    \n"
          ]
        }
      ]
    },
    {
      "cell_type": "markdown",
      "source": [
        "### <a name=\"sol4\">Solution to Question 4</a>\n",
        "\n",
        "---\n",
        "\n",
        "\n",
        "\n",
        "\n",
        "<br>  \n",
        "<br>  \n"
      ],
      "metadata": {
        "id": "mazOnKqbr_zS"
      }
    },
    {
      "cell_type": "code",
      "source": [
        "# check your answer to question 4\n",
        "if_else(students$meal_plan == \"Breakfast and lunch\", \"Both\", \"One meal\")"
      ],
      "metadata": {
        "id": "xuDGqUnZtsEO"
      },
      "execution_count": null,
      "outputs": []
    },
    {
      "cell_type": "markdown",
      "source": [
        "In the code cell below, the command  `if_else(age == \"five\", \"5\", age)` will convert any the `age` value equal to the character string `\"five\"` to the character `\"5\"`. If the value of `age` is not equal to `\"five\"`, then the value of `age` is not changed.\n",
        "\n"
      ],
      "metadata": {
        "id": "rRhgzmWItNR1"
      }
    },
    {
      "cell_type": "code",
      "source": [
        "if_else(students$age == \"five\", \"5\", students$age)"
      ],
      "metadata": {
        "colab": {
          "base_uri": "https://localhost:8080/",
          "height": 34
        },
        "id": "vx56CGhxtNQf",
        "outputId": "358b77a6-9a70-4e53-b62b-a33ab8ff557b"
      },
      "execution_count": null,
      "outputs": [
        {
          "output_type": "display_data",
          "data": {
            "text/html": [
              "<style>\n",
              ".list-inline {list-style: none; margin:0; padding: 0}\n",
              ".list-inline>li {display: inline-block}\n",
              ".list-inline>li:not(:last-child)::after {content: \"\\00b7\"; padding: 0 .5ex}\n",
              "</style>\n",
              "<ol class=list-inline><li>'4'</li><li>'5'</li><li>'7'</li><li>NA</li><li>'5'</li><li>'6'</li></ol>\n"
            ],
            "text/markdown": "1. '4'\n2. '5'\n3. '7'\n4. NA\n5. '5'\n6. '6'\n\n\n",
            "text/latex": "\\begin{enumerate*}\n\\item '4'\n\\item '5'\n\\item '7'\n\\item NA\n\\item '5'\n\\item '6'\n\\end{enumerate*}\n",
            "text/plain": [
              "[1] \"4\" \"5\" \"7\" NA  \"5\" \"6\""
            ]
          },
          "metadata": {}
        }
      ]
    },
    {
      "cell_type": "markdown",
      "source": [
        "In the code cell below, we run through the entire import and tidying process from start to finish!"
      ],
      "metadata": {
        "id": "JPNH1inotMrE"
      }
    },
    {
      "cell_type": "code",
      "source": [
        "students <- read_csv(\"https://pos.it/r4ds-students-csv\", na = c(\"N/A\", \"\"))\n",
        "\n",
        "students <- students |>\n",
        "  clean_names() |>\n",
        "  mutate(\n",
        "    meal_plan = factor(meal_plan),\n",
        "    student_id = as.integer(student_id),\n",
        "    age = if_else(age == \"five\", \"5\", age),\n",
        "    age = as.integer(age)\n",
        "  )\n",
        "\n",
        "print(students)"
      ],
      "metadata": {
        "colab": {
          "base_uri": "https://localhost:8080/"
        },
        "id": "DRP3SYVKe4X4",
        "outputId": "c3173a51-ed73-48dd-c41a-8f6a4585e854"
      },
      "execution_count": null,
      "outputs": [
        {
          "output_type": "stream",
          "name": "stderr",
          "text": [
            "\u001b[1mRows: \u001b[22m\u001b[34m6\u001b[39m \u001b[1mColumns: \u001b[22m\u001b[34m5\u001b[39m\n",
            "\u001b[36m──\u001b[39m \u001b[1mColumn specification\u001b[22m \u001b[36m────────────────────────────────────────────────────────\u001b[39m\n",
            "\u001b[1mDelimiter:\u001b[22m \",\"\n",
            "\u001b[31mchr\u001b[39m (4): Full Name, favourite.food, mealPlan, AGE\n",
            "\u001b[32mdbl\u001b[39m (1): Student ID\n",
            "\n",
            "\u001b[36mℹ\u001b[39m Use `spec()` to retrieve the full column specification for this data.\n",
            "\u001b[36mℹ\u001b[39m Specify the column types or set `show_col_types = FALSE` to quiet this message.\n"
          ]
        },
        {
          "output_type": "stream",
          "name": "stdout",
          "text": [
            "\u001b[90m# A tibble: 6 × 5\u001b[39m\n",
            "  student_id full_name        favourite_food     meal_plan             age\n",
            "       \u001b[3m\u001b[90m<int>\u001b[39m\u001b[23m \u001b[3m\u001b[90m<chr>\u001b[39m\u001b[23m            \u001b[3m\u001b[90m<chr>\u001b[39m\u001b[23m              \u001b[3m\u001b[90m<fct>\u001b[39m\u001b[23m               \u001b[3m\u001b[90m<int>\u001b[39m\u001b[23m\n",
            "\u001b[90m1\u001b[39m          1 Sunil Huffmann   Strawberry yoghurt Lunch only              4\n",
            "\u001b[90m2\u001b[39m          2 Barclay Lynn     French fries       Lunch only              5\n",
            "\u001b[90m3\u001b[39m          3 Jayendra Lyne    \u001b[31mNA\u001b[39m                 Breakfast and lunch     7\n",
            "\u001b[90m4\u001b[39m          4 Leon Rossini     Anchovies          Lunch only             \u001b[31mNA\u001b[39m\n",
            "\u001b[90m5\u001b[39m          5 Chidiegwu Dunkel Pizza              Breakfast and lunch     5\n",
            "\u001b[90m6\u001b[39m          6 Güvenç Attila    Ice cream          Lunch only              6\n"
          ]
        }
      ]
    },
    {
      "cell_type": "markdown",
      "source": [
        "# <a name=\"other-files\">Other File Types</a>\n",
        "\n",
        "---\n",
        "\n",
        "- `read_csv2()` reads semicolon-separated files. These use ; instead of , to separate fields and are common in countries that use , as the decimal marker.\n",
        "\n",
        "- `read_tsv()` reads tab-delimited files.\n",
        "\n",
        "- `read_delim()` reads in files with any delimiter, attempting to automatically guess the delimiter if you do not specify it.\n",
        "\n",
        "- `read_table()` reads a common variation of fixed-width files where columns are separated by white space.\n",
        "\n",
        "- `read_fwf()` reads fixed-width files.\n",
        "\n"
      ],
      "metadata": {
        "id": "ub7gw7iOoa8n"
      }
    },
    {
      "cell_type": "markdown",
      "source": [
        "# <a name=\"col-types\">Column Types</a>\n",
        "\n",
        "---\n",
        "\n",
        "A CSV file does not contain any information about the type of each variable (whether a variable is a logical, number, string, etc.), so `readr` will try its best to guess the type.  `readr` uses the following heuristic to figure out the column types:\n",
        "\n",
        "\n",
        "1. Does it contain only `F`, `T`, `FALSE`, or `TRUE` (ignoring case)? If so, it's a `logical`.\n",
        "2. Does it contain only numbers? If so, it's a number (`double`).\n",
        "3. Does it match the ISO8601 standard? If so, it's a `date` or `date-time`.\n",
        "4. Otherwise, it must be a `character`."
      ],
      "metadata": {
        "id": "WY1Z0RtIxk3Q"
      }
    },
    {
      "cell_type": "code",
      "source": [
        "read_csv(\"\n",
        "  logical, numeric, date, string\n",
        "  TRUE, 1, 2021-01-15, abc\n",
        "  false , 4.5, 2021-02-15, def\n",
        "  T, Inf, 2021-02-16, ghi\n",
        "\")"
      ],
      "metadata": {
        "colab": {
          "base_uri": "https://localhost:8080/",
          "height": 371
        },
        "id": "IuOfh_qey5s8",
        "outputId": "53000c5e-75d9-43b0-9f43-a3d139a3d61c"
      },
      "execution_count": null,
      "outputs": [
        {
          "output_type": "stream",
          "name": "stderr",
          "text": [
            "\u001b[1mRows: \u001b[22m\u001b[34m3\u001b[39m \u001b[1mColumns: \u001b[22m\u001b[34m4\u001b[39m\n",
            "\u001b[36m──\u001b[39m \u001b[1mColumn specification\u001b[22m \u001b[36m────────────────────────────────────────────────────────\u001b[39m\n",
            "\u001b[1mDelimiter:\u001b[22m \",\"\n",
            "\u001b[31mchr\u001b[39m  (1): string\n",
            "\u001b[32mdbl\u001b[39m  (1): numeric\n",
            "\u001b[33mlgl\u001b[39m  (1): logical\n",
            "\u001b[34mdate\u001b[39m (1): date\n",
            "\n",
            "\u001b[36mℹ\u001b[39m Use `spec()` to retrieve the full column specification for this data.\n",
            "\u001b[36mℹ\u001b[39m Specify the column types or set `show_col_types = FALSE` to quiet this message.\n"
          ]
        },
        {
          "output_type": "display_data",
          "data": {
            "text/html": [
              "<table class=\"dataframe\">\n",
              "<caption>A spec_tbl_df: 3 × 4</caption>\n",
              "<thead>\n",
              "\t<tr><th scope=col>logical</th><th scope=col>numeric</th><th scope=col>date</th><th scope=col>string</th></tr>\n",
              "\t<tr><th scope=col>&lt;lgl&gt;</th><th scope=col>&lt;dbl&gt;</th><th scope=col>&lt;date&gt;</th><th scope=col>&lt;chr&gt;</th></tr>\n",
              "</thead>\n",
              "<tbody>\n",
              "\t<tr><td> TRUE</td><td>1.0</td><td>2021-01-15</td><td>abc</td></tr>\n",
              "\t<tr><td>FALSE</td><td>4.5</td><td>2021-02-15</td><td>def</td></tr>\n",
              "\t<tr><td> TRUE</td><td>Inf</td><td>2021-02-16</td><td>ghi</td></tr>\n",
              "</tbody>\n",
              "</table>\n"
            ],
            "text/markdown": "\nA spec_tbl_df: 3 × 4\n\n| logical &lt;lgl&gt; | numeric &lt;dbl&gt; | date &lt;date&gt; | string &lt;chr&gt; |\n|---|---|---|---|\n|  TRUE | 1.0 | 2021-01-15 | abc |\n| FALSE | 4.5 | 2021-02-15 | def |\n|  TRUE | Inf | 2021-02-16 | ghi |\n\n",
            "text/latex": "A spec\\_tbl\\_df: 3 × 4\n\\begin{tabular}{llll}\n logical & numeric & date & string\\\\\n <lgl> & <dbl> & <date> & <chr>\\\\\n\\hline\n\t  TRUE & 1.0 & 2021-01-15 & abc\\\\\n\t FALSE & 4.5 & 2021-02-15 & def\\\\\n\t  TRUE & Inf & 2021-02-16 & ghi\\\\\n\\end{tabular}\n",
            "text/plain": [
              "  logical numeric date       string\n",
              "1  TRUE   1.0     2021-01-15 abc   \n",
              "2 FALSE   4.5     2021-02-15 def   \n",
              "3  TRUE   Inf     2021-02-16 ghi   "
            ]
          },
          "metadata": {}
        }
      ]
    },
    {
      "cell_type": "markdown",
      "source": [
        "## <a name=\"ignore-comment\">Ignoring Comments in a File</a>\n",
        "\n",
        "---\n",
        "\n",
        "In the code cell below, we store a CSV file to `my_data`. We have added an additional row to the previous table, and we wish to indicate this with a comment."
      ],
      "metadata": {
        "id": "w6N-9KT_0tou"
      }
    },
    {
      "cell_type": "code",
      "source": [
        "my_data <- \"\n",
        "  logical, numeric, date, string\n",
        "  TRUE, 1, 2021-01-15, abc\n",
        "  false , 4.5, 2021-02-15, def\n",
        "  T, Inf, 2021-02-16, ghi\n",
        "   , ?, hello, FALSE  # we added this extra row\n",
        "\"\n",
        "\n",
        "read_csv(my_data)"
      ],
      "metadata": {
        "colab": {
          "base_uri": "https://localhost:8080/",
          "height": 366
        },
        "id": "fsrqtYp8zRLO",
        "outputId": "4e42d073-c59c-4058-c0f1-a749ca2ffbef"
      },
      "execution_count": null,
      "outputs": [
        {
          "output_type": "stream",
          "name": "stderr",
          "text": [
            "\u001b[1mRows: \u001b[22m\u001b[34m4\u001b[39m \u001b[1mColumns: \u001b[22m\u001b[34m4\u001b[39m\n",
            "\u001b[36m──\u001b[39m \u001b[1mColumn specification\u001b[22m \u001b[36m────────────────────────────────────────────────────────\u001b[39m\n",
            "\u001b[1mDelimiter:\u001b[22m \",\"\n",
            "\u001b[31mchr\u001b[39m (3): numeric, date, string\n",
            "\u001b[33mlgl\u001b[39m (1): logical\n",
            "\n",
            "\u001b[36mℹ\u001b[39m Use `spec()` to retrieve the full column specification for this data.\n",
            "\u001b[36mℹ\u001b[39m Specify the column types or set `show_col_types = FALSE` to quiet this message.\n"
          ]
        },
        {
          "output_type": "display_data",
          "data": {
            "text/html": [
              "<table class=\"dataframe\">\n",
              "<caption>A spec_tbl_df: 4 × 4</caption>\n",
              "<thead>\n",
              "\t<tr><th scope=col>logical</th><th scope=col>numeric</th><th scope=col>date</th><th scope=col>string</th></tr>\n",
              "\t<tr><th scope=col>&lt;lgl&gt;</th><th scope=col>&lt;chr&gt;</th><th scope=col>&lt;chr&gt;</th><th scope=col>&lt;chr&gt;</th></tr>\n",
              "</thead>\n",
              "<tbody>\n",
              "\t<tr><td> TRUE</td><td>1  </td><td>2021-01-15</td><td>abc                             </td></tr>\n",
              "\t<tr><td>FALSE</td><td>4.5</td><td>2021-02-15</td><td>def                             </td></tr>\n",
              "\t<tr><td> TRUE</td><td>Inf</td><td>2021-02-16</td><td>ghi                             </td></tr>\n",
              "\t<tr><td>   NA</td><td>?  </td><td>hello     </td><td>FALSE  # we added this extra row</td></tr>\n",
              "</tbody>\n",
              "</table>\n"
            ],
            "text/markdown": "\nA spec_tbl_df: 4 × 4\n\n| logical &lt;lgl&gt; | numeric &lt;chr&gt; | date &lt;chr&gt; | string &lt;chr&gt; |\n|---|---|---|---|\n|  TRUE | 1   | 2021-01-15 | abc                              |\n| FALSE | 4.5 | 2021-02-15 | def                              |\n|  TRUE | Inf | 2021-02-16 | ghi                              |\n|    NA | ?   | hello      | FALSE  # we added this extra row |\n\n",
            "text/latex": "A spec\\_tbl\\_df: 4 × 4\n\\begin{tabular}{llll}\n logical & numeric & date & string\\\\\n <lgl> & <chr> & <chr> & <chr>\\\\\n\\hline\n\t  TRUE & 1   & 2021-01-15 & abc                             \\\\\n\t FALSE & 4.5 & 2021-02-15 & def                             \\\\\n\t  TRUE & Inf & 2021-02-16 & ghi                             \\\\\n\t    NA & ?   & hello      & FALSE  \\# we added this extra row\\\\\n\\end{tabular}\n",
            "text/plain": [
              "  logical numeric date       string                          \n",
              "1  TRUE   1       2021-01-15 abc                             \n",
              "2 FALSE   4.5     2021-02-15 def                             \n",
              "3  TRUE   Inf     2021-02-16 ghi                             \n",
              "4    NA   ?       hello      FALSE  # we added this extra row"
            ]
          },
          "metadata": {}
        }
      ]
    },
    {
      "cell_type": "code",
      "source": [
        "# the comment argument drops all text that comes after a specified string\n",
        "read_csv(my_data, comment = \"#\")"
      ],
      "metadata": {
        "colab": {
          "base_uri": "https://localhost:8080/",
          "height": 366
        },
        "id": "JRzgYzSE0i9O",
        "outputId": "db07902a-5120-42af-ab79-cbbff89c1b2b"
      },
      "execution_count": null,
      "outputs": [
        {
          "output_type": "stream",
          "name": "stderr",
          "text": [
            "\u001b[1mRows: \u001b[22m\u001b[34m4\u001b[39m \u001b[1mColumns: \u001b[22m\u001b[34m4\u001b[39m\n",
            "\u001b[36m──\u001b[39m \u001b[1mColumn specification\u001b[22m \u001b[36m────────────────────────────────────────────────────────\u001b[39m\n",
            "\u001b[1mDelimiter:\u001b[22m \",\"\n",
            "\u001b[31mchr\u001b[39m (3): numeric, date, string\n",
            "\u001b[33mlgl\u001b[39m (1): logical\n",
            "\n",
            "\u001b[36mℹ\u001b[39m Use `spec()` to retrieve the full column specification for this data.\n",
            "\u001b[36mℹ\u001b[39m Specify the column types or set `show_col_types = FALSE` to quiet this message.\n"
          ]
        },
        {
          "output_type": "display_data",
          "data": {
            "text/html": [
              "<table class=\"dataframe\">\n",
              "<caption>A spec_tbl_df: 4 × 4</caption>\n",
              "<thead>\n",
              "\t<tr><th scope=col>logical</th><th scope=col>numeric</th><th scope=col>date</th><th scope=col>string</th></tr>\n",
              "\t<tr><th scope=col>&lt;lgl&gt;</th><th scope=col>&lt;chr&gt;</th><th scope=col>&lt;chr&gt;</th><th scope=col>&lt;chr&gt;</th></tr>\n",
              "</thead>\n",
              "<tbody>\n",
              "\t<tr><td> TRUE</td><td>1  </td><td>2021-01-15</td><td>abc  </td></tr>\n",
              "\t<tr><td>FALSE</td><td>4.5</td><td>2021-02-15</td><td>def  </td></tr>\n",
              "\t<tr><td> TRUE</td><td>Inf</td><td>2021-02-16</td><td>ghi  </td></tr>\n",
              "\t<tr><td>   NA</td><td>?  </td><td>hello     </td><td>FALSE</td></tr>\n",
              "</tbody>\n",
              "</table>\n"
            ],
            "text/markdown": "\nA spec_tbl_df: 4 × 4\n\n| logical &lt;lgl&gt; | numeric &lt;chr&gt; | date &lt;chr&gt; | string &lt;chr&gt; |\n|---|---|---|---|\n|  TRUE | 1   | 2021-01-15 | abc   |\n| FALSE | 4.5 | 2021-02-15 | def   |\n|  TRUE | Inf | 2021-02-16 | ghi   |\n|    NA | ?   | hello      | FALSE |\n\n",
            "text/latex": "A spec\\_tbl\\_df: 4 × 4\n\\begin{tabular}{llll}\n logical & numeric & date & string\\\\\n <lgl> & <chr> & <chr> & <chr>\\\\\n\\hline\n\t  TRUE & 1   & 2021-01-15 & abc  \\\\\n\t FALSE & 4.5 & 2021-02-15 & def  \\\\\n\t  TRUE & Inf & 2021-02-16 & ghi  \\\\\n\t    NA & ?   & hello      & FALSE\\\\\n\\end{tabular}\n",
            "text/plain": [
              "  logical numeric date       string\n",
              "1  TRUE   1       2021-01-15 abc   \n",
              "2 FALSE   4.5     2021-02-15 def   \n",
              "3  TRUE   Inf     2021-02-16 ghi   \n",
              "4    NA   ?       hello      FALSE "
            ]
          },
          "metadata": {}
        }
      ]
    },
    {
      "cell_type": "markdown",
      "source": [
        "## <a name=\"def-types\">Defining Column Types</a>\n",
        "\n",
        "---\n",
        "\n",
        "The output of the command `read_csv(my_data, comment = \"#\")` produces a data frame with column types indicated in the output above.\n",
        "\n",
        "- The `numeric` column is missing a value coded as `\"?\"` and that changed the column type to `character`.\n",
        "- The `date` column changed to a `character`.\n",
        "- The `string` column is treating the entry in the last row as the string `\"FALSE\"` and not a logical.\n",
        "\n",
        "\n",
        "We can override the column types chosen by the `read_csv()` with the `col_types` argument."
      ],
      "metadata": {
        "id": "hoxOBvhA0ET0"
      }
    },
    {
      "cell_type": "code",
      "source": [
        "read_csv(\n",
        "  my_data,\n",
        "  comment = \"#\",\n",
        "  col_types = list(numeric = col_double(), date = col_date())\n",
        ")"
      ],
      "metadata": {
        "colab": {
          "base_uri": "https://localhost:8080/",
          "height": 313
        },
        "id": "hcG3gR6H2W7p",
        "outputId": "db6352af-f187-46af-9690-153a10a2c7ab"
      },
      "execution_count": null,
      "outputs": [
        {
          "output_type": "stream",
          "name": "stderr",
          "text": [
            "Warning message:\n",
            "“\u001b[1m\u001b[22mOne or more parsing issues, call `problems()` on your data frame for details,\n",
            "e.g.:\n",
            "  dat <- vroom(...)\n",
            "  problems(dat)”\n"
          ]
        },
        {
          "output_type": "display_data",
          "data": {
            "text/html": [
              "<table class=\"dataframe\">\n",
              "<caption>A spec_tbl_df: 4 × 4</caption>\n",
              "<thead>\n",
              "\t<tr><th scope=col>logical</th><th scope=col>numeric</th><th scope=col>date</th><th scope=col>string</th></tr>\n",
              "\t<tr><th scope=col>&lt;lgl&gt;</th><th scope=col>&lt;dbl&gt;</th><th scope=col>&lt;date&gt;</th><th scope=col>&lt;chr&gt;</th></tr>\n",
              "</thead>\n",
              "<tbody>\n",
              "\t<tr><td> TRUE</td><td>1.0</td><td>2021-01-15</td><td>abc  </td></tr>\n",
              "\t<tr><td>FALSE</td><td>4.5</td><td>2021-02-15</td><td>def  </td></tr>\n",
              "\t<tr><td> TRUE</td><td>Inf</td><td>2021-02-16</td><td>ghi  </td></tr>\n",
              "\t<tr><td>   NA</td><td> NA</td><td>NA</td><td>FALSE</td></tr>\n",
              "</tbody>\n",
              "</table>\n"
            ],
            "text/markdown": "\nA spec_tbl_df: 4 × 4\n\n| logical &lt;lgl&gt; | numeric &lt;dbl&gt; | date &lt;date&gt; | string &lt;chr&gt; |\n|---|---|---|---|\n|  TRUE | 1.0 | 2021-01-15 | abc   |\n| FALSE | 4.5 | 2021-02-15 | def   |\n|  TRUE | Inf | 2021-02-16 | ghi   |\n|    NA |  NA | NA | FALSE |\n\n",
            "text/latex": "A spec\\_tbl\\_df: 4 × 4\n\\begin{tabular}{llll}\n logical & numeric & date & string\\\\\n <lgl> & <dbl> & <date> & <chr>\\\\\n\\hline\n\t  TRUE & 1.0 & 2021-01-15 & abc  \\\\\n\t FALSE & 4.5 & 2021-02-15 & def  \\\\\n\t  TRUE & Inf & 2021-02-16 & ghi  \\\\\n\t    NA &  NA & NA & FALSE\\\\\n\\end{tabular}\n",
            "text/plain": [
              "  logical numeric date       string\n",
              "1  TRUE   1.0     2021-01-15 abc   \n",
              "2 FALSE   4.5     2021-02-15 def   \n",
              "3  TRUE   Inf     2021-02-16 ghi   \n",
              "4    NA    NA     <NA>       FALSE "
            ]
          },
          "metadata": {}
        }
      ]
    },
    {
      "cell_type": "markdown",
      "source": [
        "### <a name=\"fix-problem\">Fixing Error Messages</a>\n",
        "\n",
        "---\n",
        "\n",
        "The output from the previous code cell seems to indicate there was a potential problem importing the file. The warning says we can find out more with `problems()`.\n",
        "\n",
        "\n"
      ],
      "metadata": {
        "id": "X6vriXBH2lkM"
      }
    },
    {
      "cell_type": "code",
      "source": [
        "df <- read_csv(\n",
        "  my_data,\n",
        "  comment = \"#\",\n",
        "  col_types = list(numeric = col_double(), date = col_date())\n",
        ")"
      ],
      "metadata": {
        "colab": {
          "base_uri": "https://localhost:8080/"
        },
        "outputId": "f3967639-718a-4236-9eb5-0d525a699c98",
        "id": "H4ziEuqY3YhY"
      },
      "execution_count": null,
      "outputs": [
        {
          "output_type": "stream",
          "name": "stderr",
          "text": [
            "Warning message:\n",
            "“\u001b[1m\u001b[22mOne or more parsing issues, call `problems()` on your data frame for details,\n",
            "e.g.:\n",
            "  dat <- vroom(...)\n",
            "  problems(dat)”\n"
          ]
        }
      ]
    },
    {
      "cell_type": "code",
      "source": [
        "problems(df)"
      ],
      "metadata": {
        "colab": {
          "base_uri": "https://localhost:8080/",
          "height": 161
        },
        "id": "1CfIewVE3dDE",
        "outputId": "701303b9-f38a-4aad-ba11-05b6fe18ddc9"
      },
      "execution_count": null,
      "outputs": [
        {
          "output_type": "display_data",
          "data": {
            "text/html": [
              "<table class=\"dataframe\">\n",
              "<caption>A tibble: 2 × 5</caption>\n",
              "<thead>\n",
              "\t<tr><th scope=col>row</th><th scope=col>col</th><th scope=col>expected</th><th scope=col>actual</th><th scope=col>file</th></tr>\n",
              "\t<tr><th scope=col>&lt;int&gt;</th><th scope=col>&lt;int&gt;</th><th scope=col>&lt;chr&gt;</th><th scope=col>&lt;chr&gt;</th><th scope=col>&lt;chr&gt;</th></tr>\n",
              "</thead>\n",
              "<tbody>\n",
              "\t<tr><td>5</td><td>2</td><td>a double       </td><td>?    </td><td>/tmp/Rtmp0h159P/filee270e90bee</td></tr>\n",
              "\t<tr><td>5</td><td>3</td><td>date in ISO8601</td><td>hello</td><td>/tmp/Rtmp0h159P/filee270e90bee</td></tr>\n",
              "</tbody>\n",
              "</table>\n"
            ],
            "text/markdown": "\nA tibble: 2 × 5\n\n| row &lt;int&gt; | col &lt;int&gt; | expected &lt;chr&gt; | actual &lt;chr&gt; | file &lt;chr&gt; |\n|---|---|---|---|---|\n| 5 | 2 | a double        | ?     | /tmp/Rtmp0h159P/filee270e90bee |\n| 5 | 3 | date in ISO8601 | hello | /tmp/Rtmp0h159P/filee270e90bee |\n\n",
            "text/latex": "A tibble: 2 × 5\n\\begin{tabular}{lllll}\n row & col & expected & actual & file\\\\\n <int> & <int> & <chr> & <chr> & <chr>\\\\\n\\hline\n\t 5 & 2 & a double        & ?     & /tmp/Rtmp0h159P/filee270e90bee\\\\\n\t 5 & 3 & date in ISO8601 & hello & /tmp/Rtmp0h159P/filee270e90bee\\\\\n\\end{tabular}\n",
            "text/plain": [
              "  row col expected        actual file                          \n",
              "1 5   2   a double        ?      /tmp/Rtmp0h159P/filee270e90bee\n",
              "2 5   3   date in ISO8601 hello  /tmp/Rtmp0h159P/filee270e90bee"
            ]
          },
          "metadata": {}
        }
      ]
    },
    {
      "cell_type": "markdown",
      "source": [
        "This tells us that there was a problem in row 5, in column 2 and column 3, where `readr` expected a double and date (respectively), but got a `?` and `hello` respectively. We may choose to resolve this problem be changing both to `NA` in the import.\n"
      ],
      "metadata": {
        "id": "vAftMTKd3pwS"
      }
    },
    {
      "cell_type": "code",
      "source": [
        "df <- read_csv(\n",
        "  my_data,\n",
        "  comment = \"#\",\n",
        "  col_types = list(numeric = col_double(), date = col_date()),\n",
        "  na = c(\"?\", \"hello\")\n",
        ")\n",
        "print(df)"
      ],
      "metadata": {
        "colab": {
          "base_uri": "https://localhost:8080/"
        },
        "outputId": "4036d582-3f2f-4954-e7aa-507e8bd94e4a",
        "id": "ClCxGi0v4QBX"
      },
      "execution_count": null,
      "outputs": [
        {
          "output_type": "stream",
          "name": "stderr",
          "text": [
            "Warning message:\n",
            "“\u001b[1m\u001b[22mOne or more parsing issues, call `problems()` on your data frame for details,\n",
            "e.g.:\n",
            "  dat <- vroom(...)\n",
            "  problems(dat)”\n"
          ]
        },
        {
          "output_type": "stream",
          "name": "stdout",
          "text": [
            "\u001b[90m# A tibble: 4 × 4\u001b[39m\n",
            "  logical numeric date       string\n",
            "  \u001b[3m\u001b[90m<lgl>\u001b[39m\u001b[23m     \u001b[3m\u001b[90m<dbl>\u001b[39m\u001b[23m \u001b[3m\u001b[90m<date>\u001b[39m\u001b[23m     \u001b[3m\u001b[90m<chr>\u001b[39m\u001b[23m \n",
            "\u001b[90m1\u001b[39m TRUE        1   2021-01-15 abc   \n",
            "\u001b[90m2\u001b[39m FALSE       4.5 2021-02-15 def   \n",
            "\u001b[90m3\u001b[39m TRUE      \u001b[31mInf\u001b[39m   2021-02-16 ghi   \n",
            "\u001b[90m4\u001b[39m \u001b[31mNA\u001b[39m         \u001b[31mNA\u001b[39m   \u001b[31mNA\u001b[39m         FALSE \n"
          ]
        }
      ]
    },
    {
      "cell_type": "markdown",
      "source": [
        "## <a name=\"quest5\">Question 5</a>\n",
        "\n",
        "\n",
        "---\n",
        "\n",
        "The output of the previous code cell is still indicating there were problems when importing the CSV file. Identify and correct the problem so you can import the `my_data` with `read_csv()` without any problems."
      ],
      "metadata": {
        "id": "1eT_Ox204g-c"
      }
    },
    {
      "cell_type": "code",
      "source": [
        "# solution to question 5\n"
      ],
      "metadata": {
        "id": "u1TvUO89yeYg"
      },
      "execution_count": null,
      "outputs": []
    },
    {
      "cell_type": "markdown",
      "source": [
        "## <a name=\"col-types\">Column Types in `readr`</a>\n",
        "\n",
        "---\n",
        "\n",
        "`readr` provides a total of nine column types for you to use:\n",
        "\n",
        "- `col_logical()` and `col_double()` read logicals and real numbers.\n",
        "  - These are rarely needed (except as above), since `readr` will usually guess them for you.\n",
        "- `col_integer()` reads integers.\n",
        "- `col_character()` reads strings.\n",
        "  - This can be useful to specify explicitly when you have a column that is a numeric (such as a phone number or student ID) that doesn't make sense to apply mathematical operations to.\n",
        "- `col_factor()`, `col_date()`, and `col_datetime()` create factors, dates, and date-times respectively.\n",
        "- `col_number()` is a permissive numeric parser that will ignore non-numeric components, and is particularly useful for currencies.\n",
        "- `col_skip()` skips a column so it is not included in the result.\n"
      ],
      "metadata": {
        "id": "o6IVtX-d5IO3"
      }
    },
    {
      "cell_type": "code",
      "source": [
        "read_csv(\"https://pos.it/r4ds-students-csv\")"
      ],
      "metadata": {
        "colab": {
          "base_uri": "https://localhost:8080/",
          "height": 429
        },
        "id": "EPEcNubM6-bc",
        "outputId": "d219722b-bb4e-420f-ba98-6eed2703523d"
      },
      "execution_count": null,
      "outputs": [
        {
          "output_type": "stream",
          "name": "stderr",
          "text": [
            "\u001b[1mRows: \u001b[22m\u001b[34m6\u001b[39m \u001b[1mColumns: \u001b[22m\u001b[34m5\u001b[39m\n",
            "\u001b[36m──\u001b[39m \u001b[1mColumn specification\u001b[22m \u001b[36m────────────────────────────────────────────────────────\u001b[39m\n",
            "\u001b[1mDelimiter:\u001b[22m \",\"\n",
            "\u001b[31mchr\u001b[39m (4): Full Name, favourite.food, mealPlan, AGE\n",
            "\u001b[32mdbl\u001b[39m (1): Student ID\n",
            "\n",
            "\u001b[36mℹ\u001b[39m Use `spec()` to retrieve the full column specification for this data.\n",
            "\u001b[36mℹ\u001b[39m Specify the column types or set `show_col_types = FALSE` to quiet this message.\n"
          ]
        },
        {
          "output_type": "display_data",
          "data": {
            "text/html": [
              "<table class=\"dataframe\">\n",
              "<caption>A spec_tbl_df: 6 × 5</caption>\n",
              "<thead>\n",
              "\t<tr><th scope=col>Student ID</th><th scope=col>Full Name</th><th scope=col>favourite.food</th><th scope=col>mealPlan</th><th scope=col>AGE</th></tr>\n",
              "\t<tr><th scope=col>&lt;dbl&gt;</th><th scope=col>&lt;chr&gt;</th><th scope=col>&lt;chr&gt;</th><th scope=col>&lt;chr&gt;</th><th scope=col>&lt;chr&gt;</th></tr>\n",
              "</thead>\n",
              "<tbody>\n",
              "\t<tr><td>1</td><td>Sunil Huffmann  </td><td>Strawberry yoghurt</td><td>Lunch only         </td><td>4   </td></tr>\n",
              "\t<tr><td>2</td><td>Barclay Lynn    </td><td>French fries      </td><td>Lunch only         </td><td>5   </td></tr>\n",
              "\t<tr><td>3</td><td>Jayendra Lyne   </td><td>N/A               </td><td>Breakfast and lunch</td><td>7   </td></tr>\n",
              "\t<tr><td>4</td><td>Leon Rossini    </td><td>Anchovies         </td><td>Lunch only         </td><td>NA  </td></tr>\n",
              "\t<tr><td>5</td><td>Chidiegwu Dunkel</td><td>Pizza             </td><td>Breakfast and lunch</td><td>five</td></tr>\n",
              "\t<tr><td>6</td><td>Güvenç Attila   </td><td>Ice cream         </td><td>Lunch only         </td><td>6   </td></tr>\n",
              "</tbody>\n",
              "</table>\n"
            ],
            "text/markdown": "\nA spec_tbl_df: 6 × 5\n\n| Student ID &lt;dbl&gt; | Full Name &lt;chr&gt; | favourite.food &lt;chr&gt; | mealPlan &lt;chr&gt; | AGE &lt;chr&gt; |\n|---|---|---|---|---|\n| 1 | Sunil Huffmann   | Strawberry yoghurt | Lunch only          | 4    |\n| 2 | Barclay Lynn     | French fries       | Lunch only          | 5    |\n| 3 | Jayendra Lyne    | N/A                | Breakfast and lunch | 7    |\n| 4 | Leon Rossini     | Anchovies          | Lunch only          | NA   |\n| 5 | Chidiegwu Dunkel | Pizza              | Breakfast and lunch | five |\n| 6 | Güvenç Attila    | Ice cream          | Lunch only          | 6    |\n\n",
            "text/latex": "A spec\\_tbl\\_df: 6 × 5\n\\begin{tabular}{lllll}\n Student ID & Full Name & favourite.food & mealPlan & AGE\\\\\n <dbl> & <chr> & <chr> & <chr> & <chr>\\\\\n\\hline\n\t 1 & Sunil Huffmann   & Strawberry yoghurt & Lunch only          & 4   \\\\\n\t 2 & Barclay Lynn     & French fries       & Lunch only          & 5   \\\\\n\t 3 & Jayendra Lyne    & N/A                & Breakfast and lunch & 7   \\\\\n\t 4 & Leon Rossini     & Anchovies          & Lunch only          & NA  \\\\\n\t 5 & Chidiegwu Dunkel & Pizza              & Breakfast and lunch & five\\\\\n\t 6 & Güvenç Attila    & Ice cream          & Lunch only          & 6   \\\\\n\\end{tabular}\n",
            "text/plain": [
              "  Student ID Full Name        favourite.food     mealPlan            AGE \n",
              "1 1          Sunil Huffmann   Strawberry yoghurt Lunch only          4   \n",
              "2 2          Barclay Lynn     French fries       Lunch only          5   \n",
              "3 3          Jayendra Lyne    N/A                Breakfast and lunch 7   \n",
              "4 4          Leon Rossini     Anchovies          Lunch only          NA  \n",
              "5 5          Chidiegwu Dunkel Pizza              Breakfast and lunch five\n",
              "6 6          Güvenç Attila    Ice cream          Lunch only          6   "
            ]
          },
          "metadata": {}
        }
      ]
    },
    {
      "cell_type": "code",
      "source": [
        "# using col_skip to ignore some columns\n",
        "read_csv(\n",
        "  \"https://pos.it/r4ds-students-csv\",\n",
        "  col_types = list(favourite.food = col_skip(), AGE = col_skip()),\n",
        ")"
      ],
      "metadata": {
        "colab": {
          "base_uri": "https://localhost:8080/",
          "height": 286
        },
        "id": "7IGLuUBz8B8x",
        "outputId": "d5e1b5fd-2360-4e1f-9540-4d5079413aa4"
      },
      "execution_count": null,
      "outputs": [
        {
          "output_type": "display_data",
          "data": {
            "text/html": [
              "<table class=\"dataframe\">\n",
              "<caption>A spec_tbl_df: 6 × 3</caption>\n",
              "<thead>\n",
              "\t<tr><th scope=col>Student ID</th><th scope=col>Full Name</th><th scope=col>mealPlan</th></tr>\n",
              "\t<tr><th scope=col>&lt;dbl&gt;</th><th scope=col>&lt;chr&gt;</th><th scope=col>&lt;chr&gt;</th></tr>\n",
              "</thead>\n",
              "<tbody>\n",
              "\t<tr><td>1</td><td>Sunil Huffmann  </td><td>Lunch only         </td></tr>\n",
              "\t<tr><td>2</td><td>Barclay Lynn    </td><td>Lunch only         </td></tr>\n",
              "\t<tr><td>3</td><td>Jayendra Lyne   </td><td>Breakfast and lunch</td></tr>\n",
              "\t<tr><td>4</td><td>Leon Rossini    </td><td>Lunch only         </td></tr>\n",
              "\t<tr><td>5</td><td>Chidiegwu Dunkel</td><td>Breakfast and lunch</td></tr>\n",
              "\t<tr><td>6</td><td>Güvenç Attila   </td><td>Lunch only         </td></tr>\n",
              "</tbody>\n",
              "</table>\n"
            ],
            "text/markdown": "\nA spec_tbl_df: 6 × 3\n\n| Student ID &lt;dbl&gt; | Full Name &lt;chr&gt; | mealPlan &lt;chr&gt; |\n|---|---|---|\n| 1 | Sunil Huffmann   | Lunch only          |\n| 2 | Barclay Lynn     | Lunch only          |\n| 3 | Jayendra Lyne    | Breakfast and lunch |\n| 4 | Leon Rossini     | Lunch only          |\n| 5 | Chidiegwu Dunkel | Breakfast and lunch |\n| 6 | Güvenç Attila    | Lunch only          |\n\n",
            "text/latex": "A spec\\_tbl\\_df: 6 × 3\n\\begin{tabular}{lll}\n Student ID & Full Name & mealPlan\\\\\n <dbl> & <chr> & <chr>\\\\\n\\hline\n\t 1 & Sunil Huffmann   & Lunch only         \\\\\n\t 2 & Barclay Lynn     & Lunch only         \\\\\n\t 3 & Jayendra Lyne    & Breakfast and lunch\\\\\n\t 4 & Leon Rossini     & Lunch only         \\\\\n\t 5 & Chidiegwu Dunkel & Breakfast and lunch\\\\\n\t 6 & Güvenç Attila    & Lunch only         \\\\\n\\end{tabular}\n",
            "text/plain": [
              "  Student ID Full Name        mealPlan           \n",
              "1 1          Sunil Huffmann   Lunch only         \n",
              "2 2          Barclay Lynn     Lunch only         \n",
              "3 3          Jayendra Lyne    Breakfast and lunch\n",
              "4 4          Leon Rossini     Lunch only         \n",
              "5 5          Chidiegwu Dunkel Breakfast and lunch\n",
              "6 6          Güvenç Attila    Lunch only         "
            ]
          },
          "metadata": {}
        }
      ]
    },
    {
      "cell_type": "code",
      "source": [
        "# setting all columns to the same type\n",
        "read_csv(\n",
        "  \"https://pos.it/r4ds-students-csv\",\n",
        "  col_types = cols(.default = col_double())  # use double for all\n",
        ")"
      ],
      "metadata": {
        "colab": {
          "base_uri": "https://localhost:8080/",
          "height": 376
        },
        "id": "7DXqHZ757RvG",
        "outputId": "a615c8c3-07e6-42bf-ed02-0abc7357c957"
      },
      "execution_count": null,
      "outputs": [
        {
          "output_type": "stream",
          "name": "stderr",
          "text": [
            "Warning message:\n",
            "“\u001b[1m\u001b[22mOne or more parsing issues, call `problems()` on your data frame for details,\n",
            "e.g.:\n",
            "  dat <- vroom(...)\n",
            "  problems(dat)”\n"
          ]
        },
        {
          "output_type": "display_data",
          "data": {
            "text/html": [
              "<table class=\"dataframe\">\n",
              "<caption>A spec_tbl_df: 6 × 5</caption>\n",
              "<thead>\n",
              "\t<tr><th scope=col>Student ID</th><th scope=col>Full Name</th><th scope=col>favourite.food</th><th scope=col>mealPlan</th><th scope=col>AGE</th></tr>\n",
              "\t<tr><th scope=col>&lt;dbl&gt;</th><th scope=col>&lt;dbl&gt;</th><th scope=col>&lt;dbl&gt;</th><th scope=col>&lt;dbl&gt;</th><th scope=col>&lt;dbl&gt;</th></tr>\n",
              "</thead>\n",
              "<tbody>\n",
              "\t<tr><td>1</td><td>NA</td><td>NA</td><td>NA</td><td> 4</td></tr>\n",
              "\t<tr><td>2</td><td>NA</td><td>NA</td><td>NA</td><td> 5</td></tr>\n",
              "\t<tr><td>3</td><td>NA</td><td>NA</td><td>NA</td><td> 7</td></tr>\n",
              "\t<tr><td>4</td><td>NA</td><td>NA</td><td>NA</td><td>NA</td></tr>\n",
              "\t<tr><td>5</td><td>NA</td><td>NA</td><td>NA</td><td>NA</td></tr>\n",
              "\t<tr><td>6</td><td>NA</td><td>NA</td><td>NA</td><td> 6</td></tr>\n",
              "</tbody>\n",
              "</table>\n"
            ],
            "text/markdown": "\nA spec_tbl_df: 6 × 5\n\n| Student ID &lt;dbl&gt; | Full Name &lt;dbl&gt; | favourite.food &lt;dbl&gt; | mealPlan &lt;dbl&gt; | AGE &lt;dbl&gt; |\n|---|---|---|---|---|\n| 1 | NA | NA | NA |  4 |\n| 2 | NA | NA | NA |  5 |\n| 3 | NA | NA | NA |  7 |\n| 4 | NA | NA | NA | NA |\n| 5 | NA | NA | NA | NA |\n| 6 | NA | NA | NA |  6 |\n\n",
            "text/latex": "A spec\\_tbl\\_df: 6 × 5\n\\begin{tabular}{lllll}\n Student ID & Full Name & favourite.food & mealPlan & AGE\\\\\n <dbl> & <dbl> & <dbl> & <dbl> & <dbl>\\\\\n\\hline\n\t 1 & NA & NA & NA &  4\\\\\n\t 2 & NA & NA & NA &  5\\\\\n\t 3 & NA & NA & NA &  7\\\\\n\t 4 & NA & NA & NA & NA\\\\\n\t 5 & NA & NA & NA & NA\\\\\n\t 6 & NA & NA & NA &  6\\\\\n\\end{tabular}\n",
            "text/plain": [
              "  Student ID Full Name favourite.food mealPlan AGE\n",
              "1 1          NA        NA             NA        4 \n",
              "2 2          NA        NA             NA        5 \n",
              "3 3          NA        NA             NA        7 \n",
              "4 4          NA        NA             NA       NA \n",
              "5 5          NA        NA             NA       NA \n",
              "6 6          NA        NA             NA        6 "
            ]
          },
          "metadata": {}
        }
      ]
    },
    {
      "cell_type": "markdown",
      "source": [
        "## <a name=\"cols-only\">Selecting a Subset of Columns to Import with `cols_only()`</a>\n",
        "\n",
        "---\n",
        "\n",
        "The `cols_only()` option can be used within the `col_type` argument to read in only the columns we specify. This can help save time when we have a data set with many columns."
      ],
      "metadata": {
        "id": "M4bkUcN09eB-"
      }
    },
    {
      "cell_type": "code",
      "source": [
        "read_csv(\n",
        "  \"https://pos.it/r4ds-students-csv\",\n",
        "  col_types = cols_only(\n",
        "    favourite.food = col_character(),\n",
        "    AGE = col_character()\n",
        "  )\n",
        ")"
      ],
      "metadata": {
        "colab": {
          "base_uri": "https://localhost:8080/",
          "height": 286
        },
        "id": "evIo6WV69vhb",
        "outputId": "73472ed2-fdd0-4a9e-a08e-7be5a363481c"
      },
      "execution_count": null,
      "outputs": [
        {
          "output_type": "display_data",
          "data": {
            "text/html": [
              "<table class=\"dataframe\">\n",
              "<caption>A spec_tbl_df: 6 × 2</caption>\n",
              "<thead>\n",
              "\t<tr><th scope=col>favourite.food</th><th scope=col>AGE</th></tr>\n",
              "\t<tr><th scope=col>&lt;chr&gt;</th><th scope=col>&lt;chr&gt;</th></tr>\n",
              "</thead>\n",
              "<tbody>\n",
              "\t<tr><td>Strawberry yoghurt</td><td>4   </td></tr>\n",
              "\t<tr><td>French fries      </td><td>5   </td></tr>\n",
              "\t<tr><td>N/A               </td><td>7   </td></tr>\n",
              "\t<tr><td>Anchovies         </td><td>NA  </td></tr>\n",
              "\t<tr><td>Pizza             </td><td>five</td></tr>\n",
              "\t<tr><td>Ice cream         </td><td>6   </td></tr>\n",
              "</tbody>\n",
              "</table>\n"
            ],
            "text/markdown": "\nA spec_tbl_df: 6 × 2\n\n| favourite.food &lt;chr&gt; | AGE &lt;chr&gt; |\n|---|---|\n| Strawberry yoghurt | 4    |\n| French fries       | 5    |\n| N/A                | 7    |\n| Anchovies          | NA   |\n| Pizza              | five |\n| Ice cream          | 6    |\n\n",
            "text/latex": "A spec\\_tbl\\_df: 6 × 2\n\\begin{tabular}{ll}\n favourite.food & AGE\\\\\n <chr> & <chr>\\\\\n\\hline\n\t Strawberry yoghurt & 4   \\\\\n\t French fries       & 5   \\\\\n\t N/A                & 7   \\\\\n\t Anchovies          & NA  \\\\\n\t Pizza              & five\\\\\n\t Ice cream          & 6   \\\\\n\\end{tabular}\n",
            "text/plain": [
              "  favourite.food     AGE \n",
              "1 Strawberry yoghurt 4   \n",
              "2 French fries       5   \n",
              "3 N/A                7   \n",
              "4 Anchovies          NA  \n",
              "5 Pizza              five\n",
              "6 Ice cream          6   "
            ]
          },
          "metadata": {}
        }
      ]
    },
    {
      "cell_type": "markdown",
      "source": [
        "# <a name=\"mult-files\">Reading Data from Multiple Files</a>\n",
        "\n",
        "---\n",
        "\n",
        "Sometimes our data is split across multiple files instead of being contained in a single file. For example, suppose we sales data for multiple months, with each month's data in a separate file: `01-sales.csv` for January, `02-sales.csv` for February, and `03-sales.csv` for March. With `read_csv()` we can read these data in at once and stack them on top of each other in a single data frame.\n",
        "\n",
        "- The `id` argument adds a new column called file to the resulting data frame that identifies the file the data come from."
      ],
      "metadata": {
        "id": "0la3ZAu--j47"
      }
    },
    {
      "cell_type": "code",
      "source": [
        "sales_files <- c(\n",
        "  \"https://pos.it/r4ds-01-sales\",\n",
        "  \"https://pos.it/r4ds-02-sales\",\n",
        "  \"https://pos.it/r4ds-03-sales\"\n",
        ")\n",
        "\n",
        "sales_df <- read_csv(sales_files, id = \"month_id\")\n",
        "print(sales_df)"
      ],
      "metadata": {
        "colab": {
          "base_uri": "https://localhost:8080/"
        },
        "id": "EQdwOG2a_CXt",
        "outputId": "570ece09-57f6-4bfc-a1ff-102fcbac0a71"
      },
      "execution_count": null,
      "outputs": [
        {
          "output_type": "stream",
          "name": "stderr",
          "text": [
            "\u001b[1mRows: \u001b[22m\u001b[34m19\u001b[39m \u001b[1mColumns: \u001b[22m\u001b[34m6\u001b[39m\n",
            "\u001b[36m──\u001b[39m \u001b[1mColumn specification\u001b[22m \u001b[36m────────────────────────────────────────────────────────\u001b[39m\n",
            "\u001b[1mDelimiter:\u001b[22m \",\"\n",
            "\u001b[31mchr\u001b[39m (1): month\n",
            "\u001b[32mdbl\u001b[39m (4): year, brand, item, n\n",
            "\n",
            "\u001b[36mℹ\u001b[39m Use `spec()` to retrieve the full column specification for this data.\n",
            "\u001b[36mℹ\u001b[39m Specify the column types or set `show_col_types = FALSE` to quiet this message.\n"
          ]
        },
        {
          "output_type": "stream",
          "name": "stdout",
          "text": [
            "\u001b[90m# A tibble: 19 × 6\u001b[39m\n",
            "   month_id                     month     year brand  item     n\n",
            "   \u001b[3m\u001b[90m<chr>\u001b[39m\u001b[23m                        \u001b[3m\u001b[90m<chr>\u001b[39m\u001b[23m    \u001b[3m\u001b[90m<dbl>\u001b[39m\u001b[23m \u001b[3m\u001b[90m<dbl>\u001b[39m\u001b[23m \u001b[3m\u001b[90m<dbl>\u001b[39m\u001b[23m \u001b[3m\u001b[90m<dbl>\u001b[39m\u001b[23m\n",
            "\u001b[90m 1\u001b[39m https://pos.it/r4ds-01-sales January   \u001b[4m2\u001b[24m019     1  \u001b[4m1\u001b[24m234     3\n",
            "\u001b[90m 2\u001b[39m https://pos.it/r4ds-01-sales January   \u001b[4m2\u001b[24m019     1  \u001b[4m8\u001b[24m721     9\n",
            "\u001b[90m 3\u001b[39m https://pos.it/r4ds-01-sales January   \u001b[4m2\u001b[24m019     1  \u001b[4m1\u001b[24m822     2\n",
            "\u001b[90m 4\u001b[39m https://pos.it/r4ds-01-sales January   \u001b[4m2\u001b[24m019     2  \u001b[4m3\u001b[24m333     1\n",
            "\u001b[90m 5\u001b[39m https://pos.it/r4ds-01-sales January   \u001b[4m2\u001b[24m019     2  \u001b[4m2\u001b[24m156     9\n",
            "\u001b[90m 6\u001b[39m https://pos.it/r4ds-01-sales January   \u001b[4m2\u001b[24m019     2  \u001b[4m3\u001b[24m987     6\n",
            "\u001b[90m 7\u001b[39m https://pos.it/r4ds-01-sales January   \u001b[4m2\u001b[24m019     2  \u001b[4m3\u001b[24m827     6\n",
            "\u001b[90m 8\u001b[39m https://pos.it/r4ds-02-sales February  \u001b[4m2\u001b[24m019     1  \u001b[4m1\u001b[24m234     8\n",
            "\u001b[90m 9\u001b[39m https://pos.it/r4ds-02-sales February  \u001b[4m2\u001b[24m019     1  \u001b[4m8\u001b[24m721     2\n",
            "\u001b[90m10\u001b[39m https://pos.it/r4ds-02-sales February  \u001b[4m2\u001b[24m019     1  \u001b[4m1\u001b[24m822     3\n",
            "\u001b[90m11\u001b[39m https://pos.it/r4ds-02-sales February  \u001b[4m2\u001b[24m019     2  \u001b[4m3\u001b[24m333     1\n",
            "\u001b[90m12\u001b[39m https://pos.it/r4ds-02-sales February  \u001b[4m2\u001b[24m019     2  \u001b[4m2\u001b[24m156     3\n",
            "\u001b[90m13\u001b[39m https://pos.it/r4ds-02-sales February  \u001b[4m2\u001b[24m019     2  \u001b[4m3\u001b[24m987     6\n",
            "\u001b[90m14\u001b[39m https://pos.it/r4ds-03-sales March     \u001b[4m2\u001b[24m019     1  \u001b[4m1\u001b[24m234     3\n",
            "\u001b[90m15\u001b[39m https://pos.it/r4ds-03-sales March     \u001b[4m2\u001b[24m019     1  \u001b[4m3\u001b[24m627     1\n",
            "\u001b[90m16\u001b[39m https://pos.it/r4ds-03-sales March     \u001b[4m2\u001b[24m019     1  \u001b[4m8\u001b[24m820     3\n",
            "\u001b[90m17\u001b[39m https://pos.it/r4ds-03-sales March     \u001b[4m2\u001b[24m019     2  \u001b[4m7\u001b[24m253     1\n",
            "\u001b[90m18\u001b[39m https://pos.it/r4ds-03-sales March     \u001b[4m2\u001b[24m019     2  \u001b[4m8\u001b[24m766     3\n",
            "\u001b[90m19\u001b[39m https://pos.it/r4ds-03-sales March     \u001b[4m2\u001b[24m019     2  \u001b[4m8\u001b[24m288     6\n"
          ]
        }
      ]
    },
    {
      "cell_type": "markdown",
      "source": [
        "In the code cell below, we use the `str_replace_all()` function from the `stringr` package (a core `tidyverse` package) to replace the file names with a numeric month."
      ],
      "metadata": {
        "id": "GDOg_q3REMLO"
      }
    },
    {
      "cell_type": "code",
      "source": [
        "sales_df$month_id <- str_replace_all(\n",
        "  sales_df$month_id,\n",
        "  c(\"https://pos.it/r4ds-01-sales\" = \"01\",\n",
        "    \"https://pos.it/r4ds-02-sales\" = \"02\",\n",
        "    \"https://pos.it/r4ds-03-sales\" = \"03\" )\n",
        ")\n",
        "print(sales_df)"
      ],
      "metadata": {
        "colab": {
          "base_uri": "https://localhost:8080/"
        },
        "id": "zMM9J5I1DVMu",
        "outputId": "a395b7a5-5637-4794-9a7a-2ad24b17eec1"
      },
      "execution_count": null,
      "outputs": [
        {
          "output_type": "stream",
          "name": "stdout",
          "text": [
            "\u001b[90m# A tibble: 19 × 6\u001b[39m\n",
            "   month_id month     year brand  item     n\n",
            "   \u001b[3m\u001b[90m<chr>\u001b[39m\u001b[23m    \u001b[3m\u001b[90m<chr>\u001b[39m\u001b[23m    \u001b[3m\u001b[90m<dbl>\u001b[39m\u001b[23m \u001b[3m\u001b[90m<dbl>\u001b[39m\u001b[23m \u001b[3m\u001b[90m<dbl>\u001b[39m\u001b[23m \u001b[3m\u001b[90m<dbl>\u001b[39m\u001b[23m\n",
            "\u001b[90m 1\u001b[39m 01       January   \u001b[4m2\u001b[24m019     1  \u001b[4m1\u001b[24m234     3\n",
            "\u001b[90m 2\u001b[39m 01       January   \u001b[4m2\u001b[24m019     1  \u001b[4m8\u001b[24m721     9\n",
            "\u001b[90m 3\u001b[39m 01       January   \u001b[4m2\u001b[24m019     1  \u001b[4m1\u001b[24m822     2\n",
            "\u001b[90m 4\u001b[39m 01       January   \u001b[4m2\u001b[24m019     2  \u001b[4m3\u001b[24m333     1\n",
            "\u001b[90m 5\u001b[39m 01       January   \u001b[4m2\u001b[24m019     2  \u001b[4m2\u001b[24m156     9\n",
            "\u001b[90m 6\u001b[39m 01       January   \u001b[4m2\u001b[24m019     2  \u001b[4m3\u001b[24m987     6\n",
            "\u001b[90m 7\u001b[39m 01       January   \u001b[4m2\u001b[24m019     2  \u001b[4m3\u001b[24m827     6\n",
            "\u001b[90m 8\u001b[39m 02       February  \u001b[4m2\u001b[24m019     1  \u001b[4m1\u001b[24m234     8\n",
            "\u001b[90m 9\u001b[39m 02       February  \u001b[4m2\u001b[24m019     1  \u001b[4m8\u001b[24m721     2\n",
            "\u001b[90m10\u001b[39m 02       February  \u001b[4m2\u001b[24m019     1  \u001b[4m1\u001b[24m822     3\n",
            "\u001b[90m11\u001b[39m 02       February  \u001b[4m2\u001b[24m019     2  \u001b[4m3\u001b[24m333     1\n",
            "\u001b[90m12\u001b[39m 02       February  \u001b[4m2\u001b[24m019     2  \u001b[4m2\u001b[24m156     3\n",
            "\u001b[90m13\u001b[39m 02       February  \u001b[4m2\u001b[24m019     2  \u001b[4m3\u001b[24m987     6\n",
            "\u001b[90m14\u001b[39m 03       March     \u001b[4m2\u001b[24m019     1  \u001b[4m1\u001b[24m234     3\n",
            "\u001b[90m15\u001b[39m 03       March     \u001b[4m2\u001b[24m019     1  \u001b[4m3\u001b[24m627     1\n",
            "\u001b[90m16\u001b[39m 03       March     \u001b[4m2\u001b[24m019     1  \u001b[4m8\u001b[24m820     3\n",
            "\u001b[90m17\u001b[39m 03       March     \u001b[4m2\u001b[24m019     2  \u001b[4m7\u001b[24m253     1\n",
            "\u001b[90m18\u001b[39m 03       March     \u001b[4m2\u001b[24m019     2  \u001b[4m8\u001b[24m766     3\n",
            "\u001b[90m19\u001b[39m 03       March     \u001b[4m2\u001b[24m019     2  \u001b[4m8\u001b[24m288     6\n"
          ]
        }
      ]
    },
    {
      "cell_type": "markdown",
      "source": [
        "# <a name=\"write\">Writing to a File</a>\n",
        "\n",
        "---\n",
        "\n",
        "`readr` has useful functions for writing data to files that we can export outside of R.\n",
        "\n",
        "- `write_csv(x, \"file\")`: writes data to a comma-separated file.\n",
        "- `write_tsv(x, \"file\")`: writes data to a tab-separated file.\n",
        "- Other write options include `write_delim()`, `write_csv2()`, `write_excel_csv()`, and `write_excel_csv2()`.\n",
        "\n",
        "The most important arguments to these functions are `x` (the data frame to save) and `file` (the file and location to save it). We can specify other options such as how missing values are coded by entering additional arguments.\n",
        "\n",
        "- If working in Google Colab, the file is saved to the  `/content` folder in your Drive.\n",
        "  - Select the files menu tab from the options on the left side bar (the image of the file boxed in red in the figure above).\n",
        "  - Click on the three vertical dots on the right of the file name (see red arrow in figure above).\n",
        "  - Choose `Download` from the available menu options.\n",
        "  - Choose where you want to download the file onto your computer.\n",
        "\n",
        "- In RStudio and other software, we can specify a the location on our computer where the file will be saved.\n",
        "  - The `getwd()` function can be used to check the location of the current working directory.\n",
        "  - The `setwd()` function can be used to set/change the working directory."
      ],
      "metadata": {
        "id": "ve8teXtKCWz3"
      }
    },
    {
      "cell_type": "code",
      "source": [
        "getwd()"
      ],
      "metadata": {
        "colab": {
          "base_uri": "https://localhost:8080/",
          "height": 34
        },
        "id": "gHoqlnSBG99G",
        "outputId": "57548066-6b94-44a8-da0c-74bfdb70ac0a"
      },
      "execution_count": null,
      "outputs": [
        {
          "output_type": "display_data",
          "data": {
            "text/html": [
              "'/content'"
            ],
            "text/markdown": "'/content'",
            "text/latex": "'/content'",
            "text/plain": [
              "[1] \"/content\""
            ]
          },
          "metadata": {}
        }
      ]
    },
    {
      "cell_type": "markdown",
      "source": [
        "## <a name=\"quest6\">Question 6</a>\n",
        "\n",
        "---\n",
        "\n",
        "Run the first code cell below to print the tidy data frame `students` from earlier to the screen. Then use the `write_csv()` function to write `students` to a CSV file named `students_data.csv`. Finally, import the file `students_data.csv` that you created back into R and compare the resulting data frame with `students`. Is the original `students` data frame and the newly imported data the same? If not, what is different?"
      ],
      "metadata": {
        "id": "QJ8_42PTIyw9"
      }
    },
    {
      "cell_type": "code",
      "source": [
        "print(students)"
      ],
      "metadata": {
        "colab": {
          "base_uri": "https://localhost:8080/"
        },
        "id": "LxDBWe2lJVBY",
        "outputId": "e48a227b-a79a-41d2-a734-2bbddd3664b9"
      },
      "execution_count": null,
      "outputs": [
        {
          "output_type": "stream",
          "name": "stdout",
          "text": [
            "\u001b[90m# A tibble: 6 × 5\u001b[39m\n",
            "  student_id full_name        favourite_food     meal_plan             age\n",
            "       \u001b[3m\u001b[90m<int>\u001b[39m\u001b[23m \u001b[3m\u001b[90m<chr>\u001b[39m\u001b[23m            \u001b[3m\u001b[90m<chr>\u001b[39m\u001b[23m              \u001b[3m\u001b[90m<fct>\u001b[39m\u001b[23m               \u001b[3m\u001b[90m<int>\u001b[39m\u001b[23m\n",
            "\u001b[90m1\u001b[39m          1 Sunil Huffmann   Strawberry yoghurt Lunch only              4\n",
            "\u001b[90m2\u001b[39m          2 Barclay Lynn     French fries       Lunch only              5\n",
            "\u001b[90m3\u001b[39m          3 Jayendra Lyne    \u001b[31mNA\u001b[39m                 Breakfast and lunch     7\n",
            "\u001b[90m4\u001b[39m          4 Leon Rossini     Anchovies          Lunch only             \u001b[31mNA\u001b[39m\n",
            "\u001b[90m5\u001b[39m          5 Chidiegwu Dunkel Pizza              Breakfast and lunch     5\n",
            "\u001b[90m6\u001b[39m          6 Güvenç Attila    Ice cream          Lunch only              6\n"
          ]
        }
      ]
    },
    {
      "cell_type": "code",
      "source": [
        "# solution to question 6\n"
      ],
      "metadata": {
        "id": "jHahHoZKHJZc"
      },
      "execution_count": null,
      "outputs": []
    },
    {
      "cell_type": "markdown",
      "source": [
        "### <a name=\"sol6\">Solution to Question 6</a>\n",
        "\n",
        "---\n",
        "\n",
        "\n",
        "\n",
        "<br>  \n",
        "<br>  "
      ],
      "metadata": {
        "id": "KaYqMuKoJtlB"
      }
    },
    {
      "cell_type": "markdown",
      "source": [
        "## <a name=\"rds\">`read_rds()` and `write_rds()`</a>\n",
        "\n",
        "---\n",
        "\n",
        "\n",
        "The [`write_rds()` and `read_rds()`](https://readr.tidyverse.org/reference/read_rds.html) functions are uniform wrappers around the base functions `readRDS()` and `saveRDS()` that store data in R's custom binary format called [RDS (or R Data Serialization)](https://www.geeksforgeeks.org/data-serialization-rds-using-r/). This means that when we reload the object, we are loading the exact same R object that we stored."
      ],
      "metadata": {
        "id": "eQ99YKF8KIZ_"
      }
    },
    {
      "cell_type": "code",
      "source": [
        "write_rds(students, \"students_data.rds\")"
      ],
      "metadata": {
        "id": "4u65cN3VKgvT"
      },
      "execution_count": null,
      "outputs": []
    },
    {
      "cell_type": "code",
      "source": [
        "read_rds(\"students_data.rds\")"
      ],
      "metadata": {
        "colab": {
          "base_uri": "https://localhost:8080/",
          "height": 286
        },
        "outputId": "85516123-6d93-4660-8c85-9ec50c38c8f5",
        "id": "-w7AspfGKgvT"
      },
      "execution_count": null,
      "outputs": [
        {
          "output_type": "display_data",
          "data": {
            "text/html": [
              "<table class=\"dataframe\">\n",
              "<caption>A tibble: 6 × 5</caption>\n",
              "<thead>\n",
              "\t<tr><th scope=col>student_id</th><th scope=col>full_name</th><th scope=col>favourite_food</th><th scope=col>meal_plan</th><th scope=col>age</th></tr>\n",
              "\t<tr><th scope=col>&lt;int&gt;</th><th scope=col>&lt;chr&gt;</th><th scope=col>&lt;chr&gt;</th><th scope=col>&lt;fct&gt;</th><th scope=col>&lt;int&gt;</th></tr>\n",
              "</thead>\n",
              "<tbody>\n",
              "\t<tr><td>1</td><td>Sunil Huffmann  </td><td>Strawberry yoghurt</td><td>Lunch only         </td><td> 4</td></tr>\n",
              "\t<tr><td>2</td><td>Barclay Lynn    </td><td>French fries      </td><td>Lunch only         </td><td> 5</td></tr>\n",
              "\t<tr><td>3</td><td>Jayendra Lyne   </td><td>NA                </td><td>Breakfast and lunch</td><td> 7</td></tr>\n",
              "\t<tr><td>4</td><td>Leon Rossini    </td><td>Anchovies         </td><td>Lunch only         </td><td>NA</td></tr>\n",
              "\t<tr><td>5</td><td>Chidiegwu Dunkel</td><td>Pizza             </td><td>Breakfast and lunch</td><td> 5</td></tr>\n",
              "\t<tr><td>6</td><td>Güvenç Attila   </td><td>Ice cream         </td><td>Lunch only         </td><td> 6</td></tr>\n",
              "</tbody>\n",
              "</table>\n"
            ],
            "text/markdown": "\nA tibble: 6 × 5\n\n| student_id &lt;int&gt; | full_name &lt;chr&gt; | favourite_food &lt;chr&gt; | meal_plan &lt;fct&gt; | age &lt;int&gt; |\n|---|---|---|---|---|\n| 1 | Sunil Huffmann   | Strawberry yoghurt | Lunch only          |  4 |\n| 2 | Barclay Lynn     | French fries       | Lunch only          |  5 |\n| 3 | Jayendra Lyne    | NA                 | Breakfast and lunch |  7 |\n| 4 | Leon Rossini     | Anchovies          | Lunch only          | NA |\n| 5 | Chidiegwu Dunkel | Pizza              | Breakfast and lunch |  5 |\n| 6 | Güvenç Attila    | Ice cream          | Lunch only          |  6 |\n\n",
            "text/latex": "A tibble: 6 × 5\n\\begin{tabular}{lllll}\n student\\_id & full\\_name & favourite\\_food & meal\\_plan & age\\\\\n <int> & <chr> & <chr> & <fct> & <int>\\\\\n\\hline\n\t 1 & Sunil Huffmann   & Strawberry yoghurt & Lunch only          &  4\\\\\n\t 2 & Barclay Lynn     & French fries       & Lunch only          &  5\\\\\n\t 3 & Jayendra Lyne    & NA                 & Breakfast and lunch &  7\\\\\n\t 4 & Leon Rossini     & Anchovies          & Lunch only          & NA\\\\\n\t 5 & Chidiegwu Dunkel & Pizza              & Breakfast and lunch &  5\\\\\n\t 6 & Güvenç Attila    & Ice cream          & Lunch only          &  6\\\\\n\\end{tabular}\n",
            "text/plain": [
              "  student_id full_name        favourite_food     meal_plan           age\n",
              "1 1          Sunil Huffmann   Strawberry yoghurt Lunch only           4 \n",
              "2 2          Barclay Lynn     French fries       Lunch only           5 \n",
              "3 3          Jayendra Lyne    NA                 Breakfast and lunch  7 \n",
              "4 4          Leon Rossini     Anchovies          Lunch only          NA \n",
              "5 5          Chidiegwu Dunkel Pizza              Breakfast and lunch  5 \n",
              "6 6          Güvenç Attila    Ice cream          Lunch only           6 "
            ]
          },
          "metadata": {}
        }
      ]
    },
    {
      "cell_type": "markdown",
      "source": [
        "# <a name=\"tribble\">Data Entry with `tribble()`</a>\n",
        "\n",
        "---\n",
        "\n",
        "We have seen how to create a tibble by entering data into the `tibble()` function where we can enter the data column by column."
      ],
      "metadata": {
        "id": "-j3UK-Q3Lk_R"
      }
    },
    {
      "cell_type": "code",
      "source": [
        "# defining a tibble column by column\n",
        "tibble(\n",
        "  x = c(1, 2, 5),\n",
        "  y = c(\"h\", \"m\", \"g\"),\n",
        "  z = c(0.08, 0.83, 0.60)\n",
        ")"
      ],
      "metadata": {
        "colab": {
          "base_uri": "https://localhost:8080/",
          "height": 192
        },
        "id": "s-TCkUU5MFta",
        "outputId": "03e9ad54-33bd-413c-a56d-b4d78ed5df54"
      },
      "execution_count": null,
      "outputs": [
        {
          "output_type": "display_data",
          "data": {
            "text/html": [
              "<table class=\"dataframe\">\n",
              "<caption>A tibble: 3 × 3</caption>\n",
              "<thead>\n",
              "\t<tr><th scope=col>x</th><th scope=col>y</th><th scope=col>z</th></tr>\n",
              "\t<tr><th scope=col>&lt;dbl&gt;</th><th scope=col>&lt;chr&gt;</th><th scope=col>&lt;dbl&gt;</th></tr>\n",
              "</thead>\n",
              "<tbody>\n",
              "\t<tr><td>1</td><td>h</td><td>0.08</td></tr>\n",
              "\t<tr><td>2</td><td>m</td><td>0.83</td></tr>\n",
              "\t<tr><td>5</td><td>g</td><td>0.60</td></tr>\n",
              "</tbody>\n",
              "</table>\n"
            ],
            "text/markdown": "\nA tibble: 3 × 3\n\n| x &lt;dbl&gt; | y &lt;chr&gt; | z &lt;dbl&gt; |\n|---|---|---|\n| 1 | h | 0.08 |\n| 2 | m | 0.83 |\n| 5 | g | 0.60 |\n\n",
            "text/latex": "A tibble: 3 × 3\n\\begin{tabular}{lll}\n x & y & z\\\\\n <dbl> & <chr> & <dbl>\\\\\n\\hline\n\t 1 & h & 0.08\\\\\n\t 2 & m & 0.83\\\\\n\t 5 & g & 0.60\\\\\n\\end{tabular}\n",
            "text/plain": [
              "  x y z   \n",
              "1 1 h 0.08\n",
              "2 2 m 0.83\n",
              "3 5 g 0.60"
            ]
          },
          "metadata": {}
        }
      ]
    },
    {
      "cell_type": "markdown",
      "source": [
        "Laying out the data by column can make it hard to see how the rows are related, so an alternative is `tribble()`, short for <font color=\"dodgerblue\">**transposed tibble**</font>, which lets you lay out your data row by row:\n",
        "\n",
        "- Column headings start with `~`, and\n",
        "- Entries are separated by commas.\n",
        "\n",
        "This makes it possible to lay out small amounts of data in an easy to read form."
      ],
      "metadata": {
        "id": "9EsWs_mOMSQr"
      }
    },
    {
      "cell_type": "code",
      "source": [
        "tribble(\n",
        "  ~x, ~y, ~z,\n",
        "  1, \"h\", 0.08,\n",
        "  2, \"m\", 0.83,\n",
        "  5, \"g\", 0.60\n",
        ")"
      ],
      "metadata": {
        "colab": {
          "base_uri": "https://localhost:8080/",
          "height": 192
        },
        "id": "uU68a62RMqQU",
        "outputId": "aa8a4508-2c19-46e6-ca57-4826312ab0da"
      },
      "execution_count": null,
      "outputs": [
        {
          "output_type": "display_data",
          "data": {
            "text/html": [
              "<table class=\"dataframe\">\n",
              "<caption>A tibble: 3 × 3</caption>\n",
              "<thead>\n",
              "\t<tr><th scope=col>x</th><th scope=col>y</th><th scope=col>z</th></tr>\n",
              "\t<tr><th scope=col>&lt;dbl&gt;</th><th scope=col>&lt;chr&gt;</th><th scope=col>&lt;dbl&gt;</th></tr>\n",
              "</thead>\n",
              "<tbody>\n",
              "\t<tr><td>1</td><td>h</td><td>0.08</td></tr>\n",
              "\t<tr><td>2</td><td>m</td><td>0.83</td></tr>\n",
              "\t<tr><td>5</td><td>g</td><td>0.60</td></tr>\n",
              "</tbody>\n",
              "</table>\n"
            ],
            "text/markdown": "\nA tibble: 3 × 3\n\n| x &lt;dbl&gt; | y &lt;chr&gt; | z &lt;dbl&gt; |\n|---|---|---|\n| 1 | h | 0.08 |\n| 2 | m | 0.83 |\n| 5 | g | 0.60 |\n\n",
            "text/latex": "A tibble: 3 × 3\n\\begin{tabular}{lll}\n x & y & z\\\\\n <dbl> & <chr> & <dbl>\\\\\n\\hline\n\t 1 & h & 0.08\\\\\n\t 2 & m & 0.83\\\\\n\t 5 & g & 0.60\\\\\n\\end{tabular}\n",
            "text/plain": [
              "  x y z   \n",
              "1 1 h 0.08\n",
              "2 2 m 0.83\n",
              "3 5 g 0.60"
            ]
          },
          "metadata": {}
        }
      ]
    },
    {
      "cell_type": "markdown",
      "source": [
        "# <a name=\"other-intro\">Reading Files from Other Software</a>\n",
        "\n",
        "---\n",
        "\n"
      ],
      "metadata": {
        "id": "1wWpLdJKM07P"
      }
    },
    {
      "cell_type": "markdown",
      "source": [
        "## <a name=\"excel\">Excel Files</a>\n",
        "\n",
        "---\n",
        "\n",
        "\n",
        "There are several packages available to connect R with Excel (i.e. `xlsx`, `gdata`, `RODBC`, `XLConnect`, `RExcel`, and others).\n",
        "\n",
        "The most popular package (developed by Hadley Wickham, et. al) for importing Excel files with the extension `*.xlsx` is the `tidyverse` package [`readxl`](https://readxl.tidyverse.org/) that works very similarly to `readr`.\n",
        "\n",
        "- It is not a core `tidyverse` package, so we must load it separately.\n",
        "- `readxl` is already installed in Colab, so we only need to load it (and no need to install it).\n",
        "\n"
      ],
      "metadata": {
        "id": "jjSdLsM9M-1H"
      }
    },
    {
      "cell_type": "code",
      "source": [
        "library(readxl)"
      ],
      "metadata": {
        "id": "dtwkGo4BOAdw"
      },
      "execution_count": null,
      "outputs": []
    },
    {
      "cell_type": "code",
      "source": [
        "# download file with gdp and health data\n",
        "download.file(\"https://raw.githubusercontent.com/CU-Denver-MathStats-OER/Data-Wrangling-and-Visualization/main/Data/health-wealth.xlsx\", \"health-wealth.xlsx\")"
      ],
      "metadata": {
        "id": "EIEx3LZWTwZv"
      },
      "execution_count": null,
      "outputs": []
    },
    {
      "cell_type": "code",
      "source": [
        "# import one worksheet from the Excel workbook\n",
        "health_wealth <- read_excel(\"health-wealth.xlsx\", sheet = \"Health\")\n",
        "print(health_wealth)"
      ],
      "metadata": {
        "colab": {
          "base_uri": "https://localhost:8080/"
        },
        "id": "6eqV8rBLOPuJ",
        "outputId": "e54967f2-4fe5-4b42-dbc0-660527e793ec"
      },
      "execution_count": null,
      "outputs": [
        {
          "output_type": "stream",
          "name": "stdout",
          "text": [
            "\u001b[90m# A tibble: 222 × 14\u001b[39m\n",
            "   `Country Name`     `Country Code` `Series Name` `Series Code` `2011 [YR2011]`\n",
            "   \u001b[3m\u001b[90m<chr>\u001b[39m\u001b[23m              \u001b[3m\u001b[90m<chr>\u001b[39m\u001b[23m          \u001b[3m\u001b[90m<chr>\u001b[39m\u001b[23m         \u001b[3m\u001b[90m<chr>\u001b[39m\u001b[23m         \u001b[3m\u001b[90m<chr>\u001b[39m\u001b[23m          \n",
            "\u001b[90m 1\u001b[39m Afghanistan        AFG            Mortality ra… SP.DYN.IMRT.… 61.7           \n",
            "\u001b[90m 2\u001b[39m Albania            ALB            Mortality ra… SP.DYN.IMRT.… 10.8           \n",
            "\u001b[90m 3\u001b[39m Algeria            DZA            Mortality ra… SP.DYN.IMRT.… 22.9           \n",
            "\u001b[90m 4\u001b[39m American Samoa     ASM            Mortality ra… SP.DYN.IMRT.… ..             \n",
            "\u001b[90m 5\u001b[39m Andorra            AND            Mortality ra… SP.DYN.IMRT.… 4              \n",
            "\u001b[90m 6\u001b[39m Angola             AGO            Mortality ra… SP.DYN.IMRT.… 71.40000000000…\n",
            "\u001b[90m 7\u001b[39m Antigua and Barbu… ATG            Mortality ra… SP.DYN.IMRT.… 8.199999999999…\n",
            "\u001b[90m 8\u001b[39m Argentina          ARG            Mortality ra… SP.DYN.IMRT.… 12.4           \n",
            "\u001b[90m 9\u001b[39m Armenia            ARM            Mortality ra… SP.DYN.IMRT.… 15.7           \n",
            "\u001b[90m10\u001b[39m Aruba              ABW            Mortality ra… SP.DYN.IMRT.… ..             \n",
            "\u001b[90m# ℹ 212 more rows\u001b[39m\n",
            "\u001b[90m# ℹ 9 more variables: `2012 [YR2012]` <chr>, `2013 [YR2013]` <chr>,\u001b[39m\n",
            "\u001b[90m#   `2014 [YR2014]` <chr>, `2015 [YR2015]` <chr>, `2016 [YR2016]` <chr>,\u001b[39m\n",
            "\u001b[90m#   `2017 [YR2017]` <chr>, `2018 [YR2018]` <chr>, `2019 [YR2019]` <chr>,\u001b[39m\n",
            "\u001b[90m#   `2020 [YR2020]` <chr>\u001b[39m\n"
          ]
        }
      ]
    },
    {
      "cell_type": "code",
      "source": [
        "# use the janitor::clean_names function to rename all columns\n",
        "health_wealth <- health_wealth |> clean_names()\n",
        "print(health_wealth)"
      ],
      "metadata": {
        "colab": {
          "base_uri": "https://localhost:8080/"
        },
        "id": "yq_sa0KMVf6-",
        "outputId": "8a594a0d-5194-478c-852a-6a06f6b32418"
      },
      "execution_count": null,
      "outputs": [
        {
          "output_type": "stream",
          "name": "stdout",
          "text": [
            "\u001b[90m# A tibble: 222 × 14\u001b[39m\n",
            "   country_name   country_code series_name series_code x2011_yr2011 x2012_yr2012\n",
            "   \u001b[3m\u001b[90m<chr>\u001b[39m\u001b[23m          \u001b[3m\u001b[90m<chr>\u001b[39m\u001b[23m        \u001b[3m\u001b[90m<chr>\u001b[39m\u001b[23m       \u001b[3m\u001b[90m<chr>\u001b[39m\u001b[23m       \u001b[3m\u001b[90m<chr>\u001b[39m\u001b[23m        \u001b[3m\u001b[90m<chr>\u001b[39m\u001b[23m       \n",
            "\u001b[90m 1\u001b[39m Afghanistan    AFG          Mortality … SP.DYN.IMR… 61.7         59.5        \n",
            "\u001b[90m 2\u001b[39m Albania        ALB          Mortality … SP.DYN.IMR… 10.8         10          \n",
            "\u001b[90m 3\u001b[39m Algeria        DZA          Mortality … SP.DYN.IMR… 22.9         22.5        \n",
            "\u001b[90m 4\u001b[39m American Samoa ASM          Mortality … SP.DYN.IMR… ..           ..          \n",
            "\u001b[90m 5\u001b[39m Andorra        AND          Mortality … SP.DYN.IMR… 4            3.9         \n",
            "\u001b[90m 6\u001b[39m Angola         AGO          Mortality … SP.DYN.IMR… 71.40000000… 67.3        \n",
            "\u001b[90m 7\u001b[39m Antigua and B… ATG          Mortality … SP.DYN.IMR… 8.199999999… 7.8         \n",
            "\u001b[90m 8\u001b[39m Argentina      ARG          Mortality … SP.DYN.IMR… 12.4         11.9        \n",
            "\u001b[90m 9\u001b[39m Armenia        ARM          Mortality … SP.DYN.IMR… 15.7         14.9        \n",
            "\u001b[90m10\u001b[39m Aruba          ABW          Mortality … SP.DYN.IMR… ..           ..          \n",
            "\u001b[90m# ℹ 212 more rows\u001b[39m\n",
            "\u001b[90m# ℹ 8 more variables: x2013_yr2013 <chr>, x2014_yr2014 <chr>,\u001b[39m\n",
            "\u001b[90m#   x2015_yr2015 <chr>, x2016_yr2016 <chr>, x2017_yr2017 <chr>,\u001b[39m\n",
            "\u001b[90m#   x2018_yr2018 <chr>, x2019_yr2019 <chr>, x2020_yr2020 <chr>\u001b[39m\n"
          ]
        }
      ]
    },
    {
      "cell_type": "code",
      "source": [
        "# importing with additional options\n",
        "read_excel(\n",
        "  \"health-wealth.xlsx\",\n",
        "  sheet = \"Health\",  # import only the data in the sheet named \"Health\"\n",
        "  range = \"A3:E9\",  # import only this cell range from the indicated sheet\n",
        "  col_names = c(\"country_name\", \"country_code\", \"series_name\", \"series_code\", \"2011\")  # rename columns\n",
        ")"
      ],
      "metadata": {
        "colab": {
          "base_uri": "https://localhost:8080/",
          "height": 318
        },
        "id": "SLGehtM4V1jR",
        "outputId": "00c1236f-01eb-415c-9901-8eddc01ad899"
      },
      "execution_count": null,
      "outputs": [
        {
          "output_type": "display_data",
          "data": {
            "text/html": [
              "<table class=\"dataframe\">\n",
              "<caption>A tibble: 7 × 5</caption>\n",
              "<thead>\n",
              "\t<tr><th scope=col>country_name</th><th scope=col>country_code</th><th scope=col>series_name</th><th scope=col>series_code</th><th scope=col>2011</th></tr>\n",
              "\t<tr><th scope=col>&lt;chr&gt;</th><th scope=col>&lt;chr&gt;</th><th scope=col>&lt;chr&gt;</th><th scope=col>&lt;chr&gt;</th><th scope=col>&lt;chr&gt;</th></tr>\n",
              "</thead>\n",
              "<tbody>\n",
              "\t<tr><td>Albania            </td><td>ALB</td><td>Mortality rate, infant (per 1,000 live births)</td><td>SP.DYN.IMRT.IN</td><td>10.8              </td></tr>\n",
              "\t<tr><td>Algeria            </td><td>DZA</td><td>Mortality rate, infant (per 1,000 live births)</td><td>SP.DYN.IMRT.IN</td><td>22.9              </td></tr>\n",
              "\t<tr><td>American Samoa     </td><td>ASM</td><td>Mortality rate, infant (per 1,000 live births)</td><td>SP.DYN.IMRT.IN</td><td>..                </td></tr>\n",
              "\t<tr><td>Andorra            </td><td>AND</td><td>Mortality rate, infant (per 1,000 live births)</td><td>SP.DYN.IMRT.IN</td><td>4                 </td></tr>\n",
              "\t<tr><td>Angola             </td><td>AGO</td><td>Mortality rate, infant (per 1,000 live births)</td><td>SP.DYN.IMRT.IN</td><td>71.400000000000006</td></tr>\n",
              "\t<tr><td>Antigua and Barbuda</td><td>ATG</td><td>Mortality rate, infant (per 1,000 live births)</td><td>SP.DYN.IMRT.IN</td><td>8.1999999999999993</td></tr>\n",
              "\t<tr><td>Argentina          </td><td>ARG</td><td>Mortality rate, infant (per 1,000 live births)</td><td>SP.DYN.IMRT.IN</td><td>12.4              </td></tr>\n",
              "</tbody>\n",
              "</table>\n"
            ],
            "text/markdown": "\nA tibble: 7 × 5\n\n| country_name &lt;chr&gt; | country_code &lt;chr&gt; | series_name &lt;chr&gt; | series_code &lt;chr&gt; | 2011 &lt;chr&gt; |\n|---|---|---|---|---|\n| Albania             | ALB | Mortality rate, infant (per 1,000 live births) | SP.DYN.IMRT.IN | 10.8               |\n| Algeria             | DZA | Mortality rate, infant (per 1,000 live births) | SP.DYN.IMRT.IN | 22.9               |\n| American Samoa      | ASM | Mortality rate, infant (per 1,000 live births) | SP.DYN.IMRT.IN | ..                 |\n| Andorra             | AND | Mortality rate, infant (per 1,000 live births) | SP.DYN.IMRT.IN | 4                  |\n| Angola              | AGO | Mortality rate, infant (per 1,000 live births) | SP.DYN.IMRT.IN | 71.400000000000006 |\n| Antigua and Barbuda | ATG | Mortality rate, infant (per 1,000 live births) | SP.DYN.IMRT.IN | 8.1999999999999993 |\n| Argentina           | ARG | Mortality rate, infant (per 1,000 live births) | SP.DYN.IMRT.IN | 12.4               |\n\n",
            "text/latex": "A tibble: 7 × 5\n\\begin{tabular}{lllll}\n country\\_name & country\\_code & series\\_name & series\\_code & 2011\\\\\n <chr> & <chr> & <chr> & <chr> & <chr>\\\\\n\\hline\n\t Albania             & ALB & Mortality rate, infant (per 1,000 live births) & SP.DYN.IMRT.IN & 10.8              \\\\\n\t Algeria             & DZA & Mortality rate, infant (per 1,000 live births) & SP.DYN.IMRT.IN & 22.9              \\\\\n\t American Samoa      & ASM & Mortality rate, infant (per 1,000 live births) & SP.DYN.IMRT.IN & ..                \\\\\n\t Andorra             & AND & Mortality rate, infant (per 1,000 live births) & SP.DYN.IMRT.IN & 4                 \\\\\n\t Angola              & AGO & Mortality rate, infant (per 1,000 live births) & SP.DYN.IMRT.IN & 71.400000000000006\\\\\n\t Antigua and Barbuda & ATG & Mortality rate, infant (per 1,000 live births) & SP.DYN.IMRT.IN & 8.1999999999999993\\\\\n\t Argentina           & ARG & Mortality rate, infant (per 1,000 live births) & SP.DYN.IMRT.IN & 12.4              \\\\\n\\end{tabular}\n",
            "text/plain": [
              "  country_name        country_code\n",
              "1 Albania             ALB         \n",
              "2 Algeria             DZA         \n",
              "3 American Samoa      ASM         \n",
              "4 Andorra             AND         \n",
              "5 Angola              AGO         \n",
              "6 Antigua and Barbuda ATG         \n",
              "7 Argentina           ARG         \n",
              "  series_name                                    series_code   \n",
              "1 Mortality rate, infant (per 1,000 live births) SP.DYN.IMRT.IN\n",
              "2 Mortality rate, infant (per 1,000 live births) SP.DYN.IMRT.IN\n",
              "3 Mortality rate, infant (per 1,000 live births) SP.DYN.IMRT.IN\n",
              "4 Mortality rate, infant (per 1,000 live births) SP.DYN.IMRT.IN\n",
              "5 Mortality rate, infant (per 1,000 live births) SP.DYN.IMRT.IN\n",
              "6 Mortality rate, infant (per 1,000 live births) SP.DYN.IMRT.IN\n",
              "7 Mortality rate, infant (per 1,000 live births) SP.DYN.IMRT.IN\n",
              "  2011              \n",
              "1 10.8              \n",
              "2 22.9              \n",
              "3 ..                \n",
              "4 4                 \n",
              "5 71.400000000000006\n",
              "6 8.1999999999999993\n",
              "7 12.4              "
            ]
          },
          "metadata": {}
        }
      ]
    },
    {
      "cell_type": "markdown",
      "source": [
        "## <a name=\"import-other\">Importing Data from Other Statistical Packages</a>\n",
        "\n",
        "---\n",
        "\n",
        "\n",
        "For Stata and Systat, use the [`foreign`](https://cran.r-project.org/web/packages/foreign/index.html) package which is already installed in Colab (so we only need to load it with a `library()` command).\n",
        "\n",
        "- `read.dta(\"myfile.dta\")`: Imports a Stata `*.dta` file into an R data frame.\n",
        "- `read.systat(\"myfile.dta\")`: Imports a systat `*.dta` file into an R data frame.\n",
        "\n",
        "\n"
      ],
      "metadata": {
        "id": "RIHU0iA6gLbV"
      }
    },
    {
      "cell_type": "code",
      "source": [
        "library(foreign)"
      ],
      "metadata": {
        "id": "X25PDT2riHQn"
      },
      "execution_count": null,
      "outputs": []
    },
    {
      "cell_type": "markdown",
      "source": [
        "For SPSS and SAS it recommend the [`Hmisc`](https://cran.r-project.org/web/packages/Hmisc/index.html) package for ease and functionality.\n",
        "\n",
        "- For SPSS files:\n",
        "  - Export your data in SPSS to a portable file format `*.por`.\n",
        "  - `spss.get(\"myfile.por\")` imports the data into R.\n",
        "\n",
        "- For SAS files:\n",
        "  - Export your data in SAS to an XPT file `*.xpt`\n",
        "  - `sasxport.get(\"myfile.xpt\")` imports the data into R.\n"
      ],
      "metadata": {
        "id": "xM_Sm-lrkAGT"
      }
    },
    {
      "cell_type": "code",
      "source": [
        "install.packages(\"Hmisc\")\n",
        "library(Hmisc)"
      ],
      "metadata": {
        "id": "-lHG9v7XkBEG"
      },
      "execution_count": null,
      "outputs": []
    },
    {
      "cell_type": "markdown",
      "source": [
        "## <a name=\"CC License\">Creative Commons License Information</a>\n",
        "---\n",
        "\n",
        "![Creative Commons\n",
        "License](https://i.creativecommons.org/l/by-nc-sa/4.0/88x31.png)\n",
        "\n",
        "Materials created by the [Department of Mathematical and Statistical Sciences at the University of Colorado Denver](https://github.com/CU-Denver-MathStats-OER/)\n",
        "and is licensed under a [Creative Commons\n",
        "Attribution-NonCommercial-ShareAlike 4.0 International\n",
        "License](http://creativecommons.org/licenses/by-nc-sa/4.0/)."
      ],
      "metadata": {
        "id": "WS8w_KQF5ym4"
      }
    }
  ]
}