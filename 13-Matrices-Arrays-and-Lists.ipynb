{
  "nbformat": 4,
  "nbformat_minor": 0,
  "metadata": {
    "colab": {
      "provenance": [],
      "authorship_tag": "ABX9TyP3ucqJtLrlpqBN6y87NKYr"
    },
    "kernelspec": {
      "name": "ir",
      "display_name": "R"
    },
    "language_info": {
      "name": "R"
    }
  },
  "cells": [
    {
      "cell_type": "markdown",
      "source": [
        "[![Open In Colab](https://colab.research.google.com/assets/colab-badge.svg)](https://githubtocolab.com/CU-Denver-MathStats-OER/Data-Wrangling-and-Visualization/blob/main/13-Matrices-Arrays-and-Lists.ipynb)\n",
        "\n",
        "\n",
        "\n",
        "\n"
      ],
      "metadata": {
        "id": "WaUpDHKEpNrt"
      }
    },
    {
      "cell_type": "markdown",
      "source": [
        "# <a name=\"13-title\"><font size=\"6\">Module 13: Matrices, Arrays and Lists</font></a>\n",
        "\n",
        "---"
      ],
      "metadata": {
        "id": "TyO8Rh7aOeOy"
      }
    },
    {
      "cell_type": "markdown",
      "metadata": {
        "id": "a1b4db6c-4c21-4922-aac6-592155824674"
      },
      "source": [
        "# <a name=\"intro\">Introduction</a>\n",
        "\n",
        "---\n",
        "\n",
        "We have been working with data that has mostly been stored in data frames and vectors. Recall from an [earlier module](https://githubtocolab.com/CU-Denver-MathStats-OER/Data-Wrangling-and-Visualization/blob/main/02-Fundamentals-of-Working-with-Data.ipynb):\n",
        "\n",
        "- Vectors are one-dimensional objects of a single data type.\n",
        "- Data frames are two dimensional objects where each column can be a different data type.\n",
        "\n",
        "In this module we will cover matrices, arrays, and lists which are additional data structures available in R. These data\n",
        "structures are fundamental to performing data analysis in R,\n",
        "particularly if we need to program our own methods. In fact, matrices are perhaps the most powerful object used throughout most mathematical and statistical fields of study.\n",
        "\n",
        "Understanding how to use matrices is foundational knowledge for any data\n",
        "scientist.\n",
        "\n",
        "-   Matrices are a simple, efficient way of storing many kinds of data.\n",
        "-   Matrix algebra is the most basic way of manipulating data\n",
        "    represented in matrix format.\n",
        "\n",
        "Numeric matrices are often needed to implement complex algorithms used\n",
        "for data science methods related to regression, optimization, and\n",
        "classification.\n"
      ]
    },
    {
      "cell_type": "markdown",
      "source": [
        "## <a name=\"pack\">Installing and Loading Required Packages</a>\n",
        "\n",
        "---\n",
        "\n",
        "\n",
        "We start by making sure the necessary R packages are installed.\n"
      ],
      "metadata": {
        "id": "zBtKToRfkq1w"
      }
    },
    {
      "cell_type": "code",
      "source": [
        "# install packages required later in this module\n",
        "install.packages(c(\"microbenchmark\",\"abind\"))"
      ],
      "metadata": {
        "colab": {
          "base_uri": "https://localhost:8080/"
        },
        "id": "A4sHivkqlIGq",
        "outputId": "9f08311d-9842-4f12-fd0d-83fd4ce6d4a0"
      },
      "execution_count": 1,
      "outputs": [
        {
          "output_type": "stream",
          "name": "stderr",
          "text": [
            "Installing packages into ‘/usr/local/lib/R/site-library’\n",
            "(as ‘lib’ is unspecified)\n",
            "\n"
          ]
        }
      ]
    },
    {
      "cell_type": "code",
      "source": [
        "# load required packages\n",
        "library(tidyverse)\n",
        "library(microbenchmark)\n",
        "library(abind)"
      ],
      "metadata": {
        "colab": {
          "base_uri": "https://localhost:8080/"
        },
        "id": "rRHy2FR4gEiK",
        "outputId": "5f683ade-11fe-49cd-e112-27d9a352d233"
      },
      "execution_count": 2,
      "outputs": [
        {
          "output_type": "stream",
          "name": "stderr",
          "text": [
            "── \u001b[1mAttaching core tidyverse packages\u001b[22m ──────────────────────── tidyverse 2.0.0 ──\n",
            "\u001b[32m✔\u001b[39m \u001b[34mdplyr    \u001b[39m 1.1.4     \u001b[32m✔\u001b[39m \u001b[34mreadr    \u001b[39m 2.1.5\n",
            "\u001b[32m✔\u001b[39m \u001b[34mforcats  \u001b[39m 1.0.0     \u001b[32m✔\u001b[39m \u001b[34mstringr  \u001b[39m 1.5.1\n",
            "\u001b[32m✔\u001b[39m \u001b[34mggplot2  \u001b[39m 3.5.1     \u001b[32m✔\u001b[39m \u001b[34mtibble   \u001b[39m 3.2.1\n",
            "\u001b[32m✔\u001b[39m \u001b[34mlubridate\u001b[39m 1.9.4     \u001b[32m✔\u001b[39m \u001b[34mtidyr    \u001b[39m 1.3.1\n",
            "\u001b[32m✔\u001b[39m \u001b[34mpurrr    \u001b[39m 1.0.4     \n",
            "── \u001b[1mConflicts\u001b[22m ────────────────────────────────────────── tidyverse_conflicts() ──\n",
            "\u001b[31m✖\u001b[39m \u001b[34mdplyr\u001b[39m::\u001b[32mfilter()\u001b[39m masks \u001b[34mstats\u001b[39m::filter()\n",
            "\u001b[31m✖\u001b[39m \u001b[34mdplyr\u001b[39m::\u001b[32mlag()\u001b[39m    masks \u001b[34mstats\u001b[39m::lag()\n",
            "\u001b[36mℹ\u001b[39m Use the conflicted package (\u001b[3m\u001b[34m<http://conflicted.r-lib.org/>\u001b[39m\u001b[23m) to force all conflicts to become errors\n"
          ]
        }
      ]
    },
    {
      "cell_type": "markdown",
      "source": [
        "# <a name=\"what-is-matrix\">What is a Matrix?</a>\n",
        "\n",
        "---\n",
        "\n",
        "\n",
        "A <font color=\"dodgerblue\">**matrix**</font> is a two-dimensional object whose values are all the same data type.\n",
        "\n",
        "-   We can have numeric, character, or logical matrices, but *only one data type* can exist at a time in a matrix.\n",
        "\n",
        "The size of a matrix $\\mathbf{A}$ are determined first by the number of rows followed by the number of columns. If  $\\mathbf{A}$ has $m$ rows and $n$ columns, then we say $\\mathbf{A}$ is an $m \\times n$ matrix.\n",
        "\n",
        "$$\n",
        "\\mathbf{A} = \\begin{bmatrix}\n",
        "\\mathbf{A}_{1,1} & \\mathbf{A}_{1,2} & \\cdots & \\mathbf{A}_{1,n} \\\\\n",
        "\\mathbf{A}_{2,1} & \\mathbf{A}_{2,2} & \\cdots & \\mathbf{A}_{2,n} \\\\\n",
        "\\vdots & \\vdots & \\ddots & \\vdots \\\\\n",
        "\\mathbf{A}_{m,1} & \\mathbf{A}_{m,2} & \\cdots & \\mathbf{A}_{m,n} \\\\\n",
        "\\end{bmatrix},\n",
        "$$\n",
        "\n",
        "where $\\mathbf{A}_{i,j}$ denotes the element in row $i$ and column $j$\n",
        "of matrix $\\mathbf{A}$. Note we also describe the location of an element by first indicating the row and then the column.\n",
        "\n",
        "A <font color=\"dodgerblue\">**column vector**</font> is a matrix with a single column. A <font color=\"dodgerblue\">**row vector**</font> is a matrix with a single row.\n",
        "\n",
        "-   Vectors are commonly denoted with bold lowercase letters such as $\\mathbf{a}$ or $\\mathbf{b}$, but this may be simplified to lowercase letters such as $a$ or $b$.\n",
        "  - The notation $\\vec{a}$ or $\\vec{b}$ is also often used to denote vectors.\n",
        "\n",
        "A $p\\times 1$ column vector $\\mathbf{a}$ and a $1 \\times p$ row vector $\\mathbf{b}$ may constructed respectively as\n",
        "\n",
        "$$\n",
        "\\mathbf{a} =\n",
        "\\begin{bmatrix}\n",
        "a_1 \\\\ a_2 \\\\ \\vdots \\\\ a_p\n",
        "\\end{bmatrix}  \\quad \\text{and} \\quad\n",
        "\\mathbf{b} = \\begin{bmatrix}b_1 & b_2 & \\ldots & b_p \\end{bmatrix}.\n",
        "$$\n",
        "\n",
        "\n",
        "For our purposes, we will mostly be working with column vectors, thus,  unless stated otherwise, **we assume \"vectors\" in this module are column vectors**. For the sake of spacing, we may sometimes express a column vector as entries separated by commas arranged in a row.  Vector $\\mathbf{a}$ may therefore be typed as\n",
        "\n",
        "$$\\mathbf{a} = [a_1, a_2, \\ldots, a_p] \\qquad \\text{instead of} \\qquad \\mathbf{a} = \\begin{bmatrix}\n",
        "a_1 \\\\ a_2 \\\\ \\vdots \\\\ a_p\n",
        "\\end{bmatrix}.$$\n",
        "\n",
        "\n",
        "\n",
        "\n"
      ],
      "metadata": {
        "id": "Z1CVfLFVmCYo"
      }
    },
    {
      "cell_type": "markdown",
      "source": [
        "# <a name=\"create-matrix\">Creating a Matrix</a>\n",
        "\n",
        "---\n",
        "\n",
        "A matrix can be created in R by passing a vector to the `matrix`\n",
        "function and specifying the number of rows and columns the matrix will\n",
        "have.\n",
        "\n",
        "-   The values of the vector will be placed into the matrix one column at a time.\n",
        "-   The `nrow` argument specifies the number of rows.\n",
        "-   The `ncol` argument specifies the number of columns.\n",
        "\n",
        "Let's create a $5\\times 2$ matrix with the elements $1, 2, \\ldots, 5$ in the first column and $6, 7, \\ldots, 10$ in the second column."
      ],
      "metadata": {
        "id": "bF28L8UNqieR"
      }
    },
    {
      "cell_type": "code",
      "execution_count": 3,
      "metadata": {
        "id": "e5c3ce10",
        "colab": {
          "base_uri": "https://localhost:8080/",
          "height": 243
        },
        "outputId": "e060bd36-39ba-4277-d75c-68ec0db32a1a"
      },
      "outputs": [
        {
          "output_type": "display_data",
          "data": {
            "text/html": [
              "<table class=\"dataframe\">\n",
              "<caption>A matrix: 5 × 2 of type int</caption>\n",
              "<tbody>\n",
              "\t<tr><td>1</td><td> 6</td></tr>\n",
              "\t<tr><td>2</td><td> 7</td></tr>\n",
              "\t<tr><td>3</td><td> 8</td></tr>\n",
              "\t<tr><td>4</td><td> 9</td></tr>\n",
              "\t<tr><td>5</td><td>10</td></tr>\n",
              "</tbody>\n",
              "</table>\n"
            ],
            "text/markdown": "\nA matrix: 5 × 2 of type int\n\n| 1 |  6 |\n| 2 |  7 |\n| 3 |  8 |\n| 4 |  9 |\n| 5 | 10 |\n\n",
            "text/latex": "A matrix: 5 × 2 of type int\n\\begin{tabular}{ll}\n\t 1 &  6\\\\\n\t 2 &  7\\\\\n\t 3 &  8\\\\\n\t 4 &  9\\\\\n\t 5 & 10\\\\\n\\end{tabular}\n",
            "text/plain": [
              "     [,1] [,2]\n",
              "[1,] 1     6  \n",
              "[2,] 2     7  \n",
              "[3,] 3     8  \n",
              "[4,] 4     9  \n",
              "[5,] 5    10  "
            ]
          },
          "metadata": {}
        }
      ],
      "source": [
        "# by default values are first arranged down column 1, then column 2, and so on\n",
        "A <- matrix(1:10, nrow = 5, ncol = 2)\n",
        "A"
      ]
    },
    {
      "cell_type": "code",
      "source": [
        "print(A)"
      ],
      "metadata": {
        "colab": {
          "base_uri": "https://localhost:8080/"
        },
        "id": "UYHsZSMGjqc0",
        "outputId": "e85c5b5f-1507-4509-dc52-122c195d79e7"
      },
      "execution_count": 4,
      "outputs": [
        {
          "output_type": "stream",
          "name": "stdout",
          "text": [
            "     [,1] [,2]\n",
            "[1,]    1    6\n",
            "[2,]    2    7\n",
            "[3,]    3    8\n",
            "[4,]    4    9\n",
            "[5,]    5   10\n"
          ]
        }
      ]
    },
    {
      "cell_type": "markdown",
      "metadata": {
        "id": "52a2b7fa-1d12-488e-b5db-57e622dd13f6"
      },
      "source": [
        "If we change the `byrow` argument of the `matrix` function to `TRUE`,\n",
        "then the values will be placed row by row, as in the example below."
      ]
    },
    {
      "cell_type": "code",
      "execution_count": 5,
      "metadata": {
        "id": "738bdc8c",
        "colab": {
          "base_uri": "https://localhost:8080/",
          "height": 132
        },
        "outputId": "b2e41085-f019-47e7-87af-7bf257a58e92"
      },
      "outputs": [
        {
          "output_type": "display_data",
          "data": {
            "text/html": [
              "<table class=\"dataframe\">\n",
              "<caption>A matrix: 2 × 3 of type int</caption>\n",
              "<tbody>\n",
              "\t<tr><td>1</td><td>2</td><td>3</td></tr>\n",
              "\t<tr><td>4</td><td>5</td><td>6</td></tr>\n",
              "</tbody>\n",
              "</table>\n"
            ],
            "text/markdown": "\nA matrix: 2 × 3 of type int\n\n| 1 | 2 | 3 |\n| 4 | 5 | 6 |\n\n",
            "text/latex": "A matrix: 2 × 3 of type int\n\\begin{tabular}{lll}\n\t 1 & 2 & 3\\\\\n\t 4 & 5 & 6\\\\\n\\end{tabular}\n",
            "text/plain": [
              "     [,1] [,2] [,3]\n",
              "[1,] 1    2    3   \n",
              "[2,] 4    5    6   "
            ]
          },
          "metadata": {}
        }
      ],
      "source": [
        "# byrow = TRUE arranges first across row 1, then row 2, and so on\n",
        "matrix(1:6, nrow = 2, ncol = 3, byrow = TRUE)"
      ]
    },
    {
      "cell_type": "markdown",
      "source": [
        "## <a name=\"quest1\">Question 1</a>\n",
        "\n",
        "---\n",
        "\n",
        "Create the matrix\n",
        "\n",
        "$$\\mathbf{M} = \\begin{bmatrix}\n",
        "2 & 4 & 6 & 8 & 10 \\\\\n",
        "12 & 14 & 16 & 18 & 20 \\\\\n",
        "22 & 24 & 26 & 28 & 30\n",
        "\\end{bmatrix}.$$"
      ],
      "metadata": {
        "id": "SXNajrL6R2FB"
      }
    },
    {
      "cell_type": "code",
      "source": [
        "# enter code to define and store matrix M\n",
        "M <- ??\n",
        "print(M)"
      ],
      "metadata": {
        "id": "PbjHpFb7Seda"
      },
      "execution_count": null,
      "outputs": []
    },
    {
      "cell_type": "markdown",
      "source": [
        "## <a name=\"bind\">Row and Column-Binding Functions</a>\n",
        "\n",
        "---\n"
      ],
      "metadata": {
        "id": "v6HcSiJTrd4H"
      }
    },
    {
      "cell_type": "markdown",
      "metadata": {
        "id": "ab895d37-fc51-477b-9793-56a40db73ae3"
      },
      "source": [
        "The following `base` R functions can be used to combine (or bind) vectors together to construct a matrix:\n",
        "\n",
        "- The `cbind()` function binds vectors together as columns.\n",
        "- The `rbind()` function binds vectors together as rows.\n",
        "\n",
        "In the example below, we combine the vectors \\[1, 2, 3, 4\\] and \\[5, 6,\n",
        "7, 8\\] columnwise to create a matrix."
      ]
    },
    {
      "cell_type": "code",
      "execution_count": 7,
      "metadata": {
        "id": "294fd6b3"
      },
      "outputs": [],
      "source": [
        "# vectors are one-dimensional\n",
        "vec1 <- 1:4\n",
        "vec2 <- 5:8"
      ]
    },
    {
      "cell_type": "code",
      "source": [
        "# column 1 is vec1 and column 2 is vec2\n",
        "cbind(vec1, vec2)"
      ],
      "metadata": {
        "colab": {
          "base_uri": "https://localhost:8080/",
          "height": 209
        },
        "id": "SX4F0vuJsi4v",
        "outputId": "283a5a34-6059-4354-e5a7-ca8eb8a6e571"
      },
      "execution_count": 8,
      "outputs": [
        {
          "output_type": "display_data",
          "data": {
            "text/html": [
              "<table class=\"dataframe\">\n",
              "<caption>A matrix: 4 × 2 of type int</caption>\n",
              "<thead>\n",
              "\t<tr><th scope=col>vec1</th><th scope=col>vec2</th></tr>\n",
              "</thead>\n",
              "<tbody>\n",
              "\t<tr><td>1</td><td>5</td></tr>\n",
              "\t<tr><td>2</td><td>6</td></tr>\n",
              "\t<tr><td>3</td><td>7</td></tr>\n",
              "\t<tr><td>4</td><td>8</td></tr>\n",
              "</tbody>\n",
              "</table>\n"
            ],
            "text/markdown": "\nA matrix: 4 × 2 of type int\n\n| vec1 | vec2 |\n|---|---|\n| 1 | 5 |\n| 2 | 6 |\n| 3 | 7 |\n| 4 | 8 |\n\n",
            "text/latex": "A matrix: 4 × 2 of type int\n\\begin{tabular}{ll}\n vec1 & vec2\\\\\n\\hline\n\t 1 & 5\\\\\n\t 2 & 6\\\\\n\t 3 & 7\\\\\n\t 4 & 8\\\\\n\\end{tabular}\n",
            "text/plain": [
              "     vec1 vec2\n",
              "[1,] 1    5   \n",
              "[2,] 2    6   \n",
              "[3,] 3    7   \n",
              "[4,] 4    8   "
            ]
          },
          "metadata": {}
        }
      ]
    },
    {
      "cell_type": "markdown",
      "metadata": {
        "id": "36aafe5f-d912-44b2-a183-dd3dbe2b5c53"
      },
      "source": [
        "Alternatively, we can use the `rbind` function to create a matrix by\n",
        "combining the vectors row by row."
      ]
    },
    {
      "cell_type": "code",
      "execution_count": 9,
      "metadata": {
        "id": "225f9557",
        "colab": {
          "base_uri": "https://localhost:8080/"
        },
        "outputId": "2cecf661-ef21-46f5-eb2a-8687aaaed6a2"
      },
      "outputs": [
        {
          "output_type": "stream",
          "name": "stdout",
          "text": [
            "     [,1] [,2] [,3] [,4]\n",
            "vec1    1    2    3    4\n",
            "vec2    5    6    7    8\n"
          ]
        }
      ],
      "source": [
        "# row 1 is vec1 and row 2 is vec2\n",
        "rbind(vec1, vec2) |> print()"
      ]
    },
    {
      "cell_type": "markdown",
      "source": [
        "## <a name=\"dim\">Finding the Size of a Matrix\n",
        "\n",
        "---\n",
        "\n",
        "The `dim()` function returns a vector that gives the number of rows and columns of a matrix."
      ],
      "metadata": {
        "id": "yOYM5X51t393"
      }
    },
    {
      "cell_type": "code",
      "execution_count": 10,
      "metadata": {
        "id": "53454d44",
        "colab": {
          "base_uri": "https://localhost:8080/",
          "height": 34
        },
        "outputId": "2b0a1672-c109-4705-f5b0-ecd859e7582b"
      },
      "outputs": [
        {
          "output_type": "display_data",
          "data": {
            "text/html": [
              "<style>\n",
              ".list-inline {list-style: none; margin:0; padding: 0}\n",
              ".list-inline>li {display: inline-block}\n",
              ".list-inline>li:not(:last-child)::after {content: \"\\00b7\"; padding: 0 .5ex}\n",
              "</style>\n",
              "<ol class=list-inline><li>5</li><li>2</li></ol>\n"
            ],
            "text/markdown": "1. 5\n2. 2\n\n\n",
            "text/latex": "\\begin{enumerate*}\n\\item 5\n\\item 2\n\\end{enumerate*}\n",
            "text/plain": [
              "[1] 5 2"
            ]
          },
          "metadata": {}
        }
      ],
      "source": [
        "dim(A)  # a has 5 rows and 2 columns"
      ]
    },
    {
      "cell_type": "code",
      "source": [
        "dim(vec1)  # a vector is not a matrix"
      ],
      "metadata": {
        "colab": {
          "base_uri": "https://localhost:8080/",
          "height": 34
        },
        "id": "RS5pCbNNtLiC",
        "outputId": "f13fbb8e-29a2-4191-c4a6-6dc00030e895"
      },
      "execution_count": 11,
      "outputs": [
        {
          "output_type": "display_data",
          "data": {
            "text/plain": [
              "NULL"
            ]
          },
          "metadata": {}
        }
      ]
    },
    {
      "cell_type": "code",
      "source": [
        "# return number of rows, first element in dim(A)\n",
        "dim(A)[1]"
      ],
      "metadata": {
        "colab": {
          "base_uri": "https://localhost:8080/",
          "height": 34
        },
        "id": "5FtfOU8Itcan",
        "outputId": "02a92021-c1e8-4b4f-a5bf-cf79a982938f"
      },
      "execution_count": 12,
      "outputs": [
        {
          "output_type": "display_data",
          "data": {
            "text/html": [
              "5"
            ],
            "text/markdown": "5",
            "text/latex": "5",
            "text/plain": [
              "[1] 5"
            ]
          },
          "metadata": {}
        }
      ]
    },
    {
      "cell_type": "code",
      "source": [
        "# return number of columns, second element in dim(A)\n",
        "dim(A)[2]"
      ],
      "metadata": {
        "colab": {
          "base_uri": "https://localhost:8080/",
          "height": 34
        },
        "outputId": "1d087d11-f480-4e8a-a340-a3c1dba89bfb",
        "id": "LTh0XnxAtv8b"
      },
      "execution_count": 13,
      "outputs": [
        {
          "output_type": "display_data",
          "data": {
            "text/html": [
              "2"
            ],
            "text/markdown": "2",
            "text/latex": "2",
            "text/plain": [
              "[1] 2"
            ]
          },
          "metadata": {}
        }
      ]
    },
    {
      "cell_type": "markdown",
      "metadata": {
        "id": "282784d9-bba3-4593-906a-cbbca85a88a5"
      },
      "source": [
        "The `nrow` and `ncol` functions can be used to determine the number of\n",
        "rows and columns, respectively, in a `matrix` object."
      ]
    },
    {
      "cell_type": "code",
      "execution_count": 14,
      "metadata": {
        "id": "5ed83911",
        "colab": {
          "base_uri": "https://localhost:8080/",
          "height": 34
        },
        "outputId": "163d465d-acd0-4f8b-b194-db937b453399"
      },
      "outputs": [
        {
          "output_type": "display_data",
          "data": {
            "text/html": [
              "5"
            ],
            "text/markdown": "5",
            "text/latex": "5",
            "text/plain": [
              "[1] 5"
            ]
          },
          "metadata": {}
        }
      ],
      "source": [
        "nrow(A)  # same output as dim(A)[1]"
      ]
    },
    {
      "cell_type": "code",
      "execution_count": 15,
      "metadata": {
        "id": "86b41d9c",
        "colab": {
          "base_uri": "https://localhost:8080/",
          "height": 34
        },
        "outputId": "50dab994-d94f-48a8-b30a-044183ff2cfc"
      },
      "outputs": [
        {
          "output_type": "display_data",
          "data": {
            "text/html": [
              "2"
            ],
            "text/markdown": "2",
            "text/latex": "2",
            "text/plain": [
              "[1] 2"
            ]
          },
          "metadata": {}
        }
      ],
      "source": [
        "ncol(A)  # same output as dim(A)[2]"
      ]
    },
    {
      "cell_type": "markdown",
      "metadata": {
        "id": "821b72b8-0df2-4a05-90a2-46c94fdb694a"
      },
      "source": [
        "## <a name=\"square\">Square Matrices</a>\n",
        "\n",
        "---\n",
        "\n",
        "A matrix is <font color=\"dodgerblue\">**square**</font> if the number of rows equals the number of\n",
        "columns.\n",
        "\n",
        "- The <font color=\"dodgerblue\">**diagonal entries**</font> of an $n\\times n$ square matrix $\\mathbf{A}$\n",
        "are the elements $\\mathbf{A}_{i,i}$ for $i = 1, 2, \\ldots, n$.\n",
        "\n",
        "- Non-diagonal elements of $\\mathbf{A}$ are called off-diagonal elements.\n",
        "\n"
      ]
    },
    {
      "cell_type": "markdown",
      "source": [
        "## <a name=\"identity\">Identity Matrix</a>\n",
        "\n",
        "---\n",
        "\n",
        "The $n\\times n$ <font color=\"dodgerblue\">**identity matrix**</font>, $\\mathbf{I}_{n}$, is a\n",
        "matrix for which the diagonal elements are all 1 and the non-diagonal\n",
        "elements are all 0.\n",
        "\n",
        "-   Context often makes it clear what the dimensions of an identity matrix are, so the notation for $\\mathbf{I}_{n}$ is often simplified to $\\mathbf{I}$.\n",
        "\n",
        "The syntax `diag(n)` will create an $n\\times n$ identity matrix in R.\n",
        "\n",
        "We create a $3\\times 3$ identify matrix below."
      ],
      "metadata": {
        "id": "7424UB9mT7bi"
      }
    },
    {
      "cell_type": "code",
      "execution_count": 16,
      "metadata": {
        "id": "ba782802",
        "colab": {
          "base_uri": "https://localhost:8080/",
          "height": 163
        },
        "outputId": "c441ff6b-0e0a-463a-8222-a0ae6cd3f0dd"
      },
      "outputs": [
        {
          "output_type": "display_data",
          "data": {
            "text/html": [
              "<table class=\"dataframe\">\n",
              "<caption>A matrix: 3 × 3 of type dbl</caption>\n",
              "<tbody>\n",
              "\t<tr><td>1</td><td>0</td><td>0</td></tr>\n",
              "\t<tr><td>0</td><td>1</td><td>0</td></tr>\n",
              "\t<tr><td>0</td><td>0</td><td>1</td></tr>\n",
              "</tbody>\n",
              "</table>\n"
            ],
            "text/markdown": "\nA matrix: 3 × 3 of type dbl\n\n| 1 | 0 | 0 |\n| 0 | 1 | 0 |\n| 0 | 0 | 1 |\n\n",
            "text/latex": "A matrix: 3 × 3 of type dbl\n\\begin{tabular}{lll}\n\t 1 & 0 & 0\\\\\n\t 0 & 1 & 0\\\\\n\t 0 & 0 & 1\\\\\n\\end{tabular}\n",
            "text/plain": [
              "     [,1] [,2] [,3]\n",
              "[1,] 1    0    0   \n",
              "[2,] 0    1    0   \n",
              "[3,] 0    0    1   "
            ]
          },
          "metadata": {}
        }
      ],
      "source": [
        "# creating the 3 x 3 identify matrix\n",
        "diag(3)"
      ]
    },
    {
      "cell_type": "markdown",
      "metadata": {
        "id": "04788826-8fdc-4415-8fa2-6e22721e1b06"
      },
      "source": [
        "# <a name=\"subset-mat\">Indexing and Subsetting a Matrix</a>\n",
        "\n",
        "---\n",
        "\n",
        "\n",
        "If `A` is a matrix, then we can select the subset of `A` using the\n",
        "syntax `A[r, c]`, where `r` and `c` are `numeric` vectors indicating the indices of the desired rows and columns, respectively, that we want to select.\n",
        "\n",
        "To subset a matrix, we can use the same index syntax as with data frames:\n",
        "\n",
        "-   If we don't supply a vector of indices for the row or column, then all rows or all columns will be returned.\n",
        "-   We can use the `-` notation to select all but the specified rows or columns. T\n",
        "-   If we select a single row or column, then the subsetted object will simplify to a `vector` object instead of a `matrix`.\n",
        "\n",
        "\n",
        "This is easiest to understand by walking through a set of examples.\n"
      ]
    },
    {
      "cell_type": "markdown",
      "source": [
        "## <a name=\"quest2\">Question 2</a>\n",
        "\n",
        "---\n",
        "\n",
        "Use the code cell below to enter the matrix\n",
        "\n",
        "$$\\mathbf{B} = \\begin{bmatrix} 1 & 5 & 9 \\\\ 2 & 6 & 10 \\\\ 3 & 7 & 11 \\\\ 4 & 8 & 12 \\end{bmatrix}.$$\n",
        "\n",
        "Then answer the questions that follow."
      ],
      "metadata": {
        "id": "7kODgS06v9IV"
      }
    },
    {
      "cell_type": "code",
      "execution_count": 17,
      "metadata": {
        "id": "2ebe94ad",
        "colab": {
          "base_uri": "https://localhost:8080/"
        },
        "outputId": "236df269-36d9-4656-973c-e8f2d8346290"
      },
      "outputs": [
        {
          "output_type": "stream",
          "name": "stdout",
          "text": [
            "     [,1] [,2] [,3]\n",
            "[1,]    1    5    9\n",
            "[2,]    2    6   10\n",
            "[3,]    3    7   11\n",
            "[4,]    4    8   12\n"
          ]
        }
      ],
      "source": [
        "# enter matrix B\n",
        "B <-  matrix(1:12, ncol = 3)\n",
        "print(B)"
      ]
    },
    {
      "cell_type": "markdown",
      "metadata": {
        "id": "69d219bc-cbc3-46ae-956d-11b986d919a2"
      },
      "source": [
        "### <a name=\"quest2a\">Question 2a</a>\n",
        "\n",
        "---\n",
        "\n",
        "Select columns 2 and 3 of `B`."
      ]
    },
    {
      "cell_type": "code",
      "execution_count": null,
      "metadata": {
        "id": "248fd795"
      },
      "outputs": [],
      "source": []
    },
    {
      "cell_type": "markdown",
      "metadata": {
        "id": "19df05ba-c4d2-4052-92a3-6df7d934830f"
      },
      "source": [
        "### <a name=\"quest2b\">Question 2b</a>\n",
        "\n",
        "---\n",
        "\n",
        "Select rows 1 and 4 of `B`."
      ]
    },
    {
      "cell_type": "code",
      "execution_count": null,
      "metadata": {
        "id": "e1979290"
      },
      "outputs": [],
      "source": []
    },
    {
      "cell_type": "markdown",
      "metadata": {
        "id": "9df06a7c-c46c-457b-86cf-46245c81bd8d"
      },
      "source": [
        "### <a name=\"quest2c\">Question 2c</a>\n",
        "\n",
        "---\n",
        "\n",
        "\n",
        "Select columns 2 and 3 of rows 1 and 4 of `B`."
      ]
    },
    {
      "cell_type": "code",
      "execution_count": null,
      "metadata": {
        "id": "a52ee419"
      },
      "outputs": [],
      "source": []
    },
    {
      "cell_type": "markdown",
      "metadata": {
        "id": "9498f3ef-e30e-4437-acc9-f0a910018d46"
      },
      "source": [
        "### <a name=\"quest2d\">Question 2d</a>\n",
        "\n",
        "---\n",
        "\n",
        "Select all columns of `B` except the third."
      ]
    },
    {
      "cell_type": "code",
      "execution_count": null,
      "metadata": {
        "id": "063c5bc9"
      },
      "outputs": [],
      "source": []
    },
    {
      "cell_type": "markdown",
      "metadata": {
        "id": "f229aaed-499c-404d-92ab-e732e6bb5634"
      },
      "source": [
        "### <a name=\"quest2e\">Question 2e</a>\n",
        "\n",
        "---\n",
        "\n",
        "Create a vector by selecting the second row of `B`."
      ]
    },
    {
      "cell_type": "code",
      "execution_count": null,
      "metadata": {
        "id": "5daa0035"
      },
      "outputs": [],
      "source": []
    },
    {
      "cell_type": "markdown",
      "metadata": {
        "id": "8e083e73-0697-4912-9ea8-d264d994a52a"
      },
      "source": [
        "### <a name=\"quest2f\">Question 2f</a>\n",
        "\n",
        "---\n",
        "\n",
        "Create a vector by selecting the second column of `B`."
      ]
    },
    {
      "cell_type": "code",
      "execution_count": null,
      "metadata": {
        "id": "4eadf436"
      },
      "outputs": [],
      "source": []
    },
    {
      "cell_type": "markdown",
      "metadata": {
        "id": "c79e13d3-2bc8-4470-b1fe-6e405158d28f"
      },
      "source": [
        "## <a name=\"quest2g\">Using the `drop` Argument</a>\n",
        "\n",
        "---\n",
        "\n",
        "If we want to retain the `matrix` structure of `B` when we select a\n",
        "single row or column, then we set the optional `drop` argument to\n",
        "`FALSE` after the column argument.\n",
        "\n",
        "- This to signifies we do NOT want to drop the matrix structure when creating the output.\n",
        "- By default, indexing uses `drop = TRUE` when no `drop` argument is specified."
      ]
    },
    {
      "cell_type": "code",
      "execution_count": 18,
      "metadata": {
        "id": "1f35d14c",
        "colab": {
          "base_uri": "https://localhost:8080/",
          "height": 100
        },
        "outputId": "a9bb7c36-ede6-41c6-86ca-19656b284b8a"
      },
      "outputs": [
        {
          "output_type": "display_data",
          "data": {
            "text/html": [
              "<table class=\"dataframe\">\n",
              "<caption>A matrix: 1 × 3 of type int</caption>\n",
              "<tbody>\n",
              "\t<tr><td>2</td><td>6</td><td>10</td></tr>\n",
              "</tbody>\n",
              "</table>\n"
            ],
            "text/markdown": "\nA matrix: 1 × 3 of type int\n\n| 2 | 6 | 10 |\n\n",
            "text/latex": "A matrix: 1 × 3 of type int\n\\begin{tabular}{lll}\n\t 2 & 6 & 10\\\\\n\\end{tabular}\n",
            "text/plain": [
              "     [,1] [,2] [,3]\n",
              "[1,] 2    6    10  "
            ]
          },
          "metadata": {}
        }
      ],
      "source": [
        "B[2, , drop = FALSE]  # stores row 2 as a row vector with dim 1 times 3"
      ]
    },
    {
      "cell_type": "code",
      "execution_count": 19,
      "metadata": {
        "id": "ea5e6ff7",
        "colab": {
          "base_uri": "https://localhost:8080/",
          "height": 247
        },
        "outputId": "28db272c-1a62-4461-891f-d75f4b687536"
      },
      "outputs": [
        {
          "output_type": "display_data",
          "data": {
            "text/html": [
              "<table class=\"dataframe\">\n",
              "<caption>A matrix: 4 × 1 of type int</caption>\n",
              "<tbody>\n",
              "\t<tr><td>5</td></tr>\n",
              "\t<tr><td>6</td></tr>\n",
              "\t<tr><td>7</td></tr>\n",
              "\t<tr><td>8</td></tr>\n",
              "</tbody>\n",
              "</table>\n"
            ],
            "text/markdown": "\nA matrix: 4 × 1 of type int\n\n| 5 |\n| 6 |\n| 7 |\n| 8 |\n\n",
            "text/latex": "A matrix: 4 × 1 of type int\n\\begin{tabular}{l}\n\t 5\\\\\n\t 6\\\\\n\t 7\\\\\n\t 8\\\\\n\\end{tabular}\n",
            "text/plain": [
              "     [,1]\n",
              "[1,] 5   \n",
              "[2,] 6   \n",
              "[3,] 7   \n",
              "[4,] 8   "
            ]
          },
          "metadata": {}
        }
      ],
      "source": [
        "B[, 2, drop = FALSE]  # stores column 2 as a column vector with dim 4 times 1"
      ]
    },
    {
      "cell_type": "markdown",
      "metadata": {
        "id": "465af854-745e-47a5-96bc-2e065f2e8eeb"
      },
      "source": [
        "## <a name=\"extract-ele\">Extracting Elements of a Matrix</a>\n",
        "\n",
        "---\n",
        "\n",
        "If we want to extract specific elements of a `matrix` object, then we can use a `matrix` indicating the elements we want to extract inside square brackets `[ ]`.\n",
        "\n",
        "Let’s say we want to extract the elements in positions $(1, 2)$,\n",
        "$(3, 1)$, and $(4, 3)$. We create a matrix describing those positions.\n",
        "\n",
        "- Each row of the matrix describes an element we want to extract.\n",
        "- Column 1 gives the row index of each element.\n",
        "- Column 2 gives the column index of each element."
      ]
    },
    {
      "cell_type": "code",
      "execution_count": 20,
      "metadata": {
        "id": "83142804",
        "colab": {
          "base_uri": "https://localhost:8080/",
          "height": 198
        },
        "outputId": "60394fe7-dfbb-4dbb-a931-8953eb2162e8"
      },
      "outputs": [
        {
          "output_type": "display_data",
          "data": {
            "text/html": [
              "<table class=\"dataframe\">\n",
              "<caption>A matrix: 3 × 2 of type dbl</caption>\n",
              "<tbody>\n",
              "\t<tr><td>1</td><td>2</td></tr>\n",
              "\t<tr><td>3</td><td>1</td></tr>\n",
              "\t<tr><td>4</td><td>3</td></tr>\n",
              "</tbody>\n",
              "</table>\n"
            ],
            "text/markdown": "\nA matrix: 3 × 2 of type dbl\n\n| 1 | 2 |\n| 3 | 1 |\n| 4 | 3 |\n\n",
            "text/latex": "A matrix: 3 × 2 of type dbl\n\\begin{tabular}{ll}\n\t 1 & 2\\\\\n\t 3 & 1\\\\\n\t 4 & 3\\\\\n\\end{tabular}\n",
            "text/plain": [
              "     [,1] [,2]\n",
              "[1,] 1    2   \n",
              "[2,] 3    1   \n",
              "[3,] 4    3   "
            ]
          },
          "metadata": {}
        }
      ],
      "source": [
        "pos <- cbind(c(1, 3, 4),  # row index of each element\n",
        "             c(2, 1, 3))  # corresponding column index of each element\n",
        "pos"
      ]
    },
    {
      "cell_type": "markdown",
      "metadata": {
        "id": "56c4cb93-70ea-41b2-bf09-cd94fecd2d04"
      },
      "source": [
        "We use `pos` to extract those elements from `B`. Note the elements in the output are stored in a vector."
      ]
    },
    {
      "cell_type": "code",
      "execution_count": 21,
      "metadata": {
        "id": "88f91bb4",
        "colab": {
          "base_uri": "https://localhost:8080/",
          "height": 34
        },
        "outputId": "ccb826ef-43d6-4866-96d6-8748a0eaa9e0"
      },
      "outputs": [
        {
          "output_type": "display_data",
          "data": {
            "text/html": [
              "<style>\n",
              ".list-inline {list-style: none; margin:0; padding: 0}\n",
              ".list-inline>li {display: inline-block}\n",
              ".list-inline>li:not(:last-child)::after {content: \"\\00b7\"; padding: 0 .5ex}\n",
              "</style>\n",
              "<ol class=list-inline><li>5</li><li>3</li><li>12</li></ol>\n"
            ],
            "text/markdown": "1. 5\n2. 3\n3. 12\n\n\n",
            "text/latex": "\\begin{enumerate*}\n\\item 5\n\\item 3\n\\item 12\n\\end{enumerate*}\n",
            "text/plain": [
              "[1]  5  3 12"
            ]
          },
          "metadata": {}
        }
      ],
      "source": [
        "B[pos]"
      ]
    },
    {
      "cell_type": "markdown",
      "metadata": {
        "id": "fb6b7316-f48a-44ab-a45f-ac2fce16cb5e"
      },
      "source": [
        "# <a name=\"operations\">Matrix Operations</a>\n",
        "\n",
        "---\n",
        "\n",
        "As with numbers (scalars), we can define operations such as addition and multiplication of two matrices.\n",
        "\n",
        "\n",
        "## <a name=\"add\">Addition and Subtraction</a>\n",
        "\n",
        "---\n",
        "\n",
        "We can add or subtract the elements of two matrices **as long as they have the same size**.\n",
        "\n",
        "We create two $2 \\times 3$ matrices below."
      ]
    },
    {
      "cell_type": "code",
      "execution_count": 22,
      "metadata": {
        "id": "898baecf",
        "colab": {
          "base_uri": "https://localhost:8080/",
          "height": 132
        },
        "outputId": "f134c81f-ea93-4a8f-f118-e35c685deb42"
      },
      "outputs": [
        {
          "output_type": "display_data",
          "data": {
            "text/html": [
              "<table class=\"dataframe\">\n",
              "<caption>A matrix: 2 × 3 of type int</caption>\n",
              "<tbody>\n",
              "\t<tr><td>1</td><td>2</td><td>3</td></tr>\n",
              "\t<tr><td>4</td><td>5</td><td>6</td></tr>\n",
              "</tbody>\n",
              "</table>\n"
            ],
            "text/markdown": "\nA matrix: 2 × 3 of type int\n\n| 1 | 2 | 3 |\n| 4 | 5 | 6 |\n\n",
            "text/latex": "A matrix: 2 × 3 of type int\n\\begin{tabular}{lll}\n\t 1 & 2 & 3\\\\\n\t 4 & 5 & 6\\\\\n\\end{tabular}\n",
            "text/plain": [
              "     [,1] [,2] [,3]\n",
              "[1,] 1    2    3   \n",
              "[2,] 4    5    6   "
            ]
          },
          "metadata": {}
        }
      ],
      "source": [
        "A <- matrix(1:6, nrow = 2, ncol = 3, byrow = TRUE)\n",
        "A"
      ]
    },
    {
      "cell_type": "code",
      "execution_count": 23,
      "metadata": {
        "id": "efc4a044",
        "colab": {
          "base_uri": "https://localhost:8080/",
          "height": 132
        },
        "outputId": "a4893db7-605c-4e66-d2bb-b0939d609031"
      },
      "outputs": [
        {
          "output_type": "display_data",
          "data": {
            "text/html": [
              "<table class=\"dataframe\">\n",
              "<caption>A matrix: 2 × 3 of type dbl</caption>\n",
              "<tbody>\n",
              "\t<tr><td>2</td><td>9</td><td>1</td></tr>\n",
              "\t<tr><td>1</td><td>3</td><td>1</td></tr>\n",
              "</tbody>\n",
              "</table>\n"
            ],
            "text/markdown": "\nA matrix: 2 × 3 of type dbl\n\n| 2 | 9 | 1 |\n| 1 | 3 | 1 |\n\n",
            "text/latex": "A matrix: 2 × 3 of type dbl\n\\begin{tabular}{lll}\n\t 2 & 9 & 1\\\\\n\t 1 & 3 & 1\\\\\n\\end{tabular}\n",
            "text/plain": [
              "     [,1] [,2] [,3]\n",
              "[1,] 2    9    1   \n",
              "[2,] 1    3    1   "
            ]
          },
          "metadata": {}
        }
      ],
      "source": [
        "B <- matrix(c(2, 1, 9, 3, 1, 1), nrow = 2, ncol = 3)\n",
        "B"
      ]
    },
    {
      "cell_type": "markdown",
      "metadata": {
        "id": "11bf0ee2-0db2-4171-aa64-94ef73937f82"
      },
      "source": [
        "We can add the two matrices below using the `+` operator. The result is\n",
        "simply the sum of the values in the same position of the matrices."
      ]
    },
    {
      "cell_type": "code",
      "execution_count": 24,
      "metadata": {
        "id": "288e81a9",
        "colab": {
          "base_uri": "https://localhost:8080/",
          "height": 132
        },
        "outputId": "3b9e7aff-9af5-425c-fe3e-44c309072b6c"
      },
      "outputs": [
        {
          "output_type": "display_data",
          "data": {
            "text/html": [
              "<table class=\"dataframe\">\n",
              "<caption>A matrix: 2 × 3 of type dbl</caption>\n",
              "<tbody>\n",
              "\t<tr><td>3</td><td>11</td><td>4</td></tr>\n",
              "\t<tr><td>5</td><td> 8</td><td>7</td></tr>\n",
              "</tbody>\n",
              "</table>\n"
            ],
            "text/markdown": "\nA matrix: 2 × 3 of type dbl\n\n| 3 | 11 | 4 |\n| 5 |  8 | 7 |\n\n",
            "text/latex": "A matrix: 2 × 3 of type dbl\n\\begin{tabular}{lll}\n\t 3 & 11 & 4\\\\\n\t 5 &  8 & 7\\\\\n\\end{tabular}\n",
            "text/plain": [
              "     [,1] [,2] [,3]\n",
              "[1,] 3    11   4   \n",
              "[2,] 5     8   7   "
            ]
          },
          "metadata": {}
        }
      ],
      "source": [
        "A + B"
      ]
    },
    {
      "cell_type": "code",
      "execution_count": 25,
      "metadata": {
        "id": "5fe41db2",
        "colab": {
          "base_uri": "https://localhost:8080/",
          "height": 132
        },
        "outputId": "fc7e828b-274f-4fac-805a-9df3b07644d5"
      },
      "outputs": [
        {
          "output_type": "display_data",
          "data": {
            "text/html": [
              "<table class=\"dataframe\">\n",
              "<caption>A matrix: 2 × 3 of type dbl</caption>\n",
              "<tbody>\n",
              "\t<tr><td>-1</td><td>-7</td><td>2</td></tr>\n",
              "\t<tr><td> 3</td><td> 2</td><td>5</td></tr>\n",
              "</tbody>\n",
              "</table>\n"
            ],
            "text/markdown": "\nA matrix: 2 × 3 of type dbl\n\n| -1 | -7 | 2 |\n|  3 |  2 | 5 |\n\n",
            "text/latex": "A matrix: 2 × 3 of type dbl\n\\begin{tabular}{lll}\n\t -1 & -7 & 2\\\\\n\t  3 &  2 & 5\\\\\n\\end{tabular}\n",
            "text/plain": [
              "     [,1] [,2] [,3]\n",
              "[1,] -1   -7   2   \n",
              "[2,]  3    2   5   "
            ]
          },
          "metadata": {}
        }
      ],
      "source": [
        "# subtraction works in the same way\n",
        "A - B"
      ]
    },
    {
      "cell_type": "code",
      "source": [
        "# creating a different sized matrix\n",
        "C <- matrix(1:12, nrow = 3, ncol = 4)\n",
        "C"
      ],
      "metadata": {
        "colab": {
          "base_uri": "https://localhost:8080/",
          "height": 146
        },
        "id": "amO9namh1Qml",
        "outputId": "99ad04ef-1ab2-4171-e632-ea018ba02bc6"
      },
      "execution_count": 26,
      "outputs": [
        {
          "output_type": "display_data",
          "data": {
            "text/html": [
              "<table class=\"dataframe\">\n",
              "<caption>A matrix: 3 × 4 of type int</caption>\n",
              "<tbody>\n",
              "\t<tr><td>1</td><td>4</td><td>7</td><td>10</td></tr>\n",
              "\t<tr><td>2</td><td>5</td><td>8</td><td>11</td></tr>\n",
              "\t<tr><td>3</td><td>6</td><td>9</td><td>12</td></tr>\n",
              "</tbody>\n",
              "</table>\n"
            ],
            "text/markdown": "\nA matrix: 3 × 4 of type int\n\n| 1 | 4 | 7 | 10 |\n| 2 | 5 | 8 | 11 |\n| 3 | 6 | 9 | 12 |\n\n",
            "text/latex": "A matrix: 3 × 4 of type int\n\\begin{tabular}{llll}\n\t 1 & 4 & 7 & 10\\\\\n\t 2 & 5 & 8 & 11\\\\\n\t 3 & 6 & 9 & 12\\\\\n\\end{tabular}\n",
            "text/plain": [
              "     [,1] [,2] [,3] [,4]\n",
              "[1,] 1    4    7    10  \n",
              "[2,] 2    5    8    11  \n",
              "[3,] 3    6    9    12  "
            ]
          },
          "metadata": {}
        }
      ]
    },
    {
      "cell_type": "code",
      "source": [
        "# we cannot add matrices with different sizes\n",
        "A + C"
      ],
      "metadata": {
        "colab": {
          "base_uri": "https://localhost:8080/",
          "height": 72
        },
        "id": "k0JGVhod1dsd",
        "outputId": "8290528c-6175-488e-eb51-69287675358b"
      },
      "execution_count": 27,
      "outputs": [
        {
          "output_type": "error",
          "ename": "ERROR",
          "evalue": "Error in A + C: non-conformable arrays\n",
          "traceback": [
            "Error in A + C: non-conformable arrays\nTraceback:\n"
          ]
        }
      ]
    },
    {
      "cell_type": "markdown",
      "metadata": {
        "id": "10bab95e-aa30-4f00-9261-9a3925779ea7"
      },
      "source": [
        "## <a name=\"scalar-matrix-mult\">Multiplying a Matrix by a Scalar</a>\n",
        "\n",
        "---\n",
        "\n",
        "A <font color=\"dodgerblue\">**scalar**</font> is a number. For example $2$, $-5$, and $\\sqrt{17}$ are all scalar values. We define multiplication of a matrix $\\mathbf{A}$ by a scalar value $c \\in\\mathbb{R}$ as multiplying each element in $\\mathbf{A}$ by $c$.\n",
        "\n",
        "To perform scalar multiplication in R, we simply use the `*` operator to multiply the matrix by the scalar value.\n"
      ]
    },
    {
      "cell_type": "markdown",
      "source": [
        "## <a name=\"quest3\">Question 3</a>\n",
        "\n",
        "---\n",
        "\n",
        "Run the first code cell below to create matrix $\\mathbf{A}$. Without using R, determine the elements of matrix $2\\mathbf{A}$. Then run the second code cell to check your answer.\n"
      ],
      "metadata": {
        "id": "S48vflwr32PF"
      }
    },
    {
      "cell_type": "code",
      "execution_count": 28,
      "metadata": {
        "colab": {
          "base_uri": "https://localhost:8080/",
          "height": 132
        },
        "outputId": "cbae46c3-29c8-4385-b609-310375b3553c",
        "id": "mPgcPHJi4Yhf"
      },
      "outputs": [
        {
          "output_type": "display_data",
          "data": {
            "text/html": [
              "<table class=\"dataframe\">\n",
              "<caption>A matrix: 2 × 3 of type int</caption>\n",
              "<tbody>\n",
              "\t<tr><td>1</td><td>2</td><td>3</td></tr>\n",
              "\t<tr><td>4</td><td>5</td><td>6</td></tr>\n",
              "</tbody>\n",
              "</table>\n"
            ],
            "text/markdown": "\nA matrix: 2 × 3 of type int\n\n| 1 | 2 | 3 |\n| 4 | 5 | 6 |\n\n",
            "text/latex": "A matrix: 2 × 3 of type int\n\\begin{tabular}{lll}\n\t 1 & 2 & 3\\\\\n\t 4 & 5 & 6\\\\\n\\end{tabular}\n",
            "text/plain": [
              "     [,1] [,2] [,3]\n",
              "[1,] 1    2    3   \n",
              "[2,] 4    5    6   "
            ]
          },
          "metadata": {}
        }
      ],
      "source": [
        "A <- matrix(1:6, nrow = 2, ncol = 3, byrow = TRUE)\n",
        "A"
      ]
    },
    {
      "cell_type": "markdown",
      "source": [
        "### <a name=\"sol3\">Solution to Question 3</a>\n",
        "\n",
        "\n",
        "---\n",
        "\n",
        "We have\n",
        "\n",
        "$$2 \\mathbf{A} = \\begin{bmatrix}\n",
        "?? & ?? & ?? \\\\\n",
        "?? & ?? & ??\n",
        "\\end{bmatrix}.$$\n"
      ],
      "metadata": {
        "id": "tJ3DMp3E4ZL_"
      }
    },
    {
      "cell_type": "code",
      "execution_count": null,
      "metadata": {
        "id": "c859bd3d"
      },
      "outputs": [],
      "source": [
        "# run to check your work\n"
      ]
    },
    {
      "cell_type": "markdown",
      "metadata": {
        "id": "b95d92f0-0d27-4c50-a8d5-6ba040ca8d51"
      },
      "source": [
        "## <a name=\"matrix-mult\">Matrix Multiplication</a>\n",
        "\n",
        "---\n",
        "\n",
        "\n",
        "Consider the two matrices\n",
        "\n",
        "$$\n",
        "\\mathbf{A} = \\begin{bmatrix}\n",
        "1 & 2 & 3 \\\\\n",
        "4 & 5 & 6\n",
        "\\end{bmatrix} \\quad \\text{and} \\quad\n",
        "\\mathbf{B} = \\begin{bmatrix}\n",
        "1 & 4\\\\\n",
        "2 & 5\\\\\n",
        "3 & 6\n",
        "\\end{bmatrix}$$\n",
        "\n",
        "We define the product of $\\mathbf{A}$ and $\\mathbf{B}$ in less intuitive way.\n",
        "\n",
        "- The element in row 1 and column 1 of $AB$ is the sum of the product of elements in row 1 of matrix $\\mathbf{A}$ and column 1 of $\\mathbf{B}$.\n",
        "  - Row 1 of $\\mathbf{A}$ is $\\lbrack 1, 2, 3 \\rbrack$.\n",
        "  - Column 1 of $\\mathbf{B}$ is $\\lbrack 1, 2, 3 \\rbrack$.\n",
        "\n",
        "$$(\\mathbf{AB})_{1,1} = 1\\cdot 1 +  2 \\cdot 2 + 3 \\cdot 3 = 14$$\n",
        "\n",
        "\n",
        "- The element in row 1 and column 2 of $AB$ is the sum of the product of elements in row 1 of matrix $\\mathbf{A}$ and column 2 of $\\mathbf{B}$.\n",
        "  - Row 1 of $\\mathbf{A}$ is $\\lbrack 1, 2, 3 \\rbrack$.\n",
        "  - Column 2 of $\\mathbf{B}$ is $\\lbrack 4, 5, 6 \\rbrack$.\n",
        "\n",
        "$$(\\mathbf{AB})_{1,2} = 1\\cdot 4 +  2 \\cdot 5 + 3 \\cdot 6 = 32$$\n",
        "\n",
        "- In general, $(\\mathbf{AB})_{i,j}$ is the sum of the product of entries in row $i$ of $\\mathbf{A}$ and column $j$ of $\\mathbf{B}$.\n",
        "\n",
        "\n",
        "\n",
        "$$\n",
        "AB=\\begin{bmatrix}\n",
        "1 & 2 & 3 \\\\\n",
        "4 & 5 & 6\n",
        "\\end{bmatrix}\n",
        "\\begin{bmatrix}\n",
        "1 & 4\\\\\n",
        "2 & 5\\\\\n",
        "3 & 6\n",
        "\\end{bmatrix} =\n",
        "\\begin{bmatrix}\n",
        "1\\cdot 1 +  2 \\cdot 2 + 3 \\cdot 3 & 1 \\cdot 4 + 2 \\cdot 5 + 3 \\cdot 6\\\\\n",
        "4\\cdot 1 +  5 \\cdot 2 + 6 \\cdot 3 & 4 \\cdot 4 + 5 \\cdot 5 + 6 \\cdot 6\\\\\n",
        "\\end{bmatrix} =\n",
        "\\begin{bmatrix}\n",
        "14 & 32\\\\\n",
        "32 & 77\\\\\n",
        "\\end{bmatrix}.\n",
        "$$\n",
        "\n",
        "- The result of multiplying a ${\\color{tomato}{2}} \\times {\\color{dodgerblue}{3}}$ matrix $\\mathbf{A}$ and a ${\\color{dodgerblue}{3}} \\times {\\color{green}{2}}$ matrix $\\mathbf{B}$ results in a ${\\color{tomato}{2}} \\times {\\color{green}{2}}$ matrix $AB$.\n",
        "\n",
        "More generally, let $\\mathbf{A}$ be a ${\\color{tomato}{m}} \\times {\\color{dodgerblue}{n}}$ matrix and $\\mathbf{B}$ an\n",
        "${\\color{dodgerblue}{n}} \\times {\\color{green}{p}}$ matrix. The product $\\mathbf{AB}$ will be an ${\\color{tomato}{m}} \\times {\\color{green}{p}}$ matrix. To compute the value of $(\\mathbf{AB})_{i,j}$, we take the sum of the product of entries in row $i$ of $\\mathbf{A}$ and column $j$ of $\\mathbf{B}$. We can express this using summation notation as\n",
        "\n",
        "$$\n",
        "(\\mathbf{AB})_{i,j} = \\sum_{k=1}^{n} \\mathbf{A}_{i,k}\\mathbf{B}_{k,j}.\n",
        "$$\n",
        "\n",
        "- **The matrix product\n",
        "$\\mathbf{AB}$ is only defined if the number of columns in $\\mathbf{A}$\n",
        "matches the number of rows in $\\mathbf{B}$.**\n",
        "\n"
      ]
    },
    {
      "cell_type": "markdown",
      "source": [
        "### <a name=\"matrix-mult-r\">Matrix Multiplication in R</a>\n",
        "\n",
        "---\n",
        "\n",
        "We multiply two matrices of the correct size using the `%*%` operator.\n",
        "\n",
        "\n",
        "- Do **NOT** use `*` to perform matrix multiplication (more on that later).\n"
      ],
      "metadata": {
        "id": "VfrZWezmAhm5"
      }
    },
    {
      "cell_type": "markdown",
      "source": [
        "## <a name=\"quest4\">Question 4</a>\n",
        "\n",
        "---\n",
        "\n",
        "Consider the three matrices\n",
        "\n",
        "$$\\mathbf{A} = \\begin{bmatrix}\n",
        "1 & 2 & 3 \\\\\n",
        "4 & 5 & 6\n",
        "\\end{bmatrix}, \\quad \\mathbf{B} = \\begin{bmatrix}\n",
        "1 & 4 & 7 & 10 & 13 \\\\\n",
        "2 & 5 & 8 & 11 & 14 \\\\\n",
        "3 & 6 & 9 & 12 & 15 \\end{bmatrix} \\quad\n",
        "\\text{and} \\quad \\mathbf{C} = \\begin{bmatrix}\n",
        "2 & 3 & 4 \\\\\n",
        "5 & 6 & 7 \\end{bmatrix}.$$"
      ],
      "metadata": {
        "id": "goUKhuREBJ87"
      }
    },
    {
      "cell_type": "markdown",
      "source": [
        "### <a name=\"quest4a\">Question 4a</a>\n",
        "\n",
        "---\n",
        "\n",
        "Use code cells below to store the matrices $\\mathbf{A}$, $\\mathbf{B}$, and $\\mathbf{C}$ to matrix objects `A`, `B`, and `C`, respectively.\n"
      ],
      "metadata": {
        "id": "Jl0hn_G1CMEA"
      }
    },
    {
      "cell_type": "code",
      "execution_count": 29,
      "metadata": {
        "id": "e25f2e64"
      },
      "outputs": [],
      "source": [
        "# enter matrix A\n"
      ]
    },
    {
      "cell_type": "code",
      "execution_count": null,
      "metadata": {
        "id": "b50ef706"
      },
      "outputs": [],
      "source": [
        "# enter matrix B\n"
      ]
    },
    {
      "cell_type": "code",
      "source": [
        "# enter matrix C\n"
      ],
      "metadata": {
        "id": "yjbYrAuoA310"
      },
      "execution_count": null,
      "outputs": []
    },
    {
      "cell_type": "markdown",
      "source": [
        "### <a name=\"quest4b\">Question 4b</a>\n",
        "\n",
        "---\n",
        "\n",
        "Is it possible to compute the product $\\mathbf{AB}$? If yes, give the dimensions of $\\mathbf{AB}$. If not, explain why not. Then check your answer by entering code to compute the product $\\mathbf{AB}$.\n"
      ],
      "metadata": {
        "id": "ICs1bYMHCVeQ"
      }
    },
    {
      "cell_type": "markdown",
      "source": [
        "#### <a name=\"sol4b\">Solution to Question 4b</a>\n",
        "\n",
        "---\n",
        "\n",
        "\n",
        "<br>  \n",
        "<br>"
      ],
      "metadata": {
        "id": "HfxoO--ZzMCw"
      }
    },
    {
      "cell_type": "code",
      "execution_count": null,
      "metadata": {
        "id": "d6f016c8"
      },
      "outputs": [],
      "source": [
        "# check your answer\n"
      ]
    },
    {
      "cell_type": "markdown",
      "source": [
        "### <a name=\"quest4c\">Question 4c</a>\n",
        "\n",
        "---\n",
        "\n",
        "Is it possible to compute the product $\\mathbf{AC}$? If yes, give the dimensions of $\\mathbf{AC}$. If not, explain why not. Then check your answer by entering code to compute the product $\\mathbf{AC}$.\n"
      ],
      "metadata": {
        "id": "xeKNK-uyCbIj"
      }
    },
    {
      "cell_type": "markdown",
      "source": [
        "#### <a name=\"sol4c\">Solution to Question 4c</a>\n",
        "\n",
        "---\n",
        "\n",
        "\n",
        "<br>  \n",
        "<br>\n"
      ],
      "metadata": {
        "id": "M68IxeKazfjn"
      }
    },
    {
      "cell_type": "code",
      "execution_count": null,
      "metadata": {
        "id": "EAOWVRl8FnTz"
      },
      "outputs": [],
      "source": [
        "# check your answer\n"
      ]
    },
    {
      "cell_type": "markdown",
      "source": [
        "### <a name=\"quest4d\">Question 4d</a>\n",
        "\n",
        "---\n",
        "\n",
        "Is it possible to compute the product $\\mathbf{BA}$? If yes, give the dimensions of $\\mathbf{BA}$. If not, explain why not. Then check your answer by entering code to compute the product $\\mathbf{BA}$.\n"
      ],
      "metadata": {
        "id": "n1qfqFgdD_Ty"
      }
    },
    {
      "cell_type": "markdown",
      "source": [
        "#### <a name=\"sol4d\">Solution to Question 4d</a>\n",
        "\n",
        "---\n",
        "\n",
        "\n",
        "<br>  \n",
        "<br>\n"
      ],
      "metadata": {
        "id": "AzLopoKl1TQa"
      }
    },
    {
      "cell_type": "code",
      "execution_count": null,
      "metadata": {
        "id": "5zUEqHphFoc7"
      },
      "outputs": [],
      "source": [
        "# check your answer\n"
      ]
    },
    {
      "cell_type": "markdown",
      "source": [
        "### <a name=\"quest4e\">Question 4e</a>\n",
        "\n",
        "---\n",
        "\n",
        "Run the code cell below to execute the command `A * C`. Explain what calculations have been applied to obtain the output.\n",
        "\n",
        "- <font color=\"tomato\">**Note: This is NOT how matrix multiplication is defined!**</font>\n",
        "- Always use `%*%` for matrix multiplication.\n"
      ],
      "metadata": {
        "id": "D4OMEmjoET3i"
      }
    },
    {
      "cell_type": "code",
      "execution_count": null,
      "metadata": {
        "id": "h7Vxyw5jFs0Y"
      },
      "outputs": [],
      "source": [
        "# this is NOT how to perform matrix multiplication\n",
        "A * C"
      ]
    },
    {
      "cell_type": "markdown",
      "source": [
        "#### <a name=\"sol4e\">Solution to Question 4e</a>\n",
        "\n",
        "---\n",
        "\n",
        "\n",
        "<br>  \n",
        "<br>\n"
      ],
      "metadata": {
        "id": "McxMJFz81jNZ"
      }
    },
    {
      "cell_type": "markdown",
      "metadata": {
        "id": "ebe51f28-c919-4009-9409-7a93e4f68c14"
      },
      "source": [
        "## <a name=\"element-mult\">Elementwise Matrix Multiplication</a>\n",
        "\n",
        "---\n",
        "\n",
        "Consider two matrices $\\mathbf{A}$ and $\\mathbf{B}$ that have the same\n",
        "dimensions. The elementwise product, denoted\n",
        "$\\mathbf{A} \\circ \\mathbf{B}$ is the product of the elements in the same\n",
        "position of the matrix.\n",
        "\n",
        "Assume $\\mathbf{A}$ and $\\mathbf{B}$ are $n\\times m$ matrices.\n",
        "$\\mathbf{A} \\circ \\mathbf{B}$ will be an $n\\times m$ matrix and $$\n",
        "(\\mathbf{A} \\circ \\mathbf{B})_{i,j} = \\mathbf{A}_{i,j}\\mathbf{B}_{i,j}.\n",
        "$$\n",
        "\n",
        "We perform elementwise multiplication of the two matrices below.\n",
        "\n",
        "$$\n",
        "\\begin{bmatrix}\n",
        "1 & 4\\\\\n",
        "2 & 5\\\\\n",
        "3 & 6\n",
        "\\end{bmatrix} \\circ\n",
        "\\begin{bmatrix}\n",
        "7 & 10\\\\\n",
        "8 & 11\\\\\n",
        "9 & 12\n",
        "\\end{bmatrix}=\n",
        "\\begin{bmatrix}\n",
        "1 \\cdot 7 & 4 \\cdot 10\\\\\n",
        "2 \\cdot 8 & 5 \\cdot 11\\\\\n",
        "3 \\cdot 9 & 6 \\cdot 12\n",
        "\\end{bmatrix}=\n",
        "\\begin{bmatrix}\n",
        "7 & 40\\\\\n",
        "16 & 55\\\\\n",
        "27 & 72\n",
        "\\end{bmatrix}.\n",
        "$$\n",
        "\n",
        "We perform elementwise multiplication of two matrices of the correct\n",
        "size using the `*` operator. Let’s multiply these same matrices using R"
      ]
    },
    {
      "cell_type": "code",
      "execution_count": 30,
      "metadata": {
        "id": "a8de32a9",
        "colab": {
          "base_uri": "https://localhost:8080/",
          "height": 198
        },
        "outputId": "f54a0a7f-6026-4804-c062-8bcd97033f9e"
      },
      "outputs": [
        {
          "output_type": "display_data",
          "data": {
            "text/html": [
              "<table class=\"dataframe\">\n",
              "<caption>A matrix: 3 × 2 of type int</caption>\n",
              "<tbody>\n",
              "\t<tr><td>1</td><td>4</td></tr>\n",
              "\t<tr><td>2</td><td>5</td></tr>\n",
              "\t<tr><td>3</td><td>6</td></tr>\n",
              "</tbody>\n",
              "</table>\n"
            ],
            "text/markdown": "\nA matrix: 3 × 2 of type int\n\n| 1 | 4 |\n| 2 | 5 |\n| 3 | 6 |\n\n",
            "text/latex": "A matrix: 3 × 2 of type int\n\\begin{tabular}{ll}\n\t 1 & 4\\\\\n\t 2 & 5\\\\\n\t 3 & 6\\\\\n\\end{tabular}\n",
            "text/plain": [
              "     [,1] [,2]\n",
              "[1,] 1    4   \n",
              "[2,] 2    5   \n",
              "[3,] 3    6   "
            ]
          },
          "metadata": {}
        }
      ],
      "source": [
        "A <- matrix(1:6, ncol = 2)\n",
        "A"
      ]
    },
    {
      "cell_type": "code",
      "execution_count": 31,
      "metadata": {
        "id": "345410e1",
        "colab": {
          "base_uri": "https://localhost:8080/",
          "height": 180
        },
        "outputId": "aa1f2e60-abed-4a86-bacf-53768634a3f7"
      },
      "outputs": [
        {
          "output_type": "display_data",
          "data": {
            "text/html": [
              "<table class=\"dataframe\">\n",
              "<caption>A matrix: 3 × 2 of type int</caption>\n",
              "<tbody>\n",
              "\t<tr><td>7</td><td>10</td></tr>\n",
              "\t<tr><td>8</td><td>11</td></tr>\n",
              "\t<tr><td>9</td><td>12</td></tr>\n",
              "</tbody>\n",
              "</table>\n"
            ],
            "text/markdown": "\nA matrix: 3 × 2 of type int\n\n| 7 | 10 |\n| 8 | 11 |\n| 9 | 12 |\n\n",
            "text/latex": "A matrix: 3 × 2 of type int\n\\begin{tabular}{ll}\n\t 7 & 10\\\\\n\t 8 & 11\\\\\n\t 9 & 12\\\\\n\\end{tabular}\n",
            "text/plain": [
              "     [,1] [,2]\n",
              "[1,] 7    10  \n",
              "[2,] 8    11  \n",
              "[3,] 9    12  "
            ]
          },
          "metadata": {}
        }
      ],
      "source": [
        "B <- matrix(7:12, ncol = 2)\n",
        "B"
      ]
    },
    {
      "cell_type": "code",
      "execution_count": 32,
      "metadata": {
        "id": "b93efa14",
        "colab": {
          "base_uri": "https://localhost:8080/",
          "height": 163
        },
        "outputId": "436afe0f-542b-4df9-a995-047b0fd81e55"
      },
      "outputs": [
        {
          "output_type": "display_data",
          "data": {
            "text/html": [
              "<table class=\"dataframe\">\n",
              "<caption>A matrix: 3 × 2 of type int</caption>\n",
              "<tbody>\n",
              "\t<tr><td> 7</td><td>40</td></tr>\n",
              "\t<tr><td>16</td><td>55</td></tr>\n",
              "\t<tr><td>27</td><td>72</td></tr>\n",
              "</tbody>\n",
              "</table>\n"
            ],
            "text/markdown": "\nA matrix: 3 × 2 of type int\n\n|  7 | 40 |\n| 16 | 55 |\n| 27 | 72 |\n\n",
            "text/latex": "A matrix: 3 × 2 of type int\n\\begin{tabular}{ll}\n\t  7 & 40\\\\\n\t 16 & 55\\\\\n\t 27 & 72\\\\\n\\end{tabular}\n",
            "text/plain": [
              "     [,1] [,2]\n",
              "[1,]  7   40  \n",
              "[2,] 16   55  \n",
              "[3,] 27   72  "
            ]
          },
          "metadata": {}
        }
      ],
      "source": [
        "A * B"
      ]
    },
    {
      "cell_type": "markdown",
      "metadata": {
        "id": "63f51667-ba01-4f05-82c5-0a37701f94a1"
      },
      "source": [
        "## <a name=\"transpose\">Transpose of a Matrix</a>\n",
        "\n",
        "---\n",
        "\n",
        "The <font color=\"dodgerblue\">**transpose**</font> of a matrix $\\mathbf{A}$, denoted ${\\color{dodgerblue}{\\mathbf{A}^T}}$,\n",
        "exchanges the rows and columns of the matrix. More formally, the $i,j$\n",
        "element of $\\mathbf{A}^T$ is the $j,i$ element of $\\mathbf{A}$, i.e.,\n",
        "$(\\mathbf{A}^T)_{i,j} = \\mathbf{A}_{j,i}$.\n",
        "\n",
        "- If $\\mathbf{A}$ is an $m \\times n$ matrix, then $\\mathbf{A}^T$ is an $n \\times m$ matrix.\n",
        "\n",
        "We can use the `t()` function from `base` R to obtain the transpose of a matrix."
      ]
    },
    {
      "cell_type": "code",
      "execution_count": 33,
      "metadata": {
        "id": "b5818ced",
        "colab": {
          "base_uri": "https://localhost:8080/",
          "height": 198
        },
        "outputId": "b86ee0d8-4c78-4641-e2f8-f137cdbd9e6f"
      },
      "outputs": [
        {
          "output_type": "display_data",
          "data": {
            "text/html": [
              "<table class=\"dataframe\">\n",
              "<caption>A matrix: 3 × 2 of type int</caption>\n",
              "<tbody>\n",
              "\t<tr><td>1</td><td>4</td></tr>\n",
              "\t<tr><td>2</td><td>5</td></tr>\n",
              "\t<tr><td>3</td><td>6</td></tr>\n",
              "</tbody>\n",
              "</table>\n"
            ],
            "text/markdown": "\nA matrix: 3 × 2 of type int\n\n| 1 | 4 |\n| 2 | 5 |\n| 3 | 6 |\n\n",
            "text/latex": "A matrix: 3 × 2 of type int\n\\begin{tabular}{ll}\n\t 1 & 4\\\\\n\t 2 & 5\\\\\n\t 3 & 6\\\\\n\\end{tabular}\n",
            "text/plain": [
              "     [,1] [,2]\n",
              "[1,] 1    4   \n",
              "[2,] 2    5   \n",
              "[3,] 3    6   "
            ]
          },
          "metadata": {}
        }
      ],
      "source": [
        "A  # matrix A from previous code"
      ]
    },
    {
      "cell_type": "code",
      "execution_count": 34,
      "metadata": {
        "id": "f2392d8e",
        "colab": {
          "base_uri": "https://localhost:8080/",
          "height": 132
        },
        "outputId": "d3033d01-2049-4cd4-c35f-2faa49b8c385"
      },
      "outputs": [
        {
          "output_type": "display_data",
          "data": {
            "text/html": [
              "<table class=\"dataframe\">\n",
              "<caption>A matrix: 2 × 3 of type int</caption>\n",
              "<tbody>\n",
              "\t<tr><td>1</td><td>2</td><td>3</td></tr>\n",
              "\t<tr><td>4</td><td>5</td><td>6</td></tr>\n",
              "</tbody>\n",
              "</table>\n"
            ],
            "text/markdown": "\nA matrix: 2 × 3 of type int\n\n| 1 | 2 | 3 |\n| 4 | 5 | 6 |\n\n",
            "text/latex": "A matrix: 2 × 3 of type int\n\\begin{tabular}{lll}\n\t 1 & 2 & 3\\\\\n\t 4 & 5 & 6\\\\\n\\end{tabular}\n",
            "text/plain": [
              "     [,1] [,2] [,3]\n",
              "[1,] 1    2    3   \n",
              "[2,] 4    5    6   "
            ]
          },
          "metadata": {}
        }
      ],
      "source": [
        "t(A)  # transpose of A"
      ]
    },
    {
      "cell_type": "markdown",
      "metadata": {
        "id": "32b51a6f-a2c5-4053-9ed1-6b8a376c91fc"
      },
      "source": [
        "## <a name=\"inverse\">Finding an Inverse Matrix</a>\n",
        "\n",
        "---\n",
        "\n",
        "An $n\\times n$ square matrix $\\mathbf{A}$ is <font color=\"dodgerblue\">**invertible**</font> if there exists an $n\\times n$ matrix $\\mathbf{B}$ such that $\\mathbf{AB}=\\mathbf{BA}=\\mathbf{I}_{n}$. The inverse of $\\mathbf{A}$ is denoted ${\\color{dodgerblue}{\\mathbf{A}^{-1}}}$.\n",
        "\n",
        "-   Inverse matrices only exist for square matrices.\n",
        "-   The notation $\\mathbf{A}^{-1}$ does NOT mean $\\frac{1}{\\mathbf{A}}$ since dividing by a matrix is not a possible operation.\n",
        "\n",
        "\n",
        "\n",
        "The `solve(A, B)` function is a `base` R function that solves the matrix equation $\\mathbf{A} \\mathbf{X} = \\mathbf{B}$ where $\\mathbf{A}$, $\\mathbf{X}$ and $\\mathbf{B}$ are matrices or vectors with appropriate dimensions.\n",
        "\n",
        "For an $n \\times n$ square matrix $\\mathbf{A}$, the command `solve(A)` assumes $\\mathbf{B} = \\mathbf{I}_n$, and solves the matrix equation $\\mathbf{A} \\mathbf{X} = \\mathbf{I}_n$.\n",
        "\n",
        "- The command `solve(A)` can be used to compute the inverse of a matrix.\n",
        "- This can cause numeric issues and there are other packages that have other built-in functions.\n",
        "\n"
      ]
    },
    {
      "cell_type": "markdown",
      "source": [
        "## <a name=\"quest5\">Question 5</a>\n",
        "\n",
        "---\n",
        "\n",
        "Compute the inverse of the matrix\n",
        "\n",
        "$$\\mathbf{A} = \\begin{bmatrix}\n",
        "2 & 1 & 2 \\\\\n",
        "3 & 0 & 2 \\\\\n",
        "2 & 3 & 3\n",
        "\\end{bmatrix}.$$\n",
        "\n",
        "Then check to make sure the result is accurate."
      ],
      "metadata": {
        "id": "xhAIvQ_Day1u"
      }
    },
    {
      "cell_type": "markdown",
      "source": [
        "### <a name=\"sol5\">Solution to Question 5</a>\n",
        "\n",
        "---\n"
      ],
      "metadata": {
        "id": "JOvGlJyW5KFc"
      }
    },
    {
      "cell_type": "code",
      "execution_count": 35,
      "metadata": {
        "id": "109b6a46",
        "colab": {
          "base_uri": "https://localhost:8080/",
          "height": 163
        },
        "outputId": "3712c896-334a-40d8-83ba-56e724874e27"
      },
      "outputs": [
        {
          "output_type": "display_data",
          "data": {
            "text/html": [
              "<table class=\"dataframe\">\n",
              "<caption>A matrix: 3 × 3 of type dbl</caption>\n",
              "<tbody>\n",
              "\t<tr><td>2</td><td>1</td><td>2</td></tr>\n",
              "\t<tr><td>3</td><td>0</td><td>2</td></tr>\n",
              "\t<tr><td>2</td><td>3</td><td>3</td></tr>\n",
              "</tbody>\n",
              "</table>\n"
            ],
            "text/markdown": "\nA matrix: 3 × 3 of type dbl\n\n| 2 | 1 | 2 |\n| 3 | 0 | 2 |\n| 2 | 3 | 3 |\n\n",
            "text/latex": "A matrix: 3 × 3 of type dbl\n\\begin{tabular}{lll}\n\t 2 & 1 & 2\\\\\n\t 3 & 0 & 2\\\\\n\t 2 & 3 & 3\\\\\n\\end{tabular}\n",
            "text/plain": [
              "     [,1] [,2] [,3]\n",
              "[1,] 2    1    2   \n",
              "[2,] 3    0    2   \n",
              "[3,] 2    3    3   "
            ]
          },
          "metadata": {}
        }
      ],
      "source": [
        "# enter matrix A\n",
        "A <- matrix(c(2, 1, 2,\n",
        "              3, 0, 2,\n",
        "              2, 3, 3),\n",
        "            byrow = TRUE,\n",
        "            nrow = 3)\n",
        "A"
      ]
    },
    {
      "cell_type": "code",
      "source": [
        "# compute inverse of A\n"
      ],
      "metadata": {
        "id": "vNJWCsNAWVqa"
      },
      "execution_count": null,
      "outputs": []
    },
    {
      "cell_type": "code",
      "source": [
        "# check the result\n"
      ],
      "metadata": {
        "id": "IrlhmVp0Wb2L"
      },
      "execution_count": null,
      "outputs": []
    },
    {
      "cell_type": "code",
      "source": [
        "# check the result\n"
      ],
      "metadata": {
        "id": "r1LzWW9uWhJv"
      },
      "execution_count": null,
      "outputs": []
    },
    {
      "cell_type": "markdown",
      "metadata": {
        "id": "473LDrgTiPL0"
      },
      "source": [
        "## <a name=\"inverse\">A Library of Other Common Operations</a>\n",
        "\n",
        "---\n",
        "\n",
        "Let $\\mathbf{A}$ denote a square, $n \\times n$ matrix.\n",
        "\n",
        "- `det(A)` computes the determinant of $\\mathbf{A}$.\n",
        "- `sum(diag(A))` computes the trace of of $\\mathbf{A}$.\n",
        "- `eigen(A)` finds eigenvalues and eigenvectors of $\\mathbf{A}$.\n"
      ]
    },
    {
      "cell_type": "code",
      "source": [
        "print(A)"
      ],
      "metadata": {
        "colab": {
          "base_uri": "https://localhost:8080/"
        },
        "id": "rJULr5Aujhza",
        "outputId": "ad231a1e-9f6c-4aa7-a4ea-4bc1f5801cf9"
      },
      "execution_count": 36,
      "outputs": [
        {
          "output_type": "stream",
          "name": "stdout",
          "text": [
            "     [,1] [,2] [,3]\n",
            "[1,]    2    1    2\n",
            "[2,]    3    0    2\n",
            "[3,]    2    3    3\n"
          ]
        }
      ]
    },
    {
      "cell_type": "code",
      "source": [
        "det(A)"
      ],
      "metadata": {
        "colab": {
          "base_uri": "https://localhost:8080/",
          "height": 34
        },
        "id": "QhYwWLYijLAy",
        "outputId": "4b6f81e9-710c-497f-d91f-8895dd1a4c16"
      },
      "execution_count": 37,
      "outputs": [
        {
          "output_type": "display_data",
          "data": {
            "text/html": [
              "1"
            ],
            "text/markdown": "1",
            "text/latex": "1",
            "text/plain": [
              "[1] 1"
            ]
          },
          "metadata": {}
        }
      ]
    },
    {
      "cell_type": "code",
      "source": [
        "sum(diag(A))  # sum of the diagonal elements"
      ],
      "metadata": {
        "colab": {
          "base_uri": "https://localhost:8080/",
          "height": 34
        },
        "id": "s7uuCUm4jeEl",
        "outputId": "866c9185-39e8-4547-ffbe-893c6a53c006"
      },
      "execution_count": 38,
      "outputs": [
        {
          "output_type": "display_data",
          "data": {
            "text/html": [
              "5"
            ],
            "text/markdown": "5",
            "text/latex": "5",
            "text/plain": [
              "[1] 5"
            ]
          },
          "metadata": {}
        }
      ]
    },
    {
      "cell_type": "code",
      "source": [
        "ev <- eigen(A)\n",
        "print(ev)"
      ],
      "metadata": {
        "colab": {
          "base_uri": "https://localhost:8080/"
        },
        "id": "JrTYo-bMikv8",
        "outputId": "86117681-f377-46e9-abab-7d7d537f48d4"
      },
      "execution_count": 39,
      "outputs": [
        {
          "output_type": "stream",
          "name": "stdout",
          "text": [
            "eigen() decomposition\n",
            "$values\n",
            "[1]  6.1622777 -1.0000000 -0.1622777\n",
            "\n",
            "$vectors\n",
            "           [,1]       [,2]       [,3]\n",
            "[1,] -0.4714045 -0.1849001 -0.4714045\n",
            "[2,] -0.4714045 -0.7396003 -0.4714045\n",
            "[3,] -0.7453560  0.6471502  0.7453560\n",
            "\n"
          ]
        }
      ]
    },
    {
      "cell_type": "code",
      "source": [
        "# we can use the eigenvectors to diagonalize A\n",
        "P <- ev$vectors\n",
        "solve(P) %*% A %*% P"
      ],
      "metadata": {
        "colab": {
          "base_uri": "https://localhost:8080/",
          "height": 128
        },
        "id": "OJ8WAT7elgce",
        "outputId": "852807e4-6d54-489b-d4a8-424b1395d46d"
      },
      "execution_count": 40,
      "outputs": [
        {
          "output_type": "display_data",
          "data": {
            "text/html": [
              "<table class=\"dataframe\">\n",
              "<caption>A matrix: 3 × 3 of type dbl</caption>\n",
              "<tbody>\n",
              "\t<tr><td> 6.162278e+00</td><td> 6.489234e-16</td><td> 6.334949e-16</td></tr>\n",
              "\t<tr><td>-1.247480e-16</td><td>-1.000000e+00</td><td>-6.060353e-16</td></tr>\n",
              "\t<tr><td>-1.999256e-15</td><td> 2.621106e-16</td><td>-1.622777e-01</td></tr>\n",
              "</tbody>\n",
              "</table>\n"
            ],
            "text/markdown": "\nA matrix: 3 × 3 of type dbl\n\n|  6.162278e+00 |  6.489234e-16 |  6.334949e-16 |\n| -1.247480e-16 | -1.000000e+00 | -6.060353e-16 |\n| -1.999256e-15 |  2.621106e-16 | -1.622777e-01 |\n\n",
            "text/latex": "A matrix: 3 × 3 of type dbl\n\\begin{tabular}{lll}\n\t  6.162278e+00 &  6.489234e-16 &  6.334949e-16\\\\\n\t -1.247480e-16 & -1.000000e+00 & -6.060353e-16\\\\\n\t -1.999256e-15 &  2.621106e-16 & -1.622777e-01\\\\\n\\end{tabular}\n",
            "text/plain": [
              "     [,1]          [,2]          [,3]         \n",
              "[1,]  6.162278e+00  6.489234e-16  6.334949e-16\n",
              "[2,] -1.247480e-16 -1.000000e+00 -6.060353e-16\n",
              "[3,] -1.999256e-15  2.621106e-16 -1.622777e-01"
            ]
          },
          "metadata": {}
        }
      ]
    },
    {
      "cell_type": "markdown",
      "source": [
        "## <a name=\"solve-sys\">Solving Linear Systems of Equations</a>\n",
        "\n",
        "---\n",
        "\n",
        "We can use the `solve()` function to solve linear systems of equations of the form:\n",
        "\n",
        "$$\\begin{align*}\n",
        "a_{11} x_1 + a_{12} x_2 + \\ldots a_{1n} x_n &= b_1\\\\\n",
        "a_{21} x_1 + a_{22} x_2 + \\ldots a_{2n} x_n &= b_2\\\\\n",
        "& \\vdots  \\\\\n",
        "a_{m1} x_1 + a_{m2} x_2 + \\ldots a_{mn} x_n &= b_m\n",
        "\\end{align*}\n",
        "$$\n",
        "\n",
        "which we can express equivalently as the matrix equation\n",
        "\n",
        "$$\\begin{bmatrix}\n",
        "a_{11} & a_{12} & \\ldots & a_{1n} \\\\\n",
        "a_{21} & a_{22} & \\ldots & a_{2n} \\\\\n",
        "& & \\vdots & \\\\\n",
        "a_{m1} & a_{m2} & \\ldots & a_{mn}\n",
        "\\end{bmatrix}\n",
        "\\begin{bmatrix}\n",
        "x_1 \\\\ x_2 \\\\ \\vdots \\\\ x_n\n",
        "\\end{bmatrix} = \\begin{bmatrix}\n",
        "b_1 \\\\ b_2 \\\\ \\vdots \\\\ b_m\n",
        "\\end{bmatrix}\n",
        "\\quad \\text{or} \\quad\n",
        "\\mathbf{A} \\mathbf{x} = \\mathbf{b}\n",
        "$$\n",
        "\n",
        "We can solve a general linear systems of equations with the command `solve(A, b)`.\n",
        "\n",
        "If we have the same number of equations as variables, then matrix of coefficients $\\mathbf{A}$ will be a square matrix. We can solve the equation $\\mathbf{A} \\mathbf{x} = \\mathbf{b}$ using inverse matrices. If $\\mathbf{A}$ is an invertible matrix, then:\n",
        "\n",
        "- We can multiply both sides of the equation by by $\\mathbf{A}^{-1}$ on the left.\n",
        "\n",
        "$$\\mathbf{A}^{-1}\\mathbf{A} \\mathbf{x} = \\mathbf{A}^{-1} \\mathbf{b} \\quad \\text{giving the solution} \\quad \\mathbf{x} = \\mathbf{A}^{-1} \\mathbf{b}$$\n",
        "\n"
      ],
      "metadata": {
        "id": "66hUVijtavZM"
      }
    },
    {
      "cell_type": "markdown",
      "source": [
        "### <a name=\"compare\">Comparing Methods for Solving Linear Systems</a>\n",
        "\n",
        "---\n",
        "\n",
        "Consider the linear system of equations\n",
        "\n",
        "$$\\begin{align*}\n",
        "2x_1 + x_2 + 2x_3 &= 2\\\\\n",
        "3x_1 + 2x_3 &= -5\\\\\n",
        "2x_1 + 3x_2 + 3x_3 &= 8\n",
        "\\end{align*}$$\n",
        "\n",
        "We can express this system using the matrix equation\n",
        "\n",
        "$$\\begin{bmatrix}\n",
        "2 & 1 & 2 \\\\\n",
        "3 & 0 & 2 \\\\\n",
        "2 & 3 & 3\n",
        "\\end{bmatrix}\n",
        "\\begin{bmatrix}\n",
        "x_1 \\\\ x_2 \\\\ x_3\n",
        "\\end{bmatrix} =\n",
        "\\begin{bmatrix}\n",
        "2 \\\\ -5 \\\\ 8\n",
        "\\end{bmatrix}.$$\n",
        "\n",
        "In the example below, we use `solve()` and inverse matrices to solve a linear system of equations."
      ],
      "metadata": {
        "id": "KITucJc3e7Fm"
      }
    },
    {
      "cell_type": "code",
      "source": [
        "A"
      ],
      "metadata": {
        "id": "GEg4cjoT-bDa",
        "outputId": "8117d2a3-addd-46f9-a466-cfef0e38901b",
        "colab": {
          "base_uri": "https://localhost:8080/",
          "height": 163
        }
      },
      "execution_count": 41,
      "outputs": [
        {
          "output_type": "display_data",
          "data": {
            "text/html": [
              "<table class=\"dataframe\">\n",
              "<caption>A matrix: 3 × 3 of type dbl</caption>\n",
              "<tbody>\n",
              "\t<tr><td>2</td><td>1</td><td>2</td></tr>\n",
              "\t<tr><td>3</td><td>0</td><td>2</td></tr>\n",
              "\t<tr><td>2</td><td>3</td><td>3</td></tr>\n",
              "</tbody>\n",
              "</table>\n"
            ],
            "text/markdown": "\nA matrix: 3 × 3 of type dbl\n\n| 2 | 1 | 2 |\n| 3 | 0 | 2 |\n| 2 | 3 | 3 |\n\n",
            "text/latex": "A matrix: 3 × 3 of type dbl\n\\begin{tabular}{lll}\n\t 2 & 1 & 2\\\\\n\t 3 & 0 & 2\\\\\n\t 2 & 3 & 3\\\\\n\\end{tabular}\n",
            "text/plain": [
              "     [,1] [,2] [,3]\n",
              "[1,] 2    1    2   \n",
              "[2,] 3    0    2   \n",
              "[3,] 2    3    3   "
            ]
          },
          "metadata": {}
        }
      ]
    },
    {
      "cell_type": "code",
      "execution_count": 42,
      "metadata": {
        "id": "7d3ca84d",
        "colab": {
          "base_uri": "https://localhost:8080/",
          "height": 34
        },
        "outputId": "88182574-5d03-4b6f-a056-ee50af44fb5a"
      },
      "outputs": [
        {
          "output_type": "display_data",
          "data": {
            "text/html": [
              "<style>\n",
              ".list-inline {list-style: none; margin:0; padding: 0}\n",
              ".list-inline>li {display: inline-block}\n",
              ".list-inline>li:not(:last-child)::after {content: \"\\00b7\"; padding: 0 .5ex}\n",
              "</style>\n",
              "<ol class=list-inline><li>2</li><li>-5</li><li>8</li></ol>\n"
            ],
            "text/markdown": "1. 2\n2. -5\n3. 8\n\n\n",
            "text/latex": "\\begin{enumerate*}\n\\item 2\n\\item -5\n\\item 8\n\\end{enumerate*}\n",
            "text/plain": [
              "[1]  2 -5  8"
            ]
          },
          "metadata": {}
        }
      ],
      "source": [
        "# vector b is treated as a 3 x 1 column vector\n",
        "b <- c(2, -5, 8)\n",
        "b"
      ]
    },
    {
      "cell_type": "code",
      "source": [
        "# multiplication by 3 x 3 matrix and\n",
        "# vector which is 3 x 1 is defined\n",
        "A %*% b"
      ],
      "metadata": {
        "colab": {
          "base_uri": "https://localhost:8080/",
          "height": 215
        },
        "id": "u8KiWNb5gi0a",
        "outputId": "641de70c-cd1b-4ba5-eaa7-47b139e0a91f"
      },
      "execution_count": 43,
      "outputs": [
        {
          "output_type": "display_data",
          "data": {
            "text/html": [
              "<table class=\"dataframe\">\n",
              "<caption>A matrix: 3 × 1 of type dbl</caption>\n",
              "<tbody>\n",
              "\t<tr><td>15</td></tr>\n",
              "\t<tr><td>22</td></tr>\n",
              "\t<tr><td>13</td></tr>\n",
              "</tbody>\n",
              "</table>\n"
            ],
            "text/markdown": "\nA matrix: 3 × 1 of type dbl\n\n| 15 |\n| 22 |\n| 13 |\n\n",
            "text/latex": "A matrix: 3 × 1 of type dbl\n\\begin{tabular}{l}\n\t 15\\\\\n\t 22\\\\\n\t 13\\\\\n\\end{tabular}\n",
            "text/plain": [
              "     [,1]\n",
              "[1,] 15  \n",
              "[2,] 22  \n",
              "[3,] 13  "
            ]
          },
          "metadata": {}
        }
      ]
    },
    {
      "cell_type": "code",
      "execution_count": 44,
      "metadata": {
        "id": "a4aa1333",
        "colab": {
          "base_uri": "https://localhost:8080/",
          "height": 34
        },
        "outputId": "aa432801-ad65-439c-ae7c-66d572850525"
      },
      "outputs": [
        {
          "output_type": "display_data",
          "data": {
            "text/html": [
              "<style>\n",
              ".list-inline {list-style: none; margin:0; padding: 0}\n",
              ".list-inline>li {display: inline-block}\n",
              ".list-inline>li:not(:last-child)::after {content: \"\\00b7\"; padding: 0 .5ex}\n",
              "</style>\n",
              "<ol class=list-inline><li>-11</li><li>-4</li><li>14</li></ol>\n"
            ],
            "text/markdown": "1. -11\n2. -4\n3. 14\n\n\n",
            "text/latex": "\\begin{enumerate*}\n\\item -11\n\\item -4\n\\item 14\n\\end{enumerate*}\n",
            "text/plain": [
              "[1] -11  -4  14"
            ]
          },
          "metadata": {}
        }
      ],
      "source": [
        "x <- solve(A, b)\n",
        "x"
      ]
    },
    {
      "cell_type": "markdown",
      "source": [
        "#### <a name=\"linear-check\">Checking the Results</a>\n",
        "\n",
        "---\n",
        "\n",
        "Based on the output above, we have a solution\n",
        "\n",
        "$$\\mathbf{x} = \\begin{bmatrix}\n",
        "-11 \\\\ -4 \\\\ 14\n",
        "\\end{bmatrix}.$$\n",
        "\n",
        "We can verify our solution by checking to see if\n",
        "\n",
        "$$\\begin{bmatrix}\n",
        "2 & 1 & 2 \\\\\n",
        "3 & 0 & 2 \\\\\n",
        "2 & 3 & 3\n",
        "\\end{bmatrix}\n",
        "\\begin{bmatrix}\n",
        "-11 \\\\ -4 \\\\ 14\n",
        "\\end{bmatrix} =\n",
        "\\begin{bmatrix}\n",
        "2 \\\\ -5 \\\\ 8\n",
        "\\end{bmatrix}.$$\n",
        "\n",
        "or checking to see whether\n",
        "\n",
        "$$\\mathbf{x} = \\mathbf{A}^{-1} \\mathbf{b} =\n",
        "\\begin{bmatrix}\n",
        "-11 \\\\ -4 \\\\ 14\n",
        "\\end{bmatrix}.$$\n",
        "\n",
        "We check using each method in the code cells below."
      ],
      "metadata": {
        "id": "AGBx5cWwgF0Y"
      }
    },
    {
      "cell_type": "code",
      "source": [
        "# a check to see if Ax = b\n",
        "A %*% x"
      ],
      "metadata": {
        "colab": {
          "base_uri": "https://localhost:8080/",
          "height": 215
        },
        "id": "zWX-SBKFhugX",
        "outputId": "4320cc1c-ff17-4aeb-b655-af3c969b0555"
      },
      "execution_count": 45,
      "outputs": [
        {
          "output_type": "display_data",
          "data": {
            "text/html": [
              "<table class=\"dataframe\">\n",
              "<caption>A matrix: 3 × 1 of type dbl</caption>\n",
              "<tbody>\n",
              "\t<tr><td> 2</td></tr>\n",
              "\t<tr><td>-5</td></tr>\n",
              "\t<tr><td> 8</td></tr>\n",
              "</tbody>\n",
              "</table>\n"
            ],
            "text/markdown": "\nA matrix: 3 × 1 of type dbl\n\n|  2 |\n| -5 |\n|  8 |\n\n",
            "text/latex": "A matrix: 3 × 1 of type dbl\n\\begin{tabular}{l}\n\t  2\\\\\n\t -5\\\\\n\t  8\\\\\n\\end{tabular}\n",
            "text/plain": [
              "     [,1]\n",
              "[1,]  2  \n",
              "[2,] -5  \n",
              "[3,]  8  "
            ]
          },
          "metadata": {}
        }
      ]
    },
    {
      "cell_type": "code",
      "source": [
        "# a check to see if A^{-1} b = x\n",
        "A.inv <- solve(A)\n",
        "A.inv %*% b"
      ],
      "metadata": {
        "id": "urSVaaQHh7mE",
        "colab": {
          "base_uri": "https://localhost:8080/",
          "height": 215
        },
        "outputId": "2546ed1a-c0e8-49dd-b342-b76fa1eea255"
      },
      "execution_count": 47,
      "outputs": [
        {
          "output_type": "display_data",
          "data": {
            "text/html": [
              "<table class=\"dataframe\">\n",
              "<caption>A matrix: 3 × 1 of type dbl</caption>\n",
              "<tbody>\n",
              "\t<tr><td>-11</td></tr>\n",
              "\t<tr><td> -4</td></tr>\n",
              "\t<tr><td> 14</td></tr>\n",
              "</tbody>\n",
              "</table>\n"
            ],
            "text/markdown": "\nA matrix: 3 × 1 of type dbl\n\n| -11 |\n|  -4 |\n|  14 |\n\n",
            "text/latex": "A matrix: 3 × 1 of type dbl\n\\begin{tabular}{l}\n\t -11\\\\\n\t  -4\\\\\n\t  14\\\\\n\\end{tabular}\n",
            "text/plain": [
              "     [,1]\n",
              "[1,] -11 \n",
              "[2,]  -4 \n",
              "[3,]  14 "
            ]
          },
          "metadata": {}
        }
      ]
    },
    {
      "cell_type": "markdown",
      "metadata": {
        "id": "c983dc22-586b-4e57-a0b8-56069f21b422"
      },
      "source": [
        "## <a name=\"line-best-fit\">Example: Finding the Line of Best Fit Using Matrix Algebra</a>\n",
        "\n",
        "---\n",
        "\n",
        "A common application of matrix algebra is finding the “line of best fit” for the points observed in a scatter plot.\n",
        "\n",
        "A line can be written as\n",
        "\n",
        "$$y = {\\color{dodgerblue}{a}} + {\\color{tomato}{b}} x,$$\n",
        "\n",
        "where:\n",
        "\n",
        "-   ${\\color{dodgerblue}{a}}$ is the <font color=\"dodgerblue\">**y-intercept**</font> (the value of $y$ when $x = 0$).\n",
        "-   ${\\color{tomato}{b}}$ is the <font color=\"tomato\">**slope**</font> of the line. $y$ changes by $b$ when $x$ increases by 1.\n",
        "\n",
        "Suppose that we observe $n$ paired sets of $(x, y)$ values\n",
        "\n",
        "$$(x_1, y_1), (x_2, y_2), \\ldots, (x_n, y_n).$$\n",
        "\n",
        "with line of best fit given by $y = a + b x$. For each observed value $x_i$, we can use the line of best fit to make a prediction\n",
        "\n",
        "$$\\hat{y}_i = a + b x_i.$$\n",
        "\n"
      ]
    },
    {
      "cell_type": "markdown",
      "source": [
        "### <a name=\"storm-plot\">Example: Predicting Wind Speeds from Storm Pressure</a>\n",
        "\n",
        "---\n",
        "\n",
        "The data frame `storms` in the `dplyr` package contains observations from about 20,000 storms that occurred in the North Atlantic since 1979.\n",
        "\n",
        "- `wind` is the storm's maximum sustained wind speed, in knots.\n",
        "- `pressure` is the air pressure at the storm's center, in millibars.\n",
        "\n",
        "> Given a pressure, how can we predict a storm's maximum sustained wind speed?\n",
        "\n",
        "There is a built-in function `lm(y ~ x, data=df)` in `base` R that computes the linear of best given a set of values for a predictor variable(s) and the corresponding value of the response variable."
      ],
      "metadata": {
        "id": "bmzlqnEN7Pp3"
      }
    },
    {
      "cell_type": "code",
      "source": [
        "# exploring connection between storm wind and pressure\n",
        "ggplot(storms, aes(x=pressure, y=wind)) +\n",
        "  geom_point(position = \"jitter\") +\n",
        "  geom_smooth(method = \"lm\") +\n",
        "  labs(\n",
        "    x = \"Pressure (in millibars)\",\n",
        "    y = \"wind (in knots)\",\n",
        "    title = \"Pressure and Windspeed of North Atlantic Storms\"\n",
        "  ) +\n",
        "    theme(text = element_text(size=16))"
      ],
      "metadata": {
        "colab": {
          "base_uri": "https://localhost:8080/",
          "height": 454
        },
        "id": "RusWKX7HtWeM",
        "outputId": "4da28036-3f50-4e64-c6a2-a6a06521ae96"
      },
      "execution_count": 48,
      "outputs": [
        {
          "output_type": "stream",
          "name": "stderr",
          "text": [
            "\u001b[1m\u001b[22m`geom_smooth()` using formula = 'y ~ x'\n"
          ]
        },
        {
          "output_type": "display_data",
          "data": {
            "text/plain": [
              "plot without title"
            ],
            "image/png": "[encoded data removed]"
          },
          "metadata": {
            "image/png": {
              "width": 420,
              "height": 420
            }
          }
        }
      ]
    },
    {
      "cell_type": "code",
      "source": [
        "# finding coefficients for the line of best fit\n",
        "lm(wind ~ pressure, data = storms)"
      ],
      "metadata": {
        "colab": {
          "base_uri": "https://localhost:8080/",
          "height": 138
        },
        "id": "InMaikCEueTf",
        "outputId": "85cf2aa6-290d-448b-88cc-59a7c0878eca"
      },
      "execution_count": 49,
      "outputs": [
        {
          "output_type": "display_data",
          "data": {
            "text/plain": [
              "\n",
              "Call:\n",
              "lm(formula = wind ~ pressure, data = storms)\n",
              "\n",
              "Coefficients:\n",
              "(Intercept)     pressure  \n",
              "    1301.70        -1.26  \n"
            ]
          },
          "metadata": {}
        }
      ]
    },
    {
      "cell_type": "markdown",
      "source": [
        "Based on the output from the `lm()` function above, we see the line of best fit is given by\n",
        "\n",
        "$$\\widehat{\\text{wind}} = 1301.7 - 1.26 \\cdot \\text{pressure}$$"
      ],
      "metadata": {
        "id": "DfTue-n38Z_Y"
      }
    },
    {
      "cell_type": "markdown",
      "source": [
        "### <a name=\"find-line\">Finding the Line of Best Fit with Matrices</a>\n",
        "\n",
        "---\n",
        "\n",
        "A <font color=\"dodgerblue\">**residual**</font> is the error of a predicted value that we calculate as difference between the predict value $\\hat{y}_i$ and the actual observed value $y_i$,\n",
        "\n",
        "$$\\text{residual} = \\text{error} = \\epsilon_i = y_i - \\hat{y}_i.$$\n",
        "\n",
        "\n",
        "We want to find the values of $a$ and $b$ that minimizes error in the predictions. We have many residuals, and we do not want positive and negative errors to cancel out. Thus, one way to find the line of best fit is to minimize the sum of squares of the residuals. This can be  computed using the residual sum of squares function (or RSS):\n",
        "\n",
        "$$\n",
        "RSS(a, b) = \\sum_{i=1}^n (\\epsilon_i)^2 = \\sum_{i=1}^n ( y_i - {\\color{dodgerblue}{\\hat{y}_i}})^2\n",
        "= \\sum_{i=1}^n \\big( y_i - ({\\color{dodgerblue}{a + b  x_i}}) \\big)^2.\n",
        "$$\n",
        "\n",
        "We can find the values of $a$ and $b$ using matrix algebra. First, we can define a <font color=\"dodgerblue\">**model matrix** $\\mathbf{X}$</font> using the observed values $x_1$, $x_2$, $\\ldots$ $x_n$ of the predictor variable $x$:\n",
        "\n",
        "$$\n",
        "\\mathbf{X} =\n",
        "\\begin{bmatrix}\n",
        "1 & x_1 \\\\\n",
        "1 & x_2 \\\\\n",
        "\\vdots & \\vdots \\\\\n",
        "1 & x_n\n",
        "\\end{bmatrix}.\n",
        "$$\n",
        "\n",
        "Next we define a column vector $\\mathbf{y}$ using the corresponding observed values of the response variable $y$:\n",
        "\n",
        "$$\n",
        "\\mathbf{y} =\n",
        "\\begin{bmatrix}\n",
        "y_1 \\\\\n",
        "y_2 \\\\\n",
        "\\vdots \\\\\n",
        "y_n\n",
        "\\end{bmatrix}.\n",
        "$$\n",
        "\n",
        "The values of $a$ and $b$ that minimize $RSS(a, b)$, which we will call $\\hat{a}$ and $\\hat{b}$, can be computed by minimizing the equivalent matrix equation\n",
        "\n",
        "$$\n",
        "{\\color{dodgerblue}{\n",
        "\\begin{bmatrix}\n",
        "\\hat{a} \\\\\n",
        "\\hat {b}\n",
        "\\end{bmatrix} = (\\mathbf{X}^T \\mathbf{X})^{-1} \\mathbf{X}^T \\mathbf{y}}}.$$\n",
        "\n",
        "\n",
        "\n",
        "Thus, we can find the coefficients for the line of best fit by solving the matrix equation above.\n",
        "\n",
        "\n"
      ],
      "metadata": {
        "id": "gxaA3kbp7KuV"
      }
    },
    {
      "cell_type": "markdown",
      "source": [
        "### <a name=\"matrix-wind\">Using Matrices to Find the Line of Best Fit for Predicting Wind Speed</a>\n",
        "\n",
        "---\n",
        "\n",
        "\n",
        "Returning to our example with the `storms` data frame, we wish to coefficients $a$ and $b$ that give the line of best\n",
        "\n",
        "$$\\widehat{\\text{wind}} = a +b \\cdot \\text{pressure}$$\n",
        "\n",
        "using matrices. The model matrix $\\mathbf{X}$ is\n",
        "\n",
        "$$\\mathbf{X} = \\begin{bmatrix}\n",
        "1 & \\text{pressure}_1 \\\\\n",
        "1 & \\text{pressure}_2 \\\\\n",
        "\\vdots & \\vdots \\\\\n",
        "1 & \\text{pressure}_n\n",
        "\\end{bmatrix}$$\n",
        "\n",
        "and the column vector of observed values of the response variable is\n",
        "\n",
        "$$\\mathbf{y} = \\begin{bmatrix}\n",
        "\\text{wind}_1 \\\\\n",
        "\\text{wind}_2 \\\\\n",
        " \\vdots \\\\\n",
        "\\text{wind}_n\n",
        "\\end{bmatrix}$$\n"
      ],
      "metadata": {
        "id": "Ed4CmV9g-lkc"
      }
    },
    {
      "cell_type": "code",
      "source": [
        "X <- cbind(1, storms$pressure)\n",
        "y <- storms$wind"
      ],
      "metadata": {
        "id": "IJpDET9JwxIW"
      },
      "execution_count": 50,
      "outputs": []
    },
    {
      "cell_type": "code",
      "source": [
        "X[1:5,]"
      ],
      "metadata": {
        "colab": {
          "base_uri": "https://localhost:8080/",
          "height": 226
        },
        "id": "q3vUA3H3xAJK",
        "outputId": "ec161889-59c7-4377-bb6b-249e50a53307"
      },
      "execution_count": 51,
      "outputs": [
        {
          "output_type": "display_data",
          "data": {
            "text/html": [
              "<table class=\"dataframe\">\n",
              "<caption>A matrix: 5 × 2 of type dbl</caption>\n",
              "<tbody>\n",
              "\t<tr><td>1</td><td>1013</td></tr>\n",
              "\t<tr><td>1</td><td>1013</td></tr>\n",
              "\t<tr><td>1</td><td>1013</td></tr>\n",
              "\t<tr><td>1</td><td>1013</td></tr>\n",
              "\t<tr><td>1</td><td>1012</td></tr>\n",
              "</tbody>\n",
              "</table>\n"
            ],
            "text/markdown": "\nA matrix: 5 × 2 of type dbl\n\n| 1 | 1013 |\n| 1 | 1013 |\n| 1 | 1013 |\n| 1 | 1013 |\n| 1 | 1012 |\n\n",
            "text/latex": "A matrix: 5 × 2 of type dbl\n\\begin{tabular}{ll}\n\t 1 & 1013\\\\\n\t 1 & 1013\\\\\n\t 1 & 1013\\\\\n\t 1 & 1013\\\\\n\t 1 & 1012\\\\\n\\end{tabular}\n",
            "text/plain": [
              "     [,1] [,2]\n",
              "[1,] 1    1013\n",
              "[2,] 1    1013\n",
              "[3,] 1    1013\n",
              "[4,] 1    1013\n",
              "[5,] 1    1012"
            ]
          },
          "metadata": {}
        }
      ]
    },
    {
      "cell_type": "code",
      "source": [
        "y[1:5]"
      ],
      "metadata": {
        "colab": {
          "base_uri": "https://localhost:8080/",
          "height": 34
        },
        "id": "-7QIEQZexM-a",
        "outputId": "787f1754-2c4f-42ae-8345-3f9dd065358f"
      },
      "execution_count": 52,
      "outputs": [
        {
          "output_type": "display_data",
          "data": {
            "text/html": [
              "<style>\n",
              ".list-inline {list-style: none; margin:0; padding: 0}\n",
              ".list-inline>li {display: inline-block}\n",
              ".list-inline>li:not(:last-child)::after {content: \"\\00b7\"; padding: 0 .5ex}\n",
              "</style>\n",
              "<ol class=list-inline><li>25</li><li>25</li><li>25</li><li>25</li><li>25</li></ol>\n"
            ],
            "text/markdown": "1. 25\n2. 25\n3. 25\n4. 25\n5. 25\n\n\n",
            "text/latex": "\\begin{enumerate*}\n\\item 25\n\\item 25\n\\item 25\n\\item 25\n\\item 25\n\\end{enumerate*}\n",
            "text/plain": [
              "[1] 25 25 25 25 25"
            ]
          },
          "metadata": {}
        }
      ]
    },
    {
      "cell_type": "markdown",
      "source": [
        "The coefficients $\\hat{a}$ and $\\hat{b}$ for the line of best fit can thus be found using the matrices as follows:\n",
        "\n",
        "$$\n",
        "{\\color{green}{\\begin{bmatrix}\n",
        "\\hat{a} \\\\\n",
        "\\hat {b}\n",
        "\\end{bmatrix}}} = {\\color{dodgerblue}{(\\mathbf{X}^T \\mathbf{X})^{-1} \\mathbf{X}^T}} {\\color{tomato}{\\mathbf{y}}}.$$"
      ],
      "metadata": {
        "id": "Vy2hagOt_g4l"
      }
    },
    {
      "cell_type": "code",
      "source": [
        "# compute (X^T X)^(-1) X^t y\n",
        "XtX <- t(X) %*% X\n",
        "XtX.inv <- solve(XtX)\n",
        "XtX.inv %*% t(X) %*% y"
      ],
      "metadata": {
        "colab": {
          "base_uri": "https://localhost:8080/",
          "height": 114
        },
        "id": "Pli5rJ7IxR1N",
        "outputId": "95c57afe-5446-4d6f-c117-f05f956cd300"
      },
      "execution_count": 53,
      "outputs": [
        {
          "output_type": "display_data",
          "data": {
            "text/html": [
              "<table class=\"dataframe\">\n",
              "<caption>A matrix: 2 × 1 of type dbl</caption>\n",
              "<tbody>\n",
              "\t<tr><td>1301.695398</td></tr>\n",
              "\t<tr><td>  -1.259855</td></tr>\n",
              "</tbody>\n",
              "</table>\n"
            ],
            "text/markdown": "\nA matrix: 2 × 1 of type dbl\n\n| 1301.695398 |\n|   -1.259855 |\n\n",
            "text/latex": "A matrix: 2 × 1 of type dbl\n\\begin{tabular}{l}\n\t 1301.695398\\\\\n\t   -1.259855\\\\\n\\end{tabular}\n",
            "text/plain": [
              "     [,1]       \n",
              "[1,] 1301.695398\n",
              "[2,]   -1.259855"
            ]
          },
          "metadata": {}
        }
      ]
    },
    {
      "cell_type": "code",
      "source": [
        "# compute (X^T X)^(-1) X^t y\n",
        "solve(t(X) %*% X) %*% t(X) %*% y"
      ],
      "metadata": {
        "colab": {
          "base_uri": "https://localhost:8080/",
          "height": 114
        },
        "id": "qAeaXvZKx8P-",
        "outputId": "3b3076d0-d1ab-478b-85af-779e276a5466"
      },
      "execution_count": 54,
      "outputs": [
        {
          "output_type": "display_data",
          "data": {
            "text/html": [
              "<table class=\"dataframe\">\n",
              "<caption>A matrix: 2 × 1 of type dbl</caption>\n",
              "<tbody>\n",
              "\t<tr><td>1301.695398</td></tr>\n",
              "\t<tr><td>  -1.259855</td></tr>\n",
              "</tbody>\n",
              "</table>\n"
            ],
            "text/markdown": "\nA matrix: 2 × 1 of type dbl\n\n| 1301.695398 |\n|   -1.259855 |\n\n",
            "text/latex": "A matrix: 2 × 1 of type dbl\n\\begin{tabular}{l}\n\t 1301.695398\\\\\n\t   -1.259855\\\\\n\\end{tabular}\n",
            "text/plain": [
              "     [,1]       \n",
              "[1,] 1301.695398\n",
              "[2,]   -1.259855"
            ]
          },
          "metadata": {}
        }
      ]
    },
    {
      "cell_type": "markdown",
      "metadata": {
        "id": "676544e1-ca8f-46df-b1b8-a02420439d0d"
      },
      "source": [
        "## <a name=\"tips\">Tips for Optimizing Matrix Algebra Operations</a>\n",
        "\n",
        "---\n",
        "\n",
        "It is straightforward to perform matrix algebra in R. However, it is more difficult to write *efficient* (faster) matrix code. We provide\n",
        "some basic tips below.\n",
        "\n"
      ]
    },
    {
      "cell_type": "markdown",
      "source": [
        "### <a name=\"cross\">Using `crossprod()` and `tcrossprod()`</a>\n",
        "\n",
        "---\n",
        "\n",
        "The `crossprod()` and `tcrossprod()` functions are faster approaches to performing matrix multiplication when one of the matrices must first be transposed.\n",
        "\n",
        "If we have matrices `A` and `B` of compatible dimensions, then:\n",
        "\n",
        "-   `t(A) %*% B` is equivalent to `crossprod(A, B)`.\n",
        "-   `A %*% t(B)` is equivalent to `tcrossprod(A, B)`.\n",
        "\n",
        "`crossprod` and `tcrossprod` are faster than their equivalent approaches because the equivalent approaches compute the transpose of matrix in\n",
        "memory before performing the multiplication. The `crossprod` and `tcrossprod` functions modify their multiplication algorithms so that the transpose matrix doesn't have to be created prior to multiplication.\n",
        "\n",
        "To illustrate this difference, we create `A`, a $200 \\times 2$ matrix of values and `B`, a $200 \\times 2$ matrix of values by drawing the appropriate number of values randomly from the `storms` data frame. We use the `set.seed` function to make the example reproducible."
      ],
      "metadata": {
        "id": "dOGpAgM0yjqY"
      }
    },
    {
      "cell_type": "code",
      "source": [
        "set.seed(240)  # set seed for consistent output\n",
        "index <- sample(nrow(storms), 200)  # select 200 rows at random\n",
        "# create random and big matrices\n",
        "A <- cbind(storms$wind[index], storms$pressure[index])\n",
        "B <- cbind(storms$lat[index], storms$long[index])\n",
        "dim(A)\n",
        "dim(B)"
      ],
      "metadata": {
        "colab": {
          "base_uri": "https://localhost:8080/",
          "height": 52
        },
        "id": "U7z507s23DwE",
        "outputId": "a6a1606d-4dae-4472-e15f-e07c9f7ab144"
      },
      "execution_count": 55,
      "outputs": [
        {
          "output_type": "display_data",
          "data": {
            "text/html": [
              "<style>\n",
              ".list-inline {list-style: none; margin:0; padding: 0}\n",
              ".list-inline>li {display: inline-block}\n",
              ".list-inline>li:not(:last-child)::after {content: \"\\00b7\"; padding: 0 .5ex}\n",
              "</style>\n",
              "<ol class=list-inline><li>200</li><li>2</li></ol>\n"
            ],
            "text/markdown": "1. 200\n2. 2\n\n\n",
            "text/latex": "\\begin{enumerate*}\n\\item 200\n\\item 2\n\\end{enumerate*}\n",
            "text/plain": [
              "[1] 200   2"
            ]
          },
          "metadata": {}
        },
        {
          "output_type": "display_data",
          "data": {
            "text/html": [
              "<style>\n",
              ".list-inline {list-style: none; margin:0; padding: 0}\n",
              ".list-inline>li {display: inline-block}\n",
              ".list-inline>li:not(:last-child)::after {content: \"\\00b7\"; padding: 0 .5ex}\n",
              "</style>\n",
              "<ol class=list-inline><li>200</li><li>2</li></ol>\n"
            ],
            "text/markdown": "1. 200\n2. 2\n\n\n",
            "text/latex": "\\begin{enumerate*}\n\\item 200\n\\item 2\n\\end{enumerate*}\n",
            "text/plain": [
              "[1] 200   2"
            ]
          },
          "metadata": {}
        }
      ]
    },
    {
      "cell_type": "markdown",
      "metadata": {
        "id": "f8d5f3c4-3ccc-4094-b784-6aca3d28bc44"
      },
      "source": [
        "First, we use the `all.equal` function to confirm that the standard and\n",
        "optimized approaches produce the same results. `all.equal` confirms that\n",
        "the supplied objects are equal to each other."
      ]
    },
    {
      "cell_type": "code",
      "execution_count": 56,
      "metadata": {
        "id": "df916d17",
        "colab": {
          "base_uri": "https://localhost:8080/",
          "height": 34
        },
        "outputId": "c6311300-18a1-452c-a5c1-3c83d609a42f"
      },
      "outputs": [
        {
          "output_type": "display_data",
          "data": {
            "text/html": [
              "TRUE"
            ],
            "text/markdown": "TRUE",
            "text/latex": "TRUE",
            "text/plain": [
              "[1] TRUE"
            ]
          },
          "metadata": {}
        }
      ],
      "source": [
        "all.equal(t(A) %*% B, crossprod(A, B))"
      ]
    },
    {
      "cell_type": "code",
      "execution_count": 57,
      "metadata": {
        "id": "bce5aa54",
        "colab": {
          "base_uri": "https://localhost:8080/",
          "height": 34
        },
        "outputId": "049d6686-043c-40cc-bc14-ac5c4b02c29a"
      },
      "outputs": [
        {
          "output_type": "display_data",
          "data": {
            "text/html": [
              "TRUE"
            ],
            "text/markdown": "TRUE",
            "text/latex": "TRUE",
            "text/plain": [
              "[1] TRUE"
            ]
          },
          "metadata": {}
        }
      ],
      "source": [
        "all.equal(A %*% t(B), tcrossprod(A, B))"
      ]
    },
    {
      "cell_type": "markdown",
      "metadata": {
        "id": "1ea196e7-1aee-4e5e-9b61-7acf3ed21d8a"
      },
      "source": [
        "We will use the `microbenchmark()` function from the [`microbenchmark`](https://cran.r-project.org/web/)\n",
        "package (Mersmann 2024) to time the optimized and standard approaches to\n",
        "computing $\\mathbf{A}^T \\mathbf{B}$ and $\\mathbf{A} \\mathbf{B}^T$.\n",
        "\n",
        "Be sure you have already installed and loaded the `microbenchmark` package. If not, be sure to run the [code cells](#pack) at the start of this notebook."
      ]
    },
    {
      "cell_type": "code",
      "execution_count": 58,
      "metadata": {
        "id": "3a1d9e3f"
      },
      "outputs": [],
      "source": [
        "# run only if you have not already installed and loaded microbenchmark\n",
        "#install.packages(\"microbenchmark\")\n",
        "#library(microbenchmark)"
      ]
    },
    {
      "cell_type": "code",
      "source": [
        "A <- cbind(storms$wind[1:500], storms$pressure[1:500])\n",
        "B <- cbind(storms$lat[1:500], storms$long[1:500])\n",
        "dim(A)\n",
        "dim(B)"
      ],
      "metadata": {
        "colab": {
          "base_uri": "https://localhost:8080/",
          "height": 52
        },
        "id": "Ptzhi0iTzpfL",
        "outputId": "ede60a7f-37b6-4c40-e957-a9cd75fcf61f"
      },
      "execution_count": 59,
      "outputs": [
        {
          "output_type": "display_data",
          "data": {
            "text/html": [
              "<style>\n",
              ".list-inline {list-style: none; margin:0; padding: 0}\n",
              ".list-inline>li {display: inline-block}\n",
              ".list-inline>li:not(:last-child)::after {content: \"\\00b7\"; padding: 0 .5ex}\n",
              "</style>\n",
              "<ol class=list-inline><li>500</li><li>2</li></ol>\n"
            ],
            "text/markdown": "1. 500\n2. 2\n\n\n",
            "text/latex": "\\begin{enumerate*}\n\\item 500\n\\item 2\n\\end{enumerate*}\n",
            "text/plain": [
              "[1] 500   2"
            ]
          },
          "metadata": {}
        },
        {
          "output_type": "display_data",
          "data": {
            "text/html": [
              "<style>\n",
              ".list-inline {list-style: none; margin:0; padding: 0}\n",
              ".list-inline>li {display: inline-block}\n",
              ".list-inline>li:not(:last-child)::after {content: \"\\00b7\"; padding: 0 .5ex}\n",
              "</style>\n",
              "<ol class=list-inline><li>500</li><li>2</li></ol>\n"
            ],
            "text/markdown": "1. 500\n2. 2\n\n\n",
            "text/latex": "\\begin{enumerate*}\n\\item 500\n\\item 2\n\\end{enumerate*}\n",
            "text/plain": [
              "[1] 500   2"
            ]
          },
          "metadata": {}
        }
      ]
    },
    {
      "cell_type": "markdown",
      "metadata": {
        "id": "8cd2da1a-0b38-4eef-b722-936e0e945e26"
      },
      "source": [
        "We now compute $\\mathbf{A}^T \\mathbf{B}$ using the standard approach and\n",
        "using `crossprod` within the `microbenchmark` function. The\n",
        "`microbenchmark` function will perform each computation 100 times by\n",
        "default to determine the typical speed. We then use the `plot` function\n",
        "to plot the results."
      ]
    },
    {
      "cell_type": "code",
      "execution_count": 60,
      "metadata": {
        "id": "d444b7b5",
        "colab": {
          "base_uri": "https://localhost:8080/",
          "height": 437
        },
        "outputId": "240641e5-41ec-48ce-c567-ecee98693e50"
      },
      "outputs": [
        {
          "output_type": "display_data",
          "data": {
            "text/plain": [
              "plot without title"
            ],
            "image/png": "[encoded data removed]"
          },
          "metadata": {
            "image/png": {
              "width": 420,
              "height": 420
            }
          }
        }
      ],
      "source": [
        "t1 <- microbenchmark(t(A) %*% B, crossprod(A, B))\n",
        "plot(t1)\n",
        "#plot(t1, ylim = c(0, 10000))"
      ]
    },
    {
      "cell_type": "markdown",
      "metadata": {
        "id": "960041b0-b6e8-4d94-993f-7971a66502ec"
      },
      "source": [
        "While the results shown in the above plot will depend on the speed of\n",
        "the computer used to perform the calculation, the boxplot shown for\n",
        "`crossprod(A, B)` should be lower then `t(A) %*% B`, which means the\n",
        "`crossprod` approach is faster than the standard approach.\n",
        "\n",
        "We perform a similar analysis for computing $\\mathbf{A}\\mathbf{B}^T$."
      ]
    },
    {
      "cell_type": "code",
      "execution_count": 61,
      "metadata": {
        "id": "70c50a88",
        "colab": {
          "base_uri": "https://localhost:8080/",
          "height": 437
        },
        "outputId": "9cc983bc-0cab-40b5-d33a-247a23dd2f87"
      },
      "outputs": [
        {
          "output_type": "display_data",
          "data": {
            "text/plain": [
              "plot without title"
            ],
            "image/png": "[encoded data removed]"
          },
          "metadata": {
            "image/png": {
              "width": 420,
              "height": 420
            }
          }
        }
      ],
      "source": [
        "t2 <- microbenchmark(A %*% t(B), tcrossprod(A, B))\n",
        "plot(t2)\n",
        "#plot(t2, ylim = c(5000,450000))"
      ]
    },
    {
      "cell_type": "markdown",
      "metadata": {
        "id": "353ff1f0-de41-462f-a3ee-83acd7d2a9a4"
      },
      "source": [
        "Once again, the plot of our timing results should show that\n",
        "`tcrossprod(A, B)` can be computed faster than `A %*% t(B)`.\n",
        "\n"
      ]
    },
    {
      "cell_type": "markdown",
      "source": [
        "### <a name=\"order\">Order of matrix multiplication</a>\n",
        "\n",
        "---\n",
        "\n",
        "Matrix multiplication is associative, meaning that if we have compatible matrices $\\mathbf{A}$, $\\mathbf{B}$ and $\\mathbf{C}$, then\n",
        "\n",
        "$$(\\mathbf{A B})\\mathbf{C} = \\mathbf{A} (\\mathbf{B C}).$$\n",
        "\n",
        "The order of matrix multiplication can greatly impact how long it takes to perform the operations.\n",
        "\n",
        "**Prioritize performing operations that produce smaller matrices first.** Smaller can mean the total number of rows/columns or long/thin\n",
        "matrices, depending on the context.\n",
        "\n",
        "We create three matrices below filled with random values: `A` is a matrix of size $500\\times 2$, `B` is a matrix of size $2 \\times 50$, `C`\n",
        "is a $50\\times 1$ column vector."
      ],
      "metadata": {
        "id": "Htr9dmzp7BGJ"
      }
    },
    {
      "cell_type": "code",
      "execution_count": 62,
      "metadata": {
        "id": "42500d2b"
      },
      "outputs": [],
      "source": [
        "set.seed(1999)\n",
        "A <- matrix(rnorm(1000), ncol = 2)\n",
        "B <- matrix(rnorm(100), nrow = 2)\n",
        "C <- rnorm(50)"
      ]
    },
    {
      "cell_type": "markdown",
      "metadata": {
        "id": "65ebf37a-326e-4ba7-b3bc-18f7c1b69253"
      },
      "source": [
        "Computing $\\mathbf{A}(\\mathbf{BC})$ is much faster than computing\n",
        "$(\\mathbf{AB})\\mathbf{C}$ because $\\mathbf{BC}$ first produces\n",
        "$2\\times 1$ matrix while $\\mathbf{AB}$ produces a much larger\n",
        "$500 \\times 50$ matrix.\n",
        "\n",
        "We confirm this by timing these operations using the `microbenchmark`\n",
        "function and plotting the results."
      ]
    },
    {
      "cell_type": "code",
      "execution_count": 63,
      "metadata": {
        "id": "89db8738",
        "colab": {
          "base_uri": "https://localhost:8080/",
          "height": 437
        },
        "outputId": "74b58f41-1b6f-4a0d-d5cd-0a4b63563f3c"
      },
      "outputs": [
        {
          "output_type": "display_data",
          "data": {
            "text/plain": [
              "plot without title"
            ],
            "image/png": "[encoded data removed]"
          },
          "metadata": {
            "image/png": {
              "width": 420,
              "height": 420
            }
          }
        }
      ],
      "source": [
        "t3 <- microbenchmark((A %*% B) %*% C,\n",
        "                     A %*% (B %*% C))\n",
        "plot(t3, las = 2, cex.axis = 0.5)"
      ]
    },
    {
      "cell_type": "markdown",
      "metadata": {
        "id": "e1115d0c-d898-445d-9402-6139eb477fd8"
      },
      "source": [
        "# <a name=\"array\">Arrays</a>\n",
        "\n",
        "---\n",
        "\n",
        "An array is a multidimensional, homogeneous (one data type) data structure.\n",
        "\n",
        "-   Arrays can be 1, 2, 3, $\\ldots$ dimensions.\n",
        "-   Arrays are a generalization of a matrix.\n",
        "\n",
        "We will discuss 3-dimensional arrays because they are the easiest to visualize.\n",
        "\n",
        "A 3-dimensional array is like a loaf of bread.\n",
        "\n",
        "-   Each slice of bread is a two-dimensional matrix/array.\n",
        "-   We stack the matrix slices side-by-side to get the third dimension of our array.\n",
        "\n",
        "<img src=\"https://images.pexels.com/photos/166021/pexels-photo-166021.jpeg\" alt=\"Sliced bread\" width=\"500\"/>\n",
        "\n"
      ]
    },
    {
      "cell_type": "markdown",
      "source": [
        "## <a name=\"create-array\">Creating an Array</a>\n",
        "\n",
        "---\n",
        "\n",
        "We can create an array in R using the `array()` function.\n",
        "\n",
        "The two main arguments of the `array()` function are:\n",
        "\n",
        "-   `data`: an atomic vector.\n",
        "-   `dim`: a numeric vector indicating the size of each dimension.\n",
        "\n",
        "Similar to the `matrix` function, the `array` function fills in the columns of each matrix before repeating the process for each element of the third dimension.\n",
        "\n",
        "We create a 3-dimensional array with dimension $3\\times 2 \\times 4$ below."
      ],
      "metadata": {
        "id": "420ncUsy7gkK"
      }
    },
    {
      "cell_type": "code",
      "execution_count": 64,
      "metadata": {
        "id": "c45c345e",
        "colab": {
          "base_uri": "https://localhost:8080/"
        },
        "outputId": "40c9d843-bb86-4afb-8dc3-846bfa84a36c"
      },
      "outputs": [
        {
          "output_type": "stream",
          "name": "stdout",
          "text": [
            ", , 1\n",
            "\n",
            "     [,1] [,2]\n",
            "[1,]    1    4\n",
            "[2,]    2    5\n",
            "[3,]    3    6\n",
            "\n",
            ", , 2\n",
            "\n",
            "     [,1] [,2]\n",
            "[1,]    7   10\n",
            "[2,]    8   11\n",
            "[3,]    9   12\n",
            "\n",
            ", , 3\n",
            "\n",
            "     [,1] [,2]\n",
            "[1,]   13   16\n",
            "[2,]   14   17\n",
            "[3,]   15   18\n",
            "\n",
            ", , 4\n",
            "\n",
            "     [,1] [,2]\n",
            "[1,]   19   22\n",
            "[2,]   20   23\n",
            "[3,]   21   24\n",
            "\n"
          ]
        }
      ],
      "source": [
        "A <- array(1:24, dim = c(3, 2, 4))\n",
        "print(A)"
      ]
    },
    {
      "cell_type": "markdown",
      "metadata": {
        "id": "8920d0ec-f793-4128-9b78-6d836ffa8b9e"
      },
      "source": [
        "Alternatively, we can bind matrices or arrays together using the `abind()`\n",
        "function in the [`abind`](https://cran.r-project.org/web/packages/abind/index.html) package (Plate and Heiberger, 2024). This is actually a very complex function, but we illustrate its use for\n",
        "creating a 3-dimensional array by binding 2-dimensional matrices.\n",
        "\n",
        "-   Run `?abind::abind` in the Console for more details.\n",
        "\n",
        "We installed and loaded the `abind` package in the first couple of code cells in the notebook. If you need to reinstall and load, you can use the code cell below."
      ]
    },
    {
      "cell_type": "code",
      "execution_count": null,
      "metadata": {
        "id": "KE4NIxUq88IX"
      },
      "outputs": [],
      "source": [
        "# run only if you have not already installed and loaded microbenchmark\n",
        "#install.packages(\"abind\")\n",
        "#library(abind)"
      ]
    },
    {
      "cell_type": "markdown",
      "metadata": {
        "id": "90e264a7-69ae-4b9c-8d4f-b51b5ef6b524"
      },
      "source": [
        "We now bind two matrices along a 3rd-dimension to create a 3-dimensional\n",
        "array."
      ]
    },
    {
      "cell_type": "code",
      "execution_count": 65,
      "metadata": {
        "colab": {
          "base_uri": "https://localhost:8080/"
        },
        "outputId": "15d9ba15-276d-4529-b942-0201855ad516",
        "id": "DHgHbYVFhPii"
      },
      "outputs": [
        {
          "output_type": "stream",
          "name": "stdout",
          "text": [
            ", , 1\n",
            "\n",
            "     [,1] [,2]\n",
            "[1,]    1    4\n",
            "[2,]    2    5\n",
            "[3,]    3    6\n",
            "\n",
            ", , 2\n",
            "\n",
            "     [,1] [,2]\n",
            "[1,]    7   10\n",
            "[2,]    8   11\n",
            "[3,]    9   12\n",
            "\n"
          ]
        }
      ],
      "source": [
        "A <- abind(\n",
        "      matrix(1:6, nrow = 3),\n",
        "      matrix(7:12, nrow = 3),\n",
        "      along = 3)\n",
        "print(A)"
      ]
    },
    {
      "cell_type": "markdown",
      "metadata": {
        "id": "2em727oFhd9L"
      },
      "source": [
        "We create a second 3-dimensional array (of size $3\\times 2 \\times 2)$ named `B` below."
      ]
    },
    {
      "cell_type": "code",
      "execution_count": 66,
      "metadata": {
        "outputId": "4f8d04d0-e71b-49e7-d48e-3ebf0fce2fdb",
        "colab": {
          "base_uri": "https://localhost:8080/"
        },
        "id": "iyf0gdTthd9M"
      },
      "outputs": [
        {
          "output_type": "stream",
          "name": "stdout",
          "text": [
            ", , 1\n",
            "\n",
            "     [,1] [,2]\n",
            "[1,]   13   16\n",
            "[2,]   14   17\n",
            "[3,]   15   18\n",
            "\n",
            ", , 2\n",
            "\n",
            "     [,1] [,2]\n",
            "[1,]   19   22\n",
            "[2,]   20   23\n",
            "[3,]   21   24\n",
            "\n"
          ]
        }
      ],
      "source": [
        "B <- array(13:24, dim = c(3, 2, 2))\n",
        "print(B)"
      ]
    },
    {
      "cell_type": "markdown",
      "metadata": {
        "id": "XopXOgX2hd9M"
      },
      "source": [
        "To bind `A` and `B` together, we can use the `abind` function."
      ]
    },
    {
      "cell_type": "code",
      "execution_count": 67,
      "metadata": {
        "colab": {
          "base_uri": "https://localhost:8080/"
        },
        "outputId": "50a53c22-a664-49b9-8e8a-f912214c7fb6",
        "id": "m5uGri1Thd9M"
      },
      "outputs": [
        {
          "output_type": "stream",
          "name": "stdout",
          "text": [
            ", , 1\n",
            "\n",
            "     [,1] [,2]\n",
            "[1,]    1    4\n",
            "[2,]    2    5\n",
            "[3,]    3    6\n",
            "\n",
            ", , 2\n",
            "\n",
            "     [,1] [,2]\n",
            "[1,]    7   10\n",
            "[2,]    8   11\n",
            "[3,]    9   12\n",
            "\n",
            ", , 3\n",
            "\n",
            "     [,1] [,2]\n",
            "[1,]   13   16\n",
            "[2,]   14   17\n",
            "[3,]   15   18\n",
            "\n",
            ", , 4\n",
            "\n",
            "     [,1] [,2]\n",
            "[1,]   19   22\n",
            "[2,]   20   23\n",
            "[3,]   21   24\n",
            "\n"
          ]
        }
      ],
      "source": [
        "AB <- abind(A, B)\n",
        "print(AB)"
      ]
    },
    {
      "cell_type": "markdown",
      "metadata": {
        "id": "oVjjjKw8hd9N"
      },
      "source": [
        "The `dim` function can be used to determine the size of an array."
      ]
    },
    {
      "cell_type": "code",
      "execution_count": 68,
      "metadata": {
        "colab": {
          "base_uri": "https://localhost:8080/",
          "height": 34
        },
        "outputId": "0d689a33-69bc-457c-8a43-92e1becf8739",
        "id": "viPQZ2Lmhd9N"
      },
      "outputs": [
        {
          "output_type": "display_data",
          "data": {
            "text/html": [
              "<style>\n",
              ".list-inline {list-style: none; margin:0; padding: 0}\n",
              ".list-inline>li {display: inline-block}\n",
              ".list-inline>li:not(:last-child)::after {content: \"\\00b7\"; padding: 0 .5ex}\n",
              "</style>\n",
              "<ol class=list-inline><li>3</li><li>2</li><li>2</li></ol>\n"
            ],
            "text/markdown": "1. 3\n2. 2\n3. 2\n\n\n",
            "text/latex": "\\begin{enumerate*}\n\\item 3\n\\item 2\n\\item 2\n\\end{enumerate*}\n",
            "text/plain": [
              "[1] 3 2 2"
            ]
          },
          "metadata": {}
        }
      ],
      "source": [
        "dim(A)"
      ]
    },
    {
      "cell_type": "markdown",
      "metadata": {
        "id": "e3cd73d0-0856-4f2d-af6b-fc842f641f0d"
      },
      "source": [
        "## <a name=\"subset-array\">Subsetting an Array</a>\n",
        "\n",
        "---\n",
        "\n",
        "\n",
        "We can subset an array using indices in much the same way as a matrix. We use the `[ ]`\n",
        "operator and provide vectors indicating the desired positions in each dimension that we want to extract, with each dimension being separated\n",
        "by a comma.\n",
        "\n",
        "If `A` is an array with 3 dimensions, then we can select a rectangular subset of `A` using the syntax `A[v1, v2, v3]`, where `v1`, `v2`, and\n",
        "`v3` are `numeric` vectors indicating the indices of the desired elements in each dimension, respectively, that we want to select.\n",
        "\n",
        "We provide some examples below."
      ]
    },
    {
      "cell_type": "code",
      "execution_count": 69,
      "metadata": {
        "id": "26363db3",
        "colab": {
          "base_uri": "https://localhost:8080/"
        },
        "outputId": "44038522-6f8e-498c-f1ae-c282d3ba2cb7"
      },
      "outputs": [
        {
          "output_type": "stream",
          "name": "stdout",
          "text": [
            ", , 1\n",
            "\n",
            "     [,1] [,2]\n",
            "[1,]    1    4\n",
            "[2,]    2    5\n",
            "[3,]    3    6\n",
            "\n",
            ", , 2\n",
            "\n",
            "     [,1] [,2]\n",
            "[1,]    7   10\n",
            "[2,]    8   11\n",
            "[3,]    9   12\n",
            "\n",
            ", , 3\n",
            "\n",
            "     [,1] [,2]\n",
            "[1,]   13   16\n",
            "[2,]   14   17\n",
            "[3,]   15   18\n",
            "\n",
            ", , 4\n",
            "\n",
            "     [,1] [,2]\n",
            "[1,]   19   22\n",
            "[2,]   20   23\n",
            "[3,]   21   24\n",
            "\n"
          ]
        }
      ],
      "source": [
        "A <- array(1:24, dim = c(3, 2, 4))\n",
        "print(A)"
      ]
    },
    {
      "cell_type": "markdown",
      "metadata": {
        "id": "21333ea7-cc78-416e-a60d-73917ade978b"
      },
      "source": [
        "Here, we subset the first element of the first dimension of `A`. This\n",
        "will run across the two elements of the second dimension of `A` and\n",
        "across all 4 elements of the third dimension."
      ]
    },
    {
      "cell_type": "code",
      "execution_count": 70,
      "metadata": {
        "id": "f68cca8d",
        "colab": {
          "base_uri": "https://localhost:8080/"
        },
        "outputId": "8450322e-03e6-42a6-a52d-40b1661fece7"
      },
      "outputs": [
        {
          "output_type": "stream",
          "name": "stdout",
          "text": [
            "     [,1] [,2] [,3] [,4]\n",
            "[1,]    1    7   13   19\n",
            "[2,]    4   10   16   22\n"
          ]
        }
      ],
      "source": [
        "print(A[1, , ])"
      ]
    },
    {
      "cell_type": "markdown",
      "metadata": {
        "id": "34c78f3f-9b50-4c56-b4ed-e96bb7263d34"
      },
      "source": [
        "We subset the second element of the second dimension of `A`. This will\n",
        "run across all 3 elements of the first dimension of `A` and across all 4\n",
        "elements of the 3rd dimension."
      ]
    },
    {
      "cell_type": "code",
      "execution_count": 71,
      "metadata": {
        "id": "103a8e0b",
        "colab": {
          "base_uri": "https://localhost:8080/"
        },
        "outputId": "2c3add1c-d0fb-4d57-ef56-4e5570965e7c"
      },
      "outputs": [
        {
          "output_type": "stream",
          "name": "stdout",
          "text": [
            "     [,1] [,2] [,3] [,4]\n",
            "[1,]    4   10   16   22\n",
            "[2,]    5   11   17   23\n",
            "[3,]    6   12   18   24\n"
          ]
        }
      ],
      "source": [
        "print(A[, 2, ])"
      ]
    },
    {
      "cell_type": "markdown",
      "metadata": {
        "id": "ddc928f7-f3f5-41e6-9a7d-ec3cdcb3e2e9"
      },
      "source": [
        "We subset the second and third elements of the third dimension of `A`,\n",
        "i.e., the second and third slices of the third dimension of `A`. This\n",
        "will run across all 3 elements of the first dimension of `A` and across\n",
        "both elements of the second dimension."
      ]
    },
    {
      "cell_type": "code",
      "execution_count": 72,
      "metadata": {
        "id": "26b51903",
        "colab": {
          "base_uri": "https://localhost:8080/"
        },
        "outputId": "7715660f-d1c4-49ea-a747-7cc8adb60276"
      },
      "outputs": [
        {
          "output_type": "stream",
          "name": "stdout",
          "text": [
            ", , 1\n",
            "\n",
            "     [,1] [,2]\n",
            "[1,]    7   10\n",
            "[2,]    8   11\n",
            "[3,]    9   12\n",
            "\n",
            ", , 2\n",
            "\n",
            "     [,1] [,2]\n",
            "[1,]   13   16\n",
            "[2,]   14   17\n",
            "[3,]   15   18\n",
            "\n"
          ]
        }
      ],
      "source": [
        "print(A[, , 2:3])"
      ]
    },
    {
      "cell_type": "markdown",
      "metadata": {
        "id": "353b1762-95e3-4b80-b3bb-2f407db57942"
      },
      "source": [
        "If we subset an array such that the subset can be thought of as a vector\n",
        "(e.g., a $1\\times 1 \\times 4$ array is like a vector with length 4),\n",
        "then R will automatically convert the subsetted object to a vector\n",
        "because the `[` operator has a hidden `drop` argument that by default\n",
        "coerces the result to the lowest possible dimension."
      ]
    },
    {
      "cell_type": "code",
      "execution_count": 73,
      "metadata": {
        "id": "cb8d5b10",
        "colab": {
          "base_uri": "https://localhost:8080/"
        },
        "outputId": "f0ed56aa-1c34-41c7-8503-b2d5c9c51bc0"
      },
      "outputs": [
        {
          "output_type": "stream",
          "name": "stdout",
          "text": [
            "[1]  1  7 13 19\n"
          ]
        }
      ],
      "source": [
        "print(A[1, 1, ])"
      ]
    },
    {
      "cell_type": "markdown",
      "metadata": {
        "id": "5dbbb740-2bb2-4a9d-afe7-b5e7ae39af74"
      },
      "source": [
        "To avoid this behavior, we must set `drop` to `FALSE`."
      ]
    },
    {
      "cell_type": "code",
      "execution_count": 74,
      "metadata": {
        "id": "fb58d9c1",
        "colab": {
          "base_uri": "https://localhost:8080/"
        },
        "outputId": "dbd50cb3-29e3-42aa-de66-946f2d0a59e4"
      },
      "outputs": [
        {
          "output_type": "stream",
          "name": "stdout",
          "text": [
            ", , 1\n",
            "\n",
            "     [,1]\n",
            "[1,]    1\n",
            "\n",
            ", , 2\n",
            "\n",
            "     [,1]\n",
            "[1,]    7\n",
            "\n",
            ", , 3\n",
            "\n",
            "     [,1]\n",
            "[1,]   13\n",
            "\n",
            ", , 4\n",
            "\n",
            "     [,1]\n",
            "[1,]   19\n",
            "\n"
          ]
        }
      ],
      "source": [
        "print(A[1, 1, , drop = FALSE])"
      ]
    },
    {
      "cell_type": "markdown",
      "metadata": {
        "id": "512cdd8b-61ef-4364-b636-994067e70bdc"
      },
      "source": [
        "If we want to select specific *elements* of an array (and not a\n",
        "rectangular subset) then we can pass a matrix indicating the elements we\n",
        "want to select.\n",
        "\n",
        "-   The number of columns of the matrix needs to match the number of\n",
        "    dimensions of the array we are subsetting.\n",
        "-   Each row of the matrix indicates an element we want to select.\n",
        "\n",
        "We create an matrix, `v`, to subset the elements in positions\n",
        "$(1, 1, 1)$ and $(3, 2, 4)$ of `A`."
      ]
    },
    {
      "cell_type": "code",
      "execution_count": 75,
      "metadata": {
        "id": "dba65ee6",
        "colab": {
          "base_uri": "https://localhost:8080/",
          "height": 132
        },
        "outputId": "74356bbe-b16d-401c-daf2-3ad3e450eb27"
      },
      "outputs": [
        {
          "output_type": "display_data",
          "data": {
            "text/html": [
              "<table class=\"dataframe\">\n",
              "<caption>A matrix: 2 × 3 of type dbl</caption>\n",
              "<tbody>\n",
              "\t<tr><td>1</td><td>1</td><td>1</td></tr>\n",
              "\t<tr><td>3</td><td>2</td><td>4</td></tr>\n",
              "</tbody>\n",
              "</table>\n"
            ],
            "text/markdown": "\nA matrix: 2 × 3 of type dbl\n\n| 1 | 1 | 1 |\n| 3 | 2 | 4 |\n\n",
            "text/latex": "A matrix: 2 × 3 of type dbl\n\\begin{tabular}{lll}\n\t 1 & 1 & 1\\\\\n\t 3 & 2 & 4\\\\\n\\end{tabular}\n",
            "text/plain": [
              "     [,1] [,2] [,3]\n",
              "[1,] 1    1    1   \n",
              "[2,] 3    2    4   "
            ]
          },
          "metadata": {}
        }
      ],
      "source": [
        "v <- cbind(c(1, 3), c(1, 2), c(1, 4))\n",
        "v"
      ]
    },
    {
      "cell_type": "markdown",
      "metadata": {
        "id": "4bd30534-f56e-45b3-8f07-7ffff3eb6b4f"
      },
      "source": [
        "We now use `v` to subset these elements of `A`."
      ]
    },
    {
      "cell_type": "code",
      "execution_count": 76,
      "metadata": {
        "id": "e46257c0",
        "colab": {
          "base_uri": "https://localhost:8080/"
        },
        "outputId": "abaaab9c-dadd-4476-be67-5f5051ed2b18"
      },
      "outputs": [
        {
          "output_type": "stream",
          "name": "stdout",
          "text": [
            "[1]  1 24\n"
          ]
        }
      ],
      "source": [
        "print(A[v])"
      ]
    },
    {
      "cell_type": "markdown",
      "metadata": {
        "id": "56ec1678-85f9-4286-8a7a-667bb2a170ce"
      },
      "source": [
        "We can use the `-` syntax we learned with `matrix` objects to subset\n",
        "parts of an array that are not in certain positions, but we don’t\n",
        "demonstrate its usage here.\n",
        "\n"
      ]
    },
    {
      "cell_type": "markdown",
      "source": [
        "# <a name=\"lists\">Lists</a>\n",
        "\n",
        "---\n",
        "\n",
        "\n",
        "A list in R is a non-atomic vector.\n",
        "\n",
        "-   It is a vector, meaning it is one-dimensional.\n",
        "-   It is non-atomic, meaning it can hold data beyond the basic types\n",
        "    (`character`, `integer`, `double`, `logical`, `complex`, `raw`).\n",
        "\n",
        "Lists are commonly used in two different ways:\n",
        "\n",
        "1.  A vector with elements of the same non-atomic type, e.g., a vector of `lm` objects from the `lm` function.\n",
        "2.  A vector of elements of many different types. This is often used in objected-oriented programming in R, which we will not discuss.\n",
        "\n",
        "We will shortly discuss the first type of list in the context of loops and apply functions, where they make more sense. For now, we focus on the second type.\n",
        "\n"
      ],
      "metadata": {
        "id": "0_e2icyB9bg0"
      }
    },
    {
      "cell_type": "markdown",
      "source": [
        "## <a name=\"create-list\">Creating a List</a>\n",
        "\n",
        "---\n",
        "\n",
        "A list is stored as a `list` object.\n",
        "\n",
        "A `list` object can be created using the `list()` function. Simply pass the objects you want to include the `list` as arguments to the `list`\n",
        "function.\n",
        "\n",
        "We provide an example below. We create a list that includes a vector, a matrix, and a function."
      ],
      "metadata": {
        "id": "Mc_cIvTp9vyY"
      }
    },
    {
      "cell_type": "code",
      "execution_count": 77,
      "metadata": {
        "id": "bb9a4385",
        "colab": {
          "base_uri": "https://localhost:8080/",
          "height": 194
        },
        "outputId": "ed877a90-2027-4373-d217-6db4bf5c5507"
      },
      "outputs": [
        {
          "output_type": "display_data",
          "data": {
            "text/html": [
              "<ol>\n",
              "\t<li><style>\n",
              ".list-inline {list-style: none; margin:0; padding: 0}\n",
              ".list-inline>li {display: inline-block}\n",
              ".list-inline>li:not(:last-child)::after {content: \"\\00b7\"; padding: 0 .5ex}\n",
              "</style>\n",
              "<ol class=list-inline><li>1</li><li>2</li><li>3</li><li>4</li><li>5</li><li>6</li><li>7</li><li>8</li><li>9</li><li>10</li></ol>\n",
              "</li>\n",
              "\t<li><table class=\"dataframe\">\n",
              "<caption>A matrix: 2 × 5 of type int</caption>\n",
              "<tbody>\n",
              "\t<tr><td>1</td><td>3</td><td>5</td><td>7</td><td> 9</td></tr>\n",
              "\t<tr><td>2</td><td>4</td><td>6</td><td>8</td><td>10</td></tr>\n",
              "</tbody>\n",
              "</table>\n",
              "</li>\n",
              "\t<li><pre class=language-r><code>function (x, ...) \n",
              "UseMethod(\"mean\")</code></pre></li>\n",
              "</ol>\n"
            ],
            "text/markdown": "1. 1. 1\n2. 2\n3. 3\n4. 4\n5. 5\n6. 6\n7. 7\n8. 8\n9. 9\n10. 10\n\n\n\n2. \nA matrix: 2 × 5 of type int\n\n| 1 | 3 | 5 | 7 |  9 |\n| 2 | 4 | 6 | 8 | 10 |\n\n\n3. ```r\nfunction (x, ...) \nUseMethod(\"mean\")\n```\n\n\n",
            "text/latex": "\\begin{enumerate}\n\\item \\begin{enumerate*}\n\\item 1\n\\item 2\n\\item 3\n\\item 4\n\\item 5\n\\item 6\n\\item 7\n\\item 8\n\\item 9\n\\item 10\n\\end{enumerate*}\n\n\\item A matrix: 2 × 5 of type int\n\\begin{tabular}{lllll}\n\t 1 & 3 & 5 & 7 &  9\\\\\n\t 2 & 4 & 6 & 8 & 10\\\\\n\\end{tabular}\n\n\\item \\begin{minted}{r}\nfunction (x, ...) \nUseMethod(\"mean\")\n\\end{minted}\n\\end{enumerate}\n",
            "text/plain": [
              "[[1]]\n",
              " [1]  1  2  3  4  5  6  7  8  9 10\n",
              "\n",
              "[[2]]\n",
              "     [,1] [,2] [,3] [,4] [,5]\n",
              "[1,]    1    3    5    7    9\n",
              "[2,]    2    4    6    8   10\n",
              "\n",
              "[[3]]\n",
              "function (x, ...) \n",
              "UseMethod(\"mean\")\n",
              "<bytecode: 0x558cfe788e58>\n",
              "<environment: namespace:base>\n"
            ]
          },
          "metadata": {}
        }
      ],
      "source": [
        "list(1:10, matrix(1:10, nrow = 2), mean)"
      ]
    },
    {
      "cell_type": "markdown",
      "metadata": {
        "id": "8ecbf101-8ace-4241-b9b5-f55f2057ade4"
      },
      "source": [
        "It is common to assign the elements of a list names to make them easier\n",
        "to reference. To do that, we simply use the syntax `name = x` in our\n",
        "list, where `name` is the name we want to give the element and `x` is\n",
        "the object we are including in our list."
      ]
    },
    {
      "cell_type": "code",
      "execution_count": 78,
      "metadata": {
        "id": "90ce4521",
        "colab": {
          "base_uri": "https://localhost:8080/",
          "height": 247
        },
        "outputId": "f18d2cc3-a206-431b-a5e2-785371580ea1"
      },
      "outputs": [
        {
          "output_type": "display_data",
          "data": {
            "text/html": [
              "<dl>\n",
              "\t<dt>$a</dt>\n",
              "\t\t<dd><style>\n",
              ".list-inline {list-style: none; margin:0; padding: 0}\n",
              ".list-inline>li {display: inline-block}\n",
              ".list-inline>li:not(:last-child)::after {content: \"\\00b7\"; padding: 0 .5ex}\n",
              "</style>\n",
              "<ol class=list-inline><li>1</li><li>2</li><li>3</li><li>4</li><li>5</li><li>6</li><li>7</li><li>8</li><li>9</li><li>10</li></ol>\n",
              "</dd>\n",
              "\t<dt>$b</dt>\n",
              "\t\t<dd><table class=\"dataframe\">\n",
              "<caption>A matrix: 2 × 5 of type int</caption>\n",
              "<tbody>\n",
              "\t<tr><td>1</td><td>3</td><td>5</td><td>7</td><td> 9</td></tr>\n",
              "\t<tr><td>2</td><td>4</td><td>6</td><td>8</td><td>10</td></tr>\n",
              "</tbody>\n",
              "</table>\n",
              "</dd>\n",
              "\t<dt>$f</dt>\n",
              "\t\t<dd><pre class=language-r><code>function (x, ...) \n",
              "UseMethod(\"mean\")</code></pre></dd>\n",
              "</dl>\n"
            ],
            "text/markdown": "$a\n:   1. 1\n2. 2\n3. 3\n4. 4\n5. 5\n6. 6\n7. 7\n8. 8\n9. 9\n10. 10\n\n\n\n$b\n:   \nA matrix: 2 × 5 of type int\n\n| 1 | 3 | 5 | 7 |  9 |\n| 2 | 4 | 6 | 8 | 10 |\n\n\n$f\n:   ```r\nfunction (x, ...) \nUseMethod(\"mean\")\n```\n\n\n",
            "text/latex": "\\begin{description}\n\\item[\\$a] \\begin{enumerate*}\n\\item 1\n\\item 2\n\\item 3\n\\item 4\n\\item 5\n\\item 6\n\\item 7\n\\item 8\n\\item 9\n\\item 10\n\\end{enumerate*}\n\n\\item[\\$b] A matrix: 2 × 5 of type int\n\\begin{tabular}{lllll}\n\t 1 & 3 & 5 & 7 &  9\\\\\n\t 2 & 4 & 6 & 8 & 10\\\\\n\\end{tabular}\n\n\\item[\\$f] \\begin{minted}{r}\nfunction (x, ...) \nUseMethod(\"mean\")\n\\end{minted}\n\\end{description}\n",
            "text/plain": [
              "$a\n",
              " [1]  1  2  3  4  5  6  7  8  9 10\n",
              "\n",
              "$b\n",
              "     [,1] [,2] [,3] [,4] [,5]\n",
              "[1,]    1    3    5    7    9\n",
              "[2,]    2    4    6    8   10\n",
              "\n",
              "$f\n",
              "function (x, ...) \n",
              "UseMethod(\"mean\")\n",
              "<bytecode: 0x558cfe788e58>\n",
              "<environment: namespace:base>\n"
            ]
          },
          "metadata": {}
        }
      ],
      "source": [
        "mylist <- list(a = 1:10, b = matrix(1:10, nrow = 2), f = mean)\n",
        "mylist"
      ]
    },
    {
      "cell_type": "markdown",
      "metadata": {
        "id": "36c1ab38-3784-4399-9753-1b93a05631a2"
      },
      "source": [
        "We can create a new list by combining two or more other lists using the\n",
        "`c` function.\n",
        "\n",
        "We combine 3 simple lists below using the `c` function."
      ]
    },
    {
      "cell_type": "code",
      "execution_count": 79,
      "metadata": {
        "id": "1973fe9f",
        "colab": {
          "base_uri": "https://localhost:8080/",
          "height": 149
        },
        "outputId": "190308b5-ded5-4470-d31a-69aa257a3e3c"
      },
      "outputs": [
        {
          "output_type": "display_data",
          "data": {
            "text/html": [
              "<ol>\n",
              "\t<li>1</li>\n",
              "\t<li><style>\n",
              ".list-inline {list-style: none; margin:0; padding: 0}\n",
              ".list-inline>li {display: inline-block}\n",
              ".list-inline>li:not(:last-child)::after {content: \"\\00b7\"; padding: 0 .5ex}\n",
              "</style>\n",
              "<ol class=list-inline><li>1</li><li>2</li></ol>\n",
              "</li>\n",
              "\t<li>'a'</li>\n",
              "\t<li><style>\n",
              ".list-inline {list-style: none; margin:0; padding: 0}\n",
              ".list-inline>li {display: inline-block}\n",
              ".list-inline>li:not(:last-child)::after {content: \"\\00b7\"; padding: 0 .5ex}\n",
              "</style>\n",
              "<ol class=list-inline><li>'a'</li><li>'b'</li></ol>\n",
              "</li>\n",
              "\t<li>TRUE</li>\n",
              "\t<li><style>\n",
              ".list-inline {list-style: none; margin:0; padding: 0}\n",
              ".list-inline>li {display: inline-block}\n",
              ".list-inline>li:not(:last-child)::after {content: \"\\00b7\"; padding: 0 .5ex}\n",
              "</style>\n",
              "<ol class=list-inline><li>TRUE</li><li>FALSE</li></ol>\n",
              "</li>\n",
              "</ol>\n"
            ],
            "text/markdown": "1. 1\n2. 1. 1\n2. 2\n\n\n\n3. 'a'\n4. 1. 'a'\n2. 'b'\n\n\n\n5. TRUE\n6. 1. TRUE\n2. FALSE\n\n\n\n\n\n",
            "text/latex": "\\begin{enumerate}\n\\item 1\n\\item \\begin{enumerate*}\n\\item 1\n\\item 2\n\\end{enumerate*}\n\n\\item 'a'\n\\item \\begin{enumerate*}\n\\item 'a'\n\\item 'b'\n\\end{enumerate*}\n\n\\item TRUE\n\\item \\begin{enumerate*}\n\\item TRUE\n\\item FALSE\n\\end{enumerate*}\n\n\\end{enumerate}\n",
            "text/plain": [
              "[[1]]\n",
              "[1] 1\n",
              "\n",
              "[[2]]\n",
              "[1] 1 2\n",
              "\n",
              "[[3]]\n",
              "[1] \"a\"\n",
              "\n",
              "[[4]]\n",
              "[1] \"a\" \"b\"\n",
              "\n",
              "[[5]]\n",
              "[1] TRUE\n",
              "\n",
              "[[6]]\n",
              "[1]  TRUE FALSE\n"
            ]
          },
          "metadata": {}
        }
      ],
      "source": [
        "c(list(1, 1:2), list(\"a\", c(\"a\", \"b\")), list(TRUE, c(TRUE, FALSE)))"
      ]
    },
    {
      "cell_type": "markdown",
      "metadata": {
        "id": "591b1bab-f7cf-4016-8fe2-a369f9a7efa6"
      },
      "source": [
        "## <a name=\"subset-list\">Subsetting a List</a>\n",
        "\n",
        "---\n",
        "\n",
        "Subsetting a list is more similar to subsetting an atomic vector than it is to subsetting a matrix or array. We create a simple 4-element list with named components below."
      ]
    },
    {
      "cell_type": "code",
      "execution_count": 80,
      "metadata": {
        "id": "a35ae3e8"
      },
      "outputs": [],
      "source": [
        "a <- list(a = 1, b = 1:2, c = 1:3, d = 1:4)"
      ]
    },
    {
      "cell_type": "markdown",
      "metadata": {
        "id": "a10ac109-8701-4467-b2c7-8a35f94f8449"
      },
      "source": [
        "To subset elements of the list, we append `[idx]` to the end of the\n",
        "list’s name, where `idx` is a vector with the indices of the elements we\n",
        "want to extract or a logical vector indicating the elements we want to\n",
        "extract.\n",
        "\n",
        "In the example below, we extract the 1st and 3rd elements of `a`."
      ]
    },
    {
      "cell_type": "code",
      "execution_count": 81,
      "metadata": {
        "id": "72f355b9",
        "colab": {
          "base_uri": "https://localhost:8080/",
          "height": 114
        },
        "outputId": "e2a7ed37-77b2-42e8-df7e-4a237de96a08"
      },
      "outputs": [
        {
          "output_type": "display_data",
          "data": {
            "text/html": [
              "<dl>\n",
              "\t<dt>$a</dt>\n",
              "\t\t<dd>1</dd>\n",
              "\t<dt>$c</dt>\n",
              "\t\t<dd><style>\n",
              ".list-inline {list-style: none; margin:0; padding: 0}\n",
              ".list-inline>li {display: inline-block}\n",
              ".list-inline>li:not(:last-child)::after {content: \"\\00b7\"; padding: 0 .5ex}\n",
              "</style>\n",
              "<ol class=list-inline><li>1</li><li>2</li><li>3</li></ol>\n",
              "</dd>\n",
              "</dl>\n"
            ],
            "text/markdown": "$a\n:   1\n$c\n:   1. 1\n2. 2\n3. 3\n\n\n\n\n\n",
            "text/latex": "\\begin{description}\n\\item[\\$a] 1\n\\item[\\$c] \\begin{enumerate*}\n\\item 1\n\\item 2\n\\item 3\n\\end{enumerate*}\n\n\\end{description}\n",
            "text/plain": [
              "$a\n",
              "[1] 1\n",
              "\n",
              "$c\n",
              "[1] 1 2 3\n"
            ]
          },
          "metadata": {}
        }
      ],
      "source": [
        "a[c(1, 3)]"
      ]
    },
    {
      "cell_type": "markdown",
      "metadata": {
        "id": "c44549a1-8baf-4415-9245-7011cf7933fe"
      },
      "source": [
        "In the next example, we use a logical vector to subset the 2nd and 4th\n",
        "elements of `a`."
      ]
    },
    {
      "cell_type": "code",
      "execution_count": 82,
      "metadata": {
        "id": "0b3d6945",
        "colab": {
          "base_uri": "https://localhost:8080/",
          "height": 114
        },
        "outputId": "14f47471-1295-4df8-97fb-7cf9a32ad608"
      },
      "outputs": [
        {
          "output_type": "display_data",
          "data": {
            "text/html": [
              "<dl>\n",
              "\t<dt>$b</dt>\n",
              "\t\t<dd><style>\n",
              ".list-inline {list-style: none; margin:0; padding: 0}\n",
              ".list-inline>li {display: inline-block}\n",
              ".list-inline>li:not(:last-child)::after {content: \"\\00b7\"; padding: 0 .5ex}\n",
              "</style>\n",
              "<ol class=list-inline><li>1</li><li>2</li></ol>\n",
              "</dd>\n",
              "\t<dt>$d</dt>\n",
              "\t\t<dd><style>\n",
              ".list-inline {list-style: none; margin:0; padding: 0}\n",
              ".list-inline>li {display: inline-block}\n",
              ".list-inline>li:not(:last-child)::after {content: \"\\00b7\"; padding: 0 .5ex}\n",
              "</style>\n",
              "<ol class=list-inline><li>1</li><li>2</li><li>3</li><li>4</li></ol>\n",
              "</dd>\n",
              "</dl>\n"
            ],
            "text/markdown": "$b\n:   1. 1\n2. 2\n\n\n\n$d\n:   1. 1\n2. 2\n3. 3\n4. 4\n\n\n\n\n\n",
            "text/latex": "\\begin{description}\n\\item[\\$b] \\begin{enumerate*}\n\\item 1\n\\item 2\n\\end{enumerate*}\n\n\\item[\\$d] \\begin{enumerate*}\n\\item 1\n\\item 2\n\\item 3\n\\item 4\n\\end{enumerate*}\n\n\\end{description}\n",
            "text/plain": [
              "$b\n",
              "[1] 1 2\n",
              "\n",
              "$d\n",
              "[1] 1 2 3 4\n"
            ]
          },
          "metadata": {}
        }
      ],
      "source": [
        "a[c(FALSE, TRUE, FALSE, TRUE)]"
      ]
    },
    {
      "cell_type": "markdown",
      "metadata": {
        "id": "d6b3898c-54a0-4eed-8549-eabb57e7a0d9"
      },
      "source": [
        "Since the elements of the list are named, we can also use a vector of\n",
        "character strings to indicate the elements we want to subset.\n",
        "\n",
        "We subset elements `c` and `d` below."
      ]
    },
    {
      "cell_type": "code",
      "execution_count": 83,
      "metadata": {
        "id": "ff20d34f",
        "colab": {
          "base_uri": "https://localhost:8080/",
          "height": 114
        },
        "outputId": "1fecc74d-bd4b-40c5-bc63-bc3fe772f8d4"
      },
      "outputs": [
        {
          "output_type": "display_data",
          "data": {
            "text/html": [
              "<dl>\n",
              "\t<dt>$c</dt>\n",
              "\t\t<dd><style>\n",
              ".list-inline {list-style: none; margin:0; padding: 0}\n",
              ".list-inline>li {display: inline-block}\n",
              ".list-inline>li:not(:last-child)::after {content: \"\\00b7\"; padding: 0 .5ex}\n",
              "</style>\n",
              "<ol class=list-inline><li>1</li><li>2</li><li>3</li></ol>\n",
              "</dd>\n",
              "\t<dt>$d</dt>\n",
              "\t\t<dd><style>\n",
              ".list-inline {list-style: none; margin:0; padding: 0}\n",
              ".list-inline>li {display: inline-block}\n",
              ".list-inline>li:not(:last-child)::after {content: \"\\00b7\"; padding: 0 .5ex}\n",
              "</style>\n",
              "<ol class=list-inline><li>1</li><li>2</li><li>3</li><li>4</li></ol>\n",
              "</dd>\n",
              "</dl>\n"
            ],
            "text/markdown": "$c\n:   1. 1\n2. 2\n3. 3\n\n\n\n$d\n:   1. 1\n2. 2\n3. 3\n4. 4\n\n\n\n\n\n",
            "text/latex": "\\begin{description}\n\\item[\\$c] \\begin{enumerate*}\n\\item 1\n\\item 2\n\\item 3\n\\end{enumerate*}\n\n\\item[\\$d] \\begin{enumerate*}\n\\item 1\n\\item 2\n\\item 3\n\\item 4\n\\end{enumerate*}\n\n\\end{description}\n",
            "text/plain": [
              "$c\n",
              "[1] 1 2 3\n",
              "\n",
              "$d\n",
              "[1] 1 2 3 4\n"
            ]
          },
          "metadata": {}
        }
      ],
      "source": [
        "a[c(\"c\", \"d\")]"
      ]
    },
    {
      "cell_type": "markdown",
      "metadata": {
        "id": "17721497-531b-42b9-806d-8fbaa1e56556"
      },
      "source": [
        "If we want to extract a specific element out of our list, then we append\n",
        "`[[i]]` to the list’s name, with `i` indicating the index of the element\n",
        "we want to extract.\n",
        "\n",
        "In the example below, we extract the second element of `a`. Notice that\n",
        "the result is the vector `1:2`, which is what is contained in the 2nd\n",
        "element of `a`."
      ]
    },
    {
      "cell_type": "code",
      "execution_count": 84,
      "metadata": {
        "id": "522d9e99",
        "colab": {
          "base_uri": "https://localhost:8080/",
          "height": 34
        },
        "outputId": "9d525cb0-7fa2-4634-b319-361e5383237b"
      },
      "outputs": [
        {
          "output_type": "display_data",
          "data": {
            "text/html": [
              "<style>\n",
              ".list-inline {list-style: none; margin:0; padding: 0}\n",
              ".list-inline>li {display: inline-block}\n",
              ".list-inline>li:not(:last-child)::after {content: \"\\00b7\"; padding: 0 .5ex}\n",
              "</style>\n",
              "<ol class=list-inline><li>1</li><li>2</li></ol>\n"
            ],
            "text/markdown": "1. 1\n2. 2\n\n\n",
            "text/latex": "\\begin{enumerate*}\n\\item 1\n\\item 2\n\\end{enumerate*}\n",
            "text/plain": [
              "[1] 1 2"
            ]
          },
          "metadata": {}
        }
      ],
      "source": [
        "a[[2]]"
      ]
    },
    {
      "cell_type": "markdown",
      "metadata": {
        "id": "9283d3d9-0cec-4a9e-98df-f8956b3a6dca"
      },
      "source": [
        "What is the difference between the previous result and what we get from\n",
        "the following command?"
      ]
    },
    {
      "cell_type": "code",
      "execution_count": 85,
      "metadata": {
        "id": "c1c75e21",
        "colab": {
          "base_uri": "https://localhost:8080/",
          "height": 52
        },
        "outputId": "dc9a4844-abe8-439e-e45e-dc1604426bf1"
      },
      "outputs": [
        {
          "output_type": "display_data",
          "data": {
            "text/html": [
              "<strong>$b</strong> = <style>\n",
              ".list-inline {list-style: none; margin:0; padding: 0}\n",
              ".list-inline>li {display: inline-block}\n",
              ".list-inline>li:not(:last-child)::after {content: \"\\00b7\"; padding: 0 .5ex}\n",
              "</style>\n",
              "<ol class=list-inline><li>1</li><li>2</li></ol>\n"
            ],
            "text/markdown": "**$b** = 1. 1\n2. 2\n\n\n",
            "text/latex": "\\textbf{\\$b} = \\begin{enumerate*}\n\\item 1\n\\item 2\n\\end{enumerate*}\n",
            "text/plain": [
              "$b\n",
              "[1] 1 2\n"
            ]
          },
          "metadata": {}
        }
      ],
      "source": [
        "a[2]"
      ]
    },
    {
      "cell_type": "markdown",
      "metadata": {
        "id": "c30b7f60-9f87-46d6-94a6-18e1a434c598"
      },
      "source": [
        "In the former example, we extracted the object that was in the 2nd\n",
        "element of `a`. In the latter example, we get a list with only one\n",
        "element. The only element of this list is what was previously the 2nd\n",
        "element of `a`.\n",
        "\n",
        "For a list with named components, we can use the `$` operator to extract\n",
        "a specific element.\n",
        "\n",
        "In the code below, we extract the object in element `\"c\"` of `a`."
      ]
    },
    {
      "cell_type": "code",
      "execution_count": 86,
      "metadata": {
        "id": "0b54b1a1",
        "colab": {
          "base_uri": "https://localhost:8080/",
          "height": 34
        },
        "outputId": "bb967bd7-9d7f-4457-8b38-9c6f68d9d7ba"
      },
      "outputs": [
        {
          "output_type": "display_data",
          "data": {
            "text/html": [
              "<style>\n",
              ".list-inline {list-style: none; margin:0; padding: 0}\n",
              ".list-inline>li {display: inline-block}\n",
              ".list-inline>li:not(:last-child)::after {content: \"\\00b7\"; padding: 0 .5ex}\n",
              "</style>\n",
              "<ol class=list-inline><li>1</li><li>2</li><li>3</li></ol>\n"
            ],
            "text/markdown": "1. 1\n2. 2\n3. 3\n\n\n",
            "text/latex": "\\begin{enumerate*}\n\\item 1\n\\item 2\n\\item 3\n\\end{enumerate*}\n",
            "text/plain": [
              "[1] 1 2 3"
            ]
          },
          "metadata": {}
        }
      ],
      "source": [
        "a$c"
      ]
    },
    {
      "cell_type": "markdown",
      "metadata": {
        "id": "b260fe7b-637a-4cb7-8d6d-ac211a93e20a"
      },
      "source": [
        "## <a name=\"nested-list\">Nested Lists</a>\n",
        "\n",
        "---\n",
        "\n",
        "We can create lists of lists of lists, which create “nested” lists because the lists are nested in each other.\n",
        "\n",
        "In that case, to subset elements of the lists, we might need to stack usage of `[]` or `[[]]` side by side to subset or extract the desired\n",
        "elements.\n",
        "\n",
        "We create a nested list below."
      ]
    },
    {
      "cell_type": "code",
      "execution_count": 87,
      "metadata": {
        "id": "53d41af4",
        "colab": {
          "base_uri": "https://localhost:8080/",
          "height": 132
        },
        "outputId": "381f23de-e77c-409d-88f2-4ac500bd7274"
      },
      "outputs": [
        {
          "output_type": "display_data",
          "data": {
            "text/html": [
              "<ol>\n",
              "\t<li><ol>\n",
              "\t<li>1</li>\n",
              "\t<li><style>\n",
              ".list-inline {list-style: none; margin:0; padding: 0}\n",
              ".list-inline>li {display: inline-block}\n",
              ".list-inline>li:not(:last-child)::after {content: \"\\00b7\"; padding: 0 .5ex}\n",
              "</style>\n",
              "<ol class=list-inline><li>1</li><li>2</li></ol>\n",
              "</li>\n",
              "\t<li><ol>\n",
              "\t<li>3</li>\n",
              "\t<li><style>\n",
              ".list-inline {list-style: none; margin:0; padding: 0}\n",
              ".list-inline>li {display: inline-block}\n",
              ".list-inline>li:not(:last-child)::after {content: \"\\00b7\"; padding: 0 .5ex}\n",
              "</style>\n",
              "<ol class=list-inline><li>3</li><li>4</li></ol>\n",
              "</li>\n",
              "</ol>\n",
              "</li>\n",
              "</ol>\n",
              "</li>\n",
              "\t<li><style>\n",
              ".list-inline {list-style: none; margin:0; padding: 0}\n",
              ".list-inline>li {display: inline-block}\n",
              ".list-inline>li:not(:last-child)::after {content: \"\\00b7\"; padding: 0 .5ex}\n",
              "</style>\n",
              "<ol class=list-inline><li>5</li><li>6</li><li>7</li></ol>\n",
              "</li>\n",
              "</ol>\n"
            ],
            "text/markdown": "1. 1. 1\n2. 1. 1\n2. 2\n\n\n\n3. 1. 3\n2. 1. 3\n2. 4\n\n\n\n\n\n\n\n\n\n2. 1. 5\n2. 6\n3. 7\n\n\n\n\n\n",
            "text/latex": "\\begin{enumerate}\n\\item \\begin{enumerate}\n\\item 1\n\\item \\begin{enumerate*}\n\\item 1\n\\item 2\n\\end{enumerate*}\n\n\\item \\begin{enumerate}\n\\item 3\n\\item \\begin{enumerate*}\n\\item 3\n\\item 4\n\\end{enumerate*}\n\n\\end{enumerate}\n\n\\end{enumerate}\n\n\\item \\begin{enumerate*}\n\\item 5\n\\item 6\n\\item 7\n\\end{enumerate*}\n\n\\end{enumerate}\n",
            "text/plain": [
              "[[1]]\n",
              "[[1]][[1]]\n",
              "[1] 1\n",
              "\n",
              "[[1]][[2]]\n",
              "[1] 1 2\n",
              "\n",
              "[[1]][[3]]\n",
              "[[1]][[3]][[1]]\n",
              "[1] 3\n",
              "\n",
              "[[1]][[3]][[2]]\n",
              "[1] 3 4\n",
              "\n",
              "\n",
              "\n",
              "[[2]]\n",
              "[1] 5 6 7\n"
            ]
          },
          "metadata": {}
        }
      ],
      "source": [
        "b <- list(list(1, 1:2, list(3, 3:4)), 5:7)\n",
        "b"
      ]
    },
    {
      "cell_type": "markdown",
      "metadata": {
        "id": "2ecfac07-f8db-40f1-9b2f-82aadb1fe2b4"
      },
      "source": [
        "The first element of the top-level of the list is another list with the\n",
        "second element is the vector `5:7`."
      ]
    },
    {
      "cell_type": "code",
      "execution_count": null,
      "metadata": {
        "id": "5522907c",
        "colab": {
          "base_uri": "https://localhost:8080/",
          "height": 114
        },
        "outputId": "a5715600-96f4-4aa9-fce3-d6e1525abc8a"
      },
      "outputs": [
        {
          "output_type": "display_data",
          "data": {
            "text/html": [
              "<ol>\n",
              "\t<li>1</li>\n",
              "\t<li><style>\n",
              ".list-inline {list-style: none; margin:0; padding: 0}\n",
              ".list-inline>li {display: inline-block}\n",
              ".list-inline>li:not(:last-child)::after {content: \"\\00b7\"; padding: 0 .5ex}\n",
              "</style>\n",
              "<ol class=list-inline><li>1</li><li>2</li></ol>\n",
              "</li>\n",
              "\t<li><ol>\n",
              "\t<li>3</li>\n",
              "\t<li><style>\n",
              ".list-inline {list-style: none; margin:0; padding: 0}\n",
              ".list-inline>li {display: inline-block}\n",
              ".list-inline>li:not(:last-child)::after {content: \"\\00b7\"; padding: 0 .5ex}\n",
              "</style>\n",
              "<ol class=list-inline><li>3</li><li>4</li></ol>\n",
              "</li>\n",
              "</ol>\n",
              "</li>\n",
              "</ol>\n"
            ],
            "text/markdown": "1. 1\n2. 1. 1\n2. 2\n\n\n\n3. 1. 3\n2. 1. 3\n2. 4\n\n\n\n\n\n\n\n\n",
            "text/latex": "\\begin{enumerate}\n\\item 1\n\\item \\begin{enumerate*}\n\\item 1\n\\item 2\n\\end{enumerate*}\n\n\\item \\begin{enumerate}\n\\item 3\n\\item \\begin{enumerate*}\n\\item 3\n\\item 4\n\\end{enumerate*}\n\n\\end{enumerate}\n\n\\end{enumerate}\n",
            "text/plain": [
              "[[1]]\n",
              "[1] 1\n",
              "\n",
              "[[2]]\n",
              "[1] 1 2\n",
              "\n",
              "[[3]]\n",
              "[[3]][[1]]\n",
              "[1] 3\n",
              "\n",
              "[[3]][[2]]\n",
              "[1] 3 4\n",
              "\n"
            ]
          },
          "metadata": {}
        }
      ],
      "source": [
        "b[[1]]"
      ]
    },
    {
      "cell_type": "code",
      "execution_count": 88,
      "metadata": {
        "id": "8f3d3941",
        "colab": {
          "base_uri": "https://localhost:8080/",
          "height": 34
        },
        "outputId": "f8d471d5-0a97-48af-94f2-75170ea67f78"
      },
      "outputs": [
        {
          "output_type": "display_data",
          "data": {
            "text/html": [
              "<style>\n",
              ".list-inline {list-style: none; margin:0; padding: 0}\n",
              ".list-inline>li {display: inline-block}\n",
              ".list-inline>li:not(:last-child)::after {content: \"\\00b7\"; padding: 0 .5ex}\n",
              "</style>\n",
              "<ol class=list-inline><li>5</li><li>6</li><li>7</li></ol>\n"
            ],
            "text/markdown": "1. 5\n2. 6\n3. 7\n\n\n",
            "text/latex": "\\begin{enumerate*}\n\\item 5\n\\item 6\n\\item 7\n\\end{enumerate*}\n",
            "text/plain": [
              "[1] 5 6 7"
            ]
          },
          "metadata": {}
        }
      ],
      "source": [
        "b[[2]]"
      ]
    },
    {
      "cell_type": "markdown",
      "metadata": {
        "id": "9a205700-f3b9-49f1-9ec1-6306122140f2"
      },
      "source": [
        "`b[[1]]` is a list with 3 elements: the first element is the vector `1`,\n",
        "the second element is the vector `[3]`, while the third element is\n",
        "another list with two elements.\n",
        "\n",
        "We can subset the first two elements of `b[[1]]` by appending `[1:2]` to\n",
        "the previous syntax."
      ]
    },
    {
      "cell_type": "code",
      "execution_count": 89,
      "metadata": {
        "id": "80e6d029",
        "colab": {
          "base_uri": "https://localhost:8080/",
          "height": 80
        },
        "outputId": "53694d08-a0d4-4b28-9862-b4a1ddd11602"
      },
      "outputs": [
        {
          "output_type": "display_data",
          "data": {
            "text/html": [
              "<ol>\n",
              "\t<li>1</li>\n",
              "\t<li><style>\n",
              ".list-inline {list-style: none; margin:0; padding: 0}\n",
              ".list-inline>li {display: inline-block}\n",
              ".list-inline>li:not(:last-child)::after {content: \"\\00b7\"; padding: 0 .5ex}\n",
              "</style>\n",
              "<ol class=list-inline><li>1</li><li>2</li></ol>\n",
              "</li>\n",
              "</ol>\n"
            ],
            "text/markdown": "1. 1\n2. 1. 1\n2. 2\n\n\n\n\n\n",
            "text/latex": "\\begin{enumerate}\n\\item 1\n\\item \\begin{enumerate*}\n\\item 1\n\\item 2\n\\end{enumerate*}\n\n\\end{enumerate}\n",
            "text/plain": [
              "[[1]]\n",
              "[1] 1\n",
              "\n",
              "[[2]]\n",
              "[1] 1 2\n"
            ]
          },
          "metadata": {}
        }
      ],
      "source": [
        "b[[1]][1:2]"
      ]
    },
    {
      "cell_type": "markdown",
      "metadata": {
        "id": "dc71e537-83c5-4e62-a51d-71087bbb4211"
      },
      "source": [
        "We can extract the third element of `b[[1]]` by appending `[[3]]` to the\n",
        "previous syntax."
      ]
    },
    {
      "cell_type": "code",
      "execution_count": 90,
      "metadata": {
        "id": "f165957a",
        "colab": {
          "base_uri": "https://localhost:8080/",
          "height": 80
        },
        "outputId": "f9be9529-fd10-4fdc-cd79-9d71097fc746"
      },
      "outputs": [
        {
          "output_type": "display_data",
          "data": {
            "text/html": [
              "<ol>\n",
              "\t<li>3</li>\n",
              "\t<li><style>\n",
              ".list-inline {list-style: none; margin:0; padding: 0}\n",
              ".list-inline>li {display: inline-block}\n",
              ".list-inline>li:not(:last-child)::after {content: \"\\00b7\"; padding: 0 .5ex}\n",
              "</style>\n",
              "<ol class=list-inline><li>3</li><li>4</li></ol>\n",
              "</li>\n",
              "</ol>\n"
            ],
            "text/markdown": "1. 3\n2. 1. 3\n2. 4\n\n\n\n\n\n",
            "text/latex": "\\begin{enumerate}\n\\item 3\n\\item \\begin{enumerate*}\n\\item 3\n\\item 4\n\\end{enumerate*}\n\n\\end{enumerate}\n",
            "text/plain": [
              "[[1]]\n",
              "[1] 3\n",
              "\n",
              "[[2]]\n",
              "[1] 3 4\n"
            ]
          },
          "metadata": {}
        }
      ],
      "source": [
        "b[[1]][[3]]"
      ]
    },
    {
      "cell_type": "markdown",
      "metadata": {
        "id": "c0a55e82-f65d-4eb7-9046-f4b735ffbebb"
      },
      "source": [
        "We can access information contained in the 3rd element of the list contained in element of `b` in a similar way."
      ]
    },
    {
      "cell_type": "markdown",
      "source": [
        "## <a name=\"CC License\">Creative Commons License Information</a>\n",
        "---\n",
        "\n",
        "![Creative Commons\n",
        "License](https://i.creativecommons.org/l/by-nc-sa/4.0/88x31.png)\n",
        "\n",
        "Materials created by the [Department of Mathematical and Statistical Sciences at the University of Colorado Denver](https://github.com/CU-Denver-MathStats-OER/)\n",
        "and is licensed under a [Creative Commons\n",
        "Attribution-NonCommercial-ShareAlike 4.0 International\n",
        "License](http://creativecommons.org/licenses/by-nc-sa/4.0/)."
      ],
      "metadata": {
        "id": "WS8w_KQF5ym4"
      }
    }
  ]
}