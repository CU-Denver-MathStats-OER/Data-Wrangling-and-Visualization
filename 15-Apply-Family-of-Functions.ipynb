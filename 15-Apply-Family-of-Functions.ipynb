{
  "nbformat": 4,
  "nbformat_minor": 0,
  "metadata": {
    "colab": {
      "provenance": [],
      "authorship_tag": "ABX9TyOs0GOVHd4ZXkSWXdQUHZn5"
    },
    "kernelspec": {
      "name": "ir",
      "display_name": "R"
    },
    "language_info": {
      "name": "R"
    }
  },
  "cells": [
    {
      "cell_type": "markdown",
      "source": [
        "[![Open In Colab](https://colab.research.google.com/assets/colab-badge.svg)](https://githubtocolab.com/CU-Denver-MathStats-OER/Data-Wrangling-and-Visualization/blob/main/15-Apply-Family-of-Functions.ipynb)\n",
        "\n",
        "\n",
        "\n",
        "\n"
      ],
      "metadata": {
        "id": "WaUpDHKEpNrt"
      }
    },
    {
      "cell_type": "markdown",
      "source": [
        "# <a name=\"15-title\"><font size=\"6\">Module 15: The Apply Family of Functions</font></a>\n",
        "\n",
        "---\n",
        "\n",
        "In this module we will explore the `apply` family of functions in R. Informally, each `*apply` function *applies* a specified function over each element of a given data structure. In this module, we will provide an initial overview of this family of functions."
      ],
      "metadata": {
        "id": "TyO8Rh7aOeOy"
      }
    },
    {
      "cell_type": "markdown",
      "source": [
        "# <a name=\"intro\">The `*apply` Functions</a>\n",
        "\n",
        "---\n",
        "\n",
        "\n",
        "The `*apply` functions are a set of functions that can be applied different object types. The “`*`” in `*apply` is a “wildcard” character, meaning that it can be any set of characters.\n",
        "\n",
        "`*apply` functions will typically (but not always) perform operations much faster than equivalent operations implemented using loops. `*apply` functions also make code simpler and more elegant.\n",
        "\n",
        "The table below summarizes the various `*apply` functions available by default in R.\n",
        "\n",
        "| name | description |\n",
        "|------|-------------|\n",
        "| `apply`  | Applies a function to the margins of a data frame, matrix, or array. |\n",
        "| `lapply` | Applies a function to each element of a list.  |\n",
        "| `sapply` | A version of `lapply` that attempts to simplify the results to a vector, matrix, or array. |\n",
        "| `vapply` | A safer version of `sapply` that returns a pre-specified type of return value. |\n",
        "| `tapply` | Applies a function to a vector or data frame based on the levels of a categorical variable |\n",
        "| `mapply` | A multivariate version of `sapply`. |\n",
        "\n"
      ],
      "metadata": {
        "id": "E9r25ppmLpj4"
      }
    },
    {
      "cell_type": "markdown",
      "source": [
        "## <a name=\"load\">Installing and Loading Required Packages </a>\n",
        "\n",
        "---"
      ],
      "metadata": {
        "id": "0YGBur7RtKXB"
      }
    },
    {
      "cell_type": "code",
      "source": [
        "# install microbenchmark to compare computation speeds\n",
        "# install future.apply for parallel computing\n",
        "# install pbapply for for parallel computing\n",
        "install.packages(c(\"microbenchmark\", \"future.apply\", \"pbapply\"))"
      ],
      "metadata": {
        "id": "-XJvPVMGz-l-"
      },
      "execution_count": null,
      "outputs": []
    },
    {
      "cell_type": "code",
      "source": [
        "library(tidyverse)\n",
        "library(microbenchmark)\n",
        "library(parallel)\n",
        "library(future.apply)\n",
        "library(pbapply)"
      ],
      "metadata": {
        "id": "0OYcDGyXz2rA"
      },
      "execution_count": null,
      "outputs": []
    },
    {
      "cell_type": "markdown",
      "source": [
        "# <a name=\"apply\">The `apply` Function</a>\n",
        "\n",
        "---\n",
        "\n",
        "The `apply` function applies a function to a margin (dimension) of a data frame, matrix, or array.\n",
        "\n",
        "The primary arguments of the `apply` function are:\n",
        "\n",
        "-   `X`: A data frame, `matrix`, or `array`.\n",
        "-   `MARGIN`: a vector indicating the dimension to apply the function to.\n",
        "  - `1` indicates rows.\n",
        "  - `2` indicates columns.\n",
        "  - `3` indicates the third dimension of an array,\n",
        "  - `1:2` indicates row and columns.\n",
        "-   `FUN`: the function to be applied to the margins of `X`.\n",
        "  - Some common examples are statistical function such as `mean` and `sd`.\n",
        "-   `...`: additional arguments that need to be passed to `FUN`.\n",
        "-   `simplify`: a logical value indicating whether results should be simplified, if possible. The default is `TRUE`.\n",
        "\n"
      ],
      "metadata": {
        "id": "SZld3-0WMbuK"
      }
    },
    {
      "cell_type": "code",
      "source": [
        "?apply"
      ],
      "metadata": {
        "id": "Q7iLUeiBN7xS"
      },
      "execution_count": null,
      "outputs": []
    },
    {
      "cell_type": "markdown",
      "source": [
        "## <a name=\"ex-apply\">Examples Using `apply`</a>\n",
        "\n",
        "---\n",
        "\n",
        "We provide several examples using the `apply` function below.\n"
      ],
      "metadata": {
        "id": "gj-vx-2mNRfM"
      }
    },
    {
      "cell_type": "code",
      "execution_count": 3,
      "metadata": {
        "id": "b0b333f6",
        "colab": {
          "base_uri": "https://localhost:8080/",
          "height": 243
        },
        "outputId": "5dc0fafc-ee2a-4ae4-bab2-0791afe317d3"
      },
      "outputs": [
        {
          "output_type": "display_data",
          "data": {
            "text/html": [
              "<table class=\"dataframe\">\n",
              "<caption>A matrix: 5 × 2 of type int</caption>\n",
              "<tbody>\n",
              "\t<tr><td>1</td><td> 6</td></tr>\n",
              "\t<tr><td>2</td><td> 7</td></tr>\n",
              "\t<tr><td>3</td><td> 8</td></tr>\n",
              "\t<tr><td>4</td><td> 9</td></tr>\n",
              "\t<tr><td>5</td><td>10</td></tr>\n",
              "</tbody>\n",
              "</table>\n"
            ],
            "text/markdown": "\nA matrix: 5 × 2 of type int\n\n| 1 |  6 |\n| 2 |  7 |\n| 3 |  8 |\n| 4 |  9 |\n| 5 | 10 |\n\n",
            "text/latex": "A matrix: 5 × 2 of type int\n\\begin{tabular}{ll}\n\t 1 &  6\\\\\n\t 2 &  7\\\\\n\t 3 &  8\\\\\n\t 4 &  9\\\\\n\t 5 & 10\\\\\n\\end{tabular}\n",
            "text/plain": [
              "     [,1] [,2]\n",
              "[1,] 1     6  \n",
              "[2,] 2     7  \n",
              "[3,] 3     8  \n",
              "[4,] 4     9  \n",
              "[5,] 5    10  "
            ]
          },
          "metadata": {}
        }
      ],
      "source": [
        "# create a matrix to experiment with apply\n",
        "mat <- cbind(1:5, 6:10)\n",
        "mat"
      ]
    },
    {
      "cell_type": "code",
      "execution_count": 4,
      "metadata": {
        "id": "7c74ca40",
        "colab": {
          "base_uri": "https://localhost:8080/",
          "height": 34
        },
        "outputId": "75fc29fc-77b3-4607-e16a-eee5ebd8a3f9"
      },
      "outputs": [
        {
          "output_type": "display_data",
          "data": {
            "text/html": [
              "<style>\n",
              ".list-inline {list-style: none; margin:0; padding: 0}\n",
              ".list-inline>li {display: inline-block}\n",
              ".list-inline>li:not(:last-child)::after {content: \"\\00b7\"; padding: 0 .5ex}\n",
              "</style>\n",
              "<ol class=list-inline><li>3.5</li><li>4.5</li><li>5.5</li><li>6.5</li><li>7.5</li></ol>\n"
            ],
            "text/markdown": "1. 3.5\n2. 4.5\n3. 5.5\n4. 6.5\n5. 7.5\n\n\n",
            "text/latex": "\\begin{enumerate*}\n\\item 3.5\n\\item 4.5\n\\item 5.5\n\\item 6.5\n\\item 7.5\n\\end{enumerate*}\n",
            "text/plain": [
              "[1] 3.5 4.5 5.5 6.5 7.5"
            ]
          },
          "metadata": {}
        }
      ],
      "source": [
        "# compute the mean value for each row of matrix mat\n",
        "apply(X = mat, MARGIN = 1, FUN = mean)"
      ]
    },
    {
      "cell_type": "markdown",
      "source": [
        "## <a name=\"quest1\">Question 1</a>\n",
        "\n",
        "---\n",
        "\n",
        "\n",
        "Use the `apply` function to compute the median value for each column of matrix `mat`."
      ],
      "metadata": {
        "id": "0vAAhzy_07bh"
      }
    },
    {
      "cell_type": "code",
      "execution_count": null,
      "metadata": {
        "id": "2a862a36"
      },
      "outputs": [],
      "source": [
        "# compute the median value for each column of matrix mat\n"
      ]
    },
    {
      "cell_type": "markdown",
      "source": [
        "## <a name=\"quest2\">Question 2</a>\n",
        "\n",
        "---\n",
        "\n",
        "Write a loop that computes the mean of each row of `mat` and stores the results to a vector called `row_mean`. Then use your loop to verify the results from the previous `apply` command."
      ],
      "metadata": {
        "id": "pF90a1nvO3Xt"
      }
    },
    {
      "cell_type": "code",
      "source": [
        "# create function\n"
      ],
      "metadata": {
        "id": "APEXphAOPFqq"
      },
      "execution_count": 5,
      "outputs": []
    },
    {
      "cell_type": "code",
      "source": [
        "# use function to verify previous result\n"
      ],
      "metadata": {
        "id": "YryJOv6ICupa"
      },
      "execution_count": null,
      "outputs": []
    },
    {
      "cell_type": "markdown",
      "source": [
        "### <a name=\"compare-apply\">Comparing Computational Speeds</a>\n",
        "\n",
        "---\n",
        "\n",
        "The `apply` family of functions can often make code more concise, easier to read, and often more efficient compared to `for` loops. There are times `apply` functions may be more efficient than a loop, but not always. It is not true that using `apply` functions means your code is vectorized. `apply` functions are loops under the hood and they are meant for convenience not for speed. Using `*apply` functions are preferred over loops, but they are slower than vectorized code.\n",
        "\n",
        "The built-in `rowMeans()` and `colMeans()` function can also be utilized to check previous calculations. We use the `mircrobenchmark` package to compare the computation speeds of `rowMeans`, the loop from [Question 2](#quest2), and the `apply` function.\n"
      ],
      "metadata": {
        "id": "sHZJ92u0ueKR"
      }
    },
    {
      "cell_type": "code",
      "source": [
        "?rowMeans"
      ],
      "metadata": {
        "id": "hoADe6Wix9K7"
      },
      "execution_count": null,
      "outputs": []
    },
    {
      "cell_type": "code",
      "source": [
        "# built-in functions\n",
        "rowMeans(mat)\n",
        "colMeans(mat)"
      ],
      "metadata": {
        "colab": {
          "base_uri": "https://localhost:8080/",
          "height": 52
        },
        "id": "7HMQ2q0tBhJ5",
        "outputId": "ea14ac5a-fb87-4250-83b2-1676e92a58b7"
      },
      "execution_count": null,
      "outputs": [
        {
          "output_type": "display_data",
          "data": {
            "text/html": [
              "<style>\n",
              ".list-inline {list-style: none; margin:0; padding: 0}\n",
              ".list-inline>li {display: inline-block}\n",
              ".list-inline>li:not(:last-child)::after {content: \"\\00b7\"; padding: 0 .5ex}\n",
              "</style>\n",
              "<ol class=list-inline><li>3.5</li><li>4.5</li><li>5.5</li><li>6.5</li><li>7.5</li></ol>\n"
            ],
            "text/markdown": "1. 3.5\n2. 4.5\n3. 5.5\n4. 6.5\n5. 7.5\n\n\n",
            "text/latex": "\\begin{enumerate*}\n\\item 3.5\n\\item 4.5\n\\item 5.5\n\\item 6.5\n\\item 7.5\n\\end{enumerate*}\n",
            "text/plain": [
              "[1] 3.5 4.5 5.5 6.5 7.5"
            ]
          },
          "metadata": {}
        },
        {
          "output_type": "display_data",
          "data": {
            "text/html": [
              "<style>\n",
              ".list-inline {list-style: none; margin:0; padding: 0}\n",
              ".list-inline>li {display: inline-block}\n",
              ".list-inline>li:not(:last-child)::after {content: \"\\00b7\"; padding: 0 .5ex}\n",
              "</style>\n",
              "<ol class=list-inline><li>3</li><li>8</li></ol>\n"
            ],
            "text/markdown": "1. 3\n2. 8\n\n\n",
            "text/latex": "\\begin{enumerate*}\n\\item 3\n\\item 8\n\\end{enumerate*}\n",
            "text/plain": [
              "[1] 3 8"
            ]
          },
          "metadata": {}
        }
      ]
    },
    {
      "cell_type": "code",
      "source": [
        "# compare timings using microbenchmark\n",
        "mean_timings <- microbenchmark(my_row_mean(mat), apply(mat, 1, mean), rowMeans(mat))\n",
        "summary(mean_timings)"
      ],
      "metadata": {
        "colab": {
          "base_uri": "https://localhost:8080/",
          "height": 192
        },
        "id": "C2bW_cawBbm8",
        "outputId": "e5aca7d6-1ca4-4b48-8021-05c05a4f8eb4"
      },
      "execution_count": 6,
      "outputs": [
        {
          "output_type": "display_data",
          "data": {
            "text/html": [
              "<table class=\"dataframe\">\n",
              "<caption>A data.frame: 3 × 8</caption>\n",
              "<thead>\n",
              "\t<tr><th scope=col>expr</th><th scope=col>min</th><th scope=col>lq</th><th scope=col>mean</th><th scope=col>median</th><th scope=col>uq</th><th scope=col>max</th><th scope=col>neval</th></tr>\n",
              "\t<tr><th scope=col>&lt;fct&gt;</th><th scope=col>&lt;dbl&gt;</th><th scope=col>&lt;dbl&gt;</th><th scope=col>&lt;dbl&gt;</th><th scope=col>&lt;dbl&gt;</th><th scope=col>&lt;dbl&gt;</th><th scope=col>&lt;dbl&gt;</th><th scope=col>&lt;dbl&gt;</th></tr>\n",
              "</thead>\n",
              "<tbody>\n",
              "\t<tr><td>my_row_mean(mat)   </td><td>24.290</td><td>25.7960</td><td>110.01387</td><td>27.5975</td><td>32.3270</td><td>7816.595</td><td>100</td></tr>\n",
              "\t<tr><td>apply(mat, 1, mean)</td><td>41.415</td><td>45.0090</td><td> 52.83736</td><td>47.1855</td><td>53.3130</td><td> 150.618</td><td>100</td></tr>\n",
              "\t<tr><td>rowMeans(mat)      </td><td> 4.269</td><td> 5.2585</td><td>  7.37169</td><td> 5.9950</td><td> 6.8945</td><td>  74.644</td><td>100</td></tr>\n",
              "</tbody>\n",
              "</table>\n"
            ],
            "text/markdown": "\nA data.frame: 3 × 8\n\n| expr &lt;fct&gt; | min &lt;dbl&gt; | lq &lt;dbl&gt; | mean &lt;dbl&gt; | median &lt;dbl&gt; | uq &lt;dbl&gt; | max &lt;dbl&gt; | neval &lt;dbl&gt; |\n|---|---|---|---|---|---|---|---|\n| my_row_mean(mat)    | 24.290 | 25.7960 | 110.01387 | 27.5975 | 32.3270 | 7816.595 | 100 |\n| apply(mat, 1, mean) | 41.415 | 45.0090 |  52.83736 | 47.1855 | 53.3130 |  150.618 | 100 |\n| rowMeans(mat)       |  4.269 |  5.2585 |   7.37169 |  5.9950 |  6.8945 |   74.644 | 100 |\n\n",
            "text/latex": "A data.frame: 3 × 8\n\\begin{tabular}{llllllll}\n expr & min & lq & mean & median & uq & max & neval\\\\\n <fct> & <dbl> & <dbl> & <dbl> & <dbl> & <dbl> & <dbl> & <dbl>\\\\\n\\hline\n\t my\\_row\\_mean(mat)    & 24.290 & 25.7960 & 110.01387 & 27.5975 & 32.3270 & 7816.595 & 100\\\\\n\t apply(mat, 1, mean) & 41.415 & 45.0090 &  52.83736 & 47.1855 & 53.3130 &  150.618 & 100\\\\\n\t rowMeans(mat)       &  4.269 &  5.2585 &   7.37169 &  5.9950 &  6.8945 &   74.644 & 100\\\\\n\\end{tabular}\n",
            "text/plain": [
              "  expr                min    lq      mean      median  uq      max      neval\n",
              "1 my_row_mean(mat)    24.290 25.7960 110.01387 27.5975 32.3270 7816.595 100  \n",
              "2 apply(mat, 1, mean) 41.415 45.0090  52.83736 47.1855 53.3130  150.618 100  \n",
              "3 rowMeans(mat)        4.269  5.2585   7.37169  5.9950  6.8945   74.644 100  "
            ]
          },
          "metadata": {}
        }
      ]
    },
    {
      "cell_type": "code",
      "source": [
        "# compare speeds with larger matrix\n",
        "mat2 <- matrix(rnorm(100000), nrow = 10000)\n",
        "mean_timings <- microbenchmark(my_row_mean(mat2), apply(mat2, 1, mean), rowMeans(mat2))\n",
        "plot(mean_timings)"
      ],
      "metadata": {
        "colab": {
          "base_uri": "https://localhost:8080/",
          "height": 437
        },
        "id": "kWWxFW-NC2cA",
        "outputId": "8e10761d-5055-42d6-8d75-a31d87765df7"
      },
      "execution_count": 7,
      "outputs": [
        {
          "output_type": "display_data",
          "data": {
            "text/plain": [
              "plot without title"
            ],
            "image/png": "[encoded data removed]"
          },
          "metadata": {
            "image/png": {
              "width": 420,
              "height": 420
            }
          }
        }
      ]
    },
    {
      "cell_type": "markdown",
      "source": [
        "## <a name=\"more-apply\">More `apply` Examples</a>\n",
        "\n",
        "---\n"
      ],
      "metadata": {
        "id": "h4FynPKs0r2T"
      }
    },
    {
      "cell_type": "code",
      "execution_count": 8,
      "metadata": {
        "id": "fda86a62",
        "colab": {
          "base_uri": "https://localhost:8080/",
          "height": 34
        },
        "outputId": "27d2ce26-7d9b-4de0-fb12-08ad81456145"
      },
      "outputs": [
        {
          "output_type": "display_data",
          "data": {
            "text/html": [
              "<style>\n",
              ".list-inline {list-style: none; margin:0; padding: 0}\n",
              ".list-inline>li {display: inline-block}\n",
              ".list-inline>li:not(:last-child)::after {content: \"\\00b7\"; padding: 0 .5ex}\n",
              "</style>\n",
              "<ol class=list-inline><li>3</li><li>8</li></ol>\n"
            ],
            "text/markdown": "1. 3\n2. 8\n\n\n",
            "text/latex": "\\begin{enumerate*}\n\\item 3\n\\item 8\n\\end{enumerate*}\n",
            "text/plain": [
              "[1] 3 8"
            ]
          },
          "metadata": {}
        }
      ],
      "source": [
        "# compute 0.5 quantile of columns of mat\n",
        "# we specify additional arguments passed into quantile\n",
        "apply(mat, 2, quantile, prob = 0.5)"
      ]
    },
    {
      "cell_type": "code",
      "execution_count": 9,
      "metadata": {
        "id": "b5b06a51",
        "colab": {
          "base_uri": "https://localhost:8080/"
        },
        "outputId": "8d4d55f8-aad6-473f-d1a6-9c78353e90ce"
      },
      "outputs": [
        {
          "output_type": "stream",
          "name": "stdout",
          "text": [
            ", , 1\n",
            "\n",
            "     [,1] [,2]\n",
            "[1,]    1    4\n",
            "[2,]    2    5\n",
            "[3,]    3    6\n",
            "\n",
            ", , 2\n",
            "\n",
            "     [,1] [,2]\n",
            "[1,]    7   10\n",
            "[2,]    8   11\n",
            "[3,]    9   12\n",
            "\n",
            ", , 3\n",
            "\n",
            "     [,1] [,2]\n",
            "[1,]   13   16\n",
            "[2,]   14   17\n",
            "[3,]   15   18\n",
            "\n",
            ", , 4\n",
            "\n",
            "     [,1] [,2]\n",
            "[1,]   19   22\n",
            "[2,]   20   23\n",
            "[3,]   21   24\n",
            "\n"
          ]
        }
      ],
      "source": [
        "# create a 3-dimensional array to explore apply\n",
        "A <- array(1:24, dim = c(3, 2, 4))\n",
        "print(A)"
      ]
    },
    {
      "cell_type": "code",
      "execution_count": 10,
      "metadata": {
        "id": "29d86758",
        "colab": {
          "base_uri": "https://localhost:8080/",
          "height": 34
        },
        "outputId": "13f906d3-7dec-4d9b-df1f-9c46f2764e61"
      },
      "outputs": [
        {
          "output_type": "display_data",
          "data": {
            "text/html": [
              "<style>\n",
              ".list-inline {list-style: none; margin:0; padding: 0}\n",
              ".list-inline>li {display: inline-block}\n",
              ".list-inline>li:not(:last-child)::after {content: \"\\00b7\"; padding: 0 .5ex}\n",
              "</style>\n",
              "<ol class=list-inline><li>11.5</li><li>12.5</li><li>13.5</li></ol>\n"
            ],
            "text/markdown": "1. 11.5\n2. 12.5\n3. 13.5\n\n\n",
            "text/latex": "\\begin{enumerate*}\n\\item 11.5\n\\item 12.5\n\\item 13.5\n\\end{enumerate*}\n",
            "text/plain": [
              "[1] 11.5 12.5 13.5"
            ]
          },
          "metadata": {}
        }
      ],
      "source": [
        "# compute means for each row of A\n",
        "apply(A, 1, mean)"
      ]
    },
    {
      "cell_type": "markdown",
      "metadata": {
        "id": "902ba1d1-34bd-4626-954e-64b08493ae03"
      },
      "source": [
        "`11.5` comes from averaging all the values in the 1st row of `A` across all columns and the third dimension:\n",
        "\n",
        "$$(1 + 4 + 7 + 10 + 13 + 16 + 19 + 22)/8 = 11.5.$$\n",
        "\n",
        "The `12.5` and `13.5` come from averaging all the values in the second and third rows of `A`, respectively.\n",
        "\n",
        "These means could be computed separately by running  the following command."
      ]
    },
    {
      "cell_type": "code",
      "execution_count": 11,
      "metadata": {
        "id": "6b391191",
        "colab": {
          "base_uri": "https://localhost:8080/",
          "height": 34
        },
        "outputId": "6a31e2e0-5e94-437b-c5c5-01f09b862e3e"
      },
      "outputs": [
        {
          "output_type": "display_data",
          "data": {
            "text/html": [
              "11.5"
            ],
            "text/markdown": "11.5",
            "text/latex": "11.5",
            "text/plain": [
              "[1] 11.5"
            ]
          },
          "metadata": {}
        }
      ],
      "source": [
        "mean(A[1,,])"
      ]
    },
    {
      "cell_type": "code",
      "execution_count": 12,
      "metadata": {
        "id": "f3023fe0",
        "colab": {
          "base_uri": "https://localhost:8080/",
          "height": 34
        },
        "outputId": "e1bb3c18-0b9b-42f8-b078-00367a90a8e3"
      },
      "outputs": [
        {
          "output_type": "display_data",
          "data": {
            "text/html": [
              "<style>\n",
              ".list-inline {list-style: none; margin:0; padding: 0}\n",
              ".list-inline>li {display: inline-block}\n",
              ".list-inline>li:not(:last-child)::after {content: \"\\00b7\"; padding: 0 .5ex}\n",
              "</style>\n",
              "<ol class=list-inline><li>21</li><li>57</li><li>93</li><li>129</li></ol>\n"
            ],
            "text/markdown": "1. 21\n2. 57\n3. 93\n4. 129\n\n\n",
            "text/latex": "\\begin{enumerate*}\n\\item 21\n\\item 57\n\\item 93\n\\item 129\n\\end{enumerate*}\n",
            "text/plain": [
              "[1]  21  57  93 129"
            ]
          },
          "metadata": {}
        }
      ],
      "source": [
        "# compute the sums across the third dimension of A\n",
        "apply(A, 3, sum)"
      ]
    },
    {
      "cell_type": "markdown",
      "metadata": {
        "id": "c98d6ad3-7c11-4f38-a13f-e5069a004855"
      },
      "source": [
        "`21` comes from adding all the values in the first element of the third dimension of `A`. More specifically, it is equivalent to running the following command."
      ]
    },
    {
      "cell_type": "code",
      "execution_count": 13,
      "metadata": {
        "id": "d1078b3d",
        "colab": {
          "base_uri": "https://localhost:8080/",
          "height": 34
        },
        "outputId": "102b1340-5d92-4373-d646-18796b5462c7"
      },
      "outputs": [
        {
          "output_type": "display_data",
          "data": {
            "text/html": [
              "21"
            ],
            "text/markdown": "21",
            "text/latex": "21",
            "text/plain": [
              "[1] 21"
            ]
          },
          "metadata": {}
        }
      ],
      "source": [
        "sum(A[,,1])"
      ]
    },
    {
      "cell_type": "markdown",
      "metadata": {
        "id": "b9fc200e-baa7-4485-b760-846a77565715"
      },
      "source": [
        "Let's compute the means across the row and columns of `A`."
      ]
    },
    {
      "cell_type": "code",
      "execution_count": 14,
      "metadata": {
        "id": "a5372ec1",
        "colab": {
          "base_uri": "https://localhost:8080/",
          "height": 163
        },
        "outputId": "6085031b-2782-4bc3-83db-e8109d85118b"
      },
      "outputs": [
        {
          "output_type": "display_data",
          "data": {
            "text/html": [
              "<table class=\"dataframe\">\n",
              "<caption>A matrix: 3 × 2 of type dbl</caption>\n",
              "<tbody>\n",
              "\t<tr><td>10</td><td>13</td></tr>\n",
              "\t<tr><td>11</td><td>14</td></tr>\n",
              "\t<tr><td>12</td><td>15</td></tr>\n",
              "</tbody>\n",
              "</table>\n"
            ],
            "text/markdown": "\nA matrix: 3 × 2 of type dbl\n\n| 10 | 13 |\n| 11 | 14 |\n| 12 | 15 |\n\n",
            "text/latex": "A matrix: 3 × 2 of type dbl\n\\begin{tabular}{ll}\n\t 10 & 13\\\\\n\t 11 & 14\\\\\n\t 12 & 15\\\\\n\\end{tabular}\n",
            "text/plain": [
              "     [,1] [,2]\n",
              "[1,] 10   13  \n",
              "[2,] 11   14  \n",
              "[3,] 12   15  "
            ]
          },
          "metadata": {}
        }
      ],
      "source": [
        "# compute the means across the row and columns of A\n",
        "apply(A, 1:2, mean)"
      ]
    },
    {
      "cell_type": "markdown",
      "metadata": {
        "id": "e3abb159-22fa-47a4-8d53-432c1247a4eb"
      },
      "source": [
        "The command above returns the values obtained by averaging all of the values in a particular row and column of `A` across the third dimension of `A`.\n",
        "\n",
        "`10` comes from averaging the values in `A[1, 1, 1]`, `A[1, 1, 2]`, `A[1, 1, 3]`, `A[1, 1, 4]`, i.e., `(1 + 7 + 13 + 19)/4 = 10`. Alternatively, it is equivalent to running the following command."
      ]
    },
    {
      "cell_type": "code",
      "execution_count": 15,
      "metadata": {
        "id": "0409b13b",
        "colab": {
          "base_uri": "https://localhost:8080/",
          "height": 34
        },
        "outputId": "95ddb0b5-11b6-4b46-9549-6bbf4d87b3e7"
      },
      "outputs": [
        {
          "output_type": "display_data",
          "data": {
            "text/html": [
              "10"
            ],
            "text/markdown": "10",
            "text/latex": "10",
            "text/plain": [
              "[1] 10"
            ]
          },
          "metadata": {}
        }
      ],
      "source": [
        "mean(A[1, 1, ])"
      ]
    },
    {
      "cell_type": "markdown",
      "metadata": {
        "id": "d431458b-f423-458e-a385-e54de961b99a"
      },
      "source": [
        "# <a name=\"lapply\">The `lapply` Function</a>\n",
        "\n",
        "---\n",
        "\n",
        "\n",
        "\n",
        "The `lapply` function applies a function to each element of an atomic vector or list. It is very convenient for performing analyses in simulation studies. The `lapply` function always returns a list.\n",
        "\n",
        "The arguments of the `lapply` function are:\n",
        "\n",
        "-   `X`: An atomic vector or list.\n",
        "-   `FUN`: the function to be applied to each element of `X`.\n",
        "-   `...`: additional arguments that need to be passed to `FUN`.\n",
        "\n",
        "We start with a simple example that computes the sample mean of a `list` containing numeric vectors."
      ]
    },
    {
      "cell_type": "code",
      "execution_count": 16,
      "metadata": {
        "id": "3e173152",
        "colab": {
          "base_uri": "https://localhost:8080/",
          "height": 80
        },
        "outputId": "e28385aa-83d0-4656-ffcd-dbb0a6b7430a"
      },
      "outputs": [
        {
          "output_type": "display_data",
          "data": {
            "text/html": [
              "<ol>\n",
              "\t<li><style>\n",
              ".list-inline {list-style: none; margin:0; padding: 0}\n",
              ".list-inline>li {display: inline-block}\n",
              ".list-inline>li:not(:last-child)::after {content: \"\\00b7\"; padding: 0 .5ex}\n",
              "</style>\n",
              "<ol class=list-inline><li>1</li><li>2</li><li>3</li><li>4</li><li>5</li><li>6</li><li>7</li><li>8</li><li>9</li><li>10</li></ol>\n",
              "</li>\n",
              "\t<li><style>\n",
              ".list-inline {list-style: none; margin:0; padding: 0}\n",
              ".list-inline>li {display: inline-block}\n",
              ".list-inline>li:not(:last-child)::after {content: \"\\00b7\"; padding: 0 .5ex}\n",
              "</style>\n",
              "<ol class=list-inline><li>11</li><li>12</li><li>13</li><li>14</li><li>15</li><li>16</li><li>17</li><li>18</li><li>19</li><li>20</li></ol>\n",
              "</li>\n",
              "</ol>\n"
            ],
            "text/markdown": "1. 1. 1\n2. 2\n3. 3\n4. 4\n5. 5\n6. 6\n7. 7\n8. 8\n9. 9\n10. 10\n\n\n\n2. 1. 11\n2. 12\n3. 13\n4. 14\n5. 15\n6. 16\n7. 17\n8. 18\n9. 19\n10. 20\n\n\n\n\n\n",
            "text/latex": "\\begin{enumerate}\n\\item \\begin{enumerate*}\n\\item 1\n\\item 2\n\\item 3\n\\item 4\n\\item 5\n\\item 6\n\\item 7\n\\item 8\n\\item 9\n\\item 10\n\\end{enumerate*}\n\n\\item \\begin{enumerate*}\n\\item 11\n\\item 12\n\\item 13\n\\item 14\n\\item 15\n\\item 16\n\\item 17\n\\item 18\n\\item 19\n\\item 20\n\\end{enumerate*}\n\n\\end{enumerate}\n",
            "text/plain": [
              "[[1]]\n",
              " [1]  1  2  3  4  5  6  7  8  9 10\n",
              "\n",
              "[[2]]\n",
              " [1] 11 12 13 14 15 16 17 18 19 20\n"
            ]
          },
          "metadata": {}
        }
      ],
      "source": [
        "# first define the our `list`.\n",
        "simple_list <- list(1:10, 11:20)\n",
        "simple_list"
      ]
    },
    {
      "cell_type": "code",
      "execution_count": 17,
      "metadata": {
        "id": "7d911f27",
        "colab": {
          "base_uri": "https://localhost:8080/",
          "height": 80
        },
        "outputId": "c02ac17c-57b1-49d6-f2de-f83f41fea271"
      },
      "outputs": [
        {
          "output_type": "display_data",
          "data": {
            "text/html": [
              "<ol>\n",
              "\t<li>5.5</li>\n",
              "\t<li>15.5</li>\n",
              "</ol>\n"
            ],
            "text/markdown": "1. 5.5\n2. 15.5\n\n\n",
            "text/latex": "\\begin{enumerate}\n\\item 5.5\n\\item 15.5\n\\end{enumerate}\n",
            "text/plain": [
              "[[1]]\n",
              "[1] 5.5\n",
              "\n",
              "[[2]]\n",
              "[1] 15.5\n"
            ]
          },
          "metadata": {}
        }
      ],
      "source": [
        "# use lapply to compute the sample mean of each element of sample_list\n",
        "lapply(simple_list, mean)"
      ]
    },
    {
      "cell_type": "markdown",
      "metadata": {
        "id": "f72e19cf-fbc7-4a5e-badc-3b26c2d537b9"
      },
      "source": [
        "# <a name=\"sapply\">The `sapply` Function</a>\n",
        "\n",
        "---\n",
        "\n",
        "\n",
        "The `sapply` function attempts to coerce the results of `lapply` to a `vector`, `matrix`, or `array` (whichever is simplest) using the `simplify2array` function. Technically, the `sapply` function has two additional arguments compared to `lapply`:\n",
        "\n",
        "-   `simplify`: a logical value indicating whether the `sapply` should attempt to simplify the result using `simplify2array`.\n",
        "  - The default is `TRUE`.\n",
        "  - Setting to `FALSE` returns a list equivalent to `lapply`.\n",
        "-   `USE.NAMES`: a logical value indicating whether names should be associated with the results.\n",
        "  - The default is `TRUE`.\n",
        "\n",
        "<font color=\"dodgerblue\">**We don't always know that data type the `sapply` function will return, which is dangerous if we use those results in any future calculations.**</font> We repeat the previous example using `sapply` to illustrate this point.\n",
        "\n",
        "\n"
      ]
    },
    {
      "cell_type": "code",
      "execution_count": 18,
      "metadata": {
        "id": "da448a34",
        "colab": {
          "base_uri": "https://localhost:8080/",
          "height": 34
        },
        "outputId": "5f526d89-2215-4439-9963-3aa2e46c5fe7"
      },
      "outputs": [
        {
          "output_type": "display_data",
          "data": {
            "text/html": [
              "<style>\n",
              ".list-inline {list-style: none; margin:0; padding: 0}\n",
              ".list-inline>li {display: inline-block}\n",
              ".list-inline>li:not(:last-child)::after {content: \"\\00b7\"; padding: 0 .5ex}\n",
              "</style>\n",
              "<ol class=list-inline><li>5.5</li><li>15.5</li></ol>\n"
            ],
            "text/markdown": "1. 5.5\n2. 15.5\n\n\n",
            "text/latex": "\\begin{enumerate*}\n\\item 5.5\n\\item 15.5\n\\end{enumerate*}\n",
            "text/plain": [
              "[1]  5.5 15.5"
            ]
          },
          "metadata": {}
        }
      ],
      "source": [
        "# output is coerced to to be stored as a vector\n",
        "sapply(simple_list, mean)"
      ]
    },
    {
      "cell_type": "code",
      "execution_count": 19,
      "metadata": {
        "colab": {
          "base_uri": "https://localhost:8080/",
          "height": 80
        },
        "outputId": "9ca62cc6-c2f8-4d3c-adf0-a1fb5d28bea2",
        "id": "i0ue1lhbGZB3"
      },
      "outputs": [
        {
          "output_type": "display_data",
          "data": {
            "text/html": [
              "<ol>\n",
              "\t<li>5.5</li>\n",
              "\t<li>15.5</li>\n",
              "</ol>\n"
            ],
            "text/markdown": "1. 5.5\n2. 15.5\n\n\n",
            "text/latex": "\\begin{enumerate}\n\\item 5.5\n\\item 15.5\n\\end{enumerate}\n",
            "text/plain": [
              "[[1]]\n",
              "[1] 5.5\n",
              "\n",
              "[[2]]\n",
              "[1] 15.5\n"
            ]
          },
          "metadata": {}
        }
      ],
      "source": [
        "# output stored as a list, same as lapply\n",
        "sapply(simple_list, mean, simplify = FALSE)"
      ]
    },
    {
      "cell_type": "markdown",
      "metadata": {
        "id": "eeff4e79-091c-4944-9938-ec661d68d0f1"
      },
      "source": [
        "The `sapply` function *seems* like it is the more convenient version of `lapply`, but this is a trap. The `sapply` function can produce unexpected results because it is not required to return an object of a specific type. The result may change depending on the input.\n",
        "\n",
        "\n",
        "We create a function, `add2`, that takes a `numeric` vector `x` and adds 2 to all the elements in `x` to illustrate how `sapply` determines to store the output."
      ]
    },
    {
      "cell_type": "code",
      "execution_count": 20,
      "metadata": {
        "id": "c8b39f63"
      },
      "outputs": [],
      "source": [
        "add2 <- function(x) {\n",
        "  x + 2\n",
        "}"
      ]
    },
    {
      "cell_type": "code",
      "execution_count": 21,
      "metadata": {
        "id": "dc68463e",
        "colab": {
          "base_uri": "https://localhost:8080/",
          "height": 34
        },
        "outputId": "d269fab9-4059-45fe-d560-f8fbc9ac07b8"
      },
      "outputs": [
        {
          "output_type": "display_data",
          "data": {
            "text/html": [
              "<style>\n",
              ".list-inline {list-style: none; margin:0; padding: 0}\n",
              ".list-inline>li {display: inline-block}\n",
              ".list-inline>li:not(:last-child)::after {content: \"\\00b7\"; padding: 0 .5ex}\n",
              "</style>\n",
              "<ol class=list-inline><li>4</li><li>5</li></ol>\n"
            ],
            "text/markdown": "1. 4\n2. 5\n\n\n",
            "text/latex": "\\begin{enumerate*}\n\\item 4\n\\item 5\n\\end{enumerate*}\n",
            "text/plain": [
              "[1] 4 5"
            ]
          },
          "metadata": {}
        }
      ],
      "source": [
        "# confirm that add2 works as intended.\n",
        "add2(2:3)"
      ]
    },
    {
      "cell_type": "markdown",
      "metadata": {
        "id": "370cf267-6f05-4268-bb38-66aad22930b8"
      },
      "source": [
        "If we use `sapply` to apply `add2` to each element of `simple_list`, the result is returned as a `matrix` because the results can be simplified by `simplify2array`."
      ]
    },
    {
      "cell_type": "code",
      "source": [
        "# applying add2 to each element of simple_list\n",
        "# returns a matrix because the results can be simplified by simplify2array\n",
        "simple_list"
      ],
      "metadata": {
        "colab": {
          "base_uri": "https://localhost:8080/",
          "height": 80
        },
        "id": "v9nXGQOFG-L3",
        "outputId": "5caf2936-3cbb-43ec-a439-bdaf6525739b"
      },
      "execution_count": 22,
      "outputs": [
        {
          "output_type": "display_data",
          "data": {
            "text/html": [
              "<ol>\n",
              "\t<li><style>\n",
              ".list-inline {list-style: none; margin:0; padding: 0}\n",
              ".list-inline>li {display: inline-block}\n",
              ".list-inline>li:not(:last-child)::after {content: \"\\00b7\"; padding: 0 .5ex}\n",
              "</style>\n",
              "<ol class=list-inline><li>1</li><li>2</li><li>3</li><li>4</li><li>5</li><li>6</li><li>7</li><li>8</li><li>9</li><li>10</li></ol>\n",
              "</li>\n",
              "\t<li><style>\n",
              ".list-inline {list-style: none; margin:0; padding: 0}\n",
              ".list-inline>li {display: inline-block}\n",
              ".list-inline>li:not(:last-child)::after {content: \"\\00b7\"; padding: 0 .5ex}\n",
              "</style>\n",
              "<ol class=list-inline><li>11</li><li>12</li><li>13</li><li>14</li><li>15</li><li>16</li><li>17</li><li>18</li><li>19</li><li>20</li></ol>\n",
              "</li>\n",
              "</ol>\n"
            ],
            "text/markdown": "1. 1. 1\n2. 2\n3. 3\n4. 4\n5. 5\n6. 6\n7. 7\n8. 8\n9. 9\n10. 10\n\n\n\n2. 1. 11\n2. 12\n3. 13\n4. 14\n5. 15\n6. 16\n7. 17\n8. 18\n9. 19\n10. 20\n\n\n\n\n\n",
            "text/latex": "\\begin{enumerate}\n\\item \\begin{enumerate*}\n\\item 1\n\\item 2\n\\item 3\n\\item 4\n\\item 5\n\\item 6\n\\item 7\n\\item 8\n\\item 9\n\\item 10\n\\end{enumerate*}\n\n\\item \\begin{enumerate*}\n\\item 11\n\\item 12\n\\item 13\n\\item 14\n\\item 15\n\\item 16\n\\item 17\n\\item 18\n\\item 19\n\\item 20\n\\end{enumerate*}\n\n\\end{enumerate}\n",
            "text/plain": [
              "[[1]]\n",
              " [1]  1  2  3  4  5  6  7  8  9 10\n",
              "\n",
              "[[2]]\n",
              " [1] 11 12 13 14 15 16 17 18 19 20\n"
            ]
          },
          "metadata": {}
        }
      ]
    },
    {
      "cell_type": "code",
      "execution_count": 23,
      "metadata": {
        "id": "4cdd870b",
        "colab": {
          "base_uri": "https://localhost:8080/",
          "height": 383
        },
        "outputId": "5b05d5ed-e616-48a2-9efa-c2246e2593cb"
      },
      "outputs": [
        {
          "output_type": "display_data",
          "data": {
            "text/html": [
              "<table class=\"dataframe\">\n",
              "<caption>A matrix: 10 × 2 of type dbl</caption>\n",
              "<tbody>\n",
              "\t<tr><td> 3</td><td>13</td></tr>\n",
              "\t<tr><td> 4</td><td>14</td></tr>\n",
              "\t<tr><td> 5</td><td>15</td></tr>\n",
              "\t<tr><td> 6</td><td>16</td></tr>\n",
              "\t<tr><td> 7</td><td>17</td></tr>\n",
              "\t<tr><td> 8</td><td>18</td></tr>\n",
              "\t<tr><td> 9</td><td>19</td></tr>\n",
              "\t<tr><td>10</td><td>20</td></tr>\n",
              "\t<tr><td>11</td><td>21</td></tr>\n",
              "\t<tr><td>12</td><td>22</td></tr>\n",
              "</tbody>\n",
              "</table>\n"
            ],
            "text/markdown": "\nA matrix: 10 × 2 of type dbl\n\n|  3 | 13 |\n|  4 | 14 |\n|  5 | 15 |\n|  6 | 16 |\n|  7 | 17 |\n|  8 | 18 |\n|  9 | 19 |\n| 10 | 20 |\n| 11 | 21 |\n| 12 | 22 |\n\n",
            "text/latex": "A matrix: 10 × 2 of type dbl\n\\begin{tabular}{ll}\n\t  3 & 13\\\\\n\t  4 & 14\\\\\n\t  5 & 15\\\\\n\t  6 & 16\\\\\n\t  7 & 17\\\\\n\t  8 & 18\\\\\n\t  9 & 19\\\\\n\t 10 & 20\\\\\n\t 11 & 21\\\\\n\t 12 & 22\\\\\n\\end{tabular}\n",
            "text/plain": [
              "      [,1] [,2]\n",
              " [1,]  3   13  \n",
              " [2,]  4   14  \n",
              " [3,]  5   15  \n",
              " [4,]  6   16  \n",
              " [5,]  7   17  \n",
              " [6,]  8   18  \n",
              " [7,]  9   19  \n",
              " [8,] 10   20  \n",
              " [9,] 11   21  \n",
              "[10,] 12   22  "
            ]
          },
          "metadata": {}
        }
      ],
      "source": [
        "# using sapply to apply add2 to each element of simple_list\n",
        "# returns a matrix because the results can be simplified by simplify2array\n",
        "# output converted to column vectors\n",
        "sapply(simple_list, add2)"
      ]
    },
    {
      "cell_type": "code",
      "source": [
        "# choosing not to apply simplify2array\n",
        "# stores output as a list same as lapply\n",
        "sapply(simple_list, add2, simplify = FALSE)"
      ],
      "metadata": {
        "colab": {
          "base_uri": "https://localhost:8080/",
          "height": 80
        },
        "id": "l_qNrohFHG0P",
        "outputId": "df44d0df-22f8-4b6a-c0cd-5c03c0a3fa2d"
      },
      "execution_count": 24,
      "outputs": [
        {
          "output_type": "display_data",
          "data": {
            "text/html": [
              "<ol>\n",
              "\t<li><style>\n",
              ".list-inline {list-style: none; margin:0; padding: 0}\n",
              ".list-inline>li {display: inline-block}\n",
              ".list-inline>li:not(:last-child)::after {content: \"\\00b7\"; padding: 0 .5ex}\n",
              "</style>\n",
              "<ol class=list-inline><li>3</li><li>4</li><li>5</li><li>6</li><li>7</li><li>8</li><li>9</li><li>10</li><li>11</li><li>12</li></ol>\n",
              "</li>\n",
              "\t<li><style>\n",
              ".list-inline {list-style: none; margin:0; padding: 0}\n",
              ".list-inline>li {display: inline-block}\n",
              ".list-inline>li:not(:last-child)::after {content: \"\\00b7\"; padding: 0 .5ex}\n",
              "</style>\n",
              "<ol class=list-inline><li>13</li><li>14</li><li>15</li><li>16</li><li>17</li><li>18</li><li>19</li><li>20</li><li>21</li><li>22</li></ol>\n",
              "</li>\n",
              "</ol>\n"
            ],
            "text/markdown": "1. 1. 3\n2. 4\n3. 5\n4. 6\n5. 7\n6. 8\n7. 9\n8. 10\n9. 11\n10. 12\n\n\n\n2. 1. 13\n2. 14\n3. 15\n4. 16\n5. 17\n6. 18\n7. 19\n8. 20\n9. 21\n10. 22\n\n\n\n\n\n",
            "text/latex": "\\begin{enumerate}\n\\item \\begin{enumerate*}\n\\item 3\n\\item 4\n\\item 5\n\\item 6\n\\item 7\n\\item 8\n\\item 9\n\\item 10\n\\item 11\n\\item 12\n\\end{enumerate*}\n\n\\item \\begin{enumerate*}\n\\item 13\n\\item 14\n\\item 15\n\\item 16\n\\item 17\n\\item 18\n\\item 19\n\\item 20\n\\item 21\n\\item 22\n\\end{enumerate*}\n\n\\end{enumerate}\n",
            "text/plain": [
              "[[1]]\n",
              " [1]  3  4  5  6  7  8  9 10 11 12\n",
              "\n",
              "[[2]]\n",
              " [1] 13 14 15 16 17 18 19 20 21 22\n"
            ]
          },
          "metadata": {}
        }
      ]
    },
    {
      "cell_type": "markdown",
      "metadata": {
        "id": "68652e9d-e42c-4568-9a1b-a34fc6a149f9"
      },
      "source": [
        "Let's create a second list, `simple_list2`, with two elements: the first element is a vector of 3 numeric values and the second element is a vector of 4 numeric values. If we apply `add2` to each element of `simple_list2`, the result is returned as a `list` because the results cannot be simplified by `simplify2array`."
      ]
    },
    {
      "cell_type": "code",
      "execution_count": 25,
      "metadata": {
        "id": "c1f1b1d6",
        "colab": {
          "base_uri": "https://localhost:8080/",
          "height": 80
        },
        "outputId": "e2ffcc9c-f660-4135-dc86-60dfc48ce38f"
      },
      "outputs": [
        {
          "output_type": "display_data",
          "data": {
            "text/html": [
              "<ol>\n",
              "\t<li><style>\n",
              ".list-inline {list-style: none; margin:0; padding: 0}\n",
              ".list-inline>li {display: inline-block}\n",
              ".list-inline>li:not(:last-child)::after {content: \"\\00b7\"; padding: 0 .5ex}\n",
              "</style>\n",
              "<ol class=list-inline><li>1</li><li>2</li><li>3</li></ol>\n",
              "</li>\n",
              "\t<li><style>\n",
              ".list-inline {list-style: none; margin:0; padding: 0}\n",
              ".list-inline>li {display: inline-block}\n",
              ".list-inline>li:not(:last-child)::after {content: \"\\00b7\"; padding: 0 .5ex}\n",
              "</style>\n",
              "<ol class=list-inline><li>4</li><li>5</li><li>6</li><li>7</li></ol>\n",
              "</li>\n",
              "</ol>\n"
            ],
            "text/markdown": "1. 1. 1\n2. 2\n3. 3\n\n\n\n2. 1. 4\n2. 5\n3. 6\n4. 7\n\n\n\n\n\n",
            "text/latex": "\\begin{enumerate}\n\\item \\begin{enumerate*}\n\\item 1\n\\item 2\n\\item 3\n\\end{enumerate*}\n\n\\item \\begin{enumerate*}\n\\item 4\n\\item 5\n\\item 6\n\\item 7\n\\end{enumerate*}\n\n\\end{enumerate}\n",
            "text/plain": [
              "[[1]]\n",
              "[1] 1 2 3\n",
              "\n",
              "[[2]]\n",
              "[1] 4 5 6 7\n"
            ]
          },
          "metadata": {}
        }
      ],
      "source": [
        "simple_list2 <- list(1:3, 4:7)\n",
        "simple_list2"
      ]
    },
    {
      "cell_type": "code",
      "execution_count": 26,
      "metadata": {
        "id": "8deadf43",
        "colab": {
          "base_uri": "https://localhost:8080/",
          "height": 80
        },
        "outputId": "bba64a4d-590d-4c87-caa0-68acda68f344"
      },
      "outputs": [
        {
          "output_type": "display_data",
          "data": {
            "text/html": [
              "<ol>\n",
              "\t<li><style>\n",
              ".list-inline {list-style: none; margin:0; padding: 0}\n",
              ".list-inline>li {display: inline-block}\n",
              ".list-inline>li:not(:last-child)::after {content: \"\\00b7\"; padding: 0 .5ex}\n",
              "</style>\n",
              "<ol class=list-inline><li>3</li><li>4</li><li>5</li></ol>\n",
              "</li>\n",
              "\t<li><style>\n",
              ".list-inline {list-style: none; margin:0; padding: 0}\n",
              ".list-inline>li {display: inline-block}\n",
              ".list-inline>li:not(:last-child)::after {content: \"\\00b7\"; padding: 0 .5ex}\n",
              "</style>\n",
              "<ol class=list-inline><li>6</li><li>7</li><li>8</li><li>9</li></ol>\n",
              "</li>\n",
              "</ol>\n"
            ],
            "text/markdown": "1. 1. 3\n2. 4\n3. 5\n\n\n\n2. 1. 6\n2. 7\n3. 8\n4. 9\n\n\n\n\n\n",
            "text/latex": "\\begin{enumerate}\n\\item \\begin{enumerate*}\n\\item 3\n\\item 4\n\\item 5\n\\end{enumerate*}\n\n\\item \\begin{enumerate*}\n\\item 6\n\\item 7\n\\item 8\n\\item 9\n\\end{enumerate*}\n\n\\end{enumerate}\n",
            "text/plain": [
              "[[1]]\n",
              "[1] 3 4 5\n",
              "\n",
              "[[2]]\n",
              "[1] 6 7 8 9\n"
            ]
          },
          "metadata": {}
        }
      ],
      "source": [
        "# same command stores output as a list\n",
        "sapply(simple_list2, add2)"
      ]
    },
    {
      "cell_type": "markdown",
      "source": [
        "# <a name=\"lapply\">The `vapply` Function</a>\n",
        "\n",
        "---\n",
        "\n",
        "The `vapply` function attempts to be a safer version of `sapply` by requiring the user to indicate the data type expected from each application of `FUN`. However, `vapply` also attempts to simplify the output using `simplify2array`, so it can also create issues in later code. The `vapply` function essentially adds one additional argument to `sapply`.\n",
        "\n",
        "-   `FUN.VALUE`: a template for the value returned by `FUN`.\n",
        "\n",
        "If `FUN` doesn't have the same structure as `FUN.VALUE`, then `vapply` returns an error. Let's create a trivial example. We create two lists, `l1` and `l2`.\n",
        "\n",
        "-   `l1` has two elements containing `integer` vectors.\n",
        "-   `l2` has two elements containing `double` vectors."
      ],
      "metadata": {
        "id": "EIy1oCQdDznn"
      }
    },
    {
      "cell_type": "code",
      "execution_count": 27,
      "metadata": {
        "id": "31c170df",
        "colab": {
          "base_uri": "https://localhost:8080/",
          "height": 80
        },
        "outputId": "dc05c525-bf33-4871-9b97-925ac77c1427"
      },
      "outputs": [
        {
          "output_type": "display_data",
          "data": {
            "text/html": [
              "<ol>\n",
              "\t<li><style>\n",
              ".list-inline {list-style: none; margin:0; padding: 0}\n",
              ".list-inline>li {display: inline-block}\n",
              ".list-inline>li:not(:last-child)::after {content: \"\\00b7\"; padding: 0 .5ex}\n",
              "</style>\n",
              "<ol class=list-inline><li>1</li><li>2</li><li>3</li><li>4</li></ol>\n",
              "</li>\n",
              "\t<li><style>\n",
              ".list-inline {list-style: none; margin:0; padding: 0}\n",
              ".list-inline>li {display: inline-block}\n",
              ".list-inline>li:not(:last-child)::after {content: \"\\00b7\"; padding: 0 .5ex}\n",
              "</style>\n",
              "<ol class=list-inline><li>4</li><li>5</li><li>6</li><li>7</li></ol>\n",
              "</li>\n",
              "</ol>\n"
            ],
            "text/markdown": "1. 1. 1\n2. 2\n3. 3\n4. 4\n\n\n\n2. 1. 4\n2. 5\n3. 6\n4. 7\n\n\n\n\n\n",
            "text/latex": "\\begin{enumerate}\n\\item \\begin{enumerate*}\n\\item 1\n\\item 2\n\\item 3\n\\item 4\n\\end{enumerate*}\n\n\\item \\begin{enumerate*}\n\\item 4\n\\item 5\n\\item 6\n\\item 7\n\\end{enumerate*}\n\n\\end{enumerate}\n",
            "text/plain": [
              "[[1]]\n",
              "[1] 1 2 3 4\n",
              "\n",
              "[[2]]\n",
              "[1] 4 5 6 7\n"
            ]
          },
          "metadata": {}
        }
      ],
      "source": [
        "l1 <- list(seq.int(1, 4), seq.int(4, 7))\n",
        "l1"
      ]
    },
    {
      "cell_type": "code",
      "execution_count": 28,
      "metadata": {
        "id": "3970cf84",
        "colab": {
          "base_uri": "https://localhost:8080/",
          "height": 80
        },
        "outputId": "f668e58d-d0ee-4f05-820a-8e38a72af2f8"
      },
      "outputs": [
        {
          "output_type": "display_data",
          "data": {
            "text/html": [
              "<ol>\n",
              "\t<li><style>\n",
              ".list-inline {list-style: none; margin:0; padding: 0}\n",
              ".list-inline>li {display: inline-block}\n",
              ".list-inline>li:not(:last-child)::after {content: \"\\00b7\"; padding: 0 .5ex}\n",
              "</style>\n",
              "<ol class=list-inline><li>1.5</li><li>2.5</li><li>3.5</li><li>4.5</li></ol>\n",
              "</li>\n",
              "\t<li><style>\n",
              ".list-inline {list-style: none; margin:0; padding: 0}\n",
              ".list-inline>li {display: inline-block}\n",
              ".list-inline>li:not(:last-child)::after {content: \"\\00b7\"; padding: 0 .5ex}\n",
              "</style>\n",
              "<ol class=list-inline><li>4.5</li><li>5.5</li><li>6.5</li><li>7.5</li></ol>\n",
              "</li>\n",
              "</ol>\n"
            ],
            "text/markdown": "1. 1. 1.5\n2. 2.5\n3. 3.5\n4. 4.5\n\n\n\n2. 1. 4.5\n2. 5.5\n3. 6.5\n4. 7.5\n\n\n\n\n\n",
            "text/latex": "\\begin{enumerate}\n\\item \\begin{enumerate*}\n\\item 1.5\n\\item 2.5\n\\item 3.5\n\\item 4.5\n\\end{enumerate*}\n\n\\item \\begin{enumerate*}\n\\item 4.5\n\\item 5.5\n\\item 6.5\n\\item 7.5\n\\end{enumerate*}\n\n\\end{enumerate}\n",
            "text/plain": [
              "[[1]]\n",
              "[1] 1.5 2.5 3.5 4.5\n",
              "\n",
              "[[2]]\n",
              "[1] 4.5 5.5 6.5 7.5\n"
            ]
          },
          "metadata": {}
        }
      ],
      "source": [
        "l2 <- list(seq(1.5, 4.5, by = 1), seq(4.5, 7.5, by = 1))\n",
        "l2"
      ]
    },
    {
      "cell_type": "markdown",
      "metadata": {
        "id": "ba888d92-79f7-4d3a-b914-fc7a32f90faf"
      },
      "source": [
        "We apply the `max` function to `l1` using `vapply`. We specify `FUN.VALUE = integer(1)` to indicate that each time we apply the `max` function to an element of `l1`, we expect to get an `integer` vector of length 1."
      ]
    },
    {
      "cell_type": "code",
      "execution_count": 29,
      "metadata": {
        "id": "4d31a93e",
        "colab": {
          "base_uri": "https://localhost:8080/",
          "height": 34
        },
        "outputId": "cef57bd4-a9d1-41ea-b079-5fb1971edb8a"
      },
      "outputs": [
        {
          "output_type": "display_data",
          "data": {
            "text/html": [
              "<style>\n",
              ".list-inline {list-style: none; margin:0; padding: 0}\n",
              ".list-inline>li {display: inline-block}\n",
              ".list-inline>li:not(:last-child)::after {content: \"\\00b7\"; padding: 0 .5ex}\n",
              "</style>\n",
              "<ol class=list-inline><li>4</li><li>7</li></ol>\n"
            ],
            "text/markdown": "1. 4\n2. 7\n\n\n",
            "text/latex": "\\begin{enumerate*}\n\\item 4\n\\item 7\n\\end{enumerate*}\n",
            "text/plain": [
              "[1] 4 7"
            ]
          },
          "metadata": {}
        }
      ],
      "source": [
        "vapply(l1, max, FUN.VALUE = integer(1))"
      ]
    },
    {
      "cell_type": "markdown",
      "metadata": {
        "id": "0236ba7d-2101-48ea-af6b-632c404b50d3"
      },
      "source": [
        "We get an error if we do the same thing for `l2` because the `max` function will return an atomic vector of type `double` of length 1. The error produced by `vapply` indicates that it was expecting to get an `integer` type by got a `double` type instead."
      ]
    },
    {
      "cell_type": "code",
      "execution_count": 30,
      "metadata": {
        "id": "62a73323",
        "colab": {
          "base_uri": "https://localhost:8080/",
          "height": 263
        },
        "outputId": "4fd6842e-753a-492c-e318-80cddbca43c8"
      },
      "outputs": [
        {
          "output_type": "error",
          "ename": "ERROR",
          "evalue": "Error in vapply(l2, max, FUN.VALUE = integer(1)): values must be type 'integer',\n but FUN(X[[1]]) result is type 'double'\n",
          "traceback": [
            "Error in vapply(l2, max, FUN.VALUE = integer(1)): values must be type 'integer',\n but FUN(X[[1]]) result is type 'double'\nTraceback:\n",
            "1. .handleSimpleError(function (cnd) \n . {\n .     watcher$capture_plot_and_output()\n .     cnd <- sanitize_call(cnd)\n .     watcher$push(cnd)\n .     switch(on_error, continue = invokeRestart(\"eval_continue\"), \n .         stop = invokeRestart(\"eval_stop\"), error = NULL)\n . }, \"values must be type 'integer',\\n but FUN(X[[1]]) result is type 'double'\", \n .     base::quote(vapply(l2, max, FUN.VALUE = integer(1))))"
          ]
        }
      ],
      "source": [
        "vapply(l2, max, FUN.VALUE = integer(1))"
      ]
    },
    {
      "cell_type": "markdown",
      "source": [
        "## <a name=\"quest 3\">Question 3</a>\n",
        "\n",
        "---\n",
        "\n",
        "Correct the issue that caused the error in the previous code cell."
      ],
      "metadata": {
        "id": "JBLKQYv53avu"
      }
    },
    {
      "cell_type": "code",
      "execution_count": null,
      "metadata": {
        "id": "17457238"
      },
      "outputs": [],
      "source": [
        "# correct the problem by changing FUN.VALUE to double(1)\n"
      ]
    },
    {
      "cell_type": "markdown",
      "source": [
        "# <a name=\"chick-wt\">Chick Weight Data</a>\n",
        "\n",
        "---\n",
        "\n",
        "The `chickwts` data set in the **datasets** package is a data frame with 71 observations of 2 variables. The data provide the results of an experiment to measure and compare the effectiveness of various feed supplements on the growth rate of chickens. According to the help documentation:\n",
        "\n",
        "> Newly hatched chicks were randomly allocated into six groups, and each group was given a different feed supplement.  Their weights in grams after six weeks are given along with feed types.\n",
        "\n",
        "The following variables are included in the data frame:\n",
        "\n",
        "-   `weight`: the chick's weight at six weeks (in g).\n",
        "-   `feed`: a `factor` indicating the feed type.\n"
      ],
      "metadata": {
        "id": "y6aHNeHvUDAB"
      }
    },
    {
      "cell_type": "code",
      "source": [
        "?chickwts"
      ],
      "metadata": {
        "id": "9O_a8_4XfOXq"
      },
      "execution_count": null,
      "outputs": []
    },
    {
      "cell_type": "code",
      "source": [
        "summary(chickwts)"
      ],
      "metadata": {
        "colab": {
          "base_uri": "https://localhost:8080/",
          "height": 138
        },
        "id": "bxe2UXyUdLED",
        "outputId": "8099c7e4-340a-46a0-b1dd-71aed142ec6e"
      },
      "execution_count": 32,
      "outputs": [
        {
          "output_type": "display_data",
          "data": {
            "text/plain": [
              "     weight             feed   \n",
              " Min.   :108.0   casein   :12  \n",
              " 1st Qu.:204.5   horsebean:10  \n",
              " Median :258.0   linseed  :12  \n",
              " Mean   :261.3   meatmeal :11  \n",
              " 3rd Qu.:323.5   soybean  :14  \n",
              " Max.   :423.0   sunflower:12  "
            ]
          },
          "metadata": {}
        }
      ]
    },
    {
      "cell_type": "markdown",
      "source": [
        "## <a name=\"quest4\">Question 4</a>\n",
        "\n",
        "---\n",
        "\n",
        "Let's do some exploratory data analysis with the `chickwts` data frame.\n",
        "\n",
        "- Create a density plot showing the distribution of weights.\n",
        "- Create a bar plot showing the counts for each `feed`.\n",
        "- Create side by side box plots to display the distribution of weights for each `feed` group."
      ],
      "metadata": {
        "id": "jwKoxw4kgqJr"
      }
    },
    {
      "cell_type": "code",
      "source": [
        "# create density plot of weight\n"
      ],
      "metadata": {
        "id": "gk2a3JpE5CqU"
      },
      "execution_count": null,
      "outputs": []
    },
    {
      "cell_type": "code",
      "source": [
        "# create bar plot of feed\n"
      ],
      "metadata": {
        "id": "3Puldkid5-6c"
      },
      "execution_count": null,
      "outputs": []
    },
    {
      "cell_type": "code",
      "source": [
        "# side-by-side box plots to look for possible association\n"
      ],
      "metadata": {
        "id": "C9r0vfM55C7U"
      },
      "execution_count": null,
      "outputs": []
    },
    {
      "cell_type": "markdown",
      "source": [
        "# <a name=\"boot-apply\">Bootstrap Confidence Intervals Revisited</a>\n",
        "\n",
        "---\n",
        "\n",
        "Suppose we want to estimate the mean weight of all chicks at six weeks using the sample data in `chickwts`.\n",
        "\n",
        "A confidence interval is an interval estimate that gives the range of plausible values for a target parameter (such as population mean)with an associated success rate (the confidence level).\n",
        "\n",
        "- Confidence intervals are typically constructed on the assumption that we know the population distribution from which the sample came.\n",
        "  - The weights of chicks at six weeks is likely normally distributed.\n",
        "  - We do not know the population mean or standard deviation.\n",
        "\n",
        "- A bootstrap confidence interval procedure can be used to construct confidence intervals when the population distribution is unknown.\n",
        "\n",
        "In [Module 14: Contral Statements and Iteration](https://colab.research.google.com/github/CU-Denver-MathStats-OER/Data-Wrangling-and-Visualization/blob/main/14-Control-Statements-and-Iteration.ipynb#scrollTo=fjXuOG31u1uR), we discussed how to use a `for` statement to generate bootstrap distributions from which we can construct bootstrap confidence intervals.\n",
        "\n",
        "Suppose we have a sample of $n$ data values, $x_1, x_2, \\ldots, x_n$. Then if we want to estimate a population parameter (such as a mean, $\\mu$) a natural estimator is the associated statistic from a random sample (such as a sample mean, $\\bar{x}$). The procedure for producing a bootstrap confidence interval for a population parameter $\\theta$ is:\n",
        "\n",
        "1.  Sample with replacement a data set of size $n$ from the observed data values. This is a bootstrap resample.\n",
        "2.  Compute a sample statistic $\\widehat{\\theta}$ from each bootstrap resample.\n",
        "3.  Perform steps 1 and 2 many times (such as $B = 10,000$ times).\n",
        "4.  Let $\\alpha = 1 - CL$. Compute the $\\alpha/2$ and $1-\\alpha/2$ quantiles of the distribution of bootstrap statistics.\n"
      ],
      "metadata": {
        "id": "hIDvUOb5D4wt"
      }
    },
    {
      "cell_type": "code",
      "source": [
        "# store sample of chicken weights to vector wt\n",
        "wt <- chickwts$weight\n",
        "wt"
      ],
      "metadata": {
        "id": "ne9YcJluvE0u",
        "colab": {
          "base_uri": "https://localhost:8080/",
          "height": 52
        },
        "outputId": "55e76c31-f08f-4e30-985d-905ad715e6bf"
      },
      "execution_count": 34,
      "outputs": [
        {
          "output_type": "display_data",
          "data": {
            "text/html": [
              "<style>\n",
              ".list-inline {list-style: none; margin:0; padding: 0}\n",
              ".list-inline>li {display: inline-block}\n",
              ".list-inline>li:not(:last-child)::after {content: \"\\00b7\"; padding: 0 .5ex}\n",
              "</style>\n",
              "<ol class=list-inline><li>179</li><li>160</li><li>136</li><li>227</li><li>217</li><li>168</li><li>108</li><li>124</li><li>143</li><li>140</li><li>309</li><li>229</li><li>181</li><li>141</li><li>260</li><li>203</li><li>148</li><li>169</li><li>213</li><li>257</li><li>244</li><li>271</li><li>243</li><li>230</li><li>248</li><li>327</li><li>329</li><li>250</li><li>193</li><li>271</li><li>316</li><li>267</li><li>199</li><li>171</li><li>158</li><li>248</li><li>423</li><li>340</li><li>392</li><li>339</li><li>341</li><li>226</li><li>320</li><li>295</li><li>334</li><li>322</li><li>297</li><li>318</li><li>325</li><li>257</li><li>303</li><li>315</li><li>380</li><li>153</li><li>263</li><li>242</li><li>206</li><li>344</li><li>258</li><li>368</li><li>390</li><li>379</li><li>260</li><li>404</li><li>318</li><li>352</li><li>359</li><li>216</li><li>222</li><li>283</li><li>332</li></ol>\n"
            ],
            "text/markdown": "1. 179\n2. 160\n3. 136\n4. 227\n5. 217\n6. 168\n7. 108\n8. 124\n9. 143\n10. 140\n11. 309\n12. 229\n13. 181\n14. 141\n15. 260\n16. 203\n17. 148\n18. 169\n19. 213\n20. 257\n21. 244\n22. 271\n23. 243\n24. 230\n25. 248\n26. 327\n27. 329\n28. 250\n29. 193\n30. 271\n31. 316\n32. 267\n33. 199\n34. 171\n35. 158\n36. 248\n37. 423\n38. 340\n39. 392\n40. 339\n41. 341\n42. 226\n43. 320\n44. 295\n45. 334\n46. 322\n47. 297\n48. 318\n49. 325\n50. 257\n51. 303\n52. 315\n53. 380\n54. 153\n55. 263\n56. 242\n57. 206\n58. 344\n59. 258\n60. 368\n61. 390\n62. 379\n63. 260\n64. 404\n65. 318\n66. 352\n67. 359\n68. 216\n69. 222\n70. 283\n71. 332\n\n\n",
            "text/latex": "\\begin{enumerate*}\n\\item 179\n\\item 160\n\\item 136\n\\item 227\n\\item 217\n\\item 168\n\\item 108\n\\item 124\n\\item 143\n\\item 140\n\\item 309\n\\item 229\n\\item 181\n\\item 141\n\\item 260\n\\item 203\n\\item 148\n\\item 169\n\\item 213\n\\item 257\n\\item 244\n\\item 271\n\\item 243\n\\item 230\n\\item 248\n\\item 327\n\\item 329\n\\item 250\n\\item 193\n\\item 271\n\\item 316\n\\item 267\n\\item 199\n\\item 171\n\\item 158\n\\item 248\n\\item 423\n\\item 340\n\\item 392\n\\item 339\n\\item 341\n\\item 226\n\\item 320\n\\item 295\n\\item 334\n\\item 322\n\\item 297\n\\item 318\n\\item 325\n\\item 257\n\\item 303\n\\item 315\n\\item 380\n\\item 153\n\\item 263\n\\item 242\n\\item 206\n\\item 344\n\\item 258\n\\item 368\n\\item 390\n\\item 379\n\\item 260\n\\item 404\n\\item 318\n\\item 352\n\\item 359\n\\item 216\n\\item 222\n\\item 283\n\\item 332\n\\end{enumerate*}\n",
            "text/plain": [
              " [1] 179 160 136 227 217 168 108 124 143 140 309 229 181 141 260 203 148 169 213\n",
              "[20] 257 244 271 243 230 248 327 329 250 193 271 316 267 199 171 158 248 423 340\n",
              "[39] 392 339 341 226 320 295 334 322 297 318 325 257 303 315 380 153 263 242 206\n",
              "[58] 344 258 368 390 379 260 404 318 352 359 216 222 283 332"
            ]
          },
          "metadata": {}
        }
      ]
    },
    {
      "cell_type": "markdown",
      "source": [
        "We can generate bootstrap resamples using the `sample()` function setting the `size = length(wt)` and `replace = TRUE`."
      ],
      "metadata": {
        "id": "3DHQW9dVvUcY"
      }
    },
    {
      "cell_type": "code",
      "source": [
        "(boot_sample <- sample(wt, size = length(wt), replace = TRUE))"
      ],
      "metadata": {
        "colab": {
          "base_uri": "https://localhost:8080/",
          "height": 52
        },
        "id": "O3w7fEVdvMgT",
        "outputId": "43e38c5c-acf6-4fb2-8433-934a69a84958"
      },
      "execution_count": 35,
      "outputs": [
        {
          "output_type": "display_data",
          "data": {
            "text/html": [
              "<style>\n",
              ".list-inline {list-style: none; margin:0; padding: 0}\n",
              ".list-inline>li {display: inline-block}\n",
              ".list-inline>li:not(:last-child)::after {content: \"\\00b7\"; padding: 0 .5ex}\n",
              "</style>\n",
              "<ol class=list-inline><li>229</li><li>322</li><li>322</li><li>243</li><li>344</li><li>229</li><li>169</li><li>242</li><li>242</li><li>332</li><li>171</li><li>171</li><li>243</li><li>368</li><li>332</li><li>379</li><li>271</li><li>141</li><li>344</li><li>244</li><li>153</li><li>390</li><li>248</li><li>263</li><li>168</li><li>216</li><li>318</li><li>217</li><li>260</li><li>217</li><li>340</li><li>318</li><li>158</li><li>203</li><li>158</li><li>229</li><li>318</li><li>390</li><li>325</li><li>327</li><li>244</li><li>267</li><li>423</li><li>325</li><li>341</li><li>140</li><li>352</li><li>143</li><li>390</li><li>271</li><li>153</li><li>160</li><li>283</li><li>260</li><li>257</li><li>203</li><li>380</li><li>244</li><li>297</li><li>295</li><li>143</li><li>230</li><li>257</li><li>169</li><li>124</li><li>380</li><li>260</li><li>244</li><li>344</li><li>283</li><li>379</li></ol>\n"
            ],
            "text/markdown": "1. 229\n2. 322\n3. 322\n4. 243\n5. 344\n6. 229\n7. 169\n8. 242\n9. 242\n10. 332\n11. 171\n12. 171\n13. 243\n14. 368\n15. 332\n16. 379\n17. 271\n18. 141\n19. 344\n20. 244\n21. 153\n22. 390\n23. 248\n24. 263\n25. 168\n26. 216\n27. 318\n28. 217\n29. 260\n30. 217\n31. 340\n32. 318\n33. 158\n34. 203\n35. 158\n36. 229\n37. 318\n38. 390\n39. 325\n40. 327\n41. 244\n42. 267\n43. 423\n44. 325\n45. 341\n46. 140\n47. 352\n48. 143\n49. 390\n50. 271\n51. 153\n52. 160\n53. 283\n54. 260\n55. 257\n56. 203\n57. 380\n58. 244\n59. 297\n60. 295\n61. 143\n62. 230\n63. 257\n64. 169\n65. 124\n66. 380\n67. 260\n68. 244\n69. 344\n70. 283\n71. 379\n\n\n",
            "text/latex": "\\begin{enumerate*}\n\\item 229\n\\item 322\n\\item 322\n\\item 243\n\\item 344\n\\item 229\n\\item 169\n\\item 242\n\\item 242\n\\item 332\n\\item 171\n\\item 171\n\\item 243\n\\item 368\n\\item 332\n\\item 379\n\\item 271\n\\item 141\n\\item 344\n\\item 244\n\\item 153\n\\item 390\n\\item 248\n\\item 263\n\\item 168\n\\item 216\n\\item 318\n\\item 217\n\\item 260\n\\item 217\n\\item 340\n\\item 318\n\\item 158\n\\item 203\n\\item 158\n\\item 229\n\\item 318\n\\item 390\n\\item 325\n\\item 327\n\\item 244\n\\item 267\n\\item 423\n\\item 325\n\\item 341\n\\item 140\n\\item 352\n\\item 143\n\\item 390\n\\item 271\n\\item 153\n\\item 160\n\\item 283\n\\item 260\n\\item 257\n\\item 203\n\\item 380\n\\item 244\n\\item 297\n\\item 295\n\\item 143\n\\item 230\n\\item 257\n\\item 169\n\\item 124\n\\item 380\n\\item 260\n\\item 244\n\\item 344\n\\item 283\n\\item 379\n\\end{enumerate*}\n",
            "text/plain": [
              " [1] 229 322 322 243 344 229 169 242 242 332 171 171 243 368 332 379 271 141 344\n",
              "[20] 244 153 390 248 263 168 216 318 217 260 217 340 318 158 203 158 229 318 390\n",
              "[39] 325 327 244 267 423 325 341 140 352 143 390 271 153 160 283 260 257 203 380\n",
              "[58] 244 297 295 143 230 257 169 124 380 260 244 344 283 379"
            ]
          },
          "metadata": {}
        }
      ]
    },
    {
      "cell_type": "code",
      "source": [
        "mean(boot_sample)"
      ],
      "metadata": {
        "colab": {
          "base_uri": "https://localhost:8080/",
          "height": 34
        },
        "id": "6HbThxabd0IE",
        "outputId": "5b23fd4e-1958-44af-8f57-64da681b1418"
      },
      "execution_count": 36,
      "outputs": [
        {
          "output_type": "display_data",
          "data": {
            "text/html": [
              "264.718309859155"
            ],
            "text/markdown": "264.718309859155",
            "text/latex": "264.718309859155",
            "text/plain": [
              "[1] 264.7183"
            ]
          },
          "metadata": {}
        }
      ]
    },
    {
      "cell_type": "markdown",
      "source": [
        "## <a name=\"apply-in-fun\">Using the `apply` Family When Creating Functions</a>\n",
        "\n",
        "---\n",
        "\n",
        "We should not use `sapply` or `vapply` inside any function to avoid problems with the output changing data types. Instead, use the `lapply` function to keep the output consistent (a list), and we can convert the output to another data structure after if needed. In the code below, we use the `lapply` function to repeatedly pick a bootstrap resample, compute the mean of the resample, and store the result to a vector named `boot_stats`.\n",
        "\n",
        "- The vector is `1:B` gives the index values for `boot_stats`.\n",
        "- We supply an *anonymous* function to the `FUN` argument of `lapply`. For each value of `i` in `1:B`:\n",
        "  - Pick a bootstrap resample using the `sample()` function.\n",
        "  - Calculate `mean` of the bootstrap sample.\n",
        "- Output from the `lapply` function are stored to `boot_stats`.\n",
        "\n",
        "An anonymous function is a temporary function we create to perform an action but for which we don't want to go to the trouble of storing in memory for long-term use.\n",
        "\n",
        "\n",
        "\n",
        "-   We use the `unlist` function to convert the list of sample means in `bstats` to a `numeric` vector."
      ],
      "metadata": {
        "id": "fBmZ-7NhvzmH"
      }
    },
    {
      "cell_type": "code",
      "source": [
        "B <- 10000\n",
        "boot_stats <- lapply(1:B, FUN = function(i) {\n",
        "    boot_sample <- sample(wt, size = length(wt), replace = TRUE)  # draw bootstrap sample\n",
        "    mean(boot_sample)  # compute sample mean of bootstrap sample\n",
        "  })\n",
        "boot_stats[1:5]"
      ],
      "metadata": {
        "id": "XK3UdJvpvoZA",
        "colab": {
          "base_uri": "https://localhost:8080/",
          "height": 132
        },
        "outputId": "1233d638-e729-43a1-84c3-b248a138a3de"
      },
      "execution_count": 37,
      "outputs": [
        {
          "output_type": "display_data",
          "data": {
            "text/html": [
              "<ol>\n",
              "\t<li>257.87323943662</li>\n",
              "\t<li>270.295774647887</li>\n",
              "\t<li>263.408450704225</li>\n",
              "\t<li>270.985915492958</li>\n",
              "\t<li>260.647887323944</li>\n",
              "</ol>\n"
            ],
            "text/markdown": "1. 257.87323943662\n2. 270.295774647887\n3. 263.408450704225\n4. 270.985915492958\n5. 260.647887323944\n\n\n",
            "text/latex": "\\begin{enumerate}\n\\item 257.87323943662\n\\item 270.295774647887\n\\item 263.408450704225\n\\item 270.985915492958\n\\item 260.647887323944\n\\end{enumerate}\n",
            "text/plain": [
              "[[1]]\n",
              "[1] 257.8732\n",
              "\n",
              "[[2]]\n",
              "[1] 270.2958\n",
              "\n",
              "[[3]]\n",
              "[1] 263.4085\n",
              "\n",
              "[[4]]\n",
              "[1] 270.9859\n",
              "\n",
              "[[5]]\n",
              "[1] 260.6479\n"
            ]
          },
          "metadata": {}
        }
      ]
    },
    {
      "cell_type": "markdown",
      "source": [
        "In the code cell below we add some additional commands to use the values stored in `boot_stats` to construct a bootstrap confidence interval.\n",
        "\n",
        "After storing bootstrap statistics to `boot_stats`:\n",
        "\n",
        "-   Use the `unlist` function to convert the list of sample means in `boot_stats` to a `numeric` vector.\n",
        "-   Compute the value `alpha <- 1-conf.level`.\n",
        "-   We use the `quantile` function to return the `alpha/2` and `1-alpha/2` quantiles from our vector of sample means.\n"
      ],
      "metadata": {
        "id": "KfeoWDw0X-ZZ"
      }
    },
    {
      "cell_type": "code",
      "source": [
        "x <- wt\n",
        "conf.level <- 0.95\n",
        "B <- 10000"
      ],
      "metadata": {
        "id": "ldL2wMeeup2E"
      },
      "execution_count": 38,
      "outputs": []
    },
    {
      "cell_type": "code",
      "execution_count": 39,
      "metadata": {
        "id": "b10edc14",
        "colab": {
          "base_uri": "https://localhost:8080/",
          "height": 34
        },
        "outputId": "dc0d8ad4-fc27-4ed1-d42d-f2725ce016ff"
      },
      "outputs": [
        {
          "output_type": "display_data",
          "data": {
            "text/html": [
              "<style>\n",
              ".dl-inline {width: auto; margin:0; padding: 0}\n",
              ".dl-inline>dt, .dl-inline>dd {float: none; width: auto; display: inline-block}\n",
              ".dl-inline>dt::after {content: \":\\0020\"; padding-right: .5ex}\n",
              ".dl-inline>dt:not(:first-of-type) {padding-left: .5ex}\n",
              "</style><dl class=dl-inline><dt>2.5%</dt><dd>243.111971830986</dd><dt>97.5%</dt><dd>278.761267605634</dd></dl>\n"
            ],
            "text/markdown": "2.5%\n:   243.11197183098697.5%\n:   278.761267605634\n\n",
            "text/latex": "\\begin{description*}\n\\item[2.5\\textbackslash{}\\%] 243.111971830986\n\\item[97.5\\textbackslash{}\\%] 278.761267605634\n\\end{description*}\n",
            "text/plain": [
              "    2.5%    97.5% \n",
              "243.1120 278.7613 "
            ]
          },
          "metadata": {}
        }
      ],
      "source": [
        "set.seed(43)\n",
        "boot_stats <- lapply(1:B, FUN = function(i) {\n",
        "  boot_sample <- sample(x, size = length(x), replace = TRUE)  # draw bootstrap sample\n",
        "  mean(boot_sample)  # compute sample mean of bootstrap sample\n",
        "})\n",
        "boot_stats <- unlist(boot_stats)  # convert list to vector\n",
        "alpha <- 1 - conf.level  # determine alpha\n",
        "quantile(boot_stats, prob = c(alpha/2, 1-alpha/2))  # compute and print desired quantiles"
      ]
    },
    {
      "cell_type": "markdown",
      "source": [
        "Let's construct a function named `bootstrap_ci()` to compute a 95% bootstrap confidence interval to estimate a population mean, $\\mu$, using sample data stored in vector `x`. Our function will take three arguments:\n",
        "\n",
        "-   `x`: A vector of numeric values.\n",
        "-   `conf.level`: The confidence level desired for the interval. The default value will be `0.95`.\n",
        "-   `B`: The number of bootstrap samples from which to build the confidence interval. The default value will be `10000`.\n",
        "\n"
      ],
      "metadata": {
        "id": "n1jfualvvD2c"
      }
    },
    {
      "cell_type": "code",
      "source": [
        "bootstrap_ci <- function(x, conf.level = 0.95, B = 10000) {\n",
        "  boot_stats <- lapply(1:B, FUN = function(i) {\n",
        "    boot_sample <- sample(x, size = length(x), replace = TRUE)  # draw bootstrap sample\n",
        "    mean(boot_sample)  # compute sample mean of bootstrap sample\n",
        "  })\n",
        "  boot_stats <- unlist(boot_stats)  # convert list to vector\n",
        "  alpha <- 1 - conf.level  # determine alpha\n",
        "  quantile(boot_stats, prob = c(alpha/2, 1-alpha/2))  # compute and print desired quantiles\n",
        "}"
      ],
      "metadata": {
        "id": "6xY85NguZ9Ua"
      },
      "execution_count": 40,
      "outputs": []
    },
    {
      "cell_type": "code",
      "source": [
        "set.seed(43)\n",
        "bootstrap_ci(wt)"
      ],
      "metadata": {
        "colab": {
          "base_uri": "https://localhost:8080/",
          "height": 34
        },
        "id": "8YTFqjggZIWZ",
        "outputId": "98c9284d-7b51-40a5-ba39-455d1e379c3d"
      },
      "execution_count": 41,
      "outputs": [
        {
          "output_type": "display_data",
          "data": {
            "text/html": [
              "<style>\n",
              ".dl-inline {width: auto; margin:0; padding: 0}\n",
              ".dl-inline>dt, .dl-inline>dd {float: none; width: auto; display: inline-block}\n",
              ".dl-inline>dt::after {content: \":\\0020\"; padding-right: .5ex}\n",
              ".dl-inline>dt:not(:first-of-type) {padding-left: .5ex}\n",
              "</style><dl class=dl-inline><dt>2.5%</dt><dd>243.111971830986</dd><dt>97.5%</dt><dd>278.761267605634</dd></dl>\n"
            ],
            "text/markdown": "2.5%\n:   243.11197183098697.5%\n:   278.761267605634\n\n",
            "text/latex": "\\begin{description*}\n\\item[2.5\\textbackslash{}\\%] 243.111971830986\n\\item[97.5\\textbackslash{}\\%] 278.761267605634\n\\end{description*}\n",
            "text/plain": [
              "    2.5%    97.5% \n",
              "243.1120 278.7613 "
            ]
          },
          "metadata": {}
        }
      ]
    },
    {
      "cell_type": "markdown",
      "metadata": {
        "id": "9cfcf2f0-1436-44d1-b499-cd82bde76518"
      },
      "source": [
        "Our 95% bootstrap confidence interval for the population mean is $243.11 < \\mu < 278.76$. There is a 95\\% chance the interval from $243.11$ g to $278.76$ g contains the mean weight of all chicks at six weeks.\n",
        "\n"
      ]
    },
    {
      "cell_type": "code",
      "source": [
        "loop_boot_ci <- function(samp, stat, level = 0.95, N = 10^4) {\n",
        "  boot_dist <- numeric(N)  # create vector to store bootstrap means\n",
        "  n <- length(samp)  # store sample size\n",
        "  for (i in 1:N) {\n",
        "    x <- sample(samp, n, replace = TRUE)  # pick a bootstrap resample\n",
        "    boot_dist[i] <- stat(x)  # compute stat of bootstrap resample\n",
        "  }\n",
        "  quantile(boot_dist, prob = c(alpha/2, 1-alpha/2))\n",
        "}"
      ],
      "metadata": {
        "id": "wsGCJYptU1iU"
      },
      "execution_count": 42,
      "outputs": []
    },
    {
      "cell_type": "code",
      "source": [
        "set.seed(43)\n",
        "loop_boot_ci(wt, mean)"
      ],
      "metadata": {
        "colab": {
          "base_uri": "https://localhost:8080/",
          "height": 34
        },
        "id": "VD2UrYnBU7F2",
        "outputId": "bc29faef-b3e7-4347-eb1d-797fee1a8d63"
      },
      "execution_count": 43,
      "outputs": [
        {
          "output_type": "display_data",
          "data": {
            "text/html": [
              "<style>\n",
              ".dl-inline {width: auto; margin:0; padding: 0}\n",
              ".dl-inline>dt, .dl-inline>dd {float: none; width: auto; display: inline-block}\n",
              ".dl-inline>dt::after {content: \":\\0020\"; padding-right: .5ex}\n",
              ".dl-inline>dt:not(:first-of-type) {padding-left: .5ex}\n",
              "</style><dl class=dl-inline><dt>2.5%</dt><dd>243.111971830986</dd><dt>97.5%</dt><dd>278.761267605634</dd></dl>\n"
            ],
            "text/markdown": "2.5%\n:   243.11197183098697.5%\n:   278.761267605634\n\n",
            "text/latex": "\\begin{description*}\n\\item[2.5\\textbackslash{}\\%] 243.111971830986\n\\item[97.5\\textbackslash{}\\%] 278.761267605634\n\\end{description*}\n",
            "text/plain": [
              "    2.5%    97.5% \n",
              "243.1120 278.7613 "
            ]
          },
          "metadata": {}
        }
      ]
    },
    {
      "cell_type": "code",
      "source": [
        "# run only if you have not already loaded microbenchmark\n",
        "#install.packages(\"microbenchmark\")\n",
        "#library(microbenchmark)"
      ],
      "metadata": {
        "id": "FpoAqMWt60OC"
      },
      "execution_count": null,
      "outputs": []
    },
    {
      "cell_type": "code",
      "source": [
        "# compute a bootstrap conf int 100 times using each approach\n",
        "# this code may take a couple of minutes to complete running\n",
        "boot_timings <- microbenchmark(loop_boot_ci(x, mean), bootstrap_ci(x))\n",
        "summary(boot_timings)"
      ],
      "metadata": {
        "colab": {
          "base_uri": "https://localhost:8080/",
          "height": 161
        },
        "outputId": "0b3ad8a2-6292-42af-83e8-4c8423251435",
        "id": "stTuv_FwVaGA"
      },
      "execution_count": 44,
      "outputs": [
        {
          "output_type": "display_data",
          "data": {
            "text/html": [
              "<table class=\"dataframe\">\n",
              "<caption>A data.frame: 2 × 8</caption>\n",
              "<thead>\n",
              "\t<tr><th scope=col>expr</th><th scope=col>min</th><th scope=col>lq</th><th scope=col>mean</th><th scope=col>median</th><th scope=col>uq</th><th scope=col>max</th><th scope=col>neval</th></tr>\n",
              "\t<tr><th scope=col>&lt;fct&gt;</th><th scope=col>&lt;dbl&gt;</th><th scope=col>&lt;dbl&gt;</th><th scope=col>&lt;dbl&gt;</th><th scope=col>&lt;dbl&gt;</th><th scope=col>&lt;dbl&gt;</th><th scope=col>&lt;dbl&gt;</th><th scope=col>&lt;dbl&gt;</th></tr>\n",
              "</thead>\n",
              "<tbody>\n",
              "\t<tr><td>loop_boot_ci(x, mean)</td><td>182.3486</td><td>205.9157</td><td>236.4110</td><td>224.3275</td><td>248.6557</td><td>362.6497</td><td>100</td></tr>\n",
              "\t<tr><td>bootstrap_ci(x)      </td><td>191.9620</td><td>225.4704</td><td>258.9175</td><td>241.7895</td><td>271.3310</td><td>650.5464</td><td>100</td></tr>\n",
              "</tbody>\n",
              "</table>\n"
            ],
            "text/markdown": "\nA data.frame: 2 × 8\n\n| expr &lt;fct&gt; | min &lt;dbl&gt; | lq &lt;dbl&gt; | mean &lt;dbl&gt; | median &lt;dbl&gt; | uq &lt;dbl&gt; | max &lt;dbl&gt; | neval &lt;dbl&gt; |\n|---|---|---|---|---|---|---|---|\n| loop_boot_ci(x, mean) | 182.3486 | 205.9157 | 236.4110 | 224.3275 | 248.6557 | 362.6497 | 100 |\n| bootstrap_ci(x)       | 191.9620 | 225.4704 | 258.9175 | 241.7895 | 271.3310 | 650.5464 | 100 |\n\n",
            "text/latex": "A data.frame: 2 × 8\n\\begin{tabular}{llllllll}\n expr & min & lq & mean & median & uq & max & neval\\\\\n <fct> & <dbl> & <dbl> & <dbl> & <dbl> & <dbl> & <dbl> & <dbl>\\\\\n\\hline\n\t loop\\_boot\\_ci(x, mean) & 182.3486 & 205.9157 & 236.4110 & 224.3275 & 248.6557 & 362.6497 & 100\\\\\n\t bootstrap\\_ci(x)       & 191.9620 & 225.4704 & 258.9175 & 241.7895 & 271.3310 & 650.5464 & 100\\\\\n\\end{tabular}\n",
            "text/plain": [
              "  expr                  min      lq       mean     median   uq       max     \n",
              "1 loop_boot_ci(x, mean) 182.3486 205.9157 236.4110 224.3275 248.6557 362.6497\n",
              "2 bootstrap_ci(x)       191.9620 225.4704 258.9175 241.7895 271.3310 650.5464\n",
              "  neval\n",
              "1 100  \n",
              "2 100  "
            ]
          },
          "metadata": {}
        }
      ]
    },
    {
      "cell_type": "code",
      "source": [
        "plot(boot_timings)"
      ],
      "metadata": {
        "colab": {
          "base_uri": "https://localhost:8080/",
          "height": 437
        },
        "id": "p8Gdhy5kWeDr",
        "outputId": "e80723cd-5dc5-43de-8ce4-6d88534c2695"
      },
      "execution_count": 45,
      "outputs": [
        {
          "output_type": "display_data",
          "data": {
            "text/plain": [
              "plot without title"
            ],
            "image/png": "[encoded data removed]"
          },
          "metadata": {
            "image/png": {
              "width": 420,
              "height": 420
            }
          }
        }
      ]
    },
    {
      "cell_type": "markdown",
      "source": [
        "# <a name=\"tapply\">The `tapply` Function</a>\n",
        "\n",
        "---\n",
        "\n",
        "The `tapply` function is used to apply a function to all the values associated with a certain level of a `factor` variable. It is useful for summarizing information for different groups of data.\n",
        "\n",
        "The `tapply` function takes the following arguments:\n",
        "\n",
        "-   `X`: an object for which a `split` method exists. Usually, this is a `vector` or `data.frame` object.\n",
        "-   `INDEX`: a `factor` variable with the same length as `X`. This will be used to “split” `X` into different groups.\n",
        "-   `FUN`: The function to be applied to each group of `X` after the `split` function is used.\n",
        "-   `...`: additional arguments that will be passed to `FUN`.\n",
        "-   `default`: an argument we can probably ignore. Run `?tapply` in the Console for more details about this argument.\n",
        "-   `simplify`: a logical value indicating whether the result should be simplified to a scalar array.\n",
        "  - The default is `TRUE` which returns an array.\n",
        "  - If `FALSE`, then a `list` is returned.\n",
        "\n",
        "We can use the `tapply` function with the `chickwts` data to summarize chick `weight` at six weeks across the different `feed` types.\n",
        "\n"
      ],
      "metadata": {
        "id": "l0F6xZRfEFVe"
      }
    },
    {
      "cell_type": "code",
      "execution_count": 46,
      "metadata": {
        "id": "f0d1fe59",
        "colab": {
          "base_uri": "https://localhost:8080/",
          "height": 34
        },
        "outputId": "bd881dcf-9ad0-4ff6-bb9e-9ce6d4ff26a6"
      },
      "outputs": [
        {
          "output_type": "display_data",
          "data": {
            "text/html": [
              "<style>\n",
              ".dl-inline {width: auto; margin:0; padding: 0}\n",
              ".dl-inline>dt, .dl-inline>dd {float: none; width: auto; display: inline-block}\n",
              ".dl-inline>dt::after {content: \":\\0020\"; padding-right: .5ex}\n",
              ".dl-inline>dt:not(:first-of-type) {padding-left: .5ex}\n",
              "</style><dl class=dl-inline><dt>casein</dt><dd>323.583333333333</dd><dt>horsebean</dt><dd>160.2</dd><dt>linseed</dt><dd>218.75</dd><dt>meatmeal</dt><dd>276.909090909091</dd><dt>soybean</dt><dd>246.428571428571</dd><dt>sunflower</dt><dd>328.916666666667</dd></dl>\n"
            ],
            "text/markdown": "casein\n:   323.583333333333horsebean\n:   160.2linseed\n:   218.75meatmeal\n:   276.909090909091soybean\n:   246.428571428571sunflower\n:   328.916666666667\n\n",
            "text/latex": "\\begin{description*}\n\\item[casein] 323.583333333333\n\\item[horsebean] 160.2\n\\item[linseed] 218.75\n\\item[meatmeal] 276.909090909091\n\\item[soybean] 246.428571428571\n\\item[sunflower] 328.916666666667\n\\end{description*}\n",
            "text/plain": [
              "   casein horsebean   linseed  meatmeal   soybean sunflower \n",
              " 323.5833  160.2000  218.7500  276.9091  246.4286  328.9167 "
            ]
          },
          "metadata": {}
        }
      ],
      "source": [
        "tapply(X = chickwts$weight, INDEX = chickwts$feed, FUN = mean)"
      ]
    },
    {
      "cell_type": "code",
      "source": [
        "tapply(X = chickwts$weight,\n",
        "  INDEX = chickwts$feed,\n",
        "  FUN = mean,\n",
        "  simplify = FALSE\n",
        ")"
      ],
      "metadata": {
        "colab": {
          "base_uri": "https://localhost:8080/",
          "height": 253
        },
        "id": "58imDjGtiCtI",
        "outputId": "9c67179d-6182-4ae6-de61-552436d2fa95"
      },
      "execution_count": 47,
      "outputs": [
        {
          "output_type": "display_data",
          "data": {
            "text/html": [
              "<dl>\n",
              "\t<dt>$casein</dt>\n",
              "\t\t<dd>323.583333333333</dd>\n",
              "\t<dt>$horsebean</dt>\n",
              "\t\t<dd>160.2</dd>\n",
              "\t<dt>$linseed</dt>\n",
              "\t\t<dd>218.75</dd>\n",
              "\t<dt>$meatmeal</dt>\n",
              "\t\t<dd>276.909090909091</dd>\n",
              "\t<dt>$soybean</dt>\n",
              "\t\t<dd>246.428571428571</dd>\n",
              "\t<dt>$sunflower</dt>\n",
              "\t\t<dd>328.916666666667</dd>\n",
              "</dl>\n"
            ],
            "text/markdown": "$casein\n:   323.583333333333\n$horsebean\n:   160.2\n$linseed\n:   218.75\n$meatmeal\n:   276.909090909091\n$soybean\n:   246.428571428571\n$sunflower\n:   328.916666666667\n\n\n",
            "text/latex": "\\begin{description}\n\\item[\\$casein] 323.583333333333\n\\item[\\$horsebean] 160.2\n\\item[\\$linseed] 218.75\n\\item[\\$meatmeal] 276.909090909091\n\\item[\\$soybean] 246.428571428571\n\\item[\\$sunflower] 328.916666666667\n\\end{description}\n",
            "text/plain": [
              "$casein\n",
              "[1] 323.5833\n",
              "\n",
              "$horsebean\n",
              "[1] 160.2\n",
              "\n",
              "$linseed\n",
              "[1] 218.75\n",
              "\n",
              "$meatmeal\n",
              "[1] 276.9091\n",
              "\n",
              "$soybean\n",
              "[1] 246.4286\n",
              "\n",
              "$sunflower\n",
              "[1] 328.9167\n"
            ]
          },
          "metadata": {}
        }
      ]
    },
    {
      "cell_type": "markdown",
      "metadata": {
        "id": "d571ad44-9a8b-432f-bd5d-5d7642d09411"
      },
      "source": [
        "The average weight of the chickens eating the `casein` feed type was 323.6 g. The average weight of the chickens eating the `soybean` feed type was 246.4 g.\n",
        "\n",
        "We can use the `tapply` function to compute a more complex summary of each group's weights using the `summary` function."
      ]
    },
    {
      "cell_type": "code",
      "execution_count": 48,
      "metadata": {
        "id": "0b55ca76",
        "colab": {
          "base_uri": "https://localhost:8080/",
          "height": 416
        },
        "outputId": "dc0d7c9c-be17-473b-a83e-68597e779cac"
      },
      "outputs": [
        {
          "output_type": "display_data",
          "data": {
            "text/plain": [
              "$casein\n",
              "   Min. 1st Qu.  Median    Mean 3rd Qu.    Max. \n",
              "  216.0   277.2   342.0   323.6   370.8   404.0 \n",
              "\n",
              "$horsebean\n",
              "   Min. 1st Qu.  Median    Mean 3rd Qu.    Max. \n",
              "  108.0   137.0   151.5   160.2   176.2   227.0 \n",
              "\n",
              "$linseed\n",
              "   Min. 1st Qu.  Median    Mean 3rd Qu.    Max. \n",
              "  141.0   178.0   221.0   218.8   257.8   309.0 \n",
              "\n",
              "$meatmeal\n",
              "   Min. 1st Qu.  Median    Mean 3rd Qu.    Max. \n",
              "  153.0   249.5   263.0   276.9   320.0   380.0 \n",
              "\n",
              "$soybean\n",
              "   Min. 1st Qu.  Median    Mean 3rd Qu.    Max. \n",
              "  158.0   206.8   248.0   246.4   270.0   329.0 \n",
              "\n",
              "$sunflower\n",
              "   Min. 1st Qu.  Median    Mean 3rd Qu.    Max. \n",
              "  226.0   312.8   328.0   328.9   340.2   423.0 \n"
            ]
          },
          "metadata": {}
        }
      ],
      "source": [
        "tapply(X = chickwts$weight, INDEX = chickwts$feed, FUN = summary)"
      ]
    },
    {
      "cell_type": "markdown",
      "source": [
        "# <a name=\"quest5\">Question 5</a>\n",
        "\n",
        "---\n",
        "\n",
        "The `dplyr` package contains a data set from the [NOAA Hurricane Best\n",
        "Track Data](https://www.nhc.noaa.gov/data/#hurdat) that contains data on\n",
        "the following attributes of tracked North Atlantic storms since 1975:\n",
        "\n",
        "-   Storm name: `name`\n",
        "-   Date and time: `year`, `month`, `day`, and `hour`\n",
        "-   Storm position: `lat` and `long`\n",
        "-   Storm classification: `status`\n",
        "-   Category of hurricane: `category` (non-hurricanes are `NA`)\n",
        "-   Wind speed (in knots): `wind`\n",
        "-   Pressure (in millibars): `pressure`\n",
        "-   Tropical storm force diameter (in nautical miles): `tropicalstorm_force_diameter`\n",
        "-   Hurricane force diameter (in nautical miles): `hurricane_force_diameter`\n",
        "\n",
        "Use the `tapply` function to:\n",
        "\n",
        "- Calculate the the total number of storms in each `month`.\n",
        "- Pick a separate random sample of $n=10$ `pressure` values for each hurricane `category`. Sample with replacement.\n"
      ],
      "metadata": {
        "id": "r0fj0ehJ4EWm"
      }
    },
    {
      "cell_type": "code",
      "source": [
        "str(storms)"
      ],
      "metadata": {
        "colab": {
          "base_uri": "https://localhost:8080/"
        },
        "id": "46APs88r7IFy",
        "outputId": "755fe0f3-add9-47a1-e82a-074f43e45267"
      },
      "execution_count": null,
      "outputs": [
        {
          "output_type": "stream",
          "name": "stdout",
          "text": [
            "tibble [19,537 × 13] (S3: tbl_df/tbl/data.frame)\n",
            " $ name                        : chr [1:19537] \"Amy\" \"Amy\" \"Amy\" \"Amy\" ...\n",
            " $ year                        : num [1:19537] 1975 1975 1975 1975 1975 ...\n",
            " $ month                       : num [1:19537] 6 6 6 6 6 6 6 6 6 6 ...\n",
            " $ day                         : int [1:19537] 27 27 27 27 28 28 28 28 29 29 ...\n",
            " $ hour                        : num [1:19537] 0 6 12 18 0 6 12 18 0 6 ...\n",
            " $ lat                         : num [1:19537] 27.5 28.5 29.5 30.5 31.5 32.4 33.3 34 34.4 34 ...\n",
            " $ long                        : num [1:19537] -79 -79 -79 -79 -78.8 -78.7 -78 -77 -75.8 -74.8 ...\n",
            " $ status                      : Factor w/ 9 levels \"disturbance\",..: 7 7 7 7 7 7 7 7 8 8 ...\n",
            " $ category                    : num [1:19537] NA NA NA NA NA NA NA NA NA NA ...\n",
            " $ wind                        : int [1:19537] 25 25 25 25 25 25 25 30 35 40 ...\n",
            " $ pressure                    : int [1:19537] 1013 1013 1013 1013 1012 1012 1011 1006 1004 1002 ...\n",
            " $ tropicalstorm_force_diameter: int [1:19537] NA NA NA NA NA NA NA NA NA NA ...\n",
            " $ hurricane_force_diameter    : int [1:19537] NA NA NA NA NA NA NA NA NA NA ...\n"
          ]
        }
      ]
    },
    {
      "cell_type": "code",
      "source": [
        "# calculate the the total number of storms in each month\n"
      ],
      "metadata": {
        "id": "dLY-HRHL9M_c"
      },
      "execution_count": null,
      "outputs": []
    },
    {
      "cell_type": "code",
      "source": [
        "# pick a random sample of pressures for each category\n"
      ],
      "metadata": {
        "id": "ym4iKa2o-JUH"
      },
      "execution_count": null,
      "outputs": []
    },
    {
      "cell_type": "markdown",
      "metadata": {
        "id": "538c1002-79a2-4bfb-82ef-48d7289bc643"
      },
      "source": [
        "## <a name=\"freq-table\">Frequency Table example</a>\n",
        "\n",
        "---\n",
        "\n",
        "We can use the `tapply` function to construct a frequency table for a `numeric` variable based on a set of bins that break the variable into different intervals. Plotting a frequency table produces a histogram.\n",
        "\n",
        "The `faithful` data set in the **datasets** package summarizes the duration and waiting time between eruptions for the Old Faithful geyser in Yellowstone National Park. The data are a data frame with 272 observations of the variables:\n",
        "\n",
        "-   `eruptions`: eruption duration (minutes).\n",
        "-   `waiting`: waiting time until next eruption (minutes).\n",
        "\n",
        "We will create a frequency table for the `eruptions` variable. For simplicity, we start by extracting the `eruptions` variable from the `faithful` data frame."
      ]
    },
    {
      "cell_type": "code",
      "execution_count": 49,
      "metadata": {
        "id": "2272368b"
      },
      "outputs": [],
      "source": [
        "eruptions <- faithful$eruptions"
      ]
    },
    {
      "cell_type": "markdown",
      "metadata": {
        "id": "80628f73-f089-4a0e-a0db-a711b0ec1824"
      },
      "source": [
        "Next, we use the `pretty` function to automatically create breakpoints for the `eruptions` variable.\n",
        "\n",
        "The `pretty` function has two primary arguments:\n",
        "\n",
        "-   `x`: a `numeric` object. The range of the object is used to create the breakpoints.\n",
        "-   `n`: the desired number of intervals to be created. This is often ignored by the function.\n",
        "\n",
        "The `pretty` function attempts to produce a set of “pretty breakpoints” based on `x` and `n`. Run `?pretty` in the Console for more details about this function.\n",
        "\n",
        "We pass `eruptions` to the `pretty` function and ask it to produce approximately 10 intervals."
      ]
    },
    {
      "cell_type": "code",
      "execution_count": 50,
      "metadata": {
        "id": "a47ae127",
        "colab": {
          "base_uri": "https://localhost:8080/",
          "height": 34
        },
        "outputId": "ffa656ec-3da4-4ad6-cc99-9e3e45afbf84"
      },
      "outputs": [
        {
          "output_type": "display_data",
          "data": {
            "text/html": [
              "<style>\n",
              ".list-inline {list-style: none; margin:0; padding: 0}\n",
              ".list-inline>li {display: inline-block}\n",
              ".list-inline>li:not(:last-child)::after {content: \"\\00b7\"; padding: 0 .5ex}\n",
              "</style>\n",
              "<ol class=list-inline><li>1.5</li><li>2</li><li>2.5</li><li>3</li><li>3.5</li><li>4</li><li>4.5</li><li>5</li><li>5.5</li></ol>\n"
            ],
            "text/markdown": "1. 1.5\n2. 2\n3. 2.5\n4. 3\n5. 3.5\n6. 4\n7. 4.5\n8. 5\n9. 5.5\n\n\n",
            "text/latex": "\\begin{enumerate*}\n\\item 1.5\n\\item 2\n\\item 2.5\n\\item 3\n\\item 3.5\n\\item 4\n\\item 4.5\n\\item 5\n\\item 5.5\n\\end{enumerate*}\n",
            "text/plain": [
              "[1] 1.5 2.0 2.5 3.0 3.5 4.0 4.5 5.0 5.5"
            ]
          },
          "metadata": {}
        }
      ],
      "source": [
        "breaks <- pretty(eruptions, n = 10)\n",
        "breaks"
      ]
    },
    {
      "cell_type": "markdown",
      "metadata": {
        "id": "7e62e2be-8448-4f5c-83d2-c095bccbed59"
      },
      "source": [
        "We end up with 9 breakpoints, which will break our `eruptions` into 8 intervals.\n",
        "\n",
        "To use the `tapply` function to count the number of values in each interval, we need to associate each eruption value with a level based on our breakpoints. Instead of using a complex loop with numerous `if` statements to categorize each eruption value, we can use the `cut` function.\n",
        "\n",
        "The `cut` function takes two primary arguments:\n",
        "\n",
        "-   `x`: a numeric vector that is assigned a `factor` label by “cutting”.\n",
        "-   `breaks`: the breakpoints that define the intervals that “cut” `x` into different groups. Each group is assigned a different label.\n",
        "\n",
        "We pass the `eruptions` variable and the `breaks` variable returned by the `pretty` function to `cut` to associate each eruption value with an interval. We assign these labels the name `interval_labels`. We use the `head` function to view the first values in `interval_labels`."
      ]
    },
    {
      "cell_type": "code",
      "execution_count": 51,
      "metadata": {
        "id": "0cab7037",
        "colab": {
          "base_uri": "https://localhost:8080/",
          "height": 52
        },
        "outputId": "4ad2ddcb-5027-47a8-c116-64cf170f6440"
      },
      "outputs": [
        {
          "output_type": "display_data",
          "data": {
            "text/html": [
              "<style>\n",
              ".list-inline {list-style: none; margin:0; padding: 0}\n",
              ".list-inline>li {display: inline-block}\n",
              ".list-inline>li:not(:last-child)::after {content: \"\\00b7\"; padding: 0 .5ex}\n",
              "</style>\n",
              "<ol class=list-inline><li>(3.5,4]</li><li>(1.5,2]</li><li>(3,3.5]</li><li>(2,2.5]</li><li>(4.5,5]</li><li>(2.5,3]</li></ol>\n",
              "\n",
              "<details>\n",
              "\t<summary style=display:list-item;cursor:pointer>\n",
              "\t\t<strong>Levels</strong>:\n",
              "\t</summary>\n",
              "\t<style>\n",
              "\t.list-inline {list-style: none; margin:0; padding: 0}\n",
              "\t.list-inline>li {display: inline-block}\n",
              "\t.list-inline>li:not(:last-child)::after {content: \"\\00b7\"; padding: 0 .5ex}\n",
              "\t</style>\n",
              "\t<ol class=list-inline><li>'(1.5,2]'</li><li>'(2,2.5]'</li><li>'(2.5,3]'</li><li>'(3,3.5]'</li><li>'(3.5,4]'</li><li>'(4,4.5]'</li><li>'(4.5,5]'</li><li>'(5,5.5]'</li></ol>\n",
              "</details>"
            ],
            "text/markdown": "1. (3.5,4]\n2. (1.5,2]\n3. (3,3.5]\n4. (2,2.5]\n5. (4.5,5]\n6. (2.5,3]\n\n\n\n**Levels**: 1. '(1.5,2]'\n2. '(2,2.5]'\n3. '(2.5,3]'\n4. '(3,3.5]'\n5. '(3.5,4]'\n6. '(4,4.5]'\n7. '(4.5,5]'\n8. '(5,5.5]'\n\n\n",
            "text/latex": "\\begin{enumerate*}\n\\item (3.5,4{]}\n\\item (1.5,2{]}\n\\item (3,3.5{]}\n\\item (2,2.5{]}\n\\item (4.5,5{]}\n\\item (2.5,3{]}\n\\end{enumerate*}\n\n\\emph{Levels}: \\begin{enumerate*}\n\\item '(1.5,2{]}'\n\\item '(2,2.5{]}'\n\\item '(2.5,3{]}'\n\\item '(3,3.5{]}'\n\\item '(3.5,4{]}'\n\\item '(4,4.5{]}'\n\\item '(4.5,5{]}'\n\\item '(5,5.5{]}'\n\\end{enumerate*}\n",
            "text/plain": [
              "[1] (3.5,4] (1.5,2] (3,3.5] (2,2.5] (4.5,5] (2.5,3]\n",
              "Levels: (1.5,2] (2,2.5] (2.5,3] (3,3.5] (3.5,4] (4,4.5] (4.5,5] (5,5.5]"
            ]
          },
          "metadata": {}
        }
      ],
      "source": [
        "interval_labels <- cut(eruptions, breaks)\n",
        "head(interval_labels)"
      ]
    },
    {
      "cell_type": "markdown",
      "metadata": {
        "id": "3843c68d-7e7b-47be-8386-4cecd8bb7ac3"
      },
      "source": [
        "The first eruption value was in the interval (3.5, 4), the second in the interval (1.5, 2\\], the third in the interval (3, 3.5\\], etc.\n",
        "\n",
        "Now, we use `tapply` to break the `eruptions` variable into 8 groups based on `interval_labels`, then use the `length` function to determine the number of eruption durations in each interval (which is the number of values observed in that interval)."
      ]
    },
    {
      "cell_type": "code",
      "execution_count": 52,
      "metadata": {
        "id": "577b8d30",
        "colab": {
          "base_uri": "https://localhost:8080/",
          "height": 34
        },
        "outputId": "49f39ae4-b8f2-4dca-aa2f-348162a4ad28"
      },
      "outputs": [
        {
          "output_type": "display_data",
          "data": {
            "text/html": [
              "<style>\n",
              ".dl-inline {width: auto; margin:0; padding: 0}\n",
              ".dl-inline>dt, .dl-inline>dd {float: none; width: auto; display: inline-block}\n",
              ".dl-inline>dt::after {content: \":\\0020\"; padding-right: .5ex}\n",
              ".dl-inline>dt:not(:first-of-type) {padding-left: .5ex}\n",
              "</style><dl class=dl-inline><dt>(1.5,2]</dt><dd>55</dd><dt>(2,2.5]</dt><dd>37</dd><dt>(2.5,3]</dt><dd>5</dd><dt>(3,3.5]</dt><dd>9</dd><dt>(3.5,4]</dt><dd>34</dd><dt>(4,4.5]</dt><dd>75</dd><dt>(4.5,5]</dt><dd>54</dd><dt>(5,5.5]</dt><dd>3</dd></dl>\n"
            ],
            "text/markdown": "(1.5,2]\n:   55(2,2.5]\n:   37(2.5,3]\n:   5(3,3.5]\n:   9(3.5,4]\n:   34(4,4.5]\n:   75(4.5,5]\n:   54(5,5.5]\n:   3\n\n",
            "text/latex": "\\begin{description*}\n\\item[(1.5,2\\{{]}\\}] 55\n\\item[(2,2.5\\{{]}\\}] 37\n\\item[(2.5,3\\{{]}\\}] 5\n\\item[(3,3.5\\{{]}\\}] 9\n\\item[(3.5,4\\{{]}\\}] 34\n\\item[(4,4.5\\{{]}\\}] 75\n\\item[(4.5,5\\{{]}\\}] 54\n\\item[(5,5.5\\{{]}\\}] 3\n\\end{description*}\n",
            "text/plain": [
              "(1.5,2] (2,2.5] (2.5,3] (3,3.5] (3.5,4] (4,4.5] (4.5,5] (5,5.5] \n",
              "     55      37       5       9      34      75      54       3 "
            ]
          },
          "metadata": {}
        }
      ],
      "source": [
        "count <- tapply(eruptions, interval_labels, length)\n",
        "count"
      ]
    },
    {
      "cell_type": "markdown",
      "metadata": {
        "id": "7ac6ce81-cc83-4aee-8bba-d6ff23e7f10e"
      },
      "source": [
        "There were 55 eruptions that lasted between 1.5 and 2 minutes. There were 37 eruptions that lasted between 2 and 2.5 minutes, etc.\n",
        "\n"
      ]
    },
    {
      "cell_type": "markdown",
      "source": [
        "# <a name=\"mapply\">The `mapply` Function</a>\n",
        "\n",
        "---\n",
        "\n",
        "The `mapply` function is intended to be a multivariate version of `sapply`. More specifically, it will vectorize over multiple arguments instead of a single one. The main arguments of the `mapply` function are:\n",
        "\n",
        "-   `FUN`: the function that will be applied to the arguments being vectorized over.\n",
        "-   `...`: the arguments to be vectorized over.\n",
        "-   `MoreArgs`: a `list` with named elements that supply additional arguments need for `FUN`.\n",
        "- There are also `SIMPLIFY` and `USE.NAMES` arguments that we do not discuss.\n",
        "- Run `?mapply` in a code cell for more details.\n",
        "\n",
        "The `mapply` function is more complicated than the other `*apply` functions. It is less frequently used since there are often simpler ways to solve the problem that do not require the complexity of `mapply`. We will walk through a trivial example that uses `mapply`.\n",
        "\n",
        "Suppose we have two vectors of the same size. The first vector contains the initials of several individuals. The second vector contains the initials of their sibling."
      ],
      "metadata": {
        "id": "-yLTYrLsEXOH"
      }
    },
    {
      "cell_type": "code",
      "execution_count": 53,
      "metadata": {
        "id": "a2133a6c"
      },
      "outputs": [],
      "source": [
        "sibling1 <- c(\"PM\", \"JI\", \"RX\", \"HP\", \"XE\")"
      ]
    },
    {
      "cell_type": "code",
      "execution_count": 54,
      "metadata": {
        "id": "743cedf9"
      },
      "outputs": [],
      "source": [
        "sibling2 <- c(\"QN\", \"AA\", \"OJ\", \"DD\", \"GD\")"
      ]
    },
    {
      "cell_type": "markdown",
      "metadata": {
        "id": "d1e3e8f9-b705-4c48-b5be-5732be9cf7d1"
      },
      "source": [
        "We will use `mapply` to `paste` the names together. We set `USE.NAMES` to `FALSE` for better formatting."
      ]
    },
    {
      "cell_type": "code",
      "execution_count": 55,
      "metadata": {
        "id": "c65c81c9",
        "colab": {
          "base_uri": "https://localhost:8080/",
          "height": 34
        },
        "outputId": "d8bb6529-03f7-4792-c307-375c1853fefe"
      },
      "outputs": [
        {
          "output_type": "display_data",
          "data": {
            "text/html": [
              "<style>\n",
              ".list-inline {list-style: none; margin:0; padding: 0}\n",
              ".list-inline>li {display: inline-block}\n",
              ".list-inline>li:not(:last-child)::after {content: \"\\00b7\"; padding: 0 .5ex}\n",
              "</style>\n",
              "<ol class=list-inline><li>'PM QN'</li><li>'JI AA'</li><li>'RX OJ'</li><li>'HP DD'</li><li>'XE GD'</li></ol>\n"
            ],
            "text/markdown": "1. 'PM QN'\n2. 'JI AA'\n3. 'RX OJ'\n4. 'HP DD'\n5. 'XE GD'\n\n\n",
            "text/latex": "\\begin{enumerate*}\n\\item 'PM QN'\n\\item 'JI AA'\n\\item 'RX OJ'\n\\item 'HP DD'\n\\item 'XE GD'\n\\end{enumerate*}\n",
            "text/plain": [
              "[1] \"PM QN\" \"JI AA\" \"RX OJ\" \"HP DD\" \"XE GD\""
            ]
          },
          "metadata": {}
        }
      ],
      "source": [
        "mapply(FUN = paste, sibling1, sibling2, USE.NAMES = FALSE)"
      ]
    },
    {
      "cell_type": "markdown",
      "metadata": {
        "id": "c0b969d4-8b27-4cb8-b003-873d4cf7aceb"
      },
      "source": [
        "This worked as expected, but the formatting is unpleasant.\n",
        "\n",
        "We can improve the formatting of our result by changing the `sep` argument of `paste` to `\" + \"` or `\" and \"`. We can accomplish this change by passing this information in a named list through the `MoreArgs` argument."
      ]
    },
    {
      "cell_type": "code",
      "execution_count": 56,
      "metadata": {
        "id": "6cdadded",
        "colab": {
          "base_uri": "https://localhost:8080/",
          "height": 34
        },
        "outputId": "a1e5c7ed-2ae7-47f0-c92c-82a3988c8ece"
      },
      "outputs": [
        {
          "output_type": "display_data",
          "data": {
            "text/html": [
              "<style>\n",
              ".list-inline {list-style: none; margin:0; padding: 0}\n",
              ".list-inline>li {display: inline-block}\n",
              ".list-inline>li:not(:last-child)::after {content: \"\\00b7\"; padding: 0 .5ex}\n",
              "</style>\n",
              "<ol class=list-inline><li>'PM + QN'</li><li>'JI + AA'</li><li>'RX + OJ'</li><li>'HP + DD'</li><li>'XE + GD'</li></ol>\n"
            ],
            "text/markdown": "1. 'PM + QN'\n2. 'JI + AA'\n3. 'RX + OJ'\n4. 'HP + DD'\n5. 'XE + GD'\n\n\n",
            "text/latex": "\\begin{enumerate*}\n\\item 'PM + QN'\n\\item 'JI + AA'\n\\item 'RX + OJ'\n\\item 'HP + DD'\n\\item 'XE + GD'\n\\end{enumerate*}\n",
            "text/plain": [
              "[1] \"PM + QN\" \"JI + AA\" \"RX + OJ\" \"HP + DD\" \"XE + GD\""
            ]
          },
          "metadata": {}
        }
      ],
      "source": [
        "mapply(FUN = paste, sibling1, sibling2, MoreArgs = list(sep = \" + \"), USE.NAMES = FALSE)"
      ]
    },
    {
      "cell_type": "code",
      "execution_count": 57,
      "metadata": {
        "id": "a72470cd",
        "colab": {
          "base_uri": "https://localhost:8080/",
          "height": 34
        },
        "outputId": "277dc62e-83d6-4bcf-837b-908b83742b49"
      },
      "outputs": [
        {
          "output_type": "display_data",
          "data": {
            "text/html": [
              "<style>\n",
              ".list-inline {list-style: none; margin:0; padding: 0}\n",
              ".list-inline>li {display: inline-block}\n",
              ".list-inline>li:not(:last-child)::after {content: \"\\00b7\"; padding: 0 .5ex}\n",
              "</style>\n",
              "<ol class=list-inline><li>'PM and QN'</li><li>'JI and AA'</li><li>'RX and OJ'</li><li>'HP and DD'</li><li>'XE and GD'</li></ol>\n"
            ],
            "text/markdown": "1. 'PM and QN'\n2. 'JI and AA'\n3. 'RX and OJ'\n4. 'HP and DD'\n5. 'XE and GD'\n\n\n",
            "text/latex": "\\begin{enumerate*}\n\\item 'PM and QN'\n\\item 'JI and AA'\n\\item 'RX and OJ'\n\\item 'HP and DD'\n\\item 'XE and GD'\n\\end{enumerate*}\n",
            "text/plain": [
              "[1] \"PM and QN\" \"JI and AA\" \"RX and OJ\" \"HP and DD\" \"XE and GD\""
            ]
          },
          "metadata": {}
        }
      ],
      "source": [
        "mapply(FUN = paste, sibling1, sibling2, MoreArgs = list(sep = \" and \"), USE.NAMES = FALSE)"
      ]
    },
    {
      "cell_type": "markdown",
      "metadata": {
        "id": "7f66df8b-75da-44f6-a470-09a0147ab20b"
      },
      "source": [
        "Note that we must name any arguments provided after `...` in a function. The reason for this is that, otherwise, the arguments after `...` are assumed to be something intended to be passed through `...`.\n",
        "\n",
        "This is why the code below doesn't work as intended."
      ]
    },
    {
      "cell_type": "code",
      "execution_count": 58,
      "metadata": {
        "id": "2beab2c9",
        "colab": {
          "base_uri": "https://localhost:8080/",
          "height": 34
        },
        "outputId": "f6a090e4-6002-4e79-8d6b-6218fa5920e7"
      },
      "outputs": [
        {
          "output_type": "display_data",
          "data": {
            "text/html": [
              "<style>\n",
              ".dl-inline {width: auto; margin:0; padding: 0}\n",
              ".dl-inline>dt, .dl-inline>dd {float: none; width: auto; display: inline-block}\n",
              ".dl-inline>dt::after {content: \":\\0020\"; padding-right: .5ex}\n",
              ".dl-inline>dt:not(:first-of-type) {padding-left: .5ex}\n",
              "</style><dl class=dl-inline><dt>PM</dt><dd><span style=white-space:pre-wrap>'PM QN  and  FALSE'</span></dd><dt>JI</dt><dd><span style=white-space:pre-wrap>'JI AA  and  FALSE'</span></dd><dt>RX</dt><dd><span style=white-space:pre-wrap>'RX OJ  and  FALSE'</span></dd><dt>HP</dt><dd><span style=white-space:pre-wrap>'HP DD  and  FALSE'</span></dd><dt>XE</dt><dd><span style=white-space:pre-wrap>'XE GD  and  FALSE'</span></dd></dl>\n"
            ],
            "text/markdown": "PM\n:   <span style=white-space:pre-wrap>'PM QN  and  FALSE'</span>JI\n:   <span style=white-space:pre-wrap>'JI AA  and  FALSE'</span>RX\n:   <span style=white-space:pre-wrap>'RX OJ  and  FALSE'</span>HP\n:   <span style=white-space:pre-wrap>'HP DD  and  FALSE'</span>XE\n:   <span style=white-space:pre-wrap>'XE GD  and  FALSE'</span>\n\n",
            "text/latex": "\\begin{description*}\n\\item[PM] 'PM QN  and  FALSE'\n\\item[JI] 'JI AA  and  FALSE'\n\\item[RX] 'RX OJ  and  FALSE'\n\\item[HP] 'HP DD  and  FALSE'\n\\item[XE] 'XE GD  and  FALSE'\n\\end{description*}\n",
            "text/plain": [
              "                 PM                  JI                  RX                  HP \n",
              "\"PM QN  and  FALSE\" \"JI AA  and  FALSE\" \"RX OJ  and  FALSE\" \"HP DD  and  FALSE\" \n",
              "                 XE \n",
              "\"XE GD  and  FALSE\" "
            ]
          },
          "metadata": {}
        }
      ],
      "source": [
        "mapply(FUN = paste, sibling1, sibling2, list(sep = \" and \"), FALSE)"
      ]
    },
    {
      "cell_type": "markdown",
      "metadata": {
        "id": "ae8894a5-5cbf-41a2-9710-64e0bcedb273"
      },
      "source": [
        "What is actually happening is that `\" and \"` and `\"FALSE\"` are being passed into `paste` with the values from `sibling1` and `sibling2`, which then pastes the four individual character strings into a single string.\n",
        "\n"
      ]
    },
    {
      "cell_type": "markdown",
      "source": [
        "# <a name=\"parallel\">Parallel Computing and `*apply` Functions</a>\n",
        "\n",
        "---\n",
        "\n",
        "We can sometimes speed up the computations performed by an `*apply` function using parallel processing (processing multiple tasks *in parallel* instead of one-at-a-time).\n",
        "\n",
        "Parallel processing is particularly helpful with using `lapply`, `sapply`, or `vapply` to perform complex analysis on a sequence of simulated data sets. The analysis can be performed on each simulated data set separately, which means the operation can be parallelized.\n",
        "\n",
        "We provide small examples to illustrate the advantages of parallel computing when using `*apply` functions.\n",
        "\n",
        "We start by creating a simple function, `sleep_iterator`.\n",
        "\n",
        "-   The function takes the argument `i`, which is not used in the function, so that it is compatible with the `lapply` function.\n",
        "-   Inside the function, we use `Sys.sleep(1)` to pause for one second.\n",
        "-   We have the function return `NULL`.\n",
        "\n",
        "We define `sleep_iterator` below."
      ],
      "metadata": {
        "id": "LATWOtzVEfSw"
      }
    },
    {
      "cell_type": "code",
      "execution_count": 59,
      "metadata": {
        "id": "7813ba14"
      },
      "outputs": [],
      "source": [
        "sleep_iterator <- function(i) {\n",
        "  Sys.sleep(1) # sleep for 1 second\n",
        "  return(NULL) # return NULL\n",
        "}"
      ]
    },
    {
      "cell_type": "markdown",
      "metadata": {
        "id": "786ace3e-d774-40e0-8fff-36a804ffe107"
      },
      "source": [
        "Next, we use the `lapply` function to run `sleep_iterator` 6 times.\n",
        "\n",
        "-   `lapply` will run `sleep_iterator` for `i = 1`, `2`, `...`, `6`.\n",
        "-   We time the operations performed by `lapply` using `system.time`.\n",
        "\n",
        "Unsurprisingly, applying `sleep_iterator` six times results in an elapsed time of about 6 seconds since we pause for 1 second for each of the six values of `i`."
      ]
    },
    {
      "cell_type": "code",
      "execution_count": 60,
      "metadata": {
        "id": "b65a0ceb",
        "colab": {
          "base_uri": "https://localhost:8080/",
          "height": 52
        },
        "outputId": "d1e00045-3b48-48a5-eab6-dc599aeae847"
      },
      "outputs": [
        {
          "output_type": "display_data",
          "data": {
            "text/plain": [
              "   user  system elapsed \n",
              "  0.004   0.000   6.010 "
            ]
          },
          "metadata": {}
        }
      ],
      "source": [
        "system.time(lapply(1:6, sleep_iterator))"
      ]
    },
    {
      "cell_type": "markdown",
      "metadata": {
        "id": "fac21c58-35af-4c65-b438-7a7e27ae785c"
      },
      "source": [
        "## <a name=\"parallel-pack\">The `parallel` Package</a>\n",
        "\n",
        "---\n",
        "\n",
        "The [`parallel` package](https://stat.ethz.ch/R-manual/R-devel/library/parallel/doc/parallel.pdf) (R Core Team 2025) provides parallelized equivalents of several `*apply` functions.\n",
        "\n",
        "-   `parApply` is a parallelized version of `apply`.\n",
        "-   `parLapply` is a parallelized version of `lapply`.\n",
        "-   `parSapply` is a parallelized version of `sapply`.\n",
        "\n",
        "Run `?clusterApply` to see additional details about these and related parallelized functions."
      ]
    },
    {
      "cell_type": "code",
      "execution_count": null,
      "metadata": {
        "id": "2fe3dd1f"
      },
      "outputs": [],
      "source": [
        "# run only if you have not already loaded parallel package\n",
        "#library(parallel)"
      ]
    },
    {
      "cell_type": "code",
      "source": [
        "?clusterApply"
      ],
      "metadata": {
        "id": "HRkBMXeOB8It"
      },
      "execution_count": 61,
      "outputs": []
    },
    {
      "cell_type": "markdown",
      "metadata": {
        "id": "5d0a5b83-290b-4a17-9699-6e11f76256f2"
      },
      "source": [
        "The available options and behavior for performing parallel processing depends on our computer's operating system. For example, it is easier to perform parallel computing on Macs and Linux computers. Windows computers cannot run forked processes through R.\n",
        "\n",
        "We want to use `parLapply` to run `sleep_iterator` 6 times using parallel processing. The primary arguments of `parLapply` are:\n",
        "\n",
        "-   `cl`: a cluster object returned by the `makeCluster` function that defines how the processes will be run in parallel.\n",
        "-   `X`: the atomic vector or list to be iterated over.\n",
        "-   `fun`: the function to be applied to each element of `X`.\n",
        "-   `...`: additional arguments to be passed to `fun`.\n",
        "\n",
        "We use `makeCluster` to setup a parallel processing approach that runs 2 processes in parallel. The code works in Colab and should be general that it will work on Windows, Mac, or Linux computers if running the notebook locally instead of in the cloud.\n",
        "\n",
        "A CPU core is a physical processing unit within a processor (CPU) that can independently execute code. Multiple cores enable a computer to perform multiple tasks in parallel."
      ]
    },
    {
      "cell_type": "code",
      "source": [
        "# check number of cores available in Colab or on computer\n",
        "detectCores()"
      ],
      "metadata": {
        "colab": {
          "base_uri": "https://localhost:8080/",
          "height": 34
        },
        "id": "1wLL8GmYy4sa",
        "outputId": "24b7817a-10eb-4798-9101-949bcc375e20"
      },
      "execution_count": 62,
      "outputs": [
        {
          "output_type": "display_data",
          "data": {
            "text/html": [
              "2"
            ],
            "text/markdown": "2",
            "text/latex": "2",
            "text/plain": [
              "[1] 2"
            ]
          },
          "metadata": {}
        }
      ]
    },
    {
      "cell_type": "code",
      "execution_count": 63,
      "metadata": {
        "id": "cda82af5"
      },
      "outputs": [],
      "source": [
        "cl <- makeCluster(getOption(\"cl.cores\", 2))"
      ]
    },
    {
      "cell_type": "markdown",
      "metadata": {
        "id": "1cefbaef-4f5b-46e9-adc0-9f164d324058"
      },
      "source": [
        "We once again use `system.time` to time how long it takes to run `sleep_iterator` 6 times."
      ]
    },
    {
      "cell_type": "code",
      "execution_count": 66,
      "metadata": {
        "id": "055a40f7",
        "colab": {
          "base_uri": "https://localhost:8080/",
          "height": 52
        },
        "outputId": "8a8def17-655d-4c5b-de9c-182530302a83"
      },
      "outputs": [
        {
          "output_type": "display_data",
          "data": {
            "text/plain": [
              "   user  system elapsed \n",
              "  0.003   0.000   3.006 "
            ]
          },
          "metadata": {}
        }
      ],
      "source": [
        "system.time(parLapply(cl, 1:6, sleep_iterator))"
      ]
    },
    {
      "cell_type": "markdown",
      "metadata": {
        "id": "7e3b2be9-df55-4c68-8c0f-c97faccc8c52"
      },
      "source": [
        "Since we are running `sleep_iterator` in parallel using 2 processes, it only takes about 3 seconds to complete our computations instead of the original 6 seconds!\n",
        "\n",
        "\n"
      ]
    },
    {
      "cell_type": "markdown",
      "source": [
        "## <a name=\"future-apply\">The `future.apply` Package</a>\n",
        "\n",
        "---\n",
        "\n",
        "The [`future.apply` package](https://cran.r-project.org/web/packages/future.apply/index.html) (Bengtsson 2024) provides parallelized implementations of several `*apply` functions. The advantage of the `future.apply` package is that code can be created that generalizes from being “evaluated on the local machine, in parallel a set of local machines, or distributed on a mix of local and remote machines” Bengtsson (2021).\n"
      ],
      "metadata": {
        "id": "QyyhRq__nOXd"
      }
    },
    {
      "cell_type": "code",
      "execution_count": null,
      "metadata": {
        "id": "fa1badd6"
      },
      "outputs": [],
      "source": [
        "# run only if you have not already loaded future.apply package\n",
        "#install.packages(\"future.apply\")\n",
        "#library(future.apply)"
      ]
    },
    {
      "cell_type": "markdown",
      "metadata": {
        "id": "bc678b10-9a25-4b57-a8d2-411dd2b9da2b"
      },
      "source": [
        "To perform a parallelized operation using `future.apply`, we must use the `plan` function to describe how we want the parallel processing to be performed.\n",
        "\n",
        "The code below sets up a plan to run 2 processes in parallel using a `\"multisession\"` approach. Run `?plan` in the Console for more details."
      ]
    },
    {
      "cell_type": "code",
      "execution_count": 67,
      "metadata": {
        "id": "65ed1a6f"
      },
      "outputs": [],
      "source": [
        "plan(multisession, workers = 2)"
      ]
    },
    {
      "cell_type": "markdown",
      "metadata": {
        "id": "1e4a5e8f-512b-43fa-ba1a-61fb5e41ba36"
      },
      "source": [
        "Finally, we use the `future_lapply` function to run the `sleep_iterator` function 6 times. The function works identically to the `lapply` function, but uses the parallelization plan to speed up the computations. Similar to before, it only takes about 3 seconds to run the `sleep_iterator` function 6 times because we are running two processes in parallel."
      ]
    },
    {
      "cell_type": "code",
      "execution_count": 69,
      "metadata": {
        "id": "a14771b7",
        "colab": {
          "base_uri": "https://localhost:8080/",
          "height": 52
        },
        "outputId": "dc848b57-148a-4d4f-a8c2-24fd9e44828e"
      },
      "outputs": [
        {
          "output_type": "display_data",
          "data": {
            "text/plain": [
              "   user  system elapsed \n",
              "  0.491   0.021   3.306 "
            ]
          },
          "metadata": {}
        }
      ],
      "source": [
        "system.time(future_lapply(1:6, FUN = sleep_iterator))"
      ]
    },
    {
      "cell_type": "markdown",
      "metadata": {
        "id": "ecdcf8a2-589c-419d-9072-c6a4cac7500d"
      },
      "source": [
        "## <a name=\"pbapply\">The `pbapply` Package</a>\n",
        "\n",
        "---\n",
        "\n",
        "The [`pbapply` package](https://cran.r-project.org/web/packages/pbapply/index.html) (Solymos and Zawadzki 2023) creates equivalents of many `*apply` functions that add progress bars showing the time remaining to complete the computation.\n",
        "\n",
        "-   Many of these functions are equipped to use parallel processing through the `parallel` package.\n",
        "  - We must set the `cl` argument with a `makeCluster` object to use this functionality.\n",
        "-   Run `?pbapply` in a code cell for a complete list of available functions."
      ]
    },
    {
      "cell_type": "code",
      "execution_count": null,
      "metadata": {
        "id": "dc57f30d"
      },
      "outputs": [],
      "source": [
        "# run only if you have not already loaded pbapply package\n",
        "#install.packages(\"pbapply\")\n",
        "#library(pbapply)"
      ]
    },
    {
      "cell_type": "markdown",
      "metadata": {
        "id": "9d3f3753-0cac-4f29-bdf0-29f30c7d8a0a"
      },
      "source": [
        "The `pblapply` function is an equivalent of `lapply` that includes a progress bar. *The progress bar will not display if running in Colab.* We can provide a cluster object from the `makeCluster` function to perform the computations in parallel.\n",
        "\n",
        "We use `pblapply` to run `sleep_iterator` 6 times. We use the previously created cluster object, `cl`, which runs 2 processes in parallel. Similar to before, our code runs in about 3 seconds while also showing a progress bar."
      ]
    },
    {
      "cell_type": "code",
      "execution_count": 70,
      "metadata": {
        "id": "af05f4de",
        "colab": {
          "base_uri": "https://localhost:8080/",
          "height": 52
        },
        "outputId": "7d88addf-7e2b-4606-9ebd-92a4da375f88"
      },
      "outputs": [
        {
          "output_type": "display_data",
          "data": {
            "text/plain": [
              "   user  system elapsed \n",
              "  0.002   0.001   3.006 "
            ]
          },
          "metadata": {}
        }
      ],
      "source": [
        "system.time(pblapply(1:6, FUN = sleep_iterator, cl = cl))"
      ]
    },
    {
      "cell_type": "markdown",
      "source": [
        "## <a name=\"CC License\">Creative Commons License Information</a>\n",
        "---\n",
        "\n",
        "![Creative Commons\n",
        "License](https://i.creativecommons.org/l/by-nc-sa/4.0/88x31.png)\n",
        "\n",
        "Materials created by the [Department of Mathematical and Statistical Sciences at the University of Colorado Denver](https://github.com/CU-Denver-MathStats-OER/)\n",
        "and is licensed under a [Creative Commons\n",
        "Attribution-NonCommercial-ShareAlike 4.0 International\n",
        "License](http://creativecommons.org/licenses/by-nc-sa/4.0/)."
      ],
      "metadata": {
        "id": "WS8w_KQF5ym4"
      }
    }
  ]
}